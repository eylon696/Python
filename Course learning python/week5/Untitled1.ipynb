{
 "cells": [
  {
   "cell_type": "code",
   "execution_count": null,
   "metadata": {},
   "outputs": [],
   "source": [
    "# Upload 72\n",
    "def check_if_the_msg_in_line(line):\n",
    "    msg = ''\n",
    "    flag = 1\n",
    "    line = line.split('\\\\')\n",
    "    for word in line:\n",
    "        if '!' in word:\n",
    "            flag = 1\n",
    "            msg = ''\n",
    "            index = word.index('!') - 1\n",
    "            while flag:\n",
    "                temp = word[index]\n",
    "                if (temp.islower()):\n",
    "                    msg += word[index]\n",
    "                else:\n",
    "                    length_msg = len(msg)\n",
    "                    if msg == '' or length_msg < 5:\n",
    "                        flag = 0\n",
    "                    else:\n",
    "                        flag = 0\n",
    "                        print(msg[::-1])\n",
    "                index -= 1\n",
    "\n",
    "\n",
    "with open('resources/logo.jpg', 'rb') as file_binary:\n",
    "    text_binary = file_binary.readlines()\n",
    "i = 0\n",
    "for line in text_binary:\n",
    "    line = str(line)\n",
    "    check_if_the_msg_in_line(line)\n",
    "# python isawesome welldone goodjob"
   ]
  }
 ],
 "metadata": {
  "kernelspec": {
   "display_name": "Python 3",
   "language": "python",
   "name": "python3"
  },
  "language_info": {
   "codemirror_mode": {
    "name": "ipython",
    "version": 3
   },
   "file_extension": ".py",
   "mimetype": "text/x-python",
   "name": "python",
   "nbconvert_exporter": "python",
   "pygments_lexer": "ipython3",
   "version": "3.7.6"
  }
 },
 "nbformat": 4,
 "nbformat_minor": 4
}
