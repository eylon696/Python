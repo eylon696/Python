{
 "cells": [
  {
   "cell_type": "code",
   "execution_count": null,
   "metadata": {},
   "outputs": [],
   "source": [
    "# Upload 98\n",
    "# Reupload 98\n",
    "def add(num1, num2):      \n",
    "    return num1 + num2\n",
    "\n",
    "\n",
    "def subtract(num1, num2):\n",
    "    return num1 - num2\n",
    "\n",
    "\n",
    "def multiply(num1, num2):\n",
    "    return num1 * num2\n",
    "\n",
    "\n",
    "def divide(num1, num2):\n",
    "    return num1 / num2\n",
    "\n",
    "\n",
    "def calc(num1, num2, operator):\n",
    "    if operator == '+':\n",
    "        return add(num1, num2)\n",
    "    elif operator == '-':\n",
    "        return subtract(num1, num2)\n",
    "    elif operator == '*':\n",
    "        return multiply(num1, num2)\n",
    "    elif operator == '/':\n",
    "        return divide(num1, num2)\n",
    "    return None\n",
    "\n",
    "\n",
    "dict_calc = {'+': calc, '-': calc, '*': calc, '/': calc}\n",
    "for key in dict_calc:\n",
    "    math_function = dict_calc.get(key)\n",
    "    print(math_function(5, 2, key))\n",
    "    "
   ]
  }
 ],
 "metadata": {
  "kernelspec": {
   "display_name": "Python 3",
   "language": "python",
   "name": "python3"
  },
  "language_info": {
   "codemirror_mode": {
    "name": "ipython",
    "version": 3
   },
   "file_extension": ".py",
   "mimetype": "text/x-python",
   "name": "python",
   "nbconvert_exporter": "python",
   "pygments_lexer": "ipython3",
   "version": "3.7.6"
  }
 },
 "nbformat": 4,
 "nbformat_minor": 4
}
