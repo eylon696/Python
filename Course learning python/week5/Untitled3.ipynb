{
 "cells": [
  {
   "cell_type": "code",
   "execution_count": 4,
   "metadata": {},
   "outputs": [
    {
     "name": "stdout",
     "output_type": "stream",
     "text": [
      "104743\n"
     ]
    }
   ],
   "source": [
    "# the 10001 prime number is ??\n",
    "def is_prime_number(number):\n",
    "    is_prime = True\n",
    "    counter = 2\n",
    "    while counter < number and is_prime:\n",
    "        if number % counter != 0:\n",
    "            counter += 1\n",
    "        else:\n",
    "            is_prime = False\n",
    "    return is_prime\n",
    "\n",
    "\n",
    "def prime_number_x(limit):\n",
    "    numbers = 2\n",
    "    steps = 0\n",
    "    while steps < limit:  \n",
    "        if is_prime_number(numbers):\n",
    "            steps += 1\n",
    "        numbers += 1\n",
    "    return numbers - 1\n",
    "    \n",
    "limit = 10001\n",
    "print(prime_number_x(limit))"
   ]
  },
  {
   "cell_type": "code",
   "execution_count": 3,
   "metadata": {},
   "outputs": [
    {
     "data": {
      "text/plain": [
       "False"
      ]
     },
     "execution_count": 3,
     "metadata": {},
     "output_type": "execute_result"
    }
   ],
   "source": [
    "# palindrome\n",
    "def palindrome(string):\n",
    "    return string[:] == string[::-1]\n",
    "\n",
    "# בצורה רקורסיבית\n",
    "def palindrome_recorsivi(string):\n",
    "    if len(string) == 1 or len(string) == 0:\n",
    "        return True\n",
    "    if string[0] == string[-1]:\n",
    "        return palindrom_recorsivi[string[1:-1]]\n",
    "    return False\n",
    "\n",
    "palindrome('string')"
   ]
  },
  {
   "cell_type": "code",
   "execution_count": null,
   "metadata": {},
   "outputs": [],
   "source": [
    "# Upload 90\n",
    "import datetime\n",
    "import random\n",
    "\n",
    "STUDENTS = 23\n",
    "CLASSROOM = 10000\n",
    "\n",
    "\n",
    "def random_date(date_time_obj_one, date_time_obj_two):\n",
    "    \"\"\"\n",
    "    This function will return a random datetime between two datetimev\n",
    "    objects by turning the date into seconds .\n",
    "    \"\"\"\n",
    "    delta = date_time_obj_two - date_time_obj_one\n",
    "    int_delta = (delta.days * 24 * 60 * 60)\n",
    "    random_second = random.randrange(int_delta)\n",
    "    return date_time_obj_one + datetime.timedelta(seconds=random_second)\n",
    "\n",
    "\n",
    "def lottery_date(date_one, date_two):\n",
    "    date_time_obj_one = datetime.datetime.strptime(date_one, '%Y')\n",
    "    date_time_obj_two = datetime.datetime.strptime(date_two, '%Y')\n",
    "    lottery = random_date(date_time_obj_one, date_time_obj_two)\n",
    "    return(lottery.strftime(\"%m-%d\"))\n",
    "\n",
    "\n",
    "def birthday_paradox(date_one, date_two, students):\n",
    "    j = 0\n",
    "    counter_of_same_date_in_different_class = 0\n",
    "    while j < CLASSROOM:\n",
    "        i = 0\n",
    "        list_of_birthday = []\n",
    "        flag_mark_class = False\n",
    "        while i < students:\n",
    "            temp_date = lottery_date(date_one, date_two)\n",
    "            if temp_date in list_of_birthday:\n",
    "                flag_mark_class = True\n",
    "            list_of_birthday.append(temp_date)\n",
    "            i += 1\n",
    "        if flag_mark_class:\n",
    "            counter_of_same_date_in_different_class += 1\n",
    "        j += 1\n",
    "    return counter_of_same_date_in_different_class\n",
    "\n",
    "\n",
    "date_one = input(\"Please insert a start year from this pattern: YYYY \")\n",
    "date_two = input(\"Please insert a end date from this pattern: YYYY \")\n",
    "print((birthday_paradox(date_one, date_two, STUDENTS) / CLASSROOM) * 100)\n",
    "for students in range(1, 367):\n",
    "    print(f'For {students} students The percentage of classrooms marked 2 birthdays by date is: ' + str((birthday_paradox(date_one, date_two, students) / CLASSROOM) * 100) + '%')"
   ]
  }
 ],
 "metadata": {
  "kernelspec": {
   "display_name": "Python 3",
   "language": "python",
   "name": "python3"
  },
  "language_info": {
   "codemirror_mode": {
    "name": "ipython",
    "version": 3
   },
   "file_extension": ".py",
   "mimetype": "text/x-python",
   "name": "python",
   "nbconvert_exporter": "python",
   "pygments_lexer": "ipython3",
   "version": "3.7.6"
  }
 },
 "nbformat": 4,
 "nbformat_minor": 4
}
