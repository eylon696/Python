{
 "cells": [
  {
   "cell_type": "markdown",
   "metadata": {},
   "source": [
    "<img src=\"images/logo.jpg\" style=\"display: block; margin-left: auto; margin-right: auto;\" alt=\"לוגו של מיזם לימוד הפייתון. נחש מצויר בצבעי צהוב וכחול, הנע בין האותיות של שם הקורס: לומדים פייתון. הסלוגן המופיע מעל לשם הקורס הוא מיזם חינמי ללימוד תכנות בעברית.\">"
   ]
  },
  {
   "cell_type": "markdown",
   "metadata": {},
   "source": [
    "# <span style=\"text-align: right; direction: rtl; float: right;\">פונקציות – חלק 2</span>"
   ]
  },
  {
   "cell_type": "markdown",
   "metadata": {},
   "source": [
    "## <span style=\"text-align: right; direction: rtl; float: right; clear: both;\">הקדמה</span>"
   ]
  },
  {
   "cell_type": "markdown",
   "metadata": {},
   "source": [
    "<p style=\"text-align: right; direction: rtl; float: right; clear: both;\">\n",
    "    עד כה למדנו להכיר את עולמן של הפונקציות מקרוב:\n",
    "</p>"
   ]
  },
  {
   "cell_type": "markdown",
   "metadata": {},
   "source": [
    "<ul style=\"text-align: right; direction: rtl; float: right; clear: both;\">\n",
    "    <li>פונקציות הן כלי שימושי שמאפשר לנו לחלק את הקוד לתתי־משימות מוגדרות, ולשמור עליו מסודר וקל לתחזוק.</li>\n",
    "    <li>לפונקציה יש \"קלט\" שהוא הפרמטרים שלה, ו\"פלט\" שהוא ערך ההחזרה שלה.</li>\n",
    "    <li>אפשר לקרוא לפונקציה בציון שמה, סוגריים, ורשימת הארגומנטים שרוצים להעביר לפרמטרים שלה.</li>\n",
    "</ul>"
   ]
  },
  {
   "cell_type": "markdown",
   "metadata": {},
   "source": [
    "<p style=\"text-align: right; direction: rtl; float: right; clear: both;\">\n",
    "    במחברת זו נרכוש כלים נוספים שיאפשרו לנו גמישות רבה יותר בהגדרת פונקציות ובשימוש בהן.\n",
    "</p>"
   ]
  },
  {
   "cell_type": "markdown",
   "metadata": {},
   "source": [
    "## <span style=\"text-align: right; direction: rtl; float: right; clear: both;\">שימוש מתקדם בפונקציות</span>"
   ]
  },
  {
   "cell_type": "markdown",
   "metadata": {},
   "source": [
    "### <span style=\"text-align: right; direction: rtl; float: right; clear: both;\">העברת ארגומנטים בעזרת שם<span>"
   ]
  },
  {
   "cell_type": "markdown",
   "metadata": {},
   "source": [
    "<p style=\"text-align: right; direction: rtl; float: right; clear: both;\">\n",
    "    כאשר אנחנו קוראים לפונקציה, יישלחו לפי הסדר הארגומנטים שנעביר אל הפרמטרים שמוגדרים בכותרת הפונקציה.<br>\n",
    "    מצב כזה נקרא <dfn>positional arguments</dfn> (\"<dfn>ארגומנטים לפי מיקום</dfn>\").<br>\n",
    "    נסתכל על פונקציה שמקבלת טווח (סוף והתחלה, בסדר הזה) ומחזירה רשימה של כל המספרים השלמים בטווח:\n",
    "</p>"
   ]
  },
  {
   "cell_type": "code",
   "execution_count": 1,
   "metadata": {},
   "outputs": [
    {
     "data": {
      "text/plain": [
       "[0, 1, 2, 3, 4]"
      ]
     },
     "execution_count": 1,
     "metadata": {},
     "output_type": "execute_result"
    }
   ],
   "source": [
    "def my_range(end, start):\n",
    "    numbers = []\n",
    "    i = start\n",
    "    while i < end:\n",
    "        numbers.append(i)\n",
    "        i += 1\n",
    "    return numbers\n",
    "\n",
    "\n",
    "my_range(5, 0)"
   ]
  },
  {
   "cell_type": "markdown",
   "metadata": {},
   "source": [
    "<p style=\"text-align: right; direction: rtl; float: right; clear: both;\">\n",
    "    לפעמים נרצה לשנות את סדר הארגומנטים שאנחנו שולחים לפונקציה.<br>\n",
    "    נעשה זאת בקריאה לפונקציה, על־ידי העברת שם הארגומנט ולאחר מכן העברת הערך שאנחנו רוצים להעביר אליו: \n",
    "</p>"
   ]
  },
  {
   "cell_type": "code",
   "execution_count": 2,
   "metadata": {},
   "outputs": [
    {
     "data": {
      "text/plain": [
       "[0, 1, 2, 3, 4]"
      ]
     },
     "execution_count": 2,
     "metadata": {},
     "output_type": "execute_result"
    }
   ],
   "source": [
    "my_range(start=0, end=5)"
   ]
  },
  {
   "cell_type": "markdown",
   "metadata": {},
   "source": [
    "<p style=\"text-align: right; direction: rtl; float: right; clear: both;\">\n",
    "    בשורה הזו הפכנו את סדר הארגומנטים.<br>\n",
    "    כיוון שבקריאה כתבנו את שמות הפרמטרים התואמים לכותרת הפונקציה, הערכים נשלחו למקום הנכון.<br>\n",
    "    השיטה הזו נקראת <dfn>keyword arguments</dfn> (<dfn>\"ארגומנטים לפי שם\"</dfn>), ובה אנחנו מעבירים את הארגומנטים שלנו לפי שמות הפרמטרים בכותרת הפונקציה.<br>\n",
    "    אנחנו משתמשים בשיטה הזו אפילו כשאנחנו לא רוצים לשנות את סדר הארגומנטים, אלא רק לעשות קצת סדר בקוד.<br>\n",
    "    נבחן, לדוגמה, את המקרה של הפונקציה <code>random.randrange</code> – נעים יותר לראות קריאה לפונקציה עם שמות הפרמטרים:\n",
    "</p>"
   ]
  },
  {
   "cell_type": "code",
   "execution_count": 3,
   "metadata": {},
   "outputs": [],
   "source": [
    "import random"
   ]
  },
  {
   "cell_type": "code",
   "execution_count": 4,
   "metadata": {},
   "outputs": [
    {
     "data": {
      "text/plain": [
       "139"
      ]
     },
     "execution_count": 4,
     "metadata": {},
     "output_type": "execute_result"
    }
   ],
   "source": [
    "random.randrange(100, 200)  # מובן פחות"
   ]
  },
  {
   "cell_type": "code",
   "execution_count": 5,
   "metadata": {},
   "outputs": [
    {
     "data": {
      "text/plain": [
       "148"
      ]
     },
     "execution_count": 5,
     "metadata": {},
     "output_type": "execute_result"
    }
   ],
   "source": [
    "random.randrange(start=100, stop=200)  # מובן יותר"
   ]
  },
  {
   "cell_type": "markdown",
   "metadata": {},
   "source": [
    "<div class=\"align-center\" style=\"display: flex; text-align: right; direction: rtl;\">\n",
    "    <div style=\"display: flex; width: 10%; float: right; \">\n",
    "        <img src=\"images/warning.png\" style=\"height: 50px !important;\" alt=\"אזהרה!\"> \n",
    "    </div>\n",
    "    <div style=\"width: 90%\">\n",
    "        <p style=\"text-align: right; direction: rtl;\">\n",
    "            למרות השימוש בסימן <code>=</code>, לא מדובר פה בהשמה במובן הקלאסי שלה.<br>\n",
    "            זוהי צורת כתיבה מיוחדת בקריאה לפונקציות שהמטרה שלה היא לסמן \"העבר לפרמטר ששמו כך־וכך את הערך כך־וכך\".\n",
    "        </p>\n",
    "    </div>\n",
    "</div>"
   ]
  },
  {
   "cell_type": "markdown",
   "metadata": {},
   "source": [
    "### <span style=\"text-align: right; direction: rtl; float: right; clear: both;\">פרמטרים עם ערכי ברירת מחדל<span>"
   ]
  },
  {
   "cell_type": "markdown",
   "metadata": {},
   "source": [
    "<p style=\"text-align: right; direction: rtl; float: right; clear: both;\">\n",
    "    נזכר בפונקציה <code>get</code> של מילון, שמאפשרת לקבל ממנו ערך לפי מפתח מסוים.<br>\n",
    "    אם המפתח שאנחנו מחפשים לא קיים במילון, הפונקציה מחזירה <samp>None</samp>:\n",
    "</p>"
   ]
  },
  {
   "cell_type": "code",
   "execution_count": 2,
   "metadata": {},
   "outputs": [
    {
     "name": "stdout",
     "output_type": "stream",
     "text": [
      "Ponyo release date:        2008-07-19\n",
      "Men in Black release date: None\n"
     ]
    }
   ],
   "source": [
    "ghibli_release_dates = {\n",
    "    'Castle in the Sky': '1986-08-02',\n",
    "    'My Neighbor Totoro': '1988-04-16',\n",
    "    'Spirited Away': '2001-07-20',\n",
    "    'Ponyo': '2008-07-19',\n",
    "}\n",
    "\n",
    "ponyo_release_date = ghibli_release_dates.get('Ponyo')\n",
    "men_in_black_release_date = ghibli_release_dates.get('Men in Black')\n",
    "print(f\"Ponyo release date:        {ponyo_release_date}\")\n",
    "print(f\"Men in Black release date: {men_in_black_release_date}\")"
   ]
  },
  {
   "cell_type": "markdown",
   "metadata": {},
   "source": [
    "<p style=\"text-align: right; direction: rtl; float: right; clear: both;\">\n",
    "    נממש את הפונקציה <code>get</code> בעצמנו. לשם הנוחות, ייראה השימוש שונה במקצת:<br>\n",
    "</p>"
   ]
  },
  {
   "cell_type": "code",
   "execution_count": 7,
   "metadata": {},
   "outputs": [
    {
     "name": "stdout",
     "output_type": "stream",
     "text": [
      "Ponyo release date:        2008-07-19\n",
      "Men in Black release date: None\n"
     ]
    }
   ],
   "source": [
    "def get(dictionary, key):\n",
    "    if key in dictionary:\n",
    "        return dictionary[key]\n",
    "    return None\n",
    "\n",
    "\n",
    "ponyo_release_date = get(ghibli_release_dates, 'Ponyo')\n",
    "men_in_black_release_date = get(ghibli_release_dates, 'Men in Black')\n",
    "print(f\"Ponyo release date:        {ponyo_release_date}\")\n",
    "print(f\"Men in Black release date: {men_in_black_release_date}\")"
   ]
  },
  {
   "cell_type": "markdown",
   "metadata": {},
   "source": [
    "<p style=\"text-align: right; direction: rtl; float: right; clear: both;\">\n",
    "    המימוש שלנו לא מושלם. הפעולה המקורית, <code>get</code> על מילון, פועלת בצורה מתוחכמת יותר.<br>\n",
    "    אפשר להעביר לה פרמטר נוסף, שקובע מה יחזור אם המפתח שהעברנו בפרמטר הראשון לא נמצא במילון:\n",
    "</p>"
   ]
  },
  {
   "cell_type": "code",
   "execution_count": 3,
   "metadata": {},
   "outputs": [
    {
     "name": "stdout",
     "output_type": "stream",
     "text": [
      "Ponyo release date:        2008-07-19\n",
      "Men in Black release date: kkk\n"
     ]
    }
   ],
   "source": [
    "ponyo_release_date = ghibli_release_dates.get('Ponyo', '???')\n",
    "men_in_black_release_date = ghibli_release_dates.get('Men in Black', '???')\n",
    "print(f\"Ponyo release date:        {ponyo_release_date}\")\n",
    "print(f\"Men in Black release date: {men_in_black_release_date}\")"
   ]
  },
  {
   "cell_type": "markdown",
   "metadata": {},
   "source": [
    "<p style=\"text-align: right; direction: rtl; float: right; clear: both;\">\n",
    "    שימו לב להתנהגות המיוחדת של הפעולה <code>get</code>!<br>\n",
    "    אם המפתח שהעברנו בארגומנט הראשון לא קיים במילון, היא מחזירה את הערך שכתוב בארגומנט השני.<br>\n",
    "    אפשר להעביר לה ארגומנט אחד, ואפשר להעביר לה שני ארגומנטים. היא מתפקדת כראוי בשני המצבים.<br>\n",
    "    זו לא פעם ראשונה שאנחנו רואים פונקציות כאלו. למעשה, בשבוע שעבר למדנו על פעולות builtins רבות שמתנהגות כך:<br>\n",
    "    <code>range</code>, <code>enumerate</code> ו־<code>round</code>, כולן יודעות לקבל מספר משתנה של ארגומנטים.\n",
    "</p>"
   ]
  },
  {
   "cell_type": "markdown",
   "metadata": {},
   "source": [
    "<p style=\"text-align: right; direction: rtl; float: right; clear: both;\">\n",
    "    נניח לפעולה <code>get</code> בינתיים. אל דאגה, נחזור אליה בקרוב.<br>\n",
    "    בזמן שאנחנו נחים מפעולות על מילונים יום האהבה מתקרב, וחנות הוורדים הקרובה מעוניינת להעלות את מחירי כל מוצריה בשקל אחד.<br>\n",
    "    התבקשנו לבנות עבורם פונקציה שמקבלת רשימת מחירים, ומחזירה רשימה שבה כל איבר גדול ב־1 מרשימת המחירים המקורית.<br>\n",
    "    ניגש לעבודה:\n",
    "</p>"
   ]
  },
  {
   "cell_type": "code",
   "execution_count": 4,
   "metadata": {},
   "outputs": [
    {
     "name": "stdout",
     "output_type": "stream",
     "text": [
      "[43, 74, 301]\n"
     ]
    }
   ],
   "source": [
    "def get_new_prices(l):\n",
    "    l2 = []\n",
    "    for item in l:\n",
    "        l2.append(item + 1)\n",
    "    return l2\n",
    "\n",
    "\n",
    "prices = [42, 73, 300]\n",
    "print(get_new_prices(prices))"
   ]
  },
  {
   "cell_type": "markdown",
   "metadata": {},
   "source": [
    "<p style=\"text-align: right; direction: rtl; float: right; clear: both;\">\n",
    "    בתוך זמן קצר הפונקציה שבנינו הופכת ללהיט היסטרי בחנויות הוורדים.<br>\n",
    "    מנהל קרטל הוורדים הבין־לאומי ג'וזפה ורדי יוצר איתנו קשר, ומבקש לשכלל התוכנה כך שיוכל להעלות את מחירי המוצרים כרצונו.<br>\n",
    "    כדי לעמוד בדרישה, נבנה פונקציה שמקבלת רשימה, ובנוסף אליה את המחיר שיתווסף לכל איבר ברשימה זו.<br> \n",
    "    כך, אם הקורא לפונקציה יעביר כארגומנט השני את הערך 2, כל איבר ברשימה יגדל ב־2.<br>\n",
    "    נממש בקלילות:\n",
    "</p>"
   ]
  },
  {
   "cell_type": "code",
   "execution_count": 10,
   "metadata": {},
   "outputs": [
    {
     "name": "stdout",
     "output_type": "stream",
     "text": [
      "[43, 74, 301]\n",
      "[44, 75, 302]\n"
     ]
    }
   ],
   "source": [
    "def get_new_prices(l, increment_by):\n",
    "    l2 = []\n",
    "    for item in l:\n",
    "        l2.append(item + increment_by)\n",
    "    return l2\n",
    "\n",
    "\n",
    "prices = [42, 73, 300]\n",
    "print(get_new_prices(prices, 1))\n",
    "print(get_new_prices(prices, 2))"
   ]
  },
  {
   "cell_type": "markdown",
   "metadata": {},
   "source": [
    "<p style=\"text-align: right; direction: rtl; float: right; clear: both;\">\n",
    "    ורדי פוצח בשירה מרוב אושר, ומבקש שכלול אחרון לפונקציה, אם אפשר.<br>\n",
    "    אם הקורא לפונקציה העביר לה רק את רשימת המחירים, העלו את כל המחירים בשקל, כברירת מחדל.<br>\n",
    "    אם כן הועבר הארגומנט השני, העלו את המחיר לפי הערך שצוין באותו ארגומנט.<br>\n",
    "</p>"
   ]
  },
  {
   "cell_type": "markdown",
   "metadata": {},
   "source": [
    "<p style=\"text-align: right; direction: rtl; float: right; clear: both;\">\n",
    "    הפעם אנחנו מתחבטים קצת יותר, מגרדים בראש, קוראים כמה מדריכי פייתון ומגיעים לבסוף לתשובה הבאה:\n",
    "</p>"
   ]
  },
  {
   "cell_type": "code",
   "execution_count": 11,
   "metadata": {},
   "outputs": [
    {
     "name": "stdout",
     "output_type": "stream",
     "text": [
      "[42, 73, 300]\n",
      "[43, 74, 301]\n",
      "[47, 78, 305]\n"
     ]
    }
   ],
   "source": [
    "def get_new_prices(l, increment_by=1):\n",
    "    l2 = []\n",
    "    for item in l:\n",
    "        l2.append(item + increment_by)\n",
    "    return l2\n",
    "\n",
    "\n",
    "prices = [42, 73, 300]\n",
    "print(prices)\n",
    "print(get_new_prices(prices))\n",
    "print(get_new_prices(prices, 5))"
   ]
  },
  {
   "cell_type": "markdown",
   "metadata": {},
   "source": [
    "<p style=\"text-align: right; direction: rtl; float: right; clear: both;\">\n",
    "    כשאנחנו רוצים להגדיר פרמטר עם ערך ברירת מחדל, נוכל לקבוע את ערך ברירת המחדל שלו בכותרת הפונקציה.<br>\n",
    "    אם יועבר ארגומנט שכזה לפונקציה – פייתון תשתמש בערך שהועבר.<br>\n",
    "    אם לא – יילקח ערך ברירת המחדל שהוגדר בכותרת הפונקציה. \n",
    "</p>"
   ]
  },
  {
   "cell_type": "markdown",
   "metadata": {},
   "source": [
    "<p style=\"text-align: right; direction: rtl; float: right; clear: both;\">\n",
    "    במקרה שלנו הגדרנו את הפרמטר <code>increment_by</code> עם ערך ברירת המחדל 1.<br>\n",
    "    קריאה לפונקציה עם ארגומנט אחד בלבד (רשימת המחירים) תגדיל את כל המחירים ב־1, שהרי הוא ערך ברירת המחדל.<br>\n",
    "    קריאה לפונקציה עם שני ארגומנטים (רשימת המחירים, סכום ההעלאה) תגדיל את כל המחירים בסכום ההעלאה שהועבר.\n",
    "</p>"
   ]
  },
  {
   "cell_type": "markdown",
   "metadata": {},
   "source": [
    "<p style=\"text-align: right; direction: rtl; float: right; clear: both;\">\n",
    "    חשוב להבין שקריאה לפונקציה עם ערכים במקום ערכי ברירת המחדל, לא תשנה את ערך ברירת המחדל בקריאות הבאות: \n",
    "</p>"
   ]
  },
  {
   "cell_type": "code",
   "execution_count": 13,
   "metadata": {},
   "outputs": [
    {
     "name": "stdout",
     "output_type": "stream",
     "text": [
      "[47, 78, 305]\n",
      "[43, 74, 301]\n"
     ]
    }
   ],
   "source": [
    "print(get_new_prices(prices, 5))\n",
    "print(get_new_prices(prices))"
   ]
  },
  {
   "cell_type": "markdown",
   "metadata": {},
   "source": [
    "<div class=\"align-center\" style=\"display: flex; text-align: right; direction: rtl; clear: both;\">\n",
    "    <div style=\"display: flex; width: 10%; float: right; clear: both;\">\n",
    "        <img src=\"images/exercise.svg\" style=\"height: 50px !important;\" alt=\"תרגול\"> \n",
    "    </div>\n",
    "    <div style=\"width: 70%\">\n",
    "        <p style=\"text-align: right; direction: rtl; float: right; clear: both;\">\n",
    "            ממשו את פונקציית <code>get</code> המלאה. הפונקציה תקבל מילון, מפתח ו\"ערך לשעת חירום\".<br>\n",
    "            החזירו את הערך השייך למפתח שהתקבל. אחרת – החזירו את הערך לשעת החירום שהועבר לפונקציה.<br>\n",
    "            אם לא הועבר ערך לשעת חירום והמפתח לא נמצא במילון, החזירו <samp>None</samp>. \n",
    "        </p>\n",
    "    </div>\n",
    "    <div style=\"display: flex; width: 20%; border-right: 0.1rem solid #A5A5A5; padding: 1rem 2rem;\">\n",
    "        <p style=\"text-align: center; direction: rtl; justify-content: center; align-items: center; clear: both;\">\n",
    "            <strong>חשוב!</strong><br>\n",
    "            פתרו לפני שתמשיכו!\n",
    "        </p>\n",
    "    </div>\n",
    "</div>"
   ]
  },
  {
   "cell_type": "code",
   "execution_count": 14,
   "metadata": {},
   "outputs": [
    {
     "name": "stdout",
     "output_type": "stream",
     "text": [
      "Ponyo release date:        2008-07-19\n",
      "Men in Black release date: ???\n"
     ]
    }
   ],
   "source": [
    "def get(dictionary, key, value_for_rescue=None):\n",
    "    if key in dictionary:\n",
    "        return dictionary[key]\n",
    "    return value_for_rescue\n",
    "\n",
    "\n",
    "ponyo_release_date = get(ghibli_release_dates, 'Ponyo', '???')\n",
    "men_in_black_release_date = get(ghibli_release_dates, 'Men in Black', '???')\n",
    "print(f\"Ponyo release date:        {ponyo_release_date}\")\n",
    "print(f\"Men in Black release date: {men_in_black_release_date}\")"
   ]
  },
  {
   "cell_type": "markdown",
   "metadata": {},
   "source": [
    "<p style=\"text-align: right; direction: rtl; float: right; clear: both;\">\n",
    "    נדגים את אותו עיקרון עם כמה ערכי ברירת מחדל.<br>\n",
    "    אם הדרישה הייתה, לדוגמה, להוסיף לפונקציה גם אפשרות להנחה במחירי הפרחים, היינו יכולים לממש זאת כך:\n",
    "</p>"
   ]
  },
  {
   "cell_type": "code",
   "execution_count": 1,
   "metadata": {},
   "outputs": [
    {
     "name": "stdout",
     "output_type": "stream",
     "text": [
      "[42, 73, 300]\n",
      "[51, 82, 309]\n",
      "[47, 78, 305]\n"
     ]
    }
   ],
   "source": [
    "def get_new_prices(l, increment_by=1, discount=0):\n",
    "    l2 = []\n",
    "    for item in l:\n",
    "        new_price = item + increment_by - discount\n",
    "        l2.append(new_price)\n",
    "    return l2\n",
    "\n",
    "\n",
    "prices = [42, 73, 300]\n",
    "print(prices)\n",
    "print(get_new_prices(prices, 10, 1))  # העלאה של 10, הנחה של 1\n",
    "print(get_new_prices(prices, 5))  # העלאה של 5"
   ]
  },
  {
   "cell_type": "markdown",
   "metadata": {},
   "source": [
    "<p style=\"text-align: right; direction: rtl; float: right; clear: both;\">\n",
    "    אך מה יקרה כשנרצה לתת רק הנחה?<br>\n",
    "    במקרה כזה, כשנרצה \"לדלג\" מעל אחד מערכי ברירת המחדל, נצטרך להעביר את שמות הפרמטרים בקריאה לפונקציה.<br>\n",
    "    בדוגמה הבאה אנחנו מעלים את המחיר ב־1 (כי זו ברירת המחדל), ומורידים אותו ב־5: \n",
    "</p>"
   ]
  },
  {
   "cell_type": "code",
   "execution_count": 2,
   "metadata": {},
   "outputs": [
    {
     "name": "stdout",
     "output_type": "stream",
     "text": [
      "[42, 73, 300]\n",
      "[38, 69, 296]\n"
     ]
    }
   ],
   "source": [
    "prices = [42, 73, 300]\n",
    "print(prices)\n",
    "print(get_new_prices(prices, discount=5))"
   ]
  },
  {
   "cell_type": "markdown",
   "metadata": {},
   "source": [
    "<p style=\"text-align: right; direction: rtl; float: right; clear: both;\">\n",
    "    זה אמנם עניין של סגנון, אבל יש יופי וסדר בציון שמות הפרמטרים גם כשלא חייבים:\n",
    "</p>"
   ]
  },
  {
   "cell_type": "code",
   "execution_count": 3,
   "metadata": {},
   "outputs": [
    {
     "name": "stdout",
     "output_type": "stream",
     "text": [
      "[51, 82, 309]\n"
     ]
    }
   ],
   "source": [
    "print(get_new_prices(prices, increment_by=10, discount=1))"
   ]
  },
  {
   "cell_type": "markdown",
   "metadata": {},
   "source": [
    "### <span style=\"text-align: right; direction: rtl; float: right; clear: both;\">מספר משתנה של ארגומנטים<span>"
   ]
  },
  {
   "cell_type": "markdown",
   "metadata": {},
   "source": [
    "<p style=\"text-align: right; direction: rtl; float: right; clear: both;\">\n",
    "    הפונקציה הפייתונית <code>max</code>, למשל, מתנהגת באופן משונה.<br>\n",
    "    היא יודעת לקבל כל מספר שהוא של ארגומנטים, ולהחליט מי מהם הוא הגדול ביותר.<br>\n",
    "    ראו בעצמכם!\n",
    "</p>"
   ]
  },
  {
   "cell_type": "code",
   "execution_count": 4,
   "metadata": {},
   "outputs": [
    {
     "data": {
      "text/plain": [
       "6510"
      ]
     },
     "execution_count": 4,
     "metadata": {},
     "output_type": "execute_result"
    }
   ],
   "source": [
    "max(13, 256, 278, 887, 989, 457, 6510, 18, 865, 901, 401, 704, 640)"
   ]
  },
  {
   "cell_type": "markdown",
   "metadata": {},
   "source": [
    "<p style=\"text-align: right; direction: rtl; float: right; clear: both;\">\n",
    "    נוכל גם אנחנו לממש פונקציה שמקבלת מספר משתנה של פרמטרים די בקלות.<br>\n",
    "    נתחיל מלממש פונקציה טיפשית למדי, שמקבלת מספר משתנה של פרמטרים ומדפיסה אותם:\n",
    "</p>"
   ]
  },
  {
   "cell_type": "code",
   "execution_count": 5,
   "metadata": {},
   "outputs": [
    {
     "name": "stdout",
     "output_type": "stream",
     "text": [
      "('Shmulik', 'Shlomo')\n",
      "<class 'tuple'>\n",
      "--------------------\n",
      "('Shmulik', 1, 1, 2, 3, 5, 8, 13)\n",
      "<class 'tuple'>\n",
      "--------------------\n",
      "()\n",
      "<class 'tuple'>\n",
      "--------------------\n"
     ]
    }
   ],
   "source": [
    "def silly_function(*parameters):\n",
    "    print(parameters)\n",
    "\n",
    "    print(type(parameters))\n",
    "    print('-' * 20)\n",
    "    \n",
    "    \n",
    "silly_function('Shmulik', 'Shlomo')\n",
    "silly_function('Shmulik', 1, 1, 2, 3, 5, 8, 13)\n",
    "silly_function()"
   ]
  },
  {
   "cell_type": "markdown",
   "metadata": {},
   "source": [
    "<p style=\"text-align: right; direction: rtl; float: right; clear: both;\">\n",
    "    מה התרחש בדוגמה האחרונה, בעצם?<br>\n",
    "    כשפרמטר מוגדר בכותרת הפונקציה עם הסימן כוכבית, אפשר לשלוח אל אותו פרמטר מספר בלתי מוגבל של ארגומנטים.<br>\n",
    "    הערך שייכנס לפרמטר יהיה מסוג <code>tuple</code>, שאיבריו הם כל האיברים שהועברו כארגומנטים.\n",
    "</p>"
   ]
  },
  {
   "cell_type": "markdown",
   "metadata": {},
   "source": [
    "<p style=\"text-align: right; direction: rtl; float: right; clear: both;\">\n",
    "    לצורך ההדגמה, נבנה פונקציה שמקבלת פרמטרים ומדפיסה אותם בזה אחר זה:\n",
    "</p>"
   ]
  },
  {
   "cell_type": "code",
   "execution_count": 6,
   "metadata": {},
   "outputs": [
    {
     "name": "stdout",
     "output_type": "stream",
     "text": [
      "Printing all the items in ('Shmulik', 'Shlomo'):\n",
      "Shmulik\n",
      "Shlomo\n",
      "--------------------\n",
      "Printing all the items in ('Shmulik', 1, 1, 2, 3, 5, 8, 13):\n",
      "Shmulik\n",
      "1\n",
      "1\n",
      "2\n",
      "3\n",
      "5\n",
      "8\n",
      "13\n",
      "--------------------\n",
      "Printing all the items in ():\n",
      "--------------------\n"
     ]
    }
   ],
   "source": [
    "def silly_function2(*parameters):\n",
    "    print(f\"Printing all the items in {parameters}:\")\n",
    "    for parameter in parameters:\n",
    "        print(parameter)\n",
    "    print(\"-\" * 20)\n",
    "\n",
    "\n",
    "silly_function2('Shmulik', 'Shlomo')\n",
    "silly_function2('Shmulik', 1, 1, 2, 3, 5, 8, 13)\n",
    "silly_function2()"
   ]
  },
  {
   "cell_type": "markdown",
   "metadata": {},
   "source": [
    "<div class=\"align-center\" style=\"display: flex; text-align: right; direction: rtl; clear: both;\">\n",
    "    <div style=\"display: flex; width: 10%; float: right; clear: both;\">\n",
    "        <img src=\"images/exercise.svg\" style=\"height: 50px !important;\" alt=\"תרגול\"> \n",
    "    </div>\n",
    "    <div style=\"width: 70%\">\n",
    "        <p style=\"text-align: right; direction: rtl; float: right; clear: both;\">\n",
    "            שחקו עם הפונקציה <code>silly_function2</code> וודאו שהבנתם מה מתרחש בה.<br>\n",
    "            כשתסיימו, נסו לממש את הפונקציה <code>max</code> בעצמכם.\n",
    "        </p>\n",
    "    </div>\n",
    "    <div style=\"display: flex; width: 20%; border-right: 0.1rem solid #A5A5A5; padding: 1rem 2rem;\">\n",
    "        <p style=\"text-align: center; direction: rtl; justify-content: center; align-items: center; clear: both;\">\n",
    "            <strong>חשוב!</strong><br>\n",
    "            פתרו לפני שתמשיכו!\n",
    "        </p>\n",
    "    </div>\n",
    "</div>"
   ]
  },
  {
   "cell_type": "markdown",
   "metadata": {},
   "source": [
    "<p style=\"text-align: right; direction: rtl; float: right; clear: both;\">\n",
    "    נממש את <code>max</code>:\n",
    "</p>"
   ]
  },
  {
   "cell_type": "code",
   "execution_count": 10,
   "metadata": {},
   "outputs": [
    {
     "data": {
      "text/plain": [
       "6510"
      ]
     },
     "execution_count": 10,
     "metadata": {},
     "output_type": "execute_result"
    }
   ],
   "source": [
    "def my_max(*numbers):\n",
    "    if not numbers:  # אם לא סופקו ארגומנטים, אין מקסימום\n",
    "        return None\n",
    "\n",
    "    maximum = numbers[0]\n",
    "    for number in numbers:\n",
    "        if number > maximum:\n",
    "            maximum = number\n",
    "    return maximum\n",
    "\n",
    "#print(my_max())\n",
    "my_max(13, 256, 278, 887, 989, 457, 6510, 18, 865, 901, 401, 704, 640)"
   ]
  },
  {
   "cell_type": "markdown",
   "metadata": {},
   "source": [
    "<p style=\"text-align: right; direction: rtl; float: right; clear: both;\">\n",
    "    כותרת הפונקציה יכולה לכלול משתנים נוספים לפני הכוכבית.<br>\n",
    "    נראה לדוגמה פונקציה שמקבלת גובה הנחה ואת מחירי כל המוצרים שקנינו, ומחזירה את הסכום הסופי שעלינו לשלם:\n",
    "</p>"
   ]
  },
  {
   "cell_type": "code",
   "execution_count": 13,
   "metadata": {},
   "outputs": [
    {
     "name": "stdout",
     "output_type": "stream",
     "text": [
      "(3.141, 90053)\n",
      "90056.141\n",
      "10000\n"
     ]
    },
    {
     "data": {
      "text/plain": [
       "80056.141"
      ]
     },
     "execution_count": 13,
     "metadata": {},
     "output_type": "execute_result"
    }
   ],
   "source": [
    "def get_final_price(discount, *prices):\n",
    "    print(prices)\n",
    "    print(sum(prices))\n",
    "    print(discount)\n",
    "    return sum(prices) - discount\n",
    "\n",
    "\n",
    "get_final_price(10000, 3.141, 90053)"
   ]
  },
  {
   "cell_type": "markdown",
   "metadata": {},
   "source": [
    "<p style=\"text-align: right; direction: rtl; float: right; clear: both;\">\n",
    "    אף שבמבט ראשון הפונקציה <code>get_final_price</code> עשויה להיראות מגניבה, כדאי להיזהר משימוש מוגזם בתכונה הזו של פייתון.<br>\n",
    "    הדוגמה הזו אמנם מדגימה גמישות יוצאת דופן של פייתון, אבל ככלל היא דוגמה גרועה מאוד לשימוש בכוכבית.\n",
    "</p>"
   ]
  },
  {
   "cell_type": "markdown",
   "metadata": {},
   "source": [
    "<p style=\"text-align: right; direction: rtl; float: right; clear: both;\">\n",
    "    שימו לב כמה נוח יותר להבין את המימוש הבא ל־<code>get_final_price</code>, וכמה נוח יותר להבין את הקריאה לפונקציה הזו:\n",
    "</p>"
   ]
  },
  {
   "cell_type": "code",
   "execution_count": null,
   "metadata": {},
   "outputs": [],
   "source": [
    "def get_final_price(prices, discount):\n",
    "    return sum(prices) - discount\n",
    "\n",
    "\n",
    "get_final_price(prices=(3.141, 90053), discount=10000)"
   ]
  },
  {
   "cell_type": "markdown",
   "metadata": {},
   "source": [
    "### <span style=\"text-align: right; direction: rtl; float: right; clear: both;\">תרגול ביניים: סולל דרך<span>"
   ]
  },
  {
   "cell_type": "markdown",
   "metadata": {},
   "source": [
    "<p style=\"text-align: right; direction: rtl; float: right; clear: both;\">\n",
    "    כתבו פונקציה בשם <code>create_path</code> שיכולה לקבל מספר בלתי מוגבל של ארגומנטים.<br>\n",
    "    הפרמטר הראשון יהיה אות הכונן שבו הקבצים מאוחסנים (לרוב \"C\"), והפרמטרים שאחריו יהיו שמות של תיקיות וקבצים.<br>\n",
    "    שרשרו אותם בעזרת התו <code>\\</code> כדי ליצור מהם מחרוזת המייצגת נתיב במחשב. אחרי האות של הכונן שימו נקודתיים.<br>\n",
    "    הניחו שהקלט שהמשתמש הכניס הוא תקין.\n",
    "</p>"
   ]
  },
  {
   "cell_type": "markdown",
   "metadata": {},
   "source": [
    "<p style=\"text-align: right; direction: rtl; float: right; clear: both;\">\n",
    "    הנה כמה דוגמאות לקריאות לפונקציה ולערכי ההחזרה שלה:\n",
    "</p>"
   ]
  },
  {
   "cell_type": "markdown",
   "metadata": {},
   "source": [
    "<ul style=\"text-align: right; direction: rtl; float: right; clear: both;\">\n",
    "    <li>הקריאה <code dir=\"ltr\">create_path(\"C\", \"Users\", \"Yam\")</code> תחזיר <samp dir=\"ltr\">\"C:\\Users\\Yam\"</samp></li>\n",
    "    <li>הקריאה <code dir=\"ltr\">create_path(\"C\", \"Users\", \"Yam\", \"HaimonLimon.mp4\")</code> תחזיר <samp dir=\"ltr\">\"C:\\Users\\Yam\\HaimonLimon.mp4\"</samp></li>\n",
    "    <li>הקריאה <code dir=\"ltr\">create_path(\"D\", \"1337.png\")</code> תחזיר <samp dir=\"ltr\">\"D:\\1337.png\"</samp></li>\n",
    "    <li>הקריאה <code dir=\"ltr\">create_path(\"C\")</code> תחזיר <samp dir=\"ltr\">\"C:\"</samp></li>\n",
    "    <li>הקריאה <code dir=\"ltr\">create_path()</code> תגרום לשגיאה</li>\n",
    "</ul>"
   ]
  },
  {
   "cell_type": "code",
   "execution_count": 3,
   "metadata": {},
   "outputs": [
    {
     "name": "stdout",
     "output_type": "stream",
     "text": [
      "None\n",
      "C:\n",
      "D:\\1337.png\n",
      "C:\\Users\\Yam\\HaimonLimon.mp4\n",
      "C:\\Users\\Yam\n"
     ]
    }
   ],
   "source": [
    "# Upload 76\n",
    "def create_path(*argumnents):\n",
    "    if not argumnents:\n",
    "        return None\n",
    "    drive = argumnents[0]\n",
    "    drive += \":\"\n",
    "    drive += '\\\\'\n",
    "    size_of_argumnents = len(argumnents)\n",
    "    i = 1\n",
    "    while i < size_of_argumnents:\n",
    "        drive += argumnents[i]\n",
    "        drive += '\\\\'\n",
    "        i += 1\n",
    "    drive = drive[:-1]\n",
    "    return drive\n",
    "\n",
    "\n",
    "print(create_path())\n",
    "print(create_path(\"C\"))\n",
    "print(create_path(\"D\", \"1337.png\"))\n",
    "print(create_path(\"C\", \"Users\", \"Yam\", \"HaimonLimon.mp4\"))\n",
    "print(create_path(\"C\", \"Users\", \"Yam\"))"
   ]
  },
  {
   "cell_type": "markdown",
   "metadata": {},
   "source": [
    "### <span style=\"text-align: right; direction: rtl; float: right; clear: both;\">מספר משתנה של ארגומנטים עם שמות<span>"
   ]
  },
  {
   "cell_type": "markdown",
   "metadata": {},
   "source": [
    "<p style=\"text-align: right; direction: rtl; float: right; clear: both;\">\n",
    "    בתחילת המחברת למדנו כיצד מעבירים לפונקציות ארגומנטים בעזרת שם:\n",
    "</p>"
   ]
  },
  {
   "cell_type": "code",
   "execution_count": 48,
   "metadata": {},
   "outputs": [
    {
     "data": {
      "text/plain": [
       "'My name is Gandalf and I am 2019 years old.'"
      ]
     },
     "execution_count": 48,
     "metadata": {},
     "output_type": "execute_result"
    }
   ],
   "source": [
    "def print_introduction(name, age):\n",
    "    return f\"My name is {name} and I am {age} years old.\"\n",
    "\n",
    "\n",
    "print_introduction(age=2019, name=\"Gandalf\")"
   ]
  },
  {
   "cell_type": "markdown",
   "metadata": {},
   "source": [
    "<p style=\"text-align: right; direction: rtl; float: right; clear: both;\">\n",
    "    אבל מה אם נרצה להעביר לפונקציה שלנו מספר בלתי מוגבל של ארגומנטים לפי שם?<br>\n",
    "    נביא כדוגמה את הפעולה <code>format</code> על מחרוזות.<br>\n",
    "    <code>format</code> היא פונקציה גמישה בכל הנוגע לכמות ולשמות של הארגומנטים שמועברים לה לפי שם.<br>\n",
    "    נראה שתי דוגמאות לשימוש בה, שימוש שבמבט ראשון עשוי להיראות קסום:\n",
    "</p>"
   ]
  },
  {
   "cell_type": "code",
   "execution_count": 49,
   "metadata": {},
   "outputs": [
    {
     "name": "stdout",
     "output_type": "stream",
     "text": [
      "My name is Gandalf and I am 2019 years old\n"
     ]
    }
   ],
   "source": [
    "message = \"My name is {name} and I am {age} years old\"\n",
    "formatted_message = message.format(name=\"Gandalf\", age=2019)\n",
    "print(formatted_message)"
   ]
  },
  {
   "cell_type": "code",
   "execution_count": 50,
   "metadata": {},
   "outputs": [
    {
     "name": "stdout",
     "output_type": "stream",
     "text": [
      "I'll sing a story of a duck.\n",
      "A duck who's name is Alfred Kwak.\n"
     ]
    }
   ],
   "source": [
    "song = \"I'll {action} a story of a {animal}.\\nA {animal} who's {key} is {value}.\"\n",
    "formatted_song = song.format(action=\"sing\", animal=\"duck\", key=\"name\", value=\"Alfred Kwak\")\n",
    "print(formatted_song)"
   ]
  },
  {
   "cell_type": "markdown",
   "metadata": {},
   "source": [
    "<p style=\"text-align: right; direction: rtl; float: right; clear: both;\">\n",
    "    נכתוב גם אנחנו פונקציה שמסוגלת לקבל מספר בלתי מוגבל של ארגומנטים לפי שם.<br>\n",
    "    ניעזר תחילה בידידתנו הוותיקה, <code>silly_function</code>, כדי לראות איך הקסם קורה:\n",
    "</p>"
   ]
  },
  {
   "cell_type": "code",
   "execution_count": 51,
   "metadata": {},
   "outputs": [
    {
     "name": "stdout",
     "output_type": "stream",
     "text": [
      "{'a': 5, 'b': 6, 'address': '221B Baker St, London, England.'}\n",
      "<class 'dict'>\n"
     ]
    }
   ],
   "source": [
    "def silly_function(**kwargs):\n",
    "    print(kwargs)\n",
    "    print(type(kwargs))\n",
    "\n",
    "\n",
    "silly_function(a=5, b=6, address=\"221B Baker St, London, England.\")"
   ]
  },
  {
   "cell_type": "markdown",
   "metadata": {},
   "source": [
    "<p style=\"text-align: right; direction: rtl; float: right; clear: both;\">\n",
    "    ההתנהגות הזו מתרחשת כיוון שהשתמשנו בשתי כוכביות לפני שם המשתנה.<br>\n",
    "    השימוש בשתי כוכביות מאפשר לנו להעביר מספר בלתי מוגבל של ארגומנטים עם שם, באופן שמזכיר קצת את השימוש בכוכבית שראינו קודם.<br>\n",
    "    המשתנה שבו נשמרים הנתונים הוא מסוג מילון, ובו המפתחות יהיו שמות הארגומנטים שהועברו, והערכים – הערכים שהועברו לאותם שמות.\n",
    "</p>"
   ]
  },
  {
   "cell_type": "markdown",
   "metadata": {},
   "source": [
    "<p style=\"text-align: right; direction: rtl; float: right; clear: both;\">\n",
    "    אחרי שהבנו איך הסיפור הזה עובד, בואו ננסה ליצור פונקציה מעניינת יותר.<br>\n",
    "    הפונקציה שנכתוב תקבל כארגומנטים כמה גרם מכל רכיב צריך כדי להכין סושי, ותדפיס לנו מתכון:\n",
    "</p>"
   ]
  },
  {
   "cell_type": "code",
   "execution_count": 52,
   "metadata": {},
   "outputs": [
    {
     "name": "stdout",
     "output_type": "stream",
     "text": [
      "300 grams of rice\n",
      "300 grams of water\n",
      "15 grams of vinegar\n",
      "10 grams of sugar\n",
      "3 grams of salt\n",
      "600 grams of fish\n"
     ]
    }
   ],
   "source": [
    "def print_sushi_recipe(**ingredients_and_amounts):\n",
    "    for ingredient, amount in ingredients_and_amounts.items():\n",
    "        print(f\"{amount} grams of {ingredient}\")\n",
    "\n",
    "\n",
    "print_sushi_recipe(rice=300, water=300, vinegar=15, sugar=10, salt=3, fish=600)"
   ]
  },
  {
   "cell_type": "markdown",
   "metadata": {},
   "source": [
    "<p style=\"text-align: right; direction: rtl; float: right; clear: both;\">\n",
    "    בדוגמה זו השתמשנו בעובדה שהפרמטר שמוגדר בעזרת שתי כוכביות הוא בהכרח מילון.<br>\n",
    "    עברנו על כל המפתחות והערכים שבו בעזרת הפעולה <code>items</code>, והדפסנו את המתכון, רכיב אחר רכיב.\n",
    "</p>"
   ]
  },
  {
   "cell_type": "markdown",
   "metadata": {},
   "source": [
    "<div class=\"align-center\" style=\"display: flex; text-align: right; direction: rtl; clear: both;\">\n",
    "    <div style=\"display: flex; width: 10%; float: right; clear: both;\">\n",
    "        <img src=\"images/exercise.svg\" style=\"height: 50px !important;\" alt=\"תרגול\"> \n",
    "    </div>\n",
    "    <div style=\"width: 70%\">\n",
    "        <p style=\"text-align: right; direction: rtl; float: right; clear: both;\">\n",
    "            גרמו לפונקציה <code>print_sushi_recipe</code> להדפיס את הרכיבים לפי סדר משקלם, מהנמוך לגבוה.\n",
    "        </p>\n",
    "    </div>\n",
    "</div>"
   ]
  },
  {
   "cell_type": "code",
   "execution_count": 67,
   "metadata": {},
   "outputs": [
    {
     "name": "stdout",
     "output_type": "stream",
     "text": [
      "salt grams of 3\n",
      "sugar grams of 10\n",
      "vinegar grams of 15\n",
      "rice grams of 300\n",
      "water grams of 300\n",
      "fish grams of 600\n"
     ]
    }
   ],
   "source": [
    "import collections\n",
    "import operator\n",
    "def print_sushi_recipe(**ingredients_and_amounts):\n",
    "    ingredients_and_amounts_sorted = sorted(ingredients_and_amounts.items(), key=operator.itemgetter(1))\n",
    "    #print(ingredients_and_amounts_sorted)\n",
    "    #print(ingredients_and_amounts)\n",
    "    for ingredient in ingredients_and_amounts_sorted:\n",
    "        print(f\"{ingredient[0]} grams of {ingredient[1]}\")\n",
    "\n",
    "\n",
    "print_sushi_recipe(rice=300, water=300, vinegar=15, sugar=10, salt=3, fish=600)"
   ]
  },
  {
   "cell_type": "markdown",
   "metadata": {},
   "source": [
    "<p style=\"text-align: right; direction: rtl; float: right; clear: both;\">\n",
    "    פרמטר המוגדר בעזרת שתי כוכביות תמיד יופיע בסוף רשימת הפרמטרים.\n",
    "</p>"
   ]
  },
  {
   "cell_type": "markdown",
   "metadata": {},
   "source": [
    "### <span style=\"text-align: right; direction: rtl; float: right; clear: both;\">תרגול ביניים: גזור פזורפ<span>"
   ]
  },
  {
   "cell_type": "markdown",
   "metadata": {},
   "source": [
    "<p style=\"text-align: right; direction: rtl; float: right; clear: both;\">\n",
    "    כתבו פונקציה בשם <code>my_format</code> שמקבלת מחרוזת, ומספר בלתי מוגבל של פרמטרים עם שמות.<br>\n",
    "    הפונקציה תחליף כל הופעה של <code>{key}</code> במחרוזת, אם <code>key</code> הועבר כפרמטר לפונקציה.<br>\n",
    "    הערך שבו <code>{key}</code> יוחלף הוא הערך שהועבר ל־<code>key</code> במסגרת העברת הארגומנטים לפונקציה.<br> \n",
    "    הפונקציה לא תשתמש בפעולה <code>format</code> של מחרוזות או בפונקציות שלא למדנו עד כה.\n",
    "</p>"
   ]
  },
  {
   "cell_type": "markdown",
   "metadata": {},
   "source": [
    "<p style=\"text-align: right; direction: rtl; float: right; clear: both;\">\n",
    "    הנה כמה דוגמאות לקריאות לפונקציה ולערכי ההחזרה שלה:\n",
    "</p>"
   ]
  },
  {
   "cell_type": "markdown",
   "metadata": {},
   "source": [
    "<ul style=\"text-align: right; direction: rtl; float: right; clear: both;\">\n",
    "    <li>\n",
    "        הקריאה <code dir=\"ltr\">my_format(\"I'm Mr. {name}, look at me!\", name=\"Meeseeks\")</code><br>\n",
    "        תחזיר <samp dir=\"ltr\">\"I'm Mr. Meeseeks, look at me!\"</samp>\n",
    "    </li>\n",
    "    <li>\n",
    "        הקריאה <code dir=\"ltr\">my_format(\"{a} {b} {c} {c}\", a=\"wubba\", b=\"lubba\", c=\"dub\")</code><br>\n",
    "        תחזיר <samp dir=\"ltr\">\"wubba lubba dub dub\"</samp>\n",
    "    </li>\n",
    "    <li>\n",
    "        הקריאה <code dir=\"ltr\">my_format(\"The universe is basically an animal\", animal=\"Chicken\")</code><br>\n",
    "        תחזיר <samp dir=\"ltr\">\"The universe is basically an animal\"</samp>\n",
    "    </li>\n",
    "    <li>\n",
    "        הקריאה <code dir=\"ltr\">my_format(\"The universe is basically an animal\")</code><br>\n",
    "        תחזיר <samp dir=\"ltr\">\"The universe is basically an animal\"</samp>\n",
    "    </li>\n",
    "</ul>"
   ]
  },
  {
   "cell_type": "code",
   "execution_count": 1,
   "metadata": {},
   "outputs": [
    {
     "name": "stdout",
     "output_type": "stream",
     "text": [
      "I'm Mr. Meeseeks, look at me!\n",
      "wubba lubba dub dub\n",
      "The universe is basically an animal\n",
      "The universe is basically an animal\n",
      "{a} 6\n"
     ]
    }
   ],
   "source": [
    "# Upload 77\n",
    "def my_format(string, **names):\n",
    "    for key, _value in names.items():\n",
    "        if key in string:\n",
    "            string = string.replace('{' + key + '}', names[key])\n",
    "    return string\n",
    "\n",
    "\n",
    "print(my_format(\"I'm Mr. {name}, look at me!\", name=\"Meeseeks\"))\n",
    "print(my_format(\"{a} {b} {c} {c}\", a=\"wubba\", b=\"lubba\", c=\"dub\"))\n",
    "print(my_format(\"The universe is basically an animal\", animal=\"Chicken\"))\n",
    "print(my_format(\"The universe is basically an animal\"))\n",
    "print(my_format(\"{a} {b}\", sdsfds=\"Meeseeks\", b='6'))"
   ]
  },
  {
   "cell_type": "markdown",
   "metadata": {},
   "source": [
    "### <span style=\"text-align: right; direction: rtl; float: right; clear: both;\">חוק וסדר<span>"
   ]
  },
  {
   "cell_type": "markdown",
   "metadata": {},
   "source": [
    "<p style=\"text-align: right; direction: rtl; float: right; clear: both;\">\n",
    "    נוכל לשלב יחד את כל הטכניקות שלמדנו עד עכשיו לפונקציה אחת.<br>\n",
    "    ניצור, לדוגמה, פונקציה שמחשבת עלות הכנה של עוגה.<br>\n",
    "</p>"
   ]
  },
  {
   "cell_type": "markdown",
   "metadata": {},
   "source": [
    "<p style=\"text-align: right; direction: rtl; float: right; clear: both;\">\n",
    "    הפונקציה תקבל:\n",
    "</p>\n",
    "\n",
    "<ul style=\"text-align: right; direction: rtl; float: right; clear: both;\">\n",
    "    <li>את רשימת הרכיבים הקיימים בסופר ואת המחירים שלהם.</li>\n",
    "    <li>את רשימת הרכיבים הדרושים כדי להכין עוגה (נניח ששם כל רכיב הוא מילה בודדת).</li>\n",
    "    <li>אם ללקוח מגיעה הנחה.</li>\n",
    "    <li>שיעור ההנחה, באחוזים. כברירת מחדל, אם ללקוח מגיעה הנחה – שיעורה הוא 10%.</li>\n",
    "</ul>\n",
    "\n",
    "<p style=\"text-align: right; direction: rtl; float: right; clear: both;\">\n",
    "    לצורך פישוט התרגיל, נתעלם לרגע מעניין הכמויות במתכון :)\n",
    "</p>"
   ]
  },
  {
   "cell_type": "code",
   "execution_count": 93,
   "metadata": {},
   "outputs": [
    {
     "data": {
      "text/plain": [
       "45.0"
      ]
     },
     "execution_count": 93,
     "metadata": {},
     "output_type": "execute_result"
    }
   ],
   "source": [
    "def calculate_cake_price(apply_discount, *ingredients, discount_rate=10, **prices):\n",
    "    if not apply_discount:\n",
    "        discount_rate = 0\n",
    "\n",
    "    final_price = 0\n",
    "    for ingredient in ingredients:\n",
    "        final_price = final_price + prices.get(ingredient)\n",
    "    \n",
    "    final_price = final_price - (final_price * discount_rate / 100)\n",
    "    return final_price\n",
    "\n",
    "\n",
    "calculate_cake_price(True, 'chocolate', 'cream', chocolate=30, cream=20, water=5)"
   ]
  },
  {
   "cell_type": "markdown",
   "metadata": {},
   "source": [
    "<div class=\"align-center\" style=\"display: flex; text-align: right; direction: rtl;\">\n",
    "    <div style=\"display: flex; width: 10%; float: right; \">\n",
    "        <img src=\"images/warning.png\" style=\"height: 50px !important;\" alt=\"אזהרה!\"> \n",
    "    </div>\n",
    "    <div style=\"width: 90%\">\n",
    "        <p style=\"text-align: right; direction: rtl;\">\n",
    "            הפונקציה נכתבה כדי להדגים את הטכניקה, והיא נראית די רע.<br>\n",
    "            ראו כמה קשה להבין איזה ארגומנט שייך לאיזה פרמטר בקריאה לפונקציה.<br>\n",
    "            יש להפעיל שיקול דעת לפני שימוש בטכניקות של קבלת פרמטרים מרובים.\n",
    "        </p>\n",
    "    </div>\n",
    "</div>"
   ]
  },
  {
   "cell_type": "markdown",
   "metadata": {},
   "source": [
    "<p style=\"text-align: right; direction: rtl; float: right; clear: both;\">\n",
    "    שימו לב לסדר הפרמטרים בכותרת הפונקציה:\n",
    "</p>\n",
    "\n",
    "<ul style=\"text-align: right; direction: rtl; float: right; clear: both;\">\n",
    "    <li>הארגומנטים שמיקומם קבוע ואנחנו יודעים מי הם הולכים להיות (<code>apply_discount</code>).</li>\n",
    "    <li>הארגומנטים שמיקומם קבוע ואנחנו לא יודעים מי הם הולכים להיות (<code>ingredients</code>).</li>\n",
    "    <li>הארגומנטים ששמותיהם ידועים וערך ברירת המחדל שלהם נקבע בראש הפונקציה (<code>discount_rate</code>).</li>\n",
    "    <li>ערכים נוספים ששמותיהם לא ידועים מראש (<code>prices</code>).</li>\n",
    "</ul>\n",
    "\n",
    "<p style=\"text-align: right; direction: rtl; float: right; clear: both;\">\n",
    "    נסו לחשוב: למה נקבע דווקא הסדר הזה?\n",
    "</p>"
   ]
  },
  {
   "cell_type": "markdown",
   "metadata": {},
   "source": [
    "<div class=\"align-center\" style=\"display: flex; text-align: right; direction: rtl; clear: both;\">\n",
    "    <div style=\"display: flex; width: 10%; float: right; clear: both;\">\n",
    "        <img src=\"images/exercise.svg\" style=\"height: 50px !important;\" alt=\"תרגול\"> \n",
    "    </div>\n",
    "    <div style=\"width: 70%\">\n",
    "        <p style=\"text-align: right; direction: rtl; float: right; clear: both;\">\n",
    "            איך הייתם כותבים את אותה הפונקציה בדיוק בלי שימוש בטכניקות שלמדנו?<br>\n",
    "            השימוש בערכי ברירת מחדל מותר.\n",
    "        </p>\n",
    "    </div>\n",
    "    <div style=\"display: flex; width: 20%; border-right: 0.1rem solid #A5A5A5; padding: 1rem 2rem;\">\n",
    "        <p style=\"text-align: center; direction: rtl; justify-content: center; align-items: center; clear: both;\">\n",
    "            <strong>חשוב!</strong><br>\n",
    "            פתרו לפני שתמשיכו!\n",
    "        </p>\n",
    "    </div>\n",
    "</div>"
   ]
  },
  {
   "cell_type": "markdown",
   "metadata": {},
   "source": [
    "### <span style=\"text-align: right; direction: rtl; float: right; clear: both;\">ערכי ברירת מחדל שאפשר לשנותם<span>"
   ]
  },
  {
   "cell_type": "markdown",
   "metadata": {},
   "source": [
    "<p style=\"text-align: right; direction: rtl; float: right; clear: both;\">\n",
    "    יש מקרה קצה של ערכי ברירת מחדל שגורם לפייתון להתנהג קצת מוזר.<br>\n",
    "    זה קורה כשערך ברירת המחדל שהוגדר בכותרת הפונקציה הוא mutable:\n",
    "</p>"
   ]
  },
  {
   "cell_type": "code",
   "execution_count": 94,
   "metadata": {},
   "outputs": [
    {
     "name": "stdout",
     "output_type": "stream",
     "text": [
      "[1, 2, 3, 4]\n",
      "['a']\n"
     ]
    }
   ],
   "source": [
    "def append(item, l=[]):\n",
    "    l.append(item)\n",
    "    return l\n",
    "\n",
    "\n",
    "print(append(4, [1, 2, 3]))\n",
    "print(append('a'))"
   ]
  },
  {
   "cell_type": "markdown",
   "metadata": {},
   "source": [
    "<p style=\"text-align: right; direction: rtl; float: right; clear: both;\">\n",
    "    עד כאן נראה כאילו הפונקציה פועלת באופן שהיינו מצפים ממנה.<br>\n",
    "    ערך ברירת המחדל של הפרמטר <code>l</code> הוא רשימה ריקה, ולכן בקריאה השנייה חוזרת רשימה עם איבר בודד, <samp>['a']</samp>.\n",
    "</p>"
   ]
  },
  {
   "cell_type": "markdown",
   "metadata": {},
   "source": [
    "<p style=\"text-align: right; direction: rtl; float: right; clear: both;\">\n",
    "    נקרא לפונקציה עוד כמה פעמים, ונגלה משהו מוזר:\n",
    "</p>"
   ]
  },
  {
   "cell_type": "code",
   "execution_count": 95,
   "metadata": {},
   "outputs": [
    {
     "name": "stdout",
     "output_type": "stream",
     "text": [
      "['a', 'b']\n",
      "['a', 'b', 'c']\n",
      "['a', 'b', 'c', 'd']\n",
      "[1, 2, 3, 4]\n",
      "['a', 'b', 'c', 'd', 'e']\n"
     ]
    }
   ],
   "source": [
    "print(append('b'))\n",
    "print(append('c'))\n",
    "print(append('d'))\n",
    "print(append(4, [1, 2, 3]))\n",
    "print(append('e'))"
   ]
  },
  {
   "cell_type": "markdown",
   "metadata": {},
   "source": [
    "<p style=\"text-align: right; direction: rtl; float: right; clear: both;\">\n",
    "    משונה ולא הגיוני! ציפינו לקבל את הרשימה <samp>['b']</samp> ואז את הרשימה <samp>['c']</samp> וכן הלאה.<br>\n",
    "    במקום זה בכל פעם מצטרף איבר חדש לרשימה. למה?\n",
    "</p>"
   ]
  },
  {
   "cell_type": "markdown",
   "metadata": {},
   "source": [
    "<p style=\"text-align: right; direction: rtl; float: right; clear: both;\">\n",
    "    הסיבה לכך היא שפייתון קוראת את כותרת הפונקציה רק פעם אחת – בשלב ההגדרה של הפונקציה.<br>\n",
    "    בשלב הזה שבו פייתון תקרא את כותרת הפונקציה, ערך ברירת המחדל של <code>l</code> יצביע לרשימה ריקה.<br>\n",
    "    מאותו רגע, בכל פעם שלא נעביר ל־<code>l</code> ערך, <code>l</code> תהיה אותה רשימת ברירת מחדל שהגדרנו בהתחלה.<br>\n",
    "    נדגים זאת בעזרת הדפסת ה־<code>id</code> של הרשימה:\n",
    "</p>"
   ]
  },
  {
   "cell_type": "code",
   "execution_count": 96,
   "metadata": {},
   "outputs": [
    {
     "name": "stdout",
     "output_type": "stream",
     "text": [
      "['a'] --> 2753634450568\n",
      "['a', 'b'] --> 2753634450568\n",
      "['a', 'b', 'c'] --> 2753634450568\n",
      "[1, 2, 3, 4] --> 2753634451400\n",
      "[1, 2, 3, 5] --> 2753634450696\n",
      "[1, 2, 3, 6] --> 2753634468104\n"
     ]
    }
   ],
   "source": [
    "def view_memory_of_l(item, l=[]):\n",
    "    l.append(item)\n",
    "    print(f\"{l} --> {id(l)}\")\n",
    "    return l\n",
    "\n",
    "\n",
    "same_list1 = view_memory_of_l('a')\n",
    "same_list2 = view_memory_of_l('b')\n",
    "same_list3 = view_memory_of_l('c')\n",
    "new_list1 = view_memory_of_l(4, [1, 2, 3])\n",
    "new_list2 = view_memory_of_l(5, [1, 2, 3])\n",
    "new_list3 = view_memory_of_l(6, [1, 2, 3])"
   ]
  },
  {
   "cell_type": "markdown",
   "metadata": {},
   "source": [
    "<p style=\"text-align: right; direction: rtl; float: right; clear: both;\">\n",
    "    כיצד נפתור את הבעיה?<br>\n",
    "    דבר ראשון – נשתדל שלא להגדיר משתנים מטיפוס שהוא mutable בתוך כותרת הפונקציה.<br>\n",
    "    אם נרצה בכל זאת שהפרמטר יקבל רשימה כברירת מחדל, נעשה זאת כך:\n",
    "</p>"
   ]
  },
  {
   "cell_type": "code",
   "execution_count": 140,
   "metadata": {},
   "outputs": [
    {
     "name": "stdout",
     "output_type": "stream",
     "text": [
      "[1, 2, 3, 4]\n",
      "['a']\n",
      "['a']\n"
     ]
    }
   ],
   "source": [
    "def append(item, l=None):\n",
    "    if l == None:\n",
    "        l = []\n",
    "\n",
    "    l.append(item)\n",
    "    return l\n",
    "\n",
    "\n",
    "print(append(4, [1, 2, 3]))\n",
    "print(append('a'))\n",
    "print(append('a'))"
   ]
  },
  {
   "cell_type": "markdown",
   "metadata": {},
   "source": [
    "<p style=\"text-align: right; direction: rtl; float: right; clear: both;\">\n",
    "    שימו לב שהתופעה לא משתחזרת במבנים שהם immutable, כיוון שכשמם כן הם – אי אפשר לשנותם:\n",
    "</p>"
   ]
  },
  {
   "cell_type": "code",
   "execution_count": 98,
   "metadata": {},
   "outputs": [
    {
     "name": "stdout",
     "output_type": "stream",
     "text": [
      "101\n",
      "1\n",
      "1\n",
      "1\n",
      "101\n"
     ]
    }
   ],
   "source": [
    "def increment(i=0):\n",
    "    i = i + 1\n",
    "    return i\n",
    "\n",
    "\n",
    "print(increment(100))\n",
    "print(increment())\n",
    "print(increment())\n",
    "print(increment())\n",
    "print(increment(100))"
   ]
  },
  {
   "cell_type": "markdown",
   "metadata": {},
   "source": [
    "### <span style=\"text-align: right; direction: rtl; float: right; clear: both;\">דוגמאות נוספות<span>"
   ]
  },
  {
   "cell_type": "markdown",
   "metadata": {},
   "source": [
    "#### <span style=\"text-align: right; direction: rtl; float: right; clear: both;\">חיקוי מדויק של פונקציית get למילונים:<span>"
   ]
  },
  {
   "cell_type": "markdown",
   "metadata": {},
   "source": [
    "<p style=\"text-align: right; direction: rtl; float: right; clear: both;\">\n",
    "    נרענן את זיכרוננו בנוגע ל־unpacking:\n",
    "</p>"
   ]
  },
  {
   "cell_type": "code",
   "execution_count": 102,
   "metadata": {},
   "outputs": [
    {
     "name": "stdout",
     "output_type": "stream",
     "text": [
      "[1, 4, 7]\n"
     ]
    }
   ],
   "source": [
    "range_arguments = [1, 10, 3]\n",
    "range_result = range(*range_arguments)\n",
    "print(list(range_result))"
   ]
  },
  {
   "cell_type": "markdown",
   "metadata": {},
   "source": [
    "<p style=\"text-align: right; direction: rtl; float: right; clear: both;\">\n",
    "    או:\n",
    "</p>"
   ]
  },
  {
   "cell_type": "code",
   "execution_count": 103,
   "metadata": {},
   "outputs": [
    {
     "name": "stdout",
     "output_type": "stream",
     "text": [
      "My name is Mei, and my sister is Satsuki\n"
     ]
    }
   ],
   "source": [
    "preformatted_message = \"My name is {me}, and my sister is {sister}\"\n",
    "parameters = {'me': 'Mei', 'sister': 'Satsuki'}\n",
    "message = preformatted_message.format(**parameters)\n",
    "print(message)"
   ]
  },
  {
   "cell_type": "markdown",
   "metadata": {},
   "source": [
    "<p style=\"text-align: right; direction: rtl; float: right; clear: both;\">\n",
    "    אם כך, נוכל לכתוב:\n",
    "</p>"
   ]
  },
  {
   "cell_type": "code",
   "execution_count": 105,
   "metadata": {},
   "outputs": [],
   "source": [
    "def get(dictionary, *args, **kwargs):\n",
    "    return dictionary.get(*args, **kwargs)"
   ]
  },
  {
   "cell_type": "markdown",
   "metadata": {},
   "source": [
    "<p style=\"text-align: right; direction: rtl; float: right; clear: both;\">\n",
    "    שימו לב שהכוכביות בשורה הראשונה עוזרות לנו לקבל מספר משתנה של ארגומנטים.<br>\n",
    "    הכוכביות בשורה השנייה הן unpacking, כפי שלמדנו בשבוע שעבר.\n",
    "</p>"
   ]
  },
  {
   "cell_type": "markdown",
   "metadata": {},
   "source": [
    "<p style=\"text-align: right; direction: rtl; float: right; clear: both;\">\n",
    "    החיקוי הזה לא מועיל לנו במיוחד כרגע, אבל הוא יעבוד עבור כל סוג של פעולה.\n",
    "</p>"
   ]
  },
  {
   "cell_type": "markdown",
   "metadata": {},
   "source": [
    "## <span style=\"align: right; direction: rtl; float: right; clear: both;\">מונחים</span>"
   ]
  },
  {
   "cell_type": "markdown",
   "metadata": {},
   "source": [
    "<dl style=\"text-align: right; direction: rtl; float: right; clear: both;\">\n",
    "<dt>ערכי ברירת מחדל</dt><dd>Default Parameters. פרמטרים שנקבע להם ערך ברירת מחדל בכותרת הפונקציה.</dd>\n",
    "<dt>ארגומנטים לפי מיקום</dt><dd>Positional Arguments. ערכים המועברים כארגומנטים בקריאה לפונקציה לפי המיקום שלהם, וללא שם לידם.</dd>\n",
    "<dt>ארגומנטים לפי שם</dt><dd>Keyword Arguments. ערכים המועברים כארגומנטים בקריאה לפונקציה לפי השם שלהם שנמצא לפני השווה.</dd>\n",
    "<dt>מספר משתנה של ארגומנטים</dt><dd>נקרא לרוב <code dir=\"ltr\">*args</code>. מאפשר לנו לקבל מספר בלתי מוגבל של ארגומנטים לפי מיקום.</dd>\n",
    "<dt>מספר משתנה של ארגומנטים עם שמות</dt><dd>נקרא לרוב <code dir=\"ltr\">**kwargs</code>. מאפשר לנו לקבל מספר בלתי מוגבל של ארגומנטים לפי שם.</dd>\n",
    "</dl>"
   ]
  },
  {
   "cell_type": "markdown",
   "metadata": {},
   "source": [
    "## <span style=\"text-align: right; direction: rtl; float: right; clear: both;\">תרגילים<span>"
   ]
  },
  {
   "cell_type": "markdown",
   "metadata": {},
   "source": [
    "### <span style=\"text-align: right; direction: rtl; float: right; clear: both;\">כפלו לי שתו לי<span>"
   ]
  },
  {
   "cell_type": "markdown",
   "metadata": {},
   "source": [
    "<p style=\"text-align: right; direction: rtl; float: right; clear: both;\">\n",
    "    כתבו פונקציה בשם <var>avg</var> שמקבלת מספר בלתי מוגבל של ארגומנטים, ומדפיסה את הממוצע שלהם.\n",
    "</p>"
   ]
  },
  {
   "cell_type": "markdown",
   "metadata": {},
   "source": [
    "<ul style=\"text-align: right; direction: rtl; float: right; clear: both;\">\n",
    "    <li>\n",
    "        הקריאה <code dir=\"ltr\">avg(5, 6)</code>\n",
    "        תחזיר <samp dir=\"ltr\">5.5</samp>\n",
    "    </li>\n",
    "    <li>\n",
    "        הקריאה <code dir=\"ltr\">avg(10, 5, 3)</code>\n",
    "        תחזיר <samp dir=\"ltr\">6</samp>\n",
    "    </li>\n",
    "    <li>\n",
    "        הקריאה <code dir=\"ltr\">avg(2)</code>\n",
    "        תחזיר <samp dir=\"ltr\">2</samp>\n",
    "    </li>\n",
    "    <li>\n",
    "        הקריאה <code dir=\"ltr\">avg()</code>\n",
    "        תחזיר <samp dir=\"ltr\">None</samp> או שגיאה, לבחירתכם\n",
    "    </li>\n",
    "</ul>"
   ]
  },
  {
   "cell_type": "code",
   "execution_count": 4,
   "metadata": {},
   "outputs": [
    {
     "name": "stdout",
     "output_type": "stream",
     "text": [
      "5.5\n",
      "6.0\n",
      "2.0\n",
      "None\n"
     ]
    }
   ],
   "source": [
    "# Upload 78\n",
    "def avg(*numbers):\n",
    "    if not numbers:\n",
    "        return None\n",
    "    sum_of_numbers = 0\n",
    "    for number in numbers:\n",
    "        sum_of_numbers += number\n",
    "    return sum_of_numbers / len(numbers)\n",
    "\n",
    "\n",
    "print(avg(5, 6))\n",
    "print(avg(10, 5, 3))\n",
    "print(avg(2))\n",
    "print(avg())"
   ]
  },
  {
   "cell_type": "markdown",
   "metadata": {},
   "source": [
    "### <span style=\"text-align: right; direction: rtl; float: right; clear: both;\">Cup of join<span>"
   ]
  },
  {
   "cell_type": "markdown",
   "metadata": {},
   "source": [
    "<p style=\"text-align: right; direction: rtl; float: right; clear: both;\">\n",
    "    כתבו פונקציה בשם <var>join</var>, שמקבלת מספר בלתי מוגבל של רשימות, כל רשימה כפרמטר.<br>\n",
    "    על הפונקציה להיות מסוגלת לקבל פרמטר נוסף בשם <code>sep</code>.<br>\n",
    "    על הפונקציה להחזיר רשימה אחת המורכבת מכלל הרשימות שהתקבלו כפרמטרים.<br>\n",
    "    אם סופק הפרמטר <var>sep</var>, יש לשרשר אותו כאיבר בין כל שתי רשימות. אם הוא לא סופק, יש לשרשר את התו <code>\"-\"</code> במקום. \n",
    "</p>"
   ]
  },
  {
   "cell_type": "markdown",
   "metadata": {},
   "source": [
    "<ul style=\"text-align: right; direction: rtl; float: right; clear: both;\">\n",
    "    <li>\n",
    "        הקריאה <code dir=\"ltr\">join([1, 2], [8], [9, 5, 6], sep='@')</code>\n",
    "        תחזיר <samp dir=\"ltr\">[1, 2, '@', 8, '@', 9, 5, 6]</samp>\n",
    "    </li>\n",
    "    <li>\n",
    "        הקריאה <code dir=\"ltr\">join([1, 2], [8], [9, 5, 6])</code>\n",
    "        תחזיר <samp dir=\"ltr\">[1, 2, '-', 8, '-', 9, 5, 6]</samp>\n",
    "    </li>\n",
    "    <li>\n",
    "        הקריאה <code dir=\"ltr\">join([1])</code>\n",
    "        תחזיר <samp dir=\"ltr\">[1]</samp>\n",
    "    </li>\n",
    "    <li>\n",
    "        הקריאה <code dir=\"ltr\">join()</code>\n",
    "        תחזיר <samp dir=\"ltr\">None</samp> או שגיאה, לבחירתכם\n",
    "    </li>\n",
    "</ul>"
   ]
  },
  {
   "cell_type": "code",
   "execution_count": 10,
   "metadata": {},
   "outputs": [
    {
     "name": "stdout",
     "output_type": "stream",
     "text": [
      "[1, 2, '@', 8, '@', 9, 5, 6]\n",
      "[1, 2, '-', 8, '-', 9, 5, 6]\n",
      "[1]\n",
      "None\n"
     ]
    }
   ],
   "source": [
    "# Upload 79\n",
    "def join(*lists, sep='-'):\n",
    "    join_list = []\n",
    "    if not lists:\n",
    "        return\n",
    "    i = 0\n",
    "    for value in lists:\n",
    "        value.append(sep)\n",
    "        length_value = len(value)\n",
    "        while i < length_value:\n",
    "            join_list.append(value[i])\n",
    "            i += 1\n",
    "        i = 0\n",
    "    return join_list[:-1]\n",
    "\n",
    "\n",
    "print(join([1, 2], [8], [9, 5, 6], sep='@'))\n",
    "print(join([1, 2], [8], [9, 5, 6]))\n",
    "print(join([1]))\n",
    "print(join())"
   ]
  },
  {
   "cell_type": "code",
   "execution_count": 11,
   "metadata": {},
   "outputs": [
    {
     "name": "stdout",
     "output_type": "stream",
     "text": [
      "[1, 2, '@', 8, '@', 9, 5, 6]\n",
      "[1, 2, '-', 8, '-', 9, 5, 6]\n",
      "[1]\n",
      "None\n"
     ]
    }
   ],
   "source": [
    "def join(*lists, sep='-'):\n",
    "    join_list = []\n",
    "    if not lists:\n",
    "        return\n",
    "    for value in lists:\n",
    "        value.append(sep)\n",
    "        join_list.extend(value)\n",
    "    return join_list[:-1]\n",
    "\n",
    "\n",
    "print(join([1, 2], [8], [9, 5, 6], sep='@'))\n",
    "print(join([1, 2], [8], [9, 5, 6]))\n",
    "print(join([1]))\n",
    "print(join())"
   ]
  },
  {
   "cell_type": "markdown",
   "metadata": {},
   "source": [
    "### <span style=\"text-align: right; direction: rtl; float: right; clear: both;\">חתכת עוגה<span>"
   ]
  },
  {
   "cell_type": "markdown",
   "metadata": {},
   "source": [
    "<p style=\"text-align: right; direction: rtl; float: right; clear: both;\">\n",
    "    ממשו פונקציה בשם <var>get_recipe_price</var>, שלה יש:<br>\n",
    "</p>"
   ]
  },
  {
   "cell_type": "markdown",
   "metadata": {},
   "source": [
    "<ul style=\"text-align: right; direction: rtl; float: right; clear: both;\">\n",
    "    <li>\n",
    "        פרמטר בשם <var>prices</var>, שיקבל מילון של מצרכים הדרושים כדי להכין מתכון מסוים.<br>\n",
    "        מפתח המילון יהיה שם המוצר, וערך המילון יהיה המחיר שלו ל־100 גרם.<br>\n",
    "        הניחו ששמו של כל רכיב הוא מילה אחת, ללא רווחים וללא תווים מיוחדים.\n",
    "    </li>\n",
    "    <li>\n",
    "        פרמטר רשות בשם <var>optionals</var> שיקבל רשימה של רכיבים שנתעלם מהם, משמע – לא נקנה מהם בכלל.<br>\n",
    "        אם הפרמטר לא יצוין, יש להתייחס לכל הרכיבים שהועברו.\n",
    "    </li>\n",
    "    <li>\n",
    "        עבור כל רכיב שהועבר ב־<var>ingredients</var>, יש להעביר ארגומנט הנושא את שמו של הרכיב.<br>\n",
    "        ערך הארגומנט צריך להיות כמות הרכיב (בגרמים) שממנה אנחנו רוצים לקנות עבור המתכון.\n",
    "    </li>\n",
    "</ul>"
   ]
  },
  {
   "cell_type": "markdown",
   "metadata": {},
   "source": [
    "<p style=\"text-align: right; direction: rtl; float: right; clear: both;\">\n",
    "    הפונקציה תחזיר את המחיר שעלינו לשלם על קניית כל המצרכים.\n",
    "</p>"
   ]
  },
  {
   "cell_type": "markdown",
   "metadata": {},
   "source": [
    "<ul style=\"text-align: right; direction: rtl; float: right; clear: both;\">\n",
    "    <li>\n",
    "        הקריאה <code dir=\"ltr\">get_recipe_price({'chocolate': 18, 'milk': 8}, chocolate=200, milk=100)</code><br>\n",
    "        תחזיר <samp dir=\"ltr\">44</samp>\n",
    "    </li>\n",
    "    <li>\n",
    "        הקריאה <code dir=\"ltr\">get_recipe_price({'chocolate': 18, 'milk': 8}, optional=['milk'], chocolate=300)</code><br>\n",
    "        תחזיר <samp dir=\"ltr\">54</samp>\n",
    "    </li>\n",
    "    <li>\n",
    "        הקריאה <code dir=\"ltr\">get_recipe_price({})</code><br>\n",
    "        תחזיר <samp dir=\"ltr\">0</samp>\n",
    "    </li>\n",
    "</ul>"
   ]
  },
  {
   "cell_type": "code",
   "execution_count": 148,
   "metadata": {},
   "outputs": [
    {
     "name": "stdout",
     "output_type": "stream",
     "text": [
      "44.0\n",
      "54.0\n",
      "0\n"
     ]
    }
   ],
   "source": [
    "# Upload 80\n",
    "def get_recipe_price(prices, optional=None, **ingredients):\n",
    "    if optional is None:\n",
    "        optional = []\n",
    "    total_price = 0\n",
    "    for key_one, value_one in ingredients.items():\n",
    "        price_for_100_gram = value_one / 100\n",
    "        for key_two, value_two in prices.items():\n",
    "            if key_one == key_two:\n",
    "                total_price += value_two * price_for_100_gram\n",
    "    return total_price\n",
    "\n",
    "\n",
    "print(get_recipe_price({'chocolate': 18, 'milk': 8}, chocolate=200, milk=100))\n",
    "print(get_recipe_price({'chocolate': 18, 'milk': 8}, optional=['milk'], chocolate=300))\n",
    "print(get_recipe_price({}))"
   ]
  },
  {
   "cell_type": "code",
   "execution_count": null,
   "metadata": {},
   "outputs": [],
   "source": []
  }
 ],
 "metadata": {
  "kernelspec": {
   "display_name": "Python 3",
   "language": "python",
   "name": "python3"
  },
  "language_info": {
   "codemirror_mode": {
    "name": "ipython",
    "version": 3
   },
   "file_extension": ".py",
   "mimetype": "text/x-python",
   "name": "python",
   "nbconvert_exporter": "python",
   "pygments_lexer": "ipython3",
   "version": "3.7.6"
  }
 },
 "nbformat": 4,
 "nbformat_minor": 2
}
