{
 "cells": [
  {
   "cell_type": "markdown",
   "metadata": {},
   "source": [
    "<img src=\"images/logo.jpg\" style=\"display: block; margin-left: auto; margin-right: auto;\" alt=\"לוגו של מיזם לימוד הפייתון. נחש מצויר בצבעי צהוב וכחול, הנע בין האותיות של שם הקורס: לומדים פייתון. הסלוגן המופיע מעל לשם הקורס הוא מיזם חינמי ללימוד תכנות בעברית.\">"
   ]
  },
  {
   "cell_type": "markdown",
   "metadata": {},
   "source": [
    "# <p style=\"text-align:right;direction:rtl;\"> תרגילים </p> "
   ]
  },
  {
   "cell_type": "markdown",
   "metadata": {},
   "source": [
    "## <span style=\"text-align: right; direction: rtl; float: right; clear: both;\">הקדמה</span>"
   ]
  },
  {
   "cell_type": "markdown",
   "metadata": {},
   "source": [
    "<p style=\"text-align: right; direction: rtl; float: right; clear: both;\">\n",
    "    התרגול השבוע כרוך בהשקעת מאמץ ניכר, ומטרתו לחזור ולחזק את היסודות שנלמדו בשבועות קודמים.<br>\n",
    "    השבוע ניצב בפניכם אתגר חדש: חזקו את יכולות החיפוש שלכם באינטרנט ובתיעוד של פייתון, ונסו למצוא מודולים שיסייעו לכם בפתרון הבעיות.<br>\n",
    "    זוהי יכולת חשובה מאוד עבור מתכנתים, וזהו בהחלט חלק נכבד מהאתגר בתרגילים שמופיעים לפניכם במחברת הזו.\n",
    "</p>"
   ]
  },
  {
   "cell_type": "markdown",
   "metadata": {},
   "source": [
    "## <span style=\"text-align: right; direction: rtl; float: right; clear: both;\">מלחמה וזהו?</span>"
   ]
  },
  {
   "cell_type": "markdown",
   "metadata": {},
   "source": [
    "<p style=\"text-align: right; direction: rtl; float: right; clear: both;\">\n",
    "    פתרו את התרגיל \"מלחמה וזהו\" משבוע 4, הפעם עם הידע החדש שרכשתם.\n",
    "</p>"
   ]
  },
  {
   "cell_type": "code",
   "execution_count": 46,
   "metadata": {},
   "outputs": [
    {
     "name": "stdout",
     "output_type": "stream",
     "text": [
      "[('the', 34566), ('and', 22167), ('to', 16711), ('of', 14994), ('a', 10502), ('he', 9817), ('in', 9000), ('his', 7967), ('that', 7809), ('was', 7328)]\n"
     ]
    }
   ],
   "source": [
    "# Upload 86\n",
    "import collections\n",
    "import re\n",
    "words = re.findall(r'\\w+', open('resources\\war-and-peace.txt').read().lower())\n",
    "most_common = collections.Counter(words).most_common(10)\n",
    "print(most_common)"
   ]
  },
  {
   "cell_type": "markdown",
   "metadata": {},
   "source": [
    "## <span style=\"text-align: right; direction: rtl; float: right; clear: both;\">כלים שלובים</span>"
   ]
  },
  {
   "cell_type": "markdown",
   "metadata": {},
   "source": [
    "<p style=\"text-align: right; direction: rtl; float: right; clear: both;\">\n",
    "    כתבו פונקציה בשם <code>interleave</code> שמקבלת פרמטר iterable אחד או יותר, ומחזירה רשימה של האיברים שזורים זה בזה.\n",
    "</p>"
   ]
  },
  {
   "cell_type": "code",
   "execution_count": null,
   "metadata": {},
   "outputs": [],
   "source": []
  },
  {
   "cell_type": "markdown",
   "metadata": {},
   "source": [
    "<p style=\"text-align: right; direction: rtl; float: right; clear: both;\">\n",
    "לדוגמה, עבור הקריאה <code dir=\"ltr\" style=\"direction: ltr; text-align: left;\">interleave('abc', [1, 2, 3], ('!', '@', '#'))</code> יוחזר הערך: <samp dir=\"ltr\" style=\"direction: ltr; text-align: left;\">['a', 1, '!', 'b', 2, '@', 'c', 3, '#']</samp>.\n",
    "</p>"
   ]
  },
  {
   "cell_type": "code",
   "execution_count": 62,
   "metadata": {},
   "outputs": [
    {
     "name": "stdout",
     "output_type": "stream",
     "text": [
      "['m', 1, '!', 'b', 2, '@', 'c', 3, '#']\n",
      "('m', 1, '!')\n",
      "('b', 2, '@')\n",
      "('c', 3, '#')\n"
     ]
    }
   ],
   "source": [
    "# Upload 87\n",
    "import itertools\n",
    "\n",
    "\n",
    "def interleave_func(*iterables, fillvalue=None):\n",
    "    list_of_iterables = []\n",
    "    my_genrator = itertools.zip_longest(*iterables, fillvalue=None)\n",
    "    for element in my_genrator:\n",
    "        list_of_iterables.extend(element)\n",
    "    return(list_of_iterables)\n",
    "\n",
    "\n",
    "print(interleave_func({'m': 5, 'b': 6, 'c': 7}, [1, 2, 3], ('!', '@', '#'), fillvalue=None))\n",
    "# print(interleave_func('abc', [1, 2, 3], ('!', '@', '#'), fillvalue=None))\n",
    "\n",
    "\n",
    "# import itertools\n",
    "def interleave_genrator(*iterables, fillvalue=None):\n",
    "    my_genrator = itertools.zip_longest(*iterables, fillvalue=None)\n",
    "    for element in my_genrator:\n",
    "        yield element\n",
    "\n",
    "\n",
    "for value in interleave_genrator({'m': 5, 'b': 6, 'c': 7}, [1, 2, 3], ('!', '@', '#'), fillvalue=None):\n",
    "    print(value)\n",
    "# for value in interleave_genrator('abc', [1, 2, 3], ('!', '@', '#'), fillvalue=None):\n",
    "#     print(value)"
   ]
  },
  {
   "cell_type": "code",
   "execution_count": 3,
   "metadata": {},
   "outputs": [
    {
     "name": "stdout",
     "output_type": "stream",
     "text": [
      "('m', 1, '!')\n",
      "('b', 2, '@')\n",
      "('c', 3, '#')\n",
      "('a', 1, '!')\n",
      "('b', 2, '@')\n",
      "('c', 3, '#')\n"
     ]
    }
   ],
   "source": [
    "# itertools.zip_longest(*iterables, fillvalue=None) פונקציה שהיא גנרטור לא היה צורך בפור \n",
    "import itertools\n",
    "def interleave_genrator(*iterables, fillvalue=None):\n",
    "    my_genrator = itertools.zip_longest(*iterables, fillvalue=None)\n",
    "    return my_genrator\n",
    "#     for element in my_genrator:\n",
    "#         yield element\n",
    "\n",
    "\n",
    "for value in interleave_genrator({'m': 5, 'b': 6, 'c': 7}, [1, 2, 3], ('!', '@', '#'), fillvalue=None):\n",
    "    print(value)\n",
    "for value in interleave_genrator('abc', [1, 2, 3], ('!', '@', '#'), fillvalue=None):\n",
    "    print(value)"
   ]
  },
  {
   "cell_type": "markdown",
   "metadata": {},
   "source": [
    "<p style=\"text-align: right; direction: rtl; float: right; clear: both;\">\n",
    "    ממשו גרסה של generator ל־interleave.\n",
    "</p>"
   ]
  },
  {
   "cell_type": "code",
   "execution_count": 63,
   "metadata": {},
   "outputs": [
    {
     "name": "stdout",
     "output_type": "stream",
     "text": [
      "a\n",
      "1\n",
      "!\n",
      "b\n",
      "2\n",
      "@\n",
      "c\n",
      "3\n",
      "#\n",
      "f\n",
      "4\n",
      "%\n"
     ]
    }
   ],
   "source": [
    "def interleave_genrator(list_one, list_two, list_three):\n",
    "    answer = []\n",
    "    for index in range (len(list_one)):\n",
    "        one = list_one[index]\n",
    "        yield one\n",
    "        two = list_two[index]\n",
    "        yield two\n",
    "        three = list_three[index]\n",
    "        yield three\n",
    "        temp = [one, two, three]\n",
    "        answer.extend(temp)\n",
    "\n",
    "list_one, list_two, list_three =  'abcf', [1, 2, 3, 4], ('!', '@', '#', '%')\n",
    "#list_one, list_two, list_three =  {1: 'abcf',2:'f',3:'g',4:'m'}, [1, 2, 3, 4], ('!', '@', '#', '%')\n",
    "my_genrator = interleave_genrator(list_one, list_two, list_three)\n",
    "for _temp in range(len(list_one) + len(list_two) + len(list_three)):\n",
    "    print(next(my_genrator))"
   ]
  },
  {
   "cell_type": "markdown",
   "metadata": {},
   "source": [
    "## <span style=\"text-align: right; direction: rtl; float: right; clear: both;\">שובו של קשטן</span>"
   ]
  },
  {
   "cell_type": "markdown",
   "metadata": {},
   "source": [
    "<p style=\"text-align: right; direction: rtl; float: right; clear: both;\">\n",
    "    בחנות של אדון קשטן ישנו מילון המכיל את כל המוצרים בחנות, ואת המלאי של כל מוצר.<br>\n",
    "    רשמו פונקציה שמקבלת את המוצרים שהתקבלו במשלוח האחרון, ומעדכנת את המלאי של אדון קשטן בהתאם לכך.\n",
    "</p>"
   ]
  },
  {
   "cell_type": "markdown",
   "metadata": {},
   "source": [
    "<p style=\"text-align: right; direction: rtl; float: right; clear: both;\">\n",
    "לדוגמה:\n",
    "</p>"
   ]
  },
  {
   "cell_type": "markdown",
   "metadata": {},
   "source": [
    "<ul style=\"text-align: right; direction: rtl; float: right; clear: both;\">\n",
    "    <li>עבור הקריאה <code dir=\"ltr\" style=\"direction: ltr; text-align: left;\">add_inventory({'cheese': 2, 'milk': 1}, cheese=3, chocolate=5)</code><br>\n",
    "        יוחזר המלאי: <samp dir=\"ltr\" style=\"direction: ltr; text-align: left;\">{'cheese': 5, 'chocolate': 5, 'milk': 1}</samp>\n",
    "    </li>\n",
    "    <li>עבור הקריאה <code dir=\"ltr\" style=\"direction: ltr; text-align: left;\">add_inventory({'refrigerator': 7, 'goat': 1}, honey=2)</code><br>\n",
    "    יוחזר המלאי: <samp dir=\"ltr\" style=\"direction: ltr; text-align: left;\">{'honey': 2, 'refrigerator': 7, 'goat': 1}</samp>\n",
    "    </li>\n",
    "</ul>"
   ]
  },
  {
   "cell_type": "code",
   "execution_count": 73,
   "metadata": {},
   "outputs": [
    {
     "name": "stdout",
     "output_type": "stream",
     "text": [
      "{'cheese': 5, 'milk': 1, 'chocolate': 5}\n",
      "{'refrigerator': 7, 'goat': 1, 'honey': 2}\n"
     ]
    }
   ],
   "source": [
    "# Upload 88\n",
    "def add_inventory(dict_of_product_in_kashtan_shop, **products_and_amount):\n",
    "    flag_adding = 1\n",
    "    for key_one in products_and_amount:\n",
    "        flag_adding = 1\n",
    "        for key_two in dict_of_product_in_kashtan_shop:\n",
    "            if key_one == key_two:\n",
    "                temp = dict_of_product_in_kashtan_shop[key_one] + products_and_amount[key_one]\n",
    "                dict_of_product_in_kashtan_shop[key_one] = temp\n",
    "                flag_adding = 0\n",
    "        if flag_adding:\n",
    "            dict_of_product_in_kashtan_shop.update({key_one: products_and_amount[key_one]})\n",
    "    return dict_of_product_in_kashtan_shop\n",
    "\n",
    "\n",
    "print(add_inventory({'cheese': 2, 'milk': 1}, cheese=3, chocolate=5))\n",
    "print(add_inventory({'refrigerator': 7, 'goat': 1}, honey=2))"
   ]
  },
  {
   "cell_type": "markdown",
   "metadata": {},
   "source": [
    "## <span style=\"text-align: right; direction: rtl; float: right; clear: both;\">הארי רציונלי אבל לא נורא</span>"
   ]
  },
  {
   "cell_type": "markdown",
   "metadata": {},
   "source": [
    "<p style=\"text-align: right; direction: rtl; float: right; clear: both;\">\n",
    "    הספרן שהיה בדרכו להביא לי את העותק הנחשק של \"<a href=\"https://rationality.co.il/\">הארי פוטר והשיטה הרציונלית</a>\" מעד.<br>\n",
    "    הספרים התעופפו ופרקי הספרים התפזרו לכל עבר.<br>\n",
    "    בתיקייה resources מצורף קובץ מכווץ ובו כל פרקי הסיפור, אך למרבה הצער שם הקבצים אינו תואם לתוכן שלהם.<br>\n",
    "    שנו את שמו של כל קובץ כך ששמו החדש יהיה מספר תלתַ־ספרתי שמתאר את מספר הפרק, ואחריו את שם הפרק.<br>\n",
    "    לדוגמה: עבור הפרק הראשון, שם הקובץ צריך להיות <samp dir=\"ltr\" style=\"direction: ltr; font-style: italic;\">001 A Day of Very Low Probability</samp>.<br>\n",
    "    במהלך התרגיל ייתכן שתצטרכו לשלב עבודה עם כמה ספריות, ובהן כאלו שלא למדנו.\n",
    "</p>"
   ]
  },
  {
   "cell_type": "markdown",
   "metadata": {},
   "source": [
    "<ul style=\"text-align: right; direction: rtl; float: right; clear: both;\">\n",
    "    <li>פתחו את קובץ ה־zip ידנית לפני תחילת העבודה, וחלצו ממנו את כל הפרקים של הספר.</li>\n",
    "    <li>כדי לדמות תרגיל מהעולם האמיתי, הושתלו כמה בעיות שבהן תתקלו לאחר שתריצו את התוכנה שלכם. פתרו אותן בעזרת תכנות.</li>\n",
    "</ul>"
   ]
  },
  {
   "cell_type": "markdown",
   "metadata": {},
   "source": [
    "<p style=\"text-align: right; direction: rtl; float: right; clear: both;\">\n",
    "    טיפ: גבו את הקבצים לפני שתתחילו לעבוד עליהם.<br>\n",
    "    רמז: <span style=\"background: black;\">אפשר לפתוח קובצי html ידנית, כקובצי טקסט.</span><br>\n",
    "    רמז 2: <span style=\"background: black;\">כיצד משנים שמות של קבצים באמצעות פייתון?</span>\n",
    "</p>"
   ]
  },
  {
   "cell_type": "code",
   "execution_count": null,
   "metadata": {},
   "outputs": [],
   "source": [
    "import os\n",
    "os.rename(r'file path\\OLD file name.file type',r'file path\\NEW file name.file type')\n",
    "os.rename(r'C:\\Users\\Ron\\Desktop\\Test\\Products.txt',r'C:\\Users\\Ron\\Desktop\\Test\\Shipped Products.txt')"
   ]
  },
  {
   "cell_type": "code",
   "execution_count": 177,
   "metadata": {
    "scrolled": false
   },
   "outputs": [],
   "source": [
    "# Upload 89\n",
    "import os\n",
    "for file_need_change_name in os.listdir('resources\\hary poter'):\n",
    "    flag_loop = 1\n",
    "    i = 0\n",
    "    string_one = ''\n",
    "    with open('resources\\\\hary poter\\\\' + file_need_change_name, 'r', encoding=\"utf8\") as new_file:\n",
    "        data = new_file.readlines()\n",
    "        while flag_loop:\n",
    "            if 'Chapter' in data[i]:\n",
    "                temp = str(data[i])\n",
    "                index = temp.index('Chapter') + 8\n",
    "                while temp[index] != '\\n':\n",
    "                    string_one += temp[index]\n",
    "                    index += 1\n",
    "                flag_loop = 0\n",
    "            i += 1\n",
    "    string_one = string_one.replace('</title>', '').replace(':', '')\n",
    "    leng_string_one = len(string_one)\n",
    "    list_split_by_space = string_one.split()\n",
    "    temp_one = list_split_by_space[0]\n",
    "    temp__with_zero = temp_one.zfill(3)\n",
    "    string_one = string_one.replace(temp_one, temp__with_zero)\n",
    "    path_one = 'C:\\\\Users\\\\Eylon\\\\Desktop\\\\python\\\\week5\\\\resources\\\\hary poter\\\\' + file_need_change_name\n",
    "    path_two = 'C:\\\\Users\\\\Eylon\\Desktop\\\\python\\\\week5\\\\resources\\\\hary poter\\\\' + string_one + '.html'\n",
    "    os.rename(path_one, path_two)"
   ]
  },
  {
   "cell_type": "markdown",
   "metadata": {},
   "source": [
    "## <span style=\"text-align: right; direction: rtl; float: right; clear: both;\">פרדוקס יום ההולדת</span>"
   ]
  },
  {
   "cell_type": "markdown",
   "metadata": {},
   "source": [
    "<p style=\"text-align: right; direction: rtl; float: right; clear: both;\">\n",
    "    מוצגת להלן אחת מהגרסאות של <a href=\"https://he.wikipedia.org/wiki/%D7%A4%D7%A8%D7%93%D7%95%D7%A7%D7%A1_%D7%99%D7%95%D7%9D_%D7%94%D7%94%D7%95%D7%9C%D7%93%D7%AA\">פרדוקס יום ההולדת</a>:\n",
    "</p>"
   ]
  },
  {
   "cell_type": "markdown",
   "metadata": {},
   "source": [
    "<blockquote style=\"border-left:none !important; position: relative; padding-left: 0.5em; padding: 1.5em; border-right: 3px solid #a93226; background-color: #fbe7e6; direction: rtl; text-align: right; clear: both;\">\n",
    "    מה הסיכוי שבכיתה שבה 23 תלמידים (חחחחח) יציינו שני תלמידים יום הולדת באותו תאריך?<br>\n",
    "</blockquote>"
   ]
  },
  {
   "cell_type": "markdown",
   "metadata": {},
   "source": [
    "<p style=\"text-align: right; direction: rtl; float: right; clear: both;\">\n",
    "הנחות המוצא שלנו בפתירת הבעיה הן כדלהלן:\n",
    "</p>"
   ]
  },
  {
   "cell_type": "markdown",
   "metadata": {},
   "source": [
    "<ul style=\"text-align: right; direction: rtl; float: right; clear: both;\">\n",
    "    <li>הילודה מפוזרת באופן שווה לאורך השנה (<a href=\"https://en.wikipedia.org/wiki/Birthday#Frequency\">היא לא</a>, אבל נדמיין שכן).</li>\n",
    "    <li>כשאנחנו אומרים \"תאריך\" אנחנו מתכוונים לצירוף של החודש והיום, ללא התייחסות לשנה.<br>\n",
    "        מי שנולד ב־1 במאי 1992 הוא בעל תאריך יום הולדת זהה למי שנולד ב־1 במאי 1995.</li>\n",
    "</ul>"
   ]
  },
  {
   "cell_type": "markdown",
   "metadata": {},
   "source": [
    "<p style=\"text-align: right; direction: rtl; float: right; clear: both;\">\n",
    "    הפתרון של ה\"פרדוקס\" מפתיע את רוב האנשים ששומעים עליו לראשונה.\n",
    "</p>"
   ]
  },
  {
   "cell_type": "markdown",
   "metadata": {},
   "source": [
    "<p style=\"text-align: right; direction: rtl; float: right; clear: both;\">\n",
    "    כתבו תוכנה שמגרילה תאריכי יום הולדת עבור 10,000 כיתות, שבכל אחת מהן לומדים 23 תלמידים.<br>\n",
    "    מהו אחוז הכיתות שבהן ציינו 2 ימי הולדת באותו תאריך? השוו עם הפתרון המוצג בוויקיפדיה.<br>\n",
    "    דאגו שהפתרון שלכם יתחשב בכך שקיימות שנים מעוברות.<br>\n",
    "</p>"
   ]
  },
  {
   "cell_type": "markdown",
   "metadata": {},
   "source": [
    "<p style=\"text-align: right; direction: rtl; float: right; clear: both;\">\n",
    "    השתמשו בתוכנה שכתבתם כדי לחשב את הסיכויים עבור כיתות שבהן תלמיד אחד, ועד כיתות ישראליות ממוצעות שבהן 366 תלמידים.\n",
    "</p>"
   ]
  },
  {
   "cell_type": "code",
   "execution_count": 36,
   "metadata": {},
   "outputs": [
    {
     "name": "stdout",
     "output_type": "stream",
     "text": [
      "Please insert a start year from this pattern: YYYY 1900\n",
      "Please insert a end date from this pattern: YYYY 2020\n",
      "51.519999999999996\n"
     ]
    }
   ],
   "source": [
    "\n",
    "import datetime\n",
    "import random\n",
    "\n",
    "\n",
    "STUDENTS = 23\n",
    "CLASSROOM = 10000\n",
    "\n",
    "\n",
    "def random_date(date_time_obj_one, date_time_obj_two):\n",
    "    \"\"\"\n",
    "    This function will return a random datetime between two datetime\n",
    "    objects by turning the date into seconds .\n",
    "    \"\"\"\n",
    "    delta = date_time_obj_two - date_time_obj_one\n",
    "    int_delta = (delta.days * 24 * 60 * 60)\n",
    "    random_second = random.randrange(int_delta)\n",
    "    return date_time_obj_one + datetime.timedelta(seconds=random_second)\n",
    "\n",
    "\n",
    "def lottery_date(date_one, date_two):\n",
    "    date_time_obj_one = datetime.datetime.strptime(date_one, '%Y')\n",
    "    date_time_obj_two = datetime.datetime.strptime(date_two, '%Y')\n",
    "    lottery = random_date(date_time_obj_one, date_time_obj_two)\n",
    "    return(lottery.strftime(\"%m-%d\"))\n",
    "\n",
    "\n",
    "def birthday_paradox(date_one, date_two):\n",
    "    j = 0\n",
    "    counter_of_same_date_in_different_class = 0\n",
    "    while j < CLASSROOM:\n",
    "        i = 0\n",
    "        list_of_birthday = []\n",
    "        flag_mark_class = False\n",
    "        while i < STUDENTS:\n",
    "            temp_date = lottery_date(date_one, date_two)\n",
    "            if temp_date in list_of_birthday:\n",
    "                flag_mark_class = True\n",
    "            list_of_birthday.append(temp_date)\n",
    "            i += 1\n",
    "        if flag_mark_class:\n",
    "            counter_of_same_date_in_different_class += 1\n",
    "        j += 1\n",
    "    return counter_of_same_date_in_different_class\n",
    "\n",
    "\n",
    "date_one = input(\"Please insert a start year from this pattern: YYYY \")\n",
    "date_two = input(\"Please insert a end date from this pattern: YYYY \")\n",
    "print((birthday_paradox(date_one, date_two) / CLASSROOM) * 100)"
   ]
  },
  {
   "cell_type": "code",
   "execution_count": 45,
   "metadata": {},
   "outputs": [
    {
     "name": "stdout",
     "output_type": "stream",
     "text": [
      "Please insert a start year from this pattern: YYYY 1900\n",
      "Please insert a end date from this pattern: YYYY 2020\n",
      "50.32\n",
      "For 1 students The percentage of classrooms marked 2 birthdays by date is: 0.0%\n",
      "For 2 students The percentage of classrooms marked 2 birthdays by date is: 0.25%\n",
      "For 3 students The percentage of classrooms marked 2 birthdays by date is: 0.83%\n",
      "For 4 students The percentage of classrooms marked 2 birthdays by date is: 1.72%\n",
      "For 5 students The percentage of classrooms marked 2 birthdays by date is: 2.81%\n",
      "For 6 students The percentage of classrooms marked 2 birthdays by date is: 3.82%\n",
      "For 7 students The percentage of classrooms marked 2 birthdays by date is: 5.680000000000001%\n",
      "For 8 students The percentage of classrooms marked 2 birthdays by date is: 7.000000000000001%\n",
      "For 9 students The percentage of classrooms marked 2 birthdays by date is: 9.27%\n",
      "For 10 students The percentage of classrooms marked 2 birthdays by date is: 11.19%\n",
      "For 11 students The percentage of classrooms marked 2 birthdays by date is: 14.19%\n",
      "For 12 students The percentage of classrooms marked 2 birthdays by date is: 17.150000000000002%\n",
      "For 13 students The percentage of classrooms marked 2 birthdays by date is: 19.73%\n",
      "For 14 students The percentage of classrooms marked 2 birthdays by date is: 21.85%\n"
     ]
    },
    {
     "ename": "KeyboardInterrupt",
     "evalue": "",
     "output_type": "error",
     "traceback": [
      "\u001b[1;31m---------------------------------------------------------------------------\u001b[0m",
      "\u001b[1;31mKeyboardInterrupt\u001b[0m                         Traceback (most recent call last)",
      "\u001b[1;32m<ipython-input-45-cfc830dbe19b>\u001b[0m in \u001b[0;36m<module>\u001b[1;34m\u001b[0m\n\u001b[0;32m     48\u001b[0m \u001b[0mprint\u001b[0m\u001b[1;33m(\u001b[0m\u001b[1;33m(\u001b[0m\u001b[0mbirthday_paradox\u001b[0m\u001b[1;33m(\u001b[0m\u001b[0mdate_one\u001b[0m\u001b[1;33m,\u001b[0m \u001b[0mdate_two\u001b[0m\u001b[1;33m,\u001b[0m \u001b[0mSTUDENTS\u001b[0m\u001b[1;33m)\u001b[0m \u001b[1;33m/\u001b[0m \u001b[0mCLASSROOM\u001b[0m\u001b[1;33m)\u001b[0m \u001b[1;33m*\u001b[0m \u001b[1;36m100\u001b[0m\u001b[1;33m)\u001b[0m\u001b[1;33m\u001b[0m\u001b[1;33m\u001b[0m\u001b[0m\n\u001b[0;32m     49\u001b[0m \u001b[1;32mfor\u001b[0m \u001b[0mstudents\u001b[0m \u001b[1;32min\u001b[0m \u001b[0mrange\u001b[0m\u001b[1;33m(\u001b[0m\u001b[1;36m1\u001b[0m\u001b[1;33m,\u001b[0m \u001b[1;36m367\u001b[0m\u001b[1;33m)\u001b[0m\u001b[1;33m:\u001b[0m\u001b[1;33m\u001b[0m\u001b[1;33m\u001b[0m\u001b[0m\n\u001b[1;32m---> 50\u001b[1;33m     \u001b[0mprint\u001b[0m\u001b[1;33m(\u001b[0m\u001b[1;34mf'For {students} students The percentage of classrooms marked 2 birthdays by date is: '\u001b[0m \u001b[1;33m+\u001b[0m \u001b[0mstr\u001b[0m\u001b[1;33m(\u001b[0m\u001b[1;33m(\u001b[0m\u001b[0mbirthday_paradox\u001b[0m\u001b[1;33m(\u001b[0m\u001b[0mdate_one\u001b[0m\u001b[1;33m,\u001b[0m \u001b[0mdate_two\u001b[0m\u001b[1;33m,\u001b[0m \u001b[0mstudents\u001b[0m\u001b[1;33m)\u001b[0m \u001b[1;33m/\u001b[0m \u001b[0mCLASSROOM\u001b[0m\u001b[1;33m)\u001b[0m \u001b[1;33m*\u001b[0m \u001b[1;36m100\u001b[0m\u001b[1;33m)\u001b[0m \u001b[1;33m+\u001b[0m \u001b[1;34m'%'\u001b[0m\u001b[1;33m)\u001b[0m\u001b[1;33m\u001b[0m\u001b[1;33m\u001b[0m\u001b[0m\n\u001b[0m",
      "\u001b[1;32m<ipython-input-45-cfc830dbe19b>\u001b[0m in \u001b[0;36mbirthday_paradox\u001b[1;34m(date_one, date_two, students)\u001b[0m\n\u001b[0;32m     33\u001b[0m         \u001b[0mflag_mark_class\u001b[0m \u001b[1;33m=\u001b[0m \u001b[1;32mFalse\u001b[0m\u001b[1;33m\u001b[0m\u001b[1;33m\u001b[0m\u001b[0m\n\u001b[0;32m     34\u001b[0m         \u001b[1;32mwhile\u001b[0m \u001b[0mi\u001b[0m \u001b[1;33m<\u001b[0m \u001b[0mstudents\u001b[0m\u001b[1;33m:\u001b[0m\u001b[1;33m\u001b[0m\u001b[1;33m\u001b[0m\u001b[0m\n\u001b[1;32m---> 35\u001b[1;33m             \u001b[0mtemp_date\u001b[0m \u001b[1;33m=\u001b[0m \u001b[0mlottery_date\u001b[0m\u001b[1;33m(\u001b[0m\u001b[0mdate_one\u001b[0m\u001b[1;33m,\u001b[0m \u001b[0mdate_two\u001b[0m\u001b[1;33m)\u001b[0m\u001b[1;33m\u001b[0m\u001b[1;33m\u001b[0m\u001b[0m\n\u001b[0m\u001b[0;32m     36\u001b[0m             \u001b[1;32mif\u001b[0m \u001b[0mtemp_date\u001b[0m \u001b[1;32min\u001b[0m \u001b[0mlist_of_birthday\u001b[0m\u001b[1;33m:\u001b[0m\u001b[1;33m\u001b[0m\u001b[1;33m\u001b[0m\u001b[0m\n\u001b[0;32m     37\u001b[0m                 \u001b[0mflag_mark_class\u001b[0m \u001b[1;33m=\u001b[0m \u001b[1;32mTrue\u001b[0m\u001b[1;33m\u001b[0m\u001b[1;33m\u001b[0m\u001b[0m\n",
      "\u001b[1;32m<ipython-input-45-cfc830dbe19b>\u001b[0m in \u001b[0;36mlottery_date\u001b[1;34m(date_one, date_two)\u001b[0m\n\u001b[0;32m     20\u001b[0m \u001b[1;32mdef\u001b[0m \u001b[0mlottery_date\u001b[0m\u001b[1;33m(\u001b[0m\u001b[0mdate_one\u001b[0m\u001b[1;33m,\u001b[0m \u001b[0mdate_two\u001b[0m\u001b[1;33m)\u001b[0m\u001b[1;33m:\u001b[0m\u001b[1;33m\u001b[0m\u001b[1;33m\u001b[0m\u001b[0m\n\u001b[0;32m     21\u001b[0m     \u001b[0mdate_time_obj_one\u001b[0m \u001b[1;33m=\u001b[0m \u001b[0mdatetime\u001b[0m\u001b[1;33m.\u001b[0m\u001b[0mdatetime\u001b[0m\u001b[1;33m.\u001b[0m\u001b[0mstrptime\u001b[0m\u001b[1;33m(\u001b[0m\u001b[0mdate_one\u001b[0m\u001b[1;33m,\u001b[0m \u001b[1;34m'%Y'\u001b[0m\u001b[1;33m)\u001b[0m\u001b[1;33m\u001b[0m\u001b[1;33m\u001b[0m\u001b[0m\n\u001b[1;32m---> 22\u001b[1;33m     \u001b[0mdate_time_obj_two\u001b[0m \u001b[1;33m=\u001b[0m \u001b[0mdatetime\u001b[0m\u001b[1;33m.\u001b[0m\u001b[0mdatetime\u001b[0m\u001b[1;33m.\u001b[0m\u001b[0mstrptime\u001b[0m\u001b[1;33m(\u001b[0m\u001b[0mdate_two\u001b[0m\u001b[1;33m,\u001b[0m \u001b[1;34m'%Y'\u001b[0m\u001b[1;33m)\u001b[0m\u001b[1;33m\u001b[0m\u001b[1;33m\u001b[0m\u001b[0m\n\u001b[0m\u001b[0;32m     23\u001b[0m     \u001b[0mlottery\u001b[0m \u001b[1;33m=\u001b[0m \u001b[0mrandom_date\u001b[0m\u001b[1;33m(\u001b[0m\u001b[0mdate_time_obj_one\u001b[0m\u001b[1;33m,\u001b[0m \u001b[0mdate_time_obj_two\u001b[0m\u001b[1;33m)\u001b[0m\u001b[1;33m\u001b[0m\u001b[1;33m\u001b[0m\u001b[0m\n\u001b[0;32m     24\u001b[0m     \u001b[1;32mreturn\u001b[0m\u001b[1;33m(\u001b[0m\u001b[0mlottery\u001b[0m\u001b[1;33m.\u001b[0m\u001b[0mstrftime\u001b[0m\u001b[1;33m(\u001b[0m\u001b[1;34m\"%m-%d\"\u001b[0m\u001b[1;33m)\u001b[0m\u001b[1;33m)\u001b[0m\u001b[1;33m\u001b[0m\u001b[1;33m\u001b[0m\u001b[0m\n",
      "\u001b[1;32mE:\\ProgramData\\Anaconda3\\lib\\_strptime.py\u001b[0m in \u001b[0;36m_strptime_datetime\u001b[1;34m(cls, data_string, format)\u001b[0m\n\u001b[0;32m    575\u001b[0m     \"\"\"Return a class cls instance based on the input string and the\n\u001b[0;32m    576\u001b[0m     format string.\"\"\"\n\u001b[1;32m--> 577\u001b[1;33m     \u001b[0mtt\u001b[0m\u001b[1;33m,\u001b[0m \u001b[0mfraction\u001b[0m\u001b[1;33m,\u001b[0m \u001b[0mgmtoff_fraction\u001b[0m \u001b[1;33m=\u001b[0m \u001b[0m_strptime\u001b[0m\u001b[1;33m(\u001b[0m\u001b[0mdata_string\u001b[0m\u001b[1;33m,\u001b[0m \u001b[0mformat\u001b[0m\u001b[1;33m)\u001b[0m\u001b[1;33m\u001b[0m\u001b[1;33m\u001b[0m\u001b[0m\n\u001b[0m\u001b[0;32m    578\u001b[0m     \u001b[0mtzname\u001b[0m\u001b[1;33m,\u001b[0m \u001b[0mgmtoff\u001b[0m \u001b[1;33m=\u001b[0m \u001b[0mtt\u001b[0m\u001b[1;33m[\u001b[0m\u001b[1;33m-\u001b[0m\u001b[1;36m2\u001b[0m\u001b[1;33m:\u001b[0m\u001b[1;33m]\u001b[0m\u001b[1;33m\u001b[0m\u001b[1;33m\u001b[0m\u001b[0m\n\u001b[0;32m    579\u001b[0m     \u001b[0margs\u001b[0m \u001b[1;33m=\u001b[0m \u001b[0mtt\u001b[0m\u001b[1;33m[\u001b[0m\u001b[1;33m:\u001b[0m\u001b[1;36m6\u001b[0m\u001b[1;33m]\u001b[0m \u001b[1;33m+\u001b[0m \u001b[1;33m(\u001b[0m\u001b[0mfraction\u001b[0m\u001b[1;33m,\u001b[0m\u001b[1;33m)\u001b[0m\u001b[1;33m\u001b[0m\u001b[1;33m\u001b[0m\u001b[0m\n",
      "\u001b[1;32mE:\\ProgramData\\Anaconda3\\lib\\_strptime.py\u001b[0m in \u001b[0;36m_strptime\u001b[1;34m(data_string, format)\u001b[0m\n\u001b[0;32m    354\u001b[0m                 \u001b[1;32mraise\u001b[0m \u001b[0mValueError\u001b[0m\u001b[1;33m(\u001b[0m\u001b[1;34m\"stray %% in format '%s'\"\u001b[0m \u001b[1;33m%\u001b[0m \u001b[0mformat\u001b[0m\u001b[1;33m)\u001b[0m \u001b[1;32mfrom\u001b[0m \u001b[1;32mNone\u001b[0m\u001b[1;33m\u001b[0m\u001b[1;33m\u001b[0m\u001b[0m\n\u001b[0;32m    355\u001b[0m             \u001b[0m_regex_cache\u001b[0m\u001b[1;33m[\u001b[0m\u001b[0mformat\u001b[0m\u001b[1;33m]\u001b[0m \u001b[1;33m=\u001b[0m \u001b[0mformat_regex\u001b[0m\u001b[1;33m\u001b[0m\u001b[1;33m\u001b[0m\u001b[0m\n\u001b[1;32m--> 356\u001b[1;33m     \u001b[0mfound\u001b[0m \u001b[1;33m=\u001b[0m \u001b[0mformat_regex\u001b[0m\u001b[1;33m.\u001b[0m\u001b[0mmatch\u001b[0m\u001b[1;33m(\u001b[0m\u001b[0mdata_string\u001b[0m\u001b[1;33m)\u001b[0m\u001b[1;33m\u001b[0m\u001b[1;33m\u001b[0m\u001b[0m\n\u001b[0m\u001b[0;32m    357\u001b[0m     \u001b[1;32mif\u001b[0m \u001b[1;32mnot\u001b[0m \u001b[0mfound\u001b[0m\u001b[1;33m:\u001b[0m\u001b[1;33m\u001b[0m\u001b[1;33m\u001b[0m\u001b[0m\n\u001b[0;32m    358\u001b[0m         raise ValueError(\"time data %r does not match format %r\" %\n",
      "\u001b[1;31mKeyboardInterrupt\u001b[0m: "
     ]
    }
   ],
   "source": [
    "# Upload 90\n",
    "import datetime\n",
    "import random\n",
    "\n",
    "STUDENTS = 23\n",
    "CLASSROOM = 10000\n",
    "\n",
    "\n",
    "def random_date(date_time_obj_one, date_time_obj_two):\n",
    "    \"\"\"\n",
    "    This function will return a random datetime between two datetime\n",
    "    objects by turning the date into seconds .\n",
    "    \"\"\"\n",
    "    delta = date_time_obj_two - date_time_obj_one\n",
    "    int_delta = (delta.days * 24 * 60 * 60)\n",
    "    random_second = random.randrange(int_delta)\n",
    "    return date_time_obj_one + datetime.timedelta(seconds=random_second)\n",
    "\n",
    "\n",
    "def lottery_date(date_one, date_two):\n",
    "    date_time_obj_one = datetime.datetime.strptime(date_one, '%Y')\n",
    "    date_time_obj_two = datetime.datetime.strptime(date_two, '%Y')\n",
    "    lottery = random_date(date_time_obj_one, date_time_obj_two)\n",
    "    return(lottery.strftime(\"%m-%d\"))\n",
    "\n",
    "\n",
    "def birthday_paradox(date_one, date_two, students):\n",
    "    j = 0\n",
    "    counter_of_same_date_in_different_class = 0\n",
    "    while j < CLASSROOM:\n",
    "        i = 0\n",
    "        list_of_birthday = []\n",
    "        flag_mark_class = False\n",
    "        while i < students:\n",
    "            temp_date = lottery_date(date_one, date_two)\n",
    "            if temp_date in list_of_birthday:\n",
    "                flag_mark_class = True\n",
    "            list_of_birthday.append(temp_date)\n",
    "            i += 1\n",
    "        if flag_mark_class:\n",
    "            counter_of_same_date_in_different_class += 1\n",
    "        j += 1\n",
    "    return counter_of_same_date_in_different_class\n",
    "\n",
    "\n",
    "date_one = input(\"Please insert a start year from this pattern: YYYY \")\n",
    "date_two = input(\"Please insert a end date from this pattern: YYYY \")\n",
    "print((birthday_paradox(date_one, date_two, STUDENTS) / CLASSROOM) * 100)\n",
    "for students in range(1, 367):\n",
    "    print(f'For {students} students The percentage of classrooms marked 2 birthdays by date is: ' + str((birthday_paradox(date_one, date_two, students) / CLASSROOM) * 100) + '%')"
   ]
  }
 ],
 "metadata": {
  "kernelspec": {
   "display_name": "Python 3",
   "language": "python",
   "name": "python3"
  },
  "language_info": {
   "codemirror_mode": {
    "name": "ipython",
    "version": 3
   },
   "file_extension": ".py",
   "mimetype": "text/x-python",
   "name": "python",
   "nbconvert_exporter": "python",
   "pygments_lexer": "ipython3",
   "version": "3.7.6"
  }
 },
 "nbformat": 4,
 "nbformat_minor": 2
}
