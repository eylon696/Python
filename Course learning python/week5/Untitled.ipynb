{
 "cells": [
  {
   "cell_type": "code",
   "execution_count": 11,
   "metadata": {},
   "outputs": [
    {
     "name": "stdout",
     "output_type": "stream",
     "text": [
      "['m', 1, '!', 'b', 2, '@', 'c', 3, '#']\n"
     ]
    }
   ],
   "source": [
    "import itertools\n",
    "def interleave_func(*iterables, fillvalue=None):\n",
    "    list_of_iterables = []\n",
    "    my_genrator = itertools.zip_longest(*iterables, fillvalue=None)\n",
    "    for element in my_genrator:\n",
    "        list_of_iterables.extend(element)\n",
    "    return(list_of_iterables)\n",
    "\n",
    "\n",
    "print(interleave_func({'m': 5, 'b': 6, 'c': 7}, [1, 2, 3], ('!', '@', '#'), fillvalue=None))"
   ]
  },
  {
   "cell_type": "code",
   "execution_count": null,
   "metadata": {},
   "outputs": [],
   "source": []
  },
  {
   "cell_type": "code",
   "execution_count": 16,
   "metadata": {},
   "outputs": [
    {
     "name": "stdout",
     "output_type": "stream",
     "text": [
      "('m', 1, '!')\n",
      "('b', 2, '@')\n",
      "('c', 3, '#')\n"
     ]
    }
   ],
   "source": [
    "import itertools\n",
    "def interleave_func(*iterables, fillvalue=None):\n",
    "    my_genrator = itertools.zip_longest(*iterables, fillvalue=None)\n",
    "    for element in my_genrator:\n",
    "        yield element\n",
    "\n",
    "\n",
    "for value in interleave_func({'m': 5, 'b': 6, 'c': 7}, [1, 2, 3], ('!', '@', '#'), fillvalue=None):\n",
    "    print(value)"
   ]
  }
 ],
 "metadata": {
  "kernelspec": {
   "display_name": "Python 3",
   "language": "python",
   "name": "python3"
  },
  "language_info": {
   "codemirror_mode": {
    "name": "ipython",
    "version": 3
   },
   "file_extension": ".py",
   "mimetype": "text/x-python",
   "name": "python",
   "nbconvert_exporter": "python",
   "pygments_lexer": "ipython3",
   "version": "3.7.6"
  }
 },
 "nbformat": 4,
 "nbformat_minor": 4
}
