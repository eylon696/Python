{
 "cells": [
  {
   "cell_type": "code",
   "execution_count": 1,
   "metadata": {},
   "outputs": [
    {
     "name": "stdout",
     "output_type": "stream",
     "text": [
      "5.5\n",
      "6.0\n",
      "2.0\n",
      "None\n"
     ]
    }
   ],
   "source": [
    "\n",
    "def avg(*numbers):\n",
    "    if not numbers:\n",
    "        return None\n",
    "    sum_of_numbers = 0\n",
    "    for number in numbers:\n",
    "        sum_of_numbers += number\n",
    "    return sum_of_numbers / len(numbers)\n",
    "\n",
    "\n",
    "print(avg(5, 6))\n",
    "print(avg(10, 5, 3))\n",
    "print(avg(2))\n",
    "print(avg())"
   ]
  },
  {
   "cell_type": "code",
   "execution_count": 2,
   "metadata": {},
   "outputs": [
    {
     "name": "stdout",
     "output_type": "stream",
     "text": [
      "[1, 2, '@', 8, '@', 9, 5, 6]\n",
      "[1, 2, '-', 8, '-', 9, 5, 6]\n",
      "[1]\n",
      "None\n"
     ]
    }
   ],
   "source": [
    "# Upload 79\n",
    "def join(*lists, sep='-'):\n",
    "    join_list = []\n",
    "    if not lists:\n",
    "        return\n",
    "    for value in lists:\n",
    "        value.append(sep)\n",
    "        join_list.extend(value)\n",
    "    return join_list[:-1]\n",
    "\n",
    "\n",
    "print(join([1, 2], [8], [9, 5, 6], sep='@'))\n",
    "print(join([1, 2], [8], [9, 5, 6]))\n",
    "print(join([1]))\n",
    "print(join())"
   ]
  }
 ],
 "metadata": {
  "kernelspec": {
   "display_name": "Python 3",
   "language": "python",
   "name": "python3"
  },
  "language_info": {
   "codemirror_mode": {
    "name": "ipython",
    "version": 3
   },
   "file_extension": ".py",
   "mimetype": "text/x-python",
   "name": "python",
   "nbconvert_exporter": "python",
   "pygments_lexer": "ipython3",
   "version": "3.7.6"
  }
 },
 "nbformat": 4,
 "nbformat_minor": 4
}
