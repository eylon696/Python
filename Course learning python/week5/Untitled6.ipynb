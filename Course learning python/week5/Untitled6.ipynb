{
 "cells": [
  {
   "cell_type": "code",
   "execution_count": 14,
   "metadata": {},
   "outputs": [
    {
     "name": "stdout",
     "output_type": "stream",
     "text": [
      "(Card(value=3, suit='squiggle', color='red', shade='striped'), Card(value=3, suit='diamond', color='red', shade='striped'), Card(value=3, suit='ovals', color='red', shade='striped'))\n",
      "(Card(value=3, suit='squiggle', color='red', shade='striped'), Card(value=3, suit='ovals', color='red', shade='striped'), Card(value=3, suit='diamond', color='red', shade='striped'))\n",
      "(Card(value=3, suit='diamond', color='red', shade='striped'), Card(value=3, suit='squiggle', color='red', shade='striped'), Card(value=3, suit='ovals', color='red', shade='striped'))\n",
      "(Card(value=3, suit='diamond', color='red', shade='striped'), Card(value=3, suit='ovals', color='red', shade='striped'), Card(value=3, suit='squiggle', color='red', shade='striped'))\n",
      "(Card(value=3, suit='squiggle', color='red', shade='open'), Card(value=2, suit='ovals', color='red', shade='open'), Card(value=1, suit='diamond', color='red', shade='open'))\n",
      "(Card(value=3, suit='squiggle', color='red', shade='open'), Card(value=1, suit='diamond', color='red', shade='open'), Card(value=2, suit='ovals', color='red', shade='open'))\n",
      "(Card(value=2, suit='ovals', color='red', shade='open'), Card(value=3, suit='squiggle', color='red', shade='open'), Card(value=1, suit='diamond', color='red', shade='open'))\n",
      "(Card(value=2, suit='ovals', color='red', shade='open'), Card(value=1, suit='diamond', color='red', shade='open'), Card(value=3, suit='squiggle', color='red', shade='open'))\n",
      "(Card(value=1, suit='ovals', color='green', shade='open'), Card(value=1, suit='diamond', color='red', shade='open'), Card(value=1, suit='squiggle', color='purple', shade='open'))\n",
      "(Card(value=1, suit='ovals', color='green', shade='open'), Card(value=1, suit='squiggle', color='purple', shade='open'), Card(value=1, suit='diamond', color='red', shade='open'))\n",
      "(Card(value=1, suit='diamond', color='red', shade='open'), Card(value=3, suit='squiggle', color='red', shade='open'), Card(value=2, suit='ovals', color='red', shade='open'))\n",
      "(Card(value=1, suit='diamond', color='red', shade='open'), Card(value=2, suit='ovals', color='red', shade='open'), Card(value=3, suit='squiggle', color='red', shade='open'))\n",
      "(Card(value=1, suit='diamond', color='red', shade='open'), Card(value=1, suit='ovals', color='green', shade='open'), Card(value=1, suit='squiggle', color='purple', shade='open'))\n",
      "(Card(value=1, suit='diamond', color='red', shade='open'), Card(value=1, suit='squiggle', color='purple', shade='open'), Card(value=1, suit='ovals', color='green', shade='open'))\n",
      "(Card(value=3, suit='ovals', color='red', shade='striped'), Card(value=3, suit='squiggle', color='red', shade='striped'), Card(value=3, suit='diamond', color='red', shade='striped'))\n",
      "(Card(value=3, suit='ovals', color='red', shade='striped'), Card(value=3, suit='diamond', color='red', shade='striped'), Card(value=3, suit='squiggle', color='red', shade='striped'))\n",
      "(Card(value=1, suit='squiggle', color='purple', shade='open'), Card(value=1, suit='ovals', color='green', shade='open'), Card(value=1, suit='diamond', color='red', shade='open'))\n",
      "(Card(value=1, suit='squiggle', color='purple', shade='open'), Card(value=1, suit='diamond', color='red', shade='open'), Card(value=1, suit='ovals', color='green', shade='open'))\n",
      "3.36\n"
     ]
    }
   ],
   "source": [
    "# Upload 113\n",
    "import collections\n",
    "import itertools\n",
    "import random\n",
    "\n",
    "\n",
    "def is_set(x):\n",
    "    for attribute in range(0, 4):\n",
    "        all_are_equal = (x[0][attribute] == x[1][attribute] == x[2][attribute])\n",
    "        all_are_diff = (x[0][attribute] != x[1][attribute] and x[0][attribute] != x[2][attribute] and x[1][attribute] != x[2][attribute])\n",
    "        if (not all_are_equal and not all_are_diff):\n",
    "            return False\n",
    "    return True\n",
    "\n",
    "\n",
    "# clause A\n",
    "def creat_deck_of_sets():\n",
    "    Card = collections.namedtuple('Card', ['value', 'suit', 'color', 'shade'])\n",
    "    suits = ['ovals', 'squiggle', 'diamond']\n",
    "    colors = ['red', 'green', 'purple']\n",
    "    shading = ['solid', 'open', 'striped']\n",
    "    cards = [Card(value, suit, color, shade) for value in range(1, 4) for suit in suits for color in colors for shade in shading]\n",
    "    return cards\n",
    "\n",
    "\n",
    "# clause B\n",
    "deck = creat_deck_of_sets() \n",
    "random.shuffle(deck)\n",
    "list_of_card = []\n",
    "for i in range(0, 12):\n",
    "    list_of_card.append(deck[i])\n",
    "perm = itertools.permutations(list_of_card, 3)\n",
    "for i in list(perm):\n",
    "    if is_set(i):\n",
    "        print(i)\n",
    "# clause C\n",
    "counter_of_failure = 0\n",
    "attampts = 10000\n",
    "flag = 0\n",
    "while attampts:\n",
    "    list_of_card = []\n",
    "    flag = 0\n",
    "    for _i in range(13):\n",
    "        list_of_card.append(deck[random.randrange(0, 81)])\n",
    "    perm = itertools.permutations(list_of_card, 3)\n",
    "    for i in list(perm):\n",
    "        if is_set(i):\n",
    "            flag = 1\n",
    "    if not flag:\n",
    "        counter_of_failure += 1\n",
    "    attampts -= 1\n",
    "print(counter_of_failure * 100 / 10000)"
   ]
  }
 ],
 "metadata": {
  "kernelspec": {
   "display_name": "Python 3",
   "language": "python",
   "name": "python3"
  },
  "language_info": {
   "codemirror_mode": {
    "name": "ipython",
    "version": 3
   },
   "file_extension": ".py",
   "mimetype": "text/x-python",
   "name": "python",
   "nbconvert_exporter": "python",
   "pygments_lexer": "ipython3",
   "version": "3.7.6"
  }
 },
 "nbformat": 4,
 "nbformat_minor": 4
}
