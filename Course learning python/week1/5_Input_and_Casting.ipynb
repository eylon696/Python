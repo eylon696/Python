{
 "cells": [
  {
   "cell_type": "markdown",
   "metadata": {},
   "source": [
    "<img src=\"images/logo.jpg\" style=\"display: block; margin-left: auto; margin-right: auto;\" alt=\"לוגו של מיזם לימוד הפייתון. נחש מצויר בצבעי צהוב וכחול, הנע בין האותיות של שם הקורס: לומדים פייתון. הסלוגן המופיע מעל לשם הקורס הוא מיזם חינמי ללימוד תכנות בעברית.\">"
   ]
  },
  {
   "cell_type": "markdown",
   "metadata": {},
   "source": [
    "# <p style=\"align: right; direction: rtl; float: right;\">קלט</p>"
   ]
  },
  {
   "cell_type": "markdown",
   "metadata": {},
   "source": [
    "## <p style=\"align: right; direction: rtl; float: right;\">מה זה קלט?</p>"
   ]
  },
  {
   "cell_type": "markdown",
   "metadata": {},
   "source": [
    "<p style=\"text-align: right; direction: rtl; float: right;\">\n",
    "אחד הדברים הכיפיים ביותר בתכנות, הוא להשתמש ולהגיב לנתונים שנאספו ממקור חיצוני. נתונים אלו נקראים במינוח מקצועי <dfn>קלט</dfn>.<br>\n",
    "קלט יכול להגיע מכמה מקורות: מטקסט שהמשתמש מזין באמצעות המקלדת, או מקובץ חיצוני.<br>\n",
    "בשיעורים הקרובים נתמקד בקלט שהמשתמש מזין באמצעות המקלדת, ובעתיד נרחיב את היכולות שלנו בשיטות נוספות.\n",
    "</p>"
   ]
  },
  {
   "cell_type": "markdown",
   "metadata": {},
   "source": [
    "### <p style=\"align: right; direction: rtl; float: right;\">דוגמאות לקלט</p>"
   ]
  },
  {
   "cell_type": "markdown",
   "metadata": {},
   "source": [
    "<ol style=\"text-align: right; direction: rtl; float: right; white-space: nowrap;\">\n",
    "<li>משתמש מזין בתוכנה באמצעות המקלדת את <mark>שם המשתמש והסיסמה שלו</mark>.</li>\n",
    "<li>משתמש ב־Google מזין <mark>שאילתה</mark>, ואז <mark>לוחץ על \"חיפוש\"</mark>.</li>\n",
    "<li>משתמש מזין את <mark>הקוד הסודי</mark> שלו בכספומט.</li>\n",
    "<li>משתמש פותח את הנעילה של הטלפון שלו באמצעות <mark>טביעת האצבע שלו</mark>.</li>\n",
    "<li>משתמש מכניס <mark>תמונה</mark> לתוכנת Photoshop, שתכליתה עריכת תמונות, כדי לבצע עליה פעולות גרפיות.</li>\n",
    "<li>משתמש פותח <mark>קובץ Word</mark> באמצעות התוכנה Microsoft Office.</li>\n",
    "</ol>"
   ]
  },
  {
   "cell_type": "markdown",
   "metadata": {},
   "source": [
    "## <p style=\"align: right; direction: rtl; float: right;\">כיצד מקבלים קלט?</p>"
   ]
  },
  {
   "cell_type": "markdown",
   "metadata": {},
   "source": [
    "<p style=\"text-align: right; direction: rtl; float: right;\">\n",
    "כדי לקבל קלט מהמשתמש באמצעות המקלדת, נשתמש ב־<code dir=\"ltr\">input()</code>, כשבתוך הסוגריים נכתוב מחרוזת כלשהי שתוצג למשתמש (ראו דוגמה).<br>\n",
    "מטרת המחרוזת – להסביר למשתמש שאנחנו מצפים ממנו לקלט, ומאיזה סוג.<br>\n",
    "בואו נראה איך זה עובד:\n",
    "</p>"
   ]
  },
  {
   "cell_type": "code",
   "execution_count": 3,
   "metadata": {
    "tags": [
     "code"
    ]
   },
   "outputs": [
    {
     "name": "stdout",
     "output_type": "stream",
     "text": [
      "Please enter your name: Moishalah\n",
      "Hello, Moishalah!\n"
     ]
    }
   ],
   "source": [
    "name = input(\"Please enter your name: \")\n",
    "message = \"Hello, \" + name + \"!\"\n",
    "print(message)"
   ]
  },
  {
   "cell_type": "markdown",
   "metadata": {},
   "source": [
    "<p style=\"text-align: right; direction: rtl; float: right;\">\n",
    "השורה הראשונה היא החידוש פה: בשורה זו אנחנו מבקשים קלט מהמשתמש (את השם שלו), ושומרים את הקלט שהזין במשתנה בשם <code>name</code>.<br>\n",
    "ברגע שפייתון מגיעה ל־<code dir=\"ltr\">input()</code>, היא עוצרת כל פעולה, עד שתקבל קלט מהמשתמש.<br>\n",
    "לאחר מכן היא \"מחליפה\" את <code dir=\"ltr\">input()</code> בקלט שקיבלה מהמשתמש.<br>\n",
    "לדוגמה, אם הזנתי כקלט <em>Moishalah</em>, מה שיקרה בפועל אלו השורות הבאות (השוו עם הקוד מלמעלה):\n",
    "</p>"
   ]
  },
  {
   "cell_type": "code",
   "execution_count": 2,
   "metadata": {
    "tags": [
     "code"
    ]
   },
   "outputs": [
    {
     "name": "stdout",
     "output_type": "stream",
     "text": [
      "Hello, Moishalah!\n"
     ]
    }
   ],
   "source": [
    "name = \"Moishalah\"\n",
    "message = \"Hello, \" + name + \"!\"\n",
    "print(message)"
   ]
  },
  {
   "cell_type": "markdown",
   "metadata": {},
   "source": [
    "### <p style=\"align: right; direction: rtl; float: right;\">תרגול</p>"
   ]
  },
  {
   "cell_type": "markdown",
   "metadata": {},
   "source": [
    "<p style=\"text-align: right; direction: rtl; float: right;\">\n",
    "כתבו קוד המבקש כקלט שלושה נתונים: שם פרטי, שם משפחה ותאריך לידה.<br>\n",
    "הקוד יציג למשתמש ברכה חביבה.<br>\n",
    "לדוגמה, עבור הנתונים <code>Israel</code>, <code>Cohen</code>, <code>22/07/1992</code>, הוא יציג:\n",
    "</p>"
   ]
  },
  {
   "cell_type": "markdown",
   "metadata": {},
   "source": [
    "> Hi Israel Cohen! Your birthday is on 22/07/1992."
   ]
  },
  {
   "cell_type": "code",
   "execution_count": 7,
   "metadata": {},
   "outputs": [
    {
     "name": "stdout",
     "output_type": "stream",
     "text": [
      "Please enter your name: Eylon\n",
      "Please enter your last name: Ben-simon\n",
      "Please enter your date of birth: 17/03/1994\n",
      "Hi Eylon Ben-simon! Your birthday is on 17/03/1994.\n"
     ]
    }
   ],
   "source": [
    "name= input(\"Please enter your name: \")\n",
    "last_name= input(\"Please enter your last name: \")\n",
    "date_of_birth= input(\"Please enter your date of birth: \")\n",
    "print(\"Hi \"+name+\" \"+last_name+\"! Your birthday is on \"+date_of_birth+\".\")"
   ]
  },
  {
   "cell_type": "markdown",
   "metadata": {},
   "source": [
    "## <p style=\"align: right; direction: rtl; float: right;\">המרת ערכים</p>"
   ]
  },
  {
   "cell_type": "markdown",
   "metadata": {},
   "source": [
    "<p style=\"text-align: right; direction: rtl; float: right;\">\n",
    "מי מכם שזוכר היטב את השיעורים הקודמים, ודאי יודע שלכל ערך שנכתוב יש סוג (או \"<dfn>טיפוס</dfn>\").\n",
    "</p>"
   ]
  },
  {
   "cell_type": "code",
   "execution_count": 8,
   "metadata": {},
   "outputs": [
    {
     "data": {
      "text/plain": [
       "int"
      ]
     },
     "execution_count": 8,
     "metadata": {},
     "output_type": "execute_result"
    }
   ],
   "source": [
    "type(5)"
   ]
  },
  {
   "cell_type": "code",
   "execution_count": 9,
   "metadata": {},
   "outputs": [
    {
     "data": {
      "text/plain": [
       "float"
      ]
     },
     "execution_count": 9,
     "metadata": {},
     "output_type": "execute_result"
    }
   ],
   "source": [
    "type(1.5)"
   ]
  },
  {
   "cell_type": "code",
   "execution_count": 10,
   "metadata": {},
   "outputs": [
    {
     "data": {
      "text/plain": [
       "str"
      ]
     },
     "execution_count": 10,
     "metadata": {},
     "output_type": "execute_result"
    }
   ],
   "source": [
    "type('Hello')"
   ]
  },
  {
   "cell_type": "markdown",
   "metadata": {},
   "source": [
    "<p style=\"text-align: right; direction: rtl; float: right;\">\n",
    "אם אתם מרגישים שממש הספקתם לשכוח, שווה לכם להציץ <a href=\"3_Types.ipynb\">בפרק 3</a>, שמלמד על טיפוסים.\n",
    "</p>"
   ]
  },
  {
   "cell_type": "markdown",
   "metadata": {},
   "source": [
    "<p style=\"text-align: right; direction: rtl; float: right;\">\n",
    "אם נשתעשע מעט עם <code dir=\"ltr\">input()</code>, נגלה מהר מאוד שלפעמים הקלט מהמשתמש לא מגיע אלינו בדיוק כמו שרצינו.<br>\n",
    "בואו נראה דוגמה:\n",
    "</p>"
   ]
  },
  {
   "cell_type": "code",
   "execution_count": 13,
   "metadata": {},
   "outputs": [
    {
     "name": "stdout",
     "output_type": "stream",
     "text": [
      "How many apples does Moshe have? -15\n",
      "How many apples does Orly have? 2\n",
      "Together, they have -152 apples!\n"
     ]
    }
   ],
   "source": [
    "moshe_apples = input(\"How many apples does Moshe have? \")\n",
    "orly_apples = input(\"How many apples does Orly have? \")\n",
    "apples_together = moshe_apples + orly_apples\n",
    "print(\"Together, they have \" + apples_together + \" apples!\")"
   ]
  },
  {
   "cell_type": "markdown",
   "metadata": {},
   "source": [
    "<div class=\"align-center\" style=\"display: flex; text-align: right; direction: rtl; clear: both;\">\n",
    "    <div style=\"display: flex; width: 10%; float: right; clear: both;\">\n",
    "        <img src=\"images/exercise.svg\" style=\"height: 50px !important;\" alt=\"תרגול\">\n",
    "    </div>\n",
    "    <div style=\"width: 70%\">\n",
    "       <p style=\"text-align: right; direction: rtl; float: right; clear: both;\">\n",
    "           הזינו את הנתונים בסעיפים 1 עד 5 לתוכנית התפוחים של משה ואורלי המופיעה מעלה, ונסו להבין מה קרה.\n",
    "        </p>\n",
    "    </div>\n",
    "    <div style=\"display: flex; width: 20%; border-right: 0.1rem solid #A5A5A5; padding: 1rem 2rem;\">\n",
    "        <p style=\"text-align: center; direction: rtl; justify-content: center; align-items: center; clear: both;\">\n",
    "            <strong>חשוב!</strong><br>\n",
    "            פתרו לפני שתמשיכו!\n",
    "        </p>\n",
    "    </div>\n",
    "</div>"
   ]
  },
  {
   "cell_type": "markdown",
   "metadata": {},
   "source": [
    "<ol style=\"text-align: right; direction: rtl; float: right; white-space: nowrap; list-style-position: outside; display: inline-block;\">\n",
    "<li style=\"white-space: nowrap;\">למשה יש <code>0</code> תפוחים, ולאורלי יש <code>5</code> תפוחים.</li>\n",
    "<li style=\"white-space: nowrap;\">למשה יש <code>2</code> תפוחים, ולאורלי יש <code>3</code> תפוחים.</li>\n",
    "<li style=\"white-space: nowrap;\">למשה יש <code dir=\"ltr\">-15</code> תפוחים, ולאורלי יש <code>2</code> תפוחים.</li>\n",
    "<li style=\"white-space: nowrap;\">למשה יש <code>2</code> תפוחים, ולאורלי יש <code dir=\"ltr\">-15</code> תפוחים.</li>\n",
    "<li style=\"white-space: nowrap;\">למשה יש <code>nananana</code> תפוחים, ולאורלי יש <code dir=\"ltr\">batman!</code> תפוחים.</li>\n",
    "</ol>"
   ]
  },
  {
   "cell_type": "markdown",
   "metadata": {},
   "source": [
    "### <p style=\"align: right; direction: rtl; float: right;\">אז מה קרה בתרגול?</p>"
   ]
  },
  {
   "cell_type": "markdown",
   "metadata": {},
   "source": [
    "<p style=\"text-align: right; direction: rtl; float: right;\">\n",
    "אף על פי שרצינו להתייחס לקלט כאל נתון מספרי (<code>int</code>), פייתון החליטה להתייחס אליו כמחרוזת (<code>str</code>), ולכן חיברה בין מחרוזות ולא בין מספרים.<br>\n",
    "מכאן אנחנו לומדים חוק חשוב מאוד, שאם ניטיב לזכור אותו יחסוך לנו הרבה תקלות בעתיד:\n",
    "</p>"
   ]
  },
  {
   "cell_type": "markdown",
   "metadata": {},
   "source": [
    "<div class=\"align-center\" style=\"display: flex; text-align: right; direction: rtl;\">\n",
    "    <div style=\"display: flex; width: 10%; float: right; \">\n",
    "        <img src=\"images/warning.png\" style=\"height: 50px !important;\" alt=\"אזהרה!\"> \n",
    "    </div>\n",
    "    <div style=\"width: 90%\">\n",
    "        <p style=\"text-align: right; direction: rtl;\">\n",
    "            כשאנחנו מקבלים קלט באמצעות <code dir=\"ltr\">input()</code>, הערך שנקבל יהיה תמיד מטיפוס מחרוזת.\n",
    "        </p>\n",
    "    </div>\n",
    "</div>"
   ]
  },
  {
   "cell_type": "markdown",
   "metadata": {},
   "source": [
    "<p style=\"text-align: right; direction: rtl; float: right;\">\n",
    "שימו לב שניסיון לעשות פעולות בין טיפוסים שונים (כמו מחרוזת ומספר שלם) עלול לגרום לכם לשגיאות בתרגולים הקרובים.<br>\n",
    "נסו, לדוגמה, להריץ את הקוד הבא:\n",
    "</p>"
   ]
  },
  {
   "cell_type": "code",
   "execution_count": 14,
   "metadata": {},
   "outputs": [
    {
     "name": "stdout",
     "output_type": "stream",
     "text": [
      "How many apples does Moshe have? 5\n"
     ]
    },
    {
     "ename": "TypeError",
     "evalue": "can only concatenate str (not \"int\") to str",
     "output_type": "error",
     "traceback": [
      "\u001b[1;31m---------------------------------------------------------------------------\u001b[0m",
      "\u001b[1;31mTypeError\u001b[0m                                 Traceback (most recent call last)",
      "\u001b[1;32m<ipython-input-14-873c7460d6db>\u001b[0m in \u001b[0;36m<module>\u001b[1;34m\u001b[0m\n\u001b[0;32m      1\u001b[0m \u001b[0mmoshe_apples\u001b[0m \u001b[1;33m=\u001b[0m \u001b[0minput\u001b[0m\u001b[1;33m(\u001b[0m\u001b[1;34m\"How many apples does Moshe have? \"\u001b[0m\u001b[1;33m)\u001b[0m\u001b[1;33m\u001b[0m\u001b[1;33m\u001b[0m\u001b[0m\n\u001b[1;32m----> 2\u001b[1;33m \u001b[0mmoshe_apples\u001b[0m \u001b[1;33m=\u001b[0m \u001b[0mmoshe_apples\u001b[0m \u001b[1;33m+\u001b[0m \u001b[1;36m1\u001b[0m  \u001b[1;31m# Give Moshe a single apple\u001b[0m\u001b[1;33m\u001b[0m\u001b[1;33m\u001b[0m\u001b[0m\n\u001b[0m\u001b[0;32m      3\u001b[0m \u001b[0mprint\u001b[0m\u001b[1;33m(\u001b[0m\u001b[0mmoshe_apples\u001b[0m\u001b[1;33m)\u001b[0m\u001b[1;33m\u001b[0m\u001b[1;33m\u001b[0m\u001b[0m\n",
      "\u001b[1;31mTypeError\u001b[0m: can only concatenate str (not \"int\") to str"
     ]
    }
   ],
   "source": [
    "moshe_apples = input(\"How many apples does Moshe have? \")\n",
    "moshe_apples = moshe_apples + 1  # Give Moshe a single apple\n",
    "print(moshe_apples)"
   ]
  },
  {
   "cell_type": "markdown",
   "metadata": {},
   "source": [
    "### <p style=\"align: right; direction: rtl; float: right;\">המרת טיפוסים (Casting)</p>"
   ]
  },
  {
   "cell_type": "markdown",
   "metadata": {},
   "source": [
    "<p style=\"text-align: right; direction: rtl; float: right;\">\n",
    "    שפכנו ליטר מים לקערה עם 5 קוביות קרח. כמה יש בה עכשיו?<br>\n",
    "    קשה לנו מאוד לענות על השאלה כיוון שהיא מנוסחת באופן גרוע ומערבת דברים מסוגים שונים. מאותה סיבה בדיוק לפייתון קשה עם הקוד מלמעלה.<br>\n",
    "    נוכל להקפיא את המים ולמדוד כמה קרח יש בקערה, או להמיס את הקרח ולמדוד כמה מים יש בה.<br>\n",
    "    בפייתון נצטרך להחליט מה אנחנו רוצים לעשות, ולהמיר את הערכים שאנחנו עובדים איתם לטיפוסים המתאימים לפני שנבצע את הפעולה.\n",
    "</p>"
   ]
  },
  {
   "cell_type": "markdown",
   "metadata": {},
   "source": [
    "<p style=\"text-align: right; direction: rtl; float: right;\">\n",
    "נזכיר שהטיפוס של כל קלט שנקבל בעזרת <code dir=\"ltr\">input()</code> תמיד יהיה מחרוזת (<code dir=\"ltr\">str</code>):\n",
    "</p>"
   ]
  },
  {
   "cell_type": "code",
   "execution_count": 15,
   "metadata": {},
   "outputs": [
    {
     "name": "stdout",
     "output_type": "stream",
     "text": [
      "What is your favorite color? red\n",
      "The type of the input red is...\n"
     ]
    },
    {
     "data": {
      "text/plain": [
       "str"
      ]
     },
     "execution_count": 15,
     "metadata": {},
     "output_type": "execute_result"
    }
   ],
   "source": [
    "color = input(\"What is your favorite color? \")\n",
    "print(\"The type of the input \" + color + \" is...\")\n",
    "type(color)"
   ]
  },
  {
   "cell_type": "code",
   "execution_count": 16,
   "metadata": {},
   "outputs": [
    {
     "name": "stdout",
     "output_type": "stream",
     "text": [
      "What is your age? 24\n",
      "The type of the input 24 is...\n"
     ]
    },
    {
     "data": {
      "text/plain": [
       "str"
      ]
     },
     "execution_count": 16,
     "metadata": {},
     "output_type": "execute_result"
    }
   ],
   "source": [
    "age = input(\"What is your age? \")\n",
    "print(\"The type of the input \" + age + \" is...\")\n",
    "type(age)"
   ]
  },
  {
   "cell_type": "markdown",
   "metadata": {},
   "source": [
    "<p style=\"text-align: right; direction: rtl; float: right;\">\n",
    "כזכור, כל עוד הקלט שלנו הוא מסוג מחרוזת, פעולות כמו חיבור שלו עם מספר ייכשלו.<br>\n",
    "לכן נצטרך לדאוג ששניהם יהיו מאותו סוג על ידי המרה של אחד הערכים מסוג אחד לסוג אחר.<br>\n",
    "תהליך הפיכת ערך לסוג טיפוס אחר נקרא <dfn>המרת טיפוסים</dfn>, או <dfn>Casting</dfn> / <dfn>Type Conversion</dfn>.<br>\n",
    "אם נבחן את בעיית התפוחים של משה מהכותרת הקודמת:\n",
    "</p>"
   ]
  },
  {
   "cell_type": "code",
   "execution_count": 17,
   "metadata": {},
   "outputs": [
    {
     "name": "stdout",
     "output_type": "stream",
     "text": [
      "How many apples does Moshe have? 5\n"
     ]
    },
    {
     "ename": "TypeError",
     "evalue": "can only concatenate str (not \"int\") to str",
     "output_type": "error",
     "traceback": [
      "\u001b[1;31m---------------------------------------------------------------------------\u001b[0m",
      "\u001b[1;31mTypeError\u001b[0m                                 Traceback (most recent call last)",
      "\u001b[1;32m<ipython-input-17-873c7460d6db>\u001b[0m in \u001b[0;36m<module>\u001b[1;34m\u001b[0m\n\u001b[0;32m      1\u001b[0m \u001b[0mmoshe_apples\u001b[0m \u001b[1;33m=\u001b[0m \u001b[0minput\u001b[0m\u001b[1;33m(\u001b[0m\u001b[1;34m\"How many apples does Moshe have? \"\u001b[0m\u001b[1;33m)\u001b[0m\u001b[1;33m\u001b[0m\u001b[1;33m\u001b[0m\u001b[0m\n\u001b[1;32m----> 2\u001b[1;33m \u001b[0mmoshe_apples\u001b[0m \u001b[1;33m=\u001b[0m \u001b[0mmoshe_apples\u001b[0m \u001b[1;33m+\u001b[0m \u001b[1;36m1\u001b[0m  \u001b[1;31m# Give Moshe a single apple\u001b[0m\u001b[1;33m\u001b[0m\u001b[1;33m\u001b[0m\u001b[0m\n\u001b[0m\u001b[0;32m      3\u001b[0m \u001b[0mprint\u001b[0m\u001b[1;33m(\u001b[0m\u001b[0mmoshe_apples\u001b[0m\u001b[1;33m)\u001b[0m\u001b[1;33m\u001b[0m\u001b[1;33m\u001b[0m\u001b[0m\n",
      "\u001b[1;31mTypeError\u001b[0m: can only concatenate str (not \"int\") to str"
     ]
    }
   ],
   "source": [
    "moshe_apples = input(\"How many apples does Moshe have? \")\n",
    "moshe_apples = moshe_apples + 1  # Give Moshe a single apple\n",
    "print(moshe_apples)"
   ]
  },
  {
   "cell_type": "markdown",
   "metadata": {},
   "source": [
    "<p style=\"text-align: right; direction: rtl; float: right;\">\n",
    "נראה שהקוד לא יעבוד, כיוון שאין אפשרות לחבר בין מחרוזת (מספר התפוחים של משה מהקלט של המשתמש) לבין מספר (ה־1 שאנחנו רוצים להוסיף).<br>\n",
    "כיוון שהמטרה היא להוסיף תפוח 1 למספר מסוים של תפוחים, נבחר להמיר את <code>moshe_apples</code> למספר שלם (<code>int</code>) במקום מחרוזת (<code>str</code>).<br>\n",
    "נעשה זאת כך:\n",
    "</p>"
   ]
  },
  {
   "cell_type": "code",
   "execution_count": 18,
   "metadata": {},
   "outputs": [
    {
     "name": "stdout",
     "output_type": "stream",
     "text": [
      "How many apples does Moshe have? 5\n",
      "6\n"
     ]
    }
   ],
   "source": [
    "moshe_apples = input(\"How many apples does Moshe have? \")\n",
    "moshe_apples = int(moshe_apples)  # <--- Casting\n",
    "moshe_apples = moshe_apples + 1\n",
    "print(moshe_apples)"
   ]
  },
  {
   "cell_type": "markdown",
   "metadata": {},
   "source": [
    "<p style=\"text-align: right; direction: rtl; float: right;\">\n",
    "איזה כיף, המרנו את מספר התפוחים של משה לערך מטיפוס שלם (שורה 2), ועכשיו הקוד עובד!<br>\n",
    "שימו לב שעכשיו אם נרצה להדפיס את מספר התפוחים לצד משפט שאומר \"למשה יש X תפוחים\", אנחנו עלולים להיתקל בבעיה.<br>\n",
    "המשפט שאנחנו רוצים להדפיס הוא <code>str</code>, ומספר התפוחים שחישבנו ושננסה לשרשר אליו יהיה <code>int</code>.<br>\n",
    "ראו איך זה ישפיע על התוכנית:\n",
    "</p>"
   ]
  },
  {
   "cell_type": "code",
   "execution_count": 19,
   "metadata": {},
   "outputs": [
    {
     "name": "stdout",
     "output_type": "stream",
     "text": [
      "How many apples does Moshe have? 5\n"
     ]
    },
    {
     "ename": "TypeError",
     "evalue": "can only concatenate str (not \"int\") to str",
     "output_type": "error",
     "traceback": [
      "\u001b[1;31m---------------------------------------------------------------------------\u001b[0m",
      "\u001b[1;31mTypeError\u001b[0m                                 Traceback (most recent call last)",
      "\u001b[1;32m<ipython-input-19-ea143aaf118d>\u001b[0m in \u001b[0;36m<module>\u001b[1;34m\u001b[0m\n\u001b[0;32m      2\u001b[0m \u001b[0mmoshe_apples\u001b[0m \u001b[1;33m=\u001b[0m \u001b[0mint\u001b[0m\u001b[1;33m(\u001b[0m\u001b[0mmoshe_apples\u001b[0m\u001b[1;33m)\u001b[0m  \u001b[1;31m# <--- Casting\u001b[0m\u001b[1;33m\u001b[0m\u001b[1;33m\u001b[0m\u001b[0m\n\u001b[0;32m      3\u001b[0m \u001b[0mmoshe_apples\u001b[0m \u001b[1;33m=\u001b[0m \u001b[0mmoshe_apples\u001b[0m \u001b[1;33m+\u001b[0m \u001b[1;36m1\u001b[0m\u001b[1;33m\u001b[0m\u001b[1;33m\u001b[0m\u001b[0m\n\u001b[1;32m----> 4\u001b[1;33m \u001b[0mprint\u001b[0m\u001b[1;33m(\u001b[0m\u001b[1;34m\"Moshe has \"\u001b[0m \u001b[1;33m+\u001b[0m \u001b[0mmoshe_apples\u001b[0m \u001b[1;33m+\u001b[0m \u001b[1;34m\" apples\"\u001b[0m\u001b[1;33m)\u001b[0m\u001b[1;33m\u001b[0m\u001b[1;33m\u001b[0m\u001b[0m\n\u001b[0m",
      "\u001b[1;31mTypeError\u001b[0m: can only concatenate str (not \"int\") to str"
     ]
    }
   ],
   "source": [
    "moshe_apples = input(\"How many apples does Moshe have? \")\n",
    "moshe_apples = int(moshe_apples)  # <--- Casting\n",
    "moshe_apples = moshe_apples + 1\n",
    "print(\"Moshe has \" + moshe_apples + \" apples\")"
   ]
  },
  {
   "cell_type": "markdown",
   "metadata": {},
   "source": [
    "<p style=\"text-align: right; direction: rtl; float: right;\">\n",
    "פייתון התריעה לפנינו שיש פה בעיה: בשורה האחרונה, היא לא מצליחה לחבר את מספר התפוחים עם המחרוזות הנמצאות בצדדיו.<br>\n",
    "מה הפתרון?<br>\n",
    "אם אמרתם להמיר את מספר התפוחים של משה למחרוזת, זה אכן יעבוד. נעשה את זה ככה:\n",
    "</p>"
   ]
  },
  {
   "cell_type": "code",
   "execution_count": 20,
   "metadata": {},
   "outputs": [
    {
     "name": "stdout",
     "output_type": "stream",
     "text": [
      "How many apples does Moshe have? 5\n",
      "Moshe has 6 apples\n"
     ]
    }
   ],
   "source": [
    "moshe_apples = input(\"How many apples does Moshe have? \")\n",
    "moshe_apples = int(moshe_apples)  # <--- Casting to int\n",
    "moshe_apples = moshe_apples + 1\n",
    "moshe_apples = str(moshe_apples)  # <--- Casting to str\n",
    "print(\"Moshe has \" + moshe_apples + \" apples\")"
   ]
  },
  {
   "cell_type": "markdown",
   "metadata": {},
   "source": [
    "### <p style=\"align: right; direction: rtl; float: right;\">טבלת המרה</p>"
   ]
  },
  {
   "cell_type": "markdown",
   "metadata": {},
   "source": [
    "<p style=\"text-align: right; direction: rtl; float: right;\">\n",
    "כדי להמיר לסוג מסוים, כל מה שאתם צריכים לדעת זה את הסוג שאליו אתם רוצים להמיר.<br>\n",
    "משם פשוט בחרו את השם הרלוונטי מהטבלה שאתם כבר מכירים:\n",
    "</p>"
   ]
  },
  {
   "cell_type": "markdown",
   "metadata": {},
   "source": [
    "| צורת המרה  |    שם בפייתון | שם באנגלית | שם בעברית |\n",
    "|:----------------|:----------|:------------|----------:|\n",
    "|  str(something)  | str       | **str**ing  | מחרוזת     |\n",
    "|  int(something)  | int       | **int**eger | מספר שלם   |\n",
    "| float(something) | float     | float       | מספר עשרוני |"
   ]
  },
  {
   "cell_type": "markdown",
   "metadata": {},
   "source": [
    "## <p style=\"align: right; direction: rtl; float: right;\">תרגול</p>"
   ]
  },
  {
   "cell_type": "markdown",
   "metadata": {},
   "source": [
    "### <p style=\"align: right; direction: rtl; float: right;\">קרמבו</p>"
   ]
  },
  {
   "cell_type": "markdown",
   "metadata": {},
   "source": [
    "<p style=\"text-align: right; direction: rtl; float: right;\">\n",
    "לגברת עמיטלי מחוות ביסקוויט יש מפעל משוגע לייצור קרמבו.<br>\n",
    "אחד התפקידים במפעל הוא הרכבת קופסאות לאריזת הקרמבו ומילויה. אדון מרקוב מאייש תפקיד זה.<br>\n",
    "מרקוב מחליט על מימדיה של כל קופסת קרמבו טעים חדשה שהוא ממלא: כמה יחידות קרמבו יכנסו לגובה, כמה יכנסו לרוחב וכמה יכנסו לאורך האריזה.<br>\n",
    "בנו תוכנה שתעזור למרקוב לחשב את כמות הקרמבו שהוא הכניס לקופסה, לפי הנוסחה: <span style=\"display: inline-flex; direction: ltr\">$w \\times h \\times l$</span>, רוחב כפול גובה כפול אורך.<br>\n",
    "<em>לדוגמה</em>: התוכנה תקבל ממרקוב כקלט 3 עבור האורך, 4 עבור הרוחב ו־2.5 עבור הגובה, ותחזיר את הפלט <samp>30</samp>, שהוא <span style=\"display: inline-flex; direction: ltr\">$2.5 \\times 3 \\times 4$</span>.\n",
    "</p>"
   ]
  },
  {
   "cell_type": "code",
   "execution_count": 22,
   "metadata": {},
   "outputs": [
    {
     "name": "stdout",
     "output_type": "stream",
     "text": [
      "Please enter the length of the box: 3\n",
      "Please enter the wide of the box: 4\n",
      "Please enter the height of the box: 2.5\n",
      "30.0\n"
     ]
    }
   ],
   "source": [
    "l=int(input(\"Please enter the length of the box: \"))\n",
    "w=int(input(\"Please enter the wide of the box: \"))\n",
    "h=float(input(\"Please enter the height of the box: \"))\n",
    "print(w*h*l)"
   ]
  },
  {
   "cell_type": "markdown",
   "metadata": {},
   "source": [
    "### <p style=\"align: right; direction: rtl; float: right;\">תה אמריקה II</p>"
   ]
  },
  {
   "cell_type": "markdown",
   "metadata": {},
   "source": [
    "<p style=\"text-align: right; direction: rtl; float: right;\">\n",
    "חזרו ל<a href=\"2_Arithmetics.ipynb\">מחברת 2</a>. זוכרים את התרגיל האחרון שהיה שם, על התה והמרת מעלות פרנהייט לצלזיוס?<br>\n",
    "בואו נבנה מחשבון פרנהייט לצלזיוס! בקשו מהמשתמש להכניס מספר בפרנהייט, והדפיסו את המספר בצלזיוס.<br>\n",
    "להזכירכם, הנוסחה היא: <code>(5 חלקי 9) כפול (מעלות בפרנהייט פחות 32)</code>, או בכתיב מתמטי, <span style=\"display: inline-flex\">$C = \\frac{5}{9}\\times(F - 32)$</span>.<br>\n",
    "לדוגמה: עבור הקלט <em>212</em> התוכנה תדפיס 100, כיוון ש־212 מעלות פרנהייט הן 100 מעלות צלזיוס.\n",
    "</p>"
   ]
  },
  {
   "cell_type": "code",
   "execution_count": 24,
   "metadata": {},
   "outputs": [
    {
     "name": "stdout",
     "output_type": "stream",
     "text": [
      "Please enter the fahrenheit: 176\n",
      "80.0\n"
     ]
    }
   ],
   "source": [
    "f=float(input(\"Please enter the fahrenheit: \"))\n",
    "print(5/9*(f-32))"
   ]
  },
  {
   "cell_type": "markdown",
   "metadata": {},
   "source": [
    "### <p style=\"align: right; direction: rtl; float: right;\">מסטיק בזוקה</p>"
   ]
  },
  {
   "cell_type": "markdown",
   "metadata": {},
   "source": [
    "<p style=\"text-align: right; direction: rtl; float: right;\">\n",
    "לפי מסטיק בזוקה, עד גיל 21 תגיעו לירח. אנחנו פחות אופטימיים (לנו פשוט זה פחות עבד), ומנבאים לך הצלחה עד גיל 90.<br>\n",
    "כתוב תוכנה שמקבלת כקלט את השם שלך ואת הגיל שלך, ומחשבת בעוד כמה שנים תגיע לירח לפי הנבואה שלנו.<br>\n",
    "התוכנה תדפיס את המשפט: <q dir=\"ltr\">X, wait another Y years.</q>, כאשר X יוחלף בשמך ו־Y יוחלף במספר השנים שתצטרך לחכות עד גיל 90.<br>\n",
    "<em>לדוגמה</em>: אם הכנסת לתוכנה שגילך הוא 25 ושמך הוא ים, התוכנה תדפיס:\n",
    "</p>"
   ]
  },
  {
   "cell_type": "markdown",
   "metadata": {},
   "source": [
    "> Yam, wait another 65 years."
   ]
  },
  {
   "cell_type": "code",
   "execution_count": 26,
   "metadata": {},
   "outputs": [
    {
     "name": "stdout",
     "output_type": "stream",
     "text": [
      "Please enter your name: yam\n",
      "Please enter your age: 25\n",
      "yam, wait another 65 years\n"
     ]
    }
   ],
   "source": [
    "remaining=0\n",
    "max=90\n",
    "name= input(\"Please enter your name: \")\n",
    "age= int(input(\"Please enter your age: \"))\n",
    "remaining= max-age\n",
    "remaining=str(remaining)\n",
    "print(name+\", wait another \"+remaining+\" years\")"
   ]
  }
 ],
 "metadata": {
  "kernelspec": {
   "display_name": "Python 3",
   "language": "python",
   "name": "python3"
  },
  "language_info": {
   "codemirror_mode": {
    "name": "ipython",
    "version": 3
   },
   "file_extension": ".py",
   "mimetype": "text/x-python",
   "name": "python",
   "nbconvert_exporter": "python",
   "pygments_lexer": "ipython3",
   "version": "3.7.6"
  }
 },
 "nbformat": 4,
 "nbformat_minor": 2
}
