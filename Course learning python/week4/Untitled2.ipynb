{
 "cells": [
  {
   "cell_type": "code",
   "execution_count": 1,
   "metadata": {},
   "outputs": [
    {
     "name": "stdout",
     "output_type": "stream",
     "text": [
      "The ten most common words in the text are:\n",
      "1:the word -the- appear -34566- times\n",
      "2:the word -and- appear -22167- times\n",
      "3:the word -to- appear -16711- times\n",
      "4:the word -of- appear -14994- times\n",
      "5:the word -a- appear -10502- times\n",
      "6:the word -he- appear -9816- times\n",
      "7:the word -in- appear -9000- times\n",
      "8:the word -his- appear -7967- times\n",
      "9:the word -that- appear -7809- times\n",
      "10:the word -was- appear -7328- times\n"
     ]
    }
   ],
   "source": [
    "# Upload 66\n",
    "with open('resources\\war-and-peace.txt', 'r') as file_war_and_peace:\n",
    "    temp = file_war_and_peace.readlines()\n",
    "lines = []\n",
    "temp_temp = ''\n",
    "for line in temp:\n",
    "    line = line.lower().strip().replace('-', ' ').replace(',', ' ').replace('.', ' ').replace('?', ' ').replace('!', ' ').replace('(', ' ').replace(')', ' ')\n",
    "    if line not in temp_temp:\n",
    "        lines += [line]\n",
    "length = len(lines)\n",
    "i = 0\n",
    "while length:\n",
    "    lines[i] = lines[i].split()\n",
    "    i += 1\n",
    "    length -= 1\n",
    "dictionariy = {}\n",
    "length = len(lines)\n",
    "i = 0\n",
    "j = 0\n",
    "one = 1\n",
    "while i < length:\n",
    "    new_line = len(lines[i])\n",
    "    j = 0\n",
    "    while new_line:\n",
    "        if lines[i][j] not in dictionariy:\n",
    "            dictionariy.update({lines[i][j]: one})\n",
    "        else:\n",
    "            new_new = dictionariy.get(lines[i][j])\n",
    "            new_new += 1\n",
    "            dictionariy.update({lines[i][j]: new_new})\n",
    "        new_line -= 1\n",
    "        j += 1\n",
    "    i += 1\n",
    "temp = sorted(dictionariy.values())\n",
    "i = -1\n",
    "most_common = 1\n",
    "print('The ten most common words in the text are:')\n",
    "while i >= -10:\n",
    "    new = temp[i]\n",
    "    for key in dictionariy:\n",
    "        if dictionariy.get(key) == new:\n",
    "            print(f'{most_common}:the word -{key}- appear -{new}- times')\n",
    "    most_common += 1\n",
    "    i -= 1\n",
    "\n",
    "# another option\n",
    "# import collections\n",
    "# import re\n",
    "# words = re.findall(r'\\w+', open('resources\\war-and-peace.txt').read().lower())\n",
    "# most_common = collections.Counter(words).most_common(10)\n",
    "# print(most_common)"
   ]
  },
  {
   "cell_type": "code",
   "execution_count": null,
   "metadata": {},
   "outputs": [],
   "source": []
  }
 ],
 "metadata": {
  "kernelspec": {
   "display_name": "Python 3",
   "language": "python",
   "name": "python3"
  },
  "language_info": {
   "codemirror_mode": {
    "name": "ipython",
    "version": 3
   },
   "file_extension": ".py",
   "mimetype": "text/x-python",
   "name": "python",
   "nbconvert_exporter": "python",
   "pygments_lexer": "ipython3",
   "version": "3.7.6"
  }
 },
 "nbformat": 4,
 "nbformat_minor": 4
}
