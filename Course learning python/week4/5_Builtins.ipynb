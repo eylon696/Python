{
 "cells": [
  {
   "cell_type": "markdown",
   "metadata": {},
   "source": [
    "<img src=\"images/logo.jpg\" style=\"display: block; margin-left: auto; margin-right: auto;\" alt=\"לוגו של מיזם לימוד הפייתון. נחש מצויר בצבעי צהוב וכחול, הנע בין האותיות של שם הקורס: לומדים פייתון. הסלוגן המופיע מעל לשם הקורס הוא מיזם חינמי ללימוד תכנות בעברית.\">"
   ]
  },
  {
   "cell_type": "markdown",
   "metadata": {},
   "source": [
    "# <span style=\"text-align: right; direction: rtl; float: right;\">פונקציות מובנות</span>"
   ]
  },
  {
   "cell_type": "markdown",
   "metadata": {},
   "source": [
    "## <span style=\"text-align: right; direction: rtl; float: right; clear: both;\">הקדמה</span>"
   ]
  },
  {
   "cell_type": "markdown",
   "metadata": {},
   "source": [
    "<p style=\"text-align: right; direction: rtl; float: right; clear: both;\">\n",
    " אנו פוגשים הרבה בעיות בתכנות לעיתים קרובות ובמגוון מצבים:\n",
    "</p>"
   ]
  },
  {
   "cell_type": "markdown",
   "metadata": {},
   "source": [
    "<ul style=\"text-align: right; direction: rtl; float: right; clear: both;\">\n",
    "    <li>מציאת הערך הקטן או הגדול ביותר ברשימת ערכים.</li>\n",
    "    <li>יצירת רשימת מספרים המתחילה בערך מסוים ומסתיימת בערך אחר.</li>\n",
    "    <li>שינוי מיקום הערכים לפי סדר מסוים.</li>\n",
    "    <li>המרה של ערך כלשהו למספר, למחרוזת, לבוליאני או לרשימה (נשמע מוכר?)</li>\n",
    "</ul>"
   ]
  },
  {
   "cell_type": "markdown",
   "metadata": {},
   "source": [
    "<p style=\"text-align: right; direction: rtl; float: right; clear: both;\">\n",
    "    כדי שלא נצטרך לכתוב שוב ושוב את אותו פתרון, שפות רבות מצוידות בכלים מוכנים מראש שמטרתם לפתור בעיות נפוצות.<br>\n",
    "    פייתון מתגאה בכך שהיא שפה ש\"הבטריות בה כלולות\" (batteries included), היגד שנועד לתאר את העובדה שהיא מכילה פתרונות מוכנים לאותן בעיות.<br>\n",
    "    במחברת זו נכיר חלק מהפונקציות שפייתון מספקת לנו במטרה להקל על חיינו.\n",
    "</p>"
   ]
  },
  {
   "cell_type": "markdown",
   "metadata": {},
   "source": [
    "<p style=\"text-align: right; direction: rtl; float: right; clear: both;\">\n",
    "    השם הנפוץ עבור הפונקציות הללו הוא <dfn>builtins</dfn>, ואפשר למצוא את התיעוד של כולן <a href=\"https://docs.python.org/3/library/functions.html\">כאן</a>. \n",
    "</p>"
   ]
  },
  {
   "cell_type": "markdown",
   "metadata": {},
   "source": [
    "<div class=\"align-center\" style=\"display: flex; text-align: right; direction: rtl; clear: both;\">\n",
    "    <div style=\"display: flex; width: 10%; float: right; clear: both;\">\n",
    "        <img src=\"images/exercise.svg\" style=\"height: 50px !important;\" alt=\"תרגול\"> \n",
    "    </div>\n",
    "    <div style=\"width: 70%\">\n",
    "        <p style=\"text-align: right; direction: rtl; float: right; clear: both;\">\n",
    "            חשבו על פונקציות כאלו שאתם כבר מכירים משיעורים קודמים.<br>\n",
    "            חלק מהפתרונות האפשריים: <span style=\"background: black;\">len, int, float, str, list, type</span>\n",
    "        </p>\n",
    "    </div>\n",
    "    <div style=\"display: flex; width: 20%; border-right: 0.1rem solid #A5A5A5; padding: 1rem 2rem;\">\n",
    "        <p style=\"text-align: center; direction: rtl; justify-content: center; align-items: center; clear: both;\">\n",
    "            <strong>חשוב!</strong><br>\n",
    "            פתרו לפני שתמשיכו!\n",
    "        </p>\n",
    "    </div>\n",
    "</div>"
   ]
  },
  {
   "cell_type": "markdown",
   "metadata": {},
   "source": [
    "<div class=\"align-center\" style=\"display: flex; text-align: right; direction: rtl;\">\n",
    "    <div style=\"display: flex; width: 10%; float: right; \">\n",
    "        <img src=\"images/tip.png\" style=\"height: 50px !important;\" alt=\"טיפ!\"> \n",
    "    </div>\n",
    "    <div style=\"width: 90%\">\n",
    "        <p style=\"text-align: right; direction: rtl;\">\n",
    "            בהמשך המחברת ישנן דוגמאות עבור כל פונקציה חדשה שנכיר.<br>\n",
    "            למען הבהירות אני מדפיס דוגמה בודדת, ואז אני משתמש בלולאה כדי להדפיס כמה דוגמאות ברצף.<br>\n",
    "            הדוגמאות ירווחו בצורה מוזרה כדי שיהיה נוח להסתכל על הפלט. אל תשתמשו בריווחים כאלו בקוד שלכם.\n",
    "        </p>\n",
    "    </div>\n",
    "</div>"
   ]
  },
  {
   "cell_type": "markdown",
   "metadata": {},
   "source": [
    "## <span style=\"text-align: right; direction: rtl; float: right; clear: both;\">מתמטיקה</span>"
   ]
  },
  {
   "cell_type": "markdown",
   "metadata": {},
   "source": [
    "<p style=\"text-align: right; direction: rtl; float: right; clear: both;\">\n",
    "    ישנן פעולות מתמטיות שנצטרך לעיתים תכופות, שאת חלקן אפילו מימשנו שוב ושוב לאורך הקורס.<br>\n",
    "    נראה מה יש לארגז הכלים של פייתון להציע לנו.\n",
    "</p>"
   ]
  },
  {
   "cell_type": "markdown",
   "metadata": {},
   "source": [
    "### <span style=\"text-align: right; direction: rtl; float: right; clear: both;\">ערך מוחלט</span>"
   ]
  },
  {
   "cell_type": "markdown",
   "metadata": {},
   "source": [
    "<p style=\"text-align: right; direction: rtl; float: right; clear: both;\">\n",
    "    הפונקציה <code>abs</code> מחזירה את הערך המוחלט של המספר שנעביר לה.<br>\n",
    "    אם נעביר לה כארגומנט מספר שלם או עשרוני, היא תחזיר את המרחק של המספר מ־0 על ציר המספרים:<br>\n",
    "</p>"
   ]
  },
  {
   "cell_type": "code",
   "execution_count": 1,
   "metadata": {},
   "outputs": [
    {
     "name": "stdout",
     "output_type": "stream",
     "text": [
      "5\n"
     ]
    }
   ],
   "source": [
    "print(abs(-5))"
   ]
  },
  {
   "cell_type": "code",
   "execution_count": 2,
   "metadata": {},
   "outputs": [
    {
     "name": "stdout",
     "output_type": "stream",
     "text": [
      "abs(     5) = 5\n",
      "abs(    -5) = 5\n",
      "abs( 1.337) = 1.337\n",
      "abs(-1.337) = 1.337\n"
     ]
    }
   ],
   "source": [
    "numbers = [5, -5, 1.337, -1.337]\n",
    "for number in numbers:\n",
    "    print(f\"abs({number:>6}) = {abs(number)}\")"
   ]
  },
  {
   "cell_type": "markdown",
   "metadata": {},
   "source": [
    "<div class=\"align-center\" style=\"display: flex; text-align: right; direction: rtl;\">\n",
    "    <div style=\"display: flex; width: 10%; float: right; \">\n",
    "        <img src=\"images/tip.png\" style=\"height: 50px !important;\" alt=\"טיפ!\"> \n",
    "    </div>\n",
    "    <div style=\"width: 90%\">\n",
    "        <p style=\"text-align: right; direction: rtl;\">\n",
    "            המשמעות של <code dir=\"ltr\" style=\"direction: ltr\">:>6</code> ב־fstring היא \"דאג שיהיו לפחות 6 תווים, וישר את הערך לימין\".<br>\n",
    "            אפשר להחליף את <code dir=\"ltr\" style=\"direction: ltr\">&gt;</code> בתו <code dir=\"ltr\" style=\"direction: ltr\">^</code> לצורך יישור לאמצע, או בתו <code dir=\"ltr\" style=\"direction: ltr\">&lt;</code> לצורך יישור לשמאל.\n",
    "        </p>\n",
    "    </div>\n",
    "</div>"
   ]
  },
  {
   "cell_type": "markdown",
   "metadata": {},
   "source": [
    "### <span style=\"text-align: right; direction: rtl; float: right; clear: both;\">מקסימום ומינימום</span>"
   ]
  },
  {
   "cell_type": "markdown",
   "metadata": {},
   "source": [
    "<p style=\"text-align: right; direction: rtl; float: right; clear: both;\">\n",
    "    הפונקציות <code>max</code> ו־<code>min</code> מקבלות iterable, ומחזירות את האיבר הגבוה או הנמוך ביותר ב־iterable (בהתאמה).\n",
    "</p>"
   ]
  },
  {
   "cell_type": "code",
   "execution_count": 3,
   "metadata": {},
   "outputs": [
    {
     "name": "stdout",
     "output_type": "stream",
     "text": [
      "7\n"
     ]
    }
   ],
   "source": [
    "numbers = [6, 7, 3, 4, 5]\n",
    "words = ['apple', 'ginger', 'tomato', 'sushi']\n",
    "print(max(numbers))"
   ]
  },
  {
   "cell_type": "code",
   "execution_count": 4,
   "metadata": {},
   "outputs": [
    {
     "name": "stdout",
     "output_type": "stream",
     "text": [
      "max(numbers) = 7\n",
      "min(numbers) = 3\n",
      "max(words) = tomato\n",
      "min(words) = apple\n"
     ]
    }
   ],
   "source": [
    "print(f\"max(numbers) = {max(numbers)}\")\n",
    "print(f\"min(numbers) = {min(numbers)}\")\n",
    "print(f\"max(words) = {max(words)}\")\n",
    "print(f\"min(words) = {min(words)}\")"
   ]
  },
  {
   "cell_type": "markdown",
   "metadata": {},
   "source": [
    "<div class=\"align-center\" style=\"display: flex; text-align: right; direction: rtl;\">\n",
    "    <div style=\"display: flex; width: 10%; float: right; \">\n",
    "        <img src=\"images/warning.png\" style=\"height: 50px !important;\" alt=\"אזהרה!\"> \n",
    "    </div>\n",
    "    <div style=\"width: 90%\">\n",
    "        <p style=\"text-align: right; direction: rtl;\">\n",
    "            מחרוזות בפייתון מושוות לפי הערך המספרי של התווים שמהם הן מורכבות.<br>\n",
    "    כשמדובר ב־iterable שיש בו מחרוזות, פייתון מוצאת את הערך המרבי או המזערי לפי הייצוג המספרי של האותיות באותן מחרוזות.<br>\n",
    "    מהסיבה הזו, הסידור האלפבתי לא יחזיר את הערך הרצוי במצב שבו יש גם אותיות גדולות וגם אותיות וקטנות: \n",
    "        </p>\n",
    "    </div>\n",
    "</div>"
   ]
  },
  {
   "cell_type": "code",
   "execution_count": 5,
   "metadata": {},
   "outputs": [
    {
     "name": "stdout",
     "output_type": "stream",
     "text": [
      "Minimum in ['apple', 'ginger', 'tomato', 'sushi', 'ZEBRA'] is ZEBRA??\n"
     ]
    }
   ],
   "source": [
    "words.append('ZEBRA')\n",
    "print(f\"Minimum in {words} is {min(words)}??\")"
   ]
  },
  {
   "cell_type": "markdown",
   "metadata": {},
   "source": [
    "<p style=\"text-align: right; direction: rtl; float: right; clear: both;\">\n",
    "    זה קורה כיוון שהערכים המספריים של אותיות גדולות קטנים מאלו של אותיות קטנות.<br>\n",
    "    הערך המספרי של Z במילה <em>ZEBRA</em> הוא 90, והערך המספרי של a (במילה <em>apple</em>, שציפינו שתיחשב כקטנה ביותר) הוא 97.\n",
    "</p>"
   ]
  },
  {
   "cell_type": "markdown",
   "metadata": {},
   "source": [
    "### <span style=\"text-align: right; direction: rtl; float: right; clear: both;\">סכום</span>"
   ]
  },
  {
   "cell_type": "markdown",
   "metadata": {},
   "source": [
    "<p style=\"text-align: right; direction: rtl; float: right; clear: both;\">\n",
    "    אפשר לחשב את סכום האיברים ב־iterable באמצעות הפונקציה <code>sum</code>: \n",
    "</p>"
   ]
  },
  {
   "cell_type": "code",
   "execution_count": 6,
   "metadata": {},
   "outputs": [
    {
     "data": {
      "text/plain": [
       "20"
      ]
     },
     "execution_count": 6,
     "metadata": {},
     "output_type": "execute_result"
    }
   ],
   "source": [
    "numbers = [1, 1, 2, 3, 5, 8]\n",
    "sum(numbers)"
   ]
  },
  {
   "cell_type": "code",
   "execution_count": 12,
   "metadata": {},
   "outputs": [
    {
     "name": "stdout",
     "output_type": "stream",
     "text": [
      "<class 'list'>\n",
      "The sum of the first 1 items in 'numbers' is 1\n",
      "The sum of the first 2 items in 'numbers' is 2\n",
      "The sum of the first 3 items in 'numbers' is 4\n",
      "The sum of the first 4 items in 'numbers' is 7\n",
      "The sum of the first 5 items in 'numbers' is 12\n",
      "The sum of the first 6 items in 'numbers' is 20\n"
     ]
    }
   ],
   "source": [
    "i = 1\n",
    "while i <= len(numbers):\n",
    "    sum_until_i = sum(numbers[:i])\n",
    "    print(f\"The sum of the first {i} items in 'numbers' is {sum_until_i}\")\n",
    "    i = i + 1"
   ]
  },
  {
   "cell_type": "markdown",
   "metadata": {},
   "source": [
    "### <span style=\"text-align: right; direction: rtl; float: right; clear: both;\">עיגול</span>"
   ]
  },
  {
   "cell_type": "markdown",
   "metadata": {},
   "source": [
    "<p style=\"text-align: right; direction: rtl; float: right; clear: both;\">\n",
    "    אפשר גם לעגל מספרים בעזרת הפונקציה <code>round</code>: \n",
    "</p>"
   ]
  },
  {
   "cell_type": "code",
   "execution_count": 13,
   "metadata": {},
   "outputs": [
    {
     "data": {
      "text/plain": [
       "6"
      ]
     },
     "execution_count": 13,
     "metadata": {},
     "output_type": "execute_result"
    }
   ],
   "source": [
    "number = 5.9\n",
    "round(number)"
   ]
  },
  {
   "cell_type": "code",
   "execution_count": 14,
   "metadata": {},
   "outputs": [
    {
     "name": "stdout",
     "output_type": "stream",
     "text": [
      "round(     6) = 6\n",
      "round(3.1415) = 3\n",
      "round(   0.9) = 1\n",
      "round(  -0.9) = -1\n",
      "round(   0.5) = 0\n",
      "round(  -0.5) = 0\n"
     ]
    }
   ],
   "source": [
    "numbers = [6, 3.1415, 0.9, -0.9, 0.5, -0.5]\n",
    "for number in numbers:\n",
    "    print(f\"round({number:>6}) = {round(number)}\")"
   ]
  },
  {
   "cell_type": "markdown",
   "metadata": {},
   "source": [
    "<p style=\"text-align: right; direction: rtl; float: right; clear: both;\">\n",
    "    ואפשר להחליט על מספר הספרות אחרי הנקודה שלפיו העיגול יתבצע: \n",
    "</p>"
   ]
  },
  {
   "cell_type": "code",
   "execution_count": 22,
   "metadata": {},
   "outputs": [
    {
     "data": {
      "text/plain": [
       "10"
      ]
     },
     "execution_count": 22,
     "metadata": {},
     "output_type": "execute_result"
    }
   ],
   "source": [
    "round(6,-1)"
   ]
  },
  {
   "cell_type": "code",
   "execution_count": 15,
   "metadata": {},
   "outputs": [
    {
     "data": {
      "text/plain": [
       "3.142"
      ]
     },
     "execution_count": 15,
     "metadata": {},
     "output_type": "execute_result"
    }
   ],
   "source": [
    "pi = 3.141592653589793\n",
    "round(pi, 3)  # הפרמטר השני פה, 3, מייצג את הדיוק"
   ]
  },
  {
   "cell_type": "code",
   "execution_count": 16,
   "metadata": {},
   "outputs": [
    {
     "name": "stdout",
     "output_type": "stream",
     "text": [
      "round(     6, -1) = 10\n",
      "round(     6, 1) = 6\n",
      "round(     6, 2) = 6\n",
      "round(     6, 3) = 6\n",
      "round(3.1415, -1) = 0.0\n",
      "round(3.1415, 1) = 3.1\n",
      "round(3.1415, 2) = 3.14\n",
      "round(3.1415, 3) = 3.142\n",
      "round(   0.9, -1) = 0.0\n",
      "round(   0.9, 1) = 0.9\n",
      "round(   0.9, 2) = 0.9\n",
      "round(   0.9, 3) = 0.9\n",
      "round(  -0.9, -1) = -0.0\n",
      "round(  -0.9, 1) = -0.9\n",
      "round(  -0.9, 2) = -0.9\n",
      "round(  -0.9, 3) = -0.9\n",
      "round(   0.5, -1) = 0.0\n",
      "round(   0.5, 1) = 0.5\n",
      "round(   0.5, 2) = 0.5\n",
      "round(   0.5, 3) = 0.5\n",
      "round(  -0.5, -1) = -0.0\n",
      "round(  -0.5, 1) = -0.5\n",
      "round(  -0.5, 2) = -0.5\n",
      "round(  -0.5, 3) = -0.5\n"
     ]
    }
   ],
   "source": [
    "numbers = [6, 3.1415, 0.9, -0.9, 0.5, -0.5]\n",
    "round_options = [-1, 1, 2, 3]\n",
    "for number in numbers:\n",
    "    for round_argument in round_options:\n",
    "        result = round(number, round_argument)\n",
    "        print(f\"round({number:>6}, {round_argument}) = {result}\")"
   ]
  },
  {
   "cell_type": "markdown",
   "metadata": {},
   "source": [
    "## <span style=\"text-align: right; direction: rtl; float: right; clear: both;\">המרות</span>"
   ]
  },
  {
   "cell_type": "markdown",
   "metadata": {},
   "source": [
    "<p style=\"text-align: right; direction: rtl; float: right; clear: both;\">\n",
    "    טוב, על המרות (casting) כבר למדנו.<br>\n",
    "    אבל בואו בכל זאת נראה כמה דוגמאות מגניבות.\n",
    "</p>"
   ]
  },
  {
   "cell_type": "markdown",
   "metadata": {},
   "source": [
    "<p style=\"text-align: right; direction: rtl; float: right; clear: both;\">\n",
    "    אפשר להמיר מחרוזת לרשימה. הפעולה הזו תפריד כל אחת מהאותיות לתא נפרד ברשימה:\n",
    "</p>"
   ]
  },
  {
   "cell_type": "code",
   "execution_count": 23,
   "metadata": {},
   "outputs": [
    {
     "data": {
      "text/plain": [
       "['h', 'e', 'l', 'l', 'o']"
      ]
     },
     "execution_count": 23,
     "metadata": {},
     "output_type": "execute_result"
    }
   ],
   "source": [
    "list('hello')  # Iterable -> List"
   ]
  },
  {
   "cell_type": "markdown",
   "metadata": {},
   "source": [
    "<p style=\"text-align: right; direction: rtl; float: right; clear: both;\">\n",
    "    עוד פרט טריוויה נחמד הוא שלכל ערך בפייתון יש ערך בוליאני שקול.<br>\n",
    "    בדרך כלל, ערכים ריקים שקולים ל־<code>False</code> וערכים שאינם ריקים שקולים ל־<code>True</code>:\n",
    "</p>"
   ]
  },
  {
   "cell_type": "code",
   "execution_count": 24,
   "metadata": {},
   "outputs": [
    {
     "name": "stdout",
     "output_type": "stream",
     "text": [
      "bool('hello') is True\n",
      "bool(     '') is False\n",
      "bool(      0) is False\n",
      "bool(      1) is True\n",
      "bool(     -1) is True\n",
      "bool(    0.0) is False\n",
      "bool(    0.1) is True\n",
      "bool(   1000) is True\n",
      "bool(   '\\n') is True\n",
      "bool(    ' ') is True\n",
      "bool(     []) is False\n",
      "bool(     {}) is False\n",
      "bool(    [1]) is True\n"
     ]
    }
   ],
   "source": [
    "bool_checks = [\n",
    "    'hello', '', 0, 1, -1, 0.0, 0.1, 1000, '\\n', ' ', [], {}, [1],\n",
    "]\n",
    "\n",
    "for check in bool_checks:\n",
    "    print(f\"bool({check!r:>7}) is {bool(check)}\")"
   ]
  },
  {
   "cell_type": "markdown",
   "metadata": {},
   "source": [
    "<div class=\"align-center\" style=\"display: flex; text-align: right; direction: rtl;\">\n",
    "    <div style=\"display: flex; width: 10%; float: right; \">\n",
    "        <img src=\"images/tip.png\" style=\"height: 50px !important;\" alt=\"טיפ!\"> \n",
    "    </div>\n",
    "    <div style=\"width: 90%\">\n",
    "        <p style=\"text-align: right; direction: rtl;\">\n",
    "            המשמעות של <code dir=\"ltr\" style=\"direction: ltr\">!r</code> ב־fstring היא \"הצג את הערך בתצורתו הגולמית\" (raw).<br>\n",
    "            לדוגמה, מחרוזות יוצגו עם הגרשיים משני צידיהן.\n",
    "        </p>\n",
    "    </div>\n",
    "</div>"
   ]
  },
  {
   "cell_type": "markdown",
   "metadata": {},
   "source": [
    "<p style=\"text-align: right; direction: rtl; float: right; clear: both;\">\n",
    "    אפשר להמיר ערכים בוליאניים למספר שלם:\n",
    "</p>"
   ]
  },
  {
   "cell_type": "code",
   "execution_count": 25,
   "metadata": {},
   "outputs": [
    {
     "name": "stdout",
     "output_type": "stream",
     "text": [
      "1\n",
      "0\n"
     ]
    }
   ],
   "source": [
    "print(int(True))\n",
    "print(int(False))"
   ]
  },
  {
   "cell_type": "markdown",
   "metadata": {},
   "source": [
    "<p style=\"text-align: right; direction: rtl; float: right; clear: both;\">\n",
    "    מה בנוגע לטריקים על מילונים?<br>\n",
    "    אם יש לנו iterable שמכיל זוגות של ערכים, אפשר להפוך אותו למילון:\n",
    "</p>"
   ]
  },
  {
   "cell_type": "code",
   "execution_count": 26,
   "metadata": {},
   "outputs": [
    {
     "name": "stdout",
     "output_type": "stream",
     "text": [
      "{'apples': 2, 'banana': 3, 'crembo': 4}\n"
     ]
    }
   ],
   "source": [
    "stock = [('apples', 2), ('banana', 3), ('crembo', 4)]\n",
    "print(dict(stock))"
   ]
  },
  {
   "cell_type": "markdown",
   "metadata": {},
   "source": [
    "<p style=\"text-align: right; direction: rtl; float: right; clear: both;\">\n",
    "    וכטיפ כללי, אפשר להמיר את סוג הערכים שלנו לטיפוס שונה, בעזרת הפונקציה שנקראת על שם הטיפוס שאליו אנחנו רוצים להמיר:\n",
    "</p>"
   ]
  },
  {
   "cell_type": "code",
   "execution_count": 27,
   "metadata": {},
   "outputs": [
    {
     "name": "stdout",
     "output_type": "stream",
     "text": [
      "5\n",
      "5.5\n",
      "True\n",
      "False\n",
      "{'name': 'Yam', 'age': 27}\n",
      "[1, 2, 3, 4]\n",
      "('y', 'o', '!')\n"
     ]
    }
   ],
   "source": [
    "print(int(5.5))\n",
    "print(float('5.5'))\n",
    "print(str(True))\n",
    "print(bool(0))\n",
    "print(dict([('name', 'Yam'), ('age', 27)]))\n",
    "tuple_until_4 = (1, 2, 3, 4)\n",
    "print(list(tuple_until_4))\n",
    "print(tuple('yo!'))"
   ]
  },
  {
   "cell_type": "markdown",
   "metadata": {},
   "source": [
    "<p style=\"text-align: right; direction: rtl; float: right; clear: both;\">\n",
    "    אבל צריך לזכור שלא כל טיפוס אפשר להמיר לטיפוס אחר:\n",
    "</p>"
   ]
  },
  {
   "cell_type": "code",
   "execution_count": 28,
   "metadata": {},
   "outputs": [
    {
     "ename": "TypeError",
     "evalue": "'int' object is not iterable",
     "output_type": "error",
     "traceback": [
      "\u001b[1;31m---------------------------------------------------------------------------\u001b[0m",
      "\u001b[1;31mTypeError\u001b[0m                                 Traceback (most recent call last)",
      "\u001b[1;32m<ipython-input-28-b3b37d2b2a10>\u001b[0m in \u001b[0;36m<module>\u001b[1;34m\u001b[0m\n\u001b[1;32m----> 1\u001b[1;33m \u001b[0mprint\u001b[0m\u001b[1;33m(\u001b[0m\u001b[0mlist\u001b[0m\u001b[1;33m(\u001b[0m\u001b[1;36m5\u001b[0m\u001b[1;33m)\u001b[0m\u001b[1;33m)\u001b[0m\u001b[1;33m\u001b[0m\u001b[1;33m\u001b[0m\u001b[0m\n\u001b[0m",
      "\u001b[1;31mTypeError\u001b[0m: 'int' object is not iterable"
     ]
    }
   ],
   "source": [
    "print(list(5))"
   ]
  },
  {
   "cell_type": "markdown",
   "metadata": {},
   "source": [
    "## <span style=\"text-align: right; direction: rtl; float: right; clear: both;\">מאחורי הקלעים של פייתון</span>"
   ]
  },
  {
   "cell_type": "markdown",
   "metadata": {},
   "source": [
    "<p style=\"text-align: right; direction: rtl; float: right; clear: both;\">\n",
    "    ישנן פונקציות מובנות רבות שמטרתן להנגיש לנו דברים שקורים מאחורי הקלעים של פייתון. במחברת זו נסביר על שלוש מהן.\n",
    "</p>"
   ]
  },
  {
   "cell_type": "markdown",
   "metadata": {},
   "source": [
    "### <span style=\"text-align: right; direction: rtl; float: right; clear: both;\">id</span>"
   ]
  },
  {
   "cell_type": "markdown",
   "metadata": {},
   "source": [
    "<p style=\"text-align: right; direction: rtl; float: right; clear: both;\">\n",
    "    על הפונקציה <code>id</code> כבר למדנו בעבר. היא מקבלת כארגומנט ערך, ומחזירה לנו את \"הזהות\" שלו – ערך אחר שמייצג רק את אותו.<br>\n",
    "    בגרסת הפייתון שאנחנו משתמשים בה, מדובר בכתובת של הערך ב<a href=\"https://he.wikipedia.org/wiki/%D7%96%D7%99%D7%9B%D7%A8%D7%95%D7%9F_%D7%92%D7%99%D7%A9%D7%94_%D7%90%D7%A7%D7%A8%D7%90%D7%99%D7%AA\">זיכרון המחשב</a>.<br>\n",
    "    כל אדם שיריץ את הקוד הבא יקבל ערכים שונים, אבל לעולם לא יודפסו לו 2 ערכים זהים באותה ריצה.<br>\n",
    "    הסיבה לכך שתמיד יודפסו 4 ערכים שונים היא שכל הנתונים שמופיעים ברשימה <var>values</var> שונים זה מזה.\n",
    "</p>"
   ]
  },
  {
   "cell_type": "code",
   "execution_count": 29,
   "metadata": {},
   "outputs": [
    {
     "name": "stdout",
     "output_type": "stream",
     "text": [
      "id(                1337) -> 1699680769072\n",
      "id(        [1, 3, 3, 7]) -> 1699680244232\n",
      "id(                1337) -> 1699680076848\n",
      "id(['1', '3', '3', '7']) -> 1699680809800\n"
     ]
    }
   ],
   "source": [
    "values = ['1337', [1, 3, 3, 7], 1337, ['1', '3', '3', '7']]\n",
    "\n",
    "for value in values:\n",
    "    id_of_value = id(value)\n",
    "    print(f'id({str(value):>20}) -> {id_of_value}')"
   ]
  },
  {
   "cell_type": "markdown",
   "metadata": {},
   "source": [
    "<p style=\"text-align: right; direction: rtl; float: right; clear: both;\">\n",
    "    אם ניצור מצב שבו 2 שמות מצביעים על אותו ערך בדיוק, <code>id</code> תחזיר את אותה התוצאה עבור שני הערכים:\n",
    "</p>"
   ]
  },
  {
   "cell_type": "code",
   "execution_count": 30,
   "metadata": {},
   "outputs": [
    {
     "name": "stdout",
     "output_type": "stream",
     "text": [
      "id(song1): 1699679994824\n",
      "id(song2): 1699679994824  # Same id!\n",
      "id(song3): 1699679994312  # Another id!\n",
      "song1: [\"I've\", 'got', 'a', 'lovely', 'bunch', 'of', 'coconuts', '🎵']\n",
      "song2: [\"I've\", 'got', 'a', 'lovely', 'bunch', 'of', 'coconuts', '🎵']\n",
      "song3: [\"I've\", 'got', 'a', 'lovely', 'bunch', 'of', 'coconuts']\n"
     ]
    }
   ],
   "source": [
    "song1 = [\"I've\", 'got', 'a', 'lovely', 'bunch', 'of', 'coconuts']\n",
    "song2 = song1  # שתי הרשימות כרגע מצביעות לאותו מקום\n",
    "song3 = song1[:]  # הערך זהה, אך שכפלנו את הרשימה כך שהמשתנה הזה יצביע למקום אחר\n",
    "print(f\"id(song1): {id(song1)}\")\n",
    "print(f\"id(song2): {id(song2)}  # Same id!\")\n",
    "print(f\"id(song3): {id(song3)}  # Another id!\")\n",
    "# נשים לב שהן מתנהגות בהתאם:\n",
    "song2.append(\"🎵\")\n",
    "print(f\"song1: {song1}\")\n",
    "print(f\"song2: {song2}\")\n",
    "print(f\"song3: {song3}\")"
   ]
  },
  {
   "cell_type": "markdown",
   "metadata": {},
   "source": [
    "<p style=\"text-align: right; direction: rtl; float: right; clear: both;\">\n",
    "    הפונקציה הזו יכולה לסייע לנו להגיע לתובנות בנוגע לדרך שבה פייתון עובדת בכל מיני מצבים.<br>\n",
    "    קשה להבין, לדוגמה, מה קורה בקוד הבא:\n",
    "</p>"
   ]
  },
  {
   "cell_type": "code",
   "execution_count": 31,
   "metadata": {},
   "outputs": [
    {
     "name": "stdout",
     "output_type": "stream",
     "text": [
      "[[0, 0, 0], [0, 0, 0], [0, 0, 0]]\n",
      "[[0, 0, 0, 100], [0, 0, 0, 100], [0, 0, 0, 100]]\n"
     ]
    }
   ],
   "source": [
    "collections_of_numbers = [[0, 0, 0]] * 3  # ניצור 3 רשימות של 3 איברים בכל אחת\n",
    "print(collections_of_numbers)\n",
    "collections_of_numbers[0].append(100)  # נוסיף את האיבר 100 לרשימה הראשונה בלבד\n",
    "print(collections_of_numbers)"
   ]
  },
  {
   "cell_type": "markdown",
   "metadata": {},
   "source": [
    "<p style=\"text-align: right; direction: rtl; float: right; clear: both;\">\n",
    "    בדיקה בעזרת <code>id</code> תעזור לנו לראות שהרשימות הפנימיות בתוך <var>collections_of_numbers</var> מצביעות לאותו מקום:\n",
    "</p>"
   ]
  },
  {
   "cell_type": "code",
   "execution_count": 32,
   "metadata": {},
   "outputs": [
    {
     "name": "stdout",
     "output_type": "stream",
     "text": [
      "1699679904200\n",
      "1699679904200\n",
      "1699679904200\n"
     ]
    }
   ],
   "source": [
    "print(id(collections_of_numbers[0]))\n",
    "print(id(collections_of_numbers[1]))\n",
    "print(id(collections_of_numbers[2]))"
   ]
  },
  {
   "cell_type": "markdown",
   "metadata": {},
   "source": [
    "<div class=\"align-center\" style=\"display: flex; text-align: right; direction: rtl; clear: both;\">\n",
    "    <div style=\"display: flex; width: 10%; float: right; clear: both;\">\n",
    "        <img src=\"images/exercise.svg\" style=\"height: 50px !important;\" alt=\"תרגול\"> \n",
    "    </div>\n",
    "    <div style=\"width: 70%\">\n",
    "        <p style=\"text-align: right; direction: rtl; float: right; clear: both;\">\n",
    "            נסו לכתוב קוד של שורה אחת או יותר, שיחליף את השורה הראשונה בקוד שלמעלה.<br>\n",
    "            גרמו לכך שהקוד שמוסיף את הערך 100 לרשימה הראשונה לא ישפיע על שאר הרשימות.\n",
    "        </p>\n",
    "    </div>\n",
    "    <div style=\"display: flex; width: 20%; border-right: 0.1rem solid #A5A5A5; padding: 1rem 2rem;\">\n",
    "        <p style=\"text-align: center; direction: rtl; justify-content: center; align-items: center; clear: both;\">\n",
    "            <strong>חשוב!</strong><br>\n",
    "            פתרו לפני שתמשיכו!\n",
    "        </p>\n",
    "    </div>\n",
    "</div>"
   ]
  },
  {
   "cell_type": "code",
   "execution_count": null,
   "metadata": {},
   "outputs": [],
   "source": []
  },
  {
   "cell_type": "code",
   "execution_count": 61,
   "metadata": {},
   "outputs": [
    {
     "name": "stdout",
     "output_type": "stream",
     "text": [
      "[[0, 0, 0], [0, 0, 0], [0, 0, 0]]\n",
      "[[0, 0, 0, 100], [0, 0, 0], [0, 0, 0]]\n"
     ]
    }
   ],
   "source": [
    "cc = [0,0,0]\n",
    "cd = cc.copy()\n",
    "cm = cc.copy()\n",
    "mm =[]\n",
    "mm += [cc] + [cd] +[cm]\n",
    "print(mm)\n",
    "mm[0].append(100)\n",
    "print(mm)"
   ]
  },
  {
   "cell_type": "markdown",
   "metadata": {},
   "source": [
    "### <span style=\"text-align: right; direction: rtl; float: right; clear: both;\">dir</span>"
   ]
  },
  {
   "cell_type": "markdown",
   "metadata": {},
   "source": [
    "<p style=\"text-align: right; direction: rtl; float: right; clear: both;\">\n",
    "    גם על הפונקציה <code>dir</code> כבר למדנו. ראיתם אותה לאחרונה במחברת שעסקה בדוקומנטציה.<br>\n",
    "    הפונקציה <code>dir</code> תחזיר לנו את כל הפעולות שאפשר לבצע על משתנה מסוים או על טיפוס מסוים.<br>\n",
    "    נוכל להעביר לה כארגומנט את הערך שנרצה להבין מה הפעולות שאפשר לבצע עליו:\n",
    "</p>"
   ]
  },
  {
   "cell_type": "code",
   "execution_count": 37,
   "metadata": {},
   "outputs": [
    {
     "data": {
      "text/plain": [
       "['__add__',\n",
       " '__class__',\n",
       " '__contains__',\n",
       " '__delattr__',\n",
       " '__dir__',\n",
       " '__doc__',\n",
       " '__eq__',\n",
       " '__format__',\n",
       " '__ge__',\n",
       " '__getattribute__',\n",
       " '__getitem__',\n",
       " '__getnewargs__',\n",
       " '__gt__',\n",
       " '__hash__',\n",
       " '__init__',\n",
       " '__init_subclass__',\n",
       " '__iter__',\n",
       " '__le__',\n",
       " '__len__',\n",
       " '__lt__',\n",
       " '__mod__',\n",
       " '__mul__',\n",
       " '__ne__',\n",
       " '__new__',\n",
       " '__reduce__',\n",
       " '__reduce_ex__',\n",
       " '__repr__',\n",
       " '__rmod__',\n",
       " '__rmul__',\n",
       " '__setattr__',\n",
       " '__sizeof__',\n",
       " '__str__',\n",
       " '__subclasshook__',\n",
       " 'capitalize',\n",
       " 'casefold',\n",
       " 'center',\n",
       " 'count',\n",
       " 'encode',\n",
       " 'endswith',\n",
       " 'expandtabs',\n",
       " 'find',\n",
       " 'format',\n",
       " 'format_map',\n",
       " 'index',\n",
       " 'isalnum',\n",
       " 'isalpha',\n",
       " 'isascii',\n",
       " 'isdecimal',\n",
       " 'isdigit',\n",
       " 'isidentifier',\n",
       " 'islower',\n",
       " 'isnumeric',\n",
       " 'isprintable',\n",
       " 'isspace',\n",
       " 'istitle',\n",
       " 'isupper',\n",
       " 'join',\n",
       " 'ljust',\n",
       " 'lower',\n",
       " 'lstrip',\n",
       " 'maketrans',\n",
       " 'partition',\n",
       " 'replace',\n",
       " 'rfind',\n",
       " 'rindex',\n",
       " 'rjust',\n",
       " 'rpartition',\n",
       " 'rsplit',\n",
       " 'rstrip',\n",
       " 'split',\n",
       " 'splitlines',\n",
       " 'startswith',\n",
       " 'strip',\n",
       " 'swapcase',\n",
       " 'title',\n",
       " 'translate',\n",
       " 'upper',\n",
       " 'zfill']"
      ]
     },
     "execution_count": 37,
     "metadata": {},
     "output_type": "execute_result"
    }
   ],
   "source": [
    "dir('hello')"
   ]
  },
  {
   "cell_type": "markdown",
   "metadata": {},
   "source": [
    "<span style=\"text-align: right; direction: rtl; float: right; clear: both;\">או שנוכל להעביר לה ממש שם של טיפוס:</span>"
   ]
  },
  {
   "cell_type": "code",
   "execution_count": 38,
   "metadata": {},
   "outputs": [
    {
     "data": {
      "text/plain": [
       "['__add__',\n",
       " '__class__',\n",
       " '__contains__',\n",
       " '__delattr__',\n",
       " '__dir__',\n",
       " '__doc__',\n",
       " '__eq__',\n",
       " '__format__',\n",
       " '__ge__',\n",
       " '__getattribute__',\n",
       " '__getitem__',\n",
       " '__getnewargs__',\n",
       " '__gt__',\n",
       " '__hash__',\n",
       " '__init__',\n",
       " '__init_subclass__',\n",
       " '__iter__',\n",
       " '__le__',\n",
       " '__len__',\n",
       " '__lt__',\n",
       " '__mod__',\n",
       " '__mul__',\n",
       " '__ne__',\n",
       " '__new__',\n",
       " '__reduce__',\n",
       " '__reduce_ex__',\n",
       " '__repr__',\n",
       " '__rmod__',\n",
       " '__rmul__',\n",
       " '__setattr__',\n",
       " '__sizeof__',\n",
       " '__str__',\n",
       " '__subclasshook__',\n",
       " 'capitalize',\n",
       " 'casefold',\n",
       " 'center',\n",
       " 'count',\n",
       " 'encode',\n",
       " 'endswith',\n",
       " 'expandtabs',\n",
       " 'find',\n",
       " 'format',\n",
       " 'format_map',\n",
       " 'index',\n",
       " 'isalnum',\n",
       " 'isalpha',\n",
       " 'isascii',\n",
       " 'isdecimal',\n",
       " 'isdigit',\n",
       " 'isidentifier',\n",
       " 'islower',\n",
       " 'isnumeric',\n",
       " 'isprintable',\n",
       " 'isspace',\n",
       " 'istitle',\n",
       " 'isupper',\n",
       " 'join',\n",
       " 'ljust',\n",
       " 'lower',\n",
       " 'lstrip',\n",
       " 'maketrans',\n",
       " 'partition',\n",
       " 'replace',\n",
       " 'rfind',\n",
       " 'rindex',\n",
       " 'rjust',\n",
       " 'rpartition',\n",
       " 'rsplit',\n",
       " 'rstrip',\n",
       " 'split',\n",
       " 'splitlines',\n",
       " 'startswith',\n",
       " 'strip',\n",
       " 'swapcase',\n",
       " 'title',\n",
       " 'translate',\n",
       " 'upper',\n",
       " 'zfill']"
      ]
     },
     "execution_count": 38,
     "metadata": {},
     "output_type": "execute_result"
    }
   ],
   "source": [
    "dir(str)"
   ]
  },
  {
   "cell_type": "markdown",
   "metadata": {},
   "source": [
    "### <span style=\"text-align: right; direction: rtl; float: right; clear: both;\">eval</span>"
   ]
  },
  {
   "cell_type": "markdown",
   "metadata": {},
   "source": [
    "<p style=\"text-align: right; direction: rtl; float: right; clear: both;\">\n",
    "    על <code>eval</code> אנחנו מלמדים בעיקר כדי להזהיר ממנה –  זו פונקציה שאחראית למחדלי אבטחה בכל שפת תכנות שבה היא קיימת.<br>\n",
    "    אתם לא אמורים להשתמש בה בקורס, וכדאי לזכור שכשהתשובה היא <code>eval</code>, ברוב המוחלט של המקרים שאלתם את השאלה הלא נכונה.\n",
    "</p>"
   ]
  },
  {
   "cell_type": "markdown",
   "metadata": {},
   "source": [
    "<p style=\"text-align: right; direction: rtl; float: right; clear: both;\">\n",
    "    אחרי ההקדמה המלודרמטית, נספר לכם ש־<code>eval</code> (מלשון evaluation) פשוט מקבלת קוד כמחרוזת, ומריצה אותו בעזרת פייתון.\n",
    "</p>"
   ]
  },
  {
   "cell_type": "code",
   "execution_count": 62,
   "metadata": {},
   "outputs": [
    {
     "name": "stdout",
     "output_type": "stream",
     "text": [
      "['So lonely']\n"
     ]
    }
   ],
   "source": [
    "x = []\n",
    "eval(\"x.append('So lonely')\")\n",
    "print(x)"
   ]
  },
  {
   "cell_type": "markdown",
   "metadata": {},
   "source": [
    "<p style=\"text-align: right; direction: rtl; float: right; clear: both;\">\n",
    "    לעיתים קרובות הפיתוי להשתמש ב־<code>eval</code> הוא גדול.<br>\n",
    "    אפשר לתכנת, לדוגמה, את המחשבון מהתרגול בשבוע השני בצורה הפשוטה הבאה:\n",
    "</p>"
   ]
  },
  {
   "cell_type": "code",
   "execution_count": 63,
   "metadata": {},
   "outputs": [
    {
     "name": "stdout",
     "output_type": "stream",
     "text": [
      "Please enter any mathematical expression: 50+80\n",
      "130\n"
     ]
    }
   ],
   "source": [
    "# לנסות בבית עם כפפות – בסדר. לא לכתוב בשום קוד אחר\n",
    "print(eval(input(\"Please enter any mathematical expression: \")))"
   ]
  },
  {
   "cell_type": "markdown",
   "metadata": {},
   "source": [
    "<p style=\"text-align: right; direction: rtl; float: right; clear: both;\">\n",
    "    אבל כשחושבים על זה – המשתמש שמתבקש להכניס תרגיל מתמטי, יכול להריץ כל קוד שיתחשק לו, והקוד הזה יבוצע!<br>\n",
    "    הוא יכול לקרוא קבצים שנמצאים על מחשב או למחוק אותם, לחטט בסיסמאות, ולמעשה – לעשות ככל העולה על רוחו.<br>\n",
    "    לקריאה נוספת על הסכנות, חפשו על <a href=\"https://en.wikipedia.org/wiki/Code_injection\">code injection</a>.\n",
    "</p>"
   ]
  },
  {
   "cell_type": "markdown",
   "metadata": {},
   "source": [
    "## <span style=\"text-align: right; direction: rtl; float: right; clear: both;\">כלים שימושיים נוספים</span>"
   ]
  },
  {
   "cell_type": "markdown",
   "metadata": {},
   "source": [
    "### <span style=\"text-align: right; direction: rtl; float: right; clear: both;\">טווח מספרים</span>"
   ]
  },
  {
   "cell_type": "markdown",
   "metadata": {},
   "source": [
    "<p style=\"text-align: right; direction: rtl; float: right; clear: both;\">\n",
    "    פעמים רבות אנחנו נתקלים במצבים שבהם אנחנו רוצים לעבור על כל המספרים מ־0 ועד ערך מסוים.<br>\n",
    "    לדוגמה, כך פתרנו את התרגיל שמחשב את סכום המספרים עד מספר שהתקבל כקלט:\n",
    "</p>"
   ]
  },
  {
   "cell_type": "code",
   "execution_count": 64,
   "metadata": {},
   "outputs": [
    {
     "name": "stdout",
     "output_type": "stream",
     "text": [
      "4\n",
      "10\n"
     ]
    }
   ],
   "source": [
    "max_number = int(input())\n",
    "\n",
    "current_number = 0\n",
    "total = 0\n",
    "\n",
    "while current_number <= max_number:\n",
    "    total = total + current_number\n",
    "    current_number = current_number + 1\n",
    "\n",
    "print(total)"
   ]
  },
  {
   "cell_type": "markdown",
   "metadata": {},
   "source": [
    "<p style=\"text-align: right; direction: rtl; float: right; clear: both;\">\n",
    "    מטרת הפונקציה <code>range</code> היא לפתור לנו את הבעיה הזו בקלות.<br>\n",
    "    תנו ל־<code>range</code> מספר כארגומנט, והיא תחזיר לכם iterable שמכיל את כל המספרים הטבעיים עד המספר שנתתם לה, ללא המספר האחרון:\n",
    "</p>"
   ]
  },
  {
   "cell_type": "code",
   "execution_count": 65,
   "metadata": {},
   "outputs": [
    {
     "name": "stdout",
     "output_type": "stream",
     "text": [
      "0\n",
      "1\n",
      "2\n",
      "3\n",
      "4\n"
     ]
    }
   ],
   "source": [
    "for i in range(5):\n",
    "    print(i)"
   ]
  },
  {
   "cell_type": "markdown",
   "metadata": {},
   "source": [
    "<p style=\"text-align: right; direction: rtl; float: right; clear: both;\">\n",
    "    הפונקציה יודעת גם לקבל ערך שממנו היא תתחיל לספור:\n",
    "</p>"
   ]
  },
  {
   "cell_type": "code",
   "execution_count": 66,
   "metadata": {},
   "outputs": [
    {
     "name": "stdout",
     "output_type": "stream",
     "text": [
      "12\n",
      "13\n"
     ]
    }
   ],
   "source": [
    "for i in range(12, 14):\n",
    "    print(i)"
   ]
  },
  {
   "cell_type": "markdown",
   "metadata": {},
   "source": [
    "<p style=\"text-align: right; direction: rtl; float: right; clear: both;\">\n",
    "    וגם ערך דילוג, שקובע על כמה מספרים <code>range</code> תדלג בכל פעם:\n",
    "</p>"
   ]
  },
  {
   "cell_type": "code",
   "execution_count": 67,
   "metadata": {},
   "outputs": [
    {
     "name": "stdout",
     "output_type": "stream",
     "text": [
      "0\n",
      "10\n",
      "20\n",
      "30\n",
      "40\n",
      "50\n",
      "60\n",
      "70\n",
      "80\n",
      "90\n",
      "100\n"
     ]
    }
   ],
   "source": [
    "for i in range(0, 101, 10):\n",
    "    print(i)"
   ]
  },
  {
   "cell_type": "markdown",
   "metadata": {},
   "source": [
    "<div class=\"align-center\" style=\"display: flex; text-align: right; direction: rtl;\">\n",
    "    <div style=\"display: flex; width: 10%; float: right; \">\n",
    "        <img src=\"images/warning.png\" style=\"height: 50px !important;\" alt=\"אזהרה!\"> \n",
    "    </div>\n",
    "    <div style=\"width: 90%\">\n",
    "        <p style=\"text-align: right; direction: rtl;\">\n",
    "            הפונקציה <code>range</code> מזכירה את פעולת החיתוך מהשבוע השלישי, שבה משתמשים בסוגריים מרובעים ובנקודתיים.<br>\n",
    "            <code>range</code>, לעומת חיתוך, היא פונקציה – קוראים לה בעזרת סוגריים עגולים, ומפרידים בין הארגומנטים שנשלחים אליה בעזרת פסיקים.\n",
    "        </p>\n",
    "    </div>\n",
    "</div>"
   ]
  },
  {
   "cell_type": "markdown",
   "metadata": {},
   "source": [
    "<div class=\"align-center\" style=\"display: flex; text-align: right; direction: rtl; clear: both;\">\n",
    "    <div style=\"display: flex; width: 10%; float: right; clear: both;\">\n",
    "        <img src=\"images/exercise.svg\" style=\"height: 50px !important;\" alt=\"תרגול\"> \n",
    "    </div>\n",
    "    <div style=\"width: 70%\">\n",
    "        <p style=\"text-align: right; direction: rtl; float: right; clear: both;\">\n",
    "            כתבו בעצמכם קוד שמחשב את סכום המספרים מ־0 ועד המספר שהתקבל כקלט.<br>\n",
    "            השתמשו ב־<code>range</code>.\n",
    "        </p>\n",
    "    </div>\n",
    "    <div style=\"display: flex; width: 20%; border-right: 0.1rem solid #A5A5A5; padding: 1rem 2rem;\">\n",
    "        <p style=\"text-align: center; direction: rtl; justify-content: center; align-items: center; clear: both;\">\n",
    "            <strong>חשוב!</strong><br>\n",
    "            פתרו לפני שתמשיכו!\n",
    "        </p>\n",
    "    </div>\n",
    "</div>"
   ]
  },
  {
   "cell_type": "code",
   "execution_count": 74,
   "metadata": {},
   "outputs": [
    {
     "name": "stdout",
     "output_type": "stream",
     "text": [
      "4\n",
      "10\n"
     ]
    }
   ],
   "source": [
    "max_number = int(input())\n",
    "total = 0\n",
    "for i in range(max_number+1):\n",
    "    total = total + i\n",
    "print(total)"
   ]
  },
  {
   "cell_type": "markdown",
   "metadata": {},
   "source": [
    "### <span style=\"text-align: right; direction: rtl; float: right; clear: both;\">סידור</span>"
   ]
  },
  {
   "cell_type": "markdown",
   "metadata": {},
   "source": [
    "<p style=\"text-align: right; direction: rtl; float: right; clear: both;\">\n",
    "    עד כה ארגז הכלים שלנו כלל רק את פעולת הסידור ששייכת לרשימות, <code>sort</code>.<br>\n",
    "    אף שמעשית רוב פעולות הסידור מבוצעות על רשימות, לפעמים יעלה הצורך לסדר טיפוסי נתונים אחרים.<br>\n",
    "    במקרים האלה נשתמש בפונקציה המובנית <code>sorted</code>:\n",
    "</p>"
   ]
  },
  {
   "cell_type": "code",
   "execution_count": 75,
   "metadata": {},
   "outputs": [
    {
     "data": {
      "text/plain": [
       "['a', 'e', 'g', 'i', 'l', 'o', 'p', 's']"
      ]
     },
     "execution_count": 75,
     "metadata": {},
     "output_type": "execute_result"
    }
   ],
   "source": [
    "sorted('spoilage')"
   ]
  },
  {
   "cell_type": "markdown",
   "metadata": {},
   "source": [
    "<p style=\"text-align: right; direction: rtl; float: right; clear: both;\">\n",
    "    <code>sorted</code> מקבלת iterable, ומחזירה רשימה מסודרת של האיברים ב־iterable.\n",
    "</p>"
   ]
  },
  {
   "cell_type": "markdown",
   "metadata": {},
   "source": [
    "<p style=\"text-align: right; direction: rtl; float: right; clear: both;\">\n",
    "    נראה דוגמה נוספת של סידור tuple.<br>\n",
    "    שימו לב שטיפוס הנתונים שמוחזר מ־<code>sorted</code> הוא תמיד רשימה:\n",
    "</p>"
   ]
  },
  {
   "cell_type": "code",
   "execution_count": 76,
   "metadata": {},
   "outputs": [
    {
     "data": {
      "text/plain": [
       "[1, 11, 31, 4113, 612314]"
      ]
     },
     "execution_count": 76,
     "metadata": {},
     "output_type": "execute_result"
    }
   ],
   "source": [
    "numbers = (612314, 4113, 1, 11, 31)\n",
    "sorted(numbers)"
   ]
  },
  {
   "cell_type": "markdown",
   "metadata": {},
   "source": [
    "<p style=\"text-align: right; direction: rtl; float: right; clear: both;\">\n",
    "    גם ל־<code>sorted</code> וגם לפעולה <code>sort</code> שיכולה להתבצע על רשימות, יש 2 פרמטרים שלא למדנו עליהם.<br>\n",
    "    לפרמטר הראשון קוראים <em>reverse</em>, והוא הפשוט להבנה מבין השניים – ברגע שמועבר אליו <var>True</var>, הוא מחזיר את הרשימה מסודרת בסדר יורד:</p>"
   ]
  },
  {
   "cell_type": "code",
   "execution_count": 77,
   "metadata": {},
   "outputs": [
    {
     "data": {
      "text/plain": [
       "['w', 'o', 'l', 'f', 'e', 'd']"
      ]
     },
     "execution_count": 77,
     "metadata": {},
     "output_type": "execute_result"
    }
   ],
   "source": [
    "sorted('deflow', reverse=True)"
   ]
  },
  {
   "cell_type": "markdown",
   "metadata": {},
   "source": [
    "<p style=\"text-align: right; direction: rtl; float: right; clear: both;\">\n",
    "    הפרמטר השני, <em>key</em>, מסובך קצת יותר להבנה.<br>\n",
    "    כשנעביר לפרמטר הזה פונקציה, הסידור של איברי ה־iterable יתבצע לפי הערך שחוזר מהפונקציה הזו עבור כל אחד מהאיברים שצריך למיין.<br>\n",
    "    מבולבלים? נראה, לדוגמה, את הרשימה הבאה, שמורכבת משמות אנשי הסגל של אחד מהמחזורים הקודמים:\n",
    "</p>"
   ]
  },
  {
   "cell_type": "code",
   "execution_count": null,
   "metadata": {},
   "outputs": [],
   "source": [
    "staff = [\"Dafi\", \"Efrat\", \"Ido\", \"Itamar\", \"Yam\"]"
   ]
  },
  {
   "cell_type": "markdown",
   "metadata": {},
   "source": [
    "<table style=\"font-size: 2rem; border: 0px solid black; border-spacing: 0px;\">\n",
    "    <tr>\n",
    "        <td style=\"padding-left: 4px; padding-top: 2px; padding-bottom: 3px; font-size: 1.3rem; color: #777;  text-align: left; border-bottom: 1px solid;\">0</td>\n",
    "        <td style=\"padding-left: 4px; padding-top: 2px; padding-bottom: 3px; font-size: 1.3rem; color: #777;  text-align: left; border-left: 1px solid #555555; border-bottom: 1px solid;\">1</td>\n",
    "        <td style=\"padding-left: 4px; padding-top: 2px; padding-bottom: 3px; font-size: 1.3rem; color: #777;  text-align: left; border-left: 1px solid #555555; border-bottom: 1px solid;\">2</td>\n",
    "        <td style=\"padding-left: 4px; padding-top: 2px; padding-bottom: 3px; font-size: 1.3rem; color: #777;  text-align: left; border-left: 1px solid #555555; border-bottom: 1px solid;\">3</td>\n",
    "        <td style=\"padding-left: 4px; padding-top: 2px; padding-bottom: 3px; font-size: 1.3rem; color: #777;  text-align: left; border-left: 1px solid #555555; border-bottom: 1px solid;\">4</td>\n",
    "    </tr>\n",
    "    <tbody>\n",
    "        <tr>\n",
    "            <td style=\"padding-top: 8px; padding-bottom: 8px; padding-left: 10px; padding-right: 10px; vertical-align: bottom; border: 2px solid;\">\"Dafi\"</td>\n",
    "            <td style=\"padding-top: 8px; padding-bottom: 8px; padding-left: 10px; padding-right: 10px; vertical-align: bottom; border: 2px solid;\">\"Efrat\"</td>\n",
    "            <td style=\"padding-top: 8px; padding-bottom: 8px; padding-left: 10px; padding-right: 10px; vertical-align: bottom; border: 2px solid;\">\"Ido\"</td>\n",
    "            <td style=\"padding-top: 8px; padding-bottom: 8px; padding-left: 10px; padding-right: 10px; vertical-align: bottom; border: 2px solid;\">\"Itamar\"</td>\n",
    "            <td style=\"padding-top: 8px; padding-bottom: 8px; padding-left: 10px; padding-right: 10px; vertical-align: bottom; border: 2px solid;\">\"Yam\"</td>\n",
    "        </tr>\n",
    "        <tr style=\"background: #f5f5f5;\">\n",
    "            <td style=\"padding-left: 4px; padding-top: 2px; padding-bottom: 3px; font-size: 1.3rem; color: #777; text-align: right;\">-5</td>\n",
    "            <td style=\"padding-left: 4px; padding-top: 2px; padding-bottom: 3px; font-size: 1.3rem; color: #777; text-align: right; border-left: 1px solid #555555;\">-4</td>\n",
    "            <td style=\"padding-left: 4px; padding-top: 2px; padding-bottom: 3px; font-size: 1.3rem; color: #777; text-align: right; border-left: 1px solid #555555;\">-3</td>\n",
    "            <td style=\"padding-left: 4px; padding-top: 2px; padding-bottom: 3px; font-size: 1.3rem; color: #777; text-align: right; border-left: 1px solid #555555;\">-2</td>\n",
    "            <td style=\"padding-left: 4px; padding-top: 2px; padding-bottom: 3px; font-size: 1.3rem; color: #777; text-align: right; border-left: 1px solid #555555;\">-1</td>\n",
    "        </tr>\n",
    "    </tbody>\n",
    "</table>"
   ]
  },
  {
   "cell_type": "markdown",
   "metadata": {},
   "source": [
    "<p style=\"text-align: right; direction: rtl; float: right; clear: both;\">\n",
    "    אם ארצה לסדר את הרשימה הזו לפי האורך (<code>len</code>) של שמות כל אחד מאנשי הסגל, אשתמש ב־key בצורה הבאה:\n",
    "</p>"
   ]
  },
  {
   "cell_type": "code",
   "execution_count": null,
   "metadata": {},
   "outputs": [],
   "source": [
    "staff = sorted(staff, key=len)\n",
    "print(staff)"
   ]
  },
  {
   "cell_type": "markdown",
   "metadata": {},
   "source": [
    "<p style=\"text-align: right; direction: rtl; float: right; clear: both;\">\n",
    "    מה קרה שם בפועל?<br>\n",
    "    הפונקציה <code>len</code> הופעלה על כל אחד מהאיברים. התוצאות מופיעות בתרשים הבא:\n",
    "</p>"
   ]
  },
  {
   "cell_type": "markdown",
   "metadata": {},
   "source": [
    "<table style=\"font-size: 2rem; border: 0px solid black; border-spacing: 0px;\">\n",
    "    <tr>\n",
    "        <td style=\"padding-left: 4px; padding-top: 2px; padding-bottom: 3px; font-size: 1.3rem; color: #777;  text-align: left; border-bottom: 1px solid;\">0</td>\n",
    "        <td style=\"padding-left: 4px; padding-top: 2px; padding-bottom: 3px; font-size: 1.3rem; color: #777;  text-align: left; border-left: 1px solid #555555; border-bottom: 1px solid;\">1</td>\n",
    "        <td style=\"padding-left: 4px; padding-top: 2px; padding-bottom: 3px; font-size: 1.3rem; color: #777;  text-align: left; border-left: 1px solid #555555; border-bottom: 1px solid;\">2</td>\n",
    "        <td style=\"padding-left: 4px; padding-top: 2px; padding-bottom: 3px; font-size: 1.3rem; color: #777;  text-align: left; border-left: 1px solid #555555; border-bottom: 1px solid;\">3</td>\n",
    "        <td style=\"padding-left: 4px; padding-top: 2px; padding-bottom: 3px; font-size: 1.3rem; color: #777;  text-align: left; border-left: 1px solid #555555; border-bottom: 1px solid;\">4</td>\n",
    "    </tr>\n",
    "    <tbody>\n",
    "        <tr>\n",
    "            <td style=\"padding-top: 8px; padding-bottom: 8px; padding-left: 10px; padding-right: 10px; vertical-align: bottom; border: 2px solid;\">\"Dafi\"</td>\n",
    "            <td style=\"padding-top: 8px; padding-bottom: 8px; padding-left: 10px; padding-right: 10px; vertical-align: bottom; border: 2px solid;\">\"Efrat\"</td>\n",
    "            <td style=\"padding-top: 8px; padding-bottom: 8px; padding-left: 10px; padding-right: 10px; vertical-align: bottom; border: 2px solid;\">\"Ido\"</td>\n",
    "            <td style=\"padding-top: 8px; padding-bottom: 8px; padding-left: 10px; padding-right: 10px; vertical-align: bottom; border: 2px solid;\">\"Itamar\"</td>\n",
    "            <td style=\"padding-top: 8px; padding-bottom: 8px; padding-left: 10px; padding-right: 10px; vertical-align: bottom; border: 2px solid;\">\"Yam\"</td>\n",
    "        </tr>\n",
    "        <tr style=\"background: #f5f5f5; color: black;\">\n",
    "            <td style=\"padding-left: 4px; padding-top: 2px; padding-bottom: 3px; font-size: 1.3rem; text-align: center;\"><strong>4</strong></td>\n",
    "            <td style=\"padding-left: 4px; padding-top: 2px; padding-bottom: 3px; font-size: 1.3rem; text-align: center; border-left: 1px solid #555555;\"><strong>5</strong></td>\n",
    "            <td style=\"padding-left: 4px; padding-top: 2px; padding-bottom: 3px; font-size: 1.3rem; text-align: center; border-left: 1px solid #555555;\"><strong>3</strong></td>\n",
    "            <td style=\"padding-left: 4px; padding-top: 2px; padding-bottom: 3px; font-size: 1.3rem; text-align: center; border-left: 1px solid #555555;\"><strong>6</strong></td>\n",
    "            <td style=\"padding-left: 4px; padding-top: 2px; padding-bottom: 3px; font-size: 1.3rem; text-align: center; border-left: 1px solid #555555;\"><strong>3</strong></td>\n",
    "        </tr>\n",
    "    </tbody>\n",
    "</table>"
   ]
  },
  {
   "cell_type": "markdown",
   "metadata": {},
   "source": [
    "<p style=\"text-align: right; direction: rtl; float: right; clear: both;\">\n",
    "    בפועל, אנחנו מחזיקים עכשיו רשימה ראשית (שמות אנשי הסגל), ועוד רשימה משנית שבה מאוחסנים אורכי האיברים שברשימה הראשית.<br>\n",
    "    פייתון תמיין את הרשימה המשנית, ובכל פעם שהיא תזיז את אחד האיברים בה, היא תזיז איתו את האיבר התואם ברשימה המקורית:\n",
    "</p>"
   ]
  },
  {
   "cell_type": "markdown",
   "metadata": {},
   "source": [
    "<table style=\"font-size: 2rem; border: 0px solid black; border-spacing: 0px;\">\n",
    "    <tr>\n",
    "        <td style=\"padding-left: 4px; padding-top: 2px; padding-bottom: 3px; font-size: 1.3rem; color: #777;  text-align: left; border-bottom: 1px solid;\">0</td>\n",
    "        <td style=\"padding-left: 4px; padding-top: 2px; padding-bottom: 3px; font-size: 1.3rem; color: #777;  text-align: left; border-left: 1px solid #555555; border-bottom: 1px solid;\">1</td>\n",
    "        <td style=\"padding-left: 4px; padding-top: 2px; padding-bottom: 3px; font-size: 1.3rem; color: #777;  text-align: left; border-left: 1px solid; border-bottom: 1px solid; background: #d1d1d1;\">2</td>\n",
    "        <td style=\"padding-left: 4px; padding-top: 2px; padding-bottom: 3px; font-size: 1.3rem; color: #777;  text-align: left; border-left: 1px solid #555555; border-bottom: 1px solid;\">3</td>\n",
    "        <td style=\"padding-left: 4px; padding-top: 2px; padding-bottom: 3px; font-size: 1.3rem; color: #777;  text-align: left; border-left: 1px solid #555555; border-bottom: 1px solid;\">4</td>\n",
    "    </tr>\n",
    "    <tbody>\n",
    "        <tr>\n",
    "            <td style=\"padding-top: 8px; padding-bottom: 8px; padding-left: 10px; padding-right: 10px; vertical-align: bottom; border: 2px solid;\">\"Dafi\"</td>\n",
    "            <td style=\"padding-top: 8px; padding-bottom: 8px; padding-left: 10px; padding-right: 10px; vertical-align: bottom; border: 2px solid;\">\"Efrat\"</td>\n",
    "            <td style=\"padding-top: 8px; padding-bottom: 8px; padding-left: 10px; padding-right: 10px; vertical-align: bottom; border: 2px solid; background: #d1d1d1\">\"Ido\"</td>\n",
    "            <td style=\"padding-top: 8px; padding-bottom: 8px; padding-left: 10px; padding-right: 10px; vertical-align: bottom; border: 2px solid;\">\"Itamar\"</td>\n",
    "            <td style=\"padding-top: 8px; padding-bottom: 8px; padding-left: 10px; padding-right: 10px; vertical-align: bottom; border: 2px solid;\">\"Yam\"</td>\n",
    "        </tr>\n",
    "        <tr style=\"background: #f5f5f5; color: black;\">\n",
    "            <td style=\"padding-left: 4px; padding-top: 2px; padding-bottom: 3px; font-size: 1.3rem; text-align: center;\"><strong>4</strong></td>\n",
    "            <td style=\"padding-left: 4px; padding-top: 2px; padding-bottom: 3px; font-size: 1.3rem; text-align: center; border-left: 1px solid #555555;\"><strong>5</strong></td>\n",
    "            <td style=\"padding-left: 4px; padding-top: 2px; padding-bottom: 3px; font-size: 1.3rem; text-align: center; border-left: 1px solid #555555; background: #d1d1d1\"><strong>3</strong></td>\n",
    "            <td style=\"padding-left: 4px; padding-top: 2px; padding-bottom: 3px; font-size: 1.3rem; text-align: center; border-left: 1px solid #555555;\"><strong>6</strong></td>\n",
    "            <td style=\"padding-left: 4px; padding-top: 2px; padding-bottom: 3px; font-size: 1.3rem; text-align: center; border-left: 1px solid #555555;\"><strong>3</strong></td>\n",
    "        </tr>\n",
    "    </tbody>\n",
    "</table>\n",
    "\n",
    "<table style=\"font-size: 2rem; border: 0px solid black; border-spacing: 0px;\">\n",
    "    <tr>\n",
    "        <td style=\"padding-left: 4px; padding-top: 2px; padding-bottom: 3px; font-size: 1.3rem; color: #777;  text-align: left; border-left: 1px solid; border-bottom: 1px solid; background: #d1d1d1;\">0</td>\n",
    "        <td style=\"padding-left: 4px; padding-top: 2px; padding-bottom: 3px; font-size: 1.3rem; color: #777;  text-align: left; border-bottom: 1px solid; border-left: 1px solid #555555;\">1</td>\n",
    "        <td style=\"padding-left: 4px; padding-top: 2px; padding-bottom: 3px; font-size: 1.3rem; color: #777;  text-align: left; border-left: 1px solid #555555; border-bottom: 1px solid;\">2</td>\n",
    "        <td style=\"padding-left: 4px; padding-top: 2px; padding-bottom: 3px; font-size: 1.3rem; color: #777;  text-align: left; border-left: 1px solid #555555; border-bottom: 1px solid;\">3</td>\n",
    "        <td style=\"padding-left: 4px; padding-top: 2px; padding-bottom: 3px; font-size: 1.3rem; color: #777;  text-align: left; border-left: 1px solid #555555; border-bottom: 1px solid;\">4</td>\n",
    "    </tr>\n",
    "    <tbody>\n",
    "        <tr>\n",
    "            <td style=\"padding-top: 8px; padding-bottom: 8px; padding-left: 10px; padding-right: 10px; vertical-align: bottom; border: 2px solid; background: #d1d1d1\">\"Ido\"</td>\n",
    "            <td style=\"padding-top: 8px; padding-bottom: 8px; padding-left: 10px; padding-right: 10px; vertical-align: bottom; border: 2px solid;\">\"Dafi\"</td>\n",
    "            <td style=\"padding-top: 8px; padding-bottom: 8px; padding-left: 10px; padding-right: 10px; vertical-align: bottom; border: 2px solid;\">\"Efrat\"</td>\n",
    "            <td style=\"padding-top: 8px; padding-bottom: 8px; padding-left: 10px; padding-right: 10px; vertical-align: bottom; border: 2px solid;\">\"Itamar\"</td>\n",
    "            <td style=\"padding-top: 8px; padding-bottom: 8px; padding-left: 10px; padding-right: 10px; vertical-align: bottom; border: 2px solid;\">\"Yam\"</td>\n",
    "        </tr>\n",
    "        <tr style=\"background: #f5f5f5; color: black;\">\n",
    "            <td style=\"padding-left: 4px; padding-top: 2px; padding-bottom: 3px; font-size: 1.3rem; text-align: center; border-left: 1px solid #555555; background: #d1d1d1\"><strong>3</strong></td>\n",
    "            <td style=\"padding-left: 4px; padding-top: 2px; padding-bottom: 3px; font-size: 1.3rem; text-align: center; border-left: 1px solid #555555;\"><strong>4</strong></td>\n",
    "            <td style=\"padding-left: 4px; padding-top: 2px; padding-bottom: 3px; font-size: 1.3rem; text-align: center; border-left: 1px solid #555555;\"><strong>5</strong></td>\n",
    "            <td style=\"padding-left: 4px; padding-top: 2px; padding-bottom: 3px; font-size: 1.3rem; text-align: center; border-left: 1px solid #555555;\"><strong>6</strong></td>\n",
    "            <td style=\"padding-left: 4px; padding-top: 2px; padding-bottom: 3px; font-size: 1.3rem; text-align: center; border-left: 1px solid #555555;\"><strong>3</strong></td>\n",
    "        </tr>\n",
    "    </tbody>\n",
    "</table>"
   ]
  },
  {
   "cell_type": "markdown",
   "metadata": {},
   "source": [
    "<span style=\"text-align: right; direction: rtl; float: right; clear: both;\">הרשימה המשנית עדיין לא מסודרת. נמשיך:</span>\n",
    "\n",
    "<table style=\"font-size: 2rem; border: 0px solid black; border-spacing: 0px;\">\n",
    "    <tr>\n",
    "        <td style=\"padding-left: 4px; padding-top: 2px; padding-bottom: 3px; font-size: 1.3rem; color: #777;  text-align: left; border-bottom: 1px solid;\">0</td>\n",
    "        <td style=\"padding-left: 4px; padding-top: 2px; padding-bottom: 3px; font-size: 1.3rem; color: #777;  text-align: left; border-bottom: 1px solid; border-left: 1px solid #555555;;\">1</td>\n",
    "        <td style=\"padding-left: 4px; padding-top: 2px; padding-bottom: 3px; font-size: 1.3rem; color: #777;  text-align: left; border-left: 1px solid #555555; border-bottom: 1px solid;\">2</td>\n",
    "        <td style=\"padding-left: 4px; padding-top: 2px; padding-bottom: 3px; font-size: 1.3rem; color: #777;  text-align: left; border-left: 1px solid #555555; border-bottom: 1px solid;\">3</td>\n",
    "        <td style=\"padding-left: 4px; padding-top: 2px; padding-bottom: 3px; font-size: 1.3rem; color: #777;  text-align: left; border-left: 1px solid #555555; border-bottom: 1px solid; background: #d1d1d1;\">4</td>\n",
    "    </tr>\n",
    "    <tbody>\n",
    "        <tr>\n",
    "            <td style=\"padding-top: 8px; padding-bottom: 8px; padding-left: 10px; padding-right: 10px; vertical-align: bottom; border: 2px solid; border-left: 2px solid #555555;\">\"Ido\"</td>\n",
    "            <td style=\"padding-top: 8px; padding-bottom: 8px; padding-left: 10px; padding-right: 10px; vertical-align: bottom; border: 2px solid;\">\"Dafi\"</td>\n",
    "            <td style=\"padding-top: 8px; padding-bottom: 8px; padding-left: 10px; padding-right: 10px; vertical-align: bottom; border: 2px solid;\">\"Efrat\"</td>\n",
    "            <td style=\"padding-top: 8px; padding-bottom: 8px; padding-left: 10px; padding-right: 10px; vertical-align: bottom; border: 2px solid;\">\"Itamar\"</td>\n",
    "            <td style=\"padding-top: 8px; padding-bottom: 8px; padding-left: 10px; padding-right: 10px; vertical-align: bottom; border: 2px solid; background: #d1d1d1\">\"Yam\"</td>\n",
    "        </tr>\n",
    "        <tr style=\"background: #f5f5f5; color: black;\">\n",
    "            <td style=\"padding-left: 4px; padding-top: 2px; padding-bottom: 3px; font-size: 1.3rem; text-align: center; border-left: 0px solid #555555;\"><strong>3</strong></td>\n",
    "            <td style=\"padding-left: 4px; padding-top: 2px; padding-bottom: 3px; font-size: 1.3rem; text-align: center; border-left: 1px solid #555555;\"><strong>4</strong></td>\n",
    "            <td style=\"padding-left: 4px; padding-top: 2px; padding-bottom: 3px; font-size: 1.3rem; text-align: center; border-left: 1px solid #555555;\"><strong>5</strong></td>\n",
    "            <td style=\"padding-left: 4px; padding-top: 2px; padding-bottom: 3px; font-size: 1.3rem; text-align: center; border-left: 1px solid #555555;\"><strong>6</strong></td>\n",
    "            <td style=\"padding-left: 4px; padding-top: 2px; padding-bottom: 3px; font-size: 1.3rem; text-align: center; border-left: 1px solid #555555; background: #d1d1d1\"><strong>3</strong></td>\n",
    "        </tr>\n",
    "    </tbody>\n",
    "</table>\n",
    "\n",
    "<table style=\"font-size: 2rem; border: 0px solid black; border-spacing: 0px;\">\n",
    "    <tr>\n",
    "        <td style=\"padding-left: 4px; padding-top: 2px; padding-bottom: 3px; font-size: 1.3rem; color: #777;  text-align: left; border-bottom: 1px solid;\">0</td>\n",
    "        <td style=\"padding-left: 4px; padding-top: 2px; padding-bottom: 3px; font-size: 1.3rem; color: #777;  text-align: left; border-bottom: 1px solid; border-left: 1px solid #555555; background: #d1d1d1;\">1</td>\n",
    "        <td style=\"padding-left: 4px; padding-top: 2px; padding-bottom: 3px; font-size: 1.3rem; color: #777;  text-align: left; border-left: 1px solid #555555; border-bottom: 1px solid;\">2</td>\n",
    "        <td style=\"padding-left: 4px; padding-top: 2px; padding-bottom: 3px; font-size: 1.3rem; color: #777;  text-align: left; border-left: 1px solid #555555; border-bottom: 1px solid;\">3</td>\n",
    "        <td style=\"padding-left: 4px; padding-top: 2px; padding-bottom: 3px; font-size: 1.3rem; color: #777;  text-align: left; border-left: 1px solid #555555; border-bottom: 1px solid;\">4</td>\n",
    "    </tr>\n",
    "    <tbody>\n",
    "        <tr>\n",
    "            <td style=\"padding-top: 8px; padding-bottom: 8px; padding-left: 10px; padding-right: 10px; vertical-align: bottom; border: 2px solid; border-left: 2px solid #555555;\">\"Ido\"</td>\n",
    "            <td style=\"padding-top: 8px; padding-bottom: 8px; padding-left: 10px; padding-right: 10px; vertical-align: bottom; border: 2px solid; background: #d1d1d1;\">\"Yam\"</td>\n",
    "            <td style=\"padding-top: 8px; padding-bottom: 8px; padding-left: 10px; padding-right: 10px; vertical-align: bottom; border: 2px solid;\">\"Dafi\"</td>\n",
    "            <td style=\"padding-top: 8px; padding-bottom: 8px; padding-left: 10px; padding-right: 10px; vertical-align: bottom; border: 2px solid;\">\"Efrat\"</td>\n",
    "            <td style=\"padding-top: 8px; padding-bottom: 8px; padding-left: 10px; padding-right: 10px; vertical-align: bottom; border: 2px solid;\">\"Itamar\"</td>\n",
    "        </tr>\n",
    "        <tr style=\"background: #f5f5f5; color: black;\">\n",
    "            <td style=\"padding-left: 4px; padding-top: 2px; padding-bottom: 3px; font-size: 1.3rem; text-align: center; border-left: 0px solid #555555;\"><strong>3</strong></td>\n",
    "            <td style=\"padding-left: 4px; padding-top: 2px; padding-bottom: 3px; font-size: 1.3rem; text-align: center; border-left: 1px solid #555555; background: #d1d1d1\"><strong>3</strong></td>\n",
    "            <td style=\"padding-left: 4px; padding-top: 2px; padding-bottom: 3px; font-size: 1.3rem; text-align: center; border-left: 1px solid #555555;\"><strong>4</strong></td>\n",
    "            <td style=\"padding-left: 4px; padding-top: 2px; padding-bottom: 3px; font-size: 1.3rem; text-align: center; border-left: 1px solid #555555;\"><strong>5</strong></td>\n",
    "            <td style=\"padding-left: 4px; padding-top: 2px; padding-bottom: 3px; font-size: 1.3rem; text-align: center; border-left: 1px solid #555555;\"><strong>6</strong></td>\n",
    "        </tr>\n",
    "    </tbody>\n",
    "</table>"
   ]
  },
  {
   "cell_type": "markdown",
   "metadata": {},
   "source": [
    "<p style=\"text-align: right; direction: rtl; float: right; clear: both;\">\n",
    "    עכשיו הרשימה המשנית מסודרת, ואפשר להפסיק את פעולת הסידור.<br>\n",
    "    הקסם הוא שאפשר להכניס ל־<code>key</code> כל פונקציה, ולקבל iterable מסודר לפי ערכי ההחזרה של אותה פונקציה עבור הערכים ב־iterable.\n",
    "</p>"
   ]
  },
  {
   "cell_type": "markdown",
   "metadata": {},
   "source": [
    "<div class=\"align-center\" style=\"display: flex; text-align: right; direction: rtl; clear: both;\">\n",
    "    <div style=\"display: flex; width: 10%; float: right; clear: both;\">\n",
    "        <img src=\"images/exercise.svg\" style=\"height: 50px !important;\" alt=\"תרגול\"> \n",
    "    </div>\n",
    "    <div style=\"width: 70%\">\n",
    "        <p style=\"text-align: right; direction: rtl; float: right; clear: both;\">\n",
    "        כתבו פונקציה שמקבלת כפרמטר את רשימת השמות של המשתתפות בכיתה.<br>\n",
    "        הפונקציה תחזיר רשימה המורכבת מאותם שמות, מסודרים לפי סדר האלף־בית.<br>\n",
    "        סדרו נכונה גם מקרים שבהם חלק מהשמות מתחילים באות גדולה, וחלק – באות קטנה.\n",
    "        </p>\n",
    "    </div>\n",
    "    <div style=\"display: flex; width: 20%; border-right: 0.1rem solid #A5A5A5; padding: 1rem 2rem;\">\n",
    "        <p style=\"text-align: center; direction: rtl; justify-content: center; align-items: center; clear: both;\">\n",
    "            <strong>חשוב!</strong><br>\n",
    "            פתרו לפני שתמשיכו!\n",
    "        </p>\n",
    "    </div>\n",
    "</div>"
   ]
  },
  {
   "cell_type": "code",
   "execution_count": 79,
   "metadata": {},
   "outputs": [
    {
     "name": "stdout",
     "output_type": "stream",
     "text": [
      "['Dafi', 'Efrat', 'Ido', 'Itamar', 'Yam']\n"
     ]
    }
   ],
   "source": [
    "#staff = [\"Dafi\", \"Efrat\", \"Ido\", \"Itamar\", \"Yam\"]\n",
    "def sort_by_key(staff):\n",
    "    staff.sort()\n",
    "    print(staff)\n",
    "    \n",
    "\n",
    "sort_by_key([\"Yam\",\"Dafi\", \"Efrat\", \"Ido\", \"Itamar\" ])"
   ]
  },
  {
   "cell_type": "markdown",
   "metadata": {},
   "source": [
    "### <span style=\"text-align: right; direction: rtl; float: right; clear: both;\">צימוד ערכים</span>"
   ]
  },
  {
   "cell_type": "markdown",
   "metadata": {},
   "source": [
    "<p style=\"text-align: right; direction: rtl; float: right; clear: both;\">\n",
    "    הרבה פעמים נגיע למצב שבו יש לנו 2 iterables ואנחנו מעוניינים לעבור על הערכים שלהם, זה לצד זה.<br>\n",
    "    נניח שיש לנו רשימה של ציורים, ורשימה של הציירים שציירו אותם:\n",
    "</p>"
   ]
  },
  {
   "cell_type": "code",
   "execution_count": 80,
   "metadata": {},
   "outputs": [],
   "source": [
    "paintings = ['Mona Lisa', 'The Creation of Adam', 'The Scream', 'The Starry Night']\n",
    "artists = ['Leonardo da Vinci', 'Michelangelo', 'Edvard Munch', 'Vincent van Gogh']"
   ]
  },
  {
   "cell_type": "markdown",
   "metadata": {},
   "source": [
    "<p style=\"text-align: right; direction: rtl; float: right; clear: both;\">\n",
    "    צורה אחת לעבור על שתי הרשימות תהיה כזו:\n",
    "</p>"
   ]
  },
  {
   "cell_type": "code",
   "execution_count": 81,
   "metadata": {},
   "outputs": [
    {
     "name": "stdout",
     "output_type": "stream",
     "text": [
      "Leonardo da Vinci painted 'Mona Lisa'.\n",
      "Michelangelo painted 'The Creation of Adam'.\n",
      "Edvard Munch painted 'The Scream'.\n",
      "Vincent van Gogh painted 'The Starry Night'.\n"
     ]
    }
   ],
   "source": [
    "i = 0\n",
    "max_iterations = len(paintings)\n",
    "\n",
    "while i < max_iterations:\n",
    "    artist = artists[i]\n",
    "    painting = paintings[i]\n",
    "    print(f\"{artist} painted '{painting}'.\")\n",
    "    i = i + 1"
   ]
  },
  {
   "cell_type": "markdown",
   "metadata": {},
   "source": [
    "<p style=\"text-align: right; direction: rtl; float: right; clear: both;\">\n",
    "אבל אפשר להסכים על כך שהדרך הזו לא נוחה במיוחד.<br>\n",
    "אפשרות אחרת היא להשתמש ב־<code>zip</code>, שיצמיד בין שני הערכים ויצור לנו את המבנה הבא:\n",
    "</p>"
   ]
  },
  {
   "cell_type": "code",
   "execution_count": 83,
   "metadata": {},
   "outputs": [
    {
     "name": "stdout",
     "output_type": "stream",
     "text": [
      "[('Mona Lisa', 'Leonardo da Vinci'), ('The Creation of Adam', 'Michelangelo'), ('The Scream', 'Edvard Munch'), ('The Starry Night', 'Vincent van Gogh')]\n"
     ]
    }
   ],
   "source": [
    "zipped_values = zip(paintings, artists)\n",
    "print(list(zipped_values))"
   ]
  },
  {
   "cell_type": "markdown",
   "metadata": {},
   "source": [
    "<div class=\"align-center\" style=\"display: flex; text-align: right; direction: rtl;\">\n",
    "    <div style=\"display: flex; width: 10%; float: right; \">\n",
    "        <img src=\"images/warning.png\" style=\"height: 50px !important;\" alt=\"אזהרה!\"> \n",
    "    </div>\n",
    "    <div style=\"width: 90%\">\n",
    "        <p style=\"text-align: right; direction: rtl;\">\n",
    "            אם שתי הרשימות אינן זהות באורכן, <code>zip</code> לא יתייחס לאיברים העודפים של הרשימה הארוכה יותר.\n",
    "        </p>\n",
    "    </div>\n",
    "</div>"
   ]
  },
  {
   "cell_type": "markdown",
   "metadata": {},
   "source": [
    "<p style=\"text-align: right; direction: rtl; float: right; clear: both;\">\n",
    "אחד השימושים האפשריים ל־<code>zip</code> הוא unpacking בתוך לולאת <code>for</code>:\n",
    "</p>"
   ]
  },
  {
   "cell_type": "code",
   "execution_count": 84,
   "metadata": {},
   "outputs": [
    {
     "name": "stdout",
     "output_type": "stream",
     "text": [
      "Leonardo da Vinci painted 'Mona Lisa'.\n",
      "Michelangelo painted 'The Creation of Adam'.\n",
      "Edvard Munch painted 'The Scream'.\n",
      "Vincent van Gogh painted 'The Starry Night'.\n"
     ]
    }
   ],
   "source": [
    "for artist, painting in zip(artists, paintings):\n",
    "    print(f\"{artist} painted '{painting}'.\")"
   ]
  },
  {
   "cell_type": "markdown",
   "metadata": {},
   "source": [
    "<p style=\"text-align: right; direction: rtl; float: right; clear: both;\">\n",
    "והיא אפילו לא מוגבלת ל־2 ארגומנטים בלבד:\n",
    "</p>"
   ]
  },
  {
   "cell_type": "code",
   "execution_count": 85,
   "metadata": {},
   "outputs": [
    {
     "name": "stdout",
     "output_type": "stream",
     "text": [
      "Leonardo da Vinci painted 'Mona Lisa' in 1503.\n",
      "Michelangelo painted 'The Creation of Adam' in 1512.\n",
      "Edvard Munch painted 'The Scream' in 1893.\n",
      "Vincent van Gogh painted 'The Starry Night' in 1889.\n"
     ]
    }
   ],
   "source": [
    "paintings = ['Mona Lisa', 'The Creation of Adam', 'The Scream', 'The Starry Night']\n",
    "artists = ['Leonardo da Vinci', 'Michelangelo', 'Edvard Munch', 'Vincent van Gogh']\n",
    "years = [1503, 1512, 1893, 1889]\n",
    "\n",
    "for artist, painting, year in zip(artists, paintings, years):\n",
    "    print(f\"{artist} painted '{painting}' in {year}.\")"
   ]
  },
  {
   "cell_type": "markdown",
   "metadata": {},
   "source": [
    "<div class=\"align-center\" style=\"display: flex; text-align: right; direction: rtl; clear: both;\">\n",
    "    <div style=\"display: flex; width: 10%; float: right; clear: both;\">\n",
    "        <img src=\"images/exercise.svg\" style=\"height: 50px !important;\" alt=\"תרגול\"> \n",
    "    </div>\n",
    "    <div style=\"width: 70%\">\n",
    "        <p style=\"text-align: right; direction: rtl; float: right; clear: both;\">\n",
    "            יש טיפוס נתונים שהיה מתאים יותר למקרה הזה מאשר 2 רשימות. מהו לדעתכם?\n",
    "        </p>\n",
    "    </div>\n",
    "    <div style=\"display: flex; width: 20%; border-right: 0.1rem solid #A5A5A5; padding: 1rem 2rem;\">\n",
    "        <p style=\"text-align: center; direction: rtl; justify-content: center; align-items: center; clear: both;\">\n",
    "            <strong>חשוב!</strong><br>\n",
    "            פתרו לפני שתמשיכו!\n",
    "        </p>\n",
    "    </div>\n",
    "</div>"
   ]
  },
  {
   "cell_type": "markdown",
   "metadata": {},
   "source": [
    "<p style=\"text-align: right; direction: rtl; float: right; clear: both;\">\n",
    "שימוש נפוץ ל־<code>zip</code> הוא במקרה שיש לנו שתי רשימות שמתאימות זו לזו, ויחד יכולות ליצור מילון.<br>\n",
    "אם רשימה אחת מתאימה להיות המפתחות במילון, והאחרת להיות הערכים באותו מילון, נוכל להשתמש ב־<code>zip</code> כדי לבצע את ההמרה:\n",
    "</p>"
   ]
  },
  {
   "cell_type": "code",
   "execution_count": 86,
   "metadata": {},
   "outputs": [],
   "source": [
    "paintings = ['Mona Lisa', 'The Creation of Adam', 'The Scream', 'The Starry Night']\n",
    "artists = ['Leonardo da Vinci', 'Michelangelo', 'Edvard Munch', 'Vincent van Gogh']\n",
    "\n",
    "artists_from_paintings = dict(zip(paintings, artists))"
   ]
  },
  {
   "cell_type": "markdown",
   "metadata": {},
   "source": [
    "<p style=\"text-align: right; direction: rtl; float: right; clear: both;\">\n",
    "    עכשיו נוכל לשאול מי צייר את המונה ליזה:\n",
    "</p>"
   ]
  },
  {
   "cell_type": "code",
   "execution_count": 87,
   "metadata": {},
   "outputs": [
    {
     "name": "stdout",
     "output_type": "stream",
     "text": [
      "Leonardo da Vinci\n"
     ]
    }
   ],
   "source": [
    "print(artists_from_paintings.get('Mona Lisa'))"
   ]
  },
  {
   "cell_type": "markdown",
   "metadata": {},
   "source": [
    "<p style=\"text-align: right; direction: rtl; float: right; clear: both;\">\n",
    "    או לעבור על המילון ולהדפיס את הערכים, כמו שעשינו לפני כן:\n",
    "</p>"
   ]
  },
  {
   "cell_type": "code",
   "execution_count": 88,
   "metadata": {},
   "outputs": [
    {
     "name": "stdout",
     "output_type": "stream",
     "text": [
      "Leonardo da Vinci painted 'Mona Lisa'.\n",
      "Michelangelo painted 'The Creation of Adam'.\n",
      "Edvard Munch painted 'The Scream'.\n",
      "Vincent van Gogh painted 'The Starry Night'.\n"
     ]
    }
   ],
   "source": [
    "for painting, artist in artists_from_paintings.items():\n",
    "    print(f\"{artist} painted '{painting}'.\")"
   ]
  },
  {
   "cell_type": "markdown",
   "metadata": {},
   "source": [
    "### <span style=\"text-align: right; direction: rtl; float: right; clear: both;\">המרת תווים למספרים ולהפך</span>"
   ]
  },
  {
   "cell_type": "markdown",
   "metadata": {},
   "source": [
    "<p style=\"text-align: right; direction: rtl; float: right; clear: both;\">\n",
    "    כפי שהסברנו במחברת קבצים בשבוע שעבר, לכל תו מוצמד מספר שמזהה אותו.<br>\n",
    "    בעזרת הפונקציה <code>ord</code> נוכל לאחזר את הערך הזה:\n",
    "</p>"
   ]
  },
  {
   "cell_type": "code",
   "execution_count": 89,
   "metadata": {},
   "outputs": [
    {
     "name": "stdout",
     "output_type": "stream",
     "text": [
      "65\n"
     ]
    }
   ],
   "source": [
    "print(ord('A'))"
   ]
  },
  {
   "cell_type": "code",
   "execution_count": 92,
   "metadata": {},
   "outputs": [
    {
     "name": "stdout",
     "output_type": "stream",
     "text": [
      "ord('a') = 97\n",
      "ord(' ') = 32\n",
      "ord('!') = 33\n",
      "ord('א') = 1488\n"
     ]
    }
   ],
   "source": [
    "chars = 'a !א'\n",
    "for char in chars:\n",
    "    print(f\"ord({char!r}) = {ord(char)}\")"
   ]
  },
  {
   "cell_type": "markdown",
   "metadata": {},
   "source": [
    "<p style=\"text-align: right; direction: rtl; float: right; clear: both;\">\n",
    "    ויש גם דרך לעשות את הפעולה ההפוכה!<br>\n",
    "    בעזרת הפונקציה <code>chr</code> נוכל לקבל את התו לפי המספר שמייצג אותו:\n",
    "</p>"
   ]
  },
  {
   "cell_type": "code",
   "execution_count": 93,
   "metadata": {},
   "outputs": [
    {
     "name": "stdout",
     "output_type": "stream",
     "text": [
      "chr(  97) = -a-\n",
      "chr(  32) = - -\n",
      "chr(  33) = -!-\n",
      "chr(1488) = -א-\n"
     ]
    }
   ],
   "source": [
    "ascii_numbers = [97, 32, 33, 1488]\n",
    "for ascii_number in ascii_numbers:\n",
    "    # המקפים שם כדי שתראו את הרווח :)\n",
    "    print(f\"chr({ascii_number:>4}) = -{chr(ascii_number)}-\")"
   ]
  },
  {
   "cell_type": "markdown",
   "metadata": {},
   "source": [
    "<div class=\"align-center\" style=\"display: flex; text-align: right; direction: rtl; clear: both;\">\n",
    "    <div style=\"display: flex; width: 10%; float: right; clear: both;\">\n",
    "        <img src=\"images/exercise.svg\" style=\"height: 50px !important;\" alt=\"תרגול\"> \n",
    "    </div>\n",
    "    <div style=\"width: 70%\">\n",
    "        <p style=\"text-align: right; direction: rtl; float: right; clear: both;\">\n",
    "            כתבו תוכנית שמדפיסה זוג ערכים עבור כל מספר מ־9,760 ועד 10,100.<br>\n",
    "            הערך הראשון יהיה המספר, והערך השני יהיה התו שאותו המספר מייצג.\n",
    "        </p>\n",
    "    </div>\n",
    "    <div style=\"display: flex; width: 20%; border-right: 0.1rem solid #A5A5A5; padding: 1rem 2rem;\">\n",
    "        <p style=\"text-align: center; direction: rtl; justify-content: center; align-items: center; clear: both;\">\n",
    "            <strong>חשוב!</strong><br>\n",
    "            פתרו לפני שתמשיכו!\n",
    "        </p>\n",
    "    </div>\n",
    "</div>"
   ]
  },
  {
   "cell_type": "code",
   "execution_count": 96,
   "metadata": {},
   "outputs": [
    {
     "name": "stdout",
     "output_type": "stream",
     "text": [
      "chr(9760) = -☠-\n",
      "chr(9761) = -☡-\n",
      "chr(9762) = -☢-\n",
      "chr(9763) = -☣-\n",
      "chr(9764) = -☤-\n",
      "chr(9765) = -☥-\n",
      "chr(9766) = -☦-\n",
      "chr(9767) = -☧-\n",
      "chr(9768) = -☨-\n",
      "chr(9769) = -☩-\n",
      "chr(9770) = -☪-\n",
      "chr(9771) = -☫-\n",
      "chr(9772) = -☬-\n",
      "chr(9773) = -☭-\n",
      "chr(9774) = -☮-\n",
      "chr(9775) = -☯-\n",
      "chr(9776) = -☰-\n",
      "chr(9777) = -☱-\n",
      "chr(9778) = -☲-\n",
      "chr(9779) = -☳-\n",
      "chr(9780) = -☴-\n",
      "chr(9781) = -☵-\n",
      "chr(9782) = -☶-\n",
      "chr(9783) = -☷-\n",
      "chr(9784) = -☸-\n",
      "chr(9785) = -☹-\n",
      "chr(9786) = -☺-\n",
      "chr(9787) = -☻-\n",
      "chr(9788) = -☼-\n",
      "chr(9789) = -☽-\n",
      "chr(9790) = -☾-\n",
      "chr(9791) = -☿-\n",
      "chr(9792) = -♀-\n",
      "chr(9793) = -♁-\n",
      "chr(9794) = -♂-\n",
      "chr(9795) = -♃-\n",
      "chr(9796) = -♄-\n",
      "chr(9797) = -♅-\n",
      "chr(9798) = -♆-\n",
      "chr(9799) = -♇-\n",
      "chr(9800) = -♈-\n",
      "chr(9801) = -♉-\n",
      "chr(9802) = -♊-\n",
      "chr(9803) = -♋-\n",
      "chr(9804) = -♌-\n",
      "chr(9805) = -♍-\n",
      "chr(9806) = -♎-\n",
      "chr(9807) = -♏-\n",
      "chr(9808) = -♐-\n",
      "chr(9809) = -♑-\n",
      "chr(9810) = -♒-\n",
      "chr(9811) = -♓-\n",
      "chr(9812) = -♔-\n",
      "chr(9813) = -♕-\n",
      "chr(9814) = -♖-\n",
      "chr(9815) = -♗-\n",
      "chr(9816) = -♘-\n",
      "chr(9817) = -♙-\n",
      "chr(9818) = -♚-\n",
      "chr(9819) = -♛-\n",
      "chr(9820) = -♜-\n",
      "chr(9821) = -♝-\n",
      "chr(9822) = -♞-\n",
      "chr(9823) = -♟-\n",
      "chr(9824) = -♠-\n",
      "chr(9825) = -♡-\n",
      "chr(9826) = -♢-\n",
      "chr(9827) = -♣-\n",
      "chr(9828) = -♤-\n",
      "chr(9829) = -♥-\n",
      "chr(9830) = -♦-\n",
      "chr(9831) = -♧-\n",
      "chr(9832) = -♨-\n",
      "chr(9833) = -♩-\n",
      "chr(9834) = -♪-\n",
      "chr(9835) = -♫-\n",
      "chr(9836) = -♬-\n",
      "chr(9837) = -♭-\n",
      "chr(9838) = -♮-\n",
      "chr(9839) = -♯-\n",
      "chr(9840) = -♰-\n",
      "chr(9841) = -♱-\n",
      "chr(9842) = -♲-\n",
      "chr(9843) = -♳-\n",
      "chr(9844) = -♴-\n",
      "chr(9845) = -♵-\n",
      "chr(9846) = -♶-\n",
      "chr(9847) = -♷-\n",
      "chr(9848) = -♸-\n",
      "chr(9849) = -♹-\n",
      "chr(9850) = -♺-\n",
      "chr(9851) = -♻-\n",
      "chr(9852) = -♼-\n",
      "chr(9853) = -♽-\n",
      "chr(9854) = -♾-\n",
      "chr(9855) = -♿-\n",
      "chr(9856) = -⚀-\n",
      "chr(9857) = -⚁-\n",
      "chr(9858) = -⚂-\n",
      "chr(9859) = -⚃-\n",
      "chr(9860) = -⚄-\n",
      "chr(9861) = -⚅-\n",
      "chr(9862) = -⚆-\n",
      "chr(9863) = -⚇-\n",
      "chr(9864) = -⚈-\n",
      "chr(9865) = -⚉-\n",
      "chr(9866) = -⚊-\n",
      "chr(9867) = -⚋-\n",
      "chr(9868) = -⚌-\n",
      "chr(9869) = -⚍-\n",
      "chr(9870) = -⚎-\n",
      "chr(9871) = -⚏-\n",
      "chr(9872) = -⚐-\n",
      "chr(9873) = -⚑-\n",
      "chr(9874) = -⚒-\n",
      "chr(9875) = -⚓-\n",
      "chr(9876) = -⚔-\n",
      "chr(9877) = -⚕-\n",
      "chr(9878) = -⚖-\n",
      "chr(9879) = -⚗-\n",
      "chr(9880) = -⚘-\n",
      "chr(9881) = -⚙-\n",
      "chr(9882) = -⚚-\n",
      "chr(9883) = -⚛-\n",
      "chr(9884) = -⚜-\n",
      "chr(9885) = -⚝-\n",
      "chr(9886) = -⚞-\n",
      "chr(9887) = -⚟-\n",
      "chr(9888) = -⚠-\n",
      "chr(9889) = -⚡-\n",
      "chr(9890) = -⚢-\n",
      "chr(9891) = -⚣-\n",
      "chr(9892) = -⚤-\n",
      "chr(9893) = -⚥-\n",
      "chr(9894) = -⚦-\n",
      "chr(9895) = -⚧-\n",
      "chr(9896) = -⚨-\n",
      "chr(9897) = -⚩-\n",
      "chr(9898) = -⚪-\n",
      "chr(9899) = -⚫-\n",
      "chr(9900) = -⚬-\n",
      "chr(9901) = -⚭-\n",
      "chr(9902) = -⚮-\n",
      "chr(9903) = -⚯-\n",
      "chr(9904) = -⚰-\n",
      "chr(9905) = -⚱-\n",
      "chr(9906) = -⚲-\n",
      "chr(9907) = -⚳-\n",
      "chr(9908) = -⚴-\n",
      "chr(9909) = -⚵-\n",
      "chr(9910) = -⚶-\n",
      "chr(9911) = -⚷-\n",
      "chr(9912) = -⚸-\n",
      "chr(9913) = -⚹-\n",
      "chr(9914) = -⚺-\n",
      "chr(9915) = -⚻-\n",
      "chr(9916) = -⚼-\n",
      "chr(9917) = -⚽-\n",
      "chr(9918) = -⚾-\n",
      "chr(9919) = -⚿-\n",
      "chr(9920) = -⛀-\n",
      "chr(9921) = -⛁-\n",
      "chr(9922) = -⛂-\n",
      "chr(9923) = -⛃-\n",
      "chr(9924) = -⛄-\n",
      "chr(9925) = -⛅-\n",
      "chr(9926) = -⛆-\n",
      "chr(9927) = -⛇-\n",
      "chr(9928) = -⛈-\n",
      "chr(9929) = -⛉-\n",
      "chr(9930) = -⛊-\n",
      "chr(9931) = -⛋-\n",
      "chr(9932) = -⛌-\n",
      "chr(9933) = -⛍-\n",
      "chr(9934) = -⛎-\n",
      "chr(9935) = -⛏-\n",
      "chr(9936) = -⛐-\n",
      "chr(9937) = -⛑-\n",
      "chr(9938) = -⛒-\n",
      "chr(9939) = -⛓-\n",
      "chr(9940) = -⛔-\n",
      "chr(9941) = -⛕-\n",
      "chr(9942) = -⛖-\n",
      "chr(9943) = -⛗-\n",
      "chr(9944) = -⛘-\n",
      "chr(9945) = -⛙-\n",
      "chr(9946) = -⛚-\n",
      "chr(9947) = -⛛-\n",
      "chr(9948) = -⛜-\n",
      "chr(9949) = -⛝-\n",
      "chr(9950) = -⛞-\n",
      "chr(9951) = -⛟-\n",
      "chr(9952) = -⛠-\n",
      "chr(9953) = -⛡-\n",
      "chr(9954) = -⛢-\n",
      "chr(9955) = -⛣-\n",
      "chr(9956) = -⛤-\n",
      "chr(9957) = -⛥-\n",
      "chr(9958) = -⛦-\n",
      "chr(9959) = -⛧-\n",
      "chr(9960) = -⛨-\n",
      "chr(9961) = -⛩-\n",
      "chr(9962) = -⛪-\n",
      "chr(9963) = -⛫-\n",
      "chr(9964) = -⛬-\n",
      "chr(9965) = -⛭-\n",
      "chr(9966) = -⛮-\n",
      "chr(9967) = -⛯-\n",
      "chr(9968) = -⛰-\n",
      "chr(9969) = -⛱-\n",
      "chr(9970) = -⛲-\n",
      "chr(9971) = -⛳-\n",
      "chr(9972) = -⛴-\n",
      "chr(9973) = -⛵-\n",
      "chr(9974) = -⛶-\n",
      "chr(9975) = -⛷-\n",
      "chr(9976) = -⛸-\n",
      "chr(9977) = -⛹-\n",
      "chr(9978) = -⛺-\n",
      "chr(9979) = -⛻-\n",
      "chr(9980) = -⛼-\n",
      "chr(9981) = -⛽-\n",
      "chr(9982) = -⛾-\n",
      "chr(9983) = -⛿-\n",
      "chr(9984) = -✀-\n",
      "chr(9985) = -✁-\n",
      "chr(9986) = -✂-\n",
      "chr(9987) = -✃-\n",
      "chr(9988) = -✄-\n",
      "chr(9989) = -✅-\n",
      "chr(9990) = -✆-\n",
      "chr(9991) = -✇-\n",
      "chr(9992) = -✈-\n",
      "chr(9993) = -✉-\n",
      "chr(9994) = -✊-\n",
      "chr(9995) = -✋-\n",
      "chr(9996) = -✌-\n",
      "chr(9997) = -✍-\n",
      "chr(9998) = -✎-\n",
      "chr(9999) = -✏-\n",
      "chr(10000) = -✐-\n",
      "chr(10001) = -✑-\n",
      "chr(10002) = -✒-\n",
      "chr(10003) = -✓-\n",
      "chr(10004) = -✔-\n",
      "chr(10005) = -✕-\n",
      "chr(10006) = -✖-\n",
      "chr(10007) = -✗-\n",
      "chr(10008) = -✘-\n",
      "chr(10009) = -✙-\n",
      "chr(10010) = -✚-\n",
      "chr(10011) = -✛-\n",
      "chr(10012) = -✜-\n",
      "chr(10013) = -✝-\n",
      "chr(10014) = -✞-\n",
      "chr(10015) = -✟-\n",
      "chr(10016) = -✠-\n",
      "chr(10017) = -✡-\n",
      "chr(10018) = -✢-\n",
      "chr(10019) = -✣-\n",
      "chr(10020) = -✤-\n",
      "chr(10021) = -✥-\n",
      "chr(10022) = -✦-\n",
      "chr(10023) = -✧-\n",
      "chr(10024) = -✨-\n",
      "chr(10025) = -✩-\n",
      "chr(10026) = -✪-\n",
      "chr(10027) = -✫-\n",
      "chr(10028) = -✬-\n",
      "chr(10029) = -✭-\n",
      "chr(10030) = -✮-\n",
      "chr(10031) = -✯-\n",
      "chr(10032) = -✰-\n",
      "chr(10033) = -✱-\n",
      "chr(10034) = -✲-\n",
      "chr(10035) = -✳-\n",
      "chr(10036) = -✴-\n",
      "chr(10037) = -✵-\n",
      "chr(10038) = -✶-\n",
      "chr(10039) = -✷-\n",
      "chr(10040) = -✸-\n",
      "chr(10041) = -✹-\n",
      "chr(10042) = -✺-\n",
      "chr(10043) = -✻-\n",
      "chr(10044) = -✼-\n",
      "chr(10045) = -✽-\n",
      "chr(10046) = -✾-\n",
      "chr(10047) = -✿-\n",
      "chr(10048) = -❀-\n",
      "chr(10049) = -❁-\n",
      "chr(10050) = -❂-\n",
      "chr(10051) = -❃-\n",
      "chr(10052) = -❄-\n",
      "chr(10053) = -❅-\n",
      "chr(10054) = -❆-\n",
      "chr(10055) = -❇-\n",
      "chr(10056) = -❈-\n",
      "chr(10057) = -❉-\n",
      "chr(10058) = -❊-\n",
      "chr(10059) = -❋-\n",
      "chr(10060) = -❌-\n",
      "chr(10061) = -❍-\n",
      "chr(10062) = -❎-\n",
      "chr(10063) = -❏-\n",
      "chr(10064) = -❐-\n",
      "chr(10065) = -❑-\n",
      "chr(10066) = -❒-\n",
      "chr(10067) = -❓-\n",
      "chr(10068) = -❔-\n",
      "chr(10069) = -❕-\n",
      "chr(10070) = -❖-\n",
      "chr(10071) = -❗-\n",
      "chr(10072) = -❘-\n",
      "chr(10073) = -❙-\n",
      "chr(10074) = -❚-\n",
      "chr(10075) = -❛-\n",
      "chr(10076) = -❜-\n",
      "chr(10077) = -❝-\n",
      "chr(10078) = -❞-\n",
      "chr(10079) = -❟-\n",
      "chr(10080) = -❠-\n",
      "chr(10081) = -❡-\n",
      "chr(10082) = -❢-\n",
      "chr(10083) = -❣-\n",
      "chr(10084) = -❤-\n",
      "chr(10085) = -❥-\n",
      "chr(10086) = -❦-\n",
      "chr(10087) = -❧-\n",
      "chr(10088) = -❨-\n",
      "chr(10089) = -❩-\n",
      "chr(10090) = -❪-\n",
      "chr(10091) = -❫-\n",
      "chr(10092) = -❬-\n",
      "chr(10093) = -❭-\n",
      "chr(10094) = -❮-\n",
      "chr(10095) = -❯-\n",
      "chr(10096) = -❰-\n",
      "chr(10097) = -❱-\n",
      "chr(10098) = -❲-\n",
      "chr(10099) = -❳-\n",
      "chr(10100) = -❴-\n"
     ]
    }
   ],
   "source": [
    "i = 9760\n",
    "max_number = 10100\n",
    "while i <= max_number:\n",
    "    print(f\"chr({i:>4}) = -{chr(i)}-\")\n",
    "    i += 1"
   ]
  },
  {
   "cell_type": "markdown",
   "metadata": {},
   "source": [
    "### <span style=\"text-align: right; direction: rtl; float: right; clear: both;\">מניית איברים</span>"
   ]
  },
  {
   "cell_type": "markdown",
   "metadata": {},
   "source": [
    "<p style=\"text-align: right; direction: rtl; float: right; clear: both;\">\n",
    "    נניח שאנחנו רוצים לעבור על כל השורות בקובץ מסוים, ולהדפיס ליד כל שורה את המספר הסידורי שלה:\n",
    "</p>"
   ]
  },
  {
   "cell_type": "code",
   "execution_count": 97,
   "metadata": {},
   "outputs": [],
   "source": [
    "with open('resources/haiku.txt') as haiku:\n",
    "    haiku_text = haiku.readlines()"
   ]
  },
  {
   "cell_type": "code",
   "execution_count": 101,
   "metadata": {},
   "outputs": [
    {
     "name": "stdout",
     "output_type": "stream",
     "text": [
      "0:\tLighting one candle\n",
      "1:\twith another candle-\n",
      "2:\t   spring evening.\n"
     ]
    }
   ],
   "source": [
    "line_number = 0\n",
    "for line in haiku_text:\n",
    "    print(f\"{line_number}:\\t{line.rstrip()}\")\n",
    "    line_number = line_number + 1"
   ]
  },
  {
   "cell_type": "markdown",
   "metadata": {},
   "source": [
    "<p style=\"text-align: right; direction: rtl; float: right; clear: both;\">\n",
    "    חייבת להיות דרך טובה יותר!<br>\n",
    "    הפונקציה המובנית <code>enumerate</code> מאפשרת למתכנת להצמיד מספר רץ ל־iterable:\n",
    "</p>"
   ]
  },
  {
   "cell_type": "code",
   "execution_count": 99,
   "metadata": {},
   "outputs": [
    {
     "name": "stdout",
     "output_type": "stream",
     "text": [
      "[(0, 'Lighting one candle\\n'), (1, 'with another candle-\\n'), (2, '   spring evening.')]\n"
     ]
    }
   ],
   "source": [
    "haiku_text_enumerated = enumerate(haiku_text)\n",
    "print(list(haiku_text_enumerated))"
   ]
  },
  {
   "cell_type": "markdown",
   "metadata": {},
   "source": [
    "<p style=\"text-align: right; direction: rtl; float: right; clear: both;\">\n",
    "    השימוש הנפוץ ביותר ל־<code>enumerate</code> הוא בלולאות <code>for</code>:\n",
    "</p>"
   ]
  },
  {
   "cell_type": "code",
   "execution_count": 102,
   "metadata": {},
   "outputs": [
    {
     "name": "stdout",
     "output_type": "stream",
     "text": [
      "0:\tLighting one candle\n",
      "1:\twith another candle-\n",
      "2:\t   spring evening.\n"
     ]
    }
   ],
   "source": [
    "for line_number, line in enumerate(haiku_text):\n",
    "    print(f\"{line_number}:\\t{line.rstrip()}\")\n",
    "    line_number = line_number + 1"
   ]
  },
  {
   "cell_type": "markdown",
   "metadata": {},
   "source": [
    "<p style=\"text-align: right; direction: rtl; float: right; clear: both;\">\n",
    "    טריק מדליק: אם בא לנו להתחיל למספר ממספר שהוא לא 0, אפשר להעביר ל־<code>enumerate</code> את המספר הזה כפרמטר:\n",
    "</p>"
   ]
  },
  {
   "cell_type": "code",
   "execution_count": 105,
   "metadata": {},
   "outputs": [
    {
     "name": "stdout",
     "output_type": "stream",
     "text": [
      "1:\tLighting one candle\n",
      "2:\twith another candle-\n",
      "3:\t   spring evening.\n"
     ]
    }
   ],
   "source": [
    "for line_number, line in enumerate(haiku_text, 1):\n",
    "    print(f\"{line_number}:\\t{line.rstrip()}\")\n",
    "    line_number = line_number + 1"
   ]
  },
  {
   "cell_type": "markdown",
   "metadata": {},
   "source": [
    "## <span style=\"text-align: right; direction: rtl; float: right; clear: both;\">דוגמאות לשימושים</span>"
   ]
  },
  {
   "cell_type": "markdown",
   "metadata": {},
   "source": [
    "### <span style=\"text-align: right; direction: rtl; float: right;\">מפת צופן קיסר</span>"
   ]
  },
  {
   "cell_type": "code",
   "execution_count": 117,
   "metadata": {},
   "outputs": [
    {
     "ename": "TypeError",
     "evalue": "ord() expected a character, but string of length 3 found",
     "output_type": "error",
     "traceback": [
      "\u001b[1;31m---------------------------------------------------------------------------\u001b[0m",
      "\u001b[1;31mTypeError\u001b[0m                                 Traceback (most recent call last)",
      "\u001b[1;32m<ipython-input-117-8c5c38b17c21>\u001b[0m in \u001b[0;36m<module>\u001b[1;34m\u001b[0m\n\u001b[0;32m      1\u001b[0m \u001b[0mtemp\u001b[0m \u001b[1;33m=\u001b[0m \u001b[1;34m'z-1'\u001b[0m\u001b[1;33m\u001b[0m\u001b[1;33m\u001b[0m\u001b[0m\n\u001b[1;32m----> 2\u001b[1;33m \u001b[0mord\u001b[0m\u001b[1;33m(\u001b[0m\u001b[0mtemp\u001b[0m\u001b[1;33m)\u001b[0m\u001b[1;33m\u001b[0m\u001b[1;33m\u001b[0m\u001b[0m\n\u001b[0m",
      "\u001b[1;31mTypeError\u001b[0m: ord() expected a character, but string of length 3 found"
     ]
    }
   ],
   "source": [
    "temp = 'z-1'\n",
    "ord(temp)"
   ]
  },
  {
   "cell_type": "markdown",
   "metadata": {},
   "source": [
    "<p style=\"text-align: right; direction: rtl; float: right; clear: both;\">\n",
    "    צופן קיסר היא שיטת הצפנה, שבה כל תו מוחלף בתו שנמצא 3 תווים אחריו באלף־בית של השפה.<br>\n",
    "    בעברית, לדוגמה, האות א' תוחלף באות ד', האות ג' באות ו' והאות ת' באות ג'.<br>\n",
    "    נבנה מפת פענוח לצופן קיסר בעזרת הפונקציות שלמדנו במחברת:\n",
    "</p>"
   ]
  },
  {
   "cell_type": "code",
   "execution_count": 6,
   "metadata": {},
   "outputs": [
    {
     "data": {
      "text/plain": [
       "{'a': 'd',\n",
       " 'b': 'e',\n",
       " 'c': 'f',\n",
       " 'd': 'g',\n",
       " 'e': 'h',\n",
       " 'f': 'i',\n",
       " 'g': 'j',\n",
       " 'h': 'k',\n",
       " 'i': 'l',\n",
       " 'j': 'm',\n",
       " 'k': 'n',\n",
       " 'l': 'o',\n",
       " 'm': 'p',\n",
       " 'n': 'q',\n",
       " 'o': 'r',\n",
       " 'p': 's',\n",
       " 'q': 't',\n",
       " 'r': 'u',\n",
       " 's': 'v',\n",
       " 't': 'w',\n",
       " 'u': 'x',\n",
       " 'v': 'y',\n",
       " 'w': 'z',\n",
       " 'x': 'a',\n",
       " 'y': 'b',\n",
       " 'z': 'c'}"
      ]
     },
     "execution_count": 6,
     "metadata": {},
     "output_type": "execute_result"
    }
   ],
   "source": [
    "def create_chars_from_numbers(numbers):\n",
    "    chars = []\n",
    "    for number in numbers:\n",
    "        chars.append(chr(number))\n",
    "    return chars\n",
    "\n",
    "\n",
    "def get_all_english_letters():\n",
    "    first_letter = ord('a')\n",
    "    last_letter = ord('z')\n",
    "    all_letters_by_number = range(first_letter, last_letter + 1)\n",
    "    all_letters = create_chars_from_numbers(all_letters_by_number)\n",
    "    return all_letters\n",
    "\n",
    "\n",
    "def get_ceaser_map():\n",
    "    letters = get_all_english_letters()\n",
    "    shifted_letters = letters[3:] + letters[:3]\n",
    "    return dict(zip(letters, shifted_letters))\n",
    "\n",
    "get_ceaser_map()"
   ]
  },
  {
   "cell_type": "code",
   "execution_count": 50,
   "metadata": {},
   "outputs": [
    {
     "name": "stdout",
     "output_type": "stream",
     "text": [
      "26->z\n",
      "25->y\n",
      "24->x\n",
      "23->w\n",
      "22->v\n",
      "21->u\n",
      "20->t\n",
      "19->s\n",
      "18->r\n",
      "17->q\n",
      "16->p\n",
      "15->o\n",
      "14->n\n",
      "13->m\n",
      "12->l\n",
      "11->k\n",
      "10->j\n",
      "9->i\n",
      "8->h\n",
      "7->g\n",
      "6->f\n",
      "5->e\n",
      "4->d\n",
      "3->c\n",
      "2->b\n",
      "1->a\n"
     ]
    }
   ],
   "source": [
    "for num, val in enumerate(range(ord('z'), ord('a')-1, -1), 26):\n",
    "    print(f'{52-num}->{chr(val)}')"
   ]
  },
  {
   "cell_type": "markdown",
   "metadata": {},
   "source": [
    "<p style=\"text-align: right; direction: rtl; float: right; clear: both;\">\n",
    "    ורק בשביל הכיף, נבנה קוד שיאפשר לנו להשתמש במפה כדי להצפין מסרים:\n",
    "</p>"
   ]
  },
  {
   "cell_type": "code",
   "execution_count": null,
   "metadata": {},
   "outputs": [],
   "source": [
    "def encrypt(message, encryption_map):\n",
    "    encrypted = ''\n",
    "    for char in message.lower():\n",
    "        # If we can't find the character, assume it is not encrypted.\n",
    "        encrypted = encrypted + encryption_map.get(char, char)\n",
    "    return encrypted\n",
    "\n",
    "encryption_map = get_ceaser_map()\n",
    "encrypted_message = encrypt('This is the encrypted message!', encryption_map)\n",
    "print(encrypted_message)"
   ]
  },
  {
   "cell_type": "code",
   "execution_count": null,
   "metadata": {},
   "outputs": [],
   "source": [
    "def create_decryption_map(encryption_map):\n",
    "    \"\"\"Actually just flip the keys and the values of the dictionary\"\"\"\n",
    "    decryption_map = {}\n",
    "    for key, value in encryption_map.items():\n",
    "        decryption_map[value] = key\n",
    "    return decryption_map\n",
    "\n",
    "def decrypt(message, decryption_map):\n",
    "    decrypted = ''\n",
    "    for char in message.lower():\n",
    "        # If we can't find the character, assume it is not encrypted.\n",
    "        decrypted = decrypted + decryption_map.get(char, char)\n",
    "    return decrypted\n",
    "\n",
    "decryption_map = create_decryption_map(encryption_map)\n",
    "decrypted_message = decrypt(encrypted_message, decryption_map)\n",
    "print(decrypted_message)"
   ]
  },
  {
   "cell_type": "markdown",
   "metadata": {},
   "source": [
    "### <span style=\"text-align: right; direction: rtl; float: right;\">סכימה מדורגת</span>"
   ]
  },
  {
   "cell_type": "markdown",
   "metadata": {},
   "source": [
    "<p style=\"text-align: right; direction: rtl; float: right; clear: both;\">\n",
    "    נבנה תוכנה קצרה שמאפשרת למשתמש להזין מספרים, מסדרת אותם בסדר הפוך, ומדפיסה עבור כל איבר את סכום האיברים עד המיקום של אותו איבר:\n",
    "</p>"
   ]
  },
  {
   "cell_type": "code",
   "execution_count": 107,
   "metadata": {},
   "outputs": [
    {
     "name": "stdout",
     "output_type": "stream",
     "text": [
      "Please enter numbers splitted by ',': 5,6,7,9\n",
      "The sum until 9 is 9\n",
      "The sum until 7 is 16\n",
      "The sum until 6 is 22\n",
      "The sum until 5 is 27\n"
     ]
    }
   ],
   "source": [
    "def convert_to_integers(numbers):\n",
    "    integers = []\n",
    "    for number in numbers:\n",
    "        integers.append(int(number))\n",
    "    \n",
    "    return integers\n",
    "\n",
    "\n",
    "numbers = input(\"Please enter numbers splitted by ',': \").split(',')\n",
    "integers = convert_to_integers(numbers)\n",
    "integers.sort(reverse=True)\n",
    "\n",
    "for i, number in enumerate(integers):\n",
    "    current_sum = sum(integers[:i+1])\n",
    "    print(f\"The sum until {number} is {current_sum}\")"
   ]
  },
  {
   "cell_type": "markdown",
   "metadata": {},
   "source": [
    "### <span style=\"text-align: right; direction: rtl; float: right;\">ממוצע ציונים</span>"
   ]
  },
  {
   "cell_type": "markdown",
   "metadata": {},
   "source": [
    "<p style=\"text-align: right; direction: rtl; float: right; clear: both;\">\n",
    "    קבלו רשימת שמות תלמידים, ועבור כל תלמיד את רשימת הציונים שלו.<br>\n",
    "    הדפיסו את שם התלמיד שממוצע הציונים שלו הוא הגבוה ביותר, לצד הציונים שלו.\n",
    "</p>"
   ]
  },
  {
   "cell_type": "code",
   "execution_count": null,
   "metadata": {},
   "outputs": [
    {
     "name": "stdout",
     "output_type": "stream",
     "text": [
      "Please enter a student: 5\n",
      "Please enter another student: 5\n",
      "Please enter another student: 5\n",
      "Please enter another student: 5\n",
      "Please enter another student: 5\n",
      "Please enter another student: 5\n",
      "Please enter another student: 5\n",
      "Please enter another student: 5\n",
      "Please enter another student: 5\n",
      "Please enter another student: 5\n",
      "Please enter another student: 510\n",
      "Please enter another student: 3\n",
      "Please enter another student: s\n",
      "Please enter another student: ds\n",
      "Please enter another student: dssd\n",
      "Please enter another student: sd\n",
      "Please enter another student: sd\n",
      "Please enter another student: \n",
      "Please enter a grade for 5: 10\n",
      "Please enter another grade for 5: 2.\n",
      "Please enter a grade for 5: 2.\n",
      "Please enter a grade for 5: 10\n",
      "Please enter another grade for 5: 2\n",
      "Please enter another grade for 5: 2\n",
      "Please enter another grade for 5: 2\n",
      "Please enter another grade for 5: 2\n",
      "Please enter another grade for 5: 2\n",
      "Please enter another grade for 5: 2\n",
      "Please enter another grade for 5: 2\n",
      "Please enter another grade for 5: 2\n",
      "Please enter another grade for 5: 2\n",
      "Please enter another grade for 5: 1\n",
      "Please enter another grade for 5: 1\n",
      "Please enter another grade for 5: 1\n",
      "Please enter another grade for 5: 1\n",
      "Please enter another grade for 5: 1\n",
      "Please enter another grade for 5: 1\n",
      "Please enter another grade for 5: \n",
      "Please enter a grade for 5: \n"
     ]
    }
   ],
   "source": [
    "def get_grades(student_name):\n",
    "    grades = []\n",
    "    grade = input(f'Please enter a grade for {student_name}: ')\n",
    "\n",
    "    while grade.isdecimal():\n",
    "        grades.append(int(grade))\n",
    "        grade = input(f'Please enter another grade for {student_name}: ')\n",
    "\n",
    "    return grades\n",
    "\n",
    "\n",
    "def get_students():\n",
    "    students = []\n",
    "    student = input('Please enter a student: ')\n",
    "\n",
    "    while student != '':\n",
    "        students.append(student)\n",
    "        student = input('Please enter another student: ')\n",
    "\n",
    "    return students\n",
    "\n",
    "\n",
    "def get_students_and_grades():\n",
    "    grades = []\n",
    "    students = get_students()\n",
    "    for student in students:\n",
    "        student_grades = get_grades(student)\n",
    "        grades.append(student_grades)\n",
    "\n",
    "    return zip(students, grades)\n",
    "\n",
    "\n",
    "def get_average_grade(student_and_his_grades):\n",
    "    grades = student_and_his_grades[1]\n",
    "    if len(grades) == 0:\n",
    "        return 0\n",
    "\n",
    "    return sum(grades) / len(grades)\n",
    "\n",
    "\n",
    "students_and_grades = get_students_and_grades()\n",
    "students_sorted_by_grades = sorted(  # מפצלים שורה כדי שלא יהיו שורות ארוכות מדי\n",
    "    students_and_grades, key=get_average_grade, reverse=True\n",
    ")\n",
    "best_student_name, best_grade = students_sorted_by_grades[0]\n",
    "print(f\"The best student is {best_student_name} with the grades: {best_grade}\")"
   ]
  },
  {
   "cell_type": "markdown",
   "metadata": {},
   "source": [
    "## <span style=\"align: right; direction: rtl; float: right; clear: both;\">תרגילים</span>"
   ]
  },
  {
   "cell_type": "markdown",
   "metadata": {},
   "source": [
    "### <span style=\"align: right; direction: ltr; float: right; clear: both;\">אותיות או לא להיות</span>"
   ]
  },
  {
   "cell_type": "markdown",
   "metadata": {},
   "source": [
    "<p style=\"text-align: right; direction: rtl; float: right; clear: both;\">\n",
    "כתבו תוכנה שמדפיסה את המספר הסידורי של כל אות באלף־בית האנגלי, מהסוף להתחלה.<br>\n",
    "השתמשו בכמה שיותר פונקציות מובנות בדרך.\n",
    "</p>"
   ]
  },
  {
   "cell_type": "markdown",
   "metadata": {},
   "source": [
    "<p style=\"text-align: right; direction: rtl; float: right; clear: both;\">\n",
    "הפלט אמור להיראות כך:\n",
    "</p>"
   ]
  },
  {
   "cell_type": "raw",
   "metadata": {},
   "source": [
    "26 -> z\n",
    "25 -> y\n",
    "24 -> x\n",
    "...\n",
    "2 -> b\n",
    "1 -> a"
   ]
  },
  {
   "cell_type": "markdown",
   "metadata": {},
   "source": [
    "<p style=\"text-align: right; direction: rtl; float: right; clear: both;\">\n",
    "אנחנו הצלחנו להשתמש ב־5 פונקציות שנלמדו במחברת הזו, בקוד שאורכו 2 שורות.\n",
    "</p>"
   ]
  },
  {
   "cell_type": "code",
   "execution_count": 53,
   "metadata": {},
   "outputs": [
    {
     "name": "stdout",
     "output_type": "stream",
     "text": [
      "  26 -> z\n",
      "  25 -> y\n",
      "  24 -> x\n",
      "  23 -> w\n",
      "  22 -> v\n",
      "  21 -> u\n",
      "  20 -> t\n",
      "  19 -> s\n",
      "  18 -> r\n",
      "  17 -> q\n",
      "  16 -> p\n",
      "  15 -> o\n",
      "  14 -> n\n",
      "  13 -> m\n",
      "  12 -> l\n",
      "  11 -> k\n",
      "  10 -> j\n",
      "   9 -> i\n",
      "   8 -> h\n",
      "   7 -> g\n",
      "   6 -> f\n",
      "   5 -> e\n",
      "   4 -> d\n",
      "   3 -> c\n",
      "   2 -> b\n",
      "   1 -> a\n"
     ]
    }
   ],
   "source": []
  },
  {
   "cell_type": "code",
   "execution_count": 5,
   "metadata": {},
   "outputs": [],
   "source": [
    "temp=['a','b']\n",
    "for val in enumerate(temp, 26):\n",
    "    reversed(val)"
   ]
  },
  {
   "cell_type": "code",
   "execution_count": 121,
   "metadata": {},
   "outputs": [
    {
     "data": {
      "text/plain": [
       "122"
      ]
     },
     "execution_count": 121,
     "metadata": {},
     "output_type": "execute_result"
    }
   ],
   "source": [
    "ord('z')"
   ]
  },
  {
   "cell_type": "code",
   "execution_count": 54,
   "metadata": {},
   "outputs": [
    {
     "name": "stdout",
     "output_type": "stream",
     "text": [
      "  26 -> z\n",
      "  25 -> y\n",
      "  24 -> x\n",
      "  23 -> w\n",
      "  22 -> v\n",
      "  21 -> u\n",
      "  20 -> t\n",
      "  19 -> s\n",
      "  18 -> r\n",
      "  17 -> q\n",
      "  16 -> p\n",
      "  15 -> o\n",
      "  14 -> n\n",
      "  13 -> m\n",
      "  12 -> l\n",
      "  11 -> k\n",
      "  10 -> j\n",
      "   9 -> i\n",
      "   8 -> h\n",
      "   7 -> g\n",
      "   6 -> f\n",
      "   5 -> e\n",
      "   4 -> d\n",
      "   3 -> c\n",
      "   2 -> b\n",
      "   1 -> a\n"
     ]
    }
   ],
   "source": [
    "# Upload 65\n",
    "for num, val in enumerate(range(ord('z'), ord('a')-1, -1), 26):\n",
    "    print(f'{52-num:>4} -> {chr(val)}')    \n",
    "### first soultion ###\n",
    "# temp = 26\n",
    "# asci_chr = ord('z')\n",
    "# while temp:\n",
    "#     print(f\"{temp:>4} -> {chr(asci_chr)}\")\n",
    "#     asci_chr -= 1\n",
    "#     temp -= 1"
   ]
  },
  {
   "cell_type": "markdown",
   "metadata": {},
   "source": [
    "### <span style=\"align: right; direction: ltr; float: right; clear: both;\">מלחמה וזהו</span>"
   ]
  },
  {
   "cell_type": "markdown",
   "metadata": {},
   "source": [
    "<div class=\"align-center\" style=\"display: flex; text-align: right; direction: rtl; clear: both;\">\n",
    "    <div style=\"display: flex; width: 10%; float: right; clear: both;\">\n",
    "        <img src=\"images/warning.png\" style=\"height: 50px !important;\" alt=\"אזהרה!\"> \n",
    "    </div>\n",
    "    <div style=\"width: 90%\">\n",
    "        <p style=\"text-align: right; direction: rtl; clear: both;\">\n",
    "            זהו תרגיל ברמת קושי גבוהה, שמערב נושאים רבים.<br>\n",
    "            הרגישו בנוח להיעזר במתרגלים שלכם.\n",
    "        </p>\n",
    "    </div>\n",
    "</div>"
   ]
  },
  {
   "cell_type": "markdown",
   "metadata": {},
   "source": [
    "<p style=\"text-align: right; direction: rtl; clear: both;\">\n",
    "    מצאו את עשר המילים הנפוצות ביותר בספר \"מלחמה ושלום\", והדפיסו אותן למסך מהמילה הנפוצה ביותר למילה הנפוצה הכי פחות.<br>\n",
    "    ליד כל מילה הדפיסו את מספר המופעים שלה בספר.<br>\n",
    "    הספר נמצא בקובץ war-and-peace.txt בתוך התיקייה resources.\n",
    "</p>"
   ]
  },
  {
   "cell_type": "code",
   "execution_count": null,
   "metadata": {},
   "outputs": [],
   "source": [
    "        if new not in dictionariy:\n",
    "            count = temp_new.count(str(new))\n",
    "            dictionariy.update({new: count})"
   ]
  },
  {
   "cell_type": "code",
   "execution_count": 70,
   "metadata": {},
   "outputs": [
    {
     "name": "stdout",
     "output_type": "stream",
     "text": [
      "The ten most common words in the text are:\n",
      "1:the word -the- appear -34566- times\n",
      "2:the word -and- appear -22167- times\n",
      "3:the word -to- appear -16711- times\n",
      "4:the word -of- appear -14994- times\n",
      "5:the word -a- appear -10502- times\n",
      "6:the word -he- appear -9816- times\n",
      "7:the word -in- appear -9000- times\n",
      "8:the word -his- appear -7967- times\n",
      "9:the word -that- appear -7809- times\n",
      "10:the word -was- appear -7328- times\n"
     ]
    }
   ],
   "source": [
    "\n",
    "with open('resources\\war-and-peace.txt', 'r') as file_war_and_peace:\n",
    "    temp = file_war_and_peace.readlines()\n",
    "lines = []\n",
    "temp_temp = ''\n",
    "for line in temp:\n",
    "    line = line.lower().strip().replace('-', ' ').replace(',', ' ').replace('.', ' ').replace('?', ' ').replace('!', ' ').replace('(', ' ').replace(')', ' ')\n",
    "    if line not in temp_temp:\n",
    "        lines += [line]\n",
    "length = len(lines)\n",
    "i = 0\n",
    "while length:\n",
    "    lines[i] = lines[i].split()\n",
    "    i += 1\n",
    "    length -= 1\n",
    "dictionariy = {}\n",
    "length = len(lines)\n",
    "i = 0\n",
    "j = 0\n",
    "one = 1\n",
    "while i < length:\n",
    "    new_line = len(lines[i])\n",
    "    j = 0\n",
    "    while new_line:\n",
    "        if lines[i][j] not in dictionariy:\n",
    "            dictionariy.update({lines[i][j]: one})\n",
    "        else:\n",
    "            new_new = dictionariy.get(lines[i][j])\n",
    "            new_new += 1\n",
    "            dictionariy.update({lines[i][j]: new_new})\n",
    "        new_line -= 1\n",
    "        j += 1\n",
    "    i += 1\n",
    "  #  length -= 1\n",
    "temp = sorted(dictionariy.values())\n",
    "i = -1\n",
    "most_common = 1\n",
    "print('The ten most common words in the text are:')\n",
    "while i >= -10:\n",
    "    new = temp[i]\n",
    "    for key in dictionariy:\n",
    "        if dictionariy.get(key) == new:\n",
    "            print(f'{most_common}:the word -{key}- appear -{new}- times')\n",
    "    most_common += 1\n",
    "    i -= 1\n",
    "\n",
    "# another option\n",
    "# import collections\n",
    "# import re\n",
    "# words = re.findall(r'\\w+', open('resources\\war-and-peace.txt').read().lower())\n",
    "# most_common = collections.Counter(words).most_common(10)\n",
    "# print(most_common)"
   ]
  },
  {
   "cell_type": "code",
   "execution_count": 69,
   "metadata": {},
   "outputs": [
    {
     "name": "stdout",
     "output_type": "stream",
     "text": [
      "The ten most common words in the text are:\n",
      "1:the word -the- appear -34566- times\n",
      "2:the word -and- appear -22167- times\n",
      "3:the word -to- appear -16711- times\n",
      "4:the word -of- appear -14994- times\n",
      "5:the word -a- appear -10502- times\n",
      "6:the word -he- appear -9816- times\n",
      "7:the word -in- appear -9000- times\n",
      "8:the word -his- appear -7967- times\n",
      "9:the word -that- appear -7809- times\n",
      "10:the word -was- appear -7328- times\n"
     ]
    }
   ],
   "source": [
    "# Upload 66\n",
    "def read_from_file():\n",
    "    with open('resources\\war-and-peace.txt', 'r') as file_war_and_peace:\n",
    "        temp = file_war_and_peace.readlines()\n",
    "        return temp\n",
    "\n",
    "\n",
    "def arrange_text(temp):\n",
    "    lines = []\n",
    "    temp_temp = ''\n",
    "    for line in temp:\n",
    "        line = line.lower().strip().replace('-', ' ').replace(',', ' ').replace('.', ' ').replace('?', ' ').replace('!', ' ').replace('(', ' ').replace(')', ' ')\n",
    "        if line not in temp_temp:\n",
    "            lines += [line]\n",
    "    return lines\n",
    "\n",
    "\n",
    "def split_the_lines(lines):\n",
    "    length = len(lines)\n",
    "    i = 0\n",
    "    while length:\n",
    "        lines[i] = lines[i].split()\n",
    "        i += 1\n",
    "        length -= 1\n",
    "    return lines\n",
    "\n",
    "\n",
    "def insert_to_dictionairy(lines):\n",
    "    dictionariy = {}\n",
    "    length = len(lines)\n",
    "    i = 0\n",
    "    j = 0\n",
    "    one = 1\n",
    "    while i < length:\n",
    "        new_line = len(lines[i])\n",
    "        j = 0\n",
    "        while new_line:\n",
    "            if lines[i][j] not in dictionariy:\n",
    "                dictionariy.update({lines[i][j]: one})\n",
    "            else:\n",
    "                new_new = dictionariy.get(lines[i][j])\n",
    "                new_new += 1\n",
    "                dictionariy.update({lines[i][j]: new_new})\n",
    "            new_line -= 1\n",
    "            j += 1\n",
    "        i += 1\n",
    "    return dictionariy\n",
    "\n",
    "\n",
    "def sorted_by_value(dictionariy):\n",
    "    return sorted(dictionariy.values())\n",
    "\n",
    "\n",
    "def print_ten_most_common_word_in_file(values_sorted, dictionairy):\n",
    "    i = -1\n",
    "    most_common = 1\n",
    "    print('The ten most common words in the text are:')\n",
    "    while i >= -10:\n",
    "        new = temp[i]\n",
    "        for key in dictionariy:\n",
    "            if dictionariy.get(key) == new:\n",
    "                print(f'{most_common}:the word -{key}- appear -{new}- times')\n",
    "        most_common += 1\n",
    "        i -= 1\n",
    "\n",
    "\n",
    "text = read_from_file()\n",
    "text = arrange_text(text)\n",
    "text = split_the_lines(text)\n",
    "dictionariy = insert_to_dictionairy(text)\n",
    "temp = sorted_by_value(dictionariy)\n",
    "print_ten_most_common_word_in_file(temp, dictionariy)\n",
    "# another option\n",
    "# import collections\n",
    "# import re\n",
    "# words = re.findall(r'\\w+', open('resources\\war-and-peace.txt').read().lower())\n",
    "# most_common = collections.Counter(words).most_common(10)\n",
    "# print(most_common)\n"
   ]
  },
  {
   "cell_type": "code",
   "execution_count": 46,
   "metadata": {},
   "outputs": [
    {
     "name": "stdout",
     "output_type": "stream",
     "text": [
      "{'the': 34566, 'project': 100, 'gutenberg': 92, 'ebook': 10, 'of': 14994, 'war': 298, 'and': 22167, 'peace': 114, 'by': 2454, 'leo': 4, 'tolstoy': 3, 'this': 2105, 'is': 3326, 'for': 3531, 'use': 84, 'anyone': 183, 'anywhere': 26, 'at': 4537, 'no': 1403, 'cost': 26, 'with': 5694, 'almost': 154, 'restrictions': 3, 'whatsoever': 2, 'you': 3644, 'may': 289, 'copy': 16, 'it': 5181, 'give': 280, 'away': 614, 'or': 1590, 're': 30, 'under': 371, 'terms': 37, 'license': 15, 'included': 11, 'online': 4, 'www': 3, 'org': 9, 'title': 10, 'author': 9, 'translators': 1, 'louise': 2, 'aylmer': 1, 'maude': 1, 'posting': 2, 'date': 6, 'january': 9, '10': 6, '2009': 1, '[ebook': 1, '#2600]': 1, 'last': 346, 'updated': 2, '21': 1, '2019': 1, 'language': 9, 'english': 30, 'character': 56, 'set': 165, 'encoding': 1, 'utf': 1, '8': 7, '***': 6, 'start': 33, 'an': 1622, 'anonymous': 4, 'volunteer': 4, 'david': 5, 'widger': 2, 'tolstoy/tolstoi': 1, 'contents': 6, 'book': 86, 'one': 2058, '1805': 27, 'chapter': 732, 'i': 4112, 'ii': 34, 'iii': 38, 'iv': 34, 'v': 39, 'vi': 34, 'vii': 34, 'viii': 34, 'ix': 34, 'x': 38, 'xi': 35, 'xii': 35, 'xiii': 32, 'xiv': 35, 'xv': 32, 'xvi': 36, 'xvii': 25, 'xviii': 26, 'xix': 24, 'xx': 18, 'xxi': 16, 'xxii': 14, 'xxiii': 10, 'xxiv': 8, 'xxv': 8, 'xxvi': 8, 'xxvii': 6, 'xxviii': 6, 'two': 593, 'three': 276, 'four': 108, '1806': 12, 'five': 100, '07': 2, 'six': 61, '1808': 5, 'seven': 64, '1810': 4, '11': 6, 'eight': 42, '1811': 8, '12': 2, 'nine': 28, '1812': 56, 'ten': 100, 'xxix': 4, 'xxx': 4, 'xxxi': 4, 'xxxii': 4, 'xxxiii': 4, 'xxxiv': 4, 'xxxv': 2, 'xxxvi': 2, 'xxxvii': 2, 'xxxviii': 2, 'xxxix': 2, 'eleven': 7, 'twelve': 14, 'thirteen': 14, 'fourteen': 12, 'fifteen': 32, '13': 3, 'first': 630, 'epilogue': 4, '1813': 12, '20': 3, 'second': 122, 'well': 787, 'prince': 1886, 'so': 1892, 'genoa': 3, 'lucca': 2, 'are': 1278, 'now': 1304, 'just': 563, 'family': 135, 'estates': 38, 'buonapartes': 2, 'but': 4014, 'warn': 6, 'if': 1302, 'dont': 528, 'tell': 375, 'me': 1267, 'that': 7809, 'means': 73, 'still': 672, 'try': 70, 'to': 16711, 'defend': 18, 'infamies': 1, 'horrors': 8, 'perpetrated': 3, 'antichristi': 2, 'really': 203, 'believe': 124, 'he': 9816, 'will': 1069, 'have': 1977, 'nothing': 467, 'more': 1056, 'do': 1051, 'longer': 176, 'my': 1221, 'friend': 163, 'faithful': 12, 'slave': 11, 'as': 3985, 'call': 91, 'yourself': 117, 'how': 995, 'see': 730, 'frightened': 117, 'yousit': 1, 'down': 699, 'all': 2781, 'news': 168, 'was': 7328, 'in': 9000, 'july': 13, 'speaker': 14, 'known': 147, 'anna': 293, 'pvlovna': 112, 'schrer': 6, 'maid': 58, 'honor': 155, 'favorite': 37, 'empress': 26, 'mrya': 114, 'fdorovna': 13, 'these': 590, 'words': 391, 'she': 3406, 'greeted': 16, 'vasli': 214, 'kurgin': 55, 'a': 10502, 'man': 1064, 'high': 125, 'rank': 28, 'importance': 47, 'who': 2115, 'arrive': 21, 'her': 4698, 'reception': 48, 'had': 5355, 'cough': 6, 'some': 843, 'days': 214, 'said': 2836, 'suffering': 73, 'from': 2701, 'la': 43, 'grippe': 2, 'being': 461, 'then': 934, 'new': 289, 'word': 233, 'st': 40, 'petersburg': 242, 'used': 135, 'only': 1292, 'elite': 1, 'invitations': 4, 'without': 670, 'exception': 17, 'written': 65, 'french': 874, 'delivered': 11, 'scarlet': 4, 'liveried': 3, 'footman': 47, 'morning': 207, 'ran': 260, 'follows': 19, 'better': 163, 'count': 650, 'prospect': 6, 'spending': 11, 'evening': 213, 'poor': 76, 'invalid': 13, 'not': 4659, 'too': 390, 'terrible': 155, 'shall': 248, 'be': 2451, 'very': 801, 'charmed': 3, 'tonight': 14, 'between': 240, '7': 6, '10annette': 1, 'heavens': 18, 'what': 2316, 'virulent': 2, 'attack': 103, 'replied': 300, 'least': 84, 'disconcerted': 12, 'entered': 216, 'wearing': 68, 'embroidered': 9, 'court': 70, 'uniform': 95, 'knee': 30, 'breeches': 19, 'shoes': 22, 'stars': 18, 'on': 3998, 'his': 7967, 'breast': 43, 'serene': 38, 'expression': 299, 'flat': 8, 'face': 891, 'spoke': 167, 'refined': 11, 'which': 2017, 'our': 624, 'grandfathers': 1, 'thought': 764, 'gentle': 42, 'patronizing': 4, 'intonation': 6, 'natural': 42, 'grown': 82, 'old': 832, 'society': 130, 'went': 859, 'up': 1578, 'kissed': 119, 'hand': 536, 'presenting': 9, 'bald': 80, 'scented': 5, 'shining': 24, 'head': 565, 'complacently': 4, 'seated': 29, 'himself': 1011, 'sofa': 73, 'dear': 385, 'your': 816, 'friends': 82, 'mind': 225, 'rest': 107, 'altering': 3, 'tone': 147, 'beneath': 21, 'politeness': 16, 'affected': 19, 'sympathy': 36, 'indifference': 19, 'even': 504, 'irony': 21, 'could': 1111, 'discerned': 2, 'can': 473, 'while': 397, 'morally': 7, 'calm': 86, 'times': 151, 'like': 741, 'has': 704, 'any': 501, 'feeling': 319, 'staying': 29, 'whole': 531, 'hope': 90, 'fete': 10, 'ambassadors': 8, 'today': 84, 'wednesday': 7, 'must': 482, 'put': 270, 'appearance': 39, 'there': 1461, 'daughter': 126, 'coming': 160, 'take': 349, 'todays': 3, 'been': 1475, 'canceled': 1, 'confess': 16, 'festivities': 2, 'fireworks': 4, 'becoming': 33, 'wearisome': 3, 'they': 2167, 'wished': 189, 'entertainment': 5, 'would': 1363, 'off': 429, 'wound': 42, 'clock': 13, 'force': 133, 'habit': 39, 'things': 232, 'did': 1478, 'wish': 185, 'believed': 40, 'tease': 1, 'decided': 100, 'about': 1016, 'novosltsevs': 1, 'dispatch': 18, 'know': 841, 'everything': 406, 'say': 638, 'cold': 138, 'listless': 8, 'buonaparte': 29, 'burnt': 6, 'boats': 5, 'we': 956, 'ready': 164, 'burn': 21, 'ours': 28, 'always': 464, 'languidly': 4, 'actor': 3, 'repeating': 43, 'stale': 1, 'part': 236, 'contrary': 125, 'despite': 81, 'forty': 43, 'years': 124, 'overflowed': 4, 'animation': 29, 'impulsiveness': 1, 'enthusiast': 1, 'become': 122, 'social': 25, 'vocation': 7, 'sometimes': 131, 'when': 1486, 'feel': 133, 'became': 170, 'enthusiastic': 10, 'order': 295, 'disappoint': 6, 'expectations': 9, 'those': 651, 'knew': 409, 'subdued': 5, 'smile': 415, 'though': 443, 'suit': 6, 'faded': 4, 'features': 22, 'played': 44, 'round': 431, 'lips': 113, 'expressed': 117, 'spoiled': 14, 'child': 100, 'continual': 12, 'consciousness': 68, 'charming': 52, 'defect': 7, 'neither': 96, 'nor': 175, 'considered': 103, 'necessary': 137, 'correct': 19, 'midst': 35, 'conversation': 163, 'political': 33, 'matters': 73, 'burst': 49, 'out': 1231, 'oh': 315, 'speak': 213, 'austria': 28, 'perhaps': 116, 'understand': 347, 'never': 408, 'does': 208, 'betraying': 9, 'us': 417, 'russia': 162, 'alone': 237, 'save': 38, 'europe': 47, 'gracious': 25, 'sovereign': 57, 'recognizes': 6, 'true': 120, 'thing': 224, 'faith': 25, 'good': 493, 'wonderful': 22, 'perform': 16, 'noblest': 1, 'role': 21, 'earth': 57, 'virtuous': 12, 'noble': 26, 'god': 264, 'forsake': 1, 'him': 4571, 'fulfill': 17, 'crush': 13, 'hydra': 1, 'revolution': 24, 'than': 534, 'ever': 142, 'person': 75, 'murderer': 4, 'villain': 6, 'avenge': 3, 'blood': 64, 'whom': 400, 'ask': 199, 'rely': 2, 'england': 13, 'commercial': 2, 'spirit': 48, 'cannot': 167, 'emperor': 522, 'alexanders': 21, 'loftiness': 2, 'soul': 151, 'refused': 28, 'evacuate': 1, 'malta': 2, 'wanted': 180, 'find': 161, 'seeks': 5, 'secret': 40, 'motive': 8, 'actions': 70, 'answer': 142, 'novosltsev': 4, 'get': 356, 'none': 48, 'understood': 198, 'self': 138, 'abnegation': 2, 'wants': 29, 'desires': 16, 'mankind': 21, 'promised': 53, 'little': 554, 'prussia': 29, 'declared': 25, 'invincible': 2, 'powerless': 5, 'before': 824, 'hardenburg': 1, 'says': 120, 'haugwitz': 1, 'either': 127, 'famous': 22, 'prussian': 14, 'neutrality': 2, 'trap': 26, 'lofty': 25, 'destiny': 6, 'adored': 15, 'monarch': 18, 'suddenly': 429, 'paused': 73, 'smiling': 145, 'own': 498, 'impetuosity': 3, 'think': 357, 'sent': 224, 'instead': 81, 'wintzingerode': 7, 'captured': 43, 'king': 55, 'prussias': 1, 'consent': 22, 'assault': 1, 'eloquent': 5, 'cup': 15, 'tea': 75, 'moment': 413, 'propos': 2, 'added': 208, 'again': 703, 'am': 545, 'expecting': 63, 'interesting': 33, 'men': 760, 'le': 51, 'vicomte': 40, 'de': 210, 'mortemart': 9, 'connected': 23, 'montmorencys': 1, 'through': 378, 'rohans': 1, 'best': 126, 'families': 10, 'genuine': 4, 'migrs': 1, 'ones': 116, 'also': 268, 'abb': 18, 'morio': 4, 'profound': 25, 'thinker': 1, 'received': 204, 'heard': 497, 'delighted': 32, 'meet': 107, 'them': 1512, 'studied': 9, 'carelessness': 3, 'occurred': 70, 'question': 216, 'chief': 238, 'visit': 61, 'dowager': 6, 'baron': 10, 'funke': 3, 'appointed': 51, 'secretary': 9, 'vienna': 49, 'accounts': 22, 'creature': 13, 'obtain': 25, 'post': 64, 'son': 232, 'others': 307, 'were': 2434, 'trying': 164, 'secure': 16, 'closed': 97, 'eyes': 820, 'indicate': 9, 'else': 152, 'right': 449, 'criticize': 3, 'desired': 29, 'pleased': 87, 'recommended': 7, 'sister': 93, 'dry': 33, 'mournful': 10, 'named': 11, 'pvlovnas': 39, 'assumed': 48, 'sincere': 18, 'devotion': 24, 'respect': 45, 'mingled': 25, 'sadness': 14, 'every': 334, 'time': 923, 'mentioned': 50, 'illustrious': 2, 'patroness': 2, 'majesty': 66, 'deigned': 4, 'show': 110, 'beaucoup': 2, 'destime': 1, 'clouded': 5, 'over': 599, 'silent': 164, 'looked': 647, 'indifferent': 21, 'womanly': 3, 'courtierlike': 2, 'quickness': 4, 'tact': 12, 'habitual': 18, 'both': 259, 'rebuke': 3, 'daring': 7, 'done': 300, 'same': 664, 'console': 6, 'since': 188, 'came': 681, 'everyone': 218, 'enraptured': 9, 'amazingly': 1, 'beautiful': 81, 'bowed': 58, 'signify': 2, 'gratitude': 14, 'often': 140, 'continued': 214, 'after': 839, 'short': 117, 'pause': 35, 'drawing': 213, 'nearer': 73, 'amiably': 8, 'topics': 5, 'ended': 24, 'come': 679, 'intimate': 41, 'conversationi': 1, 'unfairly': 1, 'joys': 13, 'life': 589, 'distributed': 13, 'why': 536, 'fate': 65, 'given': 179, 'such': 590, 'splendid': 69, 'children': 103, 'anatole': 208, 'youngest': 11, 'admitting': 15, 'rejoinder': 8, 'raising': 44, 'eyebrows': 32, 'appreciate': 6, 'less': 142, 'deserve': 4, 'smiled': 150, 'ecstatic': 12, 'cant': 195, 'help': 144, 'lavater': 1, 'lack': 21, 'bump': 3, 'paternity': 1, 'joke': 30, 'mean': 63, 'serious': 68, 'talk': 251, 'dissatisfied': 28, 'younger': 32, 'ourselves': 43, 'its': 949, 'melancholy': 28, 'majestys': 6, 'pitied': 13, 'answered': 153, 'significantly': 14, 'awaiting': 46, 'reply': 146, 'frowned': 42, 'father': 336, 'their': 1437, 'education': 20, 'turned': 388, 'fools': 6, 'hippolyte': 47, 'quiet': 80, 'fool': 46, 'active': 24, 'difference': 17, 'way': 493, 'animated': 63, 'usual': 120, 'wrinkles': 15, 'mouth': 76, 'clearly': 91, 'revealed': 20, 'something': 597, 'unexpectedly': 54, 'coarse': 18, 'unpleasant': 44, 'born': 10, 'reproach': 34, 'looking': 414, 'pensively': 5, 'bane': 1, 'cross': 74, 'bear': 55, 'explain': 62, 'myself': 146, 'helped': 35, 'resignation': 5, 'cruel': 29, 'gesture': 50, 'meditated': 1, 'marrying': 29, 'prodigal': 1, 'asked': 668, 'maids': 29, 'mania': 2, 'matchmaking': 4, 'weakness': 28, 'yet': 340, 'unhappy': 23, 'relation': 50, 'yours': 26, 'princess': 915, 'mary': 612, 'bolknskaya': 9, 'memory': 40, 'perception': 11, 'befitting': 1, 'world': 157, 'indicated': 29, 'movement': 187, 'considering': 43, 'information': 29, 'evidently': 347, 'unable': 97, 'check': 9, 'sad': 80, 'current': 19, 'thoughts': 115, 'costing': 4, 'thousand': 171, 'rubles': 69, 'year': 104, 'goes': 23, 'presently': 2, 'thats': 268, 'fathers': 101, 'rich': 47, 'stingy': 3, 'lives': 29, 'country': 100, 'bolknski': 158, 'retire': 21, 'army': 641, 'late': 105, 'nicknamed': 4, 'clever': 46, 'eccentric': 2, 'bore': 27, 'girl': 129, 'brother': 141, 'married': 73, 'lise': 27, 'meinen': 1, 'lately': 13, 'aide': 48, 'camp': 119, 'kutzovs': 80, 'here': 475, 'listen': 89, 'annette': 8, 'taking': 201, 'reason': 126, 'downwards': 12, 'arrange': 29, 'affair': 74, 'most': 325, 'devoted': 21, 'slafe': 1, 'f': 14, 'village': 145, 'elder': 36, 'mine': 25, 'writes': 16, 'reports': 47, 'want': 249, 'familiarity': 7, 'easy': 49, 'grace': 7, 'peculiar': 31, 'raised': 105, 'honors': 14, 'swung': 7, 'fro': 10, 'lay': 195, 'back': 515, 'armchair': 32, 'another': 601, 'direction': 73, 'attendez': 1, 'reflecting': 5, 'ill': 265, 'young': 444, 'bolknskis': 19, 'wife': 244, 'arranged': 49, 'familys': 6, 'behalf': 12, 'apprenticeship': 2, 'room': 768, 'gradually': 21, 'filling': 12, 'highest': 54, 'assembled': 25, 'people': 524, 'differing': 2, 'widely': 7, 'age': 43, 'alike': 19, 'circle': 51, 'belonged': 30, 'vaslis': 29, 'hlne': 137, 'wore': 45, 'ball': 113, 'dress': 104, 'badge': 4, 'youthful': 14, 'femme': 5, 'plus': 2, 'sduisante': 1, 'ptersbourg': 1, '*': 265, 'during': 224, 'previous': 39, 'winter': 38, 'pregnant': 6, 'go': 752, 'large': 170, 'gatherings': 4, 'small': 181, 'receptions': 8, 'introduced': 17, 'many': 234, 'fascinating': 7, 'woman': 172, 'each': 183, 'arrival': 54, 'seen': 288, 'aunt': 44, 'gravely': 4, 'conducted': 11, 'lady': 84, 'bows': 7, 'ribbon': 17, 'cap': 82, 'sailing': 4, 'soon': 252, 'guests': 68, 'began': 714, 'slowly': 38, 'turning': 181, 'visitor': 41, 'name': 118, 'left': 606, 'performed': 24, 'ceremony': 8, 'greeting': 18, 'cared': 8, 'observed': 18, 'greetings': 10, 'solemn': 39, 'interest': 66, 'approval': 24, 'health': 60, 'thank': 75, 'prevented': 15, 'showing': 43, 'impatience': 10, 'sense': 71, 'relief': 23, 'having': 487, 'vexatious': 1, 'duty': 90, 'return': 98, 'brought': 210, 'work': 166, 'gold': 43, 'velvet': 12, 'bag': 3, 'pretty': 69, 'upper': 18, 'lip': 25, 'delicate': 31, 'dark': 107, 'perceptible': 13, 'teeth': 45, 'lifted': 63, 'sweetly': 5, 'especially': 128, 'occasionally': 36, 'drew': 112, 'lower': 44, 'case': 95, 'thoroughly': 10, 'attractive': 19, 'defectthe': 1, 'shortness': 2, 'half': 166, 'open': 122, 'mouthseemed': 1, 'special': 73, 'form': 58, 'beauty': 59, 'brightened': 15, 'sight': 90, 'mother': 203, 'full': 169, 'carrying': 43, 'burden': 15, 'lightly': 33, 'dull': 48, 'dispirited': 3, 'company': 107, 'talking': 189, 'felt': 629, 'talked': 95, 'saw': 462, 'bright': 72, 'constant': 18, 'gleam': 9, 'white': 197, 'specially': 17, 'amiable': 14, 'mood': 42, 'day': 546, 'table': 222, 'quick': 42, 'swaying': 30, 'steps': 137, 'workbag': 3, 'arm': 175, 'gaily': 37, 'spreading': 17, 'sat': 344, 'near': 205, 'silver': 25, 'samovar': 20, 'doing': 140, 'pleasure': 122, 'herself': 328, 'around': 172, 'displaying': 9, 'addressing': 70, 'present': 125, 'wicked': 9, 'trick': 9, 'hostess': 19, 'wrote': 94, 'quite': 374, 'badly': 42, 'dressed': 72, 'spread': 60, 'arms': 177, 'waisted': 1, 'lace': 7, 'trimmed': 5, 'dainty': 2, 'gray': 85, 'girdled': 2, 'broad': 50, 'below': 46, 'soyez': 1, 'tranquille': 2, 'prettier': 7, 'voice': 423, 'general': 489, 'husband': 135, 'deserting': 1, 'going': 318, 'killed': 127, 'wretched': 17, 'waiting': 129, 'delightful': 22, 'next': 192, 'arrivals': 7, 'stout': 47, 'heavily': 28, 'built': 23, 'close': 108, 'cropped': 5, 'hair': 153, 'spectacles': 39, 'light': 152, 'colored': 10, 'fashionable': 8, 'ruffle': 3, 'brown': 11, 'coat': 120, 'illegitimate': 9, 'bezkhov': 53, 'grandee': 4, 'catherines': 8, 'dying': 60, 'moscow': 707, 'military': 115, 'civil': 13, 'service': 127, 'returned': 145, 'abroad': 33, 'where': 614, 'educated': 13, 'nod': 4, 'accorded': 1, 'lowest': 10, 'hierarchy': 2, 'spite': 71, 'grade': 6, 'look': 475, 'anxiety': 24, 'fear': 110, 'unsuited': 1, 'place': 310, 'pierre': 1784, 'enter': 70, 'certainly': 59, 'rather': 88, 'bigger': 4, 'other': 581, 'reference': 12, 'shy': 16, 'observant': 1, 'distinguished': 32, 'monsieur': 45, 'exchanging': 13, 'alarmed': 13, 'glance': 69, 'murmured': 11, 'unintelligible': 6, 'search': 21, 'acquaintance': 38, 'alarm': 31, 'justified': 5, 'hear': 141, 'speech': 43, 'dismay': 15, 'detained': 9, 'yes': 550, 'scheme': 4, 'perpetual': 4, 'hardly': 88, 'feasible': 2, 'rejoined': 12, 'attend': 14, 'duties': 28, 'committed': 17, 'reverse': 5, 'act': 62, 'impoliteness': 1, 'finished': 81, 'speaking': 155, 'bent': 62, 'big': 57, 'feet': 112, 'apart': 52, 'explaining': 23, 'reasons': 34, 'thinking': 119, 'abbs': 1, 'plan': 90, 'chimerical': 1, 'later': 132, 'got': 202, 'rid': 19, 'behave': 16, 'resumed': 14, 'watch': 33, 'point': 82, 'might': 314, 'happen': 81, 'flag': 10, 'foreman': 1, 'spinning': 2, 'mill': 2, 'hands': 260, 'notices': 5, 'spindle': 1, 'stopped': 193, 'creaks': 1, 'makes': 27, 'noise': 31, 'should': 520, 'hastens': 2, 'machine': 12, 'proper': 25, 'motion': 45, 'moved': 212, 'approaching': 59, 'noisy': 6, 'group': 69, 'slight': 27, 'rearrangement': 1, 'kept': 150, 'conversational': 1, 'steady': 12, 'regular': 29, 'amid': 58, 'cares': 17, 'evident': 76, 'anxious': 39, 'approached': 70, 'passed': 191, 'whose': 111, 'center': 46, 'attended': 16, 'intellectual': 24, 'lights': 13, 'gathered': 47, 'toyshop': 1, 'afraid': 145, 'missing': 11, 'seeing': 169, 'confident': 29, 'faces': 156, 'seemed': 579, 'stood': 307, 'opportunity': 33, 'express': 62, 'views': 32, 'fond': 51, 'swing': 4, 'spindles': 2, 'hummed': 3, 'steadily': 7, 'ceaselessly': 1, 'sides': 135, 'beside': 184, 'elderly': 23, 'thin': 99, 'careworn': 3, 'brilliant': 70, 'settled': 66, 'into': 1003, 'groups': 24, 'chiefly': 38, 'masculine': 7, 'formed': 72, 'grouped': 3, 'rosy': 29, 'plump': 31, 'third': 129, 'nice': 43, 'soft': 40, 'polished': 6, 'manners': 12, 'celebrity': 1, 'modestly': 4, 'placed': 71, 'disposal': 4, 'found': 223, 'obviously': 18, 'serving': 27, 'treat': 15, 'matre': 1, 'dhtel': 1, 'serves': 8, 'choice': 17, 'delicacy': 6, 'piece': 24, 'meat': 6, 'kitchen': 10, 'eat': 43, 'served': 32, 'peculiarly': 9, 'morsels': 1, 'immediately': 130, 'discussing': 9, 'murder': 12, 'duc': 9, 'denghien': 5, 'perished': 18, 'magnanimity': 15, 'particular': 44, 'hatred': 18, 'ah': 187, 'pleasant': 86, 'louis': 21, 'sound': 160, 'sentence': 14, 'contez': 1, 'nous': 6, 'ela': 1, 'courteously': 3, 'token': 8, 'willingness': 2, 'comply': 9, 'inviting': 14, 'tale': 13, 'personally': 28, 'whispered': 80, 'raconteur': 1, 'belongs': 5, 'choicest': 2, 'advantageous': 14, 'style': 9, 'garnished': 1, 'joint': 2, 'roast': 7, 'beef': 3, 'hot': 49, 'dish': 10, 'begin': 70, 'story': 74, 'gave': 303, 'subtle': 16, 'sitting': 221, 'rose': 188, 'unchanging': 6, 'roomthe': 1, 'perfectly': 24, 'rustle': 16, 'moss': 1, 'ivy': 1, 'shoulders': 107, 'glossy': 2, 'sparkling': 14, 'diamonds': 7, 'made': 459, 'graciously': 9, 'allowing': 6, 'privilege': 5, 'admiring': 5, 'figure': 69, 'shapely': 3, 'bosomwhich': 1, 'fashion': 18, 'much': 394, 'exposedand': 1, 'bring': 83, 'glamour': 2, 'ballroom': 36, 'toward': 292, 'lovely': 23, 'trace': 10, 'coquetry': 3, 'appeared': 122, 'unquestionable': 2, 'victorious': 9, 'diminish': 3, 'effect': 65, 'dropped': 35, 'startled': 7, 'extraordinary': 33, 'took': 396, 'seat': 44, 'opposite': 55, 'beamed': 9, 'upon': 97, 'madame': 41, 'doubt': 60, 'ability': 4, 'audience': 18, 'smilingly': 23, 'inclining': 1, 'rested': 15, 'bare': 65, 'unnecessary': 15, 'waited': 33, 'told': 409, 'upright': 6, 'glancing': 73, 'altered': 20, 'shape': 10, 'pressure': 10, 'bosom': 17, 'readjusted': 3, 'diamond': 3, 'necklace': 3, 'smoothed': 8, 'folds': 11, 'whenever': 13, 'produced': 41, 'glanced': 152, 'once': 356, 'adopted': 16, 'relapsed': 1, 'radiant': 23, 'followed': 135, 'wait': 99, 'fetch': 24, 'merrily': 20, 'asking': 106, 'joined': 48, 'moving': 119, 'chair': 65, 'hers': 26, 'charmant': 3, 'surprising': 7, 'resemblance': 3, 'fact': 154, 'exceedingly': 6, 'ugly': 7, 'sisters': 21, 'lit': 57, 'joyous': 24, 'satisfied': 43, 'classic': 2, 'dulled': 2, 'imbecility': 1, 'sullen': 3, 'confidence': 29, 'body': 99, 'weak': 46, 'nose': 50, 'puckered': 16, 'vacant': 4, 'wearied': 4, 'grimace': 12, 'legs': 101, 'fell': 125, 'unnatural': 31, 'positions': 15, 'ghost': 3, 'hastily': 53, 'adjusting': 4, 'lorgnette': 4, 'instrument': 5, 'fellow': 188, 'astonished': 17, 'narrator': 3, 'shrugging': 13, 'because': 488, 'hate': 16, 'stories': 30, 'showed': 110, 'meaning': 95, 'uttered': 47, 'hearers': 3, 'sure': 68, 'whether': 230, 'witty': 12, 'stupid': 54, 'green': 47, 'color': 16, 'cuisse': 1, 'nymphe': 1, 'effraye': 1, 'called': 244, 'silk': 19, 'stockings': 14, 'neatly': 6, 'anecdote': 4, 'gone': 161, 'secretly': 6, 'paris': 38, 'mademoiselle': 141, 'george': 20, 'house': 390, 'bonaparte': 79, 'enjoyed': 18, 'actress': 4, 'favors': 5, 'presence': 121, 'napoleon': 470, 'happened': 167, 'fall': 74, 'fainting': 2, 'fits': 8, 'subject': 84, 'thus': 27, 'ducs': 1, 'mercy': 33, 'latter': 69, 'spared': 2, 'subsequently': 11, 'repaid': 1, 'death': 181, 'rivals': 4, 'recognized': 61, 'ladies': 88, 'agitated': 49, 'inquiring': 18, 'sticking': 7, 'needle': 4, 'testify': 1, 'fascination': 2, 'appreciated': 13, 'praise': 11, 'gratefully': 9, 'prepared': 79, 'continue': 22, 'watchful': 1, 'eye': 54, 'noticed': 179, 'loudly': 36, 'vehemently': 2, 'hurried': 29, 'rescue': 8, 'managed': 36, 'balance': 12, 'power': 203, 'interested': 33, 'mans': 105, 'simple': 68, 'minded': 19, 'eagerness': 5, 'pet': 11, 'theory': 35, 'listening': 85, 'eagerly': 31, 'naturally': 22, 'disapproved': 3, 'rights': 16, 'saying': 233, 'powerful': 23, 'nation': 27, 'russiabarbaric': 1, 'beto': 1, 'disinterestedly': 2, 'alliance': 18, 'object': 49, 'maintenance': 3, 'beginning': 89, 'severely': 19, 'italian': 25, 'russian': 454, 'climate': 3, 'italians': 6, 'instantly': 22, 'changed': 96, 'offensively': 2, 'sugary': 1, 'conversing': 13, 'women': 139, 'enchanted': 7, 'brilliancy': 1, 'wit': 4, 'culture': 16, 'feminine': 14, 'letting': 38, 'escape': 37, 'conveniently': 1, 'keep': 84, 'observation': 22, 'larger': 16, 'andrew': 1040, 'handsome': 108, 'medium': 10, 'height': 22, 'firm': 46, 'clearcut': 1, 'weary': 33, 'bored': 5, 'measured': 10, 'step': 80, 'offered': 48, 'striking': 24, 'contrast': 14, 'tiresome': 6, 'among': 216, 'tedious': 1, 'distorted': 15, 'screwing': 10, 'scanned': 8, 'kutzov': 444, 'stressing': 2, 'syllable': 5, 'generals': 117, 'frenchman': 95, 'ashamed': 57, 'deprive': 11, 'andr': 2, 'coquettish': 5, 'manner': 61, 'telling': 66, 'screwed': 14, 'watched': 44, 'glad': 129, 'affectionate': 20, 'expressing': 26, 'annoyance': 12, 'whoever': 9, 'touching': 36, 'pierres': 167, 'beaming': 19, 'kind': 142, 'great': 262, 'supper': 55, 'low': 73, 'disturb': 6, 'continuing': 15, 'impossible': 176, 'laughing': 95, 'pressing': 39, 'need': 108, 'let': 376, 'pass': 83, 'excuse': 30, 'holding': 120, 'sleeve': 19, 'friendly': 30, 'prevent': 26, 'rising': 58, 'unfortunate': 21, 'deprives': 3, 'obliges': 1, 'interrupt': 5, 'sorry': 65, 'leave': 209, 'enchanting': 17, 'party': 70, 'chairs': 23, 'shone': 33, 'radiantly': 4, 'gazed': 87, 'rapturous': 21, 'passing': 84, 'seized': 81, 'educate': 1, 'month': 33, 'connection': 39, 'hurriedly': 68, 'overtook': 13, 'anteroom': 35, 'affectation': 11, 'kindly': 59, 'tear': 14, 'worn': 43, 'bors': 291, 'hurrying': 18, 'remain': 77, 'boy': 128, 'although': 11, 'listened': 136, 'reluctantly': 16, 'politely': 11, 'ingratiating': 4, 'appealing': 1, 'transferred': 29, 'guards': 94, 'difficult': 83, 'advise': 8, 'appeal': 14, 'rumyntsev': 8, 'goltsyn': 6, 'drubetskya': 9, 'belonging': 15, 'long': 544, 'lost': 139, 'former': 120, 'influential': 3, 'connections': 13, 'procure': 5, 'appointment': 18, 'solely': 12, 'obtained': 22, 'invitation': 14, 'vicomtes': 2, 'embittered': 4, 'clutched': 8, 'tightly': 3, 'anything': 293, 'reminded': 22, 'friendship': 37, 'entreat': 4, 'gods': 50, 'sake': 84, 'sonand': 1, 'regard': 62, 'benefactor': 23, 'angry': 107, 'promise': 32, 'kindhearted': 7, 'tears': 166, 'papa': 48, 'classically': 1, 'molded': 1, 'shoulder': 58, 'door': 330, 'influence': 42, 'however': 100, 'capital': 43, 'economized': 1, 'realized': 43, 'begged': 25, 'chary': 1, 'using': 16, 'drubetskyas': 1, 'qualms': 1, 'conscience': 18, 'indebted': 2, 'career': 17, 'moreover': 16, 'womenmostly': 1, 'motherswho': 1, 'minds': 17, 'until': 22, 'gained': 25, 'end': 185, 'insisting': 7, 'hour': 70, 'make': 277, 'scenes': 4, 'consideration': 12, 'mikhylovna': 119, 'weariness': 10, 'prove': 42, 'impossibleyour': 1, 'expected': 89, 'youi': 4, 'kindness': 9, 'waitjust': 1, 'faltered': 5, 'michael': 53, 'ilarinovich': 6, 'recommend': 2, 'adjutant': 158, 'wont': 147, 'pestered': 1, 'commander': 287, 'conspired': 2, 'sons': 57, 'adjutants': 44, 'au': 18, 'revoir': 11, 'tomorrow': 97, 'cried': 210, 'probably': 78, 'suited': 9, 'apparently': 40, 'forgotten': 49, 'employed': 15, 'arts': 1, 'artificial': 14, 'pretended': 15, 'till': 173, 'task': 18, 'accomplished': 19, 'latest': 13, 'comedy': 3, 'coronation': 3, 'milan': 1, 'laying': 8, 'petitions': 4, 'throne': 10, 'granting': 1, 'nations': 39, 'adorable': 2, 'enough': 60, 'whirl': 5, 'crazy': 8, 'straight': 103, 'sarcastic': 10, 'dieu': 12, 'donne': 1, 'gare': 1, 'qui': 8, 'touche': 1, 'fine': 120, 'remarked': 92, 'dio': 1, 'mi': 1, 'lha': 1, 'dato': 1, 'guai': 1, 'chi': 1, 'tocchi': 1, 'touches': 1, 'beware': 3, 'drop': 20, 'glass': 73, 'run': 100, 'sovereigns': 19, 'able': 107, 'endure': 19, 'menace': 3, 'polite': 15, 'hopeless': 9, 'queen': 9, 'elizabeth': 2, 'reaping': 3, 'reward': 20, 'betrayal': 2, 'bourbon': 1, 'cause': 146, 'sending': 19, 'compliment': 4, 'usurper': 3, 'sighing': 13, 'disdainfully': 6, 'position': 292, 'gazing': 60, 'completely': 42, 'tracing': 1, 'cond': 3, 'explained': 42, 'gravity': 12, 'bton': 1, 'gueules': 2, 'engrl': 1, 'dazurmaison': 1, 'remains': 21, 'france': 41, 'air': 135, 'matter': 169, 'acquainted': 18, 'far': 171, 'intrigues': 14, 'violence': 9, 'exile': 7, 'executions': 5, 'societyi': 1, 'societywill': 1, 'forever': 33, 'destroyed': 56, 'shrugged': 26, 'remark': 33, 'interrupted': 94, 'alexander': 115, 'accompanied': 44, 'imperial': 23, 'themselves': 199, 'choose': 26, 'government': 61, 'free': 154, 'throw': 26, 'itself': 157, 'rightful': 2, 'concluded': 42, 'royalist': 1, 'emigrant': 2, 'doubtful': 6, 'rightly': 4, 'supposes': 1, 'already': 326, 'regime': 2, 'blushing': 28, 'breaking': 25, 'aristocracy': 3, 'bonapartes': 14, 'side': 297, 'buonapartists': 1, 'real': 71, 'state': 144, 'public': 33, 'opinion': 93, 'aiming': 5, 'remarks': 39, 'path': 72, 'glory': 41, 'follow': 40, 'silence': 105, 'quoting': 3, 'napoleons': 100, 'opened': 116, 'antechambers': 1, 'crowded': 40, 'partial': 2, 'ceased': 52, 'hero': 32, 'martyr': 1, 'heaven': 46, 'appreciation': 3, 'epigram': 2, 'broke': 51, 'inappropriate': 1, 'stop': 71, 'execution': 16, 'necessity': 51, 'seems': 85, 'greatness': 21, 'fearing': 15, 'responsibility': 24, 'deed': 22, 'mon': 51, 'muttered': 69, 'terrified': 12, 'whisper': 45, 'consider': 67, 'assassination': 1, 'shows': 15, 'exclaimed': 84, 'several': 188, 'voices': 143, 'slapping': 4, 'palm': 7, 'merely': 131, 'solemnly': 10, 'desperately': 9, 'bourbons': 7, 'fled': 20, 'leaving': 81, 'anarchy': 1, 'quelled': 1, 'suggested': 31, 'heeding': 8, 'eager': 30, 'superior': 21, 'suppressed': 12, 'abuses': 2, 'preserved': 4, 'itequality': 1, 'citizenship': 3, 'freedom': 111, 'pressand': 1, 'availing': 8, 'commit': 12, 'restored': 11, 'grand': 58, 'desperate': 17, 'provocative': 2, 'proposition': 4, 'extreme': 13, 'youth': 44, 'regicide': 3, 'repeated': 145, 'rousseaus': 2, 'contrat': 3, 'tolerant': 1, 'ideas': 42, 'robbery': 7, 'interjected': 2, 'ironical': 11, 'extremes': 1, 'important': 130, 'emancipation': 2, 'prejudices': 1, 'equality': 13, 'retained': 9, 'liberty': 15, 'contemptuously': 17, 'deciding': 6, 'seriously': 34, 'foolish': 12, 'sounding': 3, 'discredited': 2, 'love': 443, 'saviour': 6, 'preached': 5, 'happier': 12, 'amused': 24, 'outburst': 8, 'experience': 41, 'horror': 43, 'struck': 98, 'sacrilegious': 1, 'exasperated': 4, 'convinced': 53, 'rallied': 4, 'forces': 86, 'vigorous': 10, 'orator': 3, 'executing': 5, 'ducor': 1, 'ordinary': 33, 'whois': 1, 'innocent': 15, 'untried': 1, 'explains': 7, '18th': 1, 'brumaire': 2, 'imposture': 1, 'swindle': 1, 'conduct': 14, 'prisoners': 117, 'africa': 8, 'horrible': 11, 'hes': 107, 'knowing': 85, 'unlike': 13, 'grave': 15, 'gloomy': 34, 'instantaneously': 3, 'replaced': 16, 'anothera': 1, 'childlike': 24, 'silly': 9, 'forgiveness': 13, 'meeting': 93, 'jacobin': 1, 'expect': 47, 'besides': 111, 'statesman': 2, 'distinguish': 22, 'acts': 9, 'private': 28, 'course': 123, 'chimed': 8, 'reinforcement': 1, 'admit': 43, 'bridge': 133, 'arcola': 3, 'hospital': 30, 'jaffa': 1, 'plague': 3, 'stricken': 7, 'justify': 13, 'awkwardness': 9, 'sign': 45, 'started': 56, 'making': 108, 'signs': 20, 'vicomtei': 1, 'emphatically': 2, 'demand': 31, 'attention': 117, 'une': 6, 'dame': 2, 'footmen': 29, 'behind': 311, 'carriage': 117, 'taste': 12, 'ladys': 9, 'collecting': 10, 'difficulty': 46, 'livery': 2, 'calls': 12, 'spluttered': 3, 'unfavorable': 2, 'persons': 34, 'wind': 33, 'hat': 48, 'contain': 5, 'gasps': 1, 'laughter': 70, 'hippolytes': 4, 'agreeably': 4, 'ending': 8, 'unamiable': 1, 'insignificant': 27, 'balls': 44, 'theatricals': 4, 'thanked': 17, 'soiree': 5, 'ungainly': 3, 'average': 1, 'huge': 38, 'red': 136, 'particularly': 87, 'agreeable': 26, 'absent': 36, 'cornered': 3, 'held': 142, 'pulling': 22, 'plume': 4, 'restore': 7, 'mindedness': 9, 'inability': 2, 'converse': 5, 'redeemed': 2, 'modest': 7, 'christian': 11, 'mildness': 4, 'indiscretion': 2, 'nodded': 41, 'change': 83, 'opinions': 22, 'everybody': 112, 'unless': 16, 'natured': 32, 'including': 15, 'hall': 53, 'helping': 10, 'cloak': 53, 'indifferently': 5, 'wifes': 45, 'chatter': 7, 'stared': 17, 'fixedly': 15, 'eyeglass': 1, 'catch': 26, 'match': 25, 'contemplated': 1, 'law': 118, 'write': 61, 'looks': 73, 'bending': 25, 'shawl': 20, 'finish': 44, 'sentences': 6, 'meaningless': 18, 'understanding': 67, 'wishing': 63, 'appear': 53, 'laugh': 59, 'downy': 8, 'joyfully': 37, 'snatching': 6, 'pushed': 54, 'aside': 60, 'wrapping': 2, 'intentionally': 4, 'adjusted': 9, 'embracing': 11, 'gracefully': 5, 'andrews': 96, 'sleepy': 16, 'seem': 82, 'past': 174, 'reached': 145, 'heels': 17, 'stumbling': 8, 'porch': 87, 'following': 73, 'princesse': 2, 'tongue': 25, 'picking': 8, 'saber': 41, 'pretense': 7, 'everyones': 7, 'allow': 57, 'sir': 69, 'disagreeable': 11, 'blocking': 13, 'gently': 20, 'affectionately': 9, 'postilion': 3, 'wheels': 36, 'rattled': 8, 'laughed': 77, 'spasmodically': 3, 'home': 172, 'cher': 25, 'indeed': 33, 'tips': 6, 'fingers': 59, 'chap': 2, 'airs': 2, 'pity': 63, 'officer': 410, 'gives': 22, 'equal': 28, 'deal': 34, 'reaching': 32, 'study': 112, 'shelf': 1, 'caesars': 3, 'commentaries': 1, 'resting': 19, 'elbow': 26, 'reading': 83, 'middle': 84, 'mlle': 1, 'rubbing': 15, 'creak': 9, 'waved': 22, 'possible': 170, 'buti': 1, 'abstract': 9, 'everywhere': 48, 'thinks': 19, 'guardsman': 5, 'diplomatist': 7, 'momentary': 10, 'tucked': 11, 'decide': 19, 'expects': 5, 'tutor': 15, 'remained': 178, 'twenty': 134, 'dismissed': 9, 'profession': 3, 'agree': 49, 'letter': 230, 'money': 127, 'choosing': 7, 'months': 35, 'rubbed': 14, 'forehead': 46, 'freemason': 6, 'referring': 13, 'met': 155, 'nonsense': 80, 'business': 100, 'horse': 288, 'against': 223, 'greatest': 41, 'childish': 23, 'finds': 15, 'nave': 25, 'fought': 38, 'except': 70, 'conviction': 28, 'wars': 31, 'ironically': 15, 'likely': 16, 'leading': 45, 'womans': 20, 'shook': 51, 'waking': 17, 'removed': 37, 'gown': 46, 'fresh': 96, 'elegant': 7, 'settling': 10, 'briskly': 16, 'fussily': 1, 'argumentative': 1, 'arguing': 8, 'embarrassment': 17, 'commonly': 1, 'shown': 58, 'intercourse': 5, 'touched': 57, 'live': 91, 'judge': 28, 'uncles': 23, 'aprksins': 2, 'easily': 43, 'noticing': 56, 'starting': 22, 'spoken': 55, 'petulantly': 1, 'playful': 5, 'plainly': 30, 'member': 18, 'remembered': 103, 'associations': 3, 'broken': 59, 'im': 105, 'shudder': 8, 'surprised': 59, 'notice': 69, 'someone': 124, 'addressed': 61, 'frigid': 3, 'egotists': 2, 'whim': 3, 'goodness': 26, 'knows': 85, 'leaves': 21, 'locks': 5, 'remember': 124, 'querulous': 4, 'drawn': 75, 'giving': 107, 'joyful': 48, 'animal': 33, 'squirrel': 3, 'indecorous': 1, 'pregnancy': 3, 'gist': 3, 'blushed': 46, 'despair': 31, 'doctor': 123, 'tells': 15, 'bed': 118, 'earlier': 8, 'quivered': 15, 'walked': 69, 'surprise': 85, 'rise': 26, 'tearful': 5, 'entreaty': 8, 'threat': 3, 'above': 146, 'regret': 19, 'ago': 74, 'beg': 40, 'desist': 1, 'growing': 66, 'cry': 95, 'assure': 13, 'experienced': 86, 'outsider': 1, 'distress': 14, 'caught': 57, 'restraining': 6, 'dryly': 4, 'pitch': 6, 'indicates': 3, 'patience': 19, 'exhausted': 30, 'winning': 9, 'piteous': 12, 'askance': 3, 'husbands': 30, 'timid': 25, 'deprecating': 1, 'dog': 41, 'rapidly': 95, 'feebly': 7, 'wags': 2, 'drooping': 13, 'tail': 32, 'lifting': 32, 'night': 219, 'kissing': 36, 'stranger': 36, 'continually': 79, 'sigh': 33, 'newly': 22, 'decorated': 4, 'luxurious': 6, 'dining': 26, 'napkins': 1, 'china': 10, 'imprint': 1, 'newness': 1, 'households': 4, 'halfway': 14, 'leaned': 32, 'elbows': 21, 'nervous': 16, 'agitation': 41, 'talkas': 1, 'determines': 1, 'marry': 82, 'advice': 30, 'capable': 18, 'irrevocable': 4, 'mistake': 28, 'nothingor': 1, 'wasted': 9, 'trifles': 14, 'future': 76, 'ranged': 3, 'lackey': 4, 'idiot': 6, 'whats': 67, 'different': 144, 'apparent': 13, 'amazement': 9, 'excellent': 32, 'rare': 12, 'safe': 12, 'o': 59, 'unmarried': 7, 'mention': 29, 'lolled': 2, 'phrases': 10, 'muscle': 6, 'quivering': 16, 'excitement': 46, 'fire': 196, 'extinguished': 3, 'flashed': 13, 'lifeless': 10, 'impassioned': 2, 'moments': 59, 'morbid': 2, 'irritation': 10, 'worked': 12, 'goal': 18, 'aim': 100, 'tie': 5, 'chained': 1, 'convict': 4, 'lose': 27, 'strength': 118, 'weighs': 3, 'torments': 5, 'rooms': 51, 'gossip': 20, 'vanity': 17, 'trivialitythese': 1, 'fit': 31, 'caustic': 3, 'exist': 32, 'selfish': 3, 'vain': 15, 'trivial': 11, 'everythingthats': 1, 'colors': 4, 'theres': 75, 'funny': 14, 'incapable': 7, 'highly': 17, 'model': 7, 'perfection': 10, 'possessed': 22, 'degree': 19, 'qualities': 20, 'lacked': 11, 'described': 31, 'treating': 7, 'extensive': 1, 'read': 132, 'capacity': 18, 'philosophical': 2, 'meditation': 4, 'addicted': 1, 'regarded': 53, 'simplest': 12, 'relations': 67, 'commendation': 3, 'essential': 33, 'grease': 2, 'smoothly': 9, 'reassuring': 2, 'reflected': 29, 'relaxing': 1, 'careless': 12, 'merry': 52, 'crimson': 12, 'plain': 67, 'effort': 78, 'havent': 26, 'idea': 71, 'consult': 6, 'glancefriendly': 1, 'wasexpressed': 1, 'superiority': 12, 'youre': 71, 'youll': 66, 'visiting': 9, 'kurgins': 12, 'sort': 58, 'suits': 4, 'badlyall': 1, 'debauchery': 5, 'dissipation': 4, 'comme': 3, 'il': 14, 'faut': 4, 'wine': 50, 'sharing': 8, 'dissipated': 5, 'planning': 7, 'reform': 8, 'happy': 194, 'properly': 10, 'aches': 3, 'spends': 1, 'oclock': 65, 'cloudless': 1, 'northern': 1, 'summer': 31, 'cab': 5, 'intending': 11, 'drive': 51, 'impossibility': 10, 'sleep': 78, 'deserted': 22, 'street': 78, 'cards': 42, 'generally': 38, 'drinking': 17, 'bout': 1, 'finishing': 17, 'visits': 8, 'recalled': 47, 'happens': 55, 'passionately': 19, 'enjoy': 9, 'accustomed': 43, 'account': 69, 'gathering': 11, 'conventional': 3, 'definite': 40, 'considers': 9, 'dead': 68, 'dishonor': 2, 'indulged': 1, 'reflections': 15, 'nullifying': 1, 'decisions': 4, 'intentions': 15, 'barracks': 2, 'lived': 74, 'lighted': 13, 'ascended': 10, 'stairs': 16, 'empty': 37, 'bottles': 6, 'cloaks': 9, 'overshoes': 1, 'lying': 80, 'smell': 38, 'alcohol': 1, 'sounds': 86, 'shouting': 103, 'distance': 77, 'visitors': 66, 'dispersed': 14, 'threw': 61, 'sly': 11, 'glasses': 20, 'familiar': 59, 'growling': 1, 'commotion': 4, 'crowding': 17, 'anxiously': 13, 'window': 112, 'romping': 1, 'chain': 9, 'bet': 11, 'hundred': 122, 'stevens': 2, 'shouted': 244, 'dlokhov': 284, 'bruin': 2, 'heres': 16, 'draught': 1, 'loses': 5, 'fourth': 43, 'jacob': 1, 'bottle': 40, 'host': 14, 'tall': 59, 'linen': 12, 'shirt': 41, 'unfastened': 6, 'front': 265, 'bit': 53, 'fellows': 43, 'ptya': 245, 'clear': 120, 'blue': 94, 'drunken': 16, 'sober': 4, 'ring': 22, 'bets': 1, 'semnov': 8, 'regiment': 221, 'notorious': 5, 'gambler': 4, 'duelist': 2, 'living': 89, 'drunk': 24, 'drink': 41, 'drank': 22, 'brows': 27, 'tipsy': 13, 'refilling': 1, 'betting': 1, 'naval': 6, 'rum': 12, 'outer': 6, 'ledge': 4, 'floor': 49, 'hanging': 32, 'pushing': 30, 'englishmans': 1, 'distinctly': 25, 'curly': 22, 'infantry': 81, 'officers': 251, 'mustache': 44, 'feature': 3, 'lines': 37, 'remarkably': 5, 'finely': 2, 'curved': 4, 'sharp': 19, 'wedge': 1, 'firmly': 46, 'distinct': 11, 'smiles': 16, 'corners': 12, 'together': 139, 'resolute': 35, 'insolent': 8, 'intelligence': 10, 'spent': 89, 'tens': 8, 'thousands': 45, 'footing': 6, 'respected': 20, 'play': 57, 'games': 6, 'nearly': 57, 'won': 14, 'clearheadedness': 1, 'rakes': 3, 'scapegraces': 1, 'frame': 23, 'sill': 11, 'forced': 26, 'flurried': 3, 'intimidated': 4, 'directions': 21, 'shouts': 50, 'gentlemen': 82, 'swaggering': 1, 'strode': 6, 'smash': 3, 'tugged': 6, 'move': 84, 'smashed': 7, 'pane': 1, 'hercules': 2, 'crossbeam': 1, 'wrenched': 3, 'oak': 22, 'crash': 3, 'theyll': 21, 'englishman': 14, 'bragging': 2, 'eh': 86, 'rate': 32, 'sky': 61, 'dawn': 19, 'merging': 6, 'afterglow': 1, 'sunset': 2, 'visible': 40, 'jumped': 46, 'onto': 64, 'standing': 158, 'fifty': 33, 'imperialshe': 1, 'welli': 1, 'imperials': 4, 'outside': 47, 'spot': 56, 'stooped': 14, 'pointed': 60, 'sloping': 4, 'buttons': 4, 'himthe': 4, 'shortbegan': 1, 'wager': 1, 'hammering': 3, 'attract': 12, 'pay': 48, 'indication': 10, 'intended': 41, 'accept': 24, 'challenge': 11, 'release': 10, 'nodding': 9, 'translating': 2, 'dlokhovs': 42, 'lad': 55, 'hussar': 80, 'losing': 35, 'climbed': 9, 'stones': 3, 'pavement': 5, 'shut': 25, 'awkwardly': 15, 'tripping': 4, 'spurs': 22, 'placing': 9, 'reach': 35, 'carefully': 46, 'lowered': 22, 'candles': 26, 'older': 15, 'forward': 172, 'scared': 15, 'seize': 20, 'hold': 64, 'folly': 10, 'hell': 22, 'sensible': 9, 'touch': 33, 'startle': 2, 'comes': 52, 'meddling': 2, 'emitting': 3, 'separately': 10, 'compressed': 11, 'pick': 9, 'erect': 12, 'staring': 11, 'sideways': 10, 'pursing': 3, 'corner': 91, 'wall': 47, 'hid': 24, 'faint': 11, 'forgot': 20, 'fade': 1, 'thrown': 45, 'further': 51, 'collar': 25, 'higher': 59, 'trembled': 26, 'emptying': 4, 'perceptibly': 5, 'tilting': 2, 'elapsed': 6, 'backward': 7, 'spine': 5, 'nervously': 7, 'sufficient': 16, 'slip': 11, 'slipping': 13, 'wavered': 2, 'strain': 8, 'clutch': 1, 'refrained': 9, 'covered': 88, 'aware': 26, 'stir': 25, 'pale': 119, 'smelt': 3, 'strongly': 21, 'devil': 60, 'purse': 24, 'counting': 11, 'frowning': 48, 'wishes': 34, 'mad': 16, 'giddy': 1, 'staircase': 11, 'lets': 30, 'banging': 2, 'determined': 14, 'preparing': 38, 'climb': 2, 'strong': 66, 'flying': 29, 'manage': 17, 's': 19, 'ground': 105, 'dancing': 42, 'cornet': 8, 'staff': 135, 'mikhylovnas': 11, 'endeavors': 3, 'entreaties': 4, 'rostvs': 216, 'stayed': 33, 'town': 119, 'darling': 37, 'bry': 2, 'line': 117, 'childhood': 23, 'tenth': 14, 'august': 47, 'equipment': 11, 'join': 44, 'march': 80, 'radzivlov': 1, 'natalias': 1, 'rostvsthe': 1, 'daughterboth': 1, 'nataly': 5, 'carriages': 40, 'horses': 262, 'bringing': 23, 'countess': 485, 'rostvas': 5, 'povarskya': 5, 'eldest': 27, 'congratulate': 15, 'constantly': 24, 'succeeded': 21, 'relays': 2, 'oriental': 8, 'type': 10, 'childbearingshe': 1, 'languor': 3, 'resulting': 11, 'inspired': 14, 'household': 42, 'receive': 44, 'entertain': 10, 'inner': 26, 'receiving': 40, 'dinner': 171, 'grateful': 18, 'ma': 23, 'chrehe': 1, 'slightest': 15, 'variation': 3, 'ranki': 1, 'keeping': 35, 'offended': 32, 'chre': 8, 'cheerful': 48, 'clean': 41, 'shaven': 16, 'jauntily': 6, 'putting': 51, 'knees': 36, 'enjoys': 3, 'swayed': 26, 'dignity': 30, 'surmises': 5, 'weather': 26, 'questions': 98, 'bad': 123, 'unflinching': 1, 'fulfillment': 7, 'stroking': 7, 'scanty': 2, 'hairs': 9, 'patch': 4, 'conservatory': 10, 'pantry': 5, 'marble': 7, 'tables': 17, 'eighty': 11, 'unfolding': 4, 'damask': 2, 'dmtri': 13, 'vaslevich': 2, 'manager': 2, 'affairs': 117, 'enormous': 45, 'complacent': 4, 'lvvna': 1, 'kargina': 12, 'announced': 32, 'gigantic': 7, 'bass': 16, 'entering': 54, 'pinch': 7, 'snuffbox': 25, 'portrait': 31, 'callers': 2, 'proud': 35, 'faced': 32, 'dresses': 26, 'rustling': 7, 'laid': 53, 'razumvskis': 6, 'aprksina': 5, 'interrupting': 10, 'mingling': 9, 'scraping': 4, 'conversations': 20, 'mammas': 5, 'mantles': 1, 'topic': 6, 'illness': 37, 'wealthy': 22, 'celebrated': 9, 'beau': 2, 'behaved': 16, 'improperly': 1, 'vexation': 25, 'kill': 51, 'alluded': 5, 'bezkhovs': 19, 'modern': 18, 'allowed': 41, 'liked': 72, 'expelled': 6, 'police': 36, 'chose': 14, 'interposed': 4, 'certain': 138, 'suffer': 13, 'degraded': 4, 'ranks': 77, 'somehow': 10, 'hushed': 5, 'ordered': 113, 'brigands': 6, 'ivnovna': 20, 'dlokhova': 1, 'worthy': 31, 'fancy': 31, 'somewhere': 47, 'actresses': 2, 'tried': 188, 'interfere': 8, 'tied': 23, 'policeman': 10, 'moyka': 1, 'canal': 1, 'swimming': 2, 'cut': 65, 'dreadful': 48, 'cyril': 12, 'vladmirovich': 10, 'amuses': 2, 'foreign': 21, 'introduce': 9, 'declined': 7, 'daughters': 42, 'girls': 56, 'inattention': 2, 'score': 8, 'intervened': 2, 'knowledge': 42, 'cyrils': 1, 'reputation': 16, 'handsomer': 2, 'heir': 7, 'deathand': 2, 'die': 67, 'dr': 4, 'lorrain': 10, 'petersburgno': 1, 'inherit': 4, 'immense': 40, 'fortune': 18, 'serfs': 71, 'millions': 38, 'mothers': 51, 'cousin': 35, 'brys': 3, 'godfather': 3, 'attached': 23, 'arrived': 93, 'yesterday': 43, 'inspection': 7, 'pretext': 24, 'hearing': 75, 'imagine': 63, 'impersonate': 1, 'portly': 4, 'deep': 85, 'ringing': 24, 'eats': 3, 'drinks': 2, 'dine': 11, 'ensued': 6, 'affably': 1, 'concealing': 10, 'distressed': 8, 'smoothing': 8, 'footsteps': 26, 'boys': 15, 'running': 104, 'falling': 38, 'hiding': 22, 'muslin': 5, 'frock': 4, 'darted': 7, 'flight': 37, 'doorway': 13, 'student': 6, 'jacket': 23, 'wide': 48, 'feigned': 4, 'severity': 13, 'spoil': 8, 'ily': 32, 'returns': 8, 'black': 132, 'eyed': 15, 'mouthed': 3, 'lifewith': 1, 'heaved': 7, 'bodice': 5, 'curls': 7, 'tossed': 7, 'frilled': 1, 'drawers': 2, 'slipperswas': 1, 'escaping': 8, 'hide': 34, 'flushed': 67, 'mantillanot': 1, 'paying': 16, 'severe': 18, 'remarkand': 1, 'fragmentary': 1, 'doll': 8, 'mimi': 3, 'natsha': 1091, 'utter': 28, 'loud': 50, 'prim': 1, 'joining': 17, 'monstrosity': 1, 'sternness': 1, 'mantilla': 2, 'compelled': 8, 'scene': 14, 'suppose': 38, 'condescension': 6, 'meanwhile': 31, 'generation': 5, 'nicholas': 627, 'undergraduate': 1, 'counts': 69, 'snya': 411, 'niece': 14, 'restrain': 27, 'within': 86, 'bounds': 3, 'decorum': 4, 'mirth': 4, 'dashed': 13, 'impetuously': 6, 'amusing': 21, 'scandals': 2, 'suppress': 6, 'fair': 25, 'enthusiasm': 25, 'failed': 20, 'related': 25, 'quietly': 55, 'humorously': 1, 'aged': 18, 'cracked': 9, 'across': 116, 'skull': 6, 'shaking': 36, 'control': 20, 'rushed': 78, 'fast': 23, 'nimble': 2, 'carry': 53, 'werent': 7, 'mamma': 102, 'returning': 48, 'angrily': 78, 'vexed': 17, 'program': 9, 'disturbed': 15, 'remaining': 23, 'slender': 22, 'brunette': 1, 'tender': 48, 'veiled': 8, 'lashes': 4, 'thick': 32, 'plaits': 3, 'coiling': 1, 'twice': 53, 'tawny': 1, 'tint': 2, 'complexion': 1, 'graceful': 9, 'muscular': 11, 'neck': 67, 'movements': 55, 'softness': 5, 'flexibility': 1, 'limbs': 4, 'coyness': 1, 'reserve': 11, 'kitten': 7, 'promises': 4, 'cat': 4, 'passionate': 23, 'girlish': 6, 'adoration': 4, 'single': 78, 'instant': 63, 'impose': 2, 'spring': 38, 'energy': 23, 'pointing': 77, 'friendships': 3, 'university': 4, 'archives': 1, 'department': 6, 'isnt': 44, 'theyve': 24, 'hussars': 109, 'flaring': 4, 'shameful': 9, 'aspersion': 1, 'simply': 77, 'regarding': 13, 'approbation': 2, 'schubert': 2, 'colonel': 104, 'pvlograd': 20, 'playfully': 3, 'stay': 57, 'diplomat': 6, 'clerk': 22, 'flirtatiousness': 1, 'feasting': 2, 'gambols': 1, 'display': 10, 'kittenish': 1, 'nature': 31, 'flares': 1, 'heads': 53, 'ensign': 2, 'grant': 18, 'elders': 10, 'julie': 60, 'rostv': 715, 'arkhrovs': 4, 'thursday': 3, 'flattered': 14, 'engaged': 32, 'confidential': 4, 'involuntary': 16, 'stabbed': 1, 'heart': 175, 'unnaturally': 13, 'maintain': 13, 'vanished': 20, 'wear': 10, 'hearts': 21, 'sleeves': 24, 'cousinagedangereux': 1, 'voisinage': 2, 'cousinhood': 2, 'dangerous': 37, 'neighborhood': 7, 'brightness': 5, 'answering': 30, 'rejoice': 7, 'greater': 64, 'joy': 80, 'depends': 18, 'childrens': 11, 'parents': 32, 'secrets': 13, 'confidante': 1, 'impulsive': 4, 'mischief': 3, 'youngsters': 1, 'solved': 7, 'perplexing': 1, 'volcano': 2, 'takes': 25, 'shes': 51, 'truth': 83, 'shell': 22, 'singer': 4, 'salomoni': 1, 'lessons': 15, 'harms': 2, 'train': 24, 'concerned': 24, 'occupied': 90, 'forbid': 4, 'meant': 82, 'utters': 1, 'accord': 24, 'stricter': 1, 'differently': 19, 'vra': 63, 'enhance': 1, 'vras': 6, 'therefore': 71, 'learning': 13, 'appropriate': 4, 'strange': 159, 'everyonethe': 2, 'aliketurned': 1, 'wondering': 9, 'awkward': 31, 'exceptional': 8, 'denying': 1, 'splendidly': 9, 'winking': 9, 'promising': 3, 'impatient': 9, 'stamped': 4, 'foot': 86, 'discreet': 1, 'quickly': 138, 'swiftly': 12, 'flower': 15, 'tubs': 6, 'brushed': 14, 'dust': 24, 'mirror': 13, 'examined': 20, 'peered': 4, 'ambush': 6, 'muttering': 17, 'checked': 13, 'impulse': 14, 'watchingas': 1, 'invisible': 11, 'capto': 1, 'experiencing': 8, 'sobbed': 11, 'onya': 1, 'torture': 7, 'mere': 22, 'pull': 12, 'crying': 23, 'stirring': 9, 'scarcely': 51, 'breathing': 32, 'forgive': 57, 'significant': 19, 'led': 111, 'grew': 124, 'confused': 57, 'picked': 24, 'kiss': 44, 'attentively': 32, 'plants': 3, 'closer': 31, 'cuffs': 3, 'solemnity': 11, 'inaudibly': 3, 'tub': 3, 'embraced': 39, 'clasped': 9, 'tossing': 3, 'slipped': 14, 'flowerpots': 1, 'please': 134, 'sixteen': 20, 'counted': 6, 'satisfaction': 49, 'adjoining': 11, 'tired': 29, 'orders': 201, 'porter': 18, 'invite': 6, 'tte': 10, 'frank': 8, 'value': 27, 'pressed': 80, 'hurt': 27, 'sooner': 21, 'couples': 8, 'pair': 20, 'scornfully': 2, 'copying': 7, 'verses': 21, 'guilty': 25, 'roused': 16, 'inkstand': 2, 'minute': 40, 'dipping': 1, 'pen': 3, 'wrong': 65, 'rushing': 12, 'lingered': 7, 'defense': 15, 'getting': 77, 'warmer': 3, 'berg': 91, 'behavior': 6, 'behaving': 5, 'natlya': 2, 'ilynchna': 2, 'behaves': 1, 'complain': 7, 'mortified': 7, 'slightly': 60, 'vogue': 6, 'bother': 2, 'youve': 42, 'loved': 120, 'genlis': 6, 'nickname': 4, 'bestowed': 3, 'stinging': 6, 'flirt': 4, 'nicholassaid': 1, 'upset': 20, 'nursery': 17, 'flock': 3, 'birds': 9, 'irritating': 4, 'unmoved': 1, 'scarf': 11, 'colder': 1, 'calmer': 6, 'roses': 3, 'club': 46, 'easygoing': 1, 'hunting': 23, 'wonder': 19, 'annettehow': 1, 'rush': 17, 'ministers': 14, 'astonishing': 2, 'couldnt': 9, 'possibly': 15, 'widow': 7, 'distraction': 4, 'learns': 1, 'pride': 30, 'lawsuit': 2, 'taught': 12, 'note': 44, 'interview': 27, 'timestill': 1, 'apply': 9, 'cadet': 21, 'agreed': 33, 'enthusiastically': 3, 'forgetting': 25, 'humiliation': 6, 'endured': 4, 'gain': 12, 'acted': 22, 'rumyntsovs': 1, 'paid': 41, 'attentions': 6, 'overflowing': 7, 'amiability': 3, 'command': 130, 'happiness': 126, 'sadly': 16, 'dropping': 14, 'progress': 23, 'literally': 1, 'penny': 3, 'equip': 2, 'handkerchief': 40, 'ruble': 15, 'assist': 6, 'godsonyou': 1, 'godfatherand': 1, 'trouble': 33, 'filled': 64, 'pondered': 14, 'sin': 19, 'tremendous': 6, 'worth': 29, 'surely': 12, 'grandees': 2, 'stake': 13, 'practical': 17, 'luck': 23, 'danced': 25, 'tars': 3, 'distinguishes': 2, 'orlv': 15, 'drove': 78, 'straw': 14, 'courtyard': 17, 'mantle': 6, 'timidly': 35, 'tenderly': 16, 'attentive': 16, 'coldly': 20, 'someones': 11, 'entrance': 34, 'scrutinizing': 5, 'rows': 27, 'statues': 2, 'niches': 1, 'princesses': 19, 'excellency': 123, 'worse': 48, 'imploringly': 4, 'soothe': 4, 'rouse': 5, 'inquiringly': 33, 'tones': 25, 'sergevich': 3, 'announce': 12, 'sullenly': 2, 'pulled': 32, 'bell': 7, 'rang': 21, 'upstairs': 13, 'swallow': 8, 'downstairs': 17, 'landing': 7, 'dyed': 1, 'venetian': 1, 'trodden': 13, 'carpeted': 3, 'stimulating': 3, 'lowering': 15, 'doors': 25, 'apartments': 13, 'assigned': 12, 'sprung': 7, 'bronze': 1, 'handle': 11, 'outwearing': 1, 'star': 10, 'custom': 8, 'hometaking': 1, 'haired': 30, 'humanum': 1, 'est': 16, 'errare': 1, 'swallowing': 3, 'rs': 4, 'pronouncing': 6, 'latin': 2, 'accent': 10, 'err': 2, 'human': 108, 'bow': 24, 'silently': 66, 'inquiry': 20, 'sorrow': 55, 'circumstances': 48, 'unaware': 6, 'offensive': 11, 'fixed': 82, 'questioningly': 4, 'perplexed': 8, 'acknowledging': 6, 'query': 1, 'indicating': 24, 'patient': 6, 'awful': 22, 'forget': 71, 'arranging': 18, 'frill': 2, 'obligation': 8, 'assuming': 9, 'schrers': 1, 'serve': 46, 'princes': 43, 'brusque': 1, 'desire': 74, 'respectfully': 41, 'searching': 16, 'adding': 10, 'shinshin': 1, 'monotonous': 7, 'unlicked': 1, 'absurd': 13, 'pathetic': 15, 'deserved': 7, 'censure': 5, 'hard': 83, 'doctors': 50, 'uncle': 87, 'godson': 1, 'suggesting': 8, 'ought': 101, 'thoughtful': 16, 'finding': 35, 'rival': 5, 'hastened': 21, 'reassure': 6, 'affection': 18, 'uttering': 17, 'assurance': 24, 'unconcern': 3, 'final': 24, 'priceless': 3, 'absolutely': 21, 'prepare': 28, 'painful': 29, 'crisis': 2, 'delay': 24, 'welfare': 31, 'stern': 55, 'length': 18, 'strikingly': 2, 'proportion': 11, 'ambling': 1, 'nurse': 46, 'sympathetically': 4, 'gloves': 13, 'occupying': 10, 'conquered': 5, 'depressed': 11, 'relieve': 3, 'riotous': 3, 'taken': 242, 'tying': 3, 'escapade': 2, 'fatherwho': 1, 'favorably': 3, 'disposed': 11, 'himwould': 1, 'turn': 106, 'nevertheless': 9, 'embroidery': 6, 'frames': 2, 'aloud': 24, 'readingthe': 1, 'embroidering': 1, 'differed': 3, 'mole': 5, 'corpse': 5, 'leper': 1, 'precisely': 7, 'lively': 13, 'disposition': 11, 'evoked': 11, 'foresaw': 4, 'wool': 1, 'canvas': 2, 'refrain': 16, 'pattern': 3, 'recognize': 46, 'unabashed': 3, 'physically': 18, 'mentally': 17, 'increase': 7, 'mental': 29, 'sufferings': 24, 'hm': 10, 'outright': 3, 'olga': 2, 'readyit': 1, 'busy': 36, 'comfortable': 12, 'causing': 6, 'pacing': 23, 'stopping': 22, 'menacing': 10, 'gestures': 8, 'sword': 29, 'foe': 18, 'glaring': 2, 'savagely': 1, 'resuming': 3, 'walk': 46, 'indistinct': 4, 'gesticulating': 7, 'scowling': 6, 'finger': 37, 'unseen': 13, 'mr': 11, 'pitt': 1, 'traitor': 16, 'sentenced': 2, 'pierrewho': 1, 'imagined': 42, 'effected': 2, 'crossing': 51, 'straits': 1, 'dover': 1, 'londoncould': 1, 'pronounce': 3, 'pitts': 1, 'hearty': 3, 'disturbing': 4, 'asks': 15, 'considerable': 7, 'uncomfortable': 22, 'didnt': 51, 'sparrow': 4, 'hills': 81, 'jacquot': 2, 'mistaken': 18, 'deliberately': 14, 'bold': 25, 'attacked': 30, 'mosquitoes': 1, 'bees': 23, 'ive': 45, 'mixed': 8, 'relatives': 4, 'boulogne': 4, 'expedition': 14, 'gets': 16, 'channel': 5, 'villeneuve': 1, 'doesnt': 38, 'mess': 7, 'papers': 46, 'villeneuves': 1, 'parties': 25, 'scandal': 2, 'politics': 13, 'companions': 17, 'afterwards': 43, 'outlive': 1, 'sincerely': 18, 'horrid': 8, 'inadvertently': 1, 'disconcerting': 1, 'flushing': 12, 'changing': 29, 'attitude': 35, 'avoid': 54, 'misunderstandings': 6, 'reckon': 4, 'clumsy': 6, 'shame': 28, 'fully': 39, 'ease': 34, 'rule': 22, 'relieved': 7, 'onerous': 1, 'extricated': 1, 'situation': 18, 'calming': 2, 'courage': 35, 'queer': 13, 'suspected': 6, 'advantages': 14, 'disadvantages': 2, 'summon': 4, 'borsthe': 1, 'warmly': 11, 'piercing': 12, 'imaginary': 5, 'remembrance': 4, 'intelligent': 14, 'early': 53, 'leads': 5, 'lonely': 3, 'unaccountable': 2, 'tenderness': 36, 'spend': 24, 'precious': 21, 'nieces': 1, 'adieu': 5, 'support': 20, 'bonne': 2, 'anybody': 15, 'mammawhat': 1, 'driven': 27, 'rostva': 25, 'applying': 6, 'crossly': 6, 'minutes': 66, 'humiliating': 10, 'poverty': 6, 'sorts': 14, 'calling': 34, 'exaggerated': 4, 'maam': 5, 'waddling': 4, 'saut': 3, 'game': 37, 'madre': 1, 'tasted': 5, 'ruffling': 2, 'commands': 32, 'waistcoat': 14, 'bustling': 6, 'pocketbook': 2, 'cambric': 2, 'wiping': 14, 'hey': 9, 'whos': 14, 'obey': 22, 'summons': 3, 'send': 70, 'stepped': 51, 'softly': 36, 'deferential': 3, 'tattered': 14, 'dirty': 28, 'notes': 22, 'deeply': 31, 'inform': 25, 'uneasy': 12, 'breathe': 6, 'anger': 40, 'treasure': 11, 'departed': 2, 'causes': 44, 'sum': 22, 'spendthrift': 1, 'agitating': 6, 'few': 171, 'refuse': 30, 'blush': 7, 'dignified': 7, 'guessed': 18, 'intention': 39, 'embrace': 12, 'outfit': 2, 'weeping': 17, 'wept': 25, 'theyfriends': 1, 'childhoodhad': 1, 'base': 10, 'number': 78, 'collection': 8, 'turkish': 8, 'pipes': 9, 'hasnt': 7, 'dmtrievna': 90, 'akhrosmova': 3, 'dragon': 1, 'wealth': 22, 'common': 50, 'plainness': 7, 'cities': 2, 'wondered': 13, 'privately': 2, 'rudenesses': 1, 'feared': 39, 'tobacco': 9, 'smoke': 124, 'manifesto': 11, 'recruiting': 5, 'smoking': 12, 'smoked': 5, 'smokers': 1, 'neighbors': 12, 'egged': 1, 'sallow': 17, 'civilian': 14, 'wrinkled': 16, 'stuck': 17, 'amber': 1, 'mouthpiece': 1, 'inhaling': 3, 'bachelor': 9, 'shinshn': 26, 'condescending': 6, 'companion': 35, 'irreproachably': 2, 'washed': 12, 'buttoned': 5, 'pipe': 33, 'inhaled': 3, 'rings': 8, 'lieutenant': 26, 'travel': 12, 'teased': 1, 'occupation': 19, 'playing': 48, 'boston': 9, 'card': 19, 'listener': 1, 'setting': 24, 'loquacious': 1, 'talkers': 1, 'trs': 4, 'honorable': 13, 'alphonse': 1, 'krlovich': 1, 'mixing': 2, 'expressions': 11, 'phraseswhich': 1, 'peculiarity': 6, 'vous': 34, 'comptez': 1, 'faire': 7, 'des': 9, 'rentes': 1, 'sur': 2, 'ltat': 1, 'income': 7, 'peter': 39, 'nikolevich': 5, 'cavalry': 77, 'precision': 10, 'entirely': 28, 'direct': 49, 'bearing': 12, 'hours': 47, 'countenance': 7, 'circumstantially': 1, 'thirty': 50, 'obvious': 21, 'success': 48, 'prominent': 16, 'vacancies': 1, 'occur': 22, 'frequently': 16, 'y': 3, 'german': 91, 'skin': 13, 'flint': 1, 'proverb': 4, 'squares': 4, 'oblivious': 4, 'comrades': 43, 'corps': 46, 'wartime': 3, 'senior': 14, 'succeed': 5, 'popular': 8, 'narrating': 2, 'suspect': 2, 'interests': 50, 'prettily': 2, 'sedate': 2, 'navet': 4, 'egotism': 7, 'disarmed': 3, 'along': 225, 'wherever': 11, 'gofoot': 1, 'horsethat': 1, 'warrant': 1, 'patting': 6, 'joyously': 6, 'zakska': 1, 'engaging': 2, 'food': 41, 'guess': 9, 'glances': 21, 'forsome': 1, 'hors': 3, 'doeuvres': 3, 'dinnertime': 3, 'navely': 8, 'somebody': 19, 'monosyllables': 3, 'curiosity': 47, 'prank': 3, 'oui': 1, 'non': 3, 'inappropriately': 1, 'recently': 14, 'exchanged': 20, 'rough': 16, 'oldest': 3, 'surveying': 3, 'leisurely': 6, 'rolling': 18, 'toned': 2, 'drowned': 13, 'sinner': 3, 'daresay': 2, 'nowhere': 20, 'hunt': 22, 'dogs': 35, 'nestlings': 1, 'hows': 7, 'cossack': 79, 'stroked': 6, 'childs': 8, 'fearless': 3, 'gay': 33, 'scamp': 1, 'pear': 2, 'shaped': 12, 'ruby': 1, 'earrings': 2, 'reticule': 9, 'saints': 10, 'ominously': 1, 'favor': 29, 'expectant': 2, 'prelude': 3, 'lies': 38, 'deathbed': 1, 'astride': 1, 'tutors': 8, 'governesses': 9, 'singly': 7, 'scraped': 4, 'band': 21, 'gallery': 9, 'places': 49, 'strains': 8, 'clatter': 9, 'knives': 4, 'forks': 1, 'farther': 87, 'male': 8, 'midway': 2, 'crystal': 4, 'decanters': 1, 'fruit': 8, 'vases': 1, 'ribbons': 10, 'busily': 4, 'neglecting': 2, 'omitting': 3, 'pineapples': 2, 'redness': 2, 'mens': 22, 'sounded': 26, 'louder': 26, 'ate': 17, 'earthly': 9, 'heavenly': 6, 'soups': 1, 'turtle': 2, 'savory': 4, 'patties': 1, 'wines': 2, 'butler': 7, 'thrust': 20, 'mysteriously': 3, 'wrapped': 23, 'napkin': 11, 'madeira': 3, 'hungarian': 5, 'rhine': 6, 'engraved': 3, 'monogram': 2, 'plate': 10, 'random': 5, 'enjoyment': 15, 'increasing': 20, 'inclined': 8, 'tormented': 34, 'jealousy': 11, 'strained': 12, 'nerve': 1, 'overhear': 3, 'governess': 10, 'uneasily': 18, 'resent': 1, 'dishes': 9, 'kinds': 16, 'dessert': 1, 'description': 7, 'germany': 4, 'greatly': 21, 'quench': 1, 'thirst': 1, 'greediness': 2, 'conscientious': 4, 'declaration': 4, 'forwarded': 2, 'courier': 23, 'deuce': 1, 'fight': 77, 'austrias': 4, 'cackle': 1, 'plethoric': 1, 'patriotically': 2, 'resented': 2, 'shinshns': 3, 'reasson': 2, 'goot': 3, 'zat': 6, 'ze': 9, 'declares': 2, 'manifessto': 1, 'fiew': 1, 'wiz': 1, 'danger': 71, 'vreatening': 1, 'safety': 9, 'empire': 17, 'vell': 2, 'sanctity': 1, 'alliances': 3, 'emphasis': 6, 'unerring': 1, 'official': 33, 'characterized': 1, 'opening': 30, 'constitutes': 10, 'emperors': 136, 'sole': 19, 'absolute': 16, 'aimto': 1, 'establish': 11, 'foundationshas': 1, 'despatch': 1, 'create': 4, 'condition': 76, 'attainment': 7, 'purpose': 50, 'vy': 1, 'tumbler': 6, 'connaissez': 1, 'proverbe*': 1, 'jerome': 2, 'roam': 2, 'puckering': 10, 'cela': 1, 'convient': 1, 'merveille': 1, '2': 45, 'suvrov': 17, 'nowhe': 1, 'beat': 33, 'couture': 1, '3': 26, 'suvrovs': 6, 'je': 17, 'demande': 2, 'un': 15, 'peu': 2, '4': 11, '*do': 1, 'hollow': 31, 've': 5, 'vight': 1, 'tr': 1, 'r': 5, 'op': 1, 'plood': 1, 'thumping': 3, 'zen': 1, 'vill': 3, 'pe': 2, 'discuss': 14, 'po': 2, 'ossible': 2, 'dwelt': 3, 'zeres': 1, 'discussed': 19, 'partner': 25, 'ears': 40, 'intent': 6, 'flaming': 3, 'wineglasses': 1, 'decision': 24, 'desperation': 4, 'facing': 27, 'russians': 144, 'conquer': 6, 'consciousas': 1, 'othersafter': 1, 'emphatic': 3, 'occasion': 16, 'colonels': 6, 'approvingly': 6, 'dmtrievnas': 15, 'inquired': 39, 'demanded': 39, 'exciting': 4, 'truce': 14, 'fret': 3, 'spare': 16, 'battle': 350, 'carried': 96, 'concentrated': 23, 'natshas': 115, 'reckless': 4, 'resolution': 20, 'contralto': 1, 'audible': 19, 'sternly': 39, 'threatening': 17, 'forbidding': 5, 'sweets': 6, 'frown': 21, 'fat': 27, 'threateningly': 10, 'uncertain': 8, 'sally': 1, 'care': 48, 'boldly': 22, 'saucy': 1, 'gaiety': 13, 'doubled': 4, 'ice': 19, 'pudding': 3, 'braved': 1, 'cream': 4, 'carrot': 1, 'ices': 3, 'screamed': 31, 'incredible': 5, 'boldness': 9, 'smartness': 2, 'dared': 28, 'desisted': 1, 'pineapple': 1, 'champagne': 7, 'seats': 7, 'clink': 1, 'redder': 3, 'sets': 6, 'library': 6, 'fanwise': 1, 'nap': 8, 'instigation': 1, 'clavichord': 22, 'harp': 7, 'request': 20, 'variations': 2, 'begging': 10, 'noted': 7, 'musical': 7, 'talent': 8, 'sing': 30, 'treated': 24, 'brook': 5, 'snyas': 31, 'chest': 47, 'passage': 51, 'mourning': 6, 'female': 6, 'downward': 6, 'nurses': 14, 'feather': 13, 'top': 19, 'crumpling': 3, 'gauzy': 1, 'pink': 13, 'sobbing': 23, 'convulsively': 6, 'shiver': 5, 'drooped': 3, 'oo': 9, 'widened': 2, 'wail': 8, 'baby': 34, 'lift': 26, 'deeper': 15, 'striped': 2, 'hugging': 4, 'weeks': 37, 'paper': 58, 'handwith': 1, 'envious': 8, 'gaining': 8, 'difficulties': 18, 'metropolitan': 1, 'spoiling': 7, 'heartless': 4, 'ungrateful': 3, 'truly': 9, 'witness': 7, 'willingly': 6, 'sacrifice': 55, 'consoling': 5, 'copied': 6, 'shed': 63, 'sob': 16, 'bitterly': 6, 'hugged': 4, 'comforting': 11, 'cousins': 4, 'spiteful': 5, 'jump': 7, 'paws': 1, 'worsted': 1, 'crisp': 1, 'lock': 10, 'strayed': 3, 'clung': 10, 'tucking': 3, 'bony': 7, 'sang': 33, 'quartette': 1, 'song': 33, 'learned': 63, 'nighttime': 1, 'moons': 1, 'glow': 18, 'sweet': 24, 'fancies': 7, 'wander': 2, 'thee': 23, 'wafting': 1, 'music': 47, 'oer': 2, 'lea': 1, 'swells': 2, 'message': 14, 'bliss': 11, 'unspoilt': 1, 'verse': 6, 'dance': 37, 'coughing': 4, 'musicians': 5, 'walking': 42, 'dancers': 9, 'figures': 29, 'teacher': 4, 'tuning': 1, 'conspicuous': 4, 'fan': 4, 'pose': 20, 'fanning': 2, 'crossed': 65, 'cossaise': 8, 'majority': 12, 'stretching': 15, 'replacing': 3, 'purses': 1, 'pocketbooks': 1, 'countenances': 2, 'somewhat': 15, 'ballet': 3, 'debonair': 1, 'gallantry': 1, 'clapped': 2, 'violin': 3, 'semn': 1, 'daniel': 36, 'cooper': 5, 'strictly': 7, 'anglaise': 3, 'jovial': 2, 'gentleman': 37, 'straightened': 6, 'toes': 13, 'tapped': 3, 'broadened': 1, 'onlookers': 5, 'provocatively': 2, 'resembling': 12, 'peasant': 70, 'doorways': 2, 'domestic': 21, 'serfsthe': 2, 'otherwho': 1, 'master': 89, 'eagle': 6, 'handed': 57, 'spectators': 2, 'unexpectedness': 2, 'adroit': 5, 'maneuvers': 20, 'agility': 7, 'capered': 1, 'impression': 41, 'exertionsthe': 1, 'bend': 5, 'stamp': 4, 'footwhich': 1, 'view': 82, 'size': 8, 'livelier': 6, 'evolutions': 1, 'watching': 34, 'urging': 10, 'couple': 30, 'intervals': 10, 'faster': 24, 'whirled': 4, 'executed': 32, 'pas': 23, 'backwards': 10, 'bowing': 25, 'perspiring': 15, 'sweep': 2, 'thunder': 5, 'applause': 2, 'partners': 8, 'handkerchiefs': 5, 'puffing': 8, 'sixth': 27, 'tune': 11, 'blundered': 4, 'cooks': 3, 'stroke': 12, 'pronounced': 6, 'recovery': 4, 'mute': 4, 'confession': 6, 'communion': 7, 'administered': 4, 'preparations': 19, 'sacrament': 9, 'unction': 5, 'bustle': 10, 'thrill': 4, 'suspense': 4, 'beyond': 106, 'gates': 22, 'undertakers': 1, 'expectation': 13, 'expensive': 8, 'funeral': 8, 'governor': 33, 'assiduous': 2, 'aides': 16, 'inquire': 10, 'bid': 2, 'farewell': 9, 'magnificent': 3, 'clergy': 7, 'thinner': 9, 'paler': 5, 'escorted': 3, 'leg': 67, 'leaning': 45, 'covering': 16, 'unusually': 8, 'corridor': 23, 'dimly': 16, 'whispers': 12, 'expectancy': 2, 'creaked': 11, 'limits': 6, 'oerpassed': 1, 'priest': 23, 'administer': 2, 'priests': 17, 'clerical': 2, 'madam': 10, 'grizzled': 3, 'strands': 2, 'combed': 3, 'sixty': 14, 'sickroom': 1, 'catherine': 12, 'feels': 26, 'medicine': 13, 'boiled': 5, 'water': 87, 'tartar': 8, 'dere': 1, 'neffer': 1, 'gase': 1, 'dat': 2, 'liffs': 1, 'sird': 1, 'vont': 1, 'according': 70, 'lorrains': 1, 'instructions': 39, 'negative': 6, 'decorous': 1, 'patients': 4, 'tiny': 7, 'lamps': 5, 'burning': 58, 'icons': 29, 'scent': 9, 'flowers': 10, 'pastilles': 1, 'pieces': 20, 'furniture': 10, 'whatnots': 1, 'cupboards': 3, 'quilt': 15, 'screen': 10, 'bark': 6, 'extremely': 14, 'smooth': 21, 'varnish': 3, 'catiche': 10, 'seating': 3, 'wearily': 6, 'vacated': 2, 'warm': 47, 'sit': 68, '*catherine': 1, 'stonily': 1, 'referred': 21, 'naming': 3, 'rigid': 6, 'abnormally': 1, 'directly': 36, 'emotion': 27, 'easier': 11, 'cheeks': 34, 'twitch': 4, 'impudently': 2, 'lap': 3, 'resolved': 23, 'break': 29, 'semnovna': 4, 'theme': 4, 'struggle': 25, 'testily': 2, 'weyou': 1, 'mmontov': 1, 'wifeare': 1, 'heirs': 4, 'definitely': 14, 'pray': 33, 'merciful': 5, 'peacefully': 7, 'impatiently': 11, 'property': 36, 'wills': 12, 'estate': 57, 'clutching': 12, 'legitimation': 1, 'services': 12, 'granted': 10, 'discussion': 15, 'seizing': 26, 'sighed': 55, 'petition': 14, 'legitimate': 9, 'share': 29, 'daylight': 9, 'legal': 8, 'overlooked': 2, 'sardonically': 1, 'btard': 1, 'supposing': 18, 'translation': 1, 'effectively': 1, 'invalidity': 2, 'contention': 2, 'bastard': 1, 'consolation': 15, 'dutiful': 1, 'et': 18, 'tout': 8, 'ce': 11, 'sensuit': 1, 'therefrom': 1, 'perfect': 18, 'assume': 26, 'wrangle': 1, 'kinswoman': 1, 'heiresses': 6, 'expert': 1, 'onfrich': 1, 'solicitor': 1, 'sudden': 15, 'transitions': 2, 'gratitudethis': 1, 'recognition': 8, 'sacrificed': 7, 'meanness': 3, 'deceit': 3, 'envy': 13, 'intrigue': 8, 'ingratitudethe': 1, 'blackest': 1, 'ingratitudein': 1, 'insisted': 35, 'twitching': 15, 'vile': 11, 'intriguing': 2, 'race': 16, 'casually': 9, 'rectify': 3, 'injustice': 7, 'rendering': 5, 'risen': 20, 'justice': 23, 'cunning': 18, 'reasonable': 13, 'sensibly': 3, 'destroy': 35, 'conscientiously': 2, 'intriguingi': 1, 'protg': 4, 'housemaid': 3, 'infamous': 2, 'wheedled': 1, 'disgraceful': 6, 'sophiei': 1, 'repeat': 22, 'themthat': 2, 'fortnight': 17, 'weve': 17, 'lastwhy': 1, 'inlaid': 3, 'portfolio': 10, 'keeps': 5, 'pillow': 20, 'ignoring': 1, 'shrieked': 8, 'worming': 1, 'containing': 14, 'accompany': 9, 'driving': 35, 'rolled': 25, 'windows': 23, 'comfort': 25, 'asleep': 78, 'woke': 18, 'rousing': 2, 'awaited': 34, 'tradespeople': 1, 'shadow': 12, 'pausing': 8, 'coachman': 40, 'narrow': 25, 'stone': 29, 'lagging': 4, 'judging': 19, 'haste': 25, 'knocked': 18, 'pails': 1, 'boots': 61, 'clattering': 3, 'evince': 2, 'permissible': 1, 'id': 27, 'afternoon': 14, 'hadnt': 8, 'wrongs': 5, 'agony': 4, 'trust': 11, 'stronger': 41, 'meekly': 10, 'servant': 32, 'knitting': 8, 'stocking': 6, 'existence': 31, 'decanter': 2, 'tray': 4, 'instinctively': 13, 'slammed': 9, 'action': 192, 'composure': 9, 'depicted': 5, 'guide': 13, 'evinced': 1, 'faintly': 3, 'sumptuous': 1, 'approach': 28, 'bath': 6, 'spilled': 3, 'carpet': 10, 'deacon': 9, 'censer': 1, 'tiptoe': 24, 'bust': 2, 'whispering': 18, 'decisive': 16, 'admission': 3, 'assured': 22, 'casting': 5, 'rapid': 46, 'confessor': 3, 'glided': 5, 'amble': 1, 'exactly': 30, 'seeming': 7, 'grow': 28, 'smaller': 13, 'blessing': 14, 'cast': 12, 'upwards': 6, 'closing': 16, 'respectful': 21, 'disappeared': 32, 'monitress': 2, 'implicitly': 2, 'awe': 10, 'servility': 2, 'deference': 5, 'glove': 7, 'obliged': 19, 'rite': 2, 'bound': 46, 'symmetrically': 4, 'egyptian': 2, 'statue': 3, 'yield': 9, 'guiding': 4, 'majestically': 3, 'ascertain': 5, 'hesitated': 10, 'blow': 33, 'perplexity': 24, 'grasped': 4, 'jerked': 11, 'deacons': 2, 'servants': 57, 'discharge': 5, 'divine': 27, 'inexhaustible': 3, 'stepping': 23, 'permission': 30, 'divided': 17, 'columns': 41, 'arch': 3, 'walls': 28, 'hung': 34, 'persian': 8, 'carpets': 12, 'curtained': 1, 'mahogany': 2, 'bedstead': 9, 'brightly': 23, 'illuminated': 6, 'church': 54, 'gleaming': 3, 'snowy': 4, 'pillows': 11, 'freshly': 11, 'sawcovered': 1, 'waist': 13, 'quiltthe': 1, 'majestic': 22, 'mane': 7, 'lion': 1, 'characteristically': 3, 'ruddy': 5, 'wax': 15, 'taper': 5, 'forefinger': 2, 'thumb': 6, 'glittering': 33, 'vestments': 1, 'tapers': 2, 'conducting': 5, 'vicious': 10, 'declaring': 4, 'meek': 6, 'sorrowful': 8, 'forgiving': 3, 'carved': 5, 'upward': 2, 'piety': 2, 'sentiments': 4, 'menservants': 2, 'separated': 30, 'chanting': 3, 'sighs': 6, 'shuffling': 6, 'distracted': 7, 'observing': 9, 'sophie': 4, 'loving': 35, 'hidden': 21, 'awhile': 14, 'resist': 14, 'temptation': 5, 'stooping': 14, 'beckoned': 9, 'implying': 4, 'foreigner': 7, 'differences': 4, 'approved': 12, 'sick': 45, 'noiseless': 4, 'vigor': 5, 'pulse': 5, 'interval': 4, 'andwith': 1, 'intimated': 1, 'themdid': 1, 'silken': 1, 'hangings': 1, 'occurrence': 7, 'happening': 43, 'congratulating': 1, 'immovable': 1, 'surrounded': 65, 'reddish': 8, 'yellow': 20, 'manewhich': 1, 'judged': 8, 'cautious': 4, 'underneath': 1, 'heavy': 52, 'bearers': 8, 'weight': 17, 'glimpse': 7, 'backs': 9, 'uncovered': 5, 'armpits': 3, 'leonine': 1, 'brow': 11, 'cheekbones': 3, 'sensual': 2, 'disfigured': 4, 'helplessly': 7, 'uneven': 5, 'gaze': 21, 'stately': 4, 'completed': 8, 'propped': 5, 'palms': 4, 'significance': 59, 'mortal': 9, 'suggestion': 9, 'boned': 5, 'fleshy': 3, 'stirred': 12, 'obediently': 4, 'symmetrical': 1, 'utmost': 12, 'lasted': 18, 'muscles': 3, 'increased': 45, 'realize': 30, 'issued': 24, 'hoarse': 18, 'fruitless': 2, 'terror': 37, 'flitted': 7, 'brain': 8, 'refractory': 1, 'feeble': 22, 'deride': 1, 'helplessness': 2, 'unexpected': 37, 'tickling': 2, 'dimmed': 3, 'dozing': 5, 'sympathetic': 3, 'squeeze': 3, 'refreshing': 2, 'sleepless': 11, 'delicious': 8, 'restrained': 8, 'sipping': 2, 'chinese': 3, 'handleless': 1, 'circular': 4, 'fortify': 4, 'mirrors': 9, 'pearls': 9, 'brilliantly': 3, 'disorder': 22, 'motley': 2, 'throng': 10, 'merrymaking': 2, 'somberly': 1, 'bedroom': 24, 'excited': 63, 'permit': 5, 'speakers': 4, 'blandly': 5, 'impressively': 2, 'preventing': 2, 'needs': 31, 'repose': 4, 'worldly': 11, 'flabby': 3, 'heavier': 6, 'violently': 9, 'pleases': 7, 'writing': 42, 'sprang': 22, 'bar': 5, 'implore': 2, 'en': 9, 'conjure': 1, 'efforts': 44, 'flattering': 11, 'tenaciously': 2, 'honeyed': 1, 'firmness': 15, 'consultation': 9, 'permits': 3, 'threshold': 12, 'intriguer': 4, 'hissed': 3, 'viciously': 2, 'grip': 3, 'satisfy': 7, 'astonishment': 13, 'consequences': 7, 'darting': 1, 'noisily': 8, 'banged': 2, 'wringing': 1, 'recovering': 5, 'biting': 6, 'underlip': 1, 'irrepressible': 8, 'bursting': 5, 'staggered': 4, 'jaw': 15, 'ague': 1, 'sincerity': 6, 'deceive': 11, 'slow': 10, 'wetting': 1, 'weep': 22, 'loss': 44, 'imposes': 1, 'coloring': 2, 'shyly': 12, 'acquaintances': 39, 'details': 36, 'died': 52, 'edifying': 2, 'momentsthe': 1, 'pitiful': 11, 'grief': 36, 'sadden': 1, 'uplifts': 1, 'disapprovingly': 8, 'andrevich': 8, 'daily': 6, 'routine': 8, 'paul': 11, 'exiled': 3, 'continuously': 7, 'bourienne': 112, 'reign': 24, 'capitals': 4, 'remarking': 4, 'miles': 58, 'needed': 62, 'sources': 4, 'viceidleness': 1, 'superstition': 2, 'virtuesactivity': 1, 'undertook': 3, 'develop': 3, 'cardinal': 1, 'virtues': 10, 'algebra': 1, 'geometry': 5, 'memoirs': 5, 'solving': 2, 'problems': 5, 'mathematics': 8, 'snuffboxes': 2, 'lathe': 9, 'working': 18, 'garden': 46, 'superintending': 1, 'building': 22, 'regularity': 2, 'prime': 2, 'facilitating': 1, 'activity': 106, 'exactitude': 3, 'conditions': 60, 'invariably': 3, 'exacting': 3, 'hardhearted': 2, 'aroused': 30, 'retirement': 5, 'province': 17, 'antechamber': 5, 'architect': 16, 'gardener': 6, 'punctually': 1, 'enormously': 6, 'powdered': 12, 'wig': 3, 'withered': 5, 'bushy': 6, 'shrewd': 10, 'youthfully': 1, 'trepidation': 3, 'prayer': 38, 'prayed': 24, 'manservant': 2, 'hum': 12, 'noiselessly': 9, 'books': 28, 'plans': 54, 'fronted': 1, 'bookcases': 1, 'keys': 7, 'desk': 6, 'exercise': 15, 'tools': 7, 'shavings': 2, 'scattered': 17, 'aroundall': 1, 'continuous': 10, 'varied': 2, 'orderly': 43, 'shod': 5, 'boot': 11, 'lean': 8, 'sinewy': 5, 'tenacious': 2, 'endurance': 6, 'hardy': 1, 'turns': 19, 'pedal': 1, 'wiped': 15, 'chisel': 2, 'leather': 20, 'pouch': 4, 'summoned': 19, 'bristly': 1, 'cheek': 23, 'unshaven': 2, 'page': 15, 'scratch': 3, 'paragraph': 13, 'nail': 1, 'patches': 7, 'hlose': 2, 'yellowish': 4, 'letters': 61, 'abruptly': 10, 'geometrical': 2, 'acrid': 1, 'triangles': 1, 'angle': 7, 'abc': 1, 'explanations': 8, 'teachers': 3, 'fault': 40, 'pupils': 8, 'dim': 18, 'conscious': 56, 'breath': 23, 'problem': 20, 'vehement': 2, 'scolded': 1, 'flung': 14, 'sharply': 19, 'paced': 28, 'lesson': 8, 'patted': 12, 'uncut': 1, 'key': 5, 'mysteries': 4, 'religious': 9, 'anyones': 8, 'belief': 13, 'rarely': 21, 'sickly': 5, 'plainer': 3, 'miniature': 2, 'portraits': 3, 'littered': 5, 'untidy': 1, 'tidy': 3, 'seal': 8, 'frightful': 3, 'separation': 11, 'separating': 7, 'united': 26, 'indissoluble': 3, 'bonds': 4, 'rebels': 1, 'pleasures': 11, 'distractions': 3, 'overcome': 11, 'parted': 15, 'draw': 25, 'moral': 32, 'penetrating': 8, 'ungraceful': 2, 'hopelessness': 5, 'reflection': 16, 'flatters': 1, 'flatter': 4, 'eyeslarge': 1, 'luminous': 9, 'radiated': 3, 'shafts': 3, 'attraction': 10, 'eyesthe': 1, 'talks': 13, 'brothers': 66, 'frontier': 16, 'intends': 5, 'expose': 9, 'chances': 13, 'corsican': 1, 'monster': 5, 'destroying': 16, 'overthrown': 2, 'angel': 15, 'almighty': 7, 'deprived': 19, 'nearest': 33, 'inactive': 6, 'departure': 46, 'youthfulness': 3, 'seldom': 11, 'nowadays': 16, 'pure': 22, 'poetic': 16, 'transient': 2, 'sweetest': 1, 'comforts': 9, 'suffered': 35, 'someday': 5, 'parting': 7, 'poignant': 1, 'sorrows': 5, 'fortunate': 6, 'intimacy': 15, 'gossips': 2, 'inheritance': 6, 'inherited': 2, 'possessor': 6, 'finest': 3, 'rumored': 5, 'despicable': 2, 'crestfallen': 1, 'owner': 11, 'largest': 11, 'fortunes': 3, 'burdened': 4, 'marriageable': 3, 'chronicles': 1, 'bezkhova': 18, 'marriages': 4, 'universal': 24, 'auntie': 3, 'strict': 8, 'secrecy': 6, 'marriage': 57, 'distingue': 1, 'fallen': 55, 'scapegrace': 2, 'sheet': 12, 'mystical': 4, 'grasp': 22, 'admirable': 10, 'calms': 1, 'elevates': 1, 'respects': 6, 'compliments': 2, 'p': 2, 'transformed': 6, 'tread': 7, '13th': 3, 'delight': 35, 'romantic': 9, 'religion': 22, 'feelings': 68, 'approve': 10, 'condemn': 6, 'neighbor': 23, 'enemy': 205, 'worthier': 1, 'sweeter': 2, 'inspire': 5, 'representative': 13, 'century': 10, 'preserve': 12, 'misfortune': 26, 'quality': 9, 'saviours': 1, 'camel': 1, 'kingdom': 13, 'terribly': 14, 'richesto': 1, 'temptations': 8, 'exposed': 16, 'poorer': 4, 'poorest': 2, 'beggar': 1, 'thanks': 31, 'volume': 2, 'contains': 1, 'useless': 28, 'fondness': 1, 'confusing': 3, 'dwelling': 3, 'awaken': 4, 'doubts': 24, 'excite': 3, 'imagination': 36, 'exaggeration': 1, 'simplicity': 19, 'epistles': 1, 'gospels': 4, 'seek': 23, 'penetrate': 6, 'miserable': 7, 'sinners': 4, 'holy': 44, 'providence': 11, 'flesh': 16, 'forms': 15, 'impenetrable': 4, 'veil': 6, 'eternal': 20, 'confine': 1, 'studying': 7, 'sublime': 7, 'rules': 29, 'guidance': 7, 'conform': 3, 'persuaded': 9, 'rejects': 2, 'fathom': 5, 'conceal': 23, 'vouchsafe': 1, 'revelation': 4, 'suitor': 7, 'institution': 2, 'faithfully': 3, 'disquieting': 3, 'examining': 21, 'announces': 1, 'speedy': 3, 'brief': 11, 'areat': 1, 'worldis': 1, 'fieldwork': 1, 'naturewhich': 1, 'townsfolk': 2, 'characteristic': 17, 'countryrumors': 1, 'painfully': 22, 'marches': 9, 'countermarches': 1, 'witnessed': 13, 'heartrending': 1, 'convoy': 26, 'conscripts': 1, 'enrolled': 6, 'wives': 12, 'sobs': 41, 'laws': 105, 'injuriesand': 1, 'attribute': 5, 'merit': 15, 'skill': 11, 'killing': 21, 'dispatched': 9, 'mellow': 1, 'guttural': 2, 'marys': 53, 'strenuous': 3, 'atmosphere': 18, 'lighthearted': 5, 'grasseyement': 1, 'scolding': 3, 'ivnovich': 33, 'humor': 12, 'morose': 11, 'practice': 6, 'mapped': 1, 'valet': 40, 'drowsily': 1, 'snoring': 5, 'passagestwenty': 1, 'repeatedof': 1, 'sonata': 3, 'dussek': 1, 'hood': 11, 'alight': 3, 'tkhon': 79, 'reported': 36, 'sleeping': 20, 'unusual': 16, 'event': 86, 'habits': 17, 'stouter': 6, 'palace': 30, 'practicing': 2, 'courteous': 6, 'frenchwoman': 12, 'oft': 1, 'wedding': 14, 'whatever': 66, 'beatific': 4, 'equally': 21, 'lovers': 7, 'false': 39, 'otherwise': 24, 'dreamed': 14, 'crybaby': 1, 'incessantly': 19, 'nether': 1, 'accident': 5, 'spsski': 1, 'hill': 83, 'informed': 37, 'clothes': 31, 'kitty': 1, 'odntsova': 1, 'independent': 18, 'promotion': 8, 'descended': 25, 'walks': 3, 'avenues': 2, 'weaknesses': 4, 'gleefully': 3, 'delights': 1, 'fashioned': 6, 'antique': 4, 'dressing': 68, 'contemptuous': 14, 'powdering': 1, 'entrusting': 2, 'warrior': 6, 'vanquish': 3, 'plait': 7, 'tackle': 1, 'subjects': 12, 'temper': 21, 'silverbefore': 1, 'golden': 15, 'sidelong': 4, 'topicmaking': 1, 'fun': 22, 'abstemious': 1, 'hobby': 2, 'germans': 32, 'science': 39, 'strategy': 2, 'collect': 9, 'wits': 4, 'foibles': 1, 'honoring': 1, 'settle': 18, 'pigtail': 1, 'plaited': 5, 'grasping': 8, 'nineteen': 2, 'dozen': 18, 'mikhelsons': 1, 'understandtolsty': 1, 'simultaneous': 3, 'southern': 5, 'neutral': 1, 'handing': 13, 'articles': 8, 'clothing': 4, 'sweden': 2, 'pomerania': 2, 'beganat': 1, 'unconsciously': 26, 'operation': 3, 'campaign': 102, 'ninety': 2, 'threaten': 4, 'swedish': 4, 'stralsund': 1, 'austrians': 19, 'operate': 7, 'italy': 11, 'land': 31, 'naples': 12, 'total': 7, 'explanation': 40, 'confined': 12, 'reproachfully': 15, 'interruption': 1, 'malbrook': 1, 'sen': 1, 'va': 2, 't': 4, 'guerre': 2, 'sait': 4, 'quand': 5, 'reviendra': 3, 'marlborough': 1, 'meditatively': 2, 'caprice': 7, 'employers': 2, 'admitted': 27, 'individual': 18, 'caused': 52, 'distinctions': 5, 'officials': 13, 'selected': 12, 'illustrate': 1, 'equals': 2, 'impressed': 8, 'whit': 1, 'usually': 35, 'taciturn': 7, 'members': 48, 'footmenone': 1, 'chairstood': 1, 'scanning': 6, 'gilt': 5, 'genealogical': 2, 'tree': 29, 'painted': 8, 'artist': 2, 'ruling': 4, 'crownan': 1, 'alleged': 5, 'descendant': 1, 'rrik': 1, 'ancestor': 1, 'laughs': 2, 'original': 16, 'reverence': 2, 'achilles': 6, 'heel': 4, 'indulging': 1, 'criticism': 5, 'contrasting': 2, 'briskness': 3, 'formality': 3, 'shrill': 10, 'courtiers': 18, 'tsar': 46, 'enters': 9, 'sensation': 14, 'ho': 8, 'rounded': 5, 'hurry': 32, 'mutual': 7, 'chattered': 5, 'various': 84, 'retelling': 2, 'sufficiently': 9, 'collected': 18, 'peg': 2, 'hang': 8, 'tactician': 2, 'statesmen': 2, 'babies': 3, 'b': 11, 'c': 9, 'frenchy': 3, 'successful': 8, 'potmkins': 4, 'oppose': 5, 'puppet': 3, 'pretending': 15, 'ridicule': 17, 'moreau': 5, 'frederick': 4, 'prisoner': 41, 'hofs': 2, 'kriegs': 2, 'wurst': 2, 'schnapps': 1, 'rath': 1, 'puzzled': 6, 'raths': 1, 'chance': 53, 'pahlen': 1, 'york': 1, 'america': 1, 'alluding': 7, 'orlvs': 2, 'outlived': 2, 'hoped': 26, 'spoon': 6, 'soldiers': 364, 'attacking': 20, 'idlers': 1, 'beaten': 29, 'oneexcept': 1, 'fighting': 45, 'blunders': 4, 'campaigns': 8, 'arguments': 22, 'presented': 72, 'refraining': 3, 'involuntarily': 76, 'minutely': 6, 'acutely': 3, 'recent': 15, 'european': 20, 'events': 116, 'troubles': 10, 'admirer': 2, 'powder': 16, 'monkey': 4, 'bonapartist': 3, 'quitted': 5, 'retired': 29, 'traveling': 19, 'epaulettes': 3, 'packing': 13, 'inspecting': 5, 'trunks': 8, 'harnessed': 11, 'box': 49, 'canteen': 6, 'fitted': 5, 'pistols': 7, 'sabera': 1, 'siege': 4, 'ochkov': 1, 'effects': 6, 'cloth': 17, 'covers': 4, 'tapes': 2, 'journey': 50, 'mode': 4, 'reviews': 4, 'thoughtfully': 7, 'unclasped': 1, 'cover': 17, 'tranquil': 20, 'harness': 24, 'panting': 12, 'andrsha': 4, 'andrshathe': 1, 'mischievous': 4, 'playfellow': 1, 'indulgent': 2, 'comprendre': 1, 'cest': 10, 'pardonner': 1, 'buried': 5, 'alonefor': 1, 'resources': 3, 'entertaining': 6, 'savage': 7, 'likes': 7, 'sterne': 1, 'homeless': 1, 'reads': 4, 'evenings': 6, 'aghast': 3, 'harsh': 8, 'puzzle': 1, 'test': 8, 'trend': 4, 'conversationand': 1, 'veneration': 2, 'evoke': 1, 'contented': 12, 'incredulously': 3, 'intellect': 15, 'fail': 12, 'astray': 5, 'shade': 21, 'improvement': 5, 'satire': 1, 'bitter': 11, 'monk': 5, 'wasting': 4, 'banteringly': 1, 'ami': 3, 'nopromise': 1, 'unworthy': 8, 'inside': 21, 'guessing': 9, 'grandfather': 7, 'bless': 4, 'icon': 43, 'weigh': 1, 'hundredweight': 1, 'pained': 6, 'repented': 2, 'trembling': 42, 'oval': 1, 'wrought': 1, 'rays': 12, 'generous': 5, 'harshly': 2, 'complained': 6, 'msha': 8, 'blamed': 11, 'forebodings': 1, 'confinement': 3, 'dreaded': 8, 'reproached': 15, 'unaccustomed': 4, 'darkness': 50, 'orgo': 1, 'wake': 17, 'petrshka': 1, 'maybe': 4, 'wing': 22, 'artless': 2, 'secluded': 2, 'passages': 8, 'contempt': 24, 'awake': 17, 'restraint': 6, 'zbova': 3, 'cheat': 3, 'ha': 50, 'reminiscences': 9, 'coach': 20, 'autumn': 28, 'pole': 11, 'lanterns': 5, 'dilly': 1, 'dallying': 1, 'apron': 11, 'strings': 7, 'quill': 3, 'squeaked': 4, 'due': 47, 'accoucheur': 1, 'million': 7, 'cases': 22, 'dream': 34, 'signed': 9, 'flourish': 2, 'briefly': 9, 'theyre': 26, 'unmarry': 1, 'keen': 12, 'fold': 3, 'throwing': 27, 'rapidity': 19, 'abrupt': 6, 'sealing': 7, 'displeased': 16, 'worry': 5, 'receives': 10, 'rightserve': 1, 'disfavor': 3, '*kutzov': 1, 'lid': 9, 'drawer': 5, 'handwriting': 3, 'lombard': 1, 'bond': 4, 'premium': 1, 'history': 155, 'academy': 1, 'jottings': 1, 'useful': 21, 'youas': 1, 'twitched': 14, 'spectacled': 3, 'wigless': 1, 'ironic': 10, 'performance': 10, 'unconscious': 17, 'cautiously': 10, 'released': 10, 'chafing': 1, 'temples': 16, 'supporting': 7, 'pistol': 36, 'shots': 24, 'frequent': 12, 'blowing': 9, 'reprovingly': 1, 'october': 28, 'villages': 28, 'towns': 12, 'archduchy': 1, 'regiments': 35, 'arriving': 16, 'fortress': 3, 'braunau': 14, 'burdening': 2, 'inhabitants': 46, 'quartered': 10, 'headquarters': 41, 'halted': 26, 'mile': 24, 'inspected': 4, 'locality': 10, 'surroundingsfruit': 1, 'gardens': 9, 'fences': 4, 'tiled': 1, 'roofs': 14, 'distanceand': 1, 'inspect': 6, 'regimental': 48, 'arose': 21, 'troops': 261, 'marching': 27, 'battalion': 43, 'commanders': 64, 'parade': 17, 'principle': 8, 'mending': 2, 'cleaning': 5, 'calculated': 6, 'reckoned': 6, 'regimentinstead': 1, 'straggling': 3, 'disorderly': 7, 'crowd': 210, 'beforepresented': 1, 'array': 2, 'button': 6, 'strap': 4, 'cleanliness': 7, 'externally': 3, 'uniforms': 34, 'knapsack': 7, 'awl': 1, 'soap': 1, 'circumstance': 3, 'concerning': 30, 'holes': 2, 'demands': 15, 'austrian': 69, 'commissariat': 14, 'marched': 22, 'choleric': 2, 'whiskers': 6, 'wider': 2, 'brand': 2, 'creases': 2, 'folded': 15, 'stand': 51, 'lie': 41, 'massive': 4, 'happily': 13, 'performing': 8, 'arching': 3, 'admired': 12, 'rejoiced': 4, 'engrossed': 12, 'strut': 1, 'sex': 2, 'mtrich': 3, 'perceived': 3, 'field': 143, 'tsartsin': 1, 'meadow': 15, 'road': 201, 'signalers': 1, 'posted': 9, 'confirm': 9, 'worded': 3, 'namely': 13, 'greatcoats': 10, 'packs': 7, 'preparation': 11, 'hofkriegsrath': 7, 'proposals': 8, 'archduke': 13, 'ferdinand': 7, 'mack': 19, 'junction': 7, 'advisable': 1, 'resolutely': 17, 'sergeants': 5, 'major': 55, 'relating': 14, 'personage': 14, 'companies': 15, 'sway': 4, 'stretch': 6, 'knapsacks': 8, 'jerk': 3, 'straps': 3, 'unstrapping': 1, 'overcoats': 7, 'upraised': 1, 'jerky': 5, 'misrepeated': 1, 'destination': 5, 'trotted': 7, 'captains': 12, 'uneasiness': 8, 'schoolboy': 8, 'spots': 5, 'intemperance': 1, 'captain': 103, 'slackening': 4, 'pace': 32, 'petticoats': 2, 'thrusting': 6, 'soldier': 187, 'greatcoat': 14, 'bluish': 6, 'contrasted': 2, 'teach': 22, 'coats': 12, 'rigidly': 1, 'salvation': 9, 'austere': 2, 'gibe': 1, 'nobody': 29, 'reduced': 12, 'marshal': 52, 'regulation': 1, 'cooling': 1, 'renewed': 9, 'decently': 4, 'directed': 49, 'wrath': 9, 'snapped': 2, 'unpolished': 1, 'h': 4, 'w': 2, 'wheres': 9, 'sergeant': 38, 'ras': 1, 'insults': 1, 'tight': 13, 'signaler': 1, 'stirrup': 8, 'saddle': 37, 'righted': 2, 'awry': 4, 'shout': 19, 'fluttered': 4, 'bird': 9, 'preening': 1, 'plumage': 1, 'motionless': 33, 'att': 1, 'ention': 1, 'welcome': 10, 'edged': 2, 'trees': 37, 'viennese': 3, 'calche': 29, 'creaking': 7, 'springs': 8, 'smart': 20, 'trot': 21, 'galloped': 99, 'suite': 73, 'croats': 1, 'treading': 5, 'breathlessly': 4, 'jingling': 9, 'amidst': 1, 'roared': 6, 'ex': 6, 'len': 2, 'lency': 2, 'saluted': 3, 'devoured': 2, 'obsequiously': 2, 'subordinate': 7, 'zeal': 9, 'strictness': 2, 'assiduity': 1, 'comparison': 13, '217': 1, 'stragglers': 7, 'blaming': 4, 'miss': 19, 'chiefs': 26, 'comrade': 21, 'nesvtski': 66, 'moist': 16, 'provoked': 4, 'swarthy': 5, 'mimicked': 5, 'nudged': 3, 'wag': 4, 'sockets': 1, 'timkhin': 28, 'recognizing': 31, 'nosed': 9, 'reprimanded': 3, 'extent': 13, 'sustained': 2, 'flitting': 1, 'scarred': 3, 'puffy': 6, 'ismail': 3, 'brave': 19, 'latterunconscious': 1, 'glassstarted': 1, 'predilection': 1, 'bacchus': 1, 'stomach': 19, 'complete': 39, 'recollect': 1, 'remind': 7, 'complaint': 3, 'shant': 13, 'convention': 5, 'separates': 2, 'deliberate': 7, 'atone': 5, 'quarters': 52, 'grudge': 10, 'prokhr': 1, 'igntych': 1, 'overtaking': 7, 'riding': 65, 'hasty': 5, 'apologize': 10, 'butt': 4, 'gun': 41, 'himhe': 7, 'pleaseive': 1, 'askhow': 1, 'punctilious': 2, 'wild': 12, 'beast': 21, 'poland': 19, 'jew': 1, 'sought': 32, 'reining': 2, 'mocking': 5, 'vodka': 22, 'praised': 10, 'rode': 221, 'subaltern': 2, 'infected': 6, 'blind': 15, 'sharper': 5, 'bands': 16, 'smeared': 8, 'chalkas': 1, 'flour': 6, 'polish': 43, 'guns': 101, 'fdeshon': 1, 'battles': 28, 'prussians': 5, 'youd': 17, 'devils': 11, 'quartermasters': 4, 'fifth': 31, 'buckwheat': 5, 'cooked': 3, 'biscuit': 8, 'halt': 16, 'eating': 19, 'wasnt': 10, 'lifts': 1, 'beggarly': 1, 'polesall': 1, 'crownbut': 1, 'singers': 14, 'drummer': 14, 'leader': 14, 'flourishing': 16, 'commencing': 2, 'dawned': 2, 'sun': 60, 'concluding': 1, 'kmenski': 7, 'composed': 11, 'sung': 6, 'flinging': 3, 'drummera': 1, 'fortylooked': 1, 'seconds': 21, 'bower': 3, 'castanet': 1, 'player': 3, 'flourished': 5, 'castanets': 1, 'swinging': 8, 'spontaneously': 3, 'tramp': 10, 'hoofs': 23, 'singing': 48, 'smartly': 5, 'file': 4, 'flank': 96, 'attracted': 21, 'zherkv': 37, 'ranker': 1, 'cordiality': 3, 'flavor': 2, 'intentional': 1, 'coldness': 7, 'wriggled': 1, 'hawk': 1, 'fly': 25, 'arousing': 6, 'cheerfulness': 4, 'faro': 1, 'sworn': 1, 'reinstated': 2, 'engagement': 42, 'begill': 1, 'native': 8, 'pranced': 3, 'excitedly': 7, 'review': 21, 'advanced': 56, 'required': 17, 'exclamation': 7, 'elegance': 2, 'depended': 16, 'personal': 59, 'francis': 14, 'fulfilled': 12, 'honour': 1, 'supreme': 7, 'skillful': 13, 'generalof': 1, 'manyand': 1, 'grounds': 4, 'option': 1, 'excellencys': 3, 'participation': 7, 'valued': 12, 'depriving': 5, 'laurels': 2, 'win': 20, 'prearranged': 4, 'highness': 46, 'honored': 18, 'victory': 83, 'aid': 20, 'defeat': 23, 'confirming': 3, 'rumors': 17, 'afloat': 1, 'macks': 4, 'stated': 5, 'strategically': 1, 'favorable': 5, 'itand': 2, 'ferdinands': 1, 'seventy': 9, 'lech': 2, 'masters': 27, 'ulm': 11, 'advantage': 30, 'commanding': 23, 'danube': 15, 'communications': 1, 'recross': 2, 'river': 57, 'frustrate': 1, 'ally': 6, 'confidently': 5, 'await': 14, 'equipped': 3, 'conjunction': 4, 'deserves': 4, 'mildly': 3, 'wise': 13, 'maxim': 1, 'advising': 3, 'worst': 19, 'jests': 5, 'kozlvski': 17, 'scouts': 5, 'nostitz': 2, 'neat': 1, 'memorandum': 8, 'period': 40, 'indolence': 3, 'brighter': 13, 'overtaken': 6, 'commissions': 8, 'bids': 1, 'industry': 1, 'reputations': 1, 'minority': 3, 'acknowledged': 5, 'imitated': 1, 'disliked': 14, 'conceited': 4, 'advancing': 27, 'maria': 3, 'theresa': 3, 'bandage': 4, 'slamming': 2, 'unknown': 65, 'calmly': 21, 'notebook': 8, 'scribbled': 1, 'pencil': 4, 'tore': 10, 'leaf': 1, 'stretched': 15, 'producing': 7, 'bandaged': 17, 'strides': 7, 'voyez': 1, 'malheureux': 1, 'immobile': 1, 'wave': 12, 'report': 69, 'circulated': 3, 'surrendered': 15, 'proved': 31, 'hitherto': 9, 'disaster': 4, 'armys': 6, 'vividly': 23, 'arrogant': 2, 'encounter': 20, 'genius': 60, 'outweigh': 1, 'disgraced': 6, 'irritated': 14, 'shared': 13, 'glum': 1, 'strauch': 1, 'charge': 28, 'provisioning': 2, 'breathless': 11, 'embarrassing': 6, 'glee': 2, 'seriousness': 2, 'bruised': 4, 'gott': 1, 'wie': 1, 'naiv': 1, 'vent': 11, 'zherkvs': 3, 'untimely': 2, 'jest': 13, 'buffoon': 10, 'dare': 36, 'congratulated': 6, 'jesting': 9, 'nesvtskis': 5, 'rejoicing': 9, 'successes': 5, 'grieving': 2, 'misfortunes': 13, 'lackeys': 3, 'quarante': 2, 'mille': 1, 'hommes': 2, 'massacrs': 1, 'larme': 2, 'nos': 1, 'allis': 1, 'dtruite': 1, 'trouvez': 1, 'l': 2, 'mot': 7, 'pour': 11, 'rire': 1, 'strengthening': 3, 'bien': 2, 'garon': 2, 'rien': 2, 'cet': 1, 'individu': 1, 'avez': 1, 'fait': 4, 'mais': 5, 'hobbledehoy': 1, 'amuse': 9, 'russianbut': 1, 'accenthaving': 1, 'massacred': 2, 'allies': 12, 'stationed': 28, 'squadron': 62, 'salzeneck': 2, 'densov': 372, 'throughout': 11, 'division': 50, 'vska': 15, 'astir': 2, 'proceeding': 8, 'foraging': 5, 'supple': 6, 'loathe': 1, 'bondarnko': 2, 'headlong': 9, 'brotherly': 7, 'goodhearted': 3, 'ukrainian': 2, 'reins': 17, 'snaffle': 1, 'bridle': 4, 'liberal': 7, 'landlord': 4, 'pitchfork': 1, 'clearing': 11, 'manure': 4, 'cowhouse': 1, 'schn': 16, 'gut': 2, 'morgen': 2, 'greet': 6, 'schon': 1, 'fleissig': 1, 'hoch': 4, 'oestreicher': 1, 'russen': 2, 'kaiser': 1, 'hurrah': 59, 'cowshed': 3, 'waving': 14, 'und': 2, 'ganze': 2, 'welt': 2, 'vivat': 4, 'platoon': 4, 'hay': 24, 'wagged': 2, 'cottage': 3, 'lavrshka': 35, 'densovs': 56, 'rogue': 1, 'wins': 2, 'brag': 1, 'stays': 2, 'rage': 12, 'coffee': 10, 'tousled': 2, 'crumpled': 6, 'shako': 7, 'gloomily': 11, 'lavwska': 1, 'blockhead': 5, 'lavrshkas': 2, 'frulein': 1, 'mathilde': 1, 'weally': 2, 'bwother': 2, 'damned': 6, 'hullo': 3, 'stubby': 1, 'tangled': 3, 'wat': 1, 'rat': 1, 'cahd': 2, 'gripped': 2, 'fist': 5, 'sparks': 6, 'singles': 2, 'collahs': 1, 'doubles': 2, 'snatches': 3, 'cheerfully': 12, 'foh': 1, 'dwink': 3, 'clinking': 3, 'quartermaster': 16, 'wetched': 3, 'wostv': 9, 'deah': 1, 'shove': 5, 'undah': 1, 'mechanically': 6, 'coins': 1, 'separate': 22, 'piles': 4, 'telynin': 23, 'dye': 4, 'plucked': 3, 'bykovs': 1, 'rats': 1, 'piping': 1, 'damp': 22, 'detested': 4, 'groundless': 3, 'antipathy': 7, 'cavalryman': 4, 'rook': 6, 'sold': 13, 'wandered': 7, 'rubbles': 1, 'begun': 81, 'lame': 1, 'foreleg': 2, 'rivet': 2, 'squatting': 5, 'reporting': 10, 'disgust': 10, 'ugh': 3, 'regardless': 16, 'indolent': 1, 'disgusting': 2, 'carelessly': 8, 'yesterdays': 10, 'shoe': 3, 'stable': 5, 'hoof': 1, 'sausage': 6, 'scratching': 4, 'witing': 2, 'quicker': 15, 'fwiend': 4, 'childwen': 1, 'falls': 12, 'pua': 1, 'fihst': 1, 'cweation': 1, 'abashed': 12, 'puhse': 1, 'scacwow': 1, 'quahtehmasteh': 1, 'lend': 3, 'bowwowing': 1, 'growled': 3, 'offend': 4, 'miwacle': 1, 'thwow': 1, 'pockets': 7, 'bedding': 2, 'searched': 2, 'twicks': 1, 'congested': 1, 'throat': 27, 'yourselves': 5, 'alive': 45, 'purple': 15, 'flog': 2, 'avoiding': 16, 'buttoning': 6, 'buckled': 4, 'knocking': 6, 'hinted': 6, 'veins': 4, 'cords': 6, 'flay': 2, 'scoundwel': 1, 'unsteady': 6, 'dahe': 1, 'evewybody': 1, 'telynins': 8, 'cadets': 5, 'troubled': 12, 'missed': 19, 'situated': 7, 'inn': 16, 'frequented': 4, 'sausages': 1, 'munching': 7, 'lunch': 9, 'pocket': 22, 'double': 17, 'waiter': 3, 'coin': 5, 'inaudible': 1, 'shifting': 9, 'feed': 5, 'elses': 4, 'flash': 4, 'electric': 3, 'spark': 3, 'shot': 48, 'catching': 15, 'dragging': 20, 'ear': 20, 'despairing': 10, 'pardon': 15, 'load': 3, 'quiver': 5, 'shifted': 4, 'ruin': 24, 'retraced': 1, 'squadrons': 6, 'grizzly': 1, 'mustaches': 11, 'krsten': 5, 'regained': 4, 'commission': 12, 'liar': 4, 'lied': 4, 'rests': 6, 'arrest': 7, 'stolen': 13, 'blame': 62, 'finesse': 1, 'lyingso': 1, 'coward': 6, 'disapproving': 3, 'shake': 5, 'nasty': 10, 'bogdnich': 14, 'shuts': 2, 'untruth': 3, 'lot': 21, 'regimentall': 1, 'usyoure': 1, 'blurt': 1, 'disgrace': 7, 'scoundrel': 20, 'brick': 9, 'landed': 3, 'conceit': 1, 'prevents': 4, 'apologizing': 2, 'anyway': 4, 'offense': 8, 'disgracing': 1, 'tremble': 2, 'snap': 3, 'thieves': 3, 'willing': 10, 'prize': 3, 'stick': 23, 'twue': 1, 'jumping': 8, 'alternately': 3, 'mustnt': 13, 'clapping': 6, 'address': 30, 'imploring': 8, 'itll': 3, 'vindictive': 4, 'obstinacy': 4, 'describe': 17, 'weported': 1, 'stwuck': 1, 'list': 17, 'tomowwow': 3, 'hed': 2, 'cwoss': 1, 'bloodthirsty': 4, 'brings': 5, 'newcomer': 14, 'stew': 1, 'confirmed': 20, 'advance': 64, 'bridges': 14, 'rivers': 6, 'traun': 1, 'linz': 1, '23': 1, 'enns': 10, 'midday': 10, 'baggage': 37, 'artillery': 53, 'defiling': 1, 'rainy': 3, 'autumnal': 1, 'expanse': 5, 'heights': 20, 'batteries': 14, 'guarding': 3, 'diaphanous': 1, 'curtain': 17, 'slanting': 8, 'rain': 27, 'sunlight': 4, 'distant': 23, 'objects': 4, 'varnished': 1, 'roofed': 2, 'houses': 61, 'cathedral': 10, 'streamed': 5, 'jostling': 2, 'masses': 30, 'vessels': 1, 'island': 12, 'castle': 11, 'park': 3, 'waters': 7, 'confluence': 2, 'rocky': 1, 'bank': 28, 'pine': 6, 'forests': 15, 'mystic': 6, 'background': 4, 'treetops': 1, 'gorges': 2, 'turrets': 2, 'convent': 4, 'virgin': 8, 'forest': 64, 'enemys': 58, 'patrols': 2, 'rearguard': 10, 'fieldglass': 1, 'trail': 1, 'flask': 4, 'pies': 1, 'doppelkmmel': 1, 'gladly': 10, 'wet': 36, 'grass': 24, 'deer': 1, 'dearly': 4, 'pie': 2, 'countrysidesee': 1, 'infantrymen': 5, 'ransack': 1, 'lipped': 1, 'turreted': 1, 'nunnery': 3, 'narrowed': 2, 'gleamed': 15, 'flutter': 1, 'nuns': 2, 'bolder': 1, 'fired': 27, 'dawdling': 3, 'naked': 22, 'battery': 74, 'milk': 4, 'cloud': 21, 'refreshment': 3, 'ride': 48, 'detail': 18, 'inflammable': 3, 'material': 17, 'reinspected': 1, 'winding': 6, 'crew': 4, 'commanded': 22, 'campfires': 30, 'loading': 3, 'deafening': 11, 'metallic': 5, 'roar': 20, 'whistling': 26, 'grenade': 2, 'flew': 45, 'clouds': 35, 'solitary': 11, 'brilliance': 2, 'sunshine': 16, 'merged': 15, 'spirited': 4, 'flown': 2, 'alighted': 2, 'jammed': 5, 'railings': 3, 'bridles': 2, 'carts': 80, 'wagon': 17, 'convoyman': 1, 'hi': 2, 'bayonets': 14, 'interlocking': 1, 'dense': 19, 'mass': 53, 'rails': 3, 'waves': 11, 'rippling': 1, 'eddying': 1, 'chased': 4, 'shakos': 8, 'muskets': 21, 'sunken': 7, 'sticky': 4, 'mud': 29, 'planks': 7, 'fleck': 1, 'foam': 3, 'squeezed': 8, 'chip': 4, 'wood': 64, 'whirling': 3, 'townsman': 1, 'log': 9, 'floating': 7, 'companys': 1, 'piled': 5, 'hemmed': 4, 'dam': 26, 'hopelessly': 3, 'waggish': 1, 'torn': 21, 'wink': 8, 'begins': 9, 'popping': 2, 'dismally': 2, 'cart': 46, 'shoved': 1, 'fumbling': 6, 'ham': 3, 'learn': 17, 'bah': 2, 'scurry': 1, 'sends': 5, 'flies': 4, 'daddy': 6, 'fright': 13, 'pon': 1, 'loaded': 24, 'houseful': 1, 'brindled': 1, 'cow': 3, 'udder': 1, 'unweaned': 1, 'healthy': 12, 'beds': 6, 'fugitives': 6, 'vehicle': 10, 'unseemly': 6, 'tracks': 5, 'sell': 6, 'missis': 1, 'energetically': 8, 'downcast': 13, 'fedtov': 1, 'mate': 3, 'apple': 8, 'signifying': 2, 'stream': 9, 'restive': 3, 'shoving': 3, 'fires': 31, 'toodifferent': 1, 'exit': 2, 'splashed': 5, 'carries': 5, 'encouraging': 3, 'cannon': 86, 'harder': 13, 'numskull': 1, 'paces': 34, 'shaggy': 14, 'fiends': 1, 'coal': 1, 'bloodshot': 5, 'whites': 3, 'sheathed': 2, 'squadwon': 1, 'fiercely': 7, 'spurring': 2, 'thoroughbred': 5, 'arab': 4, 'snorted': 9, 'spurting': 1, 'tramping': 2, 'rider': 7, 'sheep': 5, 'hack': 4, 'actually': 13, 'scabbard': 1, 'ridden': 32, 'dwagging': 1, 'wegiment': 2, 'fwo': 1, 'dandy': 2, 'saddlecloth': 2, 'sabretache': 6, 'diffused': 4, 'perfume': 4, 'shaved': 5, 'bwushed': 1, 'imposing': 4, 'determination': 9, 'frantically': 1, 'deliver': 9, 'cleared': 23, 'stallion': 2, 'neighing': 2, 'pawing': 2, 'rejoin': 7, 'clang': 1, 'galloping': 36, 'resounded': 11, 'abreast': 5, 'emerge': 3, 'trampled': 7, 'estrangement': 5, 'lads': 37, 'kick': 1, 'jested': 3, 'prancing': 1, 'infantryman': 3, 'perched': 3, 'zkin': 1, 'corporal': 24, 'chaffing': 5, 'thatll': 7, 'squeezing': 2, 'funnel': 1, 'wagons': 32, 'horizon': 12, 'valley': 12, 'flowed': 14, 'wasteland': 1, 'hilltop': 1, 'appearing': 13, 'skyline': 1, 'noon': 7, 'descending': 9, 'bugle': 1, 'skirmishers': 4, 'space': 41, 'yards': 20, 'firing': 85, 'inaccessible': 4, 'intangible': 4, 'hostile': 19, 'armies': 42, 'boundary': 5, 'resembles': 3, 'dividing': 4, 'uncertainty': 6, 'roof': 18, 'inevitably': 20, 'keenness': 1, 'aligning': 1, 'rhythmic': 6, 'whistle': 16, 'horsemen': 11, 'stirrups': 2, 'sank': 23, 'curious': 9, 'bugler': 4, 'conflict': 18, 'chin': 15, 'punish': 17, 'mirnov': 1, 'ducked': 4, 'mounted': 39, 'rooka': 1, 'leghad': 1, 'examination': 10, 'curtseying': 1, 'miwnov': 1, 'wight': 6, 'hairy': 9, 'snub': 6, 'sturdy': 5, 'stumpy': 1, 'hilt': 3, 'emptied': 10, 'mercilessly': 1, 'bedouin': 6, 'backed': 2, 'mare': 4, 'seewe': 1, 'dwive': 1, 'troublesome': 3, 'retreating': 24, 'lead': 40, 'range': 10, 'cossacks': 85, 'karl': 7, 'footpace': 7, 'athletic': 1, 'nape': 4, 'himrostv': 1, 'wounded': 205, 'magnanimously': 1, 'extend': 6, 'reconciliation': 4, 'shouldered': 9, 'pvlograds': 9, 'dismissal': 1, 'rewards': 14, 'attaching': 3, 'bagratin': 134, 'rear': 24, 'guard': 32, 'morosely': 7, 'perspiration': 8, 'burned': 53, 'wring': 2, 'grapeshot': 13, 'unpleasantness': 4, 'contracted': 1, 'closelyto': 1, 'confirmation': 9, 'conjecture': 2, 'sabers': 14, 'dismounted': 26, 'orderlys': 3, 'thud': 9, 'stretchers': 14, 'ahead': 37, 'stumbled': 12, 'outstripped': 2, 'boss': 1, 'zides': 1, 'triumphant': 10, 'muddy': 17, 'risks': 2, 'dismount': 5, 'bullet': 14, 'billet': 2, 'jackets': 2, 'braided': 2, 'cord': 4, 'swarming': 3, 'sidethe': 2, 'recognizable': 2, 'wholl': 2, 'wipe': 3, 'sinking': 16, 'heartwatching': 1, 'tunics': 1, 'shouldnt': 15, 'job': 4, 'earnest': 5, 'vladmir': 5, 'medal': 2, 'peppered': 1, 'limbers': 4, 'detached': 7, 'simultaneously': 15, 'groaned': 11, 'fierce': 2, 'pain': 41, 'reloaded': 1, 'irregular': 5, 'hinder': 13, 'trained': 10, 'rounds': 2, 'misdirected': 2, 'absorbed': 32, 'hew': 1, 'rattle': 11, 'nuts': 5, 'spilt': 1, 'groan': 7, 'oooh': 1, 'christs': 6, 'stretcher': 12, 'glorious': 6, 'glitter': 7, 'fairer': 1, 'faraway': 4, 'mountains': 8, 'mysterious': 30, 'mist': 39, 'summits': 2, 'groans': 13, 'therethey': 2, 'gorge': 1, 'sickening': 2, 'lord': 52, 'thou': 39, 'art': 27, 'protect': 10, 'powdah': 1, 'cowardyes': 1, 'mount': 12, 'wegular': 1, 'bwicks': 1, 'attacks': 12, 'hacking': 2, 'shooting': 3, 'target': 2, 'promoted': 8, 'sublieutenancy': 1, 'triumphantly': 8, 'losses': 21, 'trifle': 6, 'phrase': 15, 'distinctness': 3, 'pursued': 16, 'encountering': 3, 'population': 7, 'unfriendly': 2, 'supplies': 18, 'foreseen': 14, 'enable': 2, 'retreat': 85, 'lambach': 1, 'amstetten': 1, 'melk': 1, 'enduranceacknowledged': 1, 'enemywith': 1, 'consequence': 11, 'escaped': 13, 'capture': 33, 'strategics': 2, 'unattainable': 5, 'eighth': 15, 'main': 14, 'thirtieth': 3, 'mortiers': 1, 'trophies': 3, 'banners': 5, 'fortnights': 1, 'repulsed': 13, 'clad': 5, 'abandoned': 54, 'entrusted': 27, 'humanity': 40, 'hospitals': 17, 'krems': 14, 'converted': 2, 'accommodate': 1, 'mortier': 5, 'spirits': 30, 'considerably': 2, 'erroneous': 3, 'rife': 1, 'attendance': 17, 'schmidt': 7, 'grazed': 1, 'mark': 9, 'threatened': 13, 'brnn': 11, 'build': 6, 'physical': 36, 'fatigue': 8, 'dispatches': 2, 'dokhtrov': 23, 'starry': 8, 'snow': 65, 'daythe': 1, 'reviewing': 3, 'impressions': 13, 'picturing': 6, 'pleasantly': 14, 'recalling': 17, 'chaise': 1, 'enjoying': 9, 'attain': 19, 'afresh': 8, 'reassured': 6, 'dozed': 7, 'thawing': 2, 'fields': 35, 'stations': 3, 'transport': 20, 'abuse': 10, 'jolted': 9, 'stony': 3, 'bread': 22, 'languid': 3, 'envoy': 7, 'driver': 18, 'plenty': 10, 'paved': 1, 'streets': 48, 'buildings': 10, 'shops': 17, 'alert': 8, 'feverishly': 7, 'clearness': 12, 'concise': 2, 'stating': 3, 'casual': 5, 'answers': 17, 'messenger': 23, 'euer': 1, 'hochgeboren': 1, 'minister': 47, 'courtesy': 4, 'ushered': 1, 'cabinet': 5, 'elaborate': 1, 'ward': 6, 'attempt': 15, 'weakened': 6, 'disdain': 4, 'uncalled': 3, 'fertile': 2, 'despise': 8, 'victories': 11, 'heightened': 4, 'candle': 29, 'evenly': 6, 'distinctive': 1, 'artificiality': 3, 'petitioners': 3, 'calamity': 9, 'schmidts': 1, 'price': 10, 'levee': 5, 'reappeared': 9, 'afforded': 5, 'tenor': 3, 'remote': 15, 'bilbin': 55, 'diplomatic': 30, 'franz': 4, 'ushering': 1, 'washing': 5, 'diplomats': 3, 'comfortably': 8, 'refinements': 1, 'surroundings': 14, 'supposed': 30, 'previously': 46, 'copenhagen': 1, 'ambassador': 11, 'esteemed': 1, 'liking': 6, 'import': 5, 'skillfully': 6, 'pointedly': 2, 'elegantly': 5, 'bilbins': 11, 'dealing': 14, 'spheres': 3, 'sprinkled': 6, 'wittily': 1, 'sayings': 7, 'laboratory': 1, 'portable': 2, 'witticisms': 2, 'hawked': 1, 'principal': 9, 'pucker': 1, 'descend': 5, 'crease': 1, 'twinkled': 1, 'exploits': 9, 'mentioning': 7, 'skittles': 2, 'conclusion': 28, 'cependant': 1, 'nails': 6, 'malgr': 1, 'haute': 1, 'estime': 1, 'que': 16, 'professe': 1, 'orthodox': 7, 'javoue': 1, 'votre': 2, 'victoire': 1, 'nest': 4, 'victorieuses': 1, 'slips': 2, 'boasting': 2, 'smoothness': 1, 'impressing': 1, 'methods': 10, 'retorted': 3, 'marshals': 34, 'embassy': 7, 'thaler': 1, 'liebchen': 1, 'prater': 2, 'unwrinkled': 2, 'subtleties': 1, 'blunder': 4, 'gains': 4, 'spell': 3, 'invincibility': 2, 'greek': 2, 'archdukes': 1, 'brigade': 4, 'vex': 2, 'disgraces': 1, 'abandon': 25, 'defenseas': 1, 'conceived': 2, 'schnbrunn': 4, 'vrbna': 1, 'fatigues': 2, 'dined': 16, 'lichtenfels': 1, 'murat': 38, 'tremblement': 1, 'savior': 3, 'bridgehead': 3, 'auersperg': 11, 'defending': 9, 'usdoing': 1, 'mined': 4, 'bohemia': 2, 'quarter': 19, 'bigwigs': 3, 'darent': 2, 'skirmishing': 3, 'drrenstein': 3, 'gunpowder': 8, 'devised': 18, 'mots': 2, 'releasing': 3, 'berlin': 7, 'joins': 2, 'preliminaries': 2, 'campo': 1, 'formio': 1, 'clenching': 3, 'accentuating': 2, 'u': 7, 'lays': 2, 'lui': 4, 'grce': 2, 'lu': 1, 'adopt': 7, 'innovation': 1, 'joking': 15, 'retaliate': 1, 'fooled': 2, 'provinces': 17, 'pillagedthey': 1, 'loots': 1, 'terriblyher': 1, 'beaux': 1, 'yeux': 1, 'sardinian': 2, 'thereforethis': 1, 'ourselvesi': 1, 'deceived': 12, 'instinct': 13, 'negotiations': 12, 'projects': 10, 'warmed': 7, 'fragrant': 3, 'tidings': 3, 'treachery': 9, 'triumph': 17, 'tomorrows': 8, 'cannonading': 2, 'musketry': 21, 'rattling': 4, 'fill': 5, 'musketeers': 1, 'palpitating': 1, 'bullets': 26, 'tenfold': 4, 'slumber': 1, 'nights': 20, 'les': 16, 'ntres': 1, 'consisting': 9, 'exclusively': 5, 'chancellor': 4, 'flatly': 1, 'london': 1, 'gentlemeni': 1, 'youis': 1, 'suffers': 6, 'don': 8, 'juan': 2, 'lolling': 1, 'lounge': 3, 'serpent': 1, 'atrocities': 1, 'compared': 23, 'compagne': 1, 'lhomme': 1, 'elevated': 1, 'whomhe': 1, 'admithe': 1, 'jealous': 15, 'exquisite': 3, 'discusses': 1, 'politicsyou': 1, 'wrinkling': 2, 'derogates': 1, 'intervention': 7, 'nonintervention': 1, 'finally': 27, 'impute': 1, 'nonreceipt': 1, 'november': 18, '18': 2, 'demosthenes': 1, 'pebble': 1, 'secretest': 1, 'thy': 45, 'mop': 5, 'breathed': 6, 'convulsed': 1, 'impassive': 5, 'guest': 15, 'moravian': 1, 'hole': 6, 'brnns': 1, 'attractions': 2, 'undertake': 10, 'theater': 20, 'amelie': 1, 'humane': 2, 'avail': 9, 'hospitality': 5, 'provisions': 26, 'supplied': 9, 'routes': 1, 'accompanying': 9, 'facts': 21, 'passion': 17, 'audiences': 1, 'ceremoniously': 2, 'questionsthe': 1, 'reliable': 9, 'rafts': 1, 'forage': 6, 'withdrew': 7, 'conferring': 3, 'chamberlain': 2, 'invited': 28, 'archduchess': 2, 'forecast': 1, 'thanksgiving': 4, 'awarded': 5, 'dignitaries': 2, 'luggage': 5, 'portmanteau': 3, 'bookshop': 1, 'provide': 10, 'shop': 15, 'thabor': 3, 'blown': 7, 'messieurs': 3, 'marchaux': 1, 'lannes': 5, 'belliard': 5, 'observe': 15, 'gascons': 2, 'doubly': 3, 'fortifications': 4, 'communication': 13, 'marshalls': 1, 'grieved': 11, 'destined': 5, 'toulon': 4, 'obscure': 8, 'offer': 36, 'fame': 9, 'imagining': 15, 'council': 48, 'truer': 1, 'sadder': 2, 'negotiate': 8, 'pont': 2, 'spin': 1, 'gasconades': 1, 'crack': 10, 'jokes': 9, 'unobserved': 3, 'flings': 1, 'bags': 7, 'incendiary': 4, 'approaches': 3, 'appears': 24, 'von': 6, 'mautern': 1, 'dearest': 15, 'hostilities': 1, 'anothers': 12, 'burns': 2, 'auerspergs': 1, 'bewildered': 12, 'established': 23, 'dazzled': 4, 'murats': 15, 'ostrich': 2, 'plumes': 13, 'quil': 4, 'ny': 5, 'voit': 1, 'du': 12, 'feu': 1, 'oublie': 1, 'celui': 2, 'devait': 1, 'lennemi': 1, 'rushes': 2, 'spikes': 1, 'subsiding': 2, 'signal': 5, 'mines': 1, 'wiser': 4, 'gascon': 1, 'discipline': 17, 'arrested': 19, 'stupidity': 9, 'rascality': 2, 'forgets': 8, 'wounds': 8, 'puts': 3, 'sommes': 1, 'macked': 1, 'examine': 13, 'proof': 14, 'conclusiveness': 1, 'gallop': 38, 'heroism': 11, 'philosopher': 2, 'consistent': 3, 'olmtz': 22, 'decent': 4, 'temple': 13, 'dilemma': 1, 'insoluble': 9, 'argue': 4, 'hetzelsdorf': 1, 'obstructed': 2, 'hungry': 23, 'sinister': 3, 'cette': 6, 'arme': 1, 'russe': 5, 'lor': 1, 'langleterre': 1, 'transporte': 1, 'extrmits': 1, 'lunivers': 1, 'allons': 1, 'prouver': 1, 'mme': 1, 'dulm': 1, 'awoke': 17, 'ends': 14, 'endless': 12, 'detachments': 14, 'vehicles': 19, 'whips': 8, 'swearing': 1, 'orderlies': 14, 'flayed': 1, 'crowds': 30, 'neighboring': 10, 'fowls': 2, 'bulging': 1, 'sacks': 4, 'ascent': 2, 'descent': 7, 'denser': 3, 'din': 4, 'incessant': 12, 'floundering': 4, 'traces': 7, 'lungs': 6, 'directing': 13, 'uproar': 2, 'despaired': 1, 'possibility': 60, 'checking': 5, 'rigged': 3, 'available': 7, 'materials': 1, 'cabriolet': 1, 'enveloped': 9, 'shawls': 2, 'diverted': 5, 'shrieks': 6, 'beating': 17, 'strokes': 2, 'whip': 27, 'equipage': 2, 'piercingly': 6, 'woolen': 3, 'seventh': 12, 'chasseurs': 7, 'flatten': 2, 'pancake': 3, 'slut': 1, 'replying': 26, 'push': 12, 'compressing': 2, 'senseless': 32, 'championship': 1, 'worldto': 1, 'urged': 12, 'fury': 12, 'ly': 1, 'letthempass': 1, 'deliverer': 1, 'minutest': 6, 'tormenting': 11, 'mob': 18, 'scoundrels': 9, 'chewed': 1, 'noticeable': 14, 'capitulation': 6, 'znaim': 16, 'mefit': 1, 'bohemian': 3, 'lookout': 5, 'winced': 3, 'shock': 10, 'abominable': 7, 'weyrother': 29, 'bottom': 13, 'kozlvskis': 1, 'wornhe': 1, 'slept': 29, 'dictating': 2, 'kiev': 17, 'grenadiers': 8, 'podolian': 1, 'disrespectfully': 1, 'unfamiliar': 10, 'inattentive': 2, 'disrespectful': 2, 'disastrous': 6, 'urgent': 1, 'dispositions': 33, 'whence': 9, 'preoccupied': 23, 'anxieties': 1, 'gaunt': 2, 'envelope': 8, 'christ': 21, 'endeavor': 4, 'softened': 16, 'offering': 13, 'bagratins': 21, 'detachment': 34, 'delayed': 5, 'penetration': 1, 'seams': 2, 'scar': 4, 'pierced': 3, 'socket': 1, 'plunged': 10, 'questioned': 18, '1': 65, 'spy': 11, 'surround': 4, 'connecting': 3, 'parts': 22, 'abandoning': 26, 'buxhwden': 12, 'unite': 19, 'risked': 4, 'forestalled': 2, 'encumbered': 1, 'hem': 3, 'saving': 18, 'forestall': 3, 'exposure': 3, 'destruction': 40, 'shorter': 2, 'vanguard': 11, 'forestalling': 1, 'stormy': 3, 'roadless': 1, 'hollabrnn': 5, 'hence': 2, 'detain': 5, 'freak': 2, 'similar': 37, 'bloodshed': 1, 'posts': 13, 'emissary': 2, 'authorized': 2, 'convoys': 1, 'concealed': 17, 'stage': 18, 'hasten': 8, 'trains': 12, 'entire': 7, 'stationary': 3, 'binding': 7, 'discovered': 14, 'proposal': 17, 'detected': 4, 'ruse': 3, '25th': 1, 'displeasure': 6, 'armistice': 4, 'fruits': 1, 'ratifies': 1, 'ratify': 1, 'impostor': 2, 'powers': 21, 'tricked': 2, 'trusting': 1, 'victim': 7, 'dried': 11, 'porridge': 10, 'store': 4, 'persisted': 2, 'grunth': 4, 'disbelieved': 2, 'nearness': 10, 'trusted': 8, 'distinction': 6, 'marks': 4, 'dandies': 3, 'earn': 2, 'bearings': 2, 'execute': 13, 'soaked': 4, 'dejected': 8, 'seeking': 27, 'benches': 4, 'fencing': 6, 'sutlers': 5, 'tent': 22, 'scare': 2, 'roll': 14, 'cheese': 2, 'reproachful': 5, 'keeper': 5, 'altogether': 13, 'arent': 17, 'tshin': 58, 'example': 22, 'stockinged': 1, 'jocular': 3, 'unacceptable': 1, 'unsoldierly': 1, 'comic': 2, 'entrenchments': 8, 'dug': 11, 'clay': 5, 'battalions': 24, 'swarmed': 4, 'earthworks': 1, 'ants': 5, 'spadefuls': 2, 'entrenchment': 5, 'dozens': 9, 'noses': 6, 'poisoned': 3, 'latrines': 1, 'voil': 4, 'lagrment': 1, 'camps': 7, 'depression': 12, 'apprehension': 3, 'poking': 2, 'section': 15, 'ribs': 2, 'logs': 7, 'brushwood': 1, 'shelters': 3, 'undressed': 12, 'drying': 2, 'shirts': 8, 'boilers': 1, 'cookers': 1, 'steaming': 1, 'boiler': 3, 'sample': 3, 'wooden': 15, 'bowl': 3, 'shelter': 12, 'lucky': 10, 'pockmarked': 8, 'keg': 1, 'lids': 3, 'reverential': 1, 'mouths': 8, 'licking': 2, 'peaceful': 14, 'encampment': 3, 'chasseur': 1, 'grenadiersfine': 1, 'affairsnear': 1, 'switches': 1, 'regularly': 5, 'screams': 11, 'steal': 3, 'honest': 15, 'robs': 1, 'swishing': 1, 'flanks': 5, 'picket': 12, 'enemies': 20, 'morningdespite': 1, 'injunction': 1, 'linethe': 2, 'seers': 2, 'forming': 11, 'showmen': 1, 'exhibiting': 1, 'musketeer': 2, 'grenadier': 5, 'hark': 2, 'jabbering': 2, 'sdorov': 4, 'adept': 2, 'laughers': 1, 'incited': 3, 'incomprehensible': 37, 'dispute': 14, 'maintained': 11, 'listeners': 6, 'fera': 3, 'danser': 1, 'qu': 1, 'chante': 1, 'ancient': 21, 'suvara': 1, 'sacr': 2, 'nom': 2, 'swore': 5, 'shouldering': 2, 'musket': 19, 'ivn': 9, 'lukch': 1, 'winked': 8, 'jabber': 1, 'kari': 1, 'mala': 1, 'tafa': 2, 'safi': 1, 'muter': 1, 'kask': 1, 'expressive': 2, 'ouh': 2, 'peals': 2, 'humored': 9, 'unload': 3, 'explode': 1, 'ammunition': 14, 'loopholes': 1, 'blockhouses': 1, 'menacingly': 1, 'unlimbered': 4, 'confronted': 2, 'farthest': 9, 'sentry': 1, 'ropes': 6, 'artillerymens': 1, 'bonfires': 4, 'constructed': 11, 'wattle': 15, 'crest': 1, 'grabern': 13, 'steep': 9, 'incline': 8, 'dominated': 4, 'dragoons': 27, 'tshins': 17, 'easiest': 1, 'copse': 9, 'felling': 1, 'outflank': 7, 'dip': 7, 'sketched': 2, 'points': 6, 'concentrate': 3, 'secondly': 17, 'withdraw': 12, 'closely': 27, 'historical': 52, 'pictured': 15, 'forthcoming': 4, 'outline': 5, 'possibilities': 4, 'podlsk': 3, 'reserves': 9, 'successfully': 11, 'counterattack': 1, 'echelons': 1, 'reasoned': 3, 'anyhow': 8, 'manly': 13, 'youvodka': 1, 'snacks': 1, 'herb': 3, 'hut': 55, 'philosophizing': 2, 'conceive': 12, 'thudded': 1, 'super': 3, 'impact': 1, 'dashing': 10, 'mounting': 5, 'puff': 9, 'frenchmen': 49, 'column': 41, 'strengthen': 10, 'cannonade': 12, 'slope': 13, 'parleys': 2, 'lemarrois': 1, 'humiliated': 3, 'expiate': 2, 'wings': 7, 'hoping': 18, 'contemptible': 6, 'enjoyable': 3, 'embankments': 1, 'foremost': 10, 'lambskin': 2, 'reined': 9, 'agreement': 25, 'imply': 4, 'impress': 8, 'bobtailed': 5, 'civilianan': 1, 'accountant': 9, 'camlet': 1, 'pit': 8, 'purposely': 11, 'stupider': 1, 'hit': 14, 'swell': 2, 'violent': 5, 'flop': 2, 'crashed': 1, 'saddles': 8, 'struggled': 11, 'confusion': 42, 'disengaged': 4, 'recollection': 22, 'battlefield': 37, 'artilleryman': 6, 'freckled': 2, 'gunner': 8, 'gunners': 2, 'straining': 14, 'wheel': 14, 'cannons': 2, 'shading': 3, 'impart': 2, 'medvdev': 1, 'bashful': 1, 'salute': 7, 'benediction': 1, 'consulting': 7, 'zakharchnko': 1, 'extended': 18, 'rivulet': 1, 'crackling': 8, 'outflanking': 2, 'bounded': 6, 'adjacent': 3, 'reinforce': 1, 'ventured': 19, 'assent': 3, 'retreated': 17, 'uselessly': 8, 'sharpshooters': 11, 'paraded': 1, 'withstand': 5, 'colloquies': 1, 'owing': 12, 'valuable': 10, 'downhill': 11, 'actual': 16, 'bleeding': 14, 'dragged': 24, 'supported': 8, 'gurgle': 1, 'spitting': 2, 'sturdily': 1, 'groaning': 4, 'streaming': 4, 'unwounded': 4, 'ascending': 6, 'ordering': 4, 'crackled': 3, 'drowning': 6, 'reeked': 1, 'blackened': 5, 'ramrods': 1, 'touchpans': 1, 'charges': 7, 'pouches': 2, 'humming': 4, 'squarefor': 1, 'smilehis': 1, 'eyelids': 3, 'mild': 20, 'welcomed': 15, 'welcomes': 2, 'employing': 1, 'term': 8, 'reality': 26, 'certainty': 4, 'commencement': 14, 'shells': 8, 'hitting': 5, 'plunging': 2, 'hawks': 1, 'entreating': 2, 'hissing': 5, 'carpenter': 1, 'uses': 4, 'ax': 7, 'blister': 1, 'persuasiveness': 2, 'appeals': 1, 'cease': 24, 'fastened': 7, 'caps': 15, 'standard': 17, 'flapping': 3, 'clash': 1, 'dispersing': 5, 'laggards': 1, 'weighty': 3, 'expressionthe': 1, 'smallest': 8, 'unsheathed': 1, 'weapon': 8, 'flexibly': 1, 'alternate': 3, 'hundreds': 25, 'skirted': 4, 'bush': 5, 'defection': 1, 'cleaving': 1, 'measure': 9, 'jaunty': 3, 'semicircle': 4, 'trooper': 2, 'noncommissioned': 12, 'hop': 1, 'ominous': 1, 'unison': 1, 'exlen': 1, 'relax': 1, 'sonorous': 3, 'gait': 7, 'bandoliers': 1, 'epaulets': 4, 'gaitered': 1, 'hurrahah': 1, 'racing': 3, 'disordered': 8, 'secured': 6, 'leftwhich': 1, 'consisted': 30, 'azv': 1, 'hussarswas': 1, 'outflanked': 1, 'removing': 8, 'panic': 9, 'seniority': 7, 'reviewed': 5, 'misunderstanding': 6, 'offending': 3, 'impending': 16, 'privates': 1, 'occupations': 9, 'feeding': 7, 'iss': 2, 'dan': 1, 'sount': 1, 'imperative': 1, 'thundered': 2, 'capotes': 1, 'milldam': 1, 'malevolence': 3, 'occupy': 16, 'mix': 1, 'vot': 1, 'irate': 1, 'vere': 1, 'avare': 1, 'zis': 1, 'vish': 1, 'expanded': 6, 'amongst': 1, 'sped': 1, 'bushes': 21, 'cocks': 5, 'vainly': 15, 'detect': 3, 'cowardice': 2, 'testing': 3, 'muffled': 5, 'inconvenient': 4, 'fearresembling': 1, 'deadlay': 1, 'rumor': 8, 'whizzed': 1, 'scabbards': 1, 'irresolution': 2, 'communicated': 7, 'foward': 2, 'twot': 1, 'croups': 1, 'rooks': 1, 'anticipated': 5, 'elated': 4, 'terribleand': 1, 'slash': 2, 'gripping': 2, 'hur': 2, 'birch': 18, 'broom': 3, 'strike': 9, 'niktenko': 1, 'speed': 21, 'bondarchk': 1, 'bondarchks': 1, 'swerved': 3, 'stubble': 7, 'forelegs': 2, 'pinning': 2, 'riders': 8, 'flowing': 12, 'entangled': 7, 'disentangled': 2, 'superfluous': 9, 'benumbed': 1, 'wrist': 2, 'sunburned': 5, 'hooked': 3, 'hindmost': 2, 'believing': 8, 'proximity': 7, 'realizing': 12, 'alien': 11, 'bayonet': 5, 'hare': 30, 'fleeing': 10, 'hounds': 34, 'sentiment': 5, 'leaping': 2, 'furrows': 2, 'catchplay': 1, 'pound': 2, 'whistled': 10, 'mustered': 3, 'unawares': 4, 'outskirts': 4, 'exemplary': 4, 'responsible': 9, 'negligence': 3, 'inefficiency': 1, 'recalcitrant': 1, 'preservation': 4, 'crupper': 3, 'hail': 3, 'fortunately': 4, 'remedy': 10, 'censured': 3, 'safely': 3, 'hesitation': 15, 'decides': 3, 'disregarding': 4, 'furious': 5, 'likeness': 4, 'disobeying': 2, 'culminating': 2, 'result': 73, 'timkhins': 1, 'lain': 4, 'ditch': 7, 'armed': 19, 'surrendering': 2, 'units': 9, 'ekonmov': 3, 'broadcloth': 1, 'munition': 3, 'slung': 2, 'untied': 2, 'congealed': 2, 'supports': 5, 'surmise': 2, 'effrontery': 1, 'undefended': 1, 'energetic': 13, 'herein': 1, 'centerthe': 1, 'attempted': 6, 'isolated': 1, 'hillock': 3, 'scurrying': 1, 'artillerymen': 7, 'brightening': 4, 'conflagration': 5, 'fanned': 2, 'breeze': 3, 'revenge': 3, 'failure': 5, 'tearing': 8, 'drivers': 9, 'diminished': 11, 'seventeen': 4, 'crews': 1, 'disabled': 1, 'refill': 2, 'scattering': 2, 'smack': 2, 'em': 3, 'screws': 1, 'deafened': 3, 'harnessing': 1, 'pitched': 9, 'irresolute': 4, 'injured': 7, 'taller': 2, 'officerall': 1, 'theirs': 10, 'concentration': 5, 'akin': 6, 'feverish': 15, 'delirium': 6, 'drunkenness': 4, 'puffs': 5, 'fantastic': 4, 'possession': 18, 'occasional': 7, 'smoker': 1, 'borne': 12, 'streak': 2, 'matvvna': 4, 'drunkard': 2, 'diminishing': 3, 'intently': 28, 'ebb': 1, 'flow': 13, 'matthew': 3, 'booth': 1, 'gasping': 3, 'duck': 2, 'unharnessed': 3, 'screaming': 6, 'piteously': 6, 'gushing': 1, 'withdrawn': 10, 'bodies': 20, 'removal': 6, 'skipped': 1, 'limbered': 1, 'uninjured': 3, 'shattered': 2, 'unicorn': 1, 'conflagrations': 3, 'oftener': 3, 'transmitted': 3, 'proceed': 3, 'reprimanding': 1, 'reproaching': 3, 'silentlyfearing': 1, 'whyrode': 1, 'nag': 2, 'matvvnas': 1, 'repeatedly': 12, 'hesitating': 12, 'antnov': 1, 'shivering': 7, 'stained': 11, 'sprain': 1, 'aided': 1, 'gruntersdorf': 1, 'subside': 4, 'flashes': 2, 'sheltered': 1, 'petrv': 2, 'rumble': 3, 'gloom': 10, 'melt': 3, 'station': 19, 'bonfire': 3, 'kindled': 8, 'drowsiness': 3, 'irresistibly': 10, 'mastering': 3, 'excruciating': 1, 'satisfactory': 7, 'dazzlingly': 2, 'legged': 7, 'turk': 2, 'commiseration': 3, 'afar': 2, 'tremulous': 7, 'sea': 19, 'swelling': 7, 'storm': 14, 'listlessly': 1, 'squatted': 4, 'blaze': 2, 'campfire': 18, 'quarreling': 2, 'snatch': 6, 'hoarsely': 7, 'bloodstained': 11, 'torch': 2, 'countrymen': 3, 'firewell': 1, 'glowing': 11, 'snarled': 1, 'deadwhy': 1, 'aching': 4, 'greedily': 6, 'gnawing': 3, 'mutton': 8, 'bone': 1, 'blamelessly': 1, 'signet': 1, 'texture': 1, 'perplexityperhaps': 1, 'banner': 3, 'flocking': 1, 'thanking': 1, 'informing': 7, 'woodcutting': 1, 'disorganized': 8, 'battalionand': 1, 'continuedremembering': 1, 'rankerthat': 1, 'redounded': 2, 'devoid': 2, 'foundation': 26, 'heroically': 1, 'damaged': 3, 'bivouacking': 5, 'embarrassed': 16, 'superiors': 7, 'loudest': 2, 'authorities': 22, 'guilt': 8, 'mutter': 2, 'examiner': 1, 'venture': 8, 'intervene': 1, 'thirds': 3, 'intentness': 1, 'owe': 7, 'heroic': 15, 'reluctant': 9, 'distrust': 2, 'credit': 9, 'saved': 33, 'shadows': 15, 'intense': 5, 'irresistible': 14, 'overpowered': 3, 'loneliness': 3, 'soldierswounded': 1, 'unwoundedit': 1, 'crushing': 7, 'weighing': 2, 'twisting': 6, 'sinews': 1, 'scorching': 1, 'sprained': 2, 'innumerable': 33, 'agonizingly': 1, 'breadth': 7, 'acheit': 1, 'wellif': 1, 'canopy': 3, 'yard': 60, 'charcoal': 2, 'flakes': 1, 'fluttering': 5, 'warming': 4, 'hurting': 3, 'grunt': 2, 'crippled': 1, 'todayfrightful': 1, 'snowflakes': 1, 'fluffy': 2, 'fur': 22, 'gliding': 6, 'sleigh': 38, 'renew': 7, 'remnant': 3, 'reunited': 2, 'injuring': 2, 'schemes': 5, 'devices': 1, 'accounted': 2, 'shaping': 3, 'arising': 4, 'achievement': 5, 'disintegration': 4, 'instance': 17, 'entice': 1, 'premeditation': 1, 'procured': 7, 'bedchamber': 3, 'conferred': 6, 'status': 6, 'councilor': 1, 'unhesitating': 2, 'beforehand': 8, 'unaffected': 1, 'richer': 2, 'opportune': 3, 'beset': 2, 'offices': 8, 'steward': 34, 'formerly': 46, 'chosen': 38, 'peoplebusinessmen': 1, 'alikewere': 1, 'remarkable': 13, 'depth': 11, 'plastered': 2, 'dolls': 2, 'blushes': 3, 'statuesque': 1, 'deceased': 6, 'benefit': 9, 'bonea': 1, 'bill': 1, 'rublesto': 2, 'kinder': 2, 'intoxication': 3, 'grieve': 6, 'oppressed': 10, 'pitys': 1, 'helpless': 11, 'designs': 5, 'rogues': 3, 'overwhelmed': 5, 'purely': 4, 'charity': 3, 'propose': 12, 'fingering': 5, 'notwithstanding': 2, 'cooing': 1, 'precluding': 1, 'persuasion': 1, 'recollections': 5, 'ryazn': 22, 'require': 6, 'quitrent': 5, 'peasants': 120, 'gentleness': 5, 'numerous': 8, 'bewilderment': 5, 'attained': 17, 'dinners': 15, 'tactless': 1, 'unsuitable': 5, 'stupidest': 3, 'apt': 5, 'modesty': 7, '6': 7, 'link': 4, 'imposed': 4, 'supposition': 5, 'novelty': 8, 'potsdam': 4, 'pledged': 1, 'uphold': 1, 'afflicted': 1, 'pvlovnawho': 1, 'actionseeing': 1, 'charitable': 6, 'adores': 1, 'masterly': 5, 'hlnes': 27, 'desirous': 1, 'coughed': 12, 'swallowed': 3, 'halting': 11, 'aunts': 2, 'vinesse': 1, 'miniaturist': 2, 'shortsighted': 5, 'perceive': 8, 'charm': 27, 'warmth': 10, 'corset': 1, 'garments': 6, 'illusion': 1, 'belong': 14, 'anyoneto': 1, 'altar': 6, 'tuft': 4, 'steppe': 3, 'barrier': 14, 'reprehensible': 2, 'refitting': 1, 'exercising': 3, 'uniting': 8, 'mindedly': 10, 'excites': 1, 'incomplete': 2, 'worthlessness': 2, 'dreaming': 5, 'visualized': 1, 'dishonorable': 7, 'hints': 10, 'lest': 10, 'image': 5, 'tour': 4, 'neglected': 3, 'undertaking': 12, 'latterly': 9, 'lover': 13, 'proposed': 35, 'obligations': 7, 'frivolity': 2, 'relishing': 1, 'llyas': 1, 'affairyes': 1, 'peoples': 59, 'conception': 76, 'remarkshowing': 1, 'heror': 1, 'palpably': 2, 'confiding': 3, 'abyss': 3, 'unacknowledged': 1, 'paralyzed': 2, 'peopleas': 1, 'saidmet': 1, 'kurgina': 2, 'guestsan': 1, 'enlivened': 2, 'toilets': 3, 'liveries': 1, 'plates': 4, 'assuring': 6, 'baroness': 1, 'vktorovna': 1, 'everybodys': 4, 'facetious': 1, 'wednesdays': 1, 'sergy': 15, 'kuzmch': 12, 'vyazmtinov': 5, 'rescript': 6, 'declarations': 1, 'loyalty': 5, 'etc': 4, 'kuz': 1, 'm': 16, 'ch': 1, 'smothered': 2, 'unkind': 3, 'variety': 12, 'sensations': 5, 'kuzmcha': 1, 'bashfulness': 1, 'joked': 3, 'avoided': 21, 'heedless': 4, 'unobservant': 2, 'topierre': 1, 'congratulation': 1, 'sip': 1, 'trifling': 4, 'soared': 1, 'focused': 2, 'dazzling': 5, 'helen': 1, 'consoled': 3, 'traveled': 9, 'betrothed': 18, 'admiration': 10, 'expand': 3, 'raise': 18, 'disperse': 13, 'unwilling': 4, 'distract': 4, 'refusing': 11, 'grumbled': 4, 'soundly': 1, 'headache': 4, 'inevitable': 31, 'pleasantest': 1, 'llya': 2, 'petted': 4, 'babyhood': 1, 'acquired': 12, 'imitating': 4, 'kuzmchfrom': 1, 'unbuttoning': 1, 'discomposure': 1, 'aline': 2, 'malodorous': 1, 'moistened': 1, 'stoop': 1, 'brutal': 2, 'intercepted': 1, 'unpleasantly': 14, 'aime': 5, 'remembering': 16, 'furnished': 4, 'announcing': 6, 'extra': 3, 'emulating': 1, 'suitors': 5, 'incautiously': 2, 'reigns': 2, 'contained': 8, 'discontented': 4, 'annoyed': 6, 'advised': 22, 'architects': 1, 'heelswe': 1, 'sable': 8, 'snowed': 1, 'hothouse': 3, 'swept': 7, 'shovel': 1, 'snowbanks': 1, 'bordered': 3, 'conservatories': 2, 'outbuildings': 1, 'overseer': 6, 'venerable': 6, 'avenue': 14, 'indistinctly': 4, 'rascals': 3, 'blackguards': 5, 'alptych': 134, 'temerity': 2, 'resignedly': 1, 'hardest': 4, 'occasions': 4, 'sympathize': 5, 'dumps': 1, 'dummy': 1, 'tales': 12, 'thoughtreferring': 1, 'unwell': 9, 'overpowering': 1, 'reciprocated': 1, 'criticized': 2, 'puppy': 1, 'pre': 6, 'unsuccessful': 3, 'soup': 9, 'genial': 3, 'chattering': 4, 'sunk': 13, 'oppression': 1, 'merci': 3, 'shoveled': 1, 'proceeded': 6, 'coachmen': 6, 'sleighs': 11, 'lodges': 7, 'laden': 4, 'overcoat': 21, 'akimbo': 4, 'amusement': 6, 'churlish': 1, 'heiress': 10, 'amusingly': 1, 'harm': 26, 'valets': 6, 'hideous': 1, 'starts': 3, 'row': 17, 'meantime': 3, 'maidservants': 3, 'marie': 8, 'loose': 17, 'outlines': 2, 'unobtrusive': 1, 'bouriennes': 14, 'toilet': 5, 'rendered': 11, 'smartened': 1, 'devise': 5, 'esteem': 10, 'betray': 5, 'decline': 7, 'offers': 7, 'prolong': 2, 'banter': 2, 'insistence': 2, 'blotches': 1, 'unattractive': 2, 'martyrlike': 1, 'submitted': 12, 'maroon': 3, 'fetched': 9, 'adornment': 1, 'changes': 11, 'decidedly': 4, 'clasping': 2, 'prefer': 6, 'everyday': 7, 'katie': 5, 'foretaste': 1, 'artistic': 2, 'katies': 1, 'chirping': 2, 'silenced': 2, 'shiningly': 1, 'insist': 4, 'coiffure': 7, 'struggling': 12, 'guise': 3, 'frighten': 6, 'shaken': 3, 'lises': 3, 'dominant': 1, 'strangely': 21, 'totally': 5, 'fancied': 11, 'ownsuch': 1, 'daughterat': 1, 'appalled': 3, 'lamp': 7, 'strongest': 3, 'longing': 6, 'stifle': 6, 'renounce': 8, 'thyself': 5, 'mayest': 1, 'forbidden': 8, 'curiously': 1, 'noting': 4, 'smelling': 1, 'pomade': 1, 'witted': 3, 'faculty': 5, 'invaluable': 2, 'imperturbable': 3, 'lacking': 9, 'dumb': 4, 'introduction': 1, 'betrays': 1, 'impropriety': 2, 'inspires': 3, 'lovea': 1, 'supercilious': 1, 'womeneven': 1, 'littlebut': 1, 'chatty': 1, 'assumption': 9, 'semi': 1, 'existjust': 1, 'existed': 25, 'readily': 16, 'annettes': 2, 'goings': 2, 'doings': 8, 'pining': 2, 'pearl': 1, 'city': 67, 'petite': 1, 'gentille': 1, 'shallow': 2, 'braggart': 1, 'specimen': 1, 'angered': 4, 'revived': 3, 'unsettled': 2, 'justly': 3, 'clashed': 1, 'unthinkable': 6, 'andrewa': 1, 'nowadaysbut': 1, 'immediate': 10, 'proposing': 6, 'birth': 5, 'unbecoming': 2, 'anatoles': 14, 'irritably': 6, 'shameless': 2, 'ignores': 1, 'befriend': 1, 'surveyed': 2, 'eccentricities': 1, 'questioning': 15, 'interceded': 1, 'hopes': 23, 'principleseverything': 1, 'aboveboard': 1, 'frankly': 13, 'crafty': 4, 'futility': 1, 'sighted': 6, 'kinsman': 3, 'reasoning': 15, 'magnanimous': 9, 'dreams': 11, 'reserved': 6, 'cordial': 6, 'devilish': 2, 'intend': 4, 'devote': 6, 'seduced': 1, 'sa': 4, 'pauvre': 6, 'mre': 8, 'yielding': 7, 'seducer': 2, 'calculation': 4, 'guided': 16, 'hears': 7, 'trumpet': 1, 'ulterior': 1, 'spectacle': 8, 'suddenness': 1, 'prompt': 3, 'coarsest': 1, 'intimately': 4, 'fearful': 4, 'loves': 15, 'etiquette': 2, 'amlie': 1, 'kindyes': 1, 'hethe': 2, 'deviland': 1, 'rebuking': 1, 'nightcap': 11, 'disheveled': 7, 'lumps': 1, 'snorting': 3, 'insulted': 8, 'insult': 13, 'upshe': 1, 'runs': 5, 'fr': 5, 'bouriennei': 1, 'pacifying': 2, 'undress': 9, 'nightshirt': 1, 'lifeand': 2, 'unaltered': 1, 'inquisitive': 6, 'emerged': 8, 'slippers': 6, 'couch': 7, 'romance': 5, 'tkhons': 3, 'careful': 16, 'treatment': 10, 'painstaking': 5, 'clenched': 3, 'arithmetic': 1, 'pupil': 4, 'principles': 6, 'refer': 5, 'disapproval': 7, 'submit': 18, 'dowry': 8, 'bargain': 1, 'maiden': 10, 'lifes': 6, 'fog': 19, 'untrue': 6, 'horrified': 16, 'scream': 6, 'incident': 6, 'radiance': 1, 'core': 1, 'regretting': 5, 'sensibility': 5, 'snuff': 5, 'pupilsi': 1, 'sonsname': 1, 'positively': 7, 'humbug': 5, 'amlies': 1, 'repents': 1, 'midwinter': 2, 'improved': 10, 'niklenka': 10, 'wa': 1, 'comforted': 9, 'teatime': 2, 'adroitly': 2, 'gifted': 4, 'shades': 3, 'pricked': 3, 'meal': 4, 'sensitive': 8, 'wriggling': 2, 'honey': 13, 'upi': 1, 'slyboots': 1, 'affect': 6, 'gleeful': 4, 'crybabies': 1, 'blubberers': 1, 'niklenkas': 2, 'brutes': 2, 'thered': 1, 'heap': 13, 'goose': 4, 'rememberi': 1, 'himi': 2, 'ecstatically': 6, 'earnestly': 2, 'namesake': 2, 'brigadier': 1, 'retiring': 7, 'keyhole': 1, 'intonations': 4, 'surgeon': 3, 'admits': 3, 'press': 10, 'schelling': 2, 'schoss': 16, 'puffed': 2, 'balloon': 7, 'plumped': 2, 'reread': 4, 'proofs': 7, 'quarrels': 5, 'granny': 1, 'ages': 7, 'imperceptibly': 7, 'cradle': 2, 'manhood': 4, 'growth': 2, 'stages': 7, 'beings': 7, 'suck': 2, 'charmingly': 1, 'describes': 2, 'descriptive': 1, 'braver': 2, 'highi': 1, 'week': 31, 'drafts': 1, 'supervision': 1, 'solicitude': 4, 'commissioned': 2, 'opportunities': 5, 'duke': 30, 'constantine': 3, 'pvlovich': 4, 'presumably': 1, 'dukes': 8, 'twelfth': 4, 'emperorsthe': 1, 'ismylov': 2, 'provisioned': 1, 'jews': 2, 'tempting': 3, 'wares': 2, 'feast': 6, 'celebrating': 2, 'awards': 3, 'expeditions': 3, 'caroline': 1, 'restaurant': 2, 'waitresses': 1, 'cornetcy': 1, 'bought': 19, 'debt': 6, 'playmate': 2, 'shabby': 6, 'lined': 9, 'knot': 11, 'appearancethat': 1, 'trip': 4, 'parading': 2, 'conveyed': 8, 'provided': 12, 'prided': 1, 'captaincy': 2, 'promptitude': 1, 'accuracy': 5, 'satisfactorily': 2, 'recommendation': 3, 'allotted': 4, 'chess': 5, 'accurate': 2, 'pyramid': 1, 'chessmen': 3, 'bergs': 10, 'opponents': 9, 'pawn': 2, 'petisenfans': 1, 'allay': 2, 'cushay': 1, 'dormir': 1, 'omit': 3, 'replace': 5, 'dread': 9, 'insincere': 6, 'hima': 1, 'martial': 10, 'swagger': 3, 'baritone': 3, 'bespattered': 4, 'landlady': 1, 'popped': 3, 'bolknskian': 1, 'cording': 1, 'tsarvich': 11, 'revels': 2, 'eying': 1, 'soften': 3, 'rudeness': 3, 'hosts': 6, 'cleanest': 2, 'speck': 2, 'pig': 4, 'gabriel': 5, 'enclosed': 2, 'dreamer': 2, 'everythings': 3, 'guardsmen': 1, 'irascibility': 1, 'relate': 12, 'gusto': 1, 'galicia': 1, 'irregularity': 2, 'arnauts': 2, 'tsarvichs': 1, 'regulations': 9, 'lords': 1, 'complacency': 3, 'stormed': 6, 'albanians': 1, 'siberia': 7, 'sagacious': 2, 'lighting': 11, 'truthful': 1, 'lapsed': 1, 'falsehood': 9, 'hearerswho': 1, 'storythey': 1, 'narrators': 1, 'aflame': 1, 'square': 33, 'slashed': 1, 'frenzy': 3, 'experiences': 4, 'assistance': 8, 'recounting': 3, 'allowance': 4, 'unconquerable': 1, 'condescend': 3, 'exasperation': 5, 'authority': 29, 'duel': 28, 'drubetsky': 18, 'displease': 2, 'friday': 5, 'omitted': 5, 'worried': 13, 'frail': 2, 'hated': 12, 'campaigning': 3, 'allied': 3, 'wheeled': 2, 'showy': 2, 'bandsmen': 1, 'roan': 2, 'brazen': 1, 'linstocks': 2, 'crawled': 3, 'waists': 1, 'necks': 8, 'stiff': 5, 'collars': 2, 'scarves': 3, 'decorations': 12, 'pomaded': 6, 'weapons': 9, 'groomed': 3, 'satin': 6, 'wetted': 1, 'smoothfelt': 1, 'insignificance': 10, 'ocean': 1, 'activities': 11, 'vast': 15, 'gust': 2, 'streamers': 2, 'lances': 2, 'unfolded': 4, 'standards': 15, 'staffs': 5, 'crowing': 3, 'sunrise': 2, 'deathlike': 2, 'stillness': 12, 'suites': 7, 'trumpets': 1, 'trumpeters': 2, 'deafeningly': 1, 'awed': 3, 'multitude': 3, 'immensity': 1, 'constituted': 9, 'forgetfulness': 5, 'atom': 3, 'crime': 14, 'deeds': 6, 'imminence': 1, 'fuller': 2, 'immobility': 3, 'composing': 2, 'freely': 16, 'menthe': 3, 'undivided': 2, 'tensely': 1, 'cocked': 4, 'peaks': 2, 'resonant': 1, 'ecstasy': 7, 'trait': 5, 'tsars': 13, 'longed': 18, 'earned': 2, 'georges': 11, 'injure': 2, 'rapture': 13, 'undecided': 12, 'indecision': 10, 'groin': 1, 'bay': 7, 'irregularly': 2, 'indolently': 3, 'quarrel': 14, 'affronts': 1, 'ceremonial': 3, 'purchased': 1, 'squadronthat': 1, 'horseman': 4, 'spurred': 8, 'foaming': 1, 'muzzle': 2, 'blissful': 9, 'vewy': 8, 'leap': 1, 'fare': 2, 'essen': 1, 'profit': 6, 'friendliness': 1, 'couldpreferably': 1, 'cringe': 1, 'brains': 4, 'courts': 5, 'strengthened': 7, 'guardsmans': 3, 'exalted': 5, 'personages': 13, 'medals': 3, 'immeasurably': 3, 'heartily': 5, '15': 2, 'waltz': 4, 'obsequious': 1, 'heed': 5, 'surmised': 1, 'subordination': 4, 'prescribed': 7, 'code': 10, 'laced': 2, 'chat': 4, 'unwritten': 4, 'annihilate': 3, 'fussing': 1, 'survey': 3, 'weyrothers': 9, 'thinkingfor': 1, 'blushingof': 1, 'apology': 1, 'gentlemans': 8, 'gentlemanevidently': 1, 'subordinationlooked': 1, 'presumptuous': 1, 'regards': 7, 'dolgorkov': 43, 'centered': 10, 'attach': 3, 'obtaining': 7, 'confers': 1, 'retinues': 1, 'schwartzenberg': 1, 'triumphed': 1, 'counseled': 1, 'confuted': 1, 'conclusive': 1, 'evidence': 4, 'councilthe': 1, 'itno': 1, 'undoubtedly': 8, 'strategic': 7, 'operations': 7, 'ordained': 2, 'maneuver': 5, 'maps': 4, 'warmest': 2, 'advocates': 3, 'uppermost': 2, 'unjust': 7, 'minuteness': 2, 'foresight': 2, 'eventuality': 2, 'combination': 10, 'valorwhat': 1, 'tra': 2, 'di': 2, 'ri': 1, 'ra': 1, 'consul': 1, 'bilbinhes': 1, 'suitable': 10, 'chef': 2, 'gouvernement': 1, 'franais': 2, 'dislike': 4, 'emperormore': 1, 'diplomatistyou': 1, 'adroitness': 3, 'acting': 16, 'markv': 7, 'talkative': 3, 'petitioner': 2, 'nuisance': 5, 'levity': 1, 'contact': 9, 'obedient': 3, 'metcoming': 1, 'entereda': 1, 'projecting': 1, 'vivacity': 2, 'shiftiness': 1, 'cool': 2, 'intensity': 3, 'animosity': 3, 'adam': 3, 'czartorski': 4, 'austerlitz': 50, 'sixteenth': 3, 'highroad': 22, 'distinguishing': 3, 'convoyed': 2, 'stnya': 1, 'wischau': 6, 'sunny': 4, 'frost': 25, 'precedes': 2, 'inactivity': 4, 'dwown': 1, 'gwief': 1, 'roadside': 3, 'captive': 5, 'dragoon': 8, 'alsatian': 2, 'corporals': 4, 'horsecloths': 4, 'excused': 3, 'soldierly': 2, 'freshness': 8, 'richest': 6, 'naturedly': 6, 'alley': 2, 'hats': 4, 'arrives': 4, 'cavalcade': 1, 'festive': 4, 'shedding': 3, 'beams': 8, 'deathly': 1, 'sire': 31, 'level': 12, 'liveliness': 3, 'poured': 11, 'remonstrances': 1, 'represented': 16, 'defeated': 9, 'petty': 10, 'market': 8, 'chestnut': 12, 'prone': 3, 'revolting': 2, 'shocked': 4, 'shuddered': 8, 'tapping': 4, 'spur': 2, 'unconcerned': 1, 'dismounting': 5, 'quelle': 1, 'yielded': 8, 'ration': 3, 'songs': 10, 'dealbut': 1, 'uplifted': 7, 'responded': 4, 'appwove': 1, 'wandering': 4, 'dienot': 1, 'memorable': 7, 'preceding': 10, 'tenths': 4, 'villier': 1, 'physician': 3, 'indisposition': 3, 'daybreak': 5, 'seventeenth': 2, 'demanding': 6, 'outposts': 13, 'savary': 4, 'victor': 1, 'actuated': 2, 'eighteenth': 4, 'nineteenth': 8, 'interchange': 1, 'circles': 25, 'twentieth': 6, 'activitythe': 1, 'dispatching': 4, 'adjutantswas': 1, 'bivouacs': 3, 'tower': 6, 'revolve': 2, 'levers': 1, 'cogwheels': 3, 'chimes': 2, 'pop': 1, 'mechanism': 5, 'quiescent': 1, 'axles': 1, 'cogs': 1, 'engage': 3, 'revolving': 1, 'pulleys': 2, 'whirr': 2, 'lever': 2, 'catches': 5, 'obeying': 4, 'ken': 4, 'complicated': 13, '160': 2, '000': 9, 'frenchall': 1, 'passions': 13, 'remorse': 13, 'humiliations': 1, 'outbursts': 2, 'enthusiasmwas': 1, 'emperorsthat': 1, 'dial': 1, 'tolsty': 7, 'dyou': 4, 'temporize': 1, 'fears': 8, 'prizing': 1, 'method': 12, 'chagrin': 2, 'rulenot': 1, 'cunctators': 1, 'map': 16, 'eventualities': 2, 'flanking': 1, 'disadvantage': 4, 'demonstrate': 3, 'defects': 4, 'merits': 4, 'bothering': 2, 'herr': 3, 'wimpfen': 1, 'comte': 5, 'langeron': 10, 'lichtenstein': 1, 'hohenlohe': 1, 'prishprish': 1, 'names': 8, 'backbiter': 1, 'milordovich': 19, 'arakchev': 38, 'nerves': 5, 'rice': 5, 'cutlets': 2, 'shortly': 3, 'marked': 7, 'drowsy': 2, 'chairman': 3, 'president': 2, 'unrestrainable': 1, 'reconnoiter': 1, 'dictated': 3, 'haughty': 1, 'noblemans': 2, 'dimensions': 4, 'ostralitz': 1, 'office': 10, 'environs': 1, 'unbuttoned': 11, 'bulged': 2, 'podgy': 3, 'droop': 2, 'emitted': 4, 'elsehe': 1, 'satisfying': 4, 'heading': 2, 'kobelnitz': 3, 'sokolnitz': 4, '30': 6, 'wooded': 6, 'extends': 1, 'ponds': 6, 'whereby': 1, 'pursue': 5, 'schlappanitz': 4, 'thuerassa': 2, 'defiles': 1, 'bellowitz': 1, 'glistening': 5, 'twisted': 5, 'outwards': 2, 'stubbornly': 3, 'disagreed': 2, 'arrangements': 20, 'typically': 1, 'twirled': 4, 'longest': 1, 'rotary': 1, 'inimical': 1, 'lurking': 2, 'latters': 4, 'impressive': 1, 'twirling': 2, 'geography': 3, 'przebyszwski': 3, 'dohktrov': 2, 'mien': 1, 'outspread': 4, 'complied': 1, 'whereas': 6, 'langerons': 3, 'objections': 5, 'valid': 3, 'weyrotherwho': 1, 'school': 2, 'childrenthat': 1, 'miller': 2, 'wakes': 2, 'soporific': 1, 'drone': 3, 'sink': 7, 'virulently': 2, 'sting': 5, 'argued': 6, 'render': 9, 'worthless': 4, 'doom': 1, 'subtly': 2, 'disputing': 11, 'foi': 3, 'ridiculous': 13, 'quenched': 1, 'saves': 1, 'tomorrowor': 1, 'midnightcannot': 1, 'midnight': 12, 'vague': 17, 'righthe': 1, 'considerations': 21, 'series': 38, 'memories': 27, 'emotional': 3, 'billeted': 2, 'foggy': 3, 'moonlight': 13, 'presentiment': 8, 'presents': 19, 'expresses': 8, 'justness': 1, 'undertakes': 1, 'divisionstipulates': 1, 'arrangementsleads': 1, 'triumphs': 1, 'planned': 8, 'nominally': 1, 'betrayed': 8, 'thiswant': 1, 'familyi': 1, 'mefather': 1, 'wifethose': 1, 'meyet': 1, 'coachmans': 7, 'teasing': 2, 'cook': 22, 'tit': 7, 'thresh': 2, 'sleepiness': 1, 'misty': 10, 'peer': 1, 'glimmer': 1, 'appearednow': 1, 'memoriesand': 1, 'unmask': 1, 'deceivers': 1, 'deceitful': 1, 'slap': 1, 'watchwordshaft': 1, 'lighter': 5, 'knoll': 41, 'glade': 3, 'moon': 16, 'unmelted': 1, 'spotune': 1, 'tache': 2, 'na': 3, 'tasha': 1, 'succumbing': 1, 'itthats': 1, 'tverskya': 1, 'gryevs': 1, 'gryev': 1, 'tsha': 1, 'flared': 10, 'ahahah': 1, 'rrrr': 1, 'fidgeting': 1, 'pawed': 1, 'frozen': 11, 'pricking': 3, 'produce': 18, 'vive': 19, 'lempereur': 21, 'looming': 1, 'elephant': 1, 'phenomenon': 11, 'kindle': 4, 'fdchenko': 1, 'mistaking': 2, 'gullies': 2, 'discovering': 2, 'mistakes': 14, 'hillside': 2, 'safer': 1, 'pickets': 3, 'whizzing': 1, 'plaintive': 4, 'pan': 1, 'repress': 6, 'induced': 5, 'occasioned': 6, 'proclamation': 20, 'wisps': 2, 'valor': 5, 'exposing': 5, 'blows': 10, 'plea': 5, 'imbued': 4, 'hirelings': 1, 'conclude': 7, 'breakfasting': 2, 'tattoo': 2, 'flames': 19, 'sheds': 5, 'guides': 2, 'heralds': 1, 'swords': 9, 'packed': 17, 'loads': 2, 'sailor': 3, 'ship': 15, 'reaches': 7, 'decks': 1, 'masts': 1, 'rigging': 1, 'jack': 1, 'latitude': 1, 'battleheaven': 1, 'whencea': 1, 'awakening': 10, 'cliffs': 1, 'slopes': 4, 'enclosures': 1, 'krskies': 1, 'exert': 2, 'cheer': 1, 'dislocation': 1, 'define': 6, 'flows': 4, 'irrepressibly': 1, 'creek': 1, 'mismanagement': 1, 'attributed': 14, 'muddle': 3, 'eaters': 3, 'blocked': 8, 'theyd': 4, 'rhyme': 1, 'muddling': 1, 'lafa': 1, 'mimicking': 1, 'shoot': 12, 'altercation': 1, 'densely': 1, 'varying': 5, 'intervalstrata': 1, 'tatand': 1, 'goldbach': 1, 'lazily': 4, 'timely': 1, 'pratzen': 17, 'unbroken': 5, 'suns': 2, 'orb': 3, 'float': 3, 'surface': 10, 'milky': 3, 'streams': 5, 'hollows': 5, 'facewhich': 1, 'thinmoved': 1, 'predictions': 2, 'lakes': 1, 'disappearing': 1, 'indications': 5, 'anniversary': 1, 'refreshed': 6, 'succeeds': 2, 'sees': 21, 'venturing': 2, 'aglow': 3, 'lightas': 1, 'actionhe': 1, 'denuded': 1, 'milordovichs': 1, 'przebyszwskis': 1, 'thereby': 19, 'controlledly': 1, 'contingencies': 8, 'hoar': 1, 'dew': 8, 'valleys': 2, 'shore': 4, 'discernible': 3, 'descried': 3, 'region': 13, 'irritable': 10, 'defile': 2, 'deploying': 1, 'surly': 1, 'malevolent': 4, 'barren': 2, 'omission': 1, 'lassitude': 1, 'yawning': 3, 'butts': 1, 'yawn': 2, 'saluting': 1, 'affecting': 3, 'obeys': 2, 'haze': 2, 'bewitching': 5, 'prevalent': 1, 'restfully': 1, 'volknsky': 1, 'strgonov': 1, 'richly': 1, 'heated': 8, 'questionmost': 1, 'grooms': 2, 'relay': 4, 'cloths': 1, 'whiff': 5, 'stuffy': 3, 'cheerless': 1, 'advent': 1, 'complaining': 2, 'resounding': 4, 'preclude': 2, 'twitchedthat': 1, 'dissatisfaction': 16, 'observantly': 2, 'unreasoning': 7, 'submissive': 9, 'nvgorod': 3, 'psheron': 4, 'strenuously': 1, 'ferons': 1, 'sera': 2, 'dans': 6, 'notre': 3, 'possibilit': 1, 'brisk': 4, 'cheery': 1, 'gallant': 10, 'psherons': 4, 'gallantly': 2, 'enduring': 4, 'cob': 1, 'followers': 2, 'carabineers': 1, 'roads': 18, 'barely': 3, 'alls': 1, 'oneself': 16, 'hindering': 2, 'flood': 3, 'wretches': 5, 'gasped': 3, 'volley': 2, 'despairingly': 2, 'feebleness': 2, 'choking': 10, 'leapt': 1, 'aimed': 8, 'unceasingly': 4, 'himat': 1, 'distraught': 4, 'unarmed': 3, 'stab': 4, 'remembers': 6, 'stabs': 1, 'trailing': 3, 'bludgeon': 1, 'skythe': 1, 'andrewnot': 1, 'glide': 1, 'infinite': 23, 'dolgorkovs': 2, 'commence': 2, 'avert': 3, 'expressionless': 4, 'boyish': 1, 'elasticity': 1, 'bravest': 5, 'rein': 8, 'uvrovs': 5, 'volleys': 1, 'chase': 7, 'hillsides': 1, 'caissons': 2, 'whither': 6, 'sights': 2, 'depressing': 9, 'intimidating': 1, 'stimulated': 4, 'handful': 4, 'uhlans': 28, 'width': 1, 'trotting': 2, 'jingle': 2, 'crushed': 13, 'collide': 1, 'bowled': 1, 'shied': 1, 'extending': 6, 'amazed': 16, 'youths': 3, 'eighteen': 10, 'warlike': 7, 'describing': 12, 'discharged': 7, 'helmet': 1, 'uniformed': 2, 'familythe': 1, 'bergshave': 1, 'knights': 6, 'traversed': 2, 'charged': 5, 'hottest': 1, 'issue': 8, 'perish': 15, 'foreboding': 4, 'evil': 31, 'czech': 1, 'themthe': 2, 'traitors': 10, 'zum': 1, 'henker': 1, 'diese': 1, 'hubbub': 1, 'thronged': 5, 'calches': 3, 'droned': 1, 'jostled': 5, 'dismal': 4, 'bolted': 1, 'batman': 1, 'groom': 23, 'dangerously': 1, 'derision': 3, 'ivnych': 9, 'drives': 6, 'ballstruck': 1, 'killedwounded': 1, 'corrected': 7, 'namewell': 1, 'hosjeradek': 2, 'russiansthe': 1, 'woundedhad': 1, 'heaps': 2, 'plowland': 1, 'acres': 3, 'crept': 7, 'twos': 3, 'threes': 4, 'distressing': 3, 'feignedor': 1, 'afraidafraid': 1, 'unfortunates': 2, 'strewn': 4, 'corpses': 9, 'ober': 1, 'hofmarschal': 1, 'thither': 4, 'horseback': 5, 'leaped': 7, 'crumbled': 2, 'hind': 9, 'deferentially': 2, 'riveted': 2, 'refusal': 16, 'lamented': 2, 'beloved': 16, 'trembles': 1, 'unnerved': 1, 'dares': 2, 'despondent': 2, 'fails': 4, 'speeches': 4, 'recall': 13, 'intrude': 2, 'risk': 6, 'sorrowfully': 3, 'toll': 27, 'chanced': 6, 'assisted': 1, 'tolls': 1, 'unique': 2, 'bandy': 5, 'serf': 16, 'peaked': 3, 'sheepskin': 8, 'dokhtrovs': 2, 'dams': 1, 'banks': 6, 'augesd': 5, 'rallying': 2, 'pursuing': 8, 'dusk': 7, 'tasseled': 1, 'angling': 2, 'grandson': 4, 'handled': 2, 'silvery': 3, 'fish': 5, 'watering': 3, 'moravians': 1, 'wheat': 1, 'dusty': 13, 'whitening': 1, 'cartson': 1, 'splashing': 13, 'dlokhovnow': 1, 'officerwounded': 1, 'impelled': 3, 'wedged': 2, 'edge': 27, 'slippery': 3, 'millpool': 1, 'bears': 5, 'flopped': 4, 'pool': 5, 'pond': 18, 'shrank': 6, 'cries': 20, 'collapsed': 5, 'oftenest': 2, 'flagstaff': 2, 'profusely': 2, 'moan': 8, 'moaning': 13, 'unconsciousness': 3, 'lacerating': 1, 'infinity': 4, 'stiffened': 3, 'trophy': 2, 'buzzing': 8, 'everlasting': 2, 'napoleonhis': 1, 'herobut': 1, 'jolting': 5, 'probing': 2, 'regain': 5, 'transfer': 7, 'senses': 7, 'repnn': 6, 'honorably': 1, 'bestow': 3, 'sukhtlen': 2, 'meddle': 3, 'hindrance': 8, 'failing': 10, 'epithet': 1, 'paltry': 1, 'equitable': 1, 'futile': 3, 'unimportance': 3, 'bivouac': 4, 'larrey': 3, 'indefinable': 2, 'wordsthe': 1, 'sewn': 3, 'amulet': 1, 'jolt': 1, 'unendurable': 1, 'feverishness': 1, 'delirious': 5, 'visions': 1, 'unsympathizing': 1, 'misery': 10, 'melted': 9, 'chaos': 1, 'unconciousness': 1, 'oblivion': 2, 'convalescence': 6, 'bilious': 2, 'recover': 13, 'fatally': 1, 'district': 19, 'vornezh': 18, 'ruts': 4, 'insufferable': 1, 'bakers': 1, 'signboards': 2, 'gate': 56, 'crossroads': 4, 'cabman': 3, 'zakhr': 9, 'buy': 16, 'gingerbread': 3, 'vodkaget': 1, 'overhead': 4, 'cornice': 1, 'plaster': 4, 'warped': 1, 'cleaned': 4, 'loosely': 2, 'tallow': 4, 'prokfy': 2, 'plaiting': 2, 'selvedges': 1, 'chandelier': 1, 'tornado': 1, 'outcries': 1, 'klya': 1, 'flocked': 2, 'exclaiming': 1, 'ing': 2, 'clinging': 7, 'kisses': 4, 'skirt': 12, 'goat': 1, 'braiding': 1, 'unnoticed': 12, 'introducing': 7, 'springing': 3, 'blissfully': 1, 'adoring': 2, 'disputed': 7, 'insufficient': 6, 'travelers': 5, 'satchels': 1, 'sabretaches': 1, 'portmanteaus': 4, 'pairs': 4, 'jugs': 1, 'basins': 1, 'shaving': 3, 'odor': 5, 'hallo': 2, 'gwskamy': 1, 'husky': 3, 'glued': 3, 'starched': 1, 'blanket': 3, 'mustached': 2, 'servile': 2, 'frocks': 2, 'replies': 16, 'awfully': 8, 'herthou': 1, 'ruler': 13, 'cushions': 3, 'schoolroom': 3, 'wildly': 6, 'thatif': 1, 'promiseit': 1, 'wouldnt': 19, 'duport': 7, 'duportthe': 1, 'dancer': 9, 'curving': 2, 'skirts': 6, 'caper': 1, 'rubbish': 12, 'breakfast': 7, 'reddened': 3, 'yousnya': 1, 'intermediacy': 1, 'selecting': 1, 'strangers': 12, 'observations': 4, 'whodreading': 1, 'matchblushed': 1, 'perfumed': 5, 'matches': 2, 'remortgaged': 1, 'acquiring': 2, 'trotter': 3, 'stylish': 1, 'adapting': 2, 'matured': 2, 'scripture': 1, 'borrowing': 2, 'gavrl': 1, 'slyhe': 1, 'childishness': 2, 'bravery': 3, 'training': 3, 'boulevards': 2, 'visited': 17, 'mazurka': 11, 'cooled': 2, 'incarnate': 1, 'rejoining': 1, 'drifted': 1, 'bind': 14, 'prizes': 1, 'derogatory': 1, 'races': 1, 'sprees': 2, 'housethat': 1, 'feoktst': 2, 'clubs': 4, 'asparagus': 2, 'cucumbers': 1, 'strawberries': 2, 'veal': 1, 'committee': 16, 'founded': 6, 'arrangement': 7, 'festival': 1, 'hospitable': 4, 'scale': 2, 'fewer': 8, 'management': 12, 'extract': 1, 'comb': 3, 'lessyes': 1, 'mayonnaise': 1, 'sterlets': 1, 'entre': 1, 'factotum': 1, 'maksm': 1, 'hothouses': 2, 'pots': 1, 'footstep': 5, 'sleeker': 2, 'orchestra': 10, 'gypsy': 9, 'providing': 5, 'rasgulyythe': 1, 'iptka': 1, 'knowsand': 1, 'ilyshka': 2, 'businesslike': 2, 'costume': 10, 'angelic': 2, 'wh': 1, 'ivnovnas': 2, 'compromised': 1, 'daredevil': 3, 'clubit': 1, 'banquet': 5, 'foregathered': 1, 'december': 13, 'conspiracy': 6, 'conversationcount': 1, 'rostopchn': 103, 'yri': 1, 'valev': 5, 'vyzemskidid': 1, 'moscovites': 5, 'othersily': 1, 'themremained': 1, 'leaders': 14, 'jury': 1, 'unheard': 6, 'defective': 4, 'incapacity': 4, 'inexperience': 1, 'achieved': 4, 'miracles': 1, 'heroes': 18, 'conduced': 2, 'moscows': 4, 'associated': 15, 'invent': 4, 'parodying': 1, 'voltaire': 4, 'abused': 5, 'weathercock': 2, 'satyr': 1, 'modeling': 2, 'highfalutin': 1, 'logical': 11, 'anecdotes': 5, 'examples': 5, 'singlehanded': 2, 'regretted': 11, 'springtime': 2, 'hither': 3, 'kaftns': 1, 'class': 24, 'guestschiefly': 1, 'dlokhovwho': 1, 'fashionably': 2, 'elsewhere': 6, 'subservience': 2, 'lording': 1, 'narshkin': 3, 'confidentially': 4, 'uvrov': 4, 'crowed': 3, 'cock': 7, 'improper': 5, 'unimportant': 8, 'igntovich': 1, 'bells': 23, 'stewards': 10, 'andlike': 2, 'rye': 15, 'shovelthe': 1, 'eve': 14, 'virile': 2, 'comical': 2, 'bekleshv': 2, 'theodore': 15, 'parquet': 4, 'plowed': 4, 'kursk': 1, 'grabernand': 1, 'committeemen': 2, 'committeeman': 1, 'salver': 6, 'printed': 9, 'heros': 1, 'obligingly': 1, 'fixing': 6, 'titus': 1, 'shield': 3, 'rhipheus': 1, 'caesar': 2, 'een': 1, 'herculean': 1, 'stentorian': 1, 'domo': 13, 'polonaise': 5, 'conquests': 5, 'waken': 2, 'valiant': 5, 'alexandersbekleshv': 1, 'narshkinwhich': 1, 'allusion': 2, 'deepest': 4, 'disjointed': 1, 'proudly': 6, 'personification': 3, 'lenten': 1, 'sterlet': 2, 'corks': 1, 'toasts': 1, 'gulp': 1, 'subsided': 5, 'toast': 3, 'choir': 6, 'cantata': 2, 'barriers': 3, 'conquest': 3, 'guarantees': 1, 'foemen': 1, 'aprksin': 1, 'organizer': 1, 'blinking': 5, 'unsolved': 2, 'monstrous': 5, 'recovered': 13, 'boon': 1, 'lent': 2, 'cynically': 1, 'exerted': 2, 'befriended': 1, 'spice': 1, 'add': 8, 'deceiving': 3, 'cruelty': 15, 'challenged': 6, 'bully': 2, 'himand': 5, 'rake': 3, 'inimically': 1, 'wordan': 1, 'preoccupation': 4, 'submissively': 6, 'confound': 4, 'peterkinand': 1, 'distributing': 9, 'leaflets': 2, 'snatched': 10, 'mirthful': 1, 'ejaculated': 6, 'indubitably': 5, 'affirmative': 2, 'sundered': 1, 'gypsies': 7, 'soklniki': 8, 'dueling': 1, 'huntsman': 22, 'kostrom': 3, 'demain': 1, 'haggard': 1, 'distractedly': 1, 'guiltlessness': 1, 'bury': 5, 'impetuous': 2, 'horribly': 2, 'regrets': 4, 'opponent': 9, 'irreparable': 2, 'convey': 6, 'trigger': 3, 'handa': 1, 'apologies': 1, 'attempting': 2, 'melting': 6, 'antagonists': 3, 'measuring': 3, 'averted': 1, 'independently': 15, 'advesawies': 1, 'wefused': 1, 'weconciliation': 1, 'pwoceed': 1, 'thwee': 3, 'ne': 11, 'wo': 1, 'combatants': 2, 'semblance': 1, 'track': 8, 'staggering': 7, 'bloody': 3, 'pallid': 1, 'sucked': 2, 'glittered': 16, 'adversary': 1, 'trampling': 5, 'incoherent': 7, 'survive': 5, 'quieter': 4, 'implored': 6, 'brawler': 1, 'hunchback': 1, 'reeled': 1, 'honeymoon': 1, 'vivid': 7, 'unapproachability': 1, 'depraved': 7, 'borrow': 2, 'symptoms': 9, 'coarseness': 1, 'bluntness': 2, 'vulgarity': 1, 'aristocratic': 3, 'allez': 1, 'promener': 1, 'bravado': 1, 'confidant': 2, 'digested': 1, 'slur': 3, 'honorthats': 1, 'criminal': 11, 'canonized': 1, 'martyrs': 1, 'robespierre': 1, 'beheaded': 1, 'despot': 1, 'alivelive': 1, 'eternity': 8, 'calmed': 3, 'molires': 1, 'diable': 3, 'allait': 1, 'galre': 1, 'galley': 1, 'pack': 23, 'ottoman': 2, 'coronet': 1, 'wrathful': 2, 'wrinkle': 6, 'continues': 4, 'crouch': 1, 'stammered': 3, 'amant': 1, 'tes': 2, 'sot': 1, 'laughingstock': 3, 'cleverer': 3, 'amants': 1, 'brandishing': 2, 'slab': 2, 'swooping': 2, 'outstretched': 7, 'searches': 1, 'gazettes': 1, 'vaguely': 12, 'engagements': 3, 'withdrawal': 3, 'gazette': 5, 'befallen': 1, 'regimenthe': 1, 'fatherland': 29, 'grim': 4, 'impetus': 5, 'incomprehensiblethe': 1, 'indescribable': 1, 'joya': 1, 'worldoverflowed': 1, 'scraggy': 2, 'unbelief': 1, 'realms': 2, 'blessedness': 7, 'russias': 7, 'expectantly': 1, 'knelt': 7, 'restless': 12, 'malign': 1, 'cherish': 4, 'monument': 2, 'weaker': 19, 'manifest': 7, 'princessinfluenced': 1, 'causewas': 1, 'mornings': 8, 'fruschtique': 1, '*as': 2, 'fka': 3, 'ithas': 1, 'frhstck': 1, 'ponderous': 1, 'bogdnovna': 9, 'midwife': 5, 'assented': 11, 'pallor': 5, 'indigestion': 2, 'capriciously': 1, 'hastening': 5, 'accordance': 7, 'kneeling': 6, 'prayers': 13, 'praskvya': 1, 'svishna': 3, 'saint': 8, 'birdie': 1, 'travail': 3, 'pretend': 5, 'staid': 3, 'softening': 4, 'outlying': 1, 'torches': 1, 'labor': 15, 'perturbed': 6, 'snuffing': 1, 'mystery': 14, 'unfathomable': 5, 'lessen': 1, 'resume': 2, 'scatters': 1, 'snows': 2, 'storms': 2, 'pools': 2, 'kerchief': 11, 'kishenv': 1, 'moldavian': 1, 'casement': 5, 'larks': 2, 'forcing': 4, 'latch': 2, 'blew': 6, 'chill': 7, 'draft': 4, 'flapped': 1, 'banister': 1, 'guttered': 1, 'philip': 3, 'demyn': 2, 'replywhich': 1, 'speakhe': 1, 'apartment': 5, 'pains': 6, 'inflamed': 3, 'saida': 1, 'pangs': 1, 'moans': 6, 'shriekit': 1, 'thatcame': 1, 'infant': 5, 'choked': 9, 'squealed': 1, 'bogdnovnas': 1, 'vise': 2, 'coffin': 10, 'waxen': 2, 'baptized': 1, 'coverlet': 1, 'anointed': 1, 'soles': 2, 'battered': 1, 'tin': 1, 'font': 3, 'godmother': 1, 'termination': 2, 'babys': 6, 'floated': 2, 'fdya': 6, 'souled': 1, 'virtue': 32, 'pranks': 1, 'tricks': 3, 'scotfree': 1, 'nowthis': 1, 'reckoning': 8, 'owed': 4, 'baseness': 10, 'throttle': 2, 'friendsyou': 1, 'themand': 3, 'harmful': 19, 'womencountesses': 1, 'cookswho': 1, 'venal': 1, 'purity': 15, 'regenerate': 1, 'purify': 4, 'elevate': 1, 'happiest': 6, 'merriest': 4, 'childishly': 2, 'girlishly': 1, 'prevailed': 6, 'amorous': 3, 'homes': 9, 'houseseeing': 1, 'impressionable': 1, 'fitful': 1, 'bursts': 4, 'inconsequent': 1, 'prattle': 1, 'hopeexperienced': 1, 'folk': 25, 'readiness': 18, 'quarreled': 10, 'dlokhovyou': 1, 'prediction': 2, 'iogels': 4, 'recruits': 6, 'militia': 26, 'anathematized': 1, 'furlough': 3, 'christmas': 11, 'zest': 2, 'epiphany': 1, 'holiday': 9, 'tension': 3, 'lesser': 17, 'sensitiveness': 1, 'wary': 1, 'iogel': 9, 'holidays': 6, 'dmtrich': 11, 'jocularly': 1, 'knight': 5, 'weady': 2, 'chle': 3, 'dowerless': 2, 'orphan': 1, 'nicholasdont': 1, 'angrybut': 1, 'articulating': 4, 'misleading': 2, 'maidens': 1, 'gorchakv': 1, 'dances': 7, 'absence': 48, 'tickets': 1, 'exceptions': 4, 'prettyso': 1, 'exceptionally': 2, 'prettiest': 2, 'transparently': 1, 'patronage': 6, 'isshe': 1, 'weal': 3, 'gwace': 1, 'pupilsyou': 1, 'wallflower': 1, 'wecollect': 1, 'talentoh': 1, 'mazuwka': 1, 'delightedly': 3, 'coax': 1, 'jokingly': 1, 'faiwy': 1, 'unhooked': 1, 'stature': 2, 'clanking': 3, 'spun': 4, 'click': 5, 'curtsy': 1, 'acknowledge': 6, 'mopping': 1, 'friendscome': 1, 'hotel': 4, 'pile': 1, 'chorus': 4, 'reddening': 3, 'punt': 1, 'trusts': 1, 'staked': 3, 'dealt': 14, 'muddled': 2, 'players': 5, 'stint': 1, 'scored': 2, '800': 2, 'chalk': 4, 'sunday': 15, 'economical': 2, 'duets': 1, 'piquet': 1, 'vividness': 3, 'unappreciated': 1, 'illumined': 3, 'plunge': 1, 'depths': 19, 'undefined': 4, 'wrists': 4, 'aah': 1, 'exceeded': 3, 'scrawled': 2, 'ace': 1, 'knave': 1, 'quits': 1, 'staking': 1, 'casket': 3, 'agile': 2, 'bathed': 5, 'fateful': 1, 'accents': 1, 'brainthats': 1, 'addition': 5, 'unbent': 1, 'unlucky': 4, 'inflict': 5, 'mouse': 1, 'enfolded': 1, 'pervaded': 2, 'thicker': 2, 'thunderstorm': 1, 'gentlewoman': 1, 'ruffled': 1, 'chords': 3, 'enchantress': 4, 'forsaken': 3, 'lyre': 1, 'magic': 5, 'recalls': 1, 'inmost': 1, 'agate': 2, 'persuade': 9, 'excuses': 4, 'bacawollai': 1, 'entweat': 1, 'barcarolle': 2, 'chord': 5, 'ruined': 39, 'dishonored': 3, 'menot': 1, 'onelet': 1, 'resonance': 3, 'lifelessly': 2, 'rapt': 2, 'swelled': 3, 'mainly': 1, 'connoisseurs': 3, 'untrained': 2, 'incorrect': 4, 'labored': 1, 'virginal': 1, 'velvety': 4, 'anticipation': 3, 'beats': 3, 'mio': 2, 'crudele': 2, 'affetto': 2, 'honorits': 1, 'si': 4, 'vibrated': 2, 'rob': 3, 'wellhad': 1, 'dealforty': 1, 'apoplectic': 1, 'flush': 5, 'kneel': 1, 'rude': 7, 'bustlingly': 1, 'furtive': 1, 'resistance': 3, 'pa': 4, 'chit': 4, 'indignantly': 2, 'responsive': 1, 'accidently': 1, 'sarcastically': 5, 'indignant': 2, 'densovbut': 1, 'plight': 9, 'wong': 1, 'adore': 3, 'albums': 4, 'receipt': 6, 'overtake': 10, 'torzhk': 6, 'postmaster': 8, 'supply': 9, 'undressing': 13, 'overboots': 1, 'reflect': 10, 'pondering': 2, 'questionone': 1, 'accommodation': 2, 'selling': 8, 'agonizing': 2, 'solitude': 15, 'solve': 6, 'thread': 3, 'screw': 3, 'stripped': 4, 'traveler': 11, 'unavoidable': 8, 'thrashing': 3, 'thrashed': 1, 'himalso': 1, 'governs': 2, 'peddler': 1, 'whining': 3, 'goatskin': 1, 'stands': 9, 'prey': 3, 'tomorrowat': 1, 'novel': 9, 'souza': 1, 'struggles': 2, 'emilie': 1, 'mansfeld': 1, 'wifeas': 1, 'wasdid': 1, 'wisdom': 14, 'repellent': 3, 'repugnance': 2, 'tantalizing': 1, 'overhanging': 2, 'indefinite': 14, 'grayish': 1, 'wraps': 2, 'nankeen': 1, 'shriveled': 10, 'iron': 4, 'representing': 7, 'deaths': 4, 'beard': 13, 'unpacking': 1, 'boiling': 4, 'beardless': 4, 'inevitability': 51, 'upside': 4, 'unfinished': 6, 'nibbled': 2, 'sugar': 9, 'devotional': 2, 'marker': 1, 'emphasize': 1, 'sayyes': 1, 'submitting': 7, 'paternal': 5, 'skulla': 1, 'masonic': 18, 'mason': 22, 'brotherhood': 16, 'freemasons': 12, 'wavering': 4, 'personality': 10, 'ridiculing': 1, 'beliefsi': 1, 'understandinghow': 1, 'opposed': 11, 'outlook': 5, 'invariable': 3, 'ignorance': 9, 'regrettable': 2, 'delusion': 5, 'deluded': 1, 'cooperation': 2, 'generations': 4, 'forefather': 2, 'reared': 5, 'regretfully': 3, 'blasphemous': 3, 'hast': 7, 'denied': 5, 'exulting': 2, 'austerity': 1, 'invented': 12, 'didst': 2, 'attributes': 2, 'exists': 18, 'omnipotence': 1, 'vileness': 4, 'sinfulness': 1, 'dreamest': 1, 'couldst': 1, 'somber': 2, 'scornful': 2, 'unreasonable': 6, 'infinitely': 12, 'masons': 11, 'accepted': 36, 'believes': 5, 'earnestness': 1, 'tremor': 4, 'voicewhich': 1, 'brokeor': 1, 'dejection': 2, 'regeneration': 7, 'apprehended': 1, 'reawakening': 1, 'fatherly': 1, 'purest': 2, 'liquid': 4, 'imbibe': 1, 'impure': 1, 'vessel': 3, 'purification': 5, 'retain': 7, 'sciences': 11, 'physics': 4, 'chemistry': 2, 'sciencethe': 2, 'wholethe': 1, 'creation': 5, 'implanted': 4, 'souls': 14, 'content': 16, 'relying': 1, 'gifts': 2, 'wincing': 4, 'hatest': 1, 'purified': 1, 'wilt': 1, 'orgies': 2, 'slaves': 1, 'profited': 1, 'toil': 8, 'profligate': 3, 'idleness': 8, 'sirtook': 1, 'discourse': 2, 'idle': 7, 'huskily': 1, 'exchange': 11, 'disclose': 4, 'practiced': 3, 'fastening': 1, 'gulped': 1, 'willarski': 29, 'joseph': 28, 'alexevich': 34, 'bazdev': 5, 'postmasters': 1, 'martinists': 1, 'novkovs': 1, 'anew': 2, 'irreproachable': 6, 'freemasonry': 18, 'thomas': 2, 'kempis': 1, 'attaining': 4, 'ceremonious': 2, 'application': 8, 'sponsor': 2, 'sacred': 14, 'sponsorship': 1, 'sinceritynot': 1, 'renounced': 5, 'convictionsdo': 1, 'inquiries': 12, 'lodge': 28, 'attire': 3, 'undertone': 1, 'wardrobe': 3, 'cupboard': 3, 'shamefaced': 7, 'manfully': 1, 'affirmatively': 4, 'knock': 6, 'uncover': 1, 'numb': 2, 'complex': 16, 'actively': 2, 'knocks': 2, 'gospel': 7, 'cavities': 1, 'bones': 2, 'gospelit': 1, 'stimulate': 1, 'emotions': 5, 'associating': 2, 'gloved': 4, 'outlining': 1, 'enlightenment': 8, 'boyhood': 2, 'socially': 1, 'bated': 2, 'rhetor': 22, 'seeker': 4, 'smolyannov': 2, 'acquaintancehe': 1, 'instructor': 3, 'utterance': 4, 'fraternity': 1, 'aims': 19, 'inadequacy': 1, 'atheist': 1, 'coincides': 4, 'posterity': 8, 'remotest': 3, 'mana': 4, 'diligent': 2, 'secondary': 4, 'enlighten': 2, 'tradition': 3, 'striven': 3, 'purifying': 2, 'regenerating': 2, 'thirdly': 8, 'improve': 9, 'combat': 4, 'sways': 2, 'exhortation': 2, 'oppressors': 1, 'victims': 3, 'improving': 1, 'appealed': 3, 'cured': 2, 'faults': 3, 'corresponding': 9, 'solomons': 1, 'cultivate': 1, 'discretion': 3, 'obedience': 3, 'morality': 2, '5': 7, 'generosity': 6, 'frees': 1, 'labors': 5, 'distressful': 1, 'recompense': 2, 'obediencewhich': 1, 'lawlessness': 1, 'indubitable': 6, 'delivers': 1, 'teaching': 10, 'chamber': 5, 'therein': 1, 'initiation': 2, 'imitates': 1, 'societies': 5, 'hieroglyphics': 1, 'hieroglyph': 2, 'emblem': 1, 'cognizable': 1, 'possesses': 7, 'symbol': 1, 'ordeal': 1, 'valuables': 3, 'rhetors': 2, 'trousers': 12, 'tuck': 1, 'trouser': 2, 'slipper': 1, 'candor': 1, 'reveal': 3, 'waver': 1, 'gluttony': 1, 'laziness': 1, 'irritability': 11, 'vices': 2, 'eminence': 1, 'youturn': 1, 'source': 19, 'flooded': 3, 'unevenly': 2, 'slippered': 3, 'booted': 1, 'forwards': 4, 'mallets': 2, 'blindfolded': 6, 'allegories': 1, 'toils': 2, 'pilgrimage': 2, 'universe': 8, 'dangers': 4, 'wanderings': 2, 'sufferer': 1, 'postulant': 1, 'accompaniment': 2, 'knockings': 1, 'conductors': 1, 'compasses': 1, 'oath': 6, 'fidelity': 2, 'aprons': 2, 'pierce': 1, 'relit': 3, 'sic': 1, 'transit': 1, 'gloria': 1, 'mundi': 1, 'presidents': 1, 'dignitary': 3, 'swiss': 4, 'mallet': 2, 'testament': 1, 'candlesticks': 1, 'churches': 19, 'angles': 1, 'bade': 1, 'prostrate': 4, 'trowel': 4, 'hush': 3, 'arouse': 10, 'prostrated': 1, 'stain': 4, 'whiteness': 6, 'symbolized': 2, 'unexplained': 3, 'cleanse': 2, 'vice': 19, 'indulgently': 1, 'meetings': 6, 'womens': 12, 'gift': 6, 'pledge': 2, 'select': 10, 'helpmeet': 1, 'masonry': 2, 'deck': 1, 'unclean': 1, 'brethren': 3, 'rug': 5, 'manuscript': 3, 'hammer': 1, 'plumb': 1, 'squared': 1, 'pillar': 2, 'password': 4, 'permitted': 5, 'statutes': 3, 'infringe': 1, 'exhort': 1, 'goeth': 1, 'falleth': 1, 'malice': 1, 'enmity': 3, 'flame': 8, 'fulfilling': 5, 'shalt': 1, 'congratulations': 4, 'rapped': 1, 'humility': 3, 'collector': 1, 'alms': 4, 'subscribe': 2, 'subscribed': 2, 'amount': 6, 'south': 6, 'attending': 10, 'becomes': 14, 'values': 3, 'disagreement': 3, 'recurred': 7, 'blinked': 1, 'lifeto': 1, 'dependedwhether': 1, 'attractively': 1, 'reborn': 1, 'fatted': 1, 'calf': 6, 'sums': 5, 'odessa': 2, 'duels': 2, 'principals': 2, 'rupture': 7, 'extolled': 1, 'marriagewhen': 1, 'himespecially': 1, 'societys': 1, 'insanely': 1, 'cordially': 7, 'uncomplainingly': 1, 'openly': 6, 'touchedi': 1, 'priority': 1, 'raptures': 2, 'posed': 1, 'marat': 1, 'soirees': 5, 'foretold': 3, 'beforesuch': 1, 'arrangingat': 1, 'bloom': 3, 'essence': 26, 'selection': 2, 'thermometer': 2, 'jena': 5, 'auerstdt': 4, 'surrender': 14, 'fortresses': 4, 'diplomatists': 9, 'homme': 4, 'mrite': 1, 'noteworthy': 2, 'temperature': 2, 'mortification': 2, 'alter': 8, 'tu': 4, 'las': 1, 'voulu': 2, 'dandin': 1, 'duly': 1, 'kurgincharming': 1, 'kronq': 1, 'charg': 2, 'daffaires': 2, 'copenhagena': 1, 'shtova': 1, 'meritthis': 1, 'tastes': 6, 'peculiarities': 5, 'advantageously': 3, 'mission': 15, 'conversant': 1, 'incomparably': 2, 'perseverance': 2, 'discovery': 9, 'groat': 1, 'despised': 12, 'appraising': 1, 'establishing': 2, 'accrue': 1, 'bases': 2, 'treaty': 1, 'continuity': 5, 'danish': 1, 'lurope': 2, 'urope': 1, 'pronunciation': 1, 'jamais': 1, 'allie': 1, 'sincre': 1, 'glogau': 2, 'deliberation': 5, 'abstaining': 2, 'narrative': 3, 'implied': 4, 'tuesday': 4, 'herplease': 1, 'roi': 9, 'prusse': 6, 'interrogatively': 2, 'impious': 1, 'circumspectly': 2, 'appreciative': 1, 'n': 13, 'diplomatista': 1, 'precedents': 2, 'schwarzenberg': 1, 'caressing': 9, 'salon': 7, 'unsmiling': 1, 'nearing': 6, 'curses': 5, 'militiamen': 20, 'contradictory': 10, 'variously': 6, 'interpreted': 3, 'supervise': 1, 'enrollment': 4, 'decreed': 5, 'pedantic': 2, 'subordinates': 4, 'nephew': 20, 'dandling': 2, 'angelas': 1, 'nephewand': 1, 'chapel': 6, 'tomb': 2, 'angels': 6, 'sculptor': 1, 'boguchrovo': 48, 'partly': 12, 'recommenced': 4, 'recruitment': 1, 'roles': 1, 'results': 27, 'february': 2, '26': 1, '1807': 13, 'circuits': 1, 'ptrusha': 2, 'nursemaids': 1, 'drops': 20, 'wineglass': 3, 'unintentionally': 2, 'mixture': 1, 'cot': 11, 'boxes': 9, 'armchairs': 2, 'curtains': 3, 'screened': 4, 'offand': 1, 'wed': 3, 'fever': 15, 'mistrusting': 1, 'sleeplessness': 3, 'verbal': 4, 'correspondence': 6, 'ivnich': 2, 'scowled': 2, 'yougive': 1, 'abbreviations': 1, 'elongated': 1, 'newsif': 1, 'bennigsen': 68, 'eylau': 5, 'germani': 1, 'krchevoa': 1, 'khandrikvis': 1, 'additional': 7, 'preussisch': 4, 'ptenkahe': 1, 'makers': 1, 'krchevo': 2, 'sheets': 2, 'rocking': 2, 'exclusion': 2, 'idioms': 1, 'genuinely': 3, 'correspondent': 1, 'bile': 2, 'accumulated': 1, 'ab': 1, 'ovo': 1, 'pays': 3, 'throws': 2, 'twists': 1, 'breaks': 3, 'smithereens': 1, 'installs': 1, 'ardently': 1, 'garrison': 3, 'frontiers': 5, 'octogenarians': 1, 'prozorvski': 2, 'preferred': 10, 'kibtka': 1, 'acclamations': 2, '4th': 1, 'mails': 1, 'waits': 1, 'grows': 10, 'furies': 1, 'rages': 1, 'seizes': 4, 'opens': 5, 'consequently': 17, 'pultsk': 6, 'routed': 5, 'fuel': 4, 'frontierwhich': 1, 'sore': 3, 'journeys': 2, 'interior': 2, 'ostermann': 7, 'sedmortzki': 1, 'eaten': 9, 'ostrolenka': 1, 'humbly': 1, 'stira': 1, 'punishes': 3, 'increasingly': 2, 'civilians': 5, 'interregnum': 1, 'unfordable': 1, 'enabled': 5, 'pursues': 1, 'uswe': 1, 'scuttle': 1, 'crosses': 10, 'buxhwdens': 1, 'epileptic': 1, 'bennigsens': 11, 'critical': 6, 'vanquished': 6, 'rises': 5, 'usnamely': 1, 'biscuits': 8, 'fodder': 7, 'whatnot': 1, 'stores': 14, 'impassable': 2, 'looting': 11, 'scour': 1, 'countryside': 1, 'overflow': 2, 'famine': 1, 'marauders': 8, 'proposes': 3, 'divisions': 13, 'oblige': 6, 'perturb': 1, 'panicit': 1, 'sweat': 3, 'smacking': 2, 'perspired': 3, 'convalescent': 2, 'infants': 2, 'warning': 3, 'seclusion': 4, 'serfsand': 1, 'overburdened': 1, 'nursing': 10, 'punishments': 2, 'admonitory': 1, 'asylums': 2, 'schools': 6, 'semiliterate': 1, 'foremen': 1, 'embezzlement': 1, 'lisp': 1, 'cleverest': 2, 'budget': 1, '80': 2, 'payments': 6, 'upkeep': 1, 'pensions': 1, '150': 2, 'alimony': 1, '70': 2, 'debts': 19, '100': 2, 'harvests': 3, 'rebuilding': 3, 'factories': 4, 'workshops': 2, 'aptitude': 3, 'inclinationpractical': 1, 'consultations': 4, 'liberate': 3, 'loans': 2, 'consequent': 4, 'crimean': 5, 'measuresthe': 1, 'injunctions': 2, 'onthat': 1, 'persistence': 2, 'proprietor': 1, 'landowner': 7, 'weaknessthe': 1, 'confessed': 7, 'lodgewere': 1, 'lunches': 2, 'precepts': 1, 'enjoined': 1, 'twomorality': 1, 'preceptsthat': 1, 'reforming': 2, 'raceand': 1, 'virtueslove': 1, 'attempts': 10, 'insaneunprofitable': 1, 'serfsmade': 1, 'concessions': 2, 'represent': 5, 'liberation': 3, 'impracticable': 1, 'erection': 3, 'buildingsschools': 1, 'asylumson': 1, 'offerings': 1, 'salt': 12, 'delude': 1, 'gladdening': 2, 'picturesque': 1, 'thriving': 1, 'touchingly': 2, 'benefits': 3, 'awakened': 10, 'chantry': 3, 'expense': 7, 'patron': 1, 'instructing': 1, 'erected': 5, 'almshouses': 1, 'manorial': 3, 'deputations': 1, 'peters': 2, 'deputation': 9, 'exactions': 1, 'lessened': 1, 'obligatory': 2, 'philanthropic': 1, 'toy': 2, 'uselessness': 2, 'freeing': 1, 'measures': 9, 'sale': 3, 'gavethat': 1, 'uninteresting': 2, 'fir': 4, 'brink': 2, 'homestead': 4, 'threshing': 4, 'outhouses': 1, 'stables': 3, 'bathhouse': 2, 'semicircular': 1, 'faade': 1, 'construction': 4, 'solid': 2, 'pumps': 1, 'paths': 3, 'handrails': 1, 'tidiness': 1, 'antn': 3, 'unplastered': 2, 'redolent': 1, 'sparkle': 3, 'estranged': 1, 'inertia': 2, 'prolonged': 8, 'despondency': 1, 'enthusiasms': 1, 'searchingly': 3, 'travels': 1, 'improvements': 2, 'prompted': 6, 'constrained': 5, 'constructing': 2, 'scaffolding': 1, 'nothings': 2, 'badwrong': 1, 'evils': 3, 'philosophy': 8, 'repent': 4, 'myselfthey': 1, 'prochain': 1, 'error': 7, 'prochainyour': 1, 'challenging': 3, 'littlethough': 1, 'ceremonies': 4, 'instructed': 4, 'retribution': 1, 'disease': 10, 'asylum': 6, 'palpable': 4, 'leisure': 5, 'lisping': 3, 'pastime': 5, 'argument': 13, 'veranda': 7, 'crooking': 2, 'forth': 19, 'spiritual': 31, 'lighten': 1, 'toss': 2, 'plowing': 1, 'mowing': 4, 'thingwhat': 1, 'crooked': 3, 'bleed': 3, 'drag': 5, 'cripple': 1, 'simpler': 4, 'grudged': 2, 'laborerthats': 1, 'himbut': 1, 'cure': 11, 'notion': 7, 'conclusions': 5, 'alleverything': 2, 'hateful': 1, 'wash': 5, 'cleanly': 2, 'thankful': 2, 'local': 1, 'nobility': 23, 'qualifications': 1, 'itthe': 1, 'fussy': 1, 'shallowness': 1, 'nook': 1, 'wontnot': 1, 'smolnsk': 101, 'hillseven': 1, 'unlimited': 3, 'paymasters': 1, 'ykhnovna': 1, 'hanged': 5, 'torment': 5, 'fatherthat': 1, 'flogged': 5, 'siberiaand': 1, 'stripes': 1, 'heal': 5, 'proprietors': 3, 'callous': 2, 'unjustly': 1, 'traditions': 8, 'forhuman': 1, 'foreheads': 2, 'shave': 1, 'husbandry': 1, 'immersed': 2, 'bull': 1, 'sect': 2, 'aspects': 1, 'christianity': 2, 'freed': 7, 'union': 6, 'fundamental': 3, 'convictions': 6, 'ferry': 4, 'raft': 8, 'railing': 2, 'flooding': 2, 'govern': 3, 'repetition': 3, 'denial': 1, 'atheistic': 1, 'areeternallychildren': 1, 'harmonious': 5, 'deitythe': 1, 'termis': 1, 'ladder': 2, 'plant': 6, 'vanish': 2, 'vanishes': 2, 'herders': 1, 'convince': 11, 'friendlife': 1, 'convinces': 4, 'ceases': 3, 'isgod': 1, 'reharnessed': 1, 'starring': 1, 'puddles': 3, 'ferrymen': 1, 'consists': 11, 'striving': 4, 'scrap': 4, 'slumbering': 1, 'customary': 15, 'epoch': 5, 'outwardly': 2, 'inwardly': 3, 'wallet': 4, 'garment': 2, 'disobeys': 1, 'pilgrims': 9, 'snug': 1, 'monks': 3, 'cassock': 1, 'hen': 3, 'chickens': 2, 'charme': 1, 'voir': 4, 'suis': 4, 'contente': 1, 'ivnushka': 4, 'pilgrim': 7, 'sachiez': 1, 'amie': 2, 'devriez': 1, 'contraire': 1, 'mtre': 1, 'reconnaissante': 1, 'jexplique': 1, 'intimit': 1, 'avec': 3, 'jeune': 2, 'ivnushkas': 1, 'newcomers': 2, 'saucer': 2, 'womanish': 2, 'garrulously': 1, 'christmastime': 1, 'deemed': 2, 'partake': 2, 'shrine': 5, 'kolyzin': 3, 'pelagya': 16, 'ykhnovo': 1, 'relics': 6, 'barefoot': 6, 'oil': 1, 'trickles': 1, 'blessed': 7, 'fraud': 7, 'jesus': 9, 'catacombs': 3, 'admonishingly': 1, 'forgo': 2, 'parole': 3, 'nai': 1, 'loffenser': 1, 'efface': 1, 'doubtfully': 2, 'penitence': 1, 'appeased': 2, 'encouraged': 2, 'amphilochus': 1, 'smelled': 6, 'incense': 1, 'ponder': 1, 'reopened': 3, 'spiritually': 1, 'visithe': 1, 'hotly': 3, 'maintaining': 6, 'chaffingly': 1, 'drain': 1, 'nonsenseold': 1, 'contingent': 2, 'dinneri': 1, 'fellowyour': 1, 'friendi': 1, 'stirs': 2, 'demntyev': 1, 'unalterably': 1, 'reassigned': 1, 'parental': 2, 'turmoil': 5, 'ways': 16, 'unequal': 3, 'concern': 9, 'canteenkeeper': 1, 'orderedand': 1, 'pleasanter': 4, 'officerin': 1, 'repay': 5, 'retreats': 3, 'advances': 2, 'bartenstein': 2, 'pltovs': 7, 'oudinots': 1, 'april': 4, 'immovably': 1, 'thaw': 2, 'transports': 3, 'potatoes': 9, 'fledif': 1, 'beggars': 4, 'pitiless': 1, 'rations': 4, 'hunger': 17, 'sickness': 6, 'mshkas': 2, 'root': 5, 'noxious': 1, 'fed': 10, 'doled': 1, 'sprouted': 2, 'thatched': 2, 'tufts': 7, 'felty': 1, 'destitution': 1, 'swollen': 10, 'caldrons': 3, 'steamed': 1, 'baked': 3, 'sprouting': 3, 'rotten': 3, 'legends': 1, 'alsha': 1, 'laborer': 2, 'miklka': 1, 'roofless': 1, 'seniors': 1, 'quoits': 1, 'luckless': 1, 'conveyance': 4, 'lodging': 5, 'wily': 1, 'upbraid': 2, 'bweed': 1, 'wostvs': 1, 'branches': 16, 'turf': 1, 'trench': 12, 'inches': 3, 'vestibule': 11, 'board': 9, 'bedsteads': 1, 'couches': 1, 'luxuriously': 1, 'mended': 3, 'embers': 3, 'roomas': 1, 'hutand': 1, 'underclothes': 1, 'tidied': 4, 'probability': 5, 'reconnoitering': 1, 'vibrating': 3, 'topchenko': 1, 'mshka': 5, 'woot': 1, 'stuff': 4, 'lazarchk': 1, 'bwought': 1, 'fwom': 6, 'fuss': 7, 'jobs': 1, 'downcapitally': 1, 'lavrshkathat': 1, 'densovswas': 1, 'oxen': 1, 'furiously': 3, 'leaded': 1, 'gweat': 1, 'svyka': 1, 'missiles': 1, 'skinny': 2, 'worrying': 5, 'mutinyseizing': 1, 'pestewing': 1, 'buzz': 4, 'undaunted': 1, 'mach': 1, 'astwide': 2, 'fence': 21, 'insulting': 1, 'twansports': 1, 'infantwy': 2, 'starve': 2, 'consigned': 1, 'unescorted': 1, 'proceedings': 1, 'booked': 1, 'dugout': 2, 'oaths': 3, 'threats': 3, 'twy': 3, 'wobbewy': 3, 'thwash': 1, 'scoundwels': 1, 'empewo': 2, 'widden': 1, 'chiefalso': 1, 'lecture': 1, 'pwovisions': 1, 'weceipt': 2, 'commissioner': 2, 'starving': 3, 'bled': 4, 'tumblers': 3, 'pat': 1, 'stwaight': 2, 'snout': 2, 'fwashing': 1, 'marauding': 3, 'insubordination': 1, 'degradation': 1, 'provocation': 1, 'thief': 4, 'dislocated': 2, 'trial': 10, 'pltov': 6, 'reconnoitered': 2, 'sharpshooter': 1, 'june': 19, 'friedland': 4, 'proclaimed': 2, 'devastated': 7, 'foul': 5, 'panes': 3, 'putrefaction': 1, 'cigar': 2, 'assistant': 22, 'makr': 19, 'typhus': 2, 'pesthouse': 1, 'makev': 4, 'pounds': 3, 'lint': 4, 'fagged': 1, 'molliten': 1, 'queried': 1, 'wards': 5, 'emaciated': 6, 'crutches': 1, 'underclothing': 1, 'limped': 1, 'doorpost': 4, 'pungent': 2, 'originated': 2, 'stiffly': 4, 'straighter': 1, 'bearded': 4, 'skeleton': 2, 'amputated': 3, 'awaytaken': 1, 'shrinking': 2, 'gowns': 3, 'decomposing': 1, 'healed': 2, 'rejoinders': 1, 'outsidegradually': 1, 'uhlan': 3, 'impotence': 4, 'wobber': 1, 'martialed': 2, 'bwinging': 1, 'wobbers': 1, 'afwaid': 1, 'countwy': 1, 'honowably': 1, 'degwaded': 1, 'wobbed': 1, 'tweasuwy': 1, 'auditor': 3, 'gwovel': 1, 'safest': 1, 'stubborn': 3, 'straightforward': 2, 'moodily': 1, 'inkpot': 1, 'offenses': 1, 'tilsit': 16, 'thirteenth': 4, 'include': 3, 'tested': 3, 'niemen': 20, 'monograms': 3, 'pensive': 5, 'tavern': 12, 'napoleonreaching': 1, 'firststepped': 1, 'pavilion': 2, 'historic': 36, 'henceforth': 2, 'lodged': 4, 'zhilnski': 6, 'lunching': 1, 'profiting': 1, 'frenchwho': 1, 'foes': 4, 'friendsthat': 1, 'heat': 23, 'hostility': 9, 'intruding': 1, 'serenely': 1, 'conventionality': 1, 'zhilnskile': 1, 'capitaine': 1, 'frowningly': 1, 'constraint': 5, 'enliven': 3, 'obstinately': 4, 'aversion': 1, 'intercede': 3, 'listens': 2, 'zhilnskis': 1, 'mufti': 1, '27': 1, 'legion': 3, 'preobrazhnsk': 11, 'draped': 2, 'flags': 4, 'bunting': 1, 'displayed': 8, 'saddled': 8, 'assembling': 2, 'understands': 6, 'beseech': 1, 'entry': 12, 'alarming': 2, 'batiste': 1, 'braces': 3, 'audacity': 4, 'cursing': 2, 'repenting': 1, 'justifying': 5, 'hayne': 1, 'regimentwhite': 1, 'chamois': 1, 'bootsand': 1, 'lgion': 3, 'dhonneur': 4, 'gazers': 2, 'bearskin': 2, 'vest': 1, 'cavalrymans': 1, 'affable': 2, 'gendarmes': 3, 'precise': 7, 'undersized': 1, 'bravely': 1, 'exasperating': 1, 'whomever': 2, 'knit': 5, 'scrutiny': 2, 'lzarev': 10, 'pagethe': 1, 'borsran': 1, 'persistently': 5, 'lzarevs': 2, 'deign': 5, 'rewarded': 3, 'adhere': 1, 'officious': 1, 'remounted': 1, 'preobrazhnskis': 2, 'francs': 2, 'pension': 1, 'donning': 3, 'napolon': 5, 'bravoure': 1, 'alexandre': 2, 'russie': 1, 'grandeur': 9, 'respond': 5, 'process': 14, 'submission': 10, 'dirt': 1, 'stench': 1, 'severed': 2, 'punished': 16, 'unpardoned': 1, 'harboring': 2, 'comprehend': 7, 'godnothing': 1, 'tablevery': 1, 'relevantly': 1, 'erfurt': 6, '1809': 15, 'worlds': 8, 'arbiters': 1, 'co': 10, 'policy': 5, 'keenly': 3, 'internal': 5, 'undertaken': 6, 'departments': 3, 'meanwhilereal': 1, 'poetry': 7, 'passionswent': 1, 'reconstruction': 2, 'estatesand': 1, 'accomplishedwere': 1, 'tenacity': 2, 'liberated': 6, 'agricultural': 1, 'laborersthis': 1, 'compulsory': 3, 'commuted': 1, 'cloister': 1, 'diligently': 2, 'vortex': 2, 'lagged': 7, 'himselfwho': 3, 'countryin': 1, 'guardian': 3, 'birches': 9, 'floors': 3, 'uphill': 5, 'liquefied': 1, 'strips': 5, 'lilac': 7, 'blades': 2, 'evergreen': 2, 'reminder': 4, 'snort': 4, 'sweated': 1, 'visibly': 3, 'cherry': 3, 'alders': 1, 'oaks': 3, 'girth': 1, 'sprawling': 2, 'unsymmetrically': 1, 'gnarled': 3, 'firs': 3, 'dotted': 2, 'cramped': 2, 'barked': 1, 'misshapen': 1, 'othersthe': 3, 'youngyield': 1, 'sequence': 7, 'mournfully': 2, 'restful': 1, 'anewbut': 1, 'desiring': 3, 'trustee': 1, 'clothed': 1, 'bathe': 2, 'otrdnoe': 31, 'slim': 9, 'chintz': 2, 'pang': 2, 'separateprobably': 1, 'foolishbut': 1, 'quitrents': 1, 'instinctive': 3, 'hunts': 2, 'entertained': 5, 'shutters': 6, 'documents': 5, 'pollard': 1, 'lush': 1, 'vegetation': 1, 'stems': 1, 'leafy': 1, 'trunk': 5, 'starless': 1, 'passagethe': 1, 'unintentional': 2, 'sweetheart': 2, 'scuffle': 1, 'shady': 2, 'jar': 1, 'lending': 1, 'delicately': 1, 'shoots': 3, 'raindrops': 1, 'sprinkling': 2, 'sappy': 2, 'shiny': 1, 'blossom': 3, 'nightingales': 1, 'trilled': 1, 'reverberated': 4, 'transfigured': 2, 'foliage': 2, 'scars': 1, 'twigs': 2, 'veteran': 1, 'renewal': 2, 'thrilled': 1, 'decisively': 2, 'meeveryone': 2, 'harmony': 8, 'doubted': 6, 'senselessly': 2, 'applied': 10, 'degrading': 1, 'pursuits': 4, 'curled': 7, 'grecque': 2, 'inquisitively': 2, 'irrational': 5, 'inexpressible': 1, 'smock': 3, 'designed': 3, 'logic': 6, 'punishing': 1, 'illogical': 3, 'dries': 1, 'spernski': 58, 'zenith': 1, 'reforms': 3, 'peterhof': 1, 'decrees': 5, 'societyabolishing': 1, 'examinations': 3, 'qualify': 1, 'grades': 4, 'collegiate': 1, 'assessor': 1, 'councilorand': 1, 'constitution': 4, 'existing': 6, 'administrative': 6, 'financial': 3, 'tribunals': 1, 'associates': 2, 'kochuby': 11, 'strgonovwhom': 1, 'comit': 1, 'salut': 1, 'publicwere': 1, 'antipathetic': 1, 'neglect': 5, 'sympathies': 1, 'antipathies': 1, 'arakchevs': 5, 'anterooms': 1, 'types': 2, 'mask': 1, 'sla': 2, 'uncrossing': 1, 'facesthat': 1, 'grating': 1, 'officerwith': 1, 'lipscame': 1, 'greenish': 2, 'hazel': 3, 'petitioning': 2, 'thenagain': 1, 'andrewrelapsing': 1, 'grumbling': 4, 'endorsed': 1, 'misspelled': 1, 'punctuation': 1, 'unsoundly': 1, 'imitation': 2, 'needlessly': 3, 'deviating': 2, 'salary': 4, 'announcement': 6, 'uninitiated': 1, 'initiated': 4, 'committees': 3, 'geniusspernski': 1, 'promoter': 1, 'receded': 4, 'diverse': 15, 'courted': 3, 'reputed': 1, 'liberating': 1, 'innovations': 3, 'halo': 3, 'tragic': 4, 'serenity': 4, 'kochubys': 2, 'mikhylovich': 3, 'manages': 3, 'plowmen': 1, 'extenuate': 1, 'irritate': 3, 'plow': 2, 'nowi': 1, 'countwho': 1, 'prynichnikov': 2, 'suspended': 1, 'throb': 2, 'spernskis': 18, 'calmness': 2, 'humid': 1, 'handshands': 1, 'reporter': 1, 'shift': 2, 'newespecially': 1, 'reputationexpected': 1, 'discover': 9, 'markedly': 1, 'magntski': 10, 'promoting': 3, 'divinity': 4, 'handsthose': 1, 'handsthe': 1, 'extraordinarily': 7, 'disdainful': 2, 'immeasurable': 4, 'involved': 5, 'intimating': 2, 'desirable': 3, 'imitators': 1, 'decree': 4, 'tittle': 1, 'tattle': 1, 'contemporaries': 7, 'establishes': 1, 'condemnations': 1, 'contradict': 11, 'ambition': 6, 'montesquieu': 2, 'principe': 1, 'monarchies': 2, 'lhonneur': 3, 'parat': 1, 'incontestable': 3, 'certains': 1, 'droits': 1, 'privilges': 1, 'noblesse': 1, 'paraissent': 1, 'tre': 1, 'moyens': 1, 'soutenir': 1, 'privileges': 3, 'envisagez': 1, 'sous': 1, 'vue': 1, 'slower': 3, 'upheld': 2, 'concept': 3, 'blameworthy': 3, 'emulation': 2, 'pursuit': 11, 'upholding': 1, 'helpful': 1, 'courtier': 7, 'worthily': 1, 'detailed': 8, 'franaise': 1, 'overshadowed': 1, 'jot': 1, 'appointments': 5, 'vital': 8, 'creatures': 3, 'ideal': 9, 'strove': 2, 'rational': 3, 'breeding': 1, 'unheroic': 1, 'dispassionate': 1, 'reasonableness': 4, 'flattery': 2, 'tacit': 3, 'profundity': 4, 'rooted': 2, 'wolves': 9, 'beone': 1, 'reasonably': 5, 'exposition': 2, 'independence': 8, 'mirrorlike': 3, 'possess': 7, 'excessive': 3, 'diversity': 3, 'device': 2, 'analogy': 1, 'dreamers': 1, 'satirist': 1, 'realm': 14, 'metaphysics': 3, 'resource': 2, 'metaphysical': 1, 'definitions': 2, 'deduced': 7, 'refutation': 1, 'mentality': 1, 'unshakable': 4, 'meanly': 1, 'humble': 4, 'origin': 2, 'revision': 3, 'rosenkampf': 1, 'labels': 3, 'paragraphs': 5, 'codes': 4, 'senate': 8, 'juridical': 2, 'jurisprudence': 9, 'andwhat': 1, 'expectedwas': 1, 'institutes': 1, 'justinian': 1, 'formulating': 2, 'busied': 2, 'authentic': 3, 'charters': 1, 'supplemented': 1, 'poorhouse': 1, 'infatuations': 2, 'dissipations': 2, 'immoral': 1, 'bog': 2, 'waded': 2, 'petersburghe': 1, 'd': 6, 'mostly': 3, 'insignia': 1, 'vow': 3, 'belongings': 10, 'dwell': 5, 'categories': 3, 'threefold': 3, 'designation': 3, 'primordial': 1, 'elementssulphur': 1, 'mercury': 4, 'saltor': 1, 'solomon': 2, 'aspect': 5, 'category': 5, 'vacillating': 2, 'comprehensible': 12, 'external': 31, 'prized': 4, 'troubling': 3, 'purport': 2, 'associate': 2, 'based': 26, 'externals': 1, 'doubting': 3, 'deviated': 3, 'conduce': 1, 'ingratiate': 2, 'convened': 2, 'communicate': 3, 'stammering': 1, 'lodgewe': 1, 'actact': 1, 'drowsing': 2, 'dissemination': 2, 'prejudice': 1, 'diffuse': 1, 'wisest': 4, 'prudently': 1, 'superstitions': 2, 'infidelity': 1, 'linked': 5, 'unity': 10, 'preponderance': 1, 'lasting': 1, 'hampered': 2, 'institutions': 11, 'revolutions': 3, 'overthrow': 8, 'repel': 3, 'convictionaiming': 1, 'punishment': 8, 'unobtrusively': 2, 'protectors': 1, 'governments': 3, 'impedes': 1, 'instruction': 3, 'preaching': 2, 'endowed': 5, 'governed': 6, 'eradicate': 1, 'strive': 4, 'created': 7, 'illuminism': 3, 'developing': 1, 'accusing': 1, 'identically': 1, 'limitations': 4, 'alterations': 1, 'illuminati': 1, 'substitute': 3, 'republican': 5, 'monarchical': 1, 'reproved': 3, 'vehemence': 3, 'strife': 2, 'formalities': 3, 'delivery': 1, 'matrimonial': 1, 'fraternal': 1, 'penitent': 1, 'reunite': 1, 'mattered': 2, 'reunion': 2, 'diary': 10, '17th': 1, 'poorly': 1, 'bladder': 1, 'east': 33, 'jerusalem': 4, 'scottish': 2, 'encountered': 5, 'reformation': 4, 'impurity': 1, 'profligacy': 1, 'doctrine': 2, 'condemned': 10, 'perfecting': 4, 'knowledgefor': 1, 'virtuelove': 1, 'vicissitudes': 1, 'innate': 2, 'rebirth': 1, 'whichin': 2, 'manhe': 1, 'numbers': 20, 'basis': 7, 'diverting': 2, '23rd': 1, 'desertion': 1, 'alexevichs': 7, 'supplicant': 1, 'everyoneespecially': 1, 'meand': 1, 'napoleonic': 8, 'caulaincourt': 6, 'notabilities': 3, 'superbe': 1, 'charmante': 3, 'aussi': 1, 'spirituelle': 1, 'belle': 1, 'ligne': 1, 'epigrams': 1, 'bezkhovas': 7, 'diploma': 1, 'secretaries': 1, 'confided': 3, 'conjuror': 1, 'deception': 8, 'unexposed': 1, 'emptiest': 1, 'superb': 2, 'crank': 2, 'seigneur': 2, 'tactful': 2, 'absorption': 2, 'benevolence': 2, 'artificially': 2, 'lispingly': 1, 'freaks': 1, 'subjected': 3, 'protected': 4, 'bluestocking': 2, 'hearta': 1, 'statement': 5, 'constricted': 1, 'harmed': 2, 'development': 4, 'revealing': 3, '24th': 1, 'scriptures': 3, 'alonethe': 1, 'moderately': 1, 'lust': 1, 'repulsion': 6, 'worldliness': 3, '27th': 1, 'sloth': 2, 'ursov': 1, 'vanities': 1, 'benefactors': 8, 'wordsthat': 2, 'zealous': 4, 'worker': 4, 'onlooker': 1, 'g': 2, 'preliminary': 1, 'interpretation': 1, 'pillars': 2, 'decoration': 3, 'premises': 2, 'contributed': 2, 'magnificence': 2, 'nominated': 1, 'labyrinth': 1, 'pages': 9, 'blank': 2, 'instructive': 3, 'adonai': 1, 'creator': 4, 'elohim': 1, 'unutterable': 1, 'refresh': 1, 'teachings': 1, 'mundane': 2, 'dissect': 1, 'entirety': 4, 'trinitythe': 1, 'elements': 11, 'matterare': 1, 'sulphur': 3, 'oily': 1, 'fiery': 3, 'arouses': 1, 'attracts': 2, 'holds': 3, 'produces': 12, 'fluid': 1, 'volatile': 1, '3rd': 4, 'apathetic': 1, 'meditate': 1, 'recollected': 2, 'adventures': 6, 'lenient': 1, 'nourish': 2, 'undismayed': 1, 'smallish': 1, 'thigh': 4, 'plank': 1, 'clamber': 1, 'dogsmy': 1, 'unites': 3, 'vision': 4, '7th': 1, 'sanctifying': 1, 'caress': 1, 'embraces': 1, 'text': 2, 'shineth': 1, 'comprehended': 3, 'conjugal': 2, '9th': 1, 'throbbing': 3, 'drawings': 3, 'representation': 3, 'transparent': 5, 'forsaking': 1, 'utterly': 4, 'desertest': 1, 'monetary': 1, 'comparatively': 2, 'otrdnoemtenkas': 1, 'particularwas': 1, 'lassies': 2, 'provincials': 2, 'suppers': 4, 'impoverished': 2, 'squires': 1, 'pernskaya': 13, 'narrated': 3, 'episode': 7, 'usefulness': 2, 'finnish': 2, 'insistently': 1, 'lucrative': 2, 'skeptics': 1, 'stalls': 15, 'das': 1, 'soll': 1, 'mein': 1, 'weib': 1, 'werden': 2, 'livonian': 1, 'fori': 1, 'rent': 4, 'baltic': 1, 'provincesand': 1, 'nicely': 1, 'moneyi': 1, 'dishonorablebut': 1, 'estimable': 2, 'differentan': 1, 'fiance': 4, 'doubling': 1, 'embodying': 1, 'joyousness': 1, 'resulted': 12, 'amounted': 4, 'mortgaged': 1, 'arrears': 1, 'countif': 1, 'importunity': 1, 'rapturously': 9, 'boisterous': 1, 'aback': 3, 'madcap': 1, 'childhoods': 1, 'compression': 1, 'amusements': 3, 'accidentally': 6, 'album': 4, 'allude': 1, 'knob': 2, 'cotton': 2, 'curlpapers': 1, 'countessher': 1, 'prayerful': 1, 'dispelledlooked': 1, 'chiding': 1, 'praying': 7, 'snuggling': 1, 'bedclothes': 1, 'kicking': 1, 'peeping': 1, 'iti': 1, 'sphinxes': 1, 'profile': 4, 'knuckle': 3, 'knuckles': 1, 'contemplation': 3, 'dating': 1, 'matvich': 1, 'giggler': 1, 'tastehe': 1, 'knowgray': 1, 'manthe': 3, 'menwho': 1, 'uncommonly': 1, 'agileshe': 1, 'swims': 1, 'rides': 4, 'opera': 7, 'cherubini': 1, 'dunysha': 31, 'mansion': 2, 'quay': 1, 'baize': 4, 'plumed': 2, 'ermine': 1, 'doffed': 5, 'discussions': 10, 'igntevna': 1, 'piloted': 1, 'provincial': 8, 'taurida': 4, 'ensuring': 2, 'allshe': 1, 'snyashould': 1, 'claret': 2, 'gauze': 6, 'bodices': 2, 'befits': 4, 'openwork': 1, 'hairdressing': 1, 'bustled': 1, 'behindhand': 2, 'pin': 5, 'pinned': 1, 'petticoat': 3, 'scrutinized': 4, 'pins': 3, 'gossamer': 1, 'mvra': 26, 'thimble': 1, 'shortened': 1, 'airiness': 1, 'doorspeaking': 1, 'filmy': 1, 'pier': 1, 'crawling': 1, 'tack': 2, 'rumpled': 1, 'tacking': 1, 'beautya': 1, 'flurryfor': 1, 'coiffures': 1, 'closeness': 2, 'roomswith': 1, 'indispensable': 6, 'throbbed': 1, 'blended': 4, 'procession': 7, 'curtsied': 5, 'irrecoverable': 3, 'girlhood': 2, 'dutch': 2, 'profusion': 1, 'antnovna': 3, 'millionairess': 1, 'knowbolknski': 1, 'prsent': 1, 'pluie': 1, 'temps': 3, 'treats': 2, 'elisaveta': 1, 'ravish': 1, 'pounced': 3, 'detriment': 2, 'narshkina': 1, 'defined': 17, 'outshe': 1, 'reminiscence': 1, 'natshaas': 1, 'requesting': 2, 'enticingly': 1, 'rhythmical': 1, 'quickening': 2, 'firhoff': 2, 'participating': 1, 'legislative': 2, 'protge': 3, 'elsewhereat': 1, 'dbut': 1, 'belying': 1, 'pernskayas': 1, 'exquisitely': 1, 'beautifulcompared': 1, 'undeveloped': 1, 'hardened': 2, 'rejuvenated': 1, 'cotillions': 1, 'overheard': 7, 'shyness': 5, 'cotillion': 2, 'declining': 1, 'readjusting': 1, 'unhappiness': 3, 'furrow': 1, 'superabundance': 1, 'anotherand': 1, 'criticizing': 3, 'btski': 3, 'devotee': 1, 'newsmongerone': 1, 'partisans': 2, 'particulars': 1, 'constitutional': 3, 'monarchs': 10, 'fiscal': 1, 'system': 8, 'reorganized': 2, 'published': 1, 'recounted': 5, 'emphasizing': 1, 'btskis': 1, 'disinclined': 1, 'owned': 2, 'parqueted': 1, 'monastery': 6, 'gervais': 4, 'stolpin': 4, 'staccato': 2, 'laugha': 1, 'someoneit': 1, 'spernskiwas': 1, 'ejaculating': 1, 'stock': 2, 'magntskis': 1, 'crowned': 7, 'guffaw': 1, 'munched': 2, 'chuckle': 2, 'recreation': 2, 'disillusionment': 4, 'consist': 5, 'funnier': 1, 'deaf': 6, 'stuttering': 1, 'thingsthreatening': 1, 'quizzing': 1, 'reverted': 2, 'mirthless': 2, 'grated': 1, 'damper': 1, 'cork': 7, 'portenglish': 1, 'spanish': 3, 'approving': 3, 'corked': 2, 'merriment': 7, 'recitation': 1, 'reciting': 2, 'humorous': 1, 'exertions': 1, 'solicitations': 1, 'procedure': 1, 'sedulously': 1, 'promptly': 8, 'evaded': 1, 'painstakingly': 3, 'translated': 5, 'roman': 6, 'dron': 51, 'brimful': 1, 'disconcert': 2, 'disillusionments': 1, 'illimitable': 1, 'limited': 18, 'weighed': 7, 'cheered': 7, 'switzerland': 6, 'immaculate': 1, 'unfortunately': 1, 'societythat': 1, 'rubber': 2, 'busts': 1, 'pictures': 16, 'promotions': 2, 'nobodies': 1, 'vacancy': 2, 'aquaintances': 1, 'methodical': 1, 'ein': 2, 'mann': 1, 'zu': 2, 'sein': 1, 'wrongly': 3, 'generalizing': 1, 'ascribe': 4, 'fichu': 2, 'yuspova': 1, 'claiming': 1, 'symmetry': 4, 'neatness': 1, 'generously': 1, 'eventually': 4, 'accordingly': 4, 'intrusion': 2, 'element': 6, 'peas': 1, 'unquestionably': 1, 'disconnected': 6, 'superintended': 2, 'cakes': 4, 'cake': 1, 'basket': 1, 'panins': 1, 'rubbers': 2, 'allusions': 3, 'employ': 5, 'discerning': 3, 'characters': 11, 'natalie': 14, 'attachments': 3, 'vramentioning': 1, 'appraised': 1, 'characteristics': 3, 'timesin': 1, 'stifles': 2, 'susceptible': 1, 'discomfort': 1, 'cousinage': 1, 'dangereux': 1, 'restlessness': 4, 'spain': 7, 'imitate': 3, 'timidity': 3, 'complimented': 1, 'silliness': 1, 'mummy': 7, 'widower': 1, 'resolve': 6, 'royal': 8, 'accentuated': 1, 'transaction': 1, 'cloudy': 1, 'ills': 1, 'dumped': 1, 'philosophize': 1, 'spleen': 2, 'marveled': 1, 'mastered': 3, 'halves': 4, 'reiterated': 2, 'gloomier': 3, 'inward': 5, 'diplomacy': 3, 'adopting': 3, 'stress': 2, 'entrust': 2, 'fourthly': 3, 'obstinacyas': 1, 'pleaseis': 1, 'fiances': 2, 'wishto': 1, 'postpone': 3, 'disappointment': 3, 'pitying': 2, 'intensified': 5, 'conducing': 1, 'solfeggio': 1, 'reverberating': 1, 'toe': 2, 'tap': 3, 'moodlove': 1, 'collective': 23, 'nobodys': 2, 'unbearable': 2, 'sedately': 2, 'depend': 12, 'terrifying': 3, 'butso': 1, 'dearer': 1, 'trustfulness': 1, 'oppressive': 6, 'ithe': 2, 'natshais': 1, 'delays': 1, 'postponed': 2, 'affianced': 6, 'betrothal': 4, 'reject': 2, 'rural': 3, 'economy': 2, 'fashions': 1, 'fancywork': 1, 'omens': 1, 'incidents': 5, 'betokening': 1, 'dullness': 1, 'reigned': 4, 'accompanies': 2, 'divined': 2, 'nownatsha': 1, 'ptyas': 18, 'scrutinizingly': 1, 'moods': 4, 'seriousnessi': 1, 'physiognomy': 2, 'brunt': 2, 'unprovoked': 1, 'joysher': 1, 'religionand': 1, 'superstitiousness': 1, 'petting': 1, 'himlittle': 1, 'nicholasinto': 1, 'lawthe': 1, 'lovingly': 2, 'turkey': 14, 'cani': 1, 'usbut': 2, 'lifenot': 2, 'harming': 2, 'othersare': 1, 'forgetthat': 1, 'lawleft': 1, 'wronged': 5, 'manifestation': 7, 'angelically': 1, 'beneficent': 3, 'befalls': 1, 'noticeably': 3, 'contradiction': 18, 'negotiating': 2, 'foresees': 3, 'encounters': 5, 'derive': 2, 'disputes': 6, 'cultivated': 1, 'gentry': 17, 'incalculable': 3, 'abouti': 2, 'speaks': 7, 'successor': 1, 'stepmother': 4, 'mighty': 5, 'firmer': 1, 'spas': 1, 'reduce': 2, 'hesitations': 1, 'longi': 1, 'houselet': 1, 'repressed': 4, 'pretexts': 3, 'addedallusions': 1, 'stepmothers': 1, 'amiabilities': 2, 'reconciling': 1, 'consolations': 2, 'profoundest': 2, 'folkthe': 1, 'sightedness': 1, 'toiling': 2, 'visionary': 1, 'sinful': 3, 'objected': 3, 'wealthier': 1, 'probation': 1, 'cling': 2, 'realizes': 1, 'usage': 1, 'hempen': 2, 'rags': 7, 'allfor': 1, 'theodosia': 4, 'chains': 3, 'disclosed': 5, 'aknfi': 1, 'bast': 12, 'mechanical': 2, 'theodosias': 1, 'haven': 3, 'koko': 1, 'bible': 3, 'legend': 1, 'laboridlenesswas': 1, 'curse': 2, 'primitive': 3, 'classthe': 1, 'bluff': 1, 'complaints': 4, 'gladden': 1, 'wanting': 2, 'entanglements': 2, 'whirlpool': 1, 'embarrassments': 1, 'ties': 2, 'dreadfully': 6, 'formal': 7, 'dispense': 1, 'dotard': 2, 'auction': 2, 'mtenka': 13, 'mars': 1, 'lather': 2, 'staffand': 1, 'extremelywhether': 1, 'anne': 1, 'roans': 4, 'golukhovski': 1, 'bargaining': 1, 'betted': 1, 'przazdziecka': 1, 'rivalry': 2, 'borzozowska': 1, 'comradesnot': 1, 'brigadegave': 1, 'subscription': 3, 'choirs': 2, 'trepk': 2, 'bsov': 1, 'journeyfrom': 1, 'kremenchg': 1, 'kievall': 1, 'dozhoyvyko': 1, 'itfar': 1, 'inverse': 4, 'tip': 1, 'odd': 3, 'unsatisfied': 1, 'expectationthe': 1, 'discord': 3, 'exhaled': 1, 'unalterable': 1, 'uglier': 1, 'postponement': 1, 'proving': 11, 'tempered': 2, 'courtship': 2, 'skeptically': 2, 'sealed': 4, 'latent': 5, 'interfering': 4, 'mtenkas': 2, 'delegate': 2, 'roaring': 2, 'snapping': 2, 'robber': 3, 'wretch': 1, 'robbing': 4, 'scruff': 2, 'convenient': 6, 'shrubbery': 2, 'refuge': 8, 'culprits': 2, 'residents': 4, 'protective': 1, 'patchwork': 1, '700': 1, 'forwardand': 1, 'blackguard': 3, 'mismanaged': 1, 'carryings': 1, 'stakes': 2, 'promissory': 2, 'pursuitthe': 1, 'chasefor': 1, 'establishment': 7, 'wintry': 1, 'frosts': 3, 'saturated': 2, 'rains': 1, 'verdure': 3, 'thickened': 1, 'brownish': 1, 'cattle': 14, 'ravines': 1, 'copses': 2, 'islands': 2, 'hares': 5, 'fox': 18, 'cubs': 6, 'scatter': 1, 'ardent': 3, 'sportsman': 5, 'jaded': 1, 'huntsmen': 11, 'september': 26, 'grove': 1, 'undisturbed': 2, 'litter': 1, 'wolf': 55, 'frosty': 6, 'overcast': 1, 'fifteenth': 8, 'unsurpassable': 1, 'dripping': 3, 'microscopic': 1, 'particles': 2, 'drizzling': 1, 'glistened': 1, 'poppy': 1, 'seed': 3, 'decaying': 1, 'mlka': 13, 'spotted': 7, 'haunched': 2, 'bitch': 11, 'licked': 1, 'borzoi': 17, 'arched': 4, 'hoy': 1, 'inimitable': 2, 'huntsmans': 2, 'shrillest': 1, 'kennelman': 1, 'scorn': 2, 'circassian': 6, 'sport': 3, 'resolutions': 1, 'mistress': 14, 'proto': 1, 'hallooingand': 1, 'flashing': 2, 'uvrka': 3, 'boomed': 4, 'enclosure': 3, 'howling': 3, 'ceiling': 3, 'extorted': 1, 'bars': 1, 'pathwell': 1, 'irksome': 2, 'accidental': 2, 'injury': 1, 'quarry': 1, 'donts': 4, 'leash': 11, 'borzois': 35, 'sorrel': 2, 'gelding': 3, 'viflynka': 2, 'attendants': 2, 'whippers': 3, 'kennelmen': 1, 'covert': 5, 'whine': 1, 'hound': 4, 'relative': 8, 'grchik': 1, 'ilgins': 8, 'kornik': 1, 'whipped': 3, 'arbchik': 1, 'combine': 6, 'overriding': 1, 'trunla': 2, 'harrier': 1, 'budge': 2, 'becausethats': 1, 'oasis': 1, 'standa': 1, 'outwent': 1, 'ravine': 8, 'kary': 15, 'jowl': 1, 'tackled': 1, 'unaided': 1, 'ardor': 4, 'horn': 5, 'sleek': 5, 'simon': 12, 'chekmr': 3, 'attendant': 8, 'formidable': 4, 'wolfhounds': 1, 'unleashed': 1, 'mtka': 5, 'cupful': 1, 'mulled': 1, 'brandy': 4, 'snack': 1, 'bordeaux': 3, 'outing': 1, 'cheeked': 1, 'nastsya': 7, 'danielll': 1, 'zhrov': 1, 'marvelous': 1, 'lydov': 2, 'upland': 3, 'astounded': 3, 'picture': 12, 'zavrzinsk': 1, 'thicket': 2, 'sidrych': 2, 'uplands': 1, 'daniels': 4, 'ulyulyu': 6, 'straighten': 1, 'ulyulyuing': 2, 'fretted': 1, 'lope': 3, 'whined': 1, 'quinsy': 1, 'leaps': 2, 'swish': 1, 'helter': 1, 'skelter': 1, 'hunched': 1, 'capless': 2, 'ulyulyulyu': 2, 'lightning': 6, 'blast': 1, 'sportsmen': 3, 'scorning': 1, 'lashed': 2, 'heaving': 3, 'sweating': 2, 'simons': 1, 'conjectures': 8, 'alternated': 1, 'itin': 2, 'thereand': 1, 'aspen': 3, 'undergrowth': 1, 'gully': 8, 'reachedand': 1, 'belly': 4, 'fleas': 3, 'baring': 2, 'pouting': 2, 'jerking': 1, 'leashes': 2, 'hindquarters': 3, 'cocking': 1, 'matted': 2, 'wolfs': 6, 'beforehuman': 1, 'herand': 3, 'markings': 1, 'ulyulyulyulyu': 1, 'lyubm': 1, 'crouched': 3, 'gnashed': 1, 'intercept': 2, 'miscalculated': 1, 'gnashing': 1, 'yelp': 2, 'gash': 1, 'wailed': 4, 'felted': 1, 'karythe': 1, 'saddlebow': 2, 'forepaws': 1, 'clicked': 3, 'bristling': 1, 'animals': 17, 'dagger': 9, 'laboring': 1, 'flail': 1, 'panted': 2, 'hunters': 4, 'gag': 1, 'jaws': 2, 'bridled': 2, 'shying': 2, 'yelping': 2, 'booty': 8, 'browed': 1, 'bitten': 4, 'glassy': 2, 'surrounding': 6, 'doffing': 2, 'crusty': 1, 'thickly': 5, 'overgrown': 5, 'fallow': 2, 'loosed': 2, 'voltrn': 1, 'ryefield': 5, 'brush': 5, 'dodge': 1, 'curves': 1, 'tails': 2, 'strapping': 1, 'hunted': 4, 'sympathizers': 1, 'ilgin': 18, 'woods': 9, 'moderation': 1, 'judgment': 11, 'arbitrariness': 1, 'bitterest': 1, 'beaver': 5, 'raven': 1, 'resembled': 6, 'diana': 1, 'iligins': 1, 'stealthily': 4, 'bred': 4, 'steel': 3, 'swiftness': 3, 'harvest': 8, 'swift': 8, 'erz': 9, 'boast': 1, 'finewell': 1, 'skins': 4, 'aloft': 1, 'rugy': 8, 'pitting': 1, 'outdo': 1, 'hareand': 1, 'nikanrovich': 1, 'rugyushka': 2, 'diminutive': 2, 'gentlefolk': 2, 'scenting': 2, 'sowing': 5, 'scut': 2, 'milshka': 1, 'pounce': 1, 'hearken': 1, 'balk': 3, 'muddying': 1, 'pad': 3, 'drip': 2, 'wrathfully': 2, 'abusing': 3, 'mongrel': 1, 'tingling': 1, 'shriek': 1, 'spattered': 1, 'conqueror': 7, 'coursing': 1, 'natshaa': 1, 'horsebackraised': 1, 'prodigy': 1, 'arnka': 1, 'sits': 3, 'dangles': 1, 'knife': 9, 'boldest': 1, 'retainers': 2, 'authoritatively': 1, 'rickety': 1, 'overcleanit': 1, 'spotlessbut': 1, 'apples': 2, 'folding': 4, 'birchwood': 2, 'partition': 6, 'ragged': 4, 'glowed': 2, 'peal': 2, 'stem': 2, 'reappearance': 2, 'barefooted': 5, 'stoutness': 2, 'protrude': 1, 'housekeeper': 4, 'trod': 2, 'deftly': 4, 'ansya': 15, 'pickled': 2, 'mushrooms': 3, 'buttermilk': 2, 'mead': 2, 'raw': 4, 'roasted': 2, 'nut': 3, 'chicken': 4, 'preserves': 2, 'fdorovnas': 3, 'housekeeping': 1, 'savor': 1, 'juiciness': 1, 'aromatic': 2, 'jam': 1, 'occurs': 19, 'disinterested': 2, 'cranks': 2, 'executor': 1, 'elected': 1, 'matterthats': 1, 'huntsmens': 3, 'patter': 1, 'balalyka': 6, 'superciliousness': 1, 'acme': 2, 'tuned': 3, 'thrumming': 1, 'trills': 1, 'retuned': 1, 'thrummed': 1, 'outthats': 1, 'guitar': 9, 'itcome': 3, 'errand': 2, 'fingerboard': 1, 'theatrical': 2, 'exact': 6, 'correctly': 6, 'brisker': 1, 'moves': 18, 'fetching': 4, 'preparatory': 2, 'migre': 1, 'imbibed': 1, 'effaced': 1, 'unteachable': 1, 'silks': 1, 'velvets': 1, 'ansyas': 1, 'valse': 2, 'twas': 3, 'unconsidered': 1, 'ecstasies': 1, 'traps': 2, 'ford': 4, 'darknessnot': 1, 'receptive': 2, 'assimilated': 2, 'nightthe': 1, 'fairyland': 2, 'spontaneous': 2, 'invitingly': 1, 'resigned': 2, 'suggestions': 5, 'ancestral': 1, 'dimmler': 16, 'musician': 1, 'vogel': 2, 'belva': 11, 'inmate': 1, 'preferable': 1, 'unchanged': 6, 'enlarged': 2, 'whist': 1, 'whichspreading': 1, 'themhe': 1, 'plundered': 5, 'profitable': 1, 'net': 1, 'meshes': 1, 'patiently': 4, 'disentangle': 1, 'wasthat': 1, 'remedying': 1, 'solution': 12, 'julies': 10, 'inclination': 5, 'youeven': 1, 'coerce': 1, 'attachment': 1, 'portionless': 1, 'devotedly': 1, 'unchangingly': 1, 'unselfishly': 1, 'rome': 9, 'defer': 2, 'anyonewhile': 1, 'degrees': 6, 'raumur': 1, 'starlight': 1, 'celebration': 2, 'season': 3, 'inmates': 2, 'dullest': 1, 'design': 9, 'outcast': 1, 'gushed': 2, 'maidservant': 5, 'playingtheres': 1, 'kondrtevna': 1, 'mavrshka': 2, 'nikta': 4, 'fowl': 1, 'misha': 2, 'oats': 12, 'butlers': 4, 'distrusted': 1, 'unconcernedly': 3, 'sulky': 1, 'crickets': 1, 'grasshoppers': 1, 'vogels': 1, 'raisins': 4, 'walnuts': 1, 'almonds': 1, 'cheaper': 3, 'madagascar': 2, 'da': 3, 'gas': 1, 'car': 2, 'betook': 1, 'bookcase': 2, 'brooding': 2, 'twanging': 1, 'string': 10, 'carrier': 1, 'oldthats': 1, 'tablebut': 1, 'repressing': 4, 'comenothing': 1, 'plums': 4, 'innocentthat': 1, 'studythat': 1, 'houseand': 1, 'darkwe': 1, 'negro': 4, 'eggs': 3, 'onesthose': 1, 'realities': 1, 'blendand': 1, 'corded': 4, 'cabbage': 4, 'disbelieve': 2, 'plya': 1, 'jarring': 1, 'nocturne': 1, 'metempsychosis': 1, 'egyptians': 1, 'immortalwell': 1, 'conspirators': 1, 'quit': 3, 'learnwhat': 1, 'maternal': 2, 'mummers': 11, 'turks': 6, 'innkeepers': 3, 'ladiesfrightening': 1, 'funnybringing': 1, 'identified': 1, 'costumes': 5, 'applauding': 1, 'hooped': 1, 'skirtthis': 1, 'clown': 1, 'nonrecognition': 2, 'troyka': 13, 'melyukvs': 7, 'melyukva': 2, 'pashette': 1, 'louisa': 4, 'urgently': 3, 'consented': 3, 'runners': 5, 'squeaking': 4, 'climax': 1, 'troykas': 5, 'stud': 3, 'shaft': 6, 'belted': 2, 'metal': 6, 'disks': 1, 'freezing': 3, 'clanging': 1, 'dappled': 1, 'bang': 2, 'rudely': 4, 'peeped': 2, 'fursso': 1, 'distantin': 1, 'highroadpolished': 1, 'moonlightthe': 1, 'tug': 1, 'canter': 1, 'gee': 1, 'darlings': 2, 'keener': 3, 'jerks': 1, 'harderever': 1, 'gallopthat': 1, 'squeals': 1, 'gallopthe': 1, 'kosy': 2, 'nothis': 1, 'dmkin': 1, 'hoarfrost': 6, 'clucked': 1, 'showered': 2, 'sleighbeside': 1, 'glimpses': 5, 'shrieking': 2, 'spangled': 1, 'melyukvka': 4, 'eyelashes': 1, 'peoplethe': 1, 'somethingprobably': 1, 'funnybut': 1, 'fairy': 5, 'yells': 4, 'danlovna': 10, 'broadly': 1, 'witches': 1, 'clowns': 1, 'throats': 1, 'clowndimmlerand': 1, 'ladynicholasstarted': 1, 'disguising': 1, 'reminds': 2, 'dimmlerisnt': 1, 'vanyaclear': 1, 'refreshments': 2, 'peering': 8, 'kazn': 6, 'jelly': 1, 'capers': 2, 'whohaving': 2, 'disguised': 1, 'themwere': 1, 'ssha': 2, 'cleverly': 2, 'contrived': 5, 'frightening': 3, 'melyukv': 2, 'officercomes': 1, 'persuading': 2, 'cockcrow': 1, 'barn': 16, 'knockingthats': 1, 'grain': 19, 'dimpled': 2, 'sparkled': 3, 'dreary': 3, 'firewood': 3, 'network': 2, 'lime': 6, 'hewn': 2, 'inhale': 1, 'gladness': 2, 'crunching': 2, 'disengaging': 2, 'danlovnas': 1, 'transforming': 1, 'natshaare': 1, 'bewitchingly': 1, 'magical': 2, 'scrunching': 1, 'receding': 2, 'outlined': 3, 'blink': 1, 'windowpanes': 1, 'irresolutely': 3, 'admonish': 2, 'finances': 1, 'ingratitude': 3, 'cherished': 2, 'intolerable': 2, 'molested': 1, 'exploding': 2, 'drown': 5, 'variance': 2, 'thousandth': 4, 'copies': 9, 'spelling': 2, 'trousseau': 4, 'truths': 2, 'ardorall': 1, 'loathsome': 1, 'compromising': 2, 'fading': 1, 'retinue': 2, 'iberian': 6, 'krmlin': 27, 'hovels': 1, 'svtsev': 2, 'vrazhk': 2, 'nicest': 1, 'kindest': 2, 'nobleman': 4, 'performances': 2, 'benevolent': 2, 'booksno': 1, 'borrowed': 4, 'protection': 12, 'margaux': 1, 'timed': 1, 'reconciled': 5, 'sexe': 1, 'humoredly': 2, 'rut': 2, 'eternally': 2, 'predetermined': 3, 'wriggle': 2, 'republic': 2, 'strategist': 2, 'thathere': 1, 'unfaithful': 1, 'reconcile': 3, 'temporarily': 2, 'tooth': 5, 'raceby': 1, 'elemental': 3, 'powerlessto': 1, 'hypochondria': 1, 'malady': 4, 'acute': 7, 'inwards': 2, 'phenomena': 12, 'apolln': 1, 'nikolevichs': 1, 'refinement': 1, 'homage': 2, 'comedian': 2, 'illegal': 2, 'spaniards': 3, 'catholic': 6, 'fourteenth': 5, 'swear': 3, 'collections': 1, 'astraea': 1, 'manna': 1, 'seekers': 1, 'scotch': 2, 'charter': 1, 'profess': 2, 'injuries': 1, 'churchesbut': 1, 'deserter': 2, 'knouted': 2, 'accepts': 2, 'iwhat': 1, 'sphere': 5, 'allread': 1, 'carousals': 3, 'warned': 3, 'corpulence': 1, 'superficially': 1, 'skein': 2, 'chatted': 4, 'unraveled': 1, 'nowill': 1, 'entrenched': 4, 'framing': 1, 'toys': 2, 'governmental': 2, 'sameonly': 1, 'patriotic': 16, 'anti': 1, 'tendency': 5, 'originality': 3, 'opposition': 7, 'senility': 1, 'venerationespecially': 1, 'scathing': 1, 'criticisms': 1, 'relic': 1, 'reverently': 1, 'pleasurestalks': 1, 'hillsand': 1, 'disappointed': 1, 'corresponded': 3, 'thursdays': 1, 'juliewhose': 1, 'migr': 2, 'confide': 3, 'consternation': 1, 'pointer': 1, 'alphabet': 2, 'childwho': 1, 'angrythat': 1, 'flustered': 2, 'despotthe': 1, 'herknew': 1, 'humiliate': 2, 'exhibited': 1, 'jestthat': 1, 'bouriennehad': 1, 'endearments': 1, 'demonstrations': 3, 'inhuman': 2, 'conscripted': 3, 'revulsion': 1, 'doctormtivierwho': 1, 'ridiculed': 2, 'mtivier': 10, '6st': 1, 'dayall': 2, 'felicitations': 1, 'forcer': 1, 'consigne': 1, 'querulousness': 1, 'culminated': 1, 'explosion': 3, 'mtiviers': 3, 'fez': 1, 'spies': 5, 'outwe': 1, 'virulence': 2, 'fists': 5, 'gueststhe': 1, 'lopukhn': 3, 'chatrv': 1, 'drubetskyawaited': 1, 'bachelors': 1, 'circlethough': 1, 'townwas': 1, 'devotions': 2, 'diffident': 1, 'presiding': 2, 'seizure': 4, 'oldenburgs': 3, 'territory': 3, 'pirate': 1, 'wonders': 3, 'blindness': 1, 'popes': 4, 'scruple': 2, 'depose': 1, 'churchyet': 1, 'protested': 2, 'limit': 15, 'territories': 1, 'duchy': 3, 'oldenburg': 8, 'shifts': 1, 'protests': 2, 'composition': 2, 'substance': 7, 'forcible': 3, 'wording': 2, 'writingnot': 1, 'impudent': 1, 'hindered': 9, 'divinities': 1, 'crawl': 3, 'catholics': 1, 'indulgence': 4, 'woolwork': 2, 'sundays': 5, 'baths': 1, 'greats': 2, 'cudgel': 8, 'museum': 1, 'belabor': 1, 'jumps': 2, 'tire': 1, 'rostopchns': 21, 'faultfinding': 1, 'toyou': 1, 'courting': 2, 'raillery': 1, 'leftto': 1, 'noticeforget': 1, 'ofthat': 1, 'honestly': 4, 'risking': 2, 'requests': 2, 'disapprove': 2, 'analyze': 3, 'yetyes': 1, 'accustom': 3, 'sentimentally': 1, 'incurring': 1, 'committing': 1, 'sexless': 1, 'kargins': 9, 'supping': 1, 'promenade': 1, 'disillusioned': 1, 'yonder': 1, 'cruelly': 4, 'tribute': 1, 'bouts': 2, 'rims': 2, 'sketches': 1, 'maxims': 1, 'rustic': 1, 'mort': 2, 'secourable': 1, 'contre': 2, 'douleurs': 1, 'dautre': 1, 'asile': 1, 'ray': 1, 'aliment': 1, 'poison': 2, 'dune': 1, 'trop': 1, 'toi': 2, 'sans': 4, 'bonheur': 1, 'serait': 1, 'tendre': 2, 'mlancholie': 1, 'viens': 2, 'consoler': 1, 'tourments': 1, 'sombre': 1, 'retraite': 1, 'mle': 1, 'douceur': 1, 'secrte': 1, 'ces': 1, 'pleurs': 1, 'sens': 1, 'couler': 1, '*poisonous': 1, 'nourishment': 3, 'mingle': 2, 'sweetness': 1, 'doleful': 1, 'nocturnes': 1, 'liza': 1, 'pnza': 6, 'nizhegrod': 4, 'disappointments': 2, 'adorer': 4, 'renouncing': 6, 'expiring': 2, 'apportioned': 2, 'repulsive': 4, 'arduous': 1, 'revenue': 2, 'inconstancy': 1, 'galling': 1, 'effortswhich': 1, 'greedy': 1, 'occasionsthat': 1, 'konysheny': 2, 'candidly': 1, 'bluntly': 1, 'temptationthe': 1, 'jails': 1, 'prisons': 2, 'classes': 3, 'substantial': 2, 'appetizing': 2, 'newspapers': 2, 'knitted': 5, 'pulley': 2, 'plumper': 1, 'foo': 1, 'bonjour': 3, 'outdoor': 1, 'sniveling': 1, 'girlstomorrow': 1, 'irna': 1, 'vaslevna': 1, 'sightlooked': 1, 'barrels': 5, 'passes': 3, 'purchaser': 3, 'fix': 10, 'chancery': 1, 'scold': 3, 'goddaughter': 1, 'suppert': 2, 'roguet': 2, 'dislikes': 1, 'crotchety': 1, 'blisters': 1, 'reprimand': 3, 'quota': 1, 'himfor': 2, 'fatherand': 1, 'herfor': 1, 'sisterthat': 1, 'vozdvzhenka': 7, 'perturbation': 1, 'frivolously': 1, 'prejudiced': 1, 'insuperable': 2, 'indulge': 2, 'songstress': 1, 'ailing': 1, 'commonplace': 5, 'nervousness': 2, 'angrier': 3, 'defiant': 1, 'semnovnas': 1, 'marywho': 1, 'natshamademoiselle': 1, 'theaters': 4, 'whoshe': 1, 'thoughtwas': 1, 'offhand': 2, 'alienated': 1, 'apparition': 2, 'impolitely': 1, 'natshaits': 1, 'hurts': 5, 'expressly': 1, 'eyeshow': 1, 'flickering': 1, 'sellers': 1, 'overture': 2, 'tiers': 1, 'timethat': 1, 'necksuddenly': 1, 'disagreeably': 2, 'fullness': 1, 'combined': 6, 'alnina': 1, 'kirlovich': 6, 'mikhylovnawhat': 1, 'headdress': 3, 'julieand': 1, 'neckwhich': 1, 'neednt': 2, 'itnot': 2, 'rail': 2, 'attracting': 5, 'caucasus': 2, 'persia': 1, 'shahs': 1, 'semnova': 2, 'marvelously': 1, 'conductor': 1, 'latecomers': 1, 'gems': 2, 'boards': 7, 'cardboard': 4, 'bench': 21, 'prompters': 1, 'fingered': 4, 'stagewho': 1, 'loversbegan': 1, 'grotesque': 1, 'amazing': 4, 'queerly': 1, 'pretentiously': 1, 'actors': 4, 'seminude': 1, 'whoapparently': 1, 'unclothedsat': 1, 'strangest': 3, 'disconnectedly': 1, 'tickle': 1, 'belated': 2, 'epaulet': 1, 'gangway': 1, 'nudging': 2, 'fawningly': 1, 'scantily': 1, 'vie': 2, 'entracte': 2, 'scenery': 1, 'tombstones': 1, 'footlights': 1, 'horns': 2, 'contrabass': 1, 'daggers': 3, 'captivated': 2, 'boxher': 1, 'exposedbeckoned': 1, 'praises': 2, 'moscovite': 1, 'thinkespecially': 1, 'flatteringquite': 1, 'timenor': 1, 'stereotyped': 1, 'beards': 3, 'violins': 1, 'shrilly': 1, 'bravo': 5, 'cymbals': 1, 'galleries': 1, 'chromatic': 1, 'scales': 3, 'sevenths': 1, 'happinessever': 1, 'narshkins': 1, 'tournament': 2, 'encourage': 5, 'sont': 2, 'jolies': 1, 'femmes': 1, 'bouquet': 1, 'recur': 1, 'tinsel': 1, 'torturing': 3, 'soothing': 4, 'quieted': 1, 'cash': 1, 'creditors': 5, 'chiefa': 1, 'unwillingly': 1, 'slighted': 2, 'actresseswith': 1, 'carousal': 1, 'danlovs': 1, 'revelers': 1, 'outvying': 1, 'flirted': 2, 'beforea': 2, 'payment': 3, 'accused': 11, 'gratification': 2, 'entailed': 1, 'magdalenes': 2, 'innocence': 2, 'forgiven': 7, 'luxury': 5, 'gambling': 3, 'cleverness': 4, 'bait': 1, 'derived': 5, 'dominating': 1, 'connoisseur': 1, 'outcome': 4, 'disquieted': 1, 'parish': 2, 'churchthe': 1, 'graves': 2, 'priding': 2, 'conducts': 1, 'holiness': 1, 'concerts': 2, 'scrubbed': 1, 'saturdays': 2, 'suckling': 1, 'festivity': 1, 'dressmaker': 2, 'diversion': 2, 'tacked': 1, 'anothersa': 1, 'womansthat': 1, 'recite': 4, 'therell': 5, 'girlswho': 1, 'georgei': 1, 'tver': 7, 'draping': 1, 'picturesquely': 1, 'praising': 2, 'charmer': 3, 'blossoming': 2, 'unapproachable': 1, 'yesterdaywe': 1, 'laughterhe': 1, 'madly': 5, 'fianc': 1, 'pierrethat': 1, 'pierrehave': 1, 'grande': 2, 'promisedgo': 1, 'divert': 3, 'operagratified': 1, 'worldso': 1, 'worlda': 1, 'monologue': 1, 'recitations': 1, 'entreated': 4, 'improvised': 1, 'whilst': 1, 'merrier': 3, 'grossvater': 1, 'rearrange': 2, 'laughingly': 4, 'andrewshe': 1, 'dressmakers': 1, 'nowthere': 1, 'appreciating': 1, 'wontthats': 1, 'sorting': 5, 'patterns': 1, 'himfrom': 1, 'echo': 2, 'herbut': 1, 'akhrovs': 1, 'pleading': 2, 'lengths': 2, 'deceiver': 1, 'audibly': 3, 'suspicion': 4, 'freedomif': 1, 'comprehension': 3, 'declare': 5, 'prospective': 1, 'everythingthe': 1, 'succumb': 2, 'moaned': 5, 'elope': 5, 'bolknskishe': 1, 'abduction': 3, 'safeguard': 2, 'kmenka': 3, 'unfrocked': 1, 'warsaw': 4, 'passport': 2, 'witnesses': 3, 'mock': 2, 'marriagekhvstikov': 1, 'transactions': 1, 'makrin': 8, 'unbounded': 1, 'kurginwere': 1, 'rugs': 3, 'bearskins': 1, 'abacus': 1, 'bundles': 7, 'khvstikov': 3, 'makrka': 2, 'plot': 2, 'hatched': 1, 'condescendingly': 3, 'ita': 1, 'offall': 1, 'partiality': 2, 'goddess': 1, 'himevidently': 1, 'moneys': 1, 'balag': 20, 'ladykins': 1, 'cocottes': 1, 'pedestrians': 1, 'upsetting': 3, 'pedestrian': 1, 'lash': 1, 'bargained': 1, 'charging': 2, 'yearwhen': 1, 'handhe': 1, 'beasts': 4, 'reinscatch': 1, 'tumbled': 2, 'sprawled': 1, 'girt': 2, 'belt': 6, 'fling': 2, 'reveled': 1, 'timenow': 1, 'igntka': 1, 'matrna': 7, 'matrvna': 1, 'elopements': 1, 'backbut': 1, 'wrap': 1, 'ittake': 1, 'regretful': 2, 'gap': 8, 'matrnas': 1, 'stshka': 1, 'niktski': 2, 'boulevard': 6, 'tproo': 2, 'arbt': 8, 'podnovnski': 1, 'intercepting': 2, 'wicket': 2, 'tearless': 1, 'locked': 7, 'abductors': 1, 'pleaded': 5, 'unlocked': 2, 'hussy': 1, 'tongues': 3, 'hussies': 1, 'convulsive': 5, 'wrenching': 2, 'challenges': 1, 'interfered': 2, 'malignantly': 1, 'wretchthats': 1, 'bewail': 1, 'disasters': 2, 'admonishing': 1, 'enjoining': 1, 'quilts': 1, 'parched': 2, 'assurances': 2, 'tranquillity': 17, 'tversky': 2, 'bespattering': 1, 'dashboard': 1, 'tilted': 1, 'besprinkled': 2, 'powdery': 1, 'sage': 2, 'enviously': 1, 'wifethe': 1, 'charmingshould': 1, 'sympathized': 5, 'marryhe': 1, 'himexpecting': 1, 'pierreonly': 1, 'andrewpromised': 1, 'rejected': 8, 'loathing': 2, 'komonenos': 1, 'zakhrych': 2, 'timofevich': 1, 'returnat': 1, 'everentered': 1, 'smashing': 1, 'paperweight': 2, 'ruining': 2, 'wifewith': 1, 'kidnap': 1, 'memean': 1, 'onwhich': 1, 'cringing': 1, 'revolted': 1, 'brood': 5, 'banished': 3, 'arsenic': 1, 'antidotes': 1, 'purloined': 1, 'elopement': 1, 'additions': 2, 'faithlessness': 1, 'horizontal': 1, 'meshchrski': 2, 'vigorously': 3, 'spernskithe': 1, 'deepened': 1, 'dessalles': 37, 'treason': 2, 'extraneous': 1, 'packet': 7, 'maliciously': 2, 'reminding': 3, 'insists': 1, 'friendis': 1, 'sniffed': 4, 'dismayed': 3, 'himdid': 1, 'welled': 2, 'trickle': 1, 'dearill': 1, 'someonenot': 1, 'clearer': 4, 'abasement': 1, 'handsomest': 1, 'fahrenheit': 1, 'sordid': 1, 'prechstenka': 1, 'comet': 10, '1812the': 2, 'portend': 1, 'woes': 1, 'orbit': 1, 'inconceivable': 5, 'velocity': 3, 'suddenlylike': 1, 'arrow': 2, 'earthto': 1, 'countless': 4, 'scintillating': 2, 'arming': 1, 'concentrating': 1, 'western': 6, 'forcesmillions': 1, 'transporting': 1, 'armymoved': 1, 'west': 28, 'eastwards': 2, 'similarly': 8, 'crimes': 8, 'frauds': 1, 'treacheries': 1, 'thefts': 1, 'forgeries': 1, 'issues': 4, 'burglaries': 1, 'incendiarisms': 1, 'murders': 5, 'centuries': 7, 'recorded': 1, 'annals': 1, 'historians': 118, 'inflicted': 3, 'nonobservance': 4, 'continental': 3, 'metternich': 3, 'talleyrand': 5, 'oldenburgand': 1, 'englands': 2, 'helena': 3, 'parliament': 1, 'businessmen': 1, 'employment': 3, 'legitimists': 2, 'bons': 2, 'principes': 1, '178': 1, 'quantity': 10, 'depending': 1, 'magnitude': 2, 'tortured': 7, 'ambitious': 2, 'astute': 1, 'slaughter': 5, 'descendants': 2, 'research': 3, 'unclouded': 2, 'delve': 1, 'impotenceapart': 1, 'coincident': 1, 'causesto': 1, 'objection': 1, 'vistula': 6, 'autocratic': 1, 'subsequent': 2, 'dictatorship': 2, 'causesmyriads': 1, 'causescoincided': 1, 'slay': 5, 'hordes': 1, 'slaying': 2, 'voluntary': 3, 'conscription': 2, 'concurrence': 2, 'powerthe': 2, 'transported': 1, 'gunsshould': 1, 'individuals': 16, 'fatalism': 1, 'abstain': 2, 'predestined': 9, 'hive': 20, 'consciously': 1, 'coinciding': 2, 'assumes': 3, 'predestination': 1, 'kings': 19, 'historys': 5, 'tool': 4, 'purposes': 7, 'verser': 2, 'ou': 3, 'ses': 2, 'peuples': 2, 'volition': 3, 'lifethat': 2, 'historywhatever': 1, 'coincidence': 8, 'ordinated': 1, 'reproaches': 8, 'prussiaundertaken': 1, 'securing': 4, 'inclinations': 2, 'allurement': 1, 'expenditure': 3, 'compensate': 1, 'intoxicating': 1, 'dresden': 3, 'adapted': 2, 'coincided': 3, 'ripened': 2, 'stalk': 1, 'withers': 2, 'shakes': 1, 'organic': 1, 'botanist': 3, 'cellular': 1, 'tissue': 1, 'decays': 1, 'undermined': 1, 'tons': 1, 'navvy': 1, 'mattock': 1, 'ninth': 6, 'ownthat': 1, 'kingsto': 1, 'historian': 16, 'louisewho': 1, 'parisleft': 1, 'zealously': 2, 'frre': 2, 'himyet': 1, 'accelerate': 1, 'escort': 14, 'posen': 1, 'thorn': 1, 'danzig': 2, 'knigsberg': 1, 'vilkavisski': 2, 'riverbank': 1, 'cosaques': 1, 'steppes': 5, 'moscou': 5, 'ville': 4, 'sainte': 2, 'scythia': 1, 'marchednapoleon': 1, 'spyglass': 1, 'pouring': 2, 'ceaseless': 3, 'asia': 1, 'beauch': 1, 'preur': 1, 'india': 1, 'grard': 6, 'kashmirthats': 1, 'cossacksthose': 1, 'rascalssee': 1, 'veterans': 1, 'pontoon': 1, 'kvno': 1, 'preceded': 4, 'vliya': 1, 'poles': 5, 'telescope': 3, 'swim': 3, 'excess': 2, 'uncanny': 1, 'manes': 2, 'berthier': 13, 'muscovy': 1, 'dumfound': 1, 'impel': 1, 'insane': 9, 'clambered': 2, 'issuing': 2, 'forged': 2, 'saxon': 1, 'quos': 1, 'vult': 1, 'perdere': 1, 'dementat': 1, 'vlna': 28, 'vacillation': 1, 'everybodytired': 1, 'waitingprepare': 1, 'fetes': 2, 'magnates': 5, 'pleasing': 6, 'regatta': 1, 'zakret': 1, 'eclipsed': 1, 'phrased': 2, 'expenses': 3, 'coolly': 1, 'balashv': 95, 'closest': 1, 'sniffing': 6, 'envied': 2, 'potocka': 1, 'affronted': 1, 'estimation': 1, 'startling': 1, 'unfulfilled': 1, 'indignation': 3, 'resentment': 2, 'shishkv': 3, 'saltykv': 3, 'inserted': 2, 'soil': 12, 'lauriston': 4, 'informs': 2, 'aggression': 2, 'kurkin': 3, 'passports': 2, 'bassano': 1, 'consents': 1, 'transmit': 1, 'insert': 1, 'injudicious': 1, 'ryknty': 2, 'sentinels': 8, 'brute': 3, 'dewy': 3, 'herd': 12, 'trilling': 1, 'bubbles': 1, 'trim': 2, 'peacetime': 2, 'enterprise': 2, 'balashvs': 17, 'tethered': 3, 'trappings': 1, 'curling': 4, 'equestrian': 1, 'bracelets': 1, 'necklaces': 1, 'theatrically': 1, 'julner': 1, 'viva': 1, 'serviceand': 1, 'overfat': 1, 'skittish': 1, 'shaftshe': 1, 'variegated': 1, 'contentedly': 1, 'bal': 2, 'machve': 2, 'overcoming': 2, 'kingly': 1, 'forsook': 1, 'royaut': 1, 'incumbent': 3, 'confer': 5, 'royalty': 4, 'aggressor': 1, 'originator': 3, 'feathers': 2, 'ornaments': 1, 'davouts': 4, 'davout': 37, 'alexanderthough': 1, 'organism': 2, 'states': 21, 'incongruous': 2, 'chivalrous': 1, 'barrel': 3, 'writinghe': 1, 'auditing': 1, 'justification': 11, 'flaunt': 1, 'persistent': 3, 'sneered': 1, 'malevolently': 2, 'surlier': 1, 'ruder': 1, 'obeyed': 4, 'dependence': 12, 'hinges': 2, 'inscription': 2, 'fitting': 3, 'castrs': 2, 'peremptorily': 3, 'requested': 2, 'ennui': 1, 'insignificanceparticularly': 1, 'movedand': 1, 'vlnanow': 1, 'frenchthrough': 1, 'turenne': 2, 'mameluke': 1, 'rustan': 1, 'pomp': 2, 'magnatesseveral': 1, 'russiawere': 1, 'duroc': 2, 'resolutethey': 1, 'rotund': 1, 'thighs': 1, 'hessian': 4, 'eau': 3, 'cologne': 3, 'corpulent': 2, 'protruding': 2, 'emphasized': 1, 'concisely': 1, 'moderate': 2, 'amicable': 1, 'flurriedcompose': 1, 'kurkins': 1, 'initiative': 2, 'retires': 1, 'rhythmically': 5, 'niemenonly': 1, 'oder': 3, 'petrified': 1, 'vibration': 2, 'baden': 2, 'expended': 4, 'rectitude': 2, 'errors': 3, 'duplicity': 1, 'demonstrating': 3, 'exalt': 3, 'alexanderjust': 1, 'eloquence': 2, 'unrestrained': 1, 'moldavia': 4, 'wallachia': 2, 'finland': 2, 'gulf': 1, 'bothnia': 1, 'compassionately': 3, 'steins': 1, 'armfeldts': 2, 'wintzingerodes': 4, 'stein': 8, 'armfeldt': 11, 'fugitive': 2, 'incompetent': 2, 'competent': 1, 'napoleonhardly': 1, 'barclay': 51, 'pfuel': 39, 'compromise': 3, 'weighti': 1, 'swedesit': 1, 'anotherbernadotte': 1, 'madfor': 1, 'swede': 1, 'grinned': 1, 'insanity': 5, 'swedes': 1, 'practically': 2, 'demean': 3, 'alliesthe': 1, 'lions': 1, 'dvna': 1, 'dnieper': 6, 'alienating': 1, 'derisively': 1, 'himthose': 1, 'himan': 3, 'envoyespecially': 1, 'bessires': 1, 'harmonized': 1, 'welcoming': 1, 'devout': 3, 'monasteries': 2, 'backwardness': 2, 'disagree': 2, 'defeats': 4, 'uninterested': 1, 'poltva': 2, 'charles': 5, 'badness': 1, 'toying': 2, 'svres': 2, 'motioned': 1, 'worshiper': 1, 'hearer': 2, 'deliberating': 1, 'derisive': 2, 'wrttemberg': 6, 'weimar': 1, 'himwhich': 1, 'effectsthe': 1, 'boundless': 3, 'horizons': 1, 'unrelated': 2, 'towered': 1, 'vault': 1, 'ravenous': 1, 'avenged': 2, 'rancor': 1, 'unspent': 1, 'plodding': 1, 'vainglorious': 1, 'bucharestwhere': 1, 'wallachian': 1, 'womanprince': 1, 'tolly': 17, 'encamped': 4, 'drissa': 22, 'stateliness': 2, 'joylessly': 1, 'narrowly': 2, 'preceptor': 1, 'skepticism': 1, 'rosier': 1, 'immutability': 1, 'kmenskys': 1, 'attaches': 1, 'censuring': 1, 'irritableas': 1, 'liable': 2, 'latei': 1, 'blamethe': 1, 'blameis': 1, 'judgement': 1, 'headed': 5, 'bluebeard': 1, 'reverie': 5, 'reawaken': 1, 'overcame': 4, 'whatwhat': 1, 'trashcan': 1, 'malignity': 1, 'trash': 1, 'hangs': 2, 'instruments': 1, 'unexpended': 1, 'victimized': 1, 'rejoices': 2, 'coherence': 4, 'fortified': 9, 'invasion': 15, 'vicinity': 5, 'radius': 2, 'experts': 1, 'disadvantageous': 2, 'enemythat': 1, 'foreseenare': 1, 'utilizing': 1, 'tormsov': 3, 'volknski': 12, 'foreigners': 8, 'paulucci': 14, 'wolzogenand': 1, 'emanated': 1, 'assistants': 4, 'custodian': 1, 'enforce': 2, 'bodyguard': 2, 'adviser': 1, 'influenced': 5, 'lastly': 3, 'efficacy': 2, 'wolzogen': 22, 'pfuels': 8, 'bookish': 2, 'theorist': 3, 'despising': 1, 'propounded': 1, 'dayespecially': 1, 'ownthere': 1, 'subdivisions': 1, 'tendencies': 3, 'adherentsmilitary': 1, 'theorists': 2, 'immutable': 3, 'lawslaws': 1, 'oblique': 2, 'outflankings': 1, 'adherents': 3, 'pseudo': 3, 'barbarism': 2, 'deviation': 1, 'nobles': 7, 'representatives': 3, 'nationalism': 1, 'sided': 3, 'ermlov': 28, 'ermlovs': 5, 'petitioned': 1, 'discouraged': 1, 'partyin': 1, 'confidencebelonged': 1, 'compromises': 1, 'scientific': 2, 'warfare': 13, 'retention': 1, 'casque': 1, 'frankness': 8, 'vtebsk': 8, 'organized': 5, 'superseded': 2, 'bennigsenites': 1, 'twist': 2, 'justicea': 1, 'alexandergenerals': 1, 'capabilities': 2, 'diffidence': 1, 'gather': 6, 'theoreticians': 2, 'defensive': 3, 'thingas': 1, 'conflicting': 3, 'intersecting': 1, 'eddied': 1, 'advocating': 1, 'councils': 1, 'solicit': 3, 'gratuity': 1, 'seemingly': 6, 'achieve': 4, 'correctness': 2, 'falsity': 3, 'emerging': 6, 'fishing': 1, 'uncertainties': 2, 'peoplethis': 1, 'imparted': 2, 'obscurity': 5, 'swarm': 3, 'drones': 4, 'obscured': 1, 'intricacy': 1, 'conditional': 3, 'fluctuation': 1, 'trammeled': 1, 'unoccupied': 4, 'suggestedon': 1, 'capitalthat': 1, 'countrythe': 1, 'incitement': 1, 'moscowwas': 1, 'quitting': 1, 'endanger': 1, 'armynews': 1, 'michaud': 20, 'doeuvre': 1, 'tactical': 3, 'ensure': 2, 'absurdity': 4, 'quartersa': 1, 'chernshev': 8, 'marquis': 2, 'suitability': 1, 'organ': 1, 'indefiniteness': 1, 'elucidate': 1, 'semicouncil': 1, 'renegade': 2, 'mainspring': 2, 'typical': 1, 'robust': 3, 'hips': 1, 'quaint': 1, 'restlessly': 3, 'doit': 1, 'terminated': 2, 'glancednot': 1, 'immutably': 2, 'martyrdom': 1, 'notionscience': 1, 'citizen': 1, 'excitable': 1, 'imagines': 3, 'truthsciencewhich': 1, 'barbarousmonstrous': 1, 'collisions': 1, 'fallibility': 1, 'deviations': 3, 'sarcasm': 2, 'theorys': 1, 'objectits': 1, 'failures': 4, 'unbrushed': 1, 'eloquently': 3, 'fatigued': 1, 'campthe': 2, 'campi': 1, 'alternative': 1, 'lunatic': 5, 'gallows': 1, 'inexplicable': 3, 'expounded': 2, 'putwhich': 1, 'answeras': 1, 'defended': 9, 'voluminous': 1, 'extricate': 3, 'interpreter': 13, 'attackvery': 1, 'mend': 2, 'adhered': 1, 'drumming': 1, 'efficiency': 1, 'demonstrated': 2, 'mathematician': 1, 'strikes': 1, 'supporter': 1, 'absurdly': 1, 'nursed': 4, 'invoked': 1, 'shatter': 1, 'barbarian': 1, 'grumpy': 1, 'pitiable': 2, 'verifying': 1, 'experiment': 6, 'soundness': 2, 'personalities': 2, 'polyglot': 1, 'refutations': 1, 'activitiesthe': 1, 'geniusnow': 1, 'ascertained': 1, 'foresee': 5, 'gauge': 1, 'sometimeswhen': 1, 'jolly': 3, 'invested': 1, 'sychophants': 1, 'attributing': 2, 'attributeslove': 1, 'philosophic': 3, 'understandable': 2, 'vista': 1, 'allured': 1, 'agriculture': 4, 'election': 2, 'remounts': 4, 'ukraine': 2, 'relinquish': 1, 'interplay': 2, 'billets': 1, 'camped': 1, 'landowners': 11, 'sventsyni': 5, 'appropriated': 2, 'beer': 1, 'thence': 4, 'torrents': 1, 'ilyn': 38, 'ravskis': 9, 'exploit': 4, 'saltnov': 3, 'trickled': 3, 'inattentively': 1, 'zdrzhinski': 4, 'grandiloquently': 1, 'thermopylae': 2, 'antiquity': 1, 'ravski': 13, 'terrific': 3, 'zdrzhinskis': 3, 'contradicting': 2, 'shanty': 2, 'relish': 1, 'hendrkhovnas': 5, 'hendrkhovna': 16, 'andnow': 1, 'itset': 1, 'lessening': 1, 'blonde': 7, 'gaping': 1, 'recess': 1, 'loan': 1, 'kits': 2, 'dilapidated': 1, 'stove': 4, 'horsecloth': 1, 'cellaret': 1, 'preside': 2, 'cutting': 14, 'overclean': 1, 'plentiful': 3, 'dissolve': 2, 'nicer': 1, 'bucket': 1, 'lots': 1, 'booby': 1, 'reheat': 1, 'scratched': 4, 'plausible': 1, 'ostrvna': 3, 'twilight': 4, 'defiled': 1, 'fours': 3, 'planted': 3, 'scudding': 1, 'roadsides': 1, 'mettlesome': 1, 'dun': 1, 'outgallop': 1, 'plucking': 1, 'branch': 5, 'strip': 4, 'vertically': 2, 'determine': 8, 'tolstys': 1, 'batterywhich': 1, 'quickened': 1, 'pacerode': 1, 'wonderfully': 1, 'sunbeams': 1, 'dale': 2, 'ta': 5, 'detonators': 1, 'platoons': 1, 'spears': 1, 'pleasurable': 1, 'exhilarating': 1, 'viewed': 2, 'swooped': 2, 'orange': 1, 'sportsmans': 1, 'sevastynych': 1, 'attackknew': 1, 'stimulatingly': 1, 'deployed': 1, 'intersect': 1, 'riderless': 1, 'crouching': 1, 'blowwhich': 1, 'elbowas': 1, 'hopping': 2, 'facefair': 1, 'dimple': 4, 'eyeswas': 1, 'homelike': 1, 'remove': 6, 'breach': 3, 'ostermanns': 1, 'nausea': 1, 'packhorse': 1, 'countrys': 5, 'medicines': 3, 'diseases': 1, 'medicinenot': 1, 'liver': 2, 'medical': 4, 'combinations': 6, 'maladies': 1, 'organs': 2, 'wizard': 2, 'charms': 2, 'substances': 1, 'doses': 2, 'healers': 1, 'homeopaths': 1, 'allopaths': 1, 'elementary': 1, 'rubs': 1, 'chemists': 1, 'pills': 4, 'kopeks': 1, 'powders': 3, 'feller': 1, 'frise': 1, 'mdrov': 1, 'diagnosed': 1, 'pneumonia': 1, 'deriving': 1, 'sacrifices': 7, 'stifling': 2, 'overlaid': 1, 'pleasureballs': 1, 'promenades': 1, 'theatersbut': 1, 'blasphemy': 1, 'coquet': 1, 'sentinel': 9, 'forbade': 3, 'carefree': 2, 'herthat': 2, 'loveuttered': 1, 'instances': 3, 'agrafna': 6, 'shrines': 3, 'fasting': 1, 'vespers': 3, 'matins': 2, 'shabbiest': 1, 'interwoven': 1, 'repentance': 2, 'bricklayers': 1, 'sweeping': 1, 'correcting': 1, 'communing': 1, 'frolicking': 1, 'freshened': 1, 'spat': 1, 'eleventh': 5, 'miracle': 2, 'saturday': 2, 'print': 3, 'sultry': 1, 'hawkers': 4, 'cobblestones': 1, 'discontent': 1, 'walkedas': 1, 'walkwith': 1, 'againanother': 1, 'nods': 2, 'comely': 1, 'elevating': 1, 'worshipers': 1, 'sanctuary': 3, 'heave': 3, 'dalmatic': 1, 'unto': 6, 'community': 1, 'lovelet': 1, 'warriors': 4, 'dealings': 1, 'harmand': 1, 'synod': 2, 'governing': 4, 'litany': 1, 'stole': 1, 'sins': 7, 'stool': 1, 'trinity': 2, 'biretta': 1, 'synoda': 1, 'deliverance': 3, 'grandiloquent': 1, 'slav': 1, 'confounding': 1, 'waste': 6, 'lawless': 1, 'thine': 2, 'altars': 1, 'desecrate': 2, 'wield': 1, 'unlawful': 1, 'mindful': 1, 'uprightness': 1, 'meekness': 2, 'righteousness': 3, 'israel': 1, 'counsels': 2, 'undertakings': 1, 'gavest': 2, 'moses': 2, 'amalek': 2, 'gideon': 2, 'midian': 2, 'goliath': 4, 'brass': 1, 'gird': 1, 'loins': 1, 'spear': 2, 'arise': 9, 'ensnared': 1, 'plots': 1, 'prevail': 1, 'bounteous': 1, 'unworthiness': 1, 'mercies': 1, 'transgressions': 1, 'iniquities': 1, 'righteous': 1, 'heritage': 1, 'scepter': 3, 'sanctified': 1, 'confounded': 1, 'smite': 2, 'succor': 1, 'amen': 1, 'bended': 1, 'overtakes': 1, 'horizonfrom': 1, 'wherefore': 1, 'incomprehensiblebut': 1, 'vanishednot': 1, 'haunted': 1, 'guiltya': 1, 'swindled': 1, 'catastrophe': 5, 'prophecy': 2, 'john': 1, 'apocalypse': 4, 'hath': 4, 'threescore': 1, 'blasphemies': 2, 'numerical': 2, 'hebrew': 1, 'denote': 3, 'e': 30, 'k': 1, '9': 6, 'q': 1, '40': 1, '50': 2, '60': 2, '90': 3, '110': 1, '120': 1, '130': 1, '140': 1, 'z': 2, '666': 6, 'deux': 1, 'calculations': 4, 'besouhoff': 1, 'substituting': 1, 'article': 3, 'nationality': 2, 'besuhof': 4, '671': 1, 'elided': 1, 'empereur': 1, 'incorrectly': 1, 'lrusse': 4, 'antichrist': 3, 'besuhofall': 1, 'mature': 1, 'culminate': 1, 'spellbound': 2, 'sackful': 1, 'bulletin': 2, 'lists': 1, 'leaflet': 1, 'circulation': 1, 'membership': 1, 'abolition': 1, 'muscovites': 3, 'donned': 7, 'patriotism': 11, 'abnormal': 1, 'limb': 1, 'bulk': 1, 'solfa': 1, 'exercises': 1, 'herwill': 1, 'association': 1, 'rapturouslythats': 1, 'obolnski': 3, 'kirlych': 7, 'levy': 2, 'per': 1, 'lining': 2, 'chevalier': 4, 'georgian': 2, 'disappearance': 2, 'spyer': 1, 'spire': 2, 'reader': 5, 'borders': 3, 'despoil': 1, 'levies': 1, 'barring': 4, 'recoil': 1, 'bondage': 3, 'glorify': 1, 'vinaigrette': 1, 'begrudge': 1, 'patriot': 2, 'dononsense': 1, 'youpeter': 1, 'unwontedly': 1, 'brightens': 1, 'challengingly': 1, 'gesticulated': 1, 'emperorhe': 1, 'youthfulnessand': 1, 'sedateness': 1, 'gateway': 10, 'rumbling': 2, 'archway': 1, 'tradesmen': 6, 'lordling': 1, 'filthy': 2, 'presentable': 1, 'smarten': 1, 'everywhereon': 1, 'bared': 5, 'pinched': 1, 'tradesmans': 3, 'clinching': 1, 'ferociously': 1, 'elbowing': 1, 'ferocious': 2, 'myselfthat': 1, 'backthe': 1, 'assumptionand': 1, 'cassockprobably': 1, 'chanterwas': 1, 'warding': 1, 'ptyapale': 1, 'breathlessto': 1, 'platform': 1, 'temporary': 3, 'assumptionit': 1, 'turksthe': 1, 'kvas': 1, 'poppyseed': 1, 'goods': 12, 'rescued': 7, 'functionary': 1, 'officiating': 1, 'bishop': 2, 'plenary': 1, 'citizens': 6, 'cracking': 2, 'elevationthe': 1, 'pedestal': 2, 'cannonstill': 1, 'embankment': 2, 'celebrate': 3, 'signing': 2, 'sashes': 1, 'himthough': 1, 'emperorfrantically': 1, 'drenched': 3, 'dinedlooking': 1, 'envying': 1, 'notables': 3, 'balcony': 9, 'mold': 2, 'largish': 1, 'parapet': 3, 'jerkin': 1, 'plateful': 1, 'groundshe': 1, 'grabbed': 4, 'waitedand': 1, 'rostvthough': 1, 'yieldedwent': 1, 'slobda': 4, 'halls': 2, 'merchants': 12, 'noblemens': 1, 'strolling': 1, 'uniformsome': 1, 'toothless': 3, 'bloated': 2, 'zinada': 1, 'merchant': 10, 'classles': 1, 'tats': 1, 'gnraux': 1, 'graven': 1, 'appealthat': 1, 'peoplestrengthened': 1, 'strolled': 1, 'evoking': 3, 'districts': 2, 'sauntering': 1, 'meekest': 1, 'quietest': 2, 'slurring': 1, 'consonants': 1, 'heah': 1, 'bwing': 6, 'indicative': 1, 'offahd': 1, 'waise': 1, 'empewah': 2, 'patten': 1, 'awistocwacy': 1, 'pwovince': 1, 'sovweign': 2, 'fogotten': 1, 'waising': 1, 'yeah': 1, 'enwich': 1, 'pwiests': 1, 'wobbahs': 1, 'empia': 1, 'wuined': 1, 'farming': 6, 'bettah': 1, 'conscwiption': 1, 'wetun': 1, 'neithah': 1, 'depwavity': 1, 'gwudge': 1, 'theah': 1, 'livesevewy': 1, 'wecwuits': 1, 'fo': 1, 'watered': 1, 'senators': 2, 'managing': 2, 'debates': 1, 'mumbling': 2, 'bestconscription': 1, 'militiawe': 1, 'outlet': 1, 'senator': 3, 'deliberations': 2, 'lapsing': 1, 'formally': 1, 'propinantmy': 1, 'owners': 8, 'canon': 2, 'ourselvesand': 1, 'counsel': 2, 'emperormost': 1, 'majestyto': 1, 'stepn': 2, 'stepnovich': 1, 'adrksin': 4, 'increases': 10, 'decreases': 3, 'cardplayer': 1, 'tombs': 1, 'smote': 2, 'raving': 1, 'animate': 1, 'tangible': 2, 'orators': 3, 'glnka': 1, 'editor': 1, 'thunderclaps': 2, 'besashed': 1, 'buffoons': 1, 'racked': 1, 'lengthswhich': 1, 'speechesinfected': 1, 'expiation': 1, 'sash': 3, 'therehe': 2, 'hallbut': 1, 'conference': 1, 'furnish': 3, 'surpassed': 1, 'exclamations': 4, 'otkupshchk': 2, 'mayor': 2, 'propertytake': 1, 'effacing': 1, 'mamnov': 1, 'furnishing': 1, 'accomplishment': 2, 'stupendous': 1, 'expectedneither': 1, 'deny': 1, 'generalcould': 1, 'inexperienced': 2, 'works': 37, 'writers': 11, 'statements': 3, 'authors': 5, 'fonder': 3, 'scythian': 2, 'lure': 2, 'himselfpointing': 1, 'falsified': 1, 'awareness': 1, 'luring': 3, 'conceptions': 8, 'inch': 1, 'contemplate': 6, 'ruinous': 4, 'fortuitously': 1, 'necessarily': 3, 'withdrawing': 3, 'anglewe': 1, 'unpopular': 2, 'bagratinbeing': 1, 'armytried': 1, 'barclays': 2, 'effecting': 2, 'junctionthough': 1, 'headquartersbecause': 1, 'inferior': 4, 'advisers': 9, 'unpopularity': 1, 'avoidance': 2, 'trebled': 1, 'obstruct': 2, 'enfeebled': 4, 'caution': 3, 'lubomrski': 1, 'bronntski': 1, 'wlocki': 1, 'contest': 2, 'bronntskis': 1, 'hating': 2, 'battleground': 1, 'frenchhaving': 1, 'nevrovskis': 1, 'misled': 1, 'kindling': 2, 'gloat': 2, 'excluded': 1, 'devoting': 2, 'plotted': 1, 'impels': 1, 'conversed': 2, 'frenchified': 1, 'detestation': 2, 'jewish': 2, 'taverns': 3, 'widows': 1, 'charpie': 1, 'unhesitatingly': 1, 'whileinstead': 1, 'bouriennea': 1, 'dutifully': 1, 'forecasts': 1, 'maryhavent': 1, 'knowunder': 1, 'himnot': 4, 'geographical': 2, 'melts': 1, 'swamps': 2, 'mentions': 1, 'peevishly': 1, 'nowmichael': 1, 'voicenow': 1, 'bureau': 3, 'dramatic': 1, 'manuscripthis': 1, 'termed': 13, 'itwhich': 1, 'ivnovichs': 2, 'notepaperdo': 1, 'quires': 1, 'bolts': 2, 'unsatisfactory': 3, 'piano': 1, 'divest': 1, 'meditating': 5, 'deferring': 1, 'damn': 2, 'pocketcant': 1, 'slapped': 2, 'tableon': 1, 'lemonade': 2, 'spiral': 1, 'candlemoved': 1, 'candlestick': 3, 'noonday': 1, 'reeds': 1, 'potmkin': 1, 'catafalque': 1, 'zbov': 2, 'quickerand': 1, 'hata': 1, 'princeand': 1, 'stuffed': 2, 'satellitesthe': 1, 'countinghouse': 1, 'scullery': 1, 'pageboy': 1, 'serfswere': 1, 'bundle': 2, 'ykov': 11, 'crop': 3, 'corn': 13, 'reaped': 2, 'baited': 1, 'mown': 5, 'gchina': 1, 'suburb': 5, 'ferapntov': 12, 'alptychs': 3, 'trade': 5, 'dealers': 4, 'forties': 1, 'knobs': 1, 'folks': 8, 'cartingit': 1, 'harvesting': 2, 'booming': 4, 'cabs': 1, 'governors': 35, 'undone': 2, 'hangedthe': 1, 'asch': 2, 'instructionshere': 1, 'unlikely': 1, '22nd': 1, 'compatriots': 1, 'roaming': 1, 'utensils': 1, 'ferapntovs': 7, 'wailing': 5, 'lamenting': 2, 'watchdog': 1, 'barking': 1, 'innyard': 2, 'purchases': 2, 'yawned': 2, 'sorted': 1, 'packages': 1, 'cartload': 1, 'dorogobzh': 3, 'christians': 4, 'selivnov': 1, 'thursdaysold': 1, 'sack': 5, 'crops': 3, 'mrina': 1, 'parcels': 2, 'innkeeper': 5, 'boom': 9, 'blending': 3, 'bombarded': 1, 'bombardment': 2, 'bombs': 1, 'projectiles': 8, 'splinters': 4, 'bucks': 1, 'intermittent': 1, 'marvels': 2, 'exploded': 1, 'shrouded': 2, 'splinter': 2, 'cellar': 4, 'rocked': 2, 'shopman': 3, 'sickle': 2, 'crackle': 3, 'widespread': 1, 'confusedly': 1, 'ant': 1, 'thronging': 2, 'firesthe': 1, 'twilightand': 1, 'lamentation': 1, 'sunflower': 1, 'seeds': 2, 'loot': 3, 'frieze': 10, 'blazing': 4, 'collapsing': 3, 'rafters': 1, 'hailed': 1, 'usvyzh': 1, 'vidence': 1, 'apologetically': 2, 'wreaths': 1, 'rou': 2, 'yelled': 5, 'echoing': 1, 'cakelike': 1, 'aroma': 1, 'raging': 1, 'drought': 1, 'fleecy': 1, 'dews': 1, 'unreaped': 1, 'scorched': 3, 'marshes': 1, 'lowed': 1, 'meadows': 6, 'imperceptible': 1, 'sandy': 1, 'churned': 1, 'hubs': 1, 'ankle': 1, 'kneaded': 1, 'nostrils': 3, 'wells': 1, 'abandonment': 14, 'considerate': 2, 'likepeople': 1, 'bristled': 1, 'repugnant': 3, 'unfair': 3, 'flee': 6, 'pillage': 8, 'peopled': 1, 'foment': 2, 'rinsed': 1, 'beetles': 1, 'wharf': 1, 'submerged': 1, 'keepers': 1, 'calves': 1, 'straying': 2, 'overturned': 2, 'ornamental': 2, 'plum': 1, 'magnolia': 1, 'limes': 1, 'piebald': 1, 'foal': 1, 'rosebushes': 1, 'indoors': 1, 'carted': 5, 'commandeered': 1, 'occupies': 2, 'bareheaded': 6, 'aloof': 4, 'thingto': 2, 'caughtand': 1, 'chirruping': 1, 'scampered': 1, 'intolerably': 1, 'ooze': 1, 'floundered': 1, 'carp': 1, 'yelling': 4, 'towel': 2, 'alxis': 1, 'wantonly': 1, 'induce': 5, 'thiswe': 1, 'execrable': 1, 'frantic': 1, 'entrusts': 1, 'rabble': 5, 'implanting': 1, 'dilatory': 1, 'bewails': 1, 'applicable': 5, 'discriminate': 1, 'prevails': 3, 'latteras': 1, 'lifewe': 1, 'allot': 1, 'salons': 3, 'constitutions': 1, 'unmade': 1, 'beenthe': 1, 'malicious': 1, 'troupe': 1, 'contradicted': 3, 'conciliation': 1, 'discountenanced': 1, 'educational': 5, 'establishments': 3, 'bilbinwho': 1, 'visitthat': 1, 'enthusiasmnews': 1, 'returnwas': 1, 'plutarch': 2, 'ancients': 16, 'comings': 1, 'versa': 5, 'treasury': 2, 'suggest': 5, 'requirements': 6, 'assembly': 2, 'ape': 2, 'retrieved': 1, 'tribunal': 1, 'morals': 1, 'bucharest': 2, 'appoint': 1, 'decrepit': 2, 'blindmans': 4, 'buff': 4, 'director': 6, 'dissensions': 1, 'impolite': 1, 'coughthe': 1, 'dispose': 2, 'regionpowers': 1, 'autocrat': 1, 'novice': 1, 'joconde': 1, 'award': 1, 'courtly': 3, 'thiers': 12, 'retrospection': 1, 'reciprocity': 1, 'chessplayer': 1, 'manipulates': 1, 'conflicts': 4, 'vyzma': 20, 'tsrevo': 4, 'zaymshche': 3, 'borodin': 105, 'capitale': 1, 'asiatique': 2, 'sacre': 1, 'dalexandre': 1, 'innombrables': 2, 'glises': 2, 'forme': 1, 'pagodes': 1, 'chinoises': 1, 'ambler': 1, 'lelorgne': 3, 'dideville': 3, 'asiatic': 3, 'pagodas': 1, 'garrulous': 1, 'dinnerless': 1, 'quest': 1, 'baser': 1, 'impulses': 6, 'pettiness': 2, 'identity': 2, 'intimidate': 1, 'majors': 1, 'rods': 1, 'boastful': 1, 'interlocutor': 1, 'immortally': 1, 'pyramids': 2, 'enfant': 2, 'perplex': 1, 'gratify': 2, 'loquacity': 1, 'inventing': 1, 'operating': 4, 'yankvo': 3, 'extremity': 2, 'apathy': 2, 'disobey': 3, 'harbored': 1, 'suspicions': 1, 'domestics': 1, 'paralyzing': 1, 'paralysis': 1, 'certainthat': 1, 'concerns': 2, 'yearsthoughts': 1, 'happinessfloated': 1, 'herthe': 1, 'looted': 6, 'proclamations': 2, 'circulating': 2, 'mutterings': 1, 'surge': 1, 'knotted': 1, 'faculties': 5, 'mmm': 1, 'ar': 1, 'bouriennewho': 1, 'itcoming': 1, 'excusing': 1, 'darkened': 6, 'deadits': 1, 'stiffen': 1, 'pall': 1, 'sprays': 1, 'juniper': 1, 'chanter': 2, 'psalms': 1, 'coffinthe': 1, 'womenand': 1, 'absentees': 1, 'dig': 2, 'ditches': 1, 'boorishness': 3, 'traits': 2, '1797': 1, 'fdorovichs': 1, 'notions': 1, 'crown': 4, 'resident': 1, 'landlords': 4, 'literate': 1, 'peasantry': 1, 'undercurrents': 3, 'baffling': 1, 'emigrate': 1, 'southeast': 2, 'migrate': 3, 'caravans': 1, 'forcibly': 3, 'eruption': 1, 'loyal': 2, 'karp': 12, 'commune': 7, 'vislokhovo': 2, 'drnushka': 10, 'migration': 4, 'jestingly': 2, 'tasks': 1, 'cartloads': 1, 'acre': 1, 'complying': 4, 'carting': 5, 'possessing': 2, 'divining': 2, 'instincts': 1, 'drons': 2, 'furtively': 1, 'beekeeping': 1, 'sow': 2, 'wizards': 1, 'wrung': 1, 'westward': 3, 'cushion': 4, 'subjectthe': 1, 'irrevocability': 1, 'morocco': 1, 'windy': 2, 'weepers': 1, 'disharmony': 1, 'dependent': 7, 'blameless': 1, 'dangerare': 1, 'rameaus': 1, 'afford': 1, 'stifled': 5, 'rameau': 2, 'gnral': 2, 'violate': 1, 'annihilated': 1, 'inconsolable': 1, 'scourge': 1, 'diedthis': 1, 'horseswe': 1, 'distribution': 10, 'enabling': 1, 'distribute': 7, 'dunyshas': 3, 'bribe': 1, 'monthly': 1, 'housing': 1, 'pasture': 1, 'herethat': 1, 'distrustbut': 1, 'identical': 4, 'bounty': 1, 'oppress': 2, 'artful': 2, 'slavery': 1, 'pasther': 1, 'momentsrose': 1, 'images': 3, 'repelling': 1, 'crimea': 1, 'alivehe': 1, 'deadand': 1, 'captivity': 9, 'rideto': 1, 'princely': 1, 'farm': 5, 'raced': 1, 'ilyns': 1, 'outstripping': 1, 'grassland': 1, 'mortify': 1, 'mo': 1, 'himselfand': 2, 'om': 1, 'peoplehe': 1, 'peasantsasks': 1, 'horseflies': 1, 'unharness': 2, 'dissuasions': 1, 'cavalrymen': 6, 'espied': 3, 'rioting': 5, 'apprehensive': 2, 'friendmy': 1, 'obdurate': 1, 'imprudent': 1, 'overresist': 2, 'meaninglessly': 1, 'unconciously': 1, 'dissension': 1, 'arisen': 3, 'amiss': 3, 'fattening': 1, 'pot': 3, 'begrudged': 1, 'lump': 4, 'dronand': 1, 'vnka': 1, 'riot': 5, 'decidedtheres': 1, 'mutiny': 1, 'unmeaningly': 1, 'belts': 2, 'foolishness': 1, 'bickering': 1, 'aye': 1, 'othera': 2, 'chuck': 1, 'matting': 1, 'haythats': 1, 'ladssolid': 1, 'dictionaries': 1, 'obtrude': 1, 'permitting': 1, 'blushingly': 1, 'mutineers': 1, 'adventure': 2, 'wealthiest': 1, 'evenhe': 1, 'itensure': 1, 'plighted': 1, 'runner': 1, 'weceives': 1, 'evewyone': 1, 'weason': 1, 'pwomoted': 1, 'pwaps': 1, 'wussians': 1, 'wetweating': 2, 'dearnot': 1, 'birthmy': 1, 'pwince': 3, 'wellonly': 1, 'andwew': 1, 'impressionssuch': 1, 'concurrently': 1, 'bweak': 3, 'thwough': 1, 'hundwed': 3, 'wayguewilla': 1, 'ambled': 1, 'peak': 2, 'flaccid': 1, 'bleached': 1, 'eyeball': 1, 'limply': 1, 'whew': 6, 'relaxed': 2, 'lurching': 1, 'glumly': 1, 'bibulous': 1, 'expound': 2, 'wussian': 1, 'intendant': 1, 'kirl': 1, 'sewene': 1, 'konovntsyn': 15, 'reportwhich': 1, 'zaymshcheas': 1, 'tow': 1, 'mattersomething': 1, 'boredom': 1, 'propriety': 2, 'knowledgehe': 1, 'thesebut': 1, 'signature': 1, 'compensation': 4, 'smacked': 2, 'chopped': 1, 'chips': 1, 'dimples': 1, 'reclining': 1, 'marking': 2, 'chevaliers': 2, 'cygne': 2, 'suffused': 5, 'vient': 1, 'attendre': 1, 'storming': 1, 'rustchuk': 1, 'horseflesh': 9, 'nentendent': 1, 'oreille': 1, 'mal': 2, 'thingothers': 1, 'doute': 1, 'abstiens': 1, 'articulated': 1, 'manin': 1, 'grouping': 1, 'eventsthe': 2, 'willthe': 1, 'proverbs': 2, 'unanimity': 1, 'influences': 6, 'elation': 2, 'fervor': 2, 'contributions': 5, 'frivolous': 3, 'disregard': 2, 'broadsheets': 11, 'woodcuts': 1, 'potman': 1, 'burgher': 1, 'karpshka': 2, 'chigrin': 2, 'militiaman': 2, 'pubheard': 1, 'lvvich': 1, 'pshkins': 1, 'jeered': 1, 'choke': 1, 'dwarfs': 1, 'hayfork': 1, 'vulgar': 1, 'agents': 1, 'deported': 2, 'nzhni': 8, 'boat': 4, 'rentrez': 1, 'mmes': 1, 'entrez': 3, 'barque': 4, 'nen': 1, 'faites': 1, 'charon': 2, 'witticism': 1, 'addedthat': 1, 'mamnovs': 6, 'bunch': 1, 'raveled': 1, 'beringed': 2, 'caustique': 1, 'forfeit': 7, 'fines': 1, 'gallicism': 1, 'writer': 3, 'caustiquei': 1, 'gallicisms': 1, 'galtsyn': 1, 'facility': 2, 'drags': 1, 'madness': 3, 'besidesi': 1, 'joan': 1, 'arc': 2, 'amazon': 1, 'obolnskis': 3, 'blaya': 3, 'tsrkov': 3, 'souzas': 1, 'novels': 3, 'fable': 2, 'admire': 3, 'talkhow': 1, 'vrathat': 1, 'sexcuse': 1, 'saccuse': 1, 'accuses': 2, 'petit': 1, 'amoureuse': 1, 'tradesmens': 1, 'broadsheet': 6, 'wittgenstein': 4, 'arsenal': 4, 'jocose': 1, 'stormcloud': 2, 'hundredth': 4, 'cousine': 2, 'bantering': 2, 'habitually': 1, 'barbara': 2, 'mutinousthey': 1, 'misinformed': 1, 'hypocrite': 1, 'rascal': 6, 'idiotic': 3, 'lockup': 1, 'captures': 1, 'cajolery': 1, 'vorontsvo': 2, 'leppich': 4, 'descends': 1, 'boltnoe': 1, 'lbnoe': 3, 'flogging': 3, 'executioner': 3, 'frenchmans': 5, 'crowdofficials': 1, 'burghers': 1, 'shopkeepers': 3, 'pelisseswas': 1, 'blooded': 1, 'mounseer': 1, 'sauce': 2, 'sour': 1, 'lubynka': 3, 'coachmana': 1, 'evstfeyhis': 1, 'moscowthat': 1, 'mozhysk': 25, 'evstfeys': 1, 'perkhshkovo': 2, 'shevrdino': 29, 'hostel': 1, 'visita': 1, 'sacrificing': 8, 'happinessthe': 1, 'itselfis': 1, 'redoubt': 31, 'moscowwhich': 1, 'armywhich': 3, 'accepting': 4, 'mathematically': 2, 'draughts': 1, 'lengthening': 2, 'onwards': 2, 'announcements': 2, 'irrationally': 1, 'cunningly': 2, 'enslaved': 1, 'poems': 1, 'histories': 16, 'uttsa': 6, 'outpost': 1, 'mound': 2, 'hazard': 1, 'patrol': 6, 'sufficed': 2, 'infallible': 3, 'postwhereas': 1, 'flankand': 1, 'unentrenched': 3, 'kolochwhich': 1, 'angleso': 1, 'nvoe': 2, 'koloch': 15, 'vyna': 2, 'valevo': 6, 'positionat': 1, 'redoubtand': 1, 'semnovsk': 15, 'borodina': 1, 'russiaand': 2, 'redoubtour': 1, 'flankstill': 1, 'gridnva': 1, 'entrench': 1, 'commandersnot': 1, 'leftmaintained': 1, 'launched': 1, 'poniatowskis': 3, 'indecisive': 2, 'lashing': 1, 'tireless': 1, 'breech': 1, 'countryman': 1, 'recruit': 3, 'responding': 1, 'coxcombs': 1, 'peasantseven': 1, 'themin': 1, 'gig': 2, 'tatrinova': 5, 'digging': 3, 'hereand': 1, 'bunks': 1, 'dressers': 4, 'wellwe': 1, 'doomed': 2, 'awaits': 7, 'grki': 9, 'wheeling': 1, 'barrowloads': 1, 'collarbones': 1, 'panorama': 4, 'amphitheater': 2, 'rarefied': 1, 'bisecting': 1, 'yellowing': 1, 'belfry': 2, 'troopsours': 1, 'rightalong': 1, 'moskv': 8, 'riverswas': 1, 'hilly': 1, 'bezbova': 1, 'zakhrino': 1, 'ruins': 10, 'mounds': 1, 'descry': 1, 'teemed': 1, 'unmilitary': 1, 'brdino': 1, 'groundthats': 1, 'redoubts': 2, 'wingnow': 1, 'gabions': 1, 'reversed': 1, 'protectress': 1, 'spades': 1, 'vestmentsone': 1, 'embossed': 1, 'summit': 2, 'chanters': 2, 'censers': 1, 'decorating': 1, 'themhis': 1, 'inviolable': 1, 'bulwark': 1, 'momentarily': 1, 'scrambled': 2, 'brushing': 1, 'soiled': 1, 'kaysrov': 10, 'unembarrassed': 1, 'facesan': 1, 'wriggles': 1, 'bob': 1, 'narrowing': 1, 'highnessfor': 1, 'deaththey': 1, 'matchless': 2, 'adorers': 1, 'mrins': 1, 'gerkov': 1, 'lectures': 3, 'inditing': 1, 'recited': 1, 'rhythm': 1, 'fated': 1, 'riverside': 2, 'unnamed': 1, 'huts': 7, 'barns': 1, 'flches': 20, 'inadequate': 2, 'truthfully': 1, 'dart': 1, 'disappear': 6, 'tchkovs': 2, 'slaughtered': 3, 'gross': 3, '25': 2, 'knyazkvo': 3, 'lopped': 1, 'shocks': 1, 'campfiresthe': 1, 'kitchens': 4, 'burdensome': 2, 'thoughtsthe': 1, 'clearest': 2, 'thoughtswould': 1, 'soulvividly': 1, 'perspective': 1, 'lantern': 3, 'daubed': 1, 'itselfhow': 1, 'crude': 1, 'dawning': 2, 'overrun': 1, 'brimming': 1, 'dove': 2, 'discharging': 1, 'stink': 2, 'paymaster': 1, 'dismiss': 1, 'tripped': 1, 'coldnessthey': 1, 'yesthat': 1, 'interrogative': 2, 'wisp': 2, 'venomous': 1, 'pillaged': 2, 'accurately': 5, 'satisfies': 1, 'mortally': 5, 'unpracticed': 1, 'skilled': 2, 'kin': 1, 'slander': 1, 'accusations': 2, 'adversarys': 1, 'pawns': 1, 'reticent': 1, 'taciturnity': 1, 'affording': 3, 'undermine': 1, 'fights': 2, 'spares': 1, 'muddles': 4, 'clausewitz': 1, 'der': 5, 'krieg': 1, 'muss': 1, 'raum': 1, 'verlegt': 1, 'ansicht': 1, 'kann': 2, 'ich': 1, 'nicht': 2, 'genug': 1, 'preis': 1, 'geben': 1, 'commend': 1, 'ja': 1, 'zweck': 1, 'ist': 1, 'nur': 1, 'den': 2, 'feind': 1, 'schwchen': 1, 'gewiss': 1, 'verlust': 1, 'privat': 1, 'personen': 1, 'achtung': 1, 'nehmen': 1, 'weaken': 3, 'youthose': 1, 'theories': 1, 'eggshell': 1, 'tomorrowthat': 1, 'absently': 6, 'chivalry': 5, 'outraged': 1, 'outraging': 1, 'criminals': 5, 'lightheartedly': 1, 'warthats': 1, 'faints': 1, 'humbugged': 2, 'plunder': 7, 'cramp': 1, 'westphalians': 2, 'hessians': 2, 'spying': 1, 'encouragement': 2, 'stealing': 1, 'provision': 4, 'craft': 3, 'kills': 2, 'maim': 1, 'exaggerate': 1, 'compassionate': 2, 'incoherently': 3, 'beekeeper': 7, 'soulthat': 1, 'fettered': 2, 'bodyit': 1, 'beausset': 21, 'prefect': 2, 'fabvier': 5, 'madrid': 2, 'compartment': 1, 'grunting': 2, 'pampered': 1, 'delivering': 2, 'exterminate': 2, 'hunching': 1, 'beaussets': 4, 'salamanca': 2, 'thoughtto': 1, 'emperorand': 1, 'fearto': 1, 'deplorable': 1, 'fabviers': 1, 'lucid': 1, 'luckily': 1, 'sistine': 1, 'madonna': 1, 'terrestrial': 3, 'globe': 5, 'depicting': 1, 'spiking': 1, 'allegory': 1, 'himwhose': 1, 'globeto': 1, 'touchedhimself': 1, 'whythe': 1, 'paint': 2, 'corrections': 1, 'achievements': 1, 'profoundly': 2, 'flankhad': 1, 'dubiously': 2, 'communicating': 1, 'deckmhl': 3, 'campan': 4, 'elchingen': 1, 'ney': 6, 'morrow': 2, 'dictation': 1, 'opposing': 4, '1st': 1, 'pernetti': 2, 'campans': 4, 'howitzers': 3, 'dessaixs': 4, 'friants': 5, 'overwhelm': 3, 'shellfire': 1, '24': 2, '62': 1, 'fouch': 2, '8th': 1, 'bombard': 1, 'sorbier': 1, 'poniatowski': 3, 'fortification': 4, 'morands': 3, 'gibrards': 1, 'leadership': 3, 'se': 1, 'ordre': 1, 'mthode': 1, 'retaining': 2, 'allows': 4, 'pointsfour': 1, '102': 2, 'shower': 2, 'tchkov': 4, 'grards': 1, 'morand': 2, 'unforeseen': 1, 'commenced': 1, 'manpeter': 1, 'greatand': 1, 'mannapoleonto': 1, 'convincing': 5, 'waterproof': 1, 'deduction': 6, 'massacre': 3, 'bartholomew': 2, 'ixs': 2, 'deranged': 1, 'highdepends': 1, 'fictitious': 2, 'suppositions': 2, 'dignitywhich': 1, 'napoleondemands': 1, 'acceptance': 1, 'investigation': 3, 'abundantly': 1, 'confirms': 3, 'armyfrench': 1, 'dutchhungry': 1, 'mutilation': 1, 'conquerors': 6, 'assertion': 1, 'baseless': 1, 'cited': 1, 'militarist': 1, 'criticizes': 1, 'volumes': 1, 'criticizedcriticized': 1, 'punch': 5, 'strapped': 1, 'dampness': 1, 'rapp': 10, 'courtesan': 1, 'intact': 6, 'lozenge': 1, 'sipped': 1, 'medicinewhat': 1, 'corvisart': 1, 'lozenges': 1, 'unhindered': 2, 'paralyze': 2, 'encumbering': 1, 'remedies': 3, 'watchmaker': 1, 'adjust': 1, 'blindfold': 2, 'definition': 5, 'moisture': 1, 'geniality': 1, 'prevailing': 2, 'reverberate': 1, 'pertinaciously': 1, 'streaks': 1, 'tinted': 1, 'undulating': 1, 'silhouetted': 1, 'cornfields': 1, 'interspersed': 1, 'marshy': 1, 'translucent': 2, 'magically': 1, 'riverbanks': 1, 'chests': 1, 'ordnance': 1, 'compact': 2, 'violet': 1, 'balloons': 2, 'andpuff': 1, 'intervalboomboom': 1, 'cloudlets': 2, 'echoes': 1, 'trakh': 1, 'takh': 1, 'compare': 3, 'trample': 1, 'prodded': 1, 'phase': 1, 'whys': 1, 'tolerable': 1, 'frightfully': 1, 'bearable': 1, 'athwart': 1, 'baptism': 1, 'redoute': 3, 'fatale': 1, 'centre': 1, 'trenches': 2, 'openings': 2, 'earthwork': 4, 'hauling': 3, 'enveloping': 1, 'nonmilitary': 1, 'college': 1, 'goats': 1, 'grin': 3, 'spluttering': 1, 'innards': 1, 'fusillade': 1, 'circleseparated': 1, 'elseformed': 1, 'hayfield': 1, 'buzzed': 1, 'bargees': 1, 'humorist': 1, 'foxes': 1, 'gruel': 1, 'crows': 6, 'thundercloud': 1, 'streamlet': 2, 'drum': 2, 'scrupulously': 1, 'gasp': 1, 'crumbling': 2, 'concussion': 1, 'tingle': 1, 'charred': 7, 'dangling': 1, 'fragments': 2, 'bayoneted': 1, 'shockfor': 1, 'anotherpierre': 1, 'tighter': 2, 'claimed': 3, 'feat': 2, 'woundedsome': 1, 'unknownrussians': 1, 'aimlessly': 2, 'seething': 3, 'demonstration': 3, 'collision': 6, 'crow': 1, 'blackprobably': 1, 'menand': 1, 'glint': 1, 'circlet': 1, 'themselvesin': 1, 'maddenedeven': 1, 'collided': 2, 'givenalmost': 1, 'borodinthe': 1, 'retaken': 2, 'skirmish': 1, 'recaptured': 2, 'untrustworthy': 1, 'partially': 2, 'infantryall': 1, 'manhis': 1, 'disablement': 1, 'located': 5, 'zone': 1, 'promptings': 1, 'generalsdavout': 1, 'itrepeatedly': 1, 'mobs': 2, 'decreased': 2, 'reinforcements': 9, 'adjutanta': 1, 'ownas': 1, 'chessboard': 1, 'unconnected': 2, 'berthiers': 1, 'lathering': 1, 'gosling': 1, 'clapardes': 3, 'claparde': 2, 'inconvenience': 3, 'friant': 1, 'hinders': 3, 'medicinesa': 1, 'hellish': 1, 'campstool': 3, 'fasted': 1, 'negation': 2, 'jocularity': 1, 'recklessly': 2, 'courte': 2, 'nergique': 1, 'friedlandyet': 1, 'supernaturally': 1, 'impotent': 1, 'unfailingly': 1, 'disorganization': 1, 'eagles': 1, 'lodi': 1, 'marengo': 1, 'wagram': 3, 'shunned': 1, 'eyesonly': 1, 'nowwith': 1, 'balanced': 1, 'centerdestroy': 1, 'grounda': 1, 'nightmare': 2, 'accidents': 2, 'stray': 3, 'ruffian': 2, 'raises': 1, 'limp': 2, 'rag': 3, 'slain': 5, 'area': 2, 'tableaux': 1, 'vivants': 1, 'serried': 2, 'leagues': 2, 'dissented': 1, 'elsein': 1, 'departurebefore': 1, 'semnovskhis': 1, 'dukewhom': 1, 'momentto': 1, 'scherbnin': 1, 'scherbnins': 2, 'successa': 1, 'exceeding': 1, 'chewing': 3, 'nonchalantly': 1, 'nonchalance': 1, 'idol': 1, 'alte': 1, 'dislodge': 1, 'marveling': 1, 'victors': 1, 'judiciously': 1, 'maintains': 1, 'sinew': 1, 'links': 4, 'resemble': 4, 'inspirited': 1, 'oatfield': 2, 'unlifting': 1, 'domain': 13, 'overlay': 1, 'respite': 3, 'loosened': 2, 'gathers': 2, 'buckle': 3, 'bandolier': 1, 'refolded': 1, 'baskets': 1, 'cornfield': 1, 'liveliest': 2, 'occurrences': 5, 'yelped': 1, 'border': 1, 'footprints': 1, 'mowers': 1, 'calculating': 2, 'wormwood': 6, 'recurring': 1, 'tiresomely': 1, 'whizz': 2, 'hita': 1, 'whirring': 2, 'alighting': 2, 'rotating': 1, 'lifei': 1, 'suffocating': 1, 'abdomen': 2, 'welling': 1, 'fdor': 2, 'tents': 5, 'flaps': 1, 'movable': 1, 'troughs': 1, 'sparrows': 1, 'pecked': 1, 'grains': 1, 'cawing': 2, 'garbs': 1, 'kicked': 1, 'chucked': 1, 'smear': 1, 'dresser': 3, 'murmurs': 2, 'ooh': 11, 'grunted': 1, 'doctorsone': 1, 'tremblingwere': 1, 'gory': 3, 'undo': 2, 'splintered': 1, 'portions': 2, 'thighbone': 1, 'extracted': 1, 'lifeespecially': 1, 'earliest': 2, 'burying': 2, 'lifereturned': 1, 'piteouslyhe': 1, 'clotted': 1, 'rim': 2, 'compassion': 3, 'understandthat': 1, 'heaviness': 2, 'participant': 1, 'phantasm': 1, 'croaked': 1, 'againas': 1, 'treadmill': 1, 'itselfhe': 1, 'disavow': 1, 'belauded': 1, 'repudiate': 1, 'maimed': 2, 'security': 4, 'pacific': 1, 'conservative': 1, 'prosperity': 2, 'organize': 1, 'tranquility': 2, 'congress': 1, 'navigable': 1, 'seas': 1, 'aggrandizement': 4, 'antinational': 1, 'redressing': 1, 'benefactions': 2, 'saxons': 1, 'bavarians': 2, 'wrttembergers': 2, 'mecklenburgers': 1, 'neapolitans': 1, 'belgians': 1, 'piedmontese': 1, 'genevese': 1, 'tuscans': 1, 'romans': 1, 'bremen': 1, 'hamburg': 2, 'numbered': 2, 'klisch': 1, 'stagger': 1, 'postures': 1, 'davdov': 2, 'serfsthose': 1, 'pastured': 1, 'acid': 1, 'saltpeter': 2, 'bethink': 1, 'survived': 1, 'block': 5, 'flagging': 1, 'battleswhen': 1, 'fledexperienced': 1, 'sticks': 1, 'invaders': 3, 'infuriated': 2, 'onslaught': 1, 'perishing': 9, 'swerving': 2, 'invading': 1, 'downfall': 2, 'examines': 4, 'arbitrarily': 5, 'arbitrary': 6, 'discontinuous': 2, 'sophism': 1, 'tortoise': 7, 'progression': 4, 'ratio': 2, 'solutions': 1, 'conforms': 1, 'corrects': 1, 'deals': 1, 'postulates': 1, 'uninterruptedly': 2, 'commanderas': 1, 'equivalent': 2, 'unit': 3, 'exertion': 3, 'deductions': 3, 'observationas': 1, 'observes': 3, 'infinitesimally': 2, 'differential': 1, 'integrating': 1, 'infinitesimals': 2, 'intensive': 1, 'slackens': 1, 'biography': 1, 'refuses': 1, 'fallacious': 1, 'tolerated': 1, 'locomotive': 9, 'valves': 2, 'engine': 4, 'budding': 2, 'winds': 3, 'buds': 3, 'unfold': 1, 'steam': 7, 'millionth': 1, 'propounding': 1, 'neared': 1, 'momentum': 7, 'consolidated': 1, 'recoils': 1, 'colliding': 1, 'milesto': 1, 'moscowand': 2, 'standstill': 2, 'licks': 1, 'inert': 1, 'dash': 2, 'kalga': 26, 'victoryfor': 1, 'mlo': 8, 'yaroslvets': 8, 'berzina': 17, 'replenished': 1, 'moscowdespite': 1, 'ranksthe': 1, 'generalsas': 1, 'battlethe': 1, 'fil': 9, 'studies': 1, 'eventthe': 2, 'occurring': 3, 'uninterrupted': 3, 'worries': 1, 'deceptions': 2, 'tactics': 6, 'gallops': 1, 'commissary': 1, 'undermining': 3, 'diametrically': 1, 'respectable': 1, 'reconnaissance': 1, 'misunderstand': 1, 'poklnny': 6, 'dorogomlov': 9, 'crosart': 1, 'saragossa': 1, 'perceptions': 1, 'claim': 6, 'resigning': 2, 'honours': 1, 'galled': 1, 'assemble': 2, 'roomier': 1, 'savostynovs': 1, 'malsha': 6, 'granddaughter': 1, 'oven': 4, 'granddad': 6, 'pencils': 1, 'gesticulations': 1, 'chubby': 1, 'konovntsyns': 3, 'malshas': 1, 'grunts': 1, 'lurched': 2, 'comment': 1, 'rearranged': 1, 'pauses': 2, 'crockery': 3, 'circumspect': 1, 'projections': 1, 'schneider': 2, 'evacuation': 3, 'instigator': 1, 'predicted': 1, 'organically': 1, 'cowards': 2, 'countries': 2, 'momentous': 2, 'negroes': 1, 'jesters': 1, 'sartov': 1, 'taunted': 1, 'processions': 1, 'augustin': 2, 'upbraiding': 2, 'orphanage': 1, 'repudiated': 1, 'aubert': 1, 'chalm': 1, 'colony': 2, 'klyucharv': 6, 'affairthis': 1, 'astonish': 3, 'puny': 1, 'tide': 1, 'magnate': 4, 'problemhow': 1, 'concealment': 1, 'manselfish': 1, 'monseigneur': 5, 'relates': 2, 'jobert': 3, 'jesuit': 2, 'robe': 1, 'illuminations': 1, 'affords': 2, 'directeur': 1, 'afterward': 1, 'wafted': 1, 'frocked': 1, 'absolved': 1, 'pope': 2, 'document': 1, 'contests': 1, 'hlnehaving': 1, 'converting': 2, 'catholicism': 1, 'proprieties': 2, 'blackish': 1, 'mastery': 1, 'confessors': 1, 'ignorant': 3, 'sacrilege': 2, 'dual': 1, 'venial': 2, 'twofold': 3, 'firstly': 1, 'espoused': 1, 'columbus': 1, 'egg': 1, 'edifice': 3, 'laboriously': 5, 'refuting': 4, 'ecclesiastical': 2, 'directors': 1, 'secular': 1, 'divorced': 2, 'desecration': 1, 'remarry': 1, 'gruff': 1, 'brothels': 1, 'unvarying': 1, 'hasmen': 1, 'loversonce': 1, 'surnames': 1, 'princehe': 1, 'manand': 1, 'msalliance': 1, 'matresse': 1, 'squarely': 1, 'divorce': 3, 'justifiability': 1, 'consulted': 3, 'remarriage': 2, 'lifetime': 2, 'forbids': 1, 'unanswerable': 2, 'whosoever': 1, 'maman': 2, 'dites': 3, 'btises': 2, 'comprenez': 1, 'jai': 2, 'devoirs': 1, 'dispensations': 1, 'veux': 1, 'furieuse': 1, 'parce': 1, 'manqu': 1, 'comtesse': 1, 'pch': 1, 'misricorde': 1, 'sidled': 1, 'husbandwho': 1, 'muchinforming': 1, 'bearer': 1, 'keepingyour': 1, 'greasy': 2, 'viands': 2, 'minimize': 1, 'mash': 2, 'cauldron': 2, 'spoonfuls': 1, 'kirlychisnt': 1, 'pigeons': 1, 'penthouse': 2, 'permeated': 1, 'penthouses': 1, 'shamefully': 2, 'communal': 1, 'rearranging': 1, 'unspoken': 1, 'pump': 1, 'villa': 1, 'vaslchikov': 1, 'officialsthe': 1, 'departmentsknew': 1, 'villains': 5, 'pronged': 1, 'fork': 1, 'sheaf': 1, 'sty': 1, 'tradesman': 5, 'vereshchgin': 23, 'prison': 5, 'investigate': 1, 'trader': 1, 'dreadfullyand': 1, 'abominably': 1, 'killer': 1, 'cookshop': 1, 'painter': 1, 'prowess': 1, 'messrs': 1, 'custody': 1, 'andas': 1, 'agei': 1, 'adviceor': 1, 'anybodybut': 1, 'clutches': 2, 'tranquillize': 1, 'showwhen': 1, 'itthen': 1, 'hermight': 1, 'himselfhe': 1, 'possessions': 2, 'straightens': 1, 'wonted': 1, 'superficial': 2, 'elicited': 1, 'comments': 4, 'retrieving': 1, 'storing': 2, 'lubricant': 1, 'freelyand': 1, 'escapinggoing': 1, 'topsy': 2, 'turvy': 2, 'vinegar': 2, 'compress': 1, 'dismantled': 2, 'postilions': 1, 'scullions': 1, 'kuzmnichna': 24, 'mats': 1, 'maamselle': 1, 'reflectionas': 1, 'possiblereplied': 1, 'entrances': 1, 'hoffmans': 1, 'doze': 2, 'hereofficers': 1, 'rightive': 1, 'fatherlandsomething': 1, 'obstinate': 2, 'protector': 1, 'defender': 1, 'myasntski': 2, 'flurrying': 1, 'gobelin': 1, 'tapestries': 1, 'storeroom': 2, 'bitwell': 1, 'ware': 1, 'theseyes': 1, 'saxony': 1, 'repacking': 1, 'repacked': 1, 'ptyawhom': 1, 'packingpress': 1, 'vaslich': 9, 'countermanded': 1, 'expeditiously': 1, 'compactly': 1, 'disconsolately': 1, 'moscowthe': 1, 'commodities': 1, 'factory': 10, 'seminarists': 1, 'cookshops': 2, 'prices': 3, 'carters': 1, 'bronzes': 3, 'dissolution': 5, 'accommodated': 1, 'unloaded': 3, 'timofevna': 2, 'uncorded': 2, 'yardwe': 1, 'precursor': 1, 'detrimental': 1, 'inauguration': 1, 'dolefully': 1, 'ourall': 1, 'lopukhns': 1, 'spruce': 1, 'theywhich': 1, 'sixththere': 1, 'urge': 1, 'adequately': 1, 'conciliate': 1, 'misses': 1, 'yuspovs': 1, 'chiffonier': 3, 'pulls': 1, 'climbing': 1, 'weakening': 2, 'tempest': 1, 'shamefacedly': 1, 'tag': 1, 'storerooms': 2, 'unloading': 2, 'fasten': 1, 'footboard': 1, 'phaeton': 3, 'wasprince': 1, 'bonnet': 2, 'intuition': 1, 'oratory': 1, 'girdles': 1, 'tightened': 2, 'aggrieved': 1, 'efm': 3, 'falcon': 3, 'champing': 1, 'roadway': 1, 'kdrino': 1, 'prsnya': 1, 'podnovnsk': 1, 'sadvaya': 1, 'skharev': 6, 'alertly': 1, 'disguise': 2, 'meshchnski': 1, 'pierreor': 1, 'himin': 3, 'quizzical': 2, 'kindliness': 3, 'commiserating': 1, 'expressionof': 1, 'herfilled': 1, 'enchantment': 1, 'bazdevs': 6, 'hides': 1, 'hired': 2, 'patriarchs': 2, 'balancing': 1, 'bulky': 1, 'ramshackle': 1, 'gersim': 25, 'sophia': 2, 'mastermay': 1, 'hishas': 1, 'drinker': 1, 'galoshes': 2, 'untouched': 1, 'manuscripts': 3, 'holies': 1, 'residence': 3, 'eveningwithout': 1, 'forhe': 1, 'ingratiatingly': 1, 'disinfected': 1, 'alleys': 2, 'fords': 1, 'ample': 2, 'shines': 1, 'spaciously': 1, 'cupolas': 3, 'architecture': 1, 'aux': 1, 'donc': 2, 'enfin': 1, 'fameuse': 1, 'tait': 1, 'fainthearted': 1, 'clemency': 1, 'domes': 2, 'twinkling': 2, 'monuments': 3, 'despotism': 1, 'inscribe': 1, 'krmlinyes': 1, 'yesi': 1, 'civilization': 9, 'boyars': 7, 'waged': 1, 'utilize': 1, 'quon': 1, 'mamne': 1, 'lunched': 1, 'assemblies': 1, 'burnoose': 1, 'mosque': 3, 'russiansand': 1, 'sentimental': 1, 'dedicated': 1, 'maison': 2, 'emperorwithout': 1, 'ridiculousthat': 1, 'wordle': 1, 'sublimity': 1, 'signaling': 1, 'vying': 1, 'vanishing': 4, 'kmmer': 2, 'kollzski': 2, 'rampart': 5, 'fiftieth': 1, 'queenless': 3, 'hives': 2, 'smells': 1, 'beekeepers': 1, 'unanimous': 1, 'abdomens': 2, 'aerial': 1, 'spirituous': 1, 'venom': 1, 'whiffs': 1, 'emptiness': 2, 'decay': 2, 'discordant': 2, 'shiftily': 1, 'peers': 1, 'beestamed': 1, 'laborthat': 1, 'clusters': 1, 'bits': 7, 'excrement': 1, 'combs': 3, 'structures': 1, 'prowling': 2, 'creep': 1, 'robbers': 1, 'bumblebees': 1, 'wasps': 1, 'butterflies': 1, 'cells': 3, 'bee': 10, 'bumblebee': 1, 'smother': 1, 'partitions': 1, 'guarded': 2, 'reek': 1, 'closes': 1, 'chalks': 1, 'observance': 1, 'proprietiesa': 1, 'circumspection': 1, 'informant': 1, 'coup': 1, 'thtre': 1, 'yaza': 5, 'stoppage': 1, 'congestion': 1, 'beatified': 3, 'borovtski': 1, 'cheap': 2, 'sales': 1, 'bazaar': 5, 'affability': 1, 'customers': 1, 'purchasersbut': 1, 'drummers': 1, 'muster': 1, 'drums': 10, 'ilynka': 1, 'outrageous': 1, 'bolt': 2, 'cordon': 1, 'arcade': 1, 'shopkeeper': 2, 'pimples': 1, 'ostentatiously': 1, 'anythingwe': 1, 'thissheer': 1, 'twaddle': 1, 'vituperation': 1, 'dung': 1, 'ignt': 4, 'vaslichs': 1, 'strumming': 1, 'keyboard': 1, 'broadening': 1, 'impudence': 2, 'grinning': 1, 'mug': 1, 'boil': 1, 'flicked': 1, 'nextto': 1, 'countcount': 1, 'vespertime': 1, 'annoying': 1, 'rogzhski': 2, 'assignat': 1, 'motherly': 2, 'varvrka': 1, 'dramshop': 2, 'discordantly': 1, 'arduously': 1, 'spree': 2, 'jerkily': 1, 'publican': 11, 'blacksmiths': 1, 'smithy': 1, 'revelry': 1, 'smiths': 1, 'workmen': 5, 'smith': 8, 'deathkilled': 1, 'robbed': 5, 'enoughtaking': 1, 'bleared': 1, 'mates': 2, 'morosyka': 2, 'bootmakers': 3, 'signboard': 2, 'overalls': 1, 'workingman': 1, 'straggly': 1, 'workman': 5, 'whod': 1, 'ukse': 4, '31': 1, 'sirin': 1, 'victoriously': 1, 'comprehensibleit': 1, 'emanating': 2, 'superintendents': 1, 'superintendent': 11, 'barges': 2, 'sparing': 2, 'excellence': 1, 'departing': 1, 'irrelevant': 1, 'unanimously': 1, 'expedite': 1, 'upand': 1, 'leppichs': 1, 'uprising': 1, 'insurrection': 1, 'bidding': 1, 'disturbance': 1, 'probable': 2, 'munitions': 2, 'sanguine': 2, 'administrators': 1, 'controlled': 7, 'posters': 1, 'relinquishing': 1, 'wholeheartedly': 1, 'adapt': 1, 'national': 12, 'peremptory': 2, 'ruminated': 1, 'defining': 4, 'registrars': 2, 'consistory': 1, 'foundling': 2, 'suffragan': 1, 'lunatics': 4, 'madmen': 1, 'convicts': 5, 'battalionswhich': 1, 'gotfor': 1, 'meshkv': 1, 'untroubled': 1, 'administrator': 4, 'hook': 2, 'arises': 7, 'turbulent': 1, 'excellencyi': 1, 'dregs': 1, 'murmur': 5, 'reproving': 1, 'threadbare': 1, 'clumsily': 2, 'chafed': 1, 'unused': 1, 'vein': 2, 'hopeful': 1, 'uncomprehended': 2, 'blunt': 3, 'fatal': 6, 'shatters': 1, 'engulfing': 1, 'throttling': 1, 'hatchet': 1, 'whatstill': 1, 'toothey': 1, 'sinning': 2, 'livid': 1, 'trailed': 1, 'terribledisgusting': 1, 'appease': 2, 'vereshchgins': 1, 'goodand': 1, 'himselfnot': 1, 'vaslyevich': 3, 'flexible': 2, 'tranquillized': 1, 'hypothetical': 1, 'commits': 4, 'pacify': 2, 'unpunished': 2, 'miscreant': 1, 'foxy': 1, 'calamities': 3, 'doting': 1, 'almshouse': 1, 'saffron': 1, 'thrice': 4, 'stoned': 1, 'crucified': 1, 'fas': 1, 'fainter': 1, 'sand': 2, 'miraculous': 1, 'citadel': 3, 'kremlin': 1, 'barricaded': 1, 'ambuscade': 1, 'kutfyev': 2, 'screens': 4, 'mokhavya': 1, 'tritsa': 8, 'sanguinary': 1, 'ash': 1, 'canister': 1, 'instants': 1, 'circled': 1, 'znmenka': 1, 'dedicates': 1, 'sabered': 1, 'purged': 1, 'pitching': 1, 'pokrvka': 2, 'niklski': 1, 'famished': 2, 'lodgings': 2, 'nondescript': 1, 'paw': 2, 'jug': 1, 'perishes': 1, 'cellars': 3, 'unlocking': 1, 'kneading': 1, 'baking': 1, 'cooking': 2, 'housesbut': 1, 'disperses': 1, 'uncontrollably': 1, 'pastures': 1, 'soldierslike': 1, 'percolating': 1, 'sandspread': 1, 'stabling': 1, 'chalked': 1, 'coaches': 1, 'regions': 1, 'unexplored': 1, 'riches': 2, 'engulfed': 1, 'patriotisme': 2, 'froce': 2, 'rostopchne': 2, 'barbarity': 2, 'engines': 1, 'meals': 1, 'arson': 2, 'housesin': 1, 'incendiarism': 2, 'ferocity': 2, 'radiating': 1, 'starwise': 1, 'bordering': 2, 'obsessed': 1, 'intricate': 2, 'tangle': 2, 'enmeshed': 1, 'unravel': 1, 'deceaseds': 1, 'insincerity': 1, 'classed': 1, 'projected': 1, 'inaction': 1, 'cabalistic': 2, 'europewhich': 1, 'humanfor': 1, 'lifeall': 1, 'acquire': 2, 'guardif': 1, 'induces': 1, 'affirming': 1, 'nonhuman': 1, 'criterion': 1, 'cigars': 1, 'beddingall': 1, 'goodnessplease': 1, 'steer': 1, 'retirean': 1, 'officera': 2, 'limping': 5, 'compagnie': 1, 'bourgeois': 1, 'quartier': 2, 'logement': 1, 'enfants': 2, 'voyons': 2, 'fchons': 1, 'vieux': 1, 'heredont': 1, 'contorting': 1, 'gersims': 1, 'madmans': 1, 'yell': 4, 'madman': 2, 'brigand': 6, 'imbecile': 2, 'melodramatically': 1, 'lifethe': 1, 'ramballe': 16, 'regimentwas': 1, 'disillusion': 1, 'tut': 3, 'compatriot': 1, 'loftiest': 1, 'appellations': 1, 'parlorthe': 1, 'appellation': 2, 'perceiving': 1, 'obtuseness': 1, 'incognito': 1, 'response': 2, 'ambulance': 5, 'maniacs': 1, 'baptismal': 1, 'omelet': 1, 'repeatingexcellent': 1, 'morel': 17, 'saucepan': 1, 'kvass': 2, 'beverage': 1, 'limonade': 2, 'cochon': 2, 'pigs': 1, 'votive': 1, 'maniac': 1, 'smolnskhe': 1, 'cheekand': 1, 'moskowa': 2, 'deluge': 1, 'tough': 1, 'timessure': 1, 'succession': 2, 'apropos': 1, 'paristhe': 1, 'wagered': 1, 'parisian': 2, 'talma': 1, 'duchnois': 1, 'potier': 1, 'sorbonne': 1, 'ladiesi': 1, 'nowthats': 1, 'civilized': 1, 'geniusthats': 1, 'wantedwhen': 1, 'evildoer': 1, 'vengeance': 2, 'repelled': 1, 'unterkunft': 4, 'onterkoff': 1, 'candlelight': 1, 'ancestors': 4, 'lovelove': 1, 'ramballes': 3, 'alluringly': 1, 'lamour': 2, 'clodhoppers': 1, 'simpletons': 1, 'worshiped': 1, 'principally': 1, 'unnaturalness': 1, 'incongruities': 2, 'marquise': 2, 'loverassumed': 1, 'droll': 1, 'sauerkraut': 1, 'parisienne': 1, 'cur': 3, 'assailed': 2, 'pierreas': 1, 'winefollowed': 1, 'tiens': 1, 'platnic': 1, 'concealedhis': 1, 'mansions': 1, 'glowedthe': 1, 'waning': 2, 'mutually': 5, 'languages': 2, 'dizzy': 1, 'mytshchi': 12, 'porches': 1, 'fractured': 1, 'burningset': 1, 'sushchvski': 1, 'terntich': 4, 'chilled': 2, 'stupor': 1, 'unceasing': 2, 'disbelieving': 1, 'tugging': 1, 'replaiting': 1, 'unplaited': 1, 'replaited': 1, 'snore': 1, 'cricket': 2, 'chirped': 2, 'earthen': 2, 'smoldering': 2, 'wick': 3, 'personified': 1, 'mistook': 1, 'mantimkhinwas': 1, 'valetlay': 1, 'chemise': 1, 'inflammation': 1, 'bowels': 1, 'fairly': 1, 'bolster': 1, 'wry': 2, 'noisome': 1, 'mortifying': 1, 'dressings': 1, 'cockroaches': 3, 'rustled': 1, 'mushroom': 2, 'normal': 6, 'semidarkness': 3, 'enjoin': 2, 'piti': 18, 'titi': 1, 'ti': 6, 'airy': 2, 'structure': 4, 'needles': 5, 'collapse': 1, 'musicit': 1, 'stretches': 3, 'doorthe': 1, 'sphinx': 4, 'swam': 1, 'yeslove': 1, 'iwhile': 1, 'dyingfirst': 1, 'manifestations': 4, 'rejection': 1, 'shirtlike': 1, 'dimness': 1, 'plainit': 1, 'huddled': 5, 'somnambulist': 1, 'journeyas': 1, 'happenshe': 1, 'oneleast': 1, 'andrewspoke': 1, 'reload': 1, 'jagged': 1, 'sheath': 1, 'girdle': 2, 'povarsky': 6, 'timber': 2, 'ablaze': 2, 'lanes': 1, 'caisson': 1, 'extinguish': 1, 'torturedas': 1, 'incompatibility': 2, 'naturesby': 1, 'denserhe': 1, 'footpath': 1, 'gruznskis': 1, 'featherbeds': 1, 'stupefaction': 1, 'singed': 1, 'nikolevna': 3, 'ceasing': 1, 'alongside': 1, 'anska': 3, 'swoon': 2, 'passe': 1, 'niklins': 1, 'missy': 1, 'curve': 1, 'ceilings': 1, 'hiss': 2, 'soaring': 1, 'sheaves': 2, 'creeping': 2, 'animating': 1, 'squealing': 1, 'brat': 1, 'bitim': 1, 'gravel': 1, 'graveled': 1, 'fatty': 1, 'scrofulous': 1, 'unattractively': 1, 'bite': 1, 'slobbering': 1, 'gruznski': 1, 'pathetically': 1, 'armenian': 6, 'exotic': 1, 'almond': 1, 'anfrovs': 2, 'nikolevnas': 1, 'ivnovs': 1, 'rope': 2, 'lank': 1, 'armenians': 1, 'marauder': 3, 'hammered': 1, 'salesman': 1, 'prisonertake': 1, 'intoxicated': 3, 'aimless': 4, 'durosnels': 1, 'incendiaries': 3, 'suspects': 2, 'seminary': 1, 'students': 1, 'looters': 2, 'suspicious': 2, 'guardhouse': 3, 'phantoms': 1, 'empresses': 1, 'elisabeth': 1, 'givewith': 1, 'lordship': 1, 'sergius': 2, 'famed': 1, 'elocution': 1, 'singsong': 3, 'alternating': 1, 'ornament': 1, 'angina': 5, 'pectoris': 2, 'esteeming': 1, 'unwary': 1, 'charlatan': 1, 'venomously': 1, 'demolished': 1, 'petropol': 1, 'utterances': 1, 'insufficiently': 2, 'convert': 2, 'declaimed': 1, 'christhe': 1, 'heras': 1, 'mists': 1, 'foreseeing': 2, 'sings': 1, 'exultation': 1, 'hosanna': 1, 'cometh': 1, 'encompass': 1, 'terrors': 1, 'sling': 1, 'champion': 1, 'fervent': 1, 'mercifully': 1, 'birthday': 3, 'deposition': 1, 'completeness': 2, 'figured': 1, 'kutysov': 3, 'kutysovs': 1, 'prophets': 1, 'defeating': 1, 'extolling': 1, 'boasted': 1, 'officially': 2, 'drug': 2, 'dose': 1, 'condolence': 1, 'excusable': 1, 'unofficial': 1, 'ashes': 2, 'via': 1, 'yaroslvl': 11, 'quoique': 1, 'tranger': 2, 'dme': 2, 'gracieux': 1, 'souverain': 1, 'flammes': 1, 'clairaient': 1, 'route': 4, 'michauds': 1, 'requires': 1, 'discouragement': 1, 'relevant': 1, 'agonized': 1, 'playfulness': 2, 'dynasty': 1, 'exhausting': 1, 'meanest': 1, 'michaudquoique': 1, 'descriptions': 3, 'transcend': 1, 'foolishlike': 1, 'condemnation': 1, 'plays': 2, 'tries': 4, 'matrshka': 1, 'vivandire': 1, 'racking': 1, 'pleasurewhich': 1, 'warrants': 1, 'itthat': 1, 'warcan': 1, 'whenfree': 1, 'camphe': 1, 'gentlemens': 1, 'grazing': 1, 'posthouses': 1, 'stationmasters': 1, 'brusquely': 1, 'farms': 1, 'dealer': 1, 'thursdaystoday': 1, 'informally': 1, 'fancier': 1, 'snuggery': 2, 'stallions': 1, 'samples': 1, 'nicholashaving': 1, 'friendliest': 1, 'termsgalloped': 1, 'brightest': 1, 'petrvna': 3, 'valses': 2, 'recklessness': 1, 'poundwho': 1, 'cavalier': 1, 'remount': 1, 'enhanced': 1, 'diffusing': 3, 'fragrance': 4, 'clustered': 1, 'provincethat': 1, 'intoxicatingly': 1, 'privations': 3, 'inns': 1, 'conspiratorial': 1, 'capitally': 2, 'mythological': 1, 'coral': 1, 'ivory': 1, 'dianas': 1, 'igntyevna': 3, 'malvntseva': 7, 'oho': 1, 'childless': 1, 'lily': 1, 'nothe': 1, 'unsolicited': 2, 'himas': 2, 'casesthat': 1, 'bolknskayathats': 1, 'circumstancesso': 1, 'papas': 1, 'snyaif': 1, 'matchmaker': 1, 'nephews': 4, 'peacea': 1, 'feelingher': 1, 'reawoke': 1, 'auntthat': 1, 'rostvtheir': 1, 'suppositionthen': 1, 'undeservedly': 1, 'consummate': 1, 'coquette': 1, 'maneuvered': 1, 'strivings': 1, 'sacrificeall': 1, 'meetingnicholas': 1, 'subjectthey': 1, 'appropriately': 1, 'bishops': 1, 'basely': 1, 'importantmore': 1, 'hearted': 1, 'onand': 1, 'buying': 3, 'unreasonably': 1, 'dreaminess': 1, 'spirituality': 3, 'abundance': 4, 'reveries': 1, 'hernot': 1, 'inextricable': 1, 'sugarand': 1, 'propertyand': 1, 'obstacle': 2, 'tearfully': 1, 'hysterical': 1, 'bitterness': 2, 'secretive': 1, 'superstitious': 1, 'prohibited': 1, 'affinity': 3, 'intervening': 1, 'hostelry': 1, 'prior': 3, 'dovey': 1, 'saidthat': 2, 'redbut': 1, 'strangeness': 2, 'relentless': 1, 'deedinterrupted': 1, 'eyesshe': 1, 'beperhaps': 1, 'personand': 1, 'guardboth': 1, 'menhe': 1, 'captors': 2, '17': 1, 'meditative': 1, 'thoughtfulness': 1, 'surprisingly': 1, 'definiteness': 1, 'frailty': 1, 'trials': 1, 'essences': 1, 'judges': 4, 'civility': 1, 'inculpate': 2, 'expedient': 3, 'restoring': 2, 'protecting': 2, 'zbovski': 2, 'himentered': 1, 'squad': 1, 'virgins': 4, 'spaces': 2, 'stoves': 1, 'chimney': 2, 'stacks': 2, 'towers': 1, 'nativity': 1, 'escorting': 1, 'shcherbtovs': 2, 'eckmhl': 1, 'schoolmaster': 1, 'reverberation': 1, 'faltering': 1, 'adducing': 1, 'numbed': 1, 'stupefied': 1, 'lifehim': 1, 'aspirations': 2, 'systema': 1, 'himpierredepriving': 1, 'annihilating': 1, 'dutygermans': 1, 'wishthat': 1, 'nourished': 1, 'hurryingnot': 1, 'dumbly': 1, 'impeding': 1, '86th': 1, 'awayalone': 1, 'slackened': 2, 'gruffly': 1, 'dazed': 2, 'deadly': 1, 'befouled': 2, 'pardoned': 1, 'battens': 1, 'wrongdoing': 1, 'ladespecially': 1, 'simplicityand': 1, 'murderers': 1, 'disquiet': 1, 'vacantly': 2, 'unwound': 1, 'coiled': 2, 'unwinding': 2, 'deft': 2, 'motions': 1, 'pegs': 2, 'friendsuffer': 1, 'unwrapped': 1, 'potato': 3, 'clasp': 2, 'tss': 1, 'tt': 1, 'platn': 24, 'surname': 1, 'karatev': 55, 'moscowshes': 1, 'maggot': 1, 'gnaws': 1, 'dies': 3, 'housewife': 1, 'earning': 1, 'wages': 1, 'whichever': 2, 'grandchildren': 1, 'wellthats': 1, 'dragnet': 1, 'bulges': 1, 'frola': 3, 'lavra': 3, 'loaf': 2, 'cracks': 1, 'foundations': 6, 'platns': 2, 'figurein': 1, 'shoeswas': 1, 'semicircles': 2, 'laughedas': 1, 'didwere': 1, 'suppleness': 1, 'directness': 1, 'appositeness': 1, 'imprisonment': 3, 'sewed': 1, 'planed': 1, 'conversationof': 1, 'fondand': 1, 'stiffness': 2, 'himeverything': 1, 'leavea': 1, 'indecent': 1, 'saws': 1, 'context': 2, 'appositely': 1, 'adorning': 1, 'endearment': 1, 'commonest': 1, 'eventssometimes': 1, 'themassumed': 1, 'karatevs': 9, 'fitness': 2, 'mannot': 1, 'platsha': 1, 'chaffed': 1, 'errands': 1, 'exhales': 1, 'dissuade': 1, 'equipages': 1, 'semiopen': 1, 'roundabout': 1, 'lpetsk': 1, 'shya': 1, 'obtainable': 2, 'daunted': 1, 'integral': 1, 'herconsiderate': 1, 'lovingnot': 1, 'preoccupations': 1, 'therenot': 1, 'eveningagain': 1, 'brnnikovs': 1, 'vlga': 1, 'clattered': 1, 'watera': 1, 'riverand': 1, 'connais': 1, 'depuis': 1, 'longtemps': 1, 'himcan': 1, 'caressed': 4, 'groove': 1, 'snyayou': 1, 'buoyant': 2, 'runningthat': 1, 'roomthat': 1, 'loveboundless': 1, 'penetrated': 4, 'gangrene': 1, 'fester': 1, 'festering': 3, 'divan': 2, 'translucently': 1, 'correspond': 3, 'dtre': 2, 'venue': 1, 'wince': 2, 'antagonistic': 1, 'elsesomething': 1, 'understandand': 1, 'wholly': 3, 'gosp': 1, 'reap': 1, 'feedeth': 1, 'soall': 1, 'aloofness': 2, 'lightness': 3, 'inexorable': 1, 'lifewas': 1, 'deaththe': 1, 'endbut': 1, 'unfettered': 1, 'lovestands': 1, 'realization': 1, 'ultimately': 1, 'preternaturally': 1, 'screening': 2, 'soulshall': 1, 'mindabout': 1, 'particle': 2, 'sidedly': 1, 'humandeathwas': 1, 'backto': 1, 'possiblebut': 1, 'superhuman': 2, 'diedand': 1, 'malignant': 1, 'duration': 2, 'himhis': 2, 'outward': 1, 'convulsions': 2, 'reverent': 2, 'multiplicity': 2, 'complexity': 1, 'approximation': 2, 'intelligible': 4, 'positionthe': 1, 'eventwhich': 1, 'itto': 1, 'planets': 4, 'fixity': 2, 'ryazna': 1, 'tartino': 31, 'krsnaya': 2, 'pakhr': 4, 'salutary': 1, 'resultedmoment': 1, 'eventfrom': 1, 'voted': 1, 'lansky': 2, 'stored': 2, 'ok': 2, 'tla': 8, 'coursea': 1, 'abundant': 2, 'armywhen': 1, 'receivedassumed': 1, 'assert': 2, 'alonewho': 1, 'attackemployed': 1, 'hunter': 2, 'calamitous': 1, 'overtures': 1, 'koutouzov': 2, 'cursed': 2, 'initiator': 1, 'settlement': 2, 'pillaging': 3, 'armiesboth': 1, 'numberas': 1, 'lauristons': 2, 'scouted': 1, 'guerrilla': 11, 'chime': 1, 'chiming': 1, 'dudgeon': 1, 'bs': 2, 'ds': 1, 'onas': 1, 'transfers': 3, 'permutations': 1, 'plottings': 1, 'crossings': 1, 'interminglings': 1, 'srpukhov': 1, 'dmtrov': 1, 'rza': 1, 'confronting': 1, 'averting': 1, 'shapovlov': 1, 'scouting': 1, 'precautions': 2, 'kutzovhaving': 1, 'wishcould': 1, 'harmfulgave': 1, 'unguarded': 1, 'rightall': 1, 'writtenthough': 1, 'admirably': 2, 'kkins': 1, 'chkino': 2, 'torban': 1, 'letashvka': 1, 'rec': 1, 'ekhen': 2, 'brzin': 1, 'reeling': 1, 'positionmade': 1, 'justifications': 6, 'miscarried': 1, 'stromlova': 1, 'dmtrovsk': 1, 'volunteered': 1, 'grkov': 5, 'deceptive': 1, 'declivity': 1, 'distrustful': 1, 'dividednot': 1, 'themselvesand': 1, 'assiduously': 1, 'bagovts': 1, 'bagovt': 1, 'placid': 1, 'temperament': 1, 'rearwhere': 1, 'nobodythere': 1, 'forewarned': 1, 'hint': 2, 'highnessthe': 1, 'awayif': 1, 'recognitions': 1, 'battletartino': 1, 'austerlitztakes': 1, 'freer': 1, 'coincide': 2, 'meanwhat': 1, 'mechanics': 2, 'diagonal': 1, 'parallelogram': 1, 'viewto': 2, 'desiredto': 1, 'armyit': 1, 'minimum': 4, 'transition': 1, 'administration': 4, 'abounding': 1, 'clothingof': 1, 'armyand': 2, 'methodically': 1, 'geniuses': 2, 'courses': 2, 'wintering': 1, 'northerly': 1, 'southerly': 1, 'sequel': 2, 'falsely': 2, 'astounding': 1, 'egypt': 3, 'egyptwhere': 1, 'grandeurfor': 1, 'estimate': 3, 'sabastiani': 1, 'ykovlev': 3, 'tutlmin': 3, 'municipality': 4, 'disobedience': 2, 'commissaries': 3, 'denominations': 1, 'ignominious': 1, 'safeguarded': 1, 'maraude': 1, 'commerce': 4, 'placarded': 1, 'artisans': 4, 'tillers': 1, 'protects': 1, 'abodes': 1, 'craftsmen': 1, 'industrious': 3, 'markets': 2, 'surplus': 1, 'products': 2, 'husbandmen': 1, 'mokhovya': 1, 'seller': 2, 'buyer': 1, 'highroads': 1, 'tuesdays': 1, 'distances': 3, 'trading': 2, 'workingmen': 1, 'philanthropy': 5, 'inscribed': 1, 'combining': 1, 'filial': 1, 'orphans': 1, 'recounts': 1, 'purchase': 2, 'nonperformance': 1, 'planswhich': 1, 'circumstancesdid': 1, 'campaignthat': 1, 'polemic': 1, 'fain': 1, 'octoberthat': 1, 'fortifying': 1, 'basil': 1, 'razed': 1, 'mining': 1, 'moscowas': 1, 'skilland': 1, 'geniusof': 1, 'envoys': 2, 'embassage': 1, 'robberies': 2, 'preserving': 1, 'padlocks': 1, 'mutilated': 1, 'disorders': 1, 'posnykovs': 1, 'valueless': 1, 'ineffectiveness': 1, 'lawful': 1, 'pillagingoctober': 1, 'forceoctober': 1, 'complains': 1, 'nuisances': 1, 'courtyards': 1, 'underfoot': 2, 'provender': 1, 'starvation': 1, 'disintegrated': 1, 'trsor': 1, 'impeded': 1, 'shudders': 1, 'finallylike': 1, 'beastran': 1, 'movementsas': 1, 'figurehead': 1, 'vesselacted': 1, 'excursions': 2, 'azor': 1, 'femglka': 1, 'breed': 2, 'furry': 1, 'disdaining': 1, 'bask': 1, 'frolic': 1, 'ankles': 1, 'solidity': 1, 'hereditary': 1, 'infested': 1, 'lice': 3, 'animatedly': 1, 'slackness': 1, 'morningswhat': 1, 'invigorating': 1, 'everythingfar': 1, 'nearlay': 1, 'bricks': 1, 'housewhich': 2, 'repulsively': 1, 'uglyseemed': 1, 'homely': 1, 'skullcap': 1, 'kiril': 4, 'sokolv': 3, 'permanent': 2, 'chats': 1, 'chatting': 1, 'platoche': 3, 'sew': 1, 'convenience': 1, 'soot': 3, 'rounder': 1, 'flowered': 1, 'sewing': 2, 'louse': 1, 'handiwork': 1, 'assignation': 1, 'translate': 2, 'saddened': 1, 'scraps': 1, 'squeaky': 2, 'privation': 4, 'feats': 1, 'reasoningand': 1, 'quests': 1, 'experiments': 4, 'smirched': 1, 'positive': 1, 'reservation': 1, 'needsgood': 1, 'freedomnow': 1, 'constitute': 3, 'lifenow': 1, 'restrictedseemed': 1, 'superfluity': 2, 'destroys': 2, 'occupationsuch': 1, 'lifeis': 1, 'insolubly': 1, 'daydreams': 2, 'lightpierre': 1, 'hardships': 3, 'alertness': 1, 'inhis': 1, 'simplicityhere': 1, 'responsibilities': 2, 'emaciation': 1, 'dysentery': 1, 'kit': 3, 'semidark': 1, 'menthat': 2, 'exhortations': 1, 'dram': 1, 'mistrustfully': 2, 'conjecturing': 1, 'identification': 2, 'blasius': 1, 'youthe': 1, 'khamvniki': 3, 'unburned': 1, 'heathens': 1, 'palings': 2, 'neskchny': 1, 'beauharnais': 2, 'neys': 2, 'debouching': 1, 'ordnka': 1, 'transmoskv': 1, 'converge': 1, 'crossway': 1, 'furs': 2, 'settings': 1, 'chaises': 1, 'snouton': 1, 'wenches': 1, 'carriagessee': 1, 'rouged': 1, 'swaggeringly': 1, 'colic': 1, 'roughness': 2, 'reaction': 7, 'worsening': 1, 'immortal': 1, 'oscillating': 1, 'limitless': 2, 'lured': 2, 'boarded': 1, 'dated': 1, 'drokhovs': 4, 'broussiers': 2, 'formnsk': 8, 'broussier': 3, 'dokhtrovthat': 1, 'showering': 1, 'undiscerningbut': 1, 'russo': 1, 'augezd': 1, 'malkhov': 1, 'paroxysm': 1, 'townand': 1, 'undiscerning': 1, 'dokhtrovkutzov': 1, 'prose': 1, 'testimony': 1, 'workings': 1, 'cogwheel': 1, 'revolves': 1, 'aristvo': 2, 'battlesuddenly': 1, 'figner': 1, 'seslvin': 2, 'brovsk': 2, 'directionalong': 1, 'bolkhovtinov': 13, 'raining': 3, 'litashvka': 1, 'pleadingly': 1, 'alexy': 1, 'petrvich': 3, 'wakened': 1, 'shcherbnin': 5, 'shcherbnins': 1, 'tinder': 1, 'dreamy': 1, 'unexpressed': 2, 'proprietys': 1, 'milordoviches': 1, 'frownedpartly': 1, 'rescind': 1, 'premonition': 1, 'daytime': 2, 'aggressive': 1, 'champions': 1, 'ripe': 1, 'unripe': 1, 'barthlemi': 1, 'guerrillas': 3, 'ingenious': 1, 'sectionsagainst': 1, 'medn': 1, 'yukhnv': 1, 'happenedthe': 1, 'stampede': 2, 'ofthe': 1, 'extermination': 1, 'stal': 6, 'paunch': 1, 'scrutinize': 1, 'gaped': 1, 'nearernearer': 1, 'guile': 1, 'kalgaa': 1, 'germs': 1, 'themhow': 1, 'recuperate': 1, 'inhabited': 1, 'consuming': 1, 'chemical': 3, 'armynapoleon': 1, 'fledwithout': 1, 'mouton': 3, 'needful': 1, 'hourra': 1, 'prowl': 1, 'ordersas': 1, 'usto': 1, 'devises': 1, 'eclipses': 1, 'ultimate': 9, 'magnified': 1, 'goaltheir': 1, 'landwas': 1, 'scarce': 1, 'togethertheir': 1, 'atoms': 4, 'availed': 1, 'detach': 2, 'energies': 1, 'disruption': 1, 'decomposition': 2, 'solidified': 1, 'clamored': 1, 'inhumanly': 1, 'slaughtering': 1, 'slandered': 1, 'rending': 2, 'collects': 1, 'subjugates': 1, 'decrease': 2, 'nationeven': 1, 'armya': 1, 'nationshould': 1, 'conquering': 1, 'subjugated': 1, 'expulsion': 1, 'affirm': 1, 'transportthere': 1, 'vlas': 1, 'evacuated': 1, 'rapiers': 1, 'rapier': 5, 'brandish': 1, 'combatant': 1, 'fencer': 1, 'departures': 2, 'rulesas': 1, 'quarte': 1, 'tierce': 1, 'onthe': 1, 'consistently': 4, 'belabored': 1, 'notas': 1, '1813salute': 1, 'yields': 1, 'mountain': 1, 'tribes': 1, 'attacker': 1, 'infringes': 1, 'gros': 1, 'bataillons': 1, 'ont': 1, 'toujours': 1, 'raison': 1, 'momenta': 1, 'product': 6, 'obscurely': 1, 'factor': 6, 'itnow': 1, 'geometric': 1, 'formation': 4, 'assignment': 1, 'meanings': 1, 'twoor': 1, 'cudgels': 1, 'rifles': 1, 'multiplied': 1, 'factorthe': 1, 'armyis': 1, 'solvable': 1, 'apparentsuch': 1, 'onmistaking': 1, 'equations': 2, 'comparing': 2, 'conquerthat': 1, 'captiveall': 1, '4x': 1, '15y': 1, 'x/y': 1, '15/4': 1, 'equation': 1, 'unknowns': 1, 'periods': 3, 'proves': 5, '1812though': 1, 'themselvescongregated': 1, 'split': 4, 'needing': 1, 'compulsion': 3, 'partisan': 5, 'foragers': 1, 'dens': 1, 'regularizing': 1, 'davdovs': 1, 'progressed': 1, 'irregulars': 2, 'piecemeal': 1, 'treethe': 1, 'sizes': 1, 'sacristan': 1, 'vaslisa': 1, 'slew': 2, 'flamed': 1, 'unsaddling': 1, '22': 2, 'whichas': 1, 'prisonerswas': 1, 'sharpening': 4, 'partiesone': 1, 'germansent': 1, 'gwown': 1, 'heartfelt': 2, 'renowned': 1, 'miklino': 4, 'shmshevo': 10, 'watchmans': 8, 'avalanche': 1, 'rout': 1, 'disparity': 1, 'deter': 1, 'tonguethat': 1, 'straggler': 1, 'shcherbty': 3, 'esaul': 31, 'lovyski': 1, 'kirghz': 2, 'sodden': 4, 'cutup': 1, 'strewed': 1, 'leaking': 1, 'hitched': 1, 'rumbled': 1, 'stumps': 1, 'bumped': 1, 'risky': 1, 'presupposable': 1, 'komarv': 1, 'ihe': 1, 'cossackwere': 1, 'befitted': 1, 'officerwithout': 1, 'hinting': 1, 'rehearsing': 1, 'feokltych': 1, 'hehe': 1, 'ptyais': 1, 'ptyaabashed': 1, 'trousersfurtively': 1, 'genewal': 1, 'weturn': 1, 'outturned': 2, 'roots': 1, 'shimmering': 1, 'affright': 1, 'assenting': 1, 'conveying': 1, 'cweep': 1, 'cossackshe': 1, 'villageand': 1, 'impassabletheres': 1, 'swamp': 3, 'undertones': 1, 'marsh': 1, 'wascal': 1, 'plastn': 1, 'pokrvsk': 3, 'gzhat': 1, 'shielding': 1, 'orderers': 2, 'flaying': 1, 'captives': 1, 'drudgery': 1, 'musketoon': 2, 'pike': 1, 'carve': 1, 'spoons': 1, 'doneto': 1, 'slink': 1, 'dayeverybody': 1, 'devilhes': 1, 'applications': 1, 'detachmentjokes': 1, 'writhing': 1, 'funniest': 1, 'overnight': 1, 'dwy': 1, 'watchhouse': 4, 'floppy': 1, 'brim': 1, 'melodious': 1, 'ass': 1, 'likelier': 1, 'wogueits': 1, 'angrilythat': 1, 'bwute': 2, 'scowl': 1, 'esauls': 1, 'disclosing': 1, 'shcherbtythe': 1, 'toothed': 1, 'himpoor': 1, 'stuffonly': 1, 'lashesthatll': 1, 'remonstrated': 1, 'wantthree': 1, 'brace': 2, 'explicitly': 1, 'rubbishy': 1, 'chopping': 1, 'tabletop': 1, 'outwell': 1, 'seedless': 1, 'sutler': 2, 'coffeepot': 1, 'flints': 4, 'outthat': 1, 'areand': 1, 'baga': 1, 'pities': 1, 'vincent': 3, 'bosse': 2, 'vesnny': 4, 'vernal': 1, 'vesnya': 3, 'adaptations': 1, 'vesn': 1, 'matched': 1, 'voulez': 1, 'manger': 1, 'nayez': 1, 'peur': 2, 'braced': 1, 'padded': 2, 'buttonhole': 1, 'nowwouldnt': 1, 'youngster': 1, 'stainingi': 1, 'bluntlystaining': 1, 'amenities': 1, 'receipts': 1, 'persuasions': 1, 'lanciers': 1, 'lancers': 1, '6th': 2, 'dordre': 4, 'ici': 2, 'officier': 1, 'ronde': 1, 'sentinelles': 1, 'demandent': 1, 'ramrod': 4, 'necked': 1, 'clment': 1, 'restarted': 1, 'shapes': 2, 'shanties': 1, 'karabkh': 2, 'ukranian': 1, 'likhachvisnt': 1, 'sharpen': 1, 'bl': 1, 'sharpened': 1, 'likhachv': 5, 'rummaged': 1, 'whetstone': 2, 'arentlike': 1, 'blotch': 3, 'cavern': 1, 'vanisheddisappeared': 1, 'dissolved': 2, 'nothingness': 2, 'tops': 1, 'unveiling': 1, 'neighed': 2, 'snored': 1, 'ozheg': 3, 'zheg': 4, 'hymn': 2, 'melody': 3, 'fuguethough': 1, 'fugue': 1, 'instrumentnow': 1, 'hornplayed': 1, 'ohwhy': 1, 'harmonies': 1, 'surpassing': 1, 'triumphal': 1, 'likhachvs': 1, 'watery': 1, 'untying': 1, 'tightening': 1, 'girths': 3, 'shivers': 1, 'pulsed': 1, 'evwything': 1, 'slack': 2, 'nip': 1, 'haunches': 1, 'sliding': 1, 'pulsation': 1, 'loosening': 1, 'lance': 1, 'thickest': 1, 'plashed': 1, 'unmistakably': 1, 'attitudevery': 1, 'hardtack': 1, 'junots': 5, 'alarms': 1, 'reassembled': 1, 'causeless': 1, 'togetherthe': 1, 'trainstill': 1, 'raided': 1, 'froze': 1, 'grievous': 1, 'moroseness': 1, 'locking': 1, 'tunneled': 1, 'imprisoned': 2, 'consolatory': 1, 'truththat': 2, 'petal': 1, 'soreshis': 1, 'footgear': 2, 'wifeof': 1, 'scab': 1, 'nourishing': 1, 'transferring': 1, 'valve': 1, 'exceeds': 1, 'imaginings': 1, 'carrion': 1, 'animalsfrom': 1, 'horsesin': 1, 'pelt': 1, 'chilly': 2, 'uphead': 1, 'allwith': 1, 'vestment': 1, 'effective': 1, 'prick': 1, 'grumble': 1, 'companiona': 1, 'sinned': 1, 'vagrant': 1, 'chastened': 1, 'ache': 2, 'innocently': 3, 'formthe': 1, 'vos': 1, 'whipping': 1, 'smolnska': 1, 'facesone': 1, 'pierrethere': 1, 'howl': 2, 'alivea': 1, 'merges': 1, 'disappears': 1, 'sinks': 1, 'emerges': 1, 'roasting': 2, 'wagging': 1, 'plat': 1, 'fancyof': 1, 'haltand': 1, 'linking': 1, 'summertime': 1, 'bathing': 1, 'switched': 1, 'boded': 1, 'filez': 2, 'essentially': 1, 'succeeding': 1, 'vlnaindependently': 1, 'diverge': 1, 'deem': 1, 'disbanded': 1, 'cartridges': 1, 'ineffectives': 1, 'sacked': 1, 'entitled': 2, 'majesties': 1, 'highnesses': 1, 'catcher': 1, 'whereabouts': 1, 'fearlessly': 1, 'clapper': 1, 'tightand': 1, 'exhaustion': 3, 'approximately': 3, 'ascertaining': 1, 'positionby': 1, 'scoutingwas': 1, 'oldthe': 1, 'worstroad': 1, 'krsnoe': 22, 'orsh': 5, 'dnieperwhich': 1, 'dothemselves': 1, 'armyfirst': 1, 'neysran': 1, 'gauntlet': 1, 'busying': 1, 'stealth': 1, 'parallel': 1, 'himthis': 1, 'roadis': 2, 'assez': 1, 'neya': 1, 'ofeven': 1, 'elastic': 1, 'threads': 3, 'ratiocination': 1, 'excludes': 1, 'atrocity': 1, 'quun': 2, 'commensurable': 1, 'incommensurable': 2, 'numerically': 2, 'chichagv': 10, 'unfounded': 1, 'withstood': 1, 'borodindefeated': 1, 'capturing': 3, 'marshalsand': 1, 'frustrated': 1, 'baffledthen': 1, 'claims': 2, 'lyrical': 1, 'rhapsodies': 1, 'involves': 1, 'interference': 1, 'dukeswhose': 1, 'maistre': 1, 'becauseas': 1, 'plansthe': 1, 'tantamount': 1, 'diversions': 1, 'slice': 1, 'armyto': 1, 'scientists': 1, 'settles': 1, 'campaignwhen': 1, 'camping': 1, 'monthit': 1, 'discard': 1, 'imaginations': 1, 'extinction': 1, 'severance': 1, 'heals': 1, 'shrinks': 1, 'overhung': 1, 'vistas': 1, 'outrage': 1, 'infringed': 1, 'sacredness': 1, 'abstention': 1, 'subjectthis': 1, 'mentionbrought': 1, 'arbiter': 1, 'repairs': 1, 'intruder': 1, 'whichwith': 1, 'strengthher': 1, 'negligently': 1, 'goneto': 1, 'improbable': 2, 'desolation': 1, 'indignity': 1, 'twitches': 1, 'onit': 1, 'wellquite': 1, 'relived': 1, 'protracted': 1, 'stupidly': 1, 'ilnich': 2, 'themher': 1, 'snyawere': 1, 'anguish': 1, 'trustful': 1, 'persevering': 1, 'soothed': 1, 'edges': 1, 'lifelovewas': 1, 'blinds': 1, 'tiredtry': 1, 'exclusive': 2, 'passive': 1, 'thinness': 1, 'againthough': 1, 'comingcalled': 1, 'layer': 1, 'slime': 1, 'destructive': 1, 'voluntarily': 2, 'wastage': 1, 'easing': 1, 'diminution': 1, 'delaying': 1, 'zigzag': 1, 'shorten': 1, 'vlnanot': 1, 'intermittently': 1, 'knewnot': 1, 'beingwhat': 1, 'hardship': 1, 'unparalleled': 2, 'dukeit': 1, 'nowwhen': 1, 'senselesswas': 1, 'soldiersill': 1, 'starvedwho': 1, 'dwindled': 1, 'eugne': 1, 'wantedthat': 1, 'reproche': 1, 'styled': 1, 'stark': 1, 'starvingand': 1, 'achievementthough': 1, 'accomplishing': 1, 'vanquishing': 1, 'bribed': 2, 'acclaimed': 1, 'dissolute': 1, 'indefinitea': 1, 'blundering': 1, 'bogdnovich': 1, 'grands': 1, 'napoleonthat': 1, 'dignitynapoleon': 1, 'adulation': 2, 'kutzovthe': 1, 'happeningkutzov': 1, 'unswervingly': 1, 'consonant': 1, 'accomplish': 4, 'himwho': 1, 'happeningwhat': 1, 'manwho': 1, 'peopleuse': 1, 'inconsistent': 2, 'verbally': 1, 'aloneincurring': 1, 'displeasuresaid': 1, 'actionswithout': 1, 'deviationwere': 1, 'minimizing': 1, 'procrastinator': 1, 'motto': 1, 'investing': 1, 'unprecedented': 1, 'eventsif': 1, 'individualsfor': 1, 'discern': 4, 'occuring': 1, 'disfavorto': 1, 'herothe': 1, 'eveningafter': 1, 'counterorderswhen': 1, 'dbroe': 3, 'sores': 2, 'bestial': 1, 'fleeting': 1, 'detaching': 1, 'reluctance': 3, 'rah': 1, 'theyyou': 1, 'cluster': 1, 'bastards': 1, 'simplehearted': 1, 'expletives': 2, 'placea': 1, 'stacked': 2, 'limbed': 1, 'lair': 1, 'axes': 3, 'crashing': 1, 'thatch': 1, 'togethershove': 1, 'haulers': 1, 'authoritative': 1, 'hits': 1, 'moderating': 1, 'interlarding': 1, 'choppers': 1, 'plied': 1, 'accouterments': 1, 'north': 2, 'nightsome': 1, 'repairing': 1, 'stripping': 1, 'incredibly': 1, 'timelacking': 1, 'sifted': 1, 'armyphysically': 1, 'mentallyremained': 1, 'blazed': 1, 'jackdaw': 3, 'herethats': 1, 'stamping': 1, 'hiccough': 1, 'spoils': 1, 'frenchies': 2, 'jabbered': 2, 'lingo': 1, 'whiteas': 1, 'birchbarkand': 1, 'deadwhere': 1, 'knowwell': 1, 'rotted': 1, 'maggoty': 1, 'kerchiefs': 1, 'gobble': 1, 'poleon': 1, 'himno': 1, 'kiselv': 1, 'flagged': 1, 'shine': 1, 'swaggerer': 1, 'firelight': 1, 'mockingly': 1, 'lout': 1, 'rebukes': 1, 'plaintively': 1, 'wagwhom': 1, 'henri': 1, 'quatre': 2, 'henry': 1, 'rowdy': 1, 'vivarika': 1, 'vif': 1, 'seruvaru': 1, 'sedyablyaka': 1, 'eut': 1, 'triple': 2, 'boire': 1, 'battre': 1, 'vert': 1, 'galant': 1, 'zaletev': 2, 'ke': 2, 'drawled': 1, 'bu': 1, 'ba': 1, 'ga': 1, 'frenchie': 1, 'undignified': 1, 'disport': 1, 'gladsome': 1, 'mathematical': 2, 'intermediate': 1, 'petersburgfar': 1, 'wara': 1, 'frenchin': 1, 'lostthan': 1, 'fallacy': 1, 'actionthe': 1, 'demandednamely': 1, 'allcarried': 1, 'vis': 1, 'inertipressed': 1, 'pursuers': 1, 'necessities': 1, 'prisonerswith': 1, 'doperished': 1, 'frenchand': 1, 'servicecould': 1, 'ships': 2, 'wherein': 1, 'sanction': 1, 'mislead': 1, 'tatterdemalions': 1, 'bootswas': 1, 'admiral': 1, 'maximum': 4, 'spells': 1, 'slowness': 2, 'affairsthis': 1, 'armywho': 1, 'vlnahis': 1, 'seethed': 1, 'cutters': 1, 'breakers': 1, 'greece': 1, 'dirk': 1, 'dotage': 1, 'incidentally': 1, 'borsov': 1, 'suitecount': 1, 'flecked': 1, 'porters': 1, 'waddled': 1, 'innermost': 1, 'conforming': 1, 'levying': 1, 'campaignto': 1, 'reconstructed': 1, 'graduallyjust': 1, 'therenow': 1, 'performer': 1, 'motives': 4, 'refixing': 1, 'orl': 11, 'procuring': 1, 'surviving': 1, 'ternty': 4, 'elts': 1, 'freedomthat': 1, 'inalienable': 1, 'moscowfilled': 1, 'findthe': 1, 'lifeno': 1, 'temporarilyhe': 1, 'faithnot': 1, 'inscrutable': 1, 'senselessness': 1, 'thereforeto': 1, 'contemplationhe': 1, 'edifices': 1, 'orlwhere': 1, 'himfelt': 1, 'shrunk': 1, 'combative': 1, 'tooternty': 1, 'vskain': 1, 'professions': 1, 'desert': 1, 'hindrances': 1, 'condemning': 1, 'acknowledgment': 2, 'pecuniary': 1, 'impostors': 1, 'heretofore': 1, 'recourse': 4, 'insurmountably': 1, 'artifice': 1, 'rebuild': 4, 'savlich': 6, 'fourths': 1, 'stagecoach': 1, 'overseers': 1, 'villageshad': 1, 'deplored': 1, 'deadness': 1, 'vitalitythe': 1, 'nothingand': 1, 'larvae': 1, 'jostle': 1, 'delving': 1, 'insects': 1, 'indestructible': 2, 'housesit': 1, 'householders': 1, 'plunderers': 3, 'plundering': 3, 'organizations': 1, 'craftsmanship': 1, 'bazaars': 1, 'warehouses': 1, 'granariesfor': 1, 'stocked': 1, 'goodsand': 1, 'palaces': 1, 'luxuries': 1, 'cathedrals': 1, 'reoccupation': 1, 'interesthouse': 1, 'peasantsstreamed': 1, 'discomfiture': 1, 'gangs': 1, 'carpenters': 3, 'repaired': 1, 'booths': 1, 'donors': 2, 'clerks': 1, 'pigeonholes': 1, 'faceted': 2, 'estimates': 1, 'annex': 1, 'bubbling': 1, 'reviving': 1, 'himwhether': 1, 'triflingsuch': 1, 'parcel': 1, 'drubetskys': 1, 'burnedin': 1, 'damage': 3, 'imaginei': 1, 'rusty': 1, 'thinkingespecially': 1, 'clearlyclearer': 1, 'donedid': 1, 'unrecognizable': 2, 'standpoint': 3, 'maryreluctantly': 1, 'casesbegan': 1, 'goodso': 1, 'hadif': 1, 'anywere': 1, 'controlling': 1, 'anyoneall': 1, 'abstraction': 6, 'resolving': 1, 'abrmovna': 1, 'stepnych': 1, 'egotistic': 1, 'ascribed': 1, 'eligible': 1, 'wanderedevidently': 1, 'sightchildren': 1, 'menall': 1, 'iswere': 1, 'illiterate': 1, 'manthat': 1, 'enrich': 1, 'retell': 1, 'contribute': 1, 'workshopbut': 1, 'absorb': 1, 'untold': 1, 'relive': 1, 'livenor': 1, 'freshas': 1, 'savlichs': 1, 'countthe': 1, 'metwhom': 1, 'bribes': 2, 'picturesqueness': 1, 'tumble': 1, 'colosseum': 1, 'cabmen': 1, 'passengers': 1, 'roguish': 1, 'tomorrowbut': 1, 'lengthy': 1, 'interpretations': 1, 'meditations': 1, 'thisand': 1, 'deluding': 1, 'worldseemed': 1, 'onlyhis': 1, 'everybodyboth': 1, 'afterlife': 1, 'insight': 2, 'bathin': 1, 'reawakened': 1, 'nocturnal': 1, 'forgave': 1, 'yetsomeday': 1, 'shores': 1, 'kingdoms': 1, 'displacement': 1, 'rotate': 1, 'treaties': 1, 'photius': 2, 'fichte': 2, 'chateaubriand': 5, 'acquitted': 1, 'culprit': 1, 'literature': 1, 'essayist': 1, 'favoring': 1, 'mysticism': 3, 'disbanding': 1, 'enumerate': 1, 'sourcesthe': 1, 'restoration': 3, '1820': 4, 'pinnacle': 1, 'blinding': 1, 'inseparable': 1, 'characterthough': 1, 'accuse': 1, 'professor': 2, 'lapse': 2, 'praiseworthy': 1, 'displeases': 1, 'universities': 2, 'harmonize': 1, 'contradictions': 7, 'accusers': 1, 'himof': 1, 'formulated': 1, 'governmentan': 1, 'ruled': 6, 'endsthe': 1, 'diffusion': 2, 'elsethen': 1, 'printing': 1, 'utilized': 2, 'scope': 3, 'agencies': 1, 'rams': 2, 'ram': 5, 'herdsman': 2, 'oatsthat': 1, 'sheepish': 1, 'fattened': 2, 'factsthat': 1, 'discarding': 1, 'antecedents': 1, 'customs': 2, 'inadequately': 1, 'emergesby': 1, 'chancesfrom': 1, 'colleagues': 1, 'falsehoods': 1, 'rulers': 17, 'verge': 2, 'armiesjust': 1, 'prestigedo': 1, 'impregnable': 1, 'surrenders': 1, 'fleet': 3, 'elude': 1, 'outrages': 1, 'gloryit': 1, 'grandeurwhich': 1, 'ascribing': 1, 'supernatural': 2, 'significancethat': 1, 'murdering': 1, 'imputed': 1, 'rash': 1, 'ignoble': 1, 'rle': 2, 'alonewith': 1, 'developed': 3, 'lyinghe': 1, 'legislature': 1, 'pretends': 1, 'contrives': 2, 'himthereby': 1, 'directs': 3, 'europeexcept': 1, 'happendespite': 1, 'central': 2, 'insensate': 1, 'utilizes': 1, 'prepares': 1, 'fte': 1, 'stepsons': 1, 'pushes': 1, 'eastward': 4, 'goalmoscow': 1, 'occurfrom': 1, 'frostsand': 1, 'countermovement': 4, 'westsimilar': 1, '1809precede': 1, 'coalescence': 1, 'adhesion': 1, 'detest': 1, 'lateran': 1, 'outlawed': 2, 'perceives': 1, 'sail': 1, 'dominion': 1, 'channels': 1, 'abate': 2, 'eddies': 1, 'floods': 1, 'disagreements': 2, 'anticipate': 2, 'beforeparis': 1, 'backwash': 2, 'bidden': 1, 'disrobe': 1, 'drama': 1, 'overshadowing': 1, 'operated': 1, 'grievance': 1, 'liberalism': 1, '1815': 1, 'pacifier': 1, 'fatherlandnow': 1, 'peoplesat': 1, 'mendacious': 1, 'poweralexander': 1, 'despises': 1, 'ether': 1, 'stung': 1, 'poet': 1, 'admires': 1, 'sucking': 1, 'chalice': 1, 'pollen': 3, 'perpetuate': 1, 'pistil': 1, 'fertilizes': 1, 'helps': 1, 'processes': 1, 'accessible': 4, 'enterprising': 1, 'infectious': 1, 'propertythat': 1, 'rented': 1, 'remorselessly': 1, 'contracting': 1, 'unpaid': 1, 'remainder': 4, 'abhorrence': 1, 'whims': 1, 'irredeemably': 1, 'incurred': 2, 'outhis': 1, 'deathnever': 1, 'uncomplaining': 1, 'civilities': 1, 'nowbut': 1, 'fills': 1, 'misplaced': 1, 'exterior': 1, 'eyesand': 1, 'otrdnoethat': 1, 'farmer': 1, 'theoretical': 1, 'treatises': 1, 'nitrogen': 2, 'oxygen': 2, 'manures': 1, 'plows': 1, 'agent': 2, 'effectivethe': 1, 'unerringly': 1, 'bailiff': 1, 'analyzing': 2, 'properties': 1, 'debit': 1, 'divide': 1, 'lazy': 1, 'sown': 2, 'harvested': 1, 'laxity': 1, 'vexations': 1, 'thrifty': 1, 'ermshin': 1, 'thirsty': 1, 'gentian': 1, 'fathomed': 1, 'talkall': 1, 'fairness': 1, 'fruitfulprobably': 1, 'devoutly': 1, 'trifled': 1, 'eitherin': 1, 'dishonesty': 1, 'irregularities': 1, 'sentimentality': 1, 'cameo': 2, 'laocons': 1, 'todayit': 1, 'clench': 1, 'twelvemonth': 1, 'seriousnessleaving': 1, 'readinga': 1, 'treasures': 1, 'commending': 1, 'dealthere': 1, 'lacks': 1, 'sterile': 2, 'knowlike': 1, 'strawberry': 1, 'blossoms': 1, 'rebuilt': 1, 'straitened': 1, 'sofas': 1, 'spacious': 1, 'birthdays': 1, 'breakfasts': 1, 'tunic': 2, 'elections': 1, 'bailiffs': 1, 'granaries': 1, 'farmespecially': 1, 'antagonism': 1, 'pregnancies': 2, 'mesdames': 1, 'herdensovs': 1, 'crossness': 1, 'asleephe': 1, 'waked': 2, 'bashfully': 1, 'endears': 1, 'malvnas': 1, 'broader': 1, 'solitudeshe': 1, 'notbut': 1, 'confinements': 1, 'husbandas': 1, 'earnestand': 1, 'advocated': 1, 'marries': 1, 'accomplishments': 1, 'fascinate': 2, 'witchery': 1, 'powerfully': 1, 'seductive': 1, 'attitudes': 1, 'inconveniencing': 1, 'allurements': 1, 'entirelythat': 1, 'elseindefinite': 1, 'fluff': 1, 'adorn': 2, 'agreeableshe': 1, 'knowbut': 1, 'proportions': 1, 'themes': 1, 'beginnings': 1, 'digest': 2, 'resolves': 1, 'familythat': 1, 'relativescountess': 1, 'striding': 1, 'jealousyshe': 1, 'plainwere': 1, 'subjection': 6, 'businessin': 1, 'regulate': 1, 'occupiedthat': 1, 'upbringing': 1, 'essentials': 1, 'injuriousshe': 1, 'divested': 1, 'inextricably': 1, 'overlapping': 1, 'founders': 1, 'expired': 1, 'rubbishthose': 1, 'snuffling': 1, 'afraidbut': 1, 'resorted': 1, 'fussed': 1, 'overfed': 1, 'nurseknowing': 1, 'mistressentered': 1, 'tortures': 1, 'torrent': 1, 'vindicating': 1, 'servantsthe': 1, 'lifewere': 1, 'instilled': 1, 'reconsider': 1, 'rememberall': 1, 'outlooks': 2, 'forgetful': 1, 'motherand': 1, 'untidiness': 1, 'stinginess': 1, 'entailing': 1, 'affairswhich': 1, 'debtshad': 1, 'circumscribed': 1, 'unrolling': 1, 'arshin': 1, 'admiringly': 1, 'adle': 1, 'tempted': 1, 'coil': 1, 'aimsonly': 1, 'functions': 2, 'morningespecially': 1, 'beforeshe': 1, 'handiest': 1, 'belvas': 1, 'deafness': 1, 'thinkingand': 1, 'spitefully': 1, 'vocal': 1, 'memento': 1, 'mori': 1, 'sothough': 1, 'workmanship': 1, 'shepherdesses': 1, 'backfor': 1, 'countessnot': 1, 'inopportune': 1, 'rememberyet': 1, 'alexevna': 2, 'presided': 1, 'garnering': 1, 'malcontent': 1, 'idiocygossner': 1, 'tatwinova': 2, 'antnovnas': 1, 'sailed': 1, 'makrovna': 3, 'andrshas': 1, 'therethose': 1, 'armswell': 1, 'tante': 1, 'snyawho': 1, 'samovarand': 1, 'contemporary': 4, 'germannow': 1, 'kwdener': 1, 'wead': 1, 'eckatshausen': 1, 'bwethwen': 1, 'loosehed': 1, 'schwatz': 1, 'counteract': 1, 'tolerate': 1, 'ni': 1, 'loi': 1, 'himpeople': 1, 'strangle': 1, 'everythingmagntski': 1, 'tutti': 1, 'quanti': 1, 'harsher': 1, 'drilling': 1, 'settlements': 1, 'overstrained': 1, 'enticed': 1, 'widen': 1, 'discontentedly': 1, 'conservativesa': 1, 'pugachv': 2, 'tugendbund': 5, 'collarwhom': 1, 'forgottengazed': 1, 'pens': 3, 'pwonounce': 1, 'agwee': 1, 'evewything': 1, 'wotten': 1, 'howwible': 1, 'bunt': 1, 'vote': 1, 'resourceful': 1, 'prop': 1, 'allegiance': 2, 'governmentbe': 1, 'mayi': 1, 'hesitate': 1, 'inapt': 1, 'suppressing': 1, 'bestrecollections': 1, 'naughty': 3, 'ticket': 2, 'mtya': 2, 'unhappily': 1, 'develops': 1, 'pedantically': 1, 'untiring': 1, 'disputingpierre': 1, 'iand': 1, 'medensov': 1, 'repeats': 1, 'tempts': 1, 'therewhat': 1, 'corrupted': 1, 'christianityand': 1, 'fondest': 1, 'trance': 1, 'fancyas': 1, 'therewhether': 1, 'elias': 1, 'mitrofnych': 1, 'tambv': 1, 'repurchasing': 1, 'impossiblein': 1, 'surest': 2, 'argumentatively': 1, 'consecutive': 3, 'knack': 1, 'mtyas': 1, 'agreeing': 1, 'amusementalmost': 1, 'boughtsismondi': 1, 'rousseau': 3, 'lisa': 1, 'bannerthat': 1, 'seemliness': 1, 'nowyou': 1, 'honeymoons': 1, 'jealo': 1, 'vindictively': 1, 'peaslike': 1, 'milks': 1, 'awaked': 1, 'helmets': 1, 'cobwebs': 1, 'fils': 1, 'virge': 1, 'slacken': 1, 'fatherprince': 1, 'andrewand': 1, 'formless': 1, 'mucius': 1, 'scaevola': 1, 'plutarchs': 1, 'elusivethe': 1, 'deity': 10, 'capacities': 1, 'journalists': 3, 'divinely': 1, 'postulated': 1, 'aimsthe': 1, 'northwesterly': 1, 'portion': 1, 'continent': 1, 'beliefs': 1, 'tending': 1, 'gibbon': 1, 'assumptions': 2, 'includes': 2, 'reformers': 3, 'philosophers': 1, 'poets': 1, '1789': 3, 'ferment': 2, 'spreads': 2, 'collides': 1, 'counter': 1, 'westparisand': 1, 'subsides': 1, 'untilled': 1, 'migrated': 1, 'enriched': 1, 'professing': 1, 'mistresses': 3, 'favorites': 1, 'geniusnapoleon': 1, 'everywherethat': 1, 'africans': 1, 'disturber': 1, 'abdicate': 1, 'elba': 1, 'outlaw': 1, 'lingering': 1, 'rock': 1, 'bequeathed': 1, 'ironica': 1, 'caricature': 1, 'compilers': 1, 'questionin': 1, 'incomprehensibleis': 1, 'es': 3, 'biographical': 2, 'inherent': 3, 'narration': 2, 'nationalities': 1, 'lanfrey': 1, 'trickery': 1, 'specialist': 5, 'resultant': 10, 'subjugation': 1, 'interaction': 2, 'gervinus': 2, 'schlosser': 1, 'analysis': 3, 'component': 2, 'composite': 1, 'components': 4, 'willsuch': 1, 'decomposes': 1, 'restbut': 1, 'interactions': 1, 'resultedthat': 1, 'athe': 1, 'deniedand': 1, 'historiansthe': 1, 'culturefollowing': 1, 'eventsagain': 1, 'culturein': 1, 'progenitors': 1, 'controls': 2, 'filledadmitting': 1, 'ideahistorys': 1, 'unanswered': 1, 'newer': 1, 'forcethe': 1, 'ideais': 1, 'causal': 1, 'nexus': 1, 'contemporaneously': 1, 'handicraft': 1, 'gardening': 1, 'traders': 2, 'agriculturists': 1, 'intrinsic': 1, 'tend': 1, 'approximate': 2, 'doctrines': 1, 'powerand': 1, 'asserts': 1, 'irrefutable': 4, 'refute': 1, 'refutes': 1, 'commensurate': 2, 'incommensurate': 1, 'luthers': 1, 'voltaires': 1, 'compelling': 1, 'professedly': 1, 'humanitys': 4, 'circulationpaper': 1, 'biographies': 2, 'circulate': 1, 'tinge': 1, 'inquires': 1, 'specific': 2, 'tokens': 1, 'serviceable': 1, 'evade': 1, 'counters': 1, 'currency': 1, 'readers': 1, 'onea': 1, 'domination': 1, 'predominance': 1, 'differ': 1, 'elsewherein': 1, 'wields': 1, 'firenamely': 1, 'powerexisting': 1, 'timeis': 1, 'mutations': 1, 'revolutionsin': 1, 'parttransfer': 1, 'international': 3, 'confederation': 1, 'unconditionally': 2, 'emergence': 1, 'infringement': 2, 'conditionally': 4, 'destructions': 1, 'delegated': 4, 'historiansthose': 1, 'toin': 1, 'violation': 2, 'powermere': 1, 'inconveniencein': 1, 'anotherthat': 1, 'legitimist': 1, 'directory': 2, 'infringers': 1, 'violations': 1, 'delegation': 1, 'programor': 1, 'existsthe': 1, 'tranquilly': 1, 'xivs': 1, 'reacted': 1, 'react': 2, 'xvwhy': 1, 'reactions': 1, 'philippe': 1, 'delegations': 1, 'historycivil': 1, 'conquestsare': 1, 'transferences': 1, 'usurpations': 1, 'cotyledons': 1, 'represents': 1, 'impalpable': 1, 'conceivable': 3, 'generalizations': 1, 'postulating': 1, 'generalization': 2, 'enlighteners': 1, 'diderot': 1, 'beaumarchais': 1, 'krbski': 1, 'crusades': 3, 'godfreys': 4, 'vagrants': 1, 'hermit': 1, 'cessation': 1, 'crusadethe': 1, 'jerusalemhad': 1, 'minnesingers': 3, 'reformer': 1, 'luther': 1, 'guillotined': 1, 'newest': 1, 'transference': 5, 'hypothesis': 1, 'unconfirmed': 1, 'occurthat': 1, 'beginsthat': 1, 'verified': 1, 'pasturage': 1, 'vested': 1, 'saythose': 1, 'unconditional': 1, 'observer': 1, 'prefers': 1, 'paraphrasea': 1, 'restatement': 1, 'verifies': 1, 'mexico': 1, 'bismarck': 2, 'willhis': 1, 'wordsare': 1, 'forcea': 1, 'miracleone': 1, 'relationship': 1, 'reinstating': 1, 'refers': 1, 'onmillions': 1, 'participated': 1, 'obstacles': 3, 'unexecuted': 4, 'generalized': 2, 'invade': 1, 'invaded': 1, 'indefinitely': 1, 'outnot': 1, 'stencil': 2, 'reinstate': 1, 'servicethe': 1, 'fileof': 1, 'rankcorporals': 1, 'organization': 2, 'cone': 4, 'diameter': 1, 'apex': 1, 'stabbing': 1, 'objective': 1, 'activityin': 1, 'contiguous': 1, 'sections': 2, 'participate': 2, 'haul': 2, 'primary': 1, 'concourse': 2, 'centralization': 1, 'crimesmake': 1, 'parliaments': 1, 'cuts': 1, 'occursthe': 1, 'anticipating': 1, 'foams': 1, 'occursbe': 1, 'maythen': 1, 'wielder': 1, 'inapplicable': 1, 'infinitythat': 1, 'electricity': 6, 'applies': 1, 'suffice': 1, 'obscurities': 1, 'viewtheological': 1, 'ethical': 1, 'philosophicwe': 1, 'cognition': 2, 'willwhich': 1, 'lifeman': 1, 'limitation': 4, 'submits': 2, 'resists': 1, 'impermeability': 1, 'incontestably': 1, 'repletion': 1, 'uncontrolled': 1, 'thinkers': 2, 'theology': 5, 'statistics': 2, 'ethics': 2, 'regardedas': 1, 'popularization': 1, 'knowledgethanks': 1, 'matterhas': 1, 'peoplethat': 1, 'ignoramuseshave': 1, 'naturalists': 2, 'conditioned': 2, 'apes': 2, 'suspecting': 1, 'physiology': 2, 'comparative': 3, 'zoology': 3, 'religions': 1, 'illumination': 1, 'secretions': 1, 'theoriesthat': 1, 'frog': 1, 'rabbit': 1, 'plasterers': 2, 'access': 11, 'woodwork': 1, 'unbuttressed': 1, 'experimental': 2, 'presentation': 3, 'surveys': 1, 'ranging': 1, 'deduce': 1, 'cognizant': 1, 'incursions': 1, 'barbarians': 1, 'varies': 1, 'drowns': 1, 'steals': 1, 'defenseless': 1, 'manseem': 1, 'peaceably': 1, 'harmlessly': 1, 'correspondingly': 1, 'coexisting': 1, 'populated': 1, 'whateverwith': 1, 'breathes': 1, 'himwe': 1, 'diminishes': 2, 'production': 2, 'itgood': 1, 'essentialwould': 1, 'participants': 1, 'austro': 1, 'questionably': 1, 'chroniclers': 1, 'renovation': 1, 'attilas': 1, 'apprehend': 1, 'causation': 2, 'physiological': 2, 'psychological': 2, 'nonmoral': 1, 'individuality': 1, 'insistent': 1, 'malefactors': 1, 'mitigates': 1, 'gratuitous': 1, 'deserving': 1, 'founder': 1, 'inventor': 1, 'impresses': 1, 'correlation': 1, 'connect': 1, 'dishonest': 2, 'misconduct': 1, 'drunkards': 1, 'relapse': 1, 'simpletonthen': 1, 'prompting': 1, 'foretell': 1, 'irresponsibility': 1, 'extenuating': 1, 'remoteness': 1, 'casehowever': 1, 'becan': 1, 'exempt': 4, 'surrounds': 2, 'obstruction': 1, 'fewest': 1, 'irrevocably': 1, 'abstained': 2, 'futurethat': 1, 'ifimagining': 1, 'unevoked': 1, 'causewe': 1, 'equaled': 1, 'zero': 2, 'uninfluenced': 1, 'influencing': 2, 'finite': 1, 'caseas': 1, 'unborn': 1, 'babe': 1, 'idiotcomplete': 1, 'unconditioned': 2, 'fundamentals': 1, 'constructedthe': 1, 'visibility': 1, 'concepts': 1, 'gravitation': 5, 'newtons': 1, 'economic': 3, 'differs': 3, 'undefinable': 3, 'astronomy': 8, 'botany': 1, 'defines': 1, 'kepler': 1, 'newton': 3, 'negatived': 1, 'enunciation': 1, 'restricted': 1, 'reducing': 1, 'infinitesimal': 2, 'inaccessibility': 1, 'dissecting': 2, 'phenomenathe': 1, 'abandons': 1, 'integration': 1, 'quantities': 1, 'enunciated': 1, 'episodes': 1, 'inseparably': 1, 'interconnected': 1, 'copernicus': 4, 'cosmography': 1, 'disproving': 2, 'ptolemaic': 2, 'births': 1, 'migrations': 3, 'geographic': 1, 'ethnographic': 1, 'philology': 1, 'geology': 1, 'violating': 1, 'subverting': 1, 'provokes': 1, 'firmament': 1, 'joshua': 1, 'nun': 1, 'defenders': 2, 'uninvited': 1, 'strengthens': 1, 'immovability': 1, 'personalityfree': 1, 'earths': 1, 'unreal': 1, '*****': 2, '2600': 2, '0': 2, 'txt': 1, 'zip': 1, 'files': 2, 'formats': 2, 'http//www': 3, 'org/2/6/0/2600/': 1, 'editions': 4, 'renamed': 1, 'creating': 4, 'owns': 2, 'copyright': 13, 'royalties': 2, 'tm': 56, 'electronic': 27, 'trademark': 10, 'registered': 2, 'ebooks': 7, 'derivative': 3, 'modified': 1, 'redistribution': 2, 'http//gutenberg': 1, 'org/license': 1, 'redistributing': 2, 'trademark/copyright': 1, 'abide': 1, 'fee': 8, 'refund': 10, 'entity': 3, 'literary': 13, 'archive': 13, 'pglaf': 2, 'compilation': 1, 'references': 2, 'compliance': 5, 'format': 4, 'downloading': 1, 'representations': 1, 'prominently': 2, 'accessed': 1, 'holder': 4, 'fees': 4, 'unlink': 1, 'redistribute': 1, 'binary': 1, 'nonproprietary': 1, 'proprietary': 1, 'processing': 1, 'hypertext': 1, 'vanilla': 2, 'ascii': 2, 'version': 1, 'web': 6, 'site': 4, 'user': 3, 'exporting': 1, 'specified': 2, 'viewing': 1, '20%': 1, 'profits': 1, 'calculate': 1, 'taxes': 1, 'donate': 3, 'legally': 1, 'periodic': 1, 'tax': 6, 'donations': 15, 'notifies': 1, 'mail': 1, 's/he': 1, 'discontinue': 1, 'replacement': 5, 'hart': 2, 'volunteers': 6, 'employees': 2, 'expend': 1, 'identify': 1, 'transcribe': 1, 'proofread': 1, 'inaccurate': 1, 'corrupt': 1, 'data': 1, 'transcription': 1, 'disk': 1, 'computer': 2, 'virus': 1, 'warranty': 2, 'disclaimer': 3, 'damages': 4, 'disclaim': 1, 'liability': 3, 'costs': 2, 'contract': 1, 'f3': 1, 'distributor': 1, 'indirect': 1, 'consequential': 1, 'punitive': 1, 'incidental': 1, 'elect': 1, 'lieu': 2, 'electronically': 2, 'warranties': 3, 'merchantibility': 1, 'disclaimers': 1, 'violates': 1, 'unenforceability': 1, 'void': 1, 'indemnity': 1, 'indemnify': 1, 'employee': 1, 'harmless': 1, 'indirectly': 1, 'alteration': 1, 'modification': 1, 'deletions': 1, 'synonymous': 1, 'readable': 2, 'widest': 2, 'computers': 2, 'obsolete': 1, 'tms': 1, 'goals': 1, '2001': 1, '501': 2, 'corporation': 1, 'mississippi': 1, 'federal': 2, '64': 1, '6221541': 1, 'http//pglaf': 4, 'org/fundraising': 1, 'deductible': 1, '4557': 1, 'melan': 1, 'fairbanks': 1, 'ak': 1, '99712': 1, 'locations': 2, '809': 1, '1500': 1, 'lake': 1, 'ut': 1, '84116': 1, '801': 1, '596': 1, '1887': 1, 'email': 3, 'business@pglaf': 1, 'gregory': 1, 'newby': 1, 'executive': 1, 'gbnewby@pglaf': 1, 'licensed': 1, 'outdated': 1, '$1': 1, '$5': 1, 'irs': 1, 'regulating': 1, 'charities': 1, 'paperwork': 1, 'solicitation': 1, 'prohibition': 1, 'donation': 1, 'addresses': 1, 'checks': 1, 'org/donate': 1, 'edition': 1, 'pg': 1, 'newsletter': 1}\n"
     ]
    }
   ],
   "source": []
  },
  {
   "cell_type": "code",
   "execution_count": null,
   "metadata": {},
   "outputs": [],
   "source": []
  },
  {
   "cell_type": "code",
   "execution_count": 36,
   "metadata": {},
   "outputs": [
    {
     "name": "stdout",
     "output_type": "stream",
     "text": [
      "The ten most common words in the text are:\n",
      "1: -e- the freq -311315-\n",
      "2: -t- the freq -219596-\n",
      "3: -a- the freq -196158-\n",
      "4: -o- the freq -188448-\n",
      "5: -n- the freq -180571-\n",
      "6: -i- the freq -164326-\n",
      "7: -h- the freq -163037-\n",
      "8: -s- the freq -159912-\n",
      "9: -r- the freq -145374-\n",
      "10: -d- the freq -116280-\n"
     ]
    }
   ],
   "source": [
    "with open('resources\\war-and-peace.txt', 'r') as file_war_and_peace:\n",
    "    temp = file_war_and_peace.readlines()\n",
    "    file_war_and_peace.seek(0)\n",
    "    temp_new = file_war_and_peace.read()\n",
    "lines = []\n",
    "temp_temp = ''\n",
    "for line in temp:\n",
    "    line = line.strip().lower()\n",
    "    if line not in temp_temp:\n",
    "        lines += [line]\n",
    "length = len(lines)\n",
    "i = 0\n",
    "while length:\n",
    "    lines[i] = lines[i].replace(',',' ').replace('.', ' ').replacee('?', ' ').replace('!', ' ')\n",
    "    lines[i] = lines[i].replace('.','')\n",
    "    lines[i] = lines[i].replace('?','')\n",
    "    lines[i] = lines[i].replace('!','')\n",
    "    lines[i] = lines[i].replace(')','')\n",
    "    lines[i] = lines[i].replace('(','')\n",
    "    lines[i] = lines[i].split()\n",
    "    i += 1\n",
    "    length -= 1\n",
    "dictionariy = {}\n",
    "length = len(lines)\n",
    "i = 0\n",
    "j = 0\n",
    "one = 1\n",
    "while length:\n",
    "    new_line = len(lines[i])\n",
    "    j = 0\n",
    "    while new_line:\n",
    "        if lines[i][j] not in dictionariy:\n",
    "            counter_of_year = temp_new.count(str(lines[i][j]))\n",
    "            dictionariy.update({lines[i][j]:counter_of_year})\n",
    "        new_line -= 1\n",
    "        j += 1\n",
    "    i += 1\n",
    "    length -= 1\n",
    "temp = sorted(dictionariy.values())\n",
    "i = -1\n",
    "most_common = 1\n",
    "print('The ten most common words in the text are:')\n",
    "while i >= -10 :\n",
    "    new = temp[i]\n",
    "    for key in dictionariy:\n",
    "        if dictionariy.get(key) == new:\n",
    "            print(f'{most_common}: -{key}- the freq -{new}-')\n",
    "    most_common += 1\n",
    "    i -= 1\n"
   ]
  },
  {
   "cell_type": "code",
   "execution_count": 37,
   "metadata": {},
   "outputs": [
    {
     "name": "stdout",
     "output_type": "stream",
     "text": [
      "{'the': 43472, 'project': 33, 'gutenberg': 6, 'ebook': 8, 'of': 16833, 'war': 1264, 'and': 24838, 'peace': 131, 'by': 2512, 'leo': 590, 'tolstoy': 0, 'this': 1822, 'is': 21078, 'for': 6462, 'use': 2023, 'anyone': 192, 'anywhere': 25, 'at': 27668, 'no': 11818, 'cost': 47, 'with': 6344, 'almost': 150, 'restrictions': 3, 'whatsoever': 2, 'you': 4675, 'may': 287, 'copy': 36, 'it': 20175, 'give': 538, 'away': 620, 'or': 19637, 're-use': 2, 'under': 1099, 'terms': 36, 'license': 5, 'included': 11, 'online': 4, 'wwwgutenbergorg': 0, 'title': 11, 'author': 67, 'translators': 0, 'louise': 0, 'aylmer': 0, 'maude': 0, 'posting': 1, 'date': 24, 'january': 0, '10': 16, '2009': 1, '[ebook': 0, '#2600]': 1, 'last': 381, 'updated': 0, '21': 3, '2019': 1, 'language': 10, 'english': 0, 'character': 91, 'set': 350, 'encoding': 1, 'utf-8': 0, '***': 8, 'start': 124, 'an': 42484, 'anonymous': 2, 'volunteer': 8, 'david': 0, 'widger': 0, 'tolstoy/tolstoi': 0, 'contents': 5, 'book': 103, 'one': 4407, '1805': 27, 'chapter': 2, 'i': 164326, 'ii': 0, 'iii': 0, 'iv': 3268, 'v': 25971, 'vi': 4380, 'vii': 0, 'viii': 0, 'ix': 256, 'x': 3711, 'xi': 281, 'xii': 0, 'xiii': 0, 'xiv': 0, 'xv': 0, 'xvi': 0, 'xvii': 0, 'xviii': 0, 'xix': 0, 'xx': 0, 'xxi': 0, 'xxii': 0, 'xxiii': 0, 'xxiv': 0, 'xxv': 0, 'xxvi': 0, 'xxvii': 0, 'xxviii': 0, 'two': 546, 'three': 264, 'four': 158, '1806': 12, 'five': 88, '-': 1831, '07': 15, 'six': 114, '1808': 5, 'seven': 87, '1810': 4, '11': 16, 'eight': 146, '1811': 8, '12': 63, 'nine': 52, '1812': 59, 'ten': 2096, 'xxix': 0, 'xxx': 0, 'xxxi': 0, 'xxxii': 0, 'xxxiii': 0, 'xxxiv': 0, 'xxxv': 0, 'xxxvi': 0, 'xxxvii': 0, 'xxxviii': 0, 'xxxix': 0, 'eleven': 10, 'twelve': 11, 'thirteen': 15, 'fourteen': 15, 'fifteen': 37, '13': 20, 'first': 610, 'epilogue': 0, '1813': 13, '20': 12, 'second': 151, 'well': 441, 'prince': 702, 'so': 8155, 'genoa': 0, 'lucca': 0, 'are': 2621, 'now': 2562, 'just': 577, 'family': 144, 'estates': 39, 'buonapartes': 0, 'but': 3070, 'warn': 13, 'if': 3440, 'dont': 416, 'tell': 493, 'me': 15025, 'that': 7820, 'means': 73, 'still': 658, 'try': 518, 'to': 23340, 'defend': 40, 'infamies': 1, 'horrors': 8, 'perpetrated': 3, 'antichristi': 0, 'really': 178, 'believe': 165, 'he': 72792, 'will': 1077, 'have': 2005, 'nothing': 434, 'more': 1057, 'do': 4580, 'longer': 176, 'my': 2314, 'friend': 326, 'faithful': 16, 'slave': 14, 'as': 19552, 'call': 580, 'yourself': 117, 'how': 1177, 'see': 2062, 'frightened': 117, 'yousit': 1, 'down': 785, 'all': 5594, 'news': 174, 'was': 7404, 'in': 47709, 'july': 0, 'speaker': 18, 'well-known': 19, 'anna': 3, 'pvlovna': 0, 'schrer': 0, 'maid': 110, 'honor': 211, 'favorite': 38, 'empress': 0, 'mrya': 0, 'fdorovna': 0, 'these': 538, 'words': 405, 'she': 3892, 'greeted': 16, 'vasli': 0, 'kurgin': 0, 'a': 196158, 'man': 3335, 'high': 281, 'rank': 175, 'importance': 50, 'who': 3132, 'arrive': 118, 'her': 11893, 'reception': 56, 'had': 5398, 'cough': 24, 'some': 1814, 'days': 263, 'said': 2842, 'suffering': 96, 'from': 2545, 'la': 7474, 'grippe': 4, 'being': 466, 'then': 786, 'new': 949, 'word': 676, 'st': 17635, 'petersburg': 0, 'used': 449, 'only': 1166, 'elite': 1, 'invitations': 4, 'without': 642, 'exception': 31, 'written': 70, 'french': 0, 'delivered': 11, 'scarlet-liveried': 1, 'footman': 47, 'morning': 216, 'ran': 1508, 'follows': 19, 'better': 160, 'count': 1113, 'prospect': 7, 'spending': 11, 'evening': 221, 'poor': 79, 'invalid': 15, 'not': 6291, 'too': 1374, 'terrible': 150, 'shall': 242, 'be': 10704, 'very': 1942, 'charmed': 2, 'tonight': 13, 'between': 233, '7': 40, '10annette': 0, 'heavens': 15, 'what': 1772, 'virulent': 4, 'attack': 169, 'replied': 301, 'least': 85, 'disconcerted': 12, 'entered': 230, 'wearing': 69, 'embroidered': 9, 'court': 152, 'uniform': 132, 'knee': 73, 'breeches': 19, 'shoes': 24, 'stars': 18, 'on': 26084, 'his': 10414, 'breast': 48, 'serene': 7, 'expression': 316, 'flat': 44, 'face': 1105, 'spoke': 224, 'refined': 11, 'which': 2054, 'our': 2683, 'grandfathers': 1, 'thought': 905, 'gentle': 167, 'patronizing': 4, 'intonation': 10, 'natural': 114, 'grown': 87, 'old': 2430, 'society': 128, 'went': 1002, 'up': 2772, 'kissed': 119, 'hand': 1067, 'presenting': 16, 'bald': 19, 'scented': 5, 'shining': 25, 'head': 788, 'complacently': 4, 'seated': 29, 'himself': 1017, 'sofa': 74, 'dear': 371, 'your': 906, 'friends': 125, 'mind': 309, 'rest': 625, 'altering': 4, 'tone': 237, 'beneath': 19, 'politeness': 17, 'affected': 20, 'sympathy': 36, 'indifference': 19, 'even': 1084, 'irony': 21, 'could': 1120, 'discerned': 2, 'can': 1165, 'while': 383, 'morally': 6, 'calm': 118, 'times': 287, 'like': 930, 'has': 986, 'any': 1399, 'feeling': 387, 'staying': 29, 'whole': 531, 'hope': 157, 'fete': 12, 'ambassadors': 8, 'today': 79, 'wednesday': 0, 'must': 551, 'put': 398, 'appearance': 44, 'there': 1390, 'daughter': 171, 'coming': 197, 'take': 713, 'todays': 2, 'been': 1474, 'canceled': 1, 'confess': 30, 'festivities': 2, 'fireworks': 4, 'becoming': 35, 'wearisome': 3, 'they': 1787, 'known': 214, 'wished': 189, 'entertainment': 5, 'would': 1369, 'off': 1368, 'wound-up': 1, 'clock': 78, 'force': 264, 'habit': 121, 'things': 234, 'did': 1589, 'wish': 479, 'believed': 42, 'tease': 2, 'decided': 117, 'about': 1004, 'novosltsevs': 0, 'dispatch': 33, 'know': 1289, 'everything': 364, 'say': 992, 'cold': 172, 'listless': 9, 'buonaparte': 0, 'burnt': 6, 'boats': 5, 'we': 7043, 'ready': 489, 'burn': 147, 'ours': 411, 'always': 456, 'languidly': 4, 'actor': 73, 'repeating': 44, 'stale': 1, 'part': 864, 'contrary': 121, 'despite': 63, 'forty': 41, 'years': 124, 'overflowed': 5, 'animation': 29, 'impulsiveness': 1, 'enthusiast': 13, 'become': 136, 'social': 23, 'vocation': 8, 'sometimes': 104, 'when': 1107, 'feel': 544, 'became': 170, 'enthusiastic': 12, 'order': 695, 'disappoint': 12, 'expectations': 9, 'those': 624, 'knew': 413, 'subdued': 5, 'smile': 582, 'though': 1280, 'suit': 150, 'faded': 4, 'features': 22, 'played': 53, 'round': 821, 'lips': 118, 'expressed': 120, 'spoiled': 14, 'child': 305, 'continual': 89, 'consciousness': 69, 'charming': 49, 'defect': 15, 'neither': 85, 'nor': 573, 'considered': 104, 'necessary': 152, 'correct': 42, 'midst': 36, 'conversation': 187, 'political': 33, 'matters': 74, 'burst': 68, 'out': 3861, 'oh': 57, 'speak': 384, 'austria': 0, 'perhaps': 76, 'understand': 435, 'never': 418, 'does': 236, 'betraying': 9, 'us': 8784, 'russia': 50, 'alone': 242, 'save': 72, 'europe': 0, 'gracious': 30, 'sovereign': 67, 'recognizes': 6, 'true': 125, 'thing': 2304, 'faith': 42, 'good': 491, 'wonderful': 21, 'perform': 62, 'noblest': 1, 'role': 26, 'earth': 75, 'virtuous': 12, 'noble': 43, 'god': 12, 'forsake': 4, 'him': 5654, 'fulfill': 42, 'crush': 32, 'hydra': 1, 'revolution': 8, 'than': 630, 'ever': 2186, 'person': 240, 'murderer': 4, 'villain': 9, 'avenge': 5, 'blood': 86, 'whom': 397, 'ask': 1018, 'rely': 248, 'england': 0, 'commercial': 2, 'spirit': 120, 'cannot': 168, 'emperor': 6, 'alexanders': 0, 'loftiness': 2, 'soul': 169, 'refused': 28, 'evacuate': 2, 'malta': 0, 'wanted': 182, 'find': 212, 'seeks': 5, 'secret': 69, 'motive': 21, 'actions': 83, 'answer': 346, 'novosltsev': 0, 'get': 724, 'none': 42, 'understood': 198, 'self-abnegation': 2, 'wants': 27, 'desires': 16, 'mankind': 20, 'promised': 56, 'little': 543, 'prussia': 0, 'declared': 25, 'invincible': 2, 'powerless': 6, 'before': 787, 'hardenburg': 0, 'says': 120, 'haugwitz': 0, 'either': 218, 'famous': 24, 'prussian': 0, 'neutrality': 2, 'trap': 38, 'lofty': 25, 'destiny': 6, 'adored': 14, 'monarch': 31, 'suddenly': 385, 'paused': 73, 'smiling': 168, 'own': 2091, 'impetuosity': 3, 'think': 498, 'sent': 700, 'instead': 71, 'wintzingerode': 0, 'captured': 45, 'king': 1880, 'prussias': 0, 'consent': 26, 'assault': 1, 'eloquent': 8, 'cup': 207, 'tea': 463, 'moment': 495, 'propos': 88, 'added': 212, 'again': 891, 'am': 4541, 'expecting': 63, 'interesting': 35, 'men': 3550, 'le': 16616, 'vicomte': 37, 'de': 13149, 'mortemart': 0, 'connected': 33, 'montmorencys': 0, 'through': 370, 'rohans': 0, 'best': 135, 'families': 10, 'genuine': 7, 'migrs': 1, 'ones': 225, 'also': 269, 'abb': 50, 'morio': 0, 'profound': 29, 'thinker': 3, 'received': 205, 'heard': 511, 'delighted': 33, 'meet': 203, 'them': 1751, 'studied': 9, 'carelessness': 3, 'occurred': 70, 'question': 358, 'chief': 355, 'visit': 205, 'dowager': 0, 'baron': 4, 'funke': 0, 'appointed': 52, 'secretary': 7, 'vienna': 0, 'accounts': 22, 'creature': 16, 'obtain': 56, 'post': 139, 'son': 1159, 'others': 440, 'were': 2626, 'trying': 161, 'secure': 22, 'closed': 104, 'eyes': 827, 'indicate': 41, 'else': 169, 'right': 781, 'criticize': 8, 'desired': 30, 'pleased': 103, 'recommended': 7, 'sister': 114, 'dry': 41, 'mournful': 12, 'named': 17, 'pvlovnas': 0, 'assumed': 51, 'sincere': 42, 'devotion': 28, 'respect': 137, 'mingled': 25, 'sadness': 14, 'every': 1009, 'time': 1264, 'mentioned': 50, 'illustrious': 2, 'patroness': 2, 'majesty': 3, 'deigned': 4, 'show': 343, 'beaucoup': 2, 'destime': 1, 'clouded': 7, 'over': 1281, 'silent': 231, 'looked': 653, 'indifferent': 26, 'womanly': 3, 'courtierlike': 2, 'quickness': 4, 'tact': 42, 'habitual': 19, 'both': 243, 'rebuke': 4, 'daring': 7, 'done': 358, 'same': 666, 'console': 10, 'since': 212, 'came': 859, 'everyone': 198, 'enraptured': 9, 'amazingly': 1, 'beautiful': 80, 'bowed': 58, 'signify': 4, 'gratitude': 20, 'often': 161, 'continued': 214, 'after': 694, 'short': 130, 'pause': 110, 'drawing': 216, 'nearer': 71, 'amiably': 8, 'topics': 5, 'ended': 238, 'come': 863, 'intimate': 46, 'conversationi': 0, 'unfairly': 1, 'joys': 17, 'life': 623, 'distributed': 13, 'why': 276, 'fate': 66, 'given': 200, 'such': 575, 'splendid': 75, 'children': 118, 'anatole': 0, 'youngest': 11, 'admitting': 15, 'rejoinder': 9, 'raising': 47, 'eyebrows': 32, 'appreciate': 20, 'less': 666, 'deserve': 16, 'smiled': 150, 'ecstatic': 18, 'cant': 274, 'help': 207, 'lavater': 0, 'lack': 210, 'bump': 4, 'paternity': 1, 'joke': 43, 'mean': 369, 'serious': 105, 'talk': 551, 'dissatisfied': 28, 'younger': 32, 'ourselves': 50, 'its': 1095, 'melancholy': 28, 'majestys': 0, 'pitied': 13, 'answered': 154, 'significantly': 14, 'awaiting': 46, 'reply': 172, 'frowned': 43, 'father': 429, 'their': 1422, 'education': 25, 'turned': 539, 'fools': 6, 'hippolyte': 0, 'quiet': 146, 'fool': 64, 'active': 55, 'difference': 40, 'way': 1715, 'animated': 63, 'usual': 179, 'wrinkles': 15, 'mouth': 89, 'clearly': 91, 'revealed': 20, 'something': 586, 'unexpectedly': 53, 'coarse': 20, 'unpleasant': 61, 'born': 30, 'reproach': 88, 'looking': 404, 'pensively': 5, 'bane': 1, 'cross': 318, 'bear': 114, 'explain': 137, 'myself': 148, 'helped': 35, 'resignation': 5, 'cruel': 48, 'gesture': 58, 'meditated': 1, 'marrying': 29, 'prodigal': 1, 'asked': 668, 'maids': 38, 'mania': 4, 'matchmaking': 4, 'weakness': 33, 'yet': 314, 'unhappy': 23, 'relation': 119, 'yours': 147, 'princess': 348, 'mary': 16, 'bolknskaya': 0, 'memory': 40, 'perception': 12, 'befitting': 1, 'world': 184, 'indicated': 29, 'movement': 247, 'considering': 43, 'information': 24, 'evidently': 324, 'unable': 96, 'check': 28, 'sad': 201, 'current': 23, 'thoughts': 115, 'costing': 4, 'thousand': 217, 'rubles': 71, 'year': 229, 'goes': 23, 'presently': 1, 'thats': 140, 'fathers': 99, 'rich': 77, 'stingy': 3, 'lives': 29, 'country': 113, 'bolknski': 0, 'retire': 56, 'army': 657, 'late': 406, 'nicknamed': 4, 'clever': 56, 'eccentric': 3, 'bore': 41, 'girl': 195, 'brother': 188, 'married': 80, 'lise': 2, 'meinen': 0, 'lately': 14, 'aide-de-camp': 45, 'kutzovs': 0, 'here': 2996, 'listen': 309, 'annette': 0, 'taking': 233, 'reason': 214, 'downwards': 12, 'arrange': 113, 'affair': 197, 'most': 502, 'devoted': 22, 'slave-slafe': 1, 'f': 52954, 'village': 175, 'elder': 55, 'mine': 121, 'writes': 16, 'reports': 47, 'want': 463, 'familiarity': 7, 'easy': 64, 'grace': 46, 'peculiar': 51, 'raised': 118, 'honors': 14, 'swung': 7, 'fro': 3029, 'lay': 524, 'back': 562, 'armchair': 34, 'another': 571, 'direction': 95, 'attendez': 0, 'reflecting': 5, 'ill': 3302, 'young': 482, 'bolknskis': 0, 'wife': 301, 'arranged': 54, 'familys': 6, 'behalf': 12, 'apprenticeship': 2, 'room': 964, 'gradually': 22, 'filling': 18, 'highest': 53, 'assembled': 26, 'people': 585, 'differing': 2, 'widely': 7, 'age': 1165, 'alike': 21, 'circle': 86, 'belonged': 31, 'vaslis': 0, 'hlne': 0, 'wore': 50, 'ball': 228, 'dress': 480, 'badge': 4, 'youthful': 19, 'femme': 6, 'plus': 3, 'sduisante': 1, 'ptersbourg': 0, '*': 300, 'during': 173, 'previous': 84, 'winter': 41, 'pregnant': 6, 'go': 2555, 'large': 199, 'gatherings': 4, 'small': 205, 'receptions': 8, 'introduced': 17, 'many': 224, 'fascinating': 7, 'woman': 212, 'each': 445, 'arrival': 61, 'seen': 317, 'aunt': 55, 'gravely': 4, 'conducted': 11, 'lady': 97, 'bows': 28, 'ribbon': 27, 'cap': 486, 'sailing': 4, 'soon': 253, 'guests': 71, 'began': 718, 'slowly': 38, 'turning': 225, 'visitor': 107, 'name': 173, 'left': 607, 'performed': 24, 'ceremony': 8, 'greeting': 28, 'cared': 23, 'observed': 21, 'greetings': 10, 'solemn': 60, 'interest': 190, 'approval': 31, 'health': 69, 'thank': 93, 'prevented': 15, 'showing': 44, 'impatience': 10, 'sense': 196, 'relief': 23, 'having': 390, 'vexatious': 1, 'duty': 91, 'return': 299, 'brought': 211, 'work': 275, 'gold-embroidered': 3, 'velvet': 17, 'bag': 55, 'pretty': 69, 'upper': 84, 'lip': 201, 'delicate': 32, 'dark': 167, 'perceptible': 14, 'teeth': 45, 'lifted': 70, 'sweetly': 5, 'especially': 137, 'occasionally': 26, 'drew': 1262, 'lower': 113, 'case': 139, 'thoroughly': 10, 'attractive': 23, 'defectthe': 1, 'shortness': 2, 'half-open': 4, 'mouthseemed': 1, 'special': 233, 'form': 677, 'beauty': 60, 'brightened': 15, 'sight': 110, 'mother': 249, 'full': 489, 'carrying': 44, 'burden': 24, 'lightly': 92, 'dull': 52, 'dispirited': 3, 'company': 117, 'talking': 188, 'felt': 635, 'talked': 95, 'saw': 472, 'bright': 133, 'constant': 42, 'gleam': 27, 'white': 209, 'specially': 157, 'amiable': 15, 'mood': 48, 'day': 1030, 'table': 389, 'quick': 202, 'swaying': 28, 'steps': 163, 'workbag': 3, 'arm': 1460, 'gaily': 37, 'spreading': 18, 'sat': 738, 'near': 372, 'silver': 29, 'samovar': 21, 'doing': 150, 'pleasure': 143, 'herself': 326, 'around': 164, 'displaying': 9, 'addressing': 70, 'present': 288, 'wicked': 9, 'trick': 27, 'hostess': 19, 'wrote': 94, 'quite': 366, 'badly': 43, 'dressed': 144, 'spread': 85, 'arms': 184, 'short-waisted': 1, 'lace-trimmed': 1, 'dainty': 2, 'gray': 86, 'girdled': 2, 'broad': 105, 'below': 42, 'soyez': 0, 'tranquille': 2, 'prettier': 7, 'voice': 568, 'general': 570, 'husband': 166, 'deserting': 1, 'going': 317, 'killed': 125, 'wretched': 17, 'waiting': 175, 'delightful': 20, 'next': 147, 'arrivals': 7, 'stout': 54, 'heavily': 28, 'built': 24, 'close-cropped': 2, 'hair': 328, 'spectacles': 39, 'light-colored': 2, 'fashionable': 8, 'ruffle': 4, 'brown': 12, 'coat': 203, 'illegitimate': 9, 'bezkhov': 0, 'grandee': 6, 'catherines': 0, 'dying': 73, 'moscow': 0, 'military': 108, 'civil': 45, 'service': 141, 'returned': 145, 'abroad': 31, 'where': 709, 'educated': 13, 'nod': 59, 'accorded': 1, 'lowest': 10, 'hierarchy': 2, 'spite': 164, 'lowest-grade': 1, 'look': 1578, 'anxiety': 24, 'fear': 184, 'unsuited': 1, 'place': 470, 'pierre': 1, 'enter': 443, 'certainly': 55, 'rather': 88, 'bigger': 4, 'other': 2061, 'reference': 14, 'shy': 46, 'observant': 5, 'distinguished': 32, 'monsieur': 5, 'exchanging': 13, 'alarmed': 11, 'glance': 244, 'murmured': 11, 'unintelligible': 6, 'search': 46, 'acquaintance': 78, 'alarm': 45, 'justified': 5, 'hear': 973, 'speech': 48, 'dismay': 19, 'detained': 9, 'yes': 1026, 'scheme': 8, 'perpetual': 4, 'hardly': 76, 'feasible': 2, 'rejoined': 12, 'attend': 68, 'duties': 28, 'committed': 17, 'reverse': 6, 'act': 1238, 'impoliteness': 1, 'finished': 86, 'speaking': 152, 'bent': 66, 'big': 64, 'feet': 112, 'apart': 191, 'explaining': 23, 'reasons': 33, 'thinking': 121, 'abbs': 1, 'plan': 241, 'chimerical': 1, 'later': 130, 'got': 306, 'rid': 476, 'behave': 31, 'resumed': 14, 'watch': 129, 'point': 318, 'might': 327, 'happen': 351, 'flag': 26, 'foreman': 1, 'spinning': 2, 'mill': 54, 'hands': 374, 'notices': 5, 'spindle': 3, 'stopped': 193, 'creaks': 1, 'makes': 27, 'noise': 44, 'should': 711, 'hastens': 2, 'machine': 12, 'proper': 81, 'motion': 129, 'moved': 254, 'approaching': 59, 'too-noisy': 1, 'group': 96, 'slight': 103, 'rearrangement': 1, 'kept': 154, 'conversational': 1, 'steady': 17, 'regular': 49, 'amid': 54, 'cares': 31, 'evident': 400, 'anxious': 52, 'approached': 70, 'passed': 193, 'whose': 108, 'center': 58, 'attended': 16, 'intellectual': 24, 'lights': 15, 'gathered': 48, 'toyshop': 1, 'afraid': 144, 'missing': 11, 'seeing': 156, 'self-confident': 19, 'faces': 159, 'seemed': 583, 'stood': 507, 'opportunity': 33, 'express': 535, 'views': 36, 'fond': 57, 'swing': 12, 'spindles': 2, 'hummed': 3, 'steadily': 7, 'ceaselessly': 1, 'sides': 250, 'beside': 227, 'elderly': 23, 'thin': 2999, 'careworn': 3, 'brilliant': 73, 'settled': 67, 'into': 1019, 'groups': 23, 'chiefly': 38, 'masculine': 7, 'formed': 143, 'grouped': 3, 'rosy': 31, 'plump': 34, 'third': 132, 'nice-looking': 1, 'soft': 103, 'polished': 8, 'manners': 12, 'celebrity': 1, 'modestly': 4, 'placed': 88, 'disposal': 4, 'found': 276, 'obviously': 17, 'serving': 38, 'treat': 212, 'matre': 2, 'dhtel': 1, 'serves': 25, 'choice': 19, 'delicacy': 6, 'piece': 46, 'meat': 7, 'kitchen': 14, 'eat': 1761, 'served': 71, 'peculiarly': 9, 'morsels': 1, 'immediately': 125, 'discussing': 9, 'murder': 21, 'duc': 268, 'denghien': 0, 'perished': 19, 'magnanimity': 15, 'particular': 133, 'hatred': 18, 'ah': 140, 'pleasant': 167, 'louis': 0, 'sound': 292, 'sentence': 22, 'contez': 0, 'nous': 32, 'ela': 307, 'courteously': 3, 'token': 10, 'willingness': 2, 'comply': 13, 'inviting': 15, 'tale': 37, 'personally': 28, 'whispered': 80, 'raconteur': 1, 'belongs': 5, 'choicest': 2, 'advantageous': 19, 'style': 10, 'well-garnished': 1, 'joint': 3, 'roast': 11, 'beef': 3, 'hot': 152, 'dish': 85, 'begin': 169, 'story': 239, 'gave': 307, 'subtle': 17, 'sitting': 218, 'rose': 234, 'unchanging': 7, 'roomthe': 1, 'perfectly': 24, 'rustle': 17, 'trimmed': 5, 'moss': 1, 'ivy': 1, 'shoulders': 107, 'glossy': 2, 'sparkling': 14, 'diamonds': 7, 'made': 467, 'graciously': 9, 'allowing': 9, 'privilege': 8, 'admiring': 6, 'figure': 107, 'shapely': 3, 'bosomwhich': 1, 'fashion': 35, 'much': 390, 'exposedand': 1, 'bring': 102, 'glamour': 2, 'ballroom': 36, 'toward': 269, 'lovely': 21, 'trace': 18, 'coquetry': 3, 'appeared': 165, 'unquestionable': 2, 'victorious': 10, 'diminish': 19, 'effect': 81, 'dropped': 35, 'startled': 7, 'extraordinary': 32, 'took': 415, 'seat': 82, 'opposite': 55, 'beamed': 9, 'upon': 96, 'madame': 4, 'doubt': 144, 'ability': 87, 'audience': 19, 'smilingly': 23, 'inclining': 1, 'rested': 72, 'bare': 91, 'unnecessary': 15, 'waited': 69, 'told': 411, 'upright': 7, 'glancing': 69, 'altered': 26, 'shape': 28, 'pressure': 10, 'bosom': 18, 'readjusted': 3, 'diamond': 10, 'necklace': 4, 'smoothed': 8, 'folds': 11, 'whenever': 9, 'produced': 41, 'glanced': 153, 'once': 626, 'adopted': 16, 'relapsed': 1, 'radiant': 27, 'followed': 135, 'wait': 338, 'fetch': 33, 'merrily': 20, 'asking': 105, 'joined': 61, 'moving': 125, 'chair': 126, 'close': 275, 'hers': 941, 'charmant': 6, 'surprising': 8, 'resemblance': 3, 'fact': 310, 'exceedingly': 6, 'ugly': 8, 'sisters': 21, 'lit': 1463, 'joyous': 31, 'self-satisfied': 9, 'classic': 3, 'dulled': 2, 'imbecility': 1, 'sullen': 5, 'self-confidence': 8, 'body': 290, 'weak': 112, 'nose': 66, 'puckered': 16, 'vacant': 6, 'wearied': 4, 'grimace': 12, 'legs': 103, 'fell': 358, 'unnatural': 45, 'positions': 50, 'ghost': 2, 'hastily': 52, 'adjusting': 5, 'lorgnette': 4, 'instrument': 7, 'fellow': 233, 'astonished': 17, 'narrator': 4, 'shrugging': 13, 'because': 469, 'hate': 103, 'stories': 45, 'showed': 110, 'meaning': 116, 'uttered': 125, 'hearers': 4, 'sure': 359, 'whether': 212, 'witty': 12, 'stupid': 68, 'dark-green': 3, 'color': 32, 'cuisse': 1, 'nymphe': 1, 'effraye': 1, 'called': 295, 'silk': 21, 'stockings': 14, 'neatly': 6, 'anecdote': 9, 'gone': 158, 'secretly': 6, 'paris': 16, 'mademoiselle': 0, 'george': 0, 'house': 542, 'bonaparte': 0, 'enjoyed': 18, 'actress': 7, 'favors': 5, 'presence': 121, 'napoleon': 0, 'happened': 168, 'fall': 191, 'fainting': 2, 'fits': 16, 'subject': 108, 'thus': 61, 'ducs': 1, 'mercy': 32, 'latter': 128, 'spared': 2, 'subsequently': 10, 'repaid': 1, 'death': 191, 'rivals': 11, 'recognized': 61, 'ladies': 91, 'agitated': 47, 'inquiring': 51, 'sticking': 7, 'needle': 12, 'testify': 1, 'fascination': 2, 'appreciated': 14, 'praise': 26, 'gratefully': 9, 'prepared': 79, 'continue': 241, 'watchful': 1, 'eye': 951, 'noticed': 191, 'loudly': 36, 'vehemently': 2, 'hurried': 97, 'rescue': 15, 'managed': 37, 'balance': 13, 'power': 258, 'interested': 38, 'mans': 213, 'simple-minded': 2, 'eagerness': 5, 'pet': 135, 'theory': 36, 'listening': 86, 'eagerly': 31, 'naturally': 36, 'disapproved': 3, 'rights': 15, 'saying': 239, 'powerful': 24, 'nation': 286, 'russiabarbaric': 0, 'beto': 4, 'disinterestedly': 2, 'alliance': 18, 'object': 64, 'maintenance': 3, 'beginning': 89, 'severely': 19, 'italian': 0, 'russian': 19, 'climate': 3, 'italians': 0, 'instantly': 20, 'changed': 122, 'offensively': 2, 'sugary': 1, 'conversing': 13, 'women': 146, 'enchanted': 7, 'brilliancy': 1, 'wit': 6453, 'culture': 22, 'feminine': 14, 'letting': 37, 'escape': 50, 'conveniently': 1, 'keep': 153, 'observation': 27, 'larger': 16, 'andrew': 0, 'handsome': 110, 'medium': 10, 'height': 38, 'firm': 160, 'clearcut': 1, 'weary': 33, 'bored': 9, 'measured': 10, 'step': 334, 'offered': 48, 'striking': 25, 'contrast': 18, 'tiresome': 7, 'among': 195, 'tedious': 1, 'distorted': 15, 'screwing': 10, 'scanned': 8, 'kutzov': 0, 'stressing': 5, 'syllable': 8, 'generals': 118, 'frenchman': 0, 'ashamed': 56, 'deprive': 32, 'andr': 6, 'coquettish': 5, 'manner': 73, 'telling': 67, 'screwed': 14, 'watched': 44, 'glad': 144, 'affectionate': 29, 'expressing': 26, 'annoyance': 12, 'whoever': 9, 'touching': 38, 'pierres': 0, 'beaming': 19, 'kind': 271, 'great': 415, 'supper': 57, 'low': 1210, 'disturb': 29, 'continuing': 14, 'impossible': 175, 'laughing': 101, 'pressing': 80, 'need': 218, 'let': 910, 'pass': 525, 'excuse': 30, 'holding': 120, 'sleeve': 43, 'friendly': 33, 'prevent': 47, 'rising': 72, 'unfortunate': 23, 'deprives': 3, 'obliges': 1, 'interrupt': 115, 'sorry': 65, 'leave': 216, 'enchanting': 17, 'party': 71, 'chairs': 26, 'shone': 36, 'radiantly': 4, 'gazed': 88, 'rapturous': 31, 'passing': 81, 'seized': 81, 'educate': 13, 'month': 71, 'connection': 52, 'hurriedly': 68, 'overtook': 13, 'anteroom': 36, 'affectation': 11, 'kindly': 54, 'tear-worn': 3, 'bors': 17, 'hurrying': 19, 'remain': 305, 'boy': 161, 'although': 5, 'listened': 137, 'reluctantly': 17, 'politely': 12, 'ingratiating': 5, 'appealing': 1, 'transferred': 29, 'guards': 14, 'difficult': 146, 'advise': 39, 'appeal': 20, 'rumyntsev': 0, 'goltsyn': 0, 'drubetskya': 0, 'belonging': 25, 'long': 1069, 'lost': 140, 'former': 160, 'influential': 3, 'connections': 13, 'procure': 12, 'appointment': 28, 'solely': 12, 'obtained': 22, 'invitation': 18, 'vicomtes': 2, 'embittered': 4, 'clutched': 8, 'tightly': 3, 'anything': 293, 'reminded': 22, 'friendship': 39, 'entreat': 22, 'gods': 3, 'sake': 90, 'sonand': 2, 'regard': 158, 'benefactor': 30, 'angry': 108, 'promise': 97, 'kindhearted': 7, 'tears': 160, 'papa': 1, 'classically': 1, 'molded': 1, 'shoulder': 176, 'door': 378, 'influence': 54, 'however': 69, 'capital': 49, 'economized': 1, 'realized': 43, 'begged': 25, 'chary': 1, 'using': 83, 'drubetskyas': 0, 'qualms': 1, 'conscience': 18, 'indebted': 2, 'career': 17, 'moreover': 2, 'womenmostly': 1, 'motherswho': 1, 'minds': 19, 'until': 27, 'gained': 30, 'end': 1676, 'insisting': 7, 'hour': 118, 'make': 308, 'scenes': 4, 'consideration': 33, 'mikhylovna': 0, 'weariness': 10, 'prove': 141, 'impossibleyour': 1, 'satisfied': 69, 'expected': 185, 'youi': 1, 'kindness': 9, 'waitjust': 0, 'faltered': 5, 'michael': 0, 'ilarinovich': 0, 'recommend': 12, 'adjutant': 197, 'wont': 145, 'pestered': 1, 'commander': 349, 'conspired': 2, 'sons': 170, 'adjutants': 44, 'au': 2249, 'revoir': 11, 'good-by': 31, 'tomorrow': 95, 'cried': 213, 'probably': 75, 'ill-suited': 3, 'apparently': 40, 'forgotten': 50, 'employed': 16, 'arts': 129, 'artificial': 19, 'pretended': 15, 'till': 937, 'task': 19, 'accomplished': 20, 'latest': 13, 'comedy': 3, 'coronation': 3, 'milan': 0, 'laying': 70, 'petitions': 4, 'throne': 10, 'granting': 1, 'nations': 81, 'adorable': 0, 'enough': 58, 'whirl': 13, 'crazy': 6, 'straight': 113, 'sarcastic': 15, 'dieu': 5, 'donne': 9, 'gare': 1, 'qui': 1092, 'touche': 61, 'fine': 170, 'remarked': 92, 'dio': 14, 'mi': 4499, 'lha': 2, 'dato': 1, 'guai': 0, 'chi': 1192, 'tocchi': 1, 'touches': 1, 'beware': 2, 'drop': 90, 'glass': 103, 'run': 308, 'sovereigns': 19, 'able': 1084, 'endure': 23, 'menace': 3, 'polite': 45, 'hopeless': 17, 'queen': 7, 'elizabeth': 0, 'reaping': 3, 'reward': 37, 'betrayal': 2, 'bourbon': 0, 'cause': 739, 'sending': 19, 'compliment': 7, 'usurper': 2, 'sighing': 12, 'disdainfully': 6, 'position': 384, 'gazing': 59, 'completely': 42, 'tracing': 1, 'cond': 390, 'explained': 45, 'gravity': 12, 'bton': 0, 'gueules': 2, 'engrl': 1, 'dazurmaison': 1, 'remains': 21, 'france': 0, 'air': 854, 'matter': 248, 'acquainted': 18, 'far': 343, 'intrigues': 14, 'violence': 9, 'exile': 10, 'executions': 5, 'societyi': 0, 'societywill': 1, 'forever': 31, 'destroyed': 56, 'shrugged': 26, 'remark': 187, 'interrupted': 100, 'alexander': 0, 'accompanied': 44, 'imperial': 15, 'themselves': 203, 'choose': 25, 'government': 66, 'free': 298, 'throw': 109, 'itself': 160, 'rightful': 7, 'concluded': 42, 'royalist': 1, 'emigrant': 2, 'doubtful': 8, 'rightly': 27, 'supposes': 1, 'already': 323, 'regime': 307, 'blushing': 30, 'breaking': 25, 'aristocracy': 3, 'bonapartes': 0, 'side': 1187, 'buonapartists': 0, 'real': 380, 'state': 274, 'public': 50, 'opinion': 113, 'aiming': 8, 'remarks': 39, 'path': 163, 'glory': 40, 'follow': 262, 'silence': 105, 'quoting': 3, 'napoleons': 0, 'opened': 119, 'antechambers': 1, 'crowded': 40, 'partial': 6, 'ceased': 59, 'hero': 90, 'martyr': 4, 'heaven': 58, 'appreciation': 3, 'epigram': 3, 'broke': 116, 'inappropriate': 2, 'stop': 396, 'execution': 24, 'necessity': 51, 'seems': 85, 'greatness': 20, 'fearing': 16, 'responsibility': 25, 'deed': 62, 'mon': 738, 'muttered': 69, 'terrified': 12, 'whisper': 155, 'consider': 264, 'assassination': 1, 'shows': 14, 'exclaimed': 84, 'several': 146, 'voices': 143, 'slapping': 4, 'palm': 11, 'merely': 131, 'solemnly': 10, 'desperately': 9, 'bourbons': 0, 'fled': 36, 'leaving': 83, 'anarchy': 1, 'quelled': 1, 'suggested': 32, 'heeding': 8, 'eager': 65, 'superior': 40, 'suppressed': 12, 'abuses': 2, 'preserved': 4, 'itequality': 1, 'citizenship': 3, 'freedom': 110, 'pressand': 1, 'availing': 7, 'commit': 51, 'restored': 11, 'grand': 60, 'desperate': 26, 'provocative': 4, 'proposition': 4, 'extreme': 29, 'youth': 66, 'regicide': 3, 'repeated': 160, 'rousseaus': 0, 'contrat': 0, 'tolerant': 1, 'ideas': 42, 'robbery': 4, 'interjected': 2, 'ironical': 26, 'extremes': 1, 'important': 139, 'emancipation': 2, 'prejudices': 1, 'equality': 14, 'retained': 9, 'liberty': 14, 'contemptuously': 17, 'deciding': 6, 'seriously': 33, 'foolish': 15, 'high-sounding': 1, 'discredited': 2, 'love': 667, 'saviour': 0, 'preached': 5, 'happier': 12, 'amused': 24, 'outburst': 10, 'experience': 135, 'horror-struck': 2, 'sacrilegious': 1, 'exasperated': 4, 'convinced': 53, 'rallied': 4, 'forces': 87, 'vigorous': 13, 'orator': 8, 'executing': 5, 'ducor': 1, 'ordinary': 66, 'whois': 1, 'innocent': 19, 'untried': 1, 'explains': 7, '18th': 1, 'brumaire': 0, 'imposture': 1, 'swindle': 2, 'conduct': 34, 'prisoners': 118, 'africa': 0, 'horrible': 11, 'hes': 1239, 'knowing': 82, 'unlike': 14, 'half-smile': 1, 'grave': 27, 'gloomy': 34, 'instantaneously': 3, 'replaced': 16, 'anothera': 2, 'childlike': 24, 'silly': 9, 'forgiveness': 13, 'meeting': 95, 'jacobin': 0, 'expect': 328, 'besides': 55, 'statesman': 2, 'distinguish': 59, 'acts': 32, 'private': 30, 'course': 139, 'chimed': 8, 'reinforcement': 8, 'admit': 88, 'bridge': 143, 'arcola': 0, 'hospital': 49, 'jaffa': 0, 'plague-stricken': 1, 'justify': 18, 'awkwardness': 9, 'sign': 276, 'started': 59, 'making': 114, 'signs': 25, 'vicomtei': 0, 'emphatically': 2, 'demand': 96, 'attention': 124, 'une': 285, 'dame': 48, 'footmen': 30, 'behind': 287, 'carriage': 155, 'taste': 25, 'ladys': 9, 'collecting': 10, 'difficulty': 46, 'livery': 3, 'calls': 13, 'spluttered': 3, 'unfavorable': 2, 'persons': 34, 'wind': 185, 'hat': 10846, 'contain': 28, 'gasps': 1, 'laughter': 79, 'hippolytes': 0, 'agreeably': 6, 'ending': 170, 'unamiable': 1, 'insignificant': 27, 'balls': 46, 'theatricals': 3, 'thanked': 17, 'soiree': 10, 'ungainly': 3, 'average': 1, 'huge': 38, 'red': 3322, 'particularly': 87, 'agreeable': 38, 'absent-minded': 32, 'three-cornered': 2, 'held': 144, 'pulling': 22, 'plume': 19, 'restore': 18, 'absent-mindedness': 8, 'inability': 2, 'converse': 7, 'redeemed': 2, 'simple': 87, 'modest': 18, 'christian': 0, 'mildness': 4, 'indiscretion': 2, 'nodded': 41, 'change': 227, 'opinions': 20, 'everybody': 104, 'unless': 15, 'good-natured': 36, 'including': 14, 'hall': 333, 'helping': 10, 'cloak': 62, 'indifferently': 5, 'wifes': 45, 'chatter': 16, 'stared': 17, 'fixedly': 15, 'eyeglass': 1, 'catch': 45, 'match': 36, 'contemplated': 1, 'sister-in-law': 21, 'write': 81, 'looks': 74, 'bending': 23, 'shawl': 22, 'finish': 147, 'sentences': 6, 'meaningless': 19, 'understanding': 79, 'wishing': 62, 'appear': 307, 'laugh': 322, 'downy': 8, 'joyfully': 37, 'snatching': 6, 'pushed': 54, 'aside': 60, 'wrapping': 2, 'intentionally': 6, 'adjusted': 12, 'embracing': 11, 'gracefully': 5, 'andrews': 0, 'sleepy': 16, 'seem': 771, 'past': 185, 'reached': 151, 'heels': 57, 'stumbling': 8, 'porch': 88, 'following': 68, 'princesse': 18, 'tongue': 28, 'picking': 8, 'saber': 56, 'pretense': 7, 'everyones': 7, 'allow': 141, 'sir': 215, 'disagreeable': 11, 'blocking': 13, 'gently': 24, 'affectionately': 9, 'postilion': 4, 'wheels': 38, 'rattled': 8, 'laughed': 78, 'spasmodically': 3, 'home': 188, 'cher': 102, 'nice': 46, 'indeed': 31, 'tips': 18, 'fingers': 59, 'chap': 10, 'airs': 208, 'pity': 65, 'officer': 665, 'gives': 22, 'equal': 67, 'deal': 81, 'reaching': 34, 'study': 120, 'shelf': 1, 'caesars': 0, 'commentaries': 0, 'resting': 54, 'elbow': 49, 'reading': 107, 'middle': 84, 'mlle': 0, 'rubbing': 15, 'creak': 28, 'waved': 22, 'light': 540, 'possible': 350, 'buti': 31, 'abstract': 15, 'everywhere': 40, 'thinks': 19, 'guardsman': 3, 'diplomatist': 18, 'momentary': 10, 'tucked': 11, 'decide': 138, 'expects': 5, 'tutor': 23, 'remained': 180, 'twenty': 133, 'dismissed': 9, 'profession': 4, 'agree': 158, 'letter': 292, 'money': 129, 'choosing': 7, 'months': 35, 'rubbed': 15, 'forehead': 48, 'freemason': 0, 'referring': 14, 'met': 971, 'nonsense': 73, 'business': 106, 'horse': 569, 'against': 222, 'greatest': 41, 'childish': 27, 'finds': 15, 'nave': 38, 'fought': 38, 'except': 99, 'conviction': 36, 'wars': 30, 'ironically': 15, 'likely': 17, 'leading': 48, 'womans': 21, 'shook': 51, 'waking': 17, 'removed': 37, 'gown': 49, 'fresh': 139, 'elegant': 12, 'settling': 10, 'briskly': 16, 'fussily': 1, 'argumentative': 2, 'arguing': 7, 'embarrassment': 18, 'commonly': 2, 'shown': 58, 'intercourse': 5, 'touched': 59, 'live': 314, 'judge': 41, 'uncles': 1, 'aprksins': 0, 'easily': 61, 'noticing': 54, 'starting': 22, 'spoken': 56, 'petulantly': 1, 'playful': 10, 'plainly': 30, 'member': 320, 'remembered': 103, 'associations': 3, 'broken': 64, 'im': 9783, 'shudder': 17, 'surprised': 59, 'notice': 282, 'someone': 125, 'addressed': 61, 'frigid': 3, 'egotists': 2, 'whim': 4, 'goodness': 26, 'knows': 85, 'leaves': 21, 'locks': 6, 'remember': 240, 'querulous': 5, 'drawn': 84, 'giving': 114, 'joyful': 85, 'animal': 51, 'squirrel-like': 2, 'indecorous': 1, 'pregnancy': 3, 'gist': 9, 'blushed': 47, 'despair': 44, 'doctor': 174, 'tells': 15, 'bed': 333, 'earlier': 8, 'quivered': 15, 'walked': 70, 'surprise': 144, 'rise': 219, 'tearful': 6, 'entreaty': 8, 'threat': 51, 'above': 138, 'regret': 46, 'ago': 178, 'beg': 1052, 'desist': 2, 'growing': 66, 'cry': 125, 'assure': 46, 'experienced': 90, 'outsider': 1, 'distress': 25, 'caught': 58, 'restraining': 6, 'dryly': 4, 'pitch': 16, 'indicates': 3, 'patience': 27, 'exhausted': 30, 'winning': 9, 'piteous': 18, 'askance': 3, 'husbands': 29, 'timid': 69, 'deprecating': 1, 'dog': 77, 'rapidly': 93, 'feebly': 7, 'wags': 2, 'drooping': 12, 'tail': 105, 'lifting': 33, 'night': 312, 'kissing': 36, 'stranger': 48, 'continually': 78, 'sigh': 214, 'newly': 22, 'decorated': 4, 'luxurious': 7, 'dining': 26, 'napkins': 1, 'china': 9, 'imprint': 1, 'newness': 1, 'households': 4, 'halfway': 10, 'leaned': 36, 'elbows': 21, 'nervous': 25, 'agitation': 41, 'talkas': 1, 'determines': 1, 'marry': 111, 'advice': 31, 'capable': 25, 'irrevocable': 4, 'mistake': 60, 'nothingor': 1, 'wasted': 9, 'trifles': 14, 'future': 77, 'ranged': 59, 'lackey': 7, 'idiot': 8, 'whats': 29, 'different': 192, 'apparent': 54, 'amazement': 9, 'excellent': 30, 'rare': 36, 'safe': 30, 'o': 188448, 'unmarried': 7, 'mention': 88, 'lolled': 2, 'half-closed': 6, 'phrases': 11, 'muscle': 9, 'quivering': 16, 'excitement': 46, 'fire': 313, 'extinguished': 3, 'flashed': 13, 'lifeless': 12, 'impassioned': 2, 'moments': 61, 'morbid': 2, 'irritation': 10, 'worked': 12, 'goal': 21, 'aim': 271, 'tie': 425, 'chained': 1, 'convict': 45, 'lose': 313, 'strength': 141, 'weighs': 3, 'torments': 5, 'rooms': 60, 'gossip': 22, 'vanity': 17, 'trivialitythese': 1, 'fit': 83, 'caustic': 3, 'exist': 116, 'selfish': 4, 'vain': 31, 'trivial': 12, 'everythingthats': 1, 'colors': 4, 'theres': 51, 'funny': 16, 'incapable': 7, 'highly': 16, 'model': 9, 'perfection': 10, 'possessed': 22, 'degree': 24, 'qualities': 20, 'lacked': 11, 'described': 31, 'treating': 33, 'extensive': 1, 'read': 966, 'capacity': 22, 'struck': 99, 'philosophical': 2, 'meditation': 6, 'addicted': 1, 'regarded': 54, 'simplest': 12, 'relations': 68, 'commendation': 6, 'essential': 36, 'grease': 2, 'smoothly': 9, 'reassuring': 2, 'reflected': 29, 'relaxing': 1, 'careless': 22, 'merry': 53, 'crimson': 12, 'plain': 273, 'effort': 123, 'havent': 21, 'idea': 124, 'consult': 29, 'glancefriendly': 1, 'wasexpressed': 1, 'superiority': 12, 'youre': 44, 'youll': 43, 'visiting': 9, 'kurgins': 0, 'sort': 79, 'suits': 8, 'badlyall': 1, 'debauchery': 5, 'dissipation': 6, 'comme': 60, 'il': 7793, 'faut': 4, 'wine': 56, 'sharing': 8, 'dissipated': 5, 'planning': 6, 'reform': 20, 'happy': 214, 'properly': 11, 'aches': 38, 'spends': 1, 'oclock': 65, 'cloudless': 1, 'northern': 1, 'summer': 32, 'open': 285, 'cab': 46, 'intending': 12, 'drive': 109, 'impossibility': 10, 'sleep': 208, 'deserted': 21, 'street': 105, 'cards': 41, 'generally': 38, 'drinking': 16, 'bout': 1024, 'finishing': 17, 'visits': 8, 'recalled': 47, 'happens': 56, 'passionately': 22, 'enjoy': 57, 'accustomed': 47, 'account': 104, 'gathering': 15, 'conventional': 4, 'definite': 73, 'considers': 9, 'dead': 74, 'dishonor': 13, 'indulged': 1, 'reflections': 15, 'nullifying': 1, 'decisions': 4, 'intentions': 15, 'barracks': 2, 'lived': 77, 'lighted': 53, 'ascended': 10, 'stairs': 46, 'empty': 41, 'bottles': 6, 'cloaks': 9, 'overshoes': 1, 'lying': 156, 'smell': 46, 'alcohol': 1, 'sounds': 84, 'shouting': 103, 'distance': 81, 'visitors': 66, 'dispersed': 14, 'threw': 61, 'sly': 405, 'glasses': 21, 'familiar': 76, 'growling': 1, 'commotion': 4, 'crowding': 17, 'anxiously': 13, 'window': 136, 'romping': 1, 'chain': 15, 'bet': 493, 'hundred': 150, 'stevens': 0, 'shouted': 244, 'dlokhov': 0, 'bruin': 0, 'heres': 103, 'draught': 2, 'loses': 7, 'fourth': 42, 'jacob': 0, 'bottle': 46, 'host': 71, 'tall': 137, 'linen': 11, 'shirt': 51, 'unfastened': 6, 'front': 294, 'bit': 271, 'fellows': 43, 'ptya': 0, 'clear': 265, 'blue': 96, 'drunken': 20, 'sober': 4, 'ring': 1676, 'bets': 31, 'semnov': 0, 'regiment': 305, 'notorious': 5, 'gambler': 4, 'duelist': 2, 'living': 88, 'drunk': 47, 'drink': 60, 'drank': 22, 'brows': 59, 'tipsy': 12, 'refilling': 1, 'betting': 1, 'naval': 6, 'rum': 123, 'outer': 13, 'ledge': 65, 'floor': 52, 'hanging': 84, 'pushing': 28, 'englishmans': 0, 'distinctly': 29, 'curly': 22, 'light-blue': 5, 'twenty-five': 8, 'infantry': 89, 'officers': 250, 'mustache': 57, 'feature': 25, 'lines': 64, 'remarkably': 5, 'finely': 2, 'curved': 4, 'sharp': 60, 'wedge': 3, 'firmly': 44, 'distinct': 59, 'smiles': 16, 'corners': 12, 'together': 152, 'resolute': 60, 'insolent': 8, 'intelligence': 10, 'spent': 90, 'tens': 46, 'thousands': 42, 'footing': 6, 'respected': 20, 'play': 206, 'games': 6, 'nearly': 53, 'won': 226, 'clearheadedness': 1, 'rakes': 2, 'scapegraces': 1, 'frame': 25, 'sill': 30, 'forced': 26, 'flurried': 4, 'intimidated': 4, 'directions': 21, 'shouts': 49, 'gentlemen': 73, 'swaggering': 2, 'strode': 6, 'smash': 11, 'tugged': 6, 'move': 608, 'smashed': 7, 'pane': 5, 'hercules': 0, 'crossbeam': 1, 'wrenched': 3, 'oak': 92, 'crash': 5, 'theyll': 11, 'englishman': 0, 'bragging': 2, 'eh': 679, 'first-rate': 4, 'sky': 115, 'dawn': 23, 'merging': 12, 'afterglow': 1, 'sunset': 2, 'visible': 51, 'jumped': 46, 'onto': 67, 'standing': 237, 'fifty': 32, 'imperialshe': 1, 'welli': 12, 'imperials': 5, 'outside': 46, 'spot': 72, 'stooped': 14, 'pointed': 114, 'sloping': 4, 'buttons': 4, 'himthe': 5, 'shortbegan': 1, 'wager': 8, 'hammering': 3, 'attract': 75, 'pay': 83, 'indication': 15, 'intended': 43, 'accept': 68, 'challenge': 17, 'release': 19, 'nodding': 9, 'translating': 2, 'dlokhovs': 0, 'lad': 455, 'hussar': 185, 'losing': 52, 'climbed': 9, 'stones': 5, 'pavement': 5, 'shut': 30, 'awkwardly': 14, 'tripping': 6, 'spurs': 22, 'placing': 11, 'reach': 238, 'carefully': 46, 'lowered': 23, 'candles': 30, 'older': 24, 'forward': 176, 'scared': 15, 'seize': 104, 'hold': 250, 'folly': 9, 'hell': 49, 'sensible': 9, 'touch': 132, 'startle': 9, 'comes': 69, 'meddling': 2, 'emitting': 3, 'separately': 10, 'compressed': 11, 'pick': 57, 'erect': 20, 'staring': 11, 'sideways': 9, 'pursing': 3, 'corner': 106, 'wall': 94, 'hid': 103, 'faint': 19, 'forgot': 70, 'fade': 5, 'horror': 51, 'thrown': 47, 'further': 51, 'collar': 29, 'higher': 56, 'trembled': 26, 'emptying': 4, 'perceptibly': 12, 'tilting': 2, 'half': 175, 'elapsed': 7, 'backward': 19, 'spine': 5, 'nervously': 7, 'sufficient': 33, 'slip': 53, 'slipping': 12, 'wavered': 2, 'strain': 101, 'clutch': 22, 'refrained': 9, 'covered': 121, 'aware': 37, 'stir': 61, 'pale': 122, 'smelt': 3, 'strongly': 21, 'devil': 74, 'purse': 25, 'counting': 15, 'frowning': 47, 'wishes': 34, 'mad': 512, 'giddy': 1, 'staircase': 11, 'lets': 71, 'banging': 2, 'determined': 17, 'preparing': 37, 'climb': 12, 'strong': 130, 'flying': 29, 'manage': 72, 's': 159912, 'ground': 119, 'dancing': 42, 'cornet': 9, 'staff': 137, 'mikhylovnas': 0, 'endeavors': 3, 'entreaties': 4, 'rostvs': 0, 'stayed': 33, 'town': 135, 'darling': 35, 'bry': 0, 'line': 274, 'childhood': 25, 'tenth': 19, 'august': 4, 'equipment': 11, 'join': 157, 'march': 134, 'radzivlov': 0, 'natalias': 0, 'rostvsthe': 0, 'daughterboth': 1, 'nataly': 0, 'carriages': 40, 'horses': 264, 'bringing': 25, 'countess': 369, 'rostvas': 0, 'povarskya': 0, 'eldest': 27, 'congratulate': 21, 'constantly': 24, 'succeeded': 21, 'relays': 2, 'forty-five': 2, 'oriental': 0, 'type': 14, 'worn': 47, 'childbearingshe': 1, 'languor': 3, 'resulting': 11, 'inspired': 14, 'household': 47, 'receive': 259, 'entertain': 26, 'inner': 234, 'receiving': 40, 'dinner': 190, 'grateful': 30, 'ma': 7876, 'chrehe': 1, 'slightest': 15, 'variation': 5, 'ranki': 0, 'keeping': 38, 'offended': 32, 'chre': 16, 'cheerful': 64, 'clean-shaven': 8, 'jauntily': 5, 'putting': 51, 'knees': 36, 'enjoys': 3, 'swayed': 26, 'dignity': 33, 'surmises': 5, 'weather': 28, 'questions': 98, 'bad': 172, 'unflinching': 1, 'fulfillment': 7, 'stroking': 7, 'scanty': 2, 'hairs': 35, 'patch': 46, 'conservatory': 10, 'pantry': 5, 'marble': 7, 'tables': 23, 'eighty': 14, 'unfolding': 4, 'damask': 2, 'dmtri': 0, 'vaslevich': 0, 'manager': 2, 'affairs': 119, 'enormous': 51, 'complacent': 8, 'lvvna': 0, 'kargina': 0, 'announced': 32, 'gigantic': 7, 'bass': 44, 'entering': 52, 'pinch': 8, 'gold': 58, 'snuffbox': 27, 'portrait': 34, 'callers': 2, 'proud-looking': 1, 'round-faced': 5, 'dresses': 27, 'rustling': 7, 'laid': 57, 'razumvskis': 0, 'aprksina': 0, 'interrupting': 9, 'mingling': 10, 'scraping': 4, 'conversations': 20, 'mammas': 1, 'mantles': 1, 'topic': 12, 'illness': 47, 'wealthy': 22, 'celebrated': 9, 'beau': 145, 'behaved': 16, 'improperly': 1, 'vexation': 26, 'kill': 229, 'alluded': 5, 'bezkhovs': 0, 'modern': 15, 'allowed': 44, 'liked': 86, 'expelled': 6, 'police': 42, 'chose': 52, 'interposed': 4, 'certain': 219, 'suffer': 152, 'degraded': 4, 'ranks': 81, 'somehow': 10, 'hushed': 5, 'ordered': 125, 'brigands': 5, 'ivnovna': 0, 'dlokhova': 0, 'worthy': 46, 'fancy': 28, 'somewhere': 46, 'actresses': 3, 'tried': 190, 'interfere': 11, 'tied': 48, 'policeman': 10, 'moyka': 0, 'canal': 0, 'swimming': 2, 'cut': 180, 'dreadful': 54, 'cyril': 0, 'vladmirovich': 0, 'amuses': 3, 'foreign': 35, 'introduce': 26, 'declined': 7, 'daughters': 42, 'girls': 58, 'inattention': 2, 'score': 11, 'intervened': 2, 'knowledge': 57, 'cyrils': 0, 'reputation': 18, 'handsomer': 2, 'heir': 1477, 'deathand': 2, 'die': 874, 'dr': 3440, 'lorrain': 0, 'petersburgno': 0, 'inherit': 12, 'immense': 40, 'fortune': 59, 'serfs': 77, 'millions': 37, 'mothers': 52, 'cousin': 41, 'brys': 0, 'godfather': 4, 'attached': 23, 'arrived': 93, 'yesterday': 48, 'inspection': 7, 'pretext': 27, 'hearing': 70, 'imagine': 109, 'impersonate': 1, 'portly': 4, 'deep': 136, 'ringing': 54, 'eats': 29, 'drinks': 2, 'dine': 50, 'ensued': 6, 'affably': 1, 'concealing': 10, 'distressed': 7, 'smoothing': 8, 'footsteps': 26, 'boys': 15, 'running': 104, 'falling': 37, 'hiding': 22, 'muslin': 5, 'frock': 8, 'darted': 7, 'flight': 37, 'doorway': 15, 'student': 7, 'rosy-faced': 1, 'jacket': 25, 'wide': 65, 'feigned': 5, 'severity': 13, 'spoil': 32, 'ily': 642, 'returns': 8, 'black-eyed': 3, 'wide-mouthed': 1, 'lifewith': 1, 'heaved': 7, 'bodice': 7, 'black': 143, 'curls': 7, 'tossed': 7, 'lace-frilled': 1, 'drawers': 2, 'slipperswas': 1, 'escaping': 8, 'hide': 36, 'flushed': 66, 'lace': 519, 'mantillanot': 1, 'paying': 16, 'severe': 39, 'remarkand': 1, 'fragmentary': 1, 'doll': 10, 'mimi': 6, 'natsha': 0, 'utter': 219, 'loud': 206, 'prim': 15, 'joining': 30, 'monstrosity': 1, 'sternness': 1, 'mantilla': 3, 'compelled': 8, 'scene': 19, 'suppose': 68, 'condescension': 6, 'meanwhile': 17, 'generation': 16, 'nicholas': 0, 'undergraduate': 1, 'counts': 92, 'snya': 4, 'fifteen-year-old': 1, 'niece': 15, 'restrain': 49, 'within': 81, 'bounds': 3, 'decorum': 4, 'mirth': 8, 'dashed': 13, 'impetuously': 6, 'amusing': 22, 'scandals': 2, 'suppress': 19, 'fair': 244, 'enthusiasm': 28, 'failed': 20, 'related': 27, 'quietly': 55, 'humorously': 1, 'aged': 123, 'cracked': 9, 'across': 115, 'skull': 9, 'shaking': 35, 'control': 33, 'rushed': 106, 'fast': 69, 'nimble': 2, 'carry': 96, 'werent': 6, 'mamma': 3, 'returning': 46, 'angrily': 79, 'vexed': 17, 'program': 10, 'disturbed': 17, 'remaining': 23, 'grown-up': 14, 'slender': 22, 'brunette': 1, 'tender': 99, 'veiled': 8, 'lashes': 8, 'thick': 43, 'plaits': 3, 'coiling': 1, 'twice': 47, 'tawny': 1, 'tint': 4, 'complexion': 1, 'graceful': 22, 'muscular': 11, 'neck': 84, 'movements': 56, 'softness': 5, 'flexibility': 1, 'limbs': 4, 'coyness': 1, 'reserve': 44, 'half-grown': 1, 'kitten': 8, 'promises': 5, 'cat': 405, 'passionate': 48, 'girlish': 7, 'adoration': 4, 'single': 82, 'instant': 87, 'impose': 7, 'spring': 52, 'energy': 23, 'pointing': 76, 'friendships': 3, 'university': 3, 'archives': 0, 'department': 7, 'isnt': 28, 'theyve': 9, 'hussars': 107, 'flaring': 4, 'shameful': 11, 'aspersion': 1, 'simply': 77, 'regarding': 17, 'approbation': 2, 'schubert': 0, 'colonel': 93, 'pvlograd': 0, 'playfully': 3, 'stay': 121, 'diplomat': 57, 'clerki': 0, 'flirtatiousness': 1, 'feasting': 2, 'gambols': 1, 'display': 27, 'kittenish': 1, 'nature': 70, 'flares': 1, 'heads': 55, 'ensign': 2, 'grant': 34, 'elders': 10, 'julie': 0, 'rostv': 0, 'arkhrovs': 0, 'thursday': 0, 'flattered': 14, 'engaged': 36, 'confidential': 8, 'involuntary': 16, 'stabbed': 1, 'heart': 235, 'unnaturally': 13, 'maintain': 32, 'vanished': 22, 'wear': 138, 'hearts': 20, 'sleeves': 24, 'cousinagedangereux': 0, 'voisinage': 2, 'cousinhood': 0, 'dangerous': 38, 'neighborhood': 7, 'brightness': 5, 'answering': 30, 'rejoice': 13, 'greater': 64, 'joy': 269, 'depends': 19, 'childrens': 11, 'confidence': 30, 'parents': 33, 'secrets': 12, 'confidante': 1, 'impulsive': 5, 'mischief': 3, 'youngsters': 1, 'solved': 35, 'perplexing': 1, 'volcano': 2, 'takes': 42, 'shes': 136, 'truth': 92, 'shell': 27, 'singer': 20, 'salomoni': 0, 'lessons': 15, 'harms': 4, 'train': 153, 'concerned': 28, 'occupied': 117, 'forbid': 18, 'meant': 84, 'utters': 8, 'accord': 102, 'stricter': 1, 'differently': 24, 'vra': 29, 'enhance': 2, 'vras': 0, 'therefore': 72, 'good-looking': 8, 'learning': 13, 'appropriate': 9, 'strange': 233, 'everyonethe': 1, 'aliketurned': 1, 'wondering': 9, 'awkward': 53, 'exceptional': 10, 'denying': 1, 'splendidly': 9, 'winking': 9, 'promising': 5, 'impatient': 20, 'stamped': 6, 'foot': 225, 'discreet': 1, 'quickly': 138, 'swiftly': 12, 'flower': 28, 'tubs': 6, 'brushed': 15, 'dust': 41, 'mirror': 25, 'examined': 20, 'peered': 4, 'ambush': 6, 'muttering': 17, 'checked': 13, 'impulse': 20, 'watchingas': 1, 'invisible': 11, 'capto': 3, 'experiencing': 8, 'sobbed': 11, 's-o-onya': 0, 'torture': 15, 'mere': 158, 'pull': 69, 'crying': 23, 'stirring': 9, 'scarcely': 46, 'breathing': 31, 'forgive': 63, 'significant': 60, 'led': 1658, 'grew': 124, 'confused': 56, 'picked': 24, 'kiss': 198, 'attentively': 33, 'plants': 3, 'closer': 30, 'cuffs': 3, 'solemnity': 11, 'inaudibly': 3, 'tub': 23, 'embraced': 39, 'clasped': 10, 'tossing': 3, 'slipped': 14, 'flowerpots': 1, 'please': 213, 'sixteen': 23, 'counted': 13, 'satisfaction': 65, 'adjoining': 11, 'tired': 60, 'orders': 200, 'porter': 21, 'invite': 35, 'tte--tte': 4, 'frank': 29, 'value': 43, 'pressed': 256, 'hurt': 35, 'sooner': 21, 'couples': 8, 'pair': 71, 'scornfully': 2, 'copying': 7, 'verses': 21, 'guilty': 26, 'roused': 46, 'inkstand': 2, 'minute': 120, 'dipping': 1, 'pen': 1025, 'wrong': 80, 'rushing': 20, 'lingered': 7, 'defense': 17, 'getting': 101, 'warmer': 3, 'berg': 100, 'behavior': 6, 'behaving': 5, 'natlya': 0, 'ilynchna': 0, 'behaves': 1, 'complain': 25, 'mortified': 7, 'slightly': 59, 'vogue': 6, 'bother': 4, 'youve': 25, 'loved': 140, 'genlis': 0, 'nickname': 8, 'bestowed': 3, 'stinging': 6, 'flirt': 7, 'rate': 405, 'nicholassaid': 0, 'upset': 23, 'nursery': 17, 'flock': 6, 'birds': 9, 'irritating': 4, 'unmoved': 1, 'scarf': 11, 'colder': 1, 'calmer': 6, 'roses': 3, 'club': 31, 'easygoing': 1, 'hunting': 23, 'wonder': 64, 'annettehow': 0, 'rush': 166, 'ministers': 14, 'astonishing': 2, 'couldnt': 8, 'possibly': 14, 'widow': 9, 'distraction': 7, 'learns': 1, 'pride': 31, 'lawsuit': 2, 'taught': 12, 'note': 82, 'so-and-so': 6, 'interview': 27, 'and-so': 9, 'timestill': 1, 'apply': 15, 'cadet': 20, 'agreed': 35, 'enthusiastically': 3, 'forgetting': 23, 'humiliation': 7, 'endured': 4, 'gain': 997, 'acted': 56, 'rumyntsovs': 0, 'paid': 43, 'attentions': 6, 'overflowing': 7, 'amiability': 3, 'command': 555, 'happiness': 132, 'sadly': 16, 'dropping': 14, 'progress': 28, 'literally': 1, 'penny': 3, 'equip': 19, 'handkerchief': 45, 'twenty-five-ruble': 2, 'assist': 41, 'godsonyou': 1, 'godfatherand': 1, 'trouble': 58, 'filled': 79, 'pondered': 14, 'sin': 1569, 'tremendous': 5, 'worth': 84, 'surely': 14, 'grandees': 2, 'stake': 78, 'practical': 20, 'luck': 42, 'danced': 25, 'tars': 19, 'distinguishes': 2, 'orlv': 0, 'drove': 78, 'straw': 17, 'courtyard': 18, 'mantle': 9, 'timidly': 35, 'tenderly': 16, 'attentive': 51, 'coldly': 19, 'someones': 11, 'entrance': 35, 'scrutinizing': 6, 'rows': 128, 'statues': 3, 'niches': 1, 'princesses': 18, 'excellency': 126, 'worse': 48, 'imploringly': 4, 'soothe': 5, 'rouse': 77, 'inquiringly': 33, 'tones': 31, 'sergevich': 0, 'announce': 51, 'sullenly': 2, 'pulled': 32, 'bell': 34, 'rang': 436, 'upstairs': 13, 'swallow-tail': 6, 'downstairs': 17, 'landing': 7, 'dyed': 1, 'venetian': 0, 'trodden-down': 3, 'carpeted': 3, 'stimulating': 4, 'lowering': 15, 'doors': 27, 'apartments': 13, 'assigned': 13, 'sprung': 7, 'bronze': 4, 'handle': 14, 'outwearing': 1, 'star': 203, 'custom': 76, 'hometaking': 1, 'dark-haired': 3, 'humanum': 1, 'est': 2677, 'errare': 1, 'swallowing': 3, 'rs': 9080, 'pronouncing': 6, 'latin': 51, 'accent': 15, 'err': 2551, 'human': 164, 'bow': 174, 'silently': 67, 'inquiry': 20, 'sorrow': 69, 'circumstances': 50, 'unaware': 10, 'offensive': 13, 'fixed': 97, 'questioningly': 4, 'perplexed': 8, 'acknowledging': 6, 'query': 1, 'indicating': 25, 'patient': 34, 'awful': 29, 'forget': 109, 'arranging': 19, 'frill': 3, 'obligation': 15, 'assuming': 6, 'schrers': 0, 'serve': 186, 'princes': 389, 'brusque': 2, 'desire': 119, 'respectfully': 42, 'searching': 19, 'adding': 10, 'shinshin': 0, 'monotonous': 7, 'unlicked': 1, 'absurd': 18, 'pathetic': 25, 'deserved': 8, 'censure': 8, 'hard': 181, 'doctors': 50, 'uncle': 10, 'godson': 2, 'suggesting': 8, 'ought': 1315, 'thoughtful': 24, 'finding': 35, 'rival': 72, 'hastened': 22, 'reassure': 12, 'affection': 47, 'uttering': 42, 'assurance': 26, 'unconcern': 7, 'final': 49, 'priceless': 3, 'absolutely': 21, 'prepare': 108, 'painful': 50, 'crisis': 2, 'delay': 31, 'welfare': 31, 'stern': 102, 'length': 24, 'strikingly': 2, 'proportion': 12, 'ambling': 4, 'nurse': 81, 'sympathetically': 4, 'gloves': 13, 'occupying': 10, 'conquered': 5, 'depressed': 11, 'relieve': 10, 'riotous': 3, 'taken': 276, 'tying': 10, 'escapade': 2, 'fatherwho': 1, 'favorably': 3, 'disposed': 11, 'himwould': 1, 'turn': 1007, 'nevertheless': 9, 'embroidery': 6, 'frames': 2, 'aloud': 24, 'readingthe': 1, 'embroidering': 1, 'differed': 3, 'mole': 6, 'corpse': 14, 'leper': 1, 'precisely': 7, 'lively': 13, 'disposition': 45, 'evoked': 12, 'foresaw': 4, 'wool': 6, 'canvas': 2, 'refrain': 28, 'pattern': 4, 'recognize': 113, 'unabashed': 3, 'physically': 18, 'mentally': 18, 'increase': 62, 'mental': 114, 'sufferings': 24, 'hm': 378, 'outright': 3, 'olga': 0, 'readyit': 1, 'busy': 36, 'comfortable': 34, 'causing': 6, 'pacing': 23, 'stopping': 20, 'menacing': 11, 'gestures': 8, 'sword': 42, 'foe': 23, 'glaring': 2, 'savagely': 1, 'resuming': 3, 'walk': 160, 'indistinct': 8, 'gesticulating': 7, 'scowling': 6, 'finger': 108, 'unseen': 13, 'mr': 82, 'pitt': 3, 'traitor': 23, 'sentenced': 2, 'pierrewho': 0, 'imagined': 42, 'effected': 2, 'crossing': 52, 'straits': 0, 'dover': 1, 'londoncould': 0, 'pronounce': 9, 'pitts': 0, 'well-built': 1, 'hearty': 3, 'disturbing': 4, 'asks': 16, 'considerable': 7, 'uncomfortable': 22, 'didnt': 43, 'sparrow': 1, 'hills': 13, 'jacquot': 0, 'mistaken': 18, 'deliberately': 14, 'bold': 57, 'attacked': 30, 'mosquitoes': 1, 'bees': 25, 'ive': 2353, 'mixed': 8, 'relatives': 5, 'boulogne': 0, 'expedition': 17, 'gets': 24, 'channel': 5, 'villeneuve': 0, 'doesnt': 34, 'mess': 47, 'papers': 49, 'villeneuves': 0, 'parties': 25, 'scandal': 4, 'politics': 14, 'companions': 17, 'afterwards': 36, 'outlive': 3, 'sincerely': 18, 'horrid': 8, 'inadvertently': 1, 'disconcerting': 1, 'flushing': 12, 'changing': 49, 'attitude': 37, 'avoid': 101, 'misunderstandings': 6, 'reckon': 18, 'clumsy': 6, 'shame': 106, 'fully': 320, 'ease': 485, 'rule': 96, 'relieved': 7, 'onerous': 1, 'extricated': 1, 'situation': 18, 'calming': 2, 'courage': 41, 'queer': 14, 'suspected': 6, 'advantages': 16, 'disadvantages': 2, 'summon': 26, 'borsthe': 0, 'warmly': 11, 'piercing': 18, 'imaginary': 5, 'remembrance': 4, 'intelligent': 14, 'early': 201, 'leads': 6, 'lonely': 3, 'unaccountable': 2, 'tenderness': 36, 'spend': 38, 'precious': 21, 'nieces': 1, 'adieu': 0, 'support': 41, 'bonne': 5, 'anybody': 15, 'mammawhat': 0, 'driven': 27, 'rostva': 0, 'applying': 6, 'crossly': 6, 'minutes': 72, 'humiliating': 10, 'poverty': 6, 'sorts': 14, 'calling': 51, 'exaggerated': 4, 'maam': 5, 'waddling': 4, 'saut': 3, 'game': 43, 'madre': 1, 'tasted': 5, 'ill-spent': 1, 'ruffling': 2, 'commands': 32, 'waistcoat': 14, 'bustling': 7, 'pocketbook': 3, 'cambric': 2, 'wiping': 14, 'hey': 2258, 'whos': 116, 'obey': 38, 'summons': 3, 'send': 86, 'stepped': 52, 'softly': 36, 'deferential': 5, 'tattered': 13, 'dirty': 28, 'notes': 22, 'clean': 65, 'deeply': 31, 'inform': 94, 'uneasy': 12, 'breathe': 13, 'anger': 223, 'treasure': 12, 'departed': 2, 'causes': 47, 'sum': 215, 'spendthrift': 1, 'agitating': 6, 'few': 184, 'refuse': 59, 'blush': 87, 'dignified': 8, 'guessed': 18, 'intention': 63, 'embrace': 52, 'outfit': 2, 'weeping': 18, 'wept': 32, 'theyfriends': 1, 'childhoodhad': 1, 'base': 52, 'number': 96, 'collection': 37, 'turkish': 0, 'pipes': 9, 'hasnt': 3, 'dmtrievna': 0, 'akhrosmova': 0, 'dragon': 1, 'wealth': 45, 'common': 58, 'plainness': 7, 'cities': 5, 'wondered': 13, 'privately': 2, 'rudenesses': 1, 'feared': 39, 'tobacco': 9, 'smoke': 130, 'manifesto': 11, 'recruiting': 5, 'smoking': 12, 'smoked': 5, 'smokers': 1, 'neighbors': 12, 'egged': 33, 'sallow': 17, 'civilian': 20, 'wrinkled': 18, 'stuck': 17, 'amber': 20, 'mouthpiece': 1, 'inhaling': 3, 'bachelor': 10, 'shinshn': 0, 'condescending': 9, 'companion': 53, 'irreproachably': 2, 'washed': 12, 'buttoned': 16, 'pipe': 42, 'inhaled': 3, 'rings': 65, 'lieutenant': 19, 'travel': 57, 'teased': 1, 'occupation': 35, 'playing': 58, 'boston': 9, 'card': 69, 'listener': 7, 'setting': 28, 'loquacious': 1, 'talkers': 1, 'trs': 9, 'honorable': 21, 'alphonse': 0, 'krlovich': 0, 'mixing': 2, 'expressions': 11, 'phraseswhich': 1, 'peculiarity': 6, 'vous': 60, 'comptez': 1, 'faire': 10, 'des': 1175, 'rentes': 1, 'sur': 761, 'ltat': 15, 'income': 7, 'peter': 4, 'nikolevich': 0, 'cavalry': 87, 'precision': 10, 'entirely': 29, 'direct': 249, 'bearing': 15, 'hours': 47, 'countenance': 10, 'circumstantially': 1, 'thirty': 47, 'obvious': 38, 'success': 78, 'prominent': 18, 'vacancies': 1, 'occur': 131, 'frequently': 16, 'y': 44971, 'german': 0, 'skin': 141, 'flint': 5, 'proverb': 6, 'squares': 4, 'oblivious': 4, 'comrades': 44, 'corps': 54, 'wartime': 3, 'senior': 22, 'succeed': 29, 'popular': 12, 'narrating': 2, 'suspect': 11, 'interests': 50, 'prettily': 2, 'sedate': 5, 'navet': 4, 'egotism': 7, 'disarmed': 3, 'along': 224, 'wherever': 9, 'gofoot': 1, 'horsethat': 1, 'warrant': 3, 'patting': 6, 'joyously': 6, 'zakska': 1, 'engaging': 4, 'food': 40, 'guess': 36, 'glances': 21, 'forsome': 1, 'hors': 576, 'doeuvres': 3, 'dinnertime': 3, 'navely': 8, 'somebody': 17, 'monosyllables': 3, 'curiosity': 47, 'prank': 4, 'oui': 35, 'non': 267, 'inappropriately': 1, 'recently': 14, 'exchanged': 20, 'rough': 638, 'oldest': 4, 'fifty-year-old': 2, 'surveying': 3, 'leisurely': 6, 'rolling': 21, 'full-toned': 1, 'drowned': 13, 'sinner': 7, 'daresay': 2, 'nowhere': 18, 'hunt': 95, 'dogs': 35, 'nestlings': 1, 'hows': 19, 'cossack': 0, 'stroked': 6, 'childs': 8, 'fearless': 4, 'gay': 33, 'scamp': 2, 'pear-shaped': 1, 'ruby': 1, 'earrings': 2, 'reticule': 9, 'saints-day': 1, 'ominously': 1, 'favor': 87, 'expectant': 3, 'prelude': 3, 'lies': 137, 'deathbed': 1, 'astride': 1, 'tutors': 8, 'governesses': 9, 'singly': 15, 'scraped': 4, 'band': 357, 'gallery': 9, 'places': 49, 'strains': 8, 'clatter': 13, 'knives': 4, 'forks': 1, 'farther': 85, 'male': 26, 'midway': 1, 'crystal': 4, 'decanters': 1, 'fruit': 13, 'vases': 1, 'ribbons': 10, 'busily': 4, 'neglecting': 2, 'omitting': 3, 'pineapples': 2, 'redness': 3, 'mens': 105, 'sounded': 37, 'louder': 26, 'ate': 2949, 'earthly': 9, 'heavenly': 6, 'soups': 1, 'turtle': 2, 'savory': 4, 'patties': 1, 'wines': 2, 'butler': 11, 'thrust': 25, 'mysteriously': 3, 'wrapped': 24, 'napkin': 12, 'madeira': 0, 'hungarian': 0, 'rhine': 0, 'engraved': 3, 'monogram': 5, 'plate': 22, 'random': 5, 'enjoyment': 15, 'ever-increasing': 6, 'inclined': 9, 'tormented': 34, 'jealousy': 12, 'strained': 27, 'nerve': 7, 'overhear': 10, 'governess': 19, 'uneasily': 18, 'resent': 294, 'dishes': 9, 'kinds': 16, 'dessert': 1, 'description': 10, 'germany': 0, 'greatly': 21, 'quench': 2, 'thirst': 6, 'greediness': 2, 'conscientious': 6, 'declaration': 5, 'forwarded': 2, 'courier': 23, 'deuce': 1, 'fight': 123, 'austrias': 0, 'cackle': 1, 'plethoric': 1, 'patriotically': 2, 'resented': 91, 'shinshns': 0, 'reasson': 2, 'goot': 3, 'zat': 23, 'ze': 729, 'declares': 2, 'manifessto': 1, 'fiew': 1, 'wiz': 4, 'danger': 116, 'vreatening': 1, 'safety': 9, 'empire': 8, 'vell': 2, 'sanctity': 1, 'alliances': 3, 'emphasis': 6, 'unerring': 2, 'official': 50, 'characterized': 1, 'opening': 31, 'constitutes': 10, 'emperors': 0, 'sole': 112, 'absolute': 36, 'aimto': 1, 'establish': 47, 'foundationshas': 1, 'despatch': 1, 'create': 10, 'condition': 150, 'attainment': 7, 'purpose': 67, 'vy': 85, 'tumbler': 9, 'connaissez-vous': 0, 'proverbe*': 0, 'jerome': 0, 'roam': 3, 'puckering': 9, 'cela': 0, 'convient': 1, 'merveille*2': 0, 'suvrov': 0, 'nowhe': 19, 'beat': 84, 'couture*3': 0, 'suvrovs': 0, 'je': 521, 'demande': 43, 'un': 8608, 'peu': 6, '*4': 0, '*do': 0, '*2': 0, '*3': 0, 'hollow': 35, 've': 14403, 'vight': 1, 'tr-r-op': 1, 'plood': 1, 'thumping': 3, 'zen': 74, 'vill': 194, 'pe': 7779, 'discuss': 67, 'po-o-ossible': 2, 'dwelt': 3, 'zeres': 1, 'discussed': 19, 'partner': 33, 'ears': 383, 'intent': 98, 'flaming': 3, 'wineglasses': 1, 'decision': 37, 'desperation': 4, 'facing': 26, 'russians': 5, 'conquer': 27, 'consciousas': 1, 'othersafter': 1, 'emphatic': 5, 'occasion': 60, 'colonels': 6, 'approvingly': 14, 'dmtrievnas': 0, 'inquired': 39, 'demanded': 40, 'exciting': 4, 'truce': 14, 'fret': 4, 'spare': 25, 'battle': 420, 'carried': 98, 'concentrated': 23, 'natshas': 0, 'reckless': 7, 'resolution': 23, 'contralto': 1, 'audible': 20, 'sternly': 39, 'threatening': 28, 'forbidding': 5, 'sweets': 6, 'frown': 111, 'fat': 560, 'threateningly': 10, 'uncertain': 16, 'sally': 1, 'care': 210, 'boldly': 22, 'saucy': 1, 'gaiety': 13, 'confident': 42, 'doubled': 4, 'ice': 2138, 'pudding': 3, 'braved': 1, 'cream': 58, 'carrot': 0, 'ices': 195, 'screamed': 31, 'incredible': 5, 'boldness': 9, 'smartness': 2, 'dared': 31, 'desisted': 1, 'pineapple': 3, 'champagne': 7, 'seats': 6, 'clink': 4, 'redder': 3, 'sets': 10, 'library': 6, 'fanwise': 1, 'after-dinner': 5, 'nap': 183, 'instigation': 1, 'clavichord': 22, 'harp': 69, 'request': 26, 'variations': 2, 'begging': 10, 'noted': 7, 'musical': 7, 'talent': 9, 'sing': 1078, 'treated': 45, 'proud': 41, 'brook': 3, 'snyas': 0, 'chest': 77, 'passage': 61, 'mourning': 6, 'female': 6, 'downward': 18, 'nurses': 13, 'feather': 16, 'top': 450, 'crumpling': 3, 'gauzy': 1, 'pink': 13, 'sobbing': 22, 'convulsively': 6, 'saints': 9, 'shiver': 13, 'drooped': 3, 'oo': 7153, 'widened': 2, 'wail': 19, 'baby': 42, 'lift': 129, 'deeper': 15, 'blue-striped': 1, 'hugging': 4, 'weeks': 37, 'paper': 111, 'handwith': 1, 'envious': 9, 'gaining': 9, 'difficulties': 18, 'metropolitan': 0, 'spoiling': 7, 'heartless': 4, 'ungrateful': 2, 'truly': 8, 'witness': 23, 'willingly': 7, 'sacrifice': 70, 'consoling': 5, 'copied': 6, 'shed': 918, 'sob': 102, 'bitterly': 6, 'hugged': 4, 'comforting': 11, 'cousins': 3, 'spiteful': 6, 'jump': 63, 'paws': 2, 'worsted': 1, 'crisp': 1, 'lock': 149, 'strayed': 3, 'clung': 10, 'tucking': 2, 'bony': 7, 'sang': 36, 'quartette': 1, 'song': 45, 'learned': 62, 'nighttime': 1, 'moons': 2, 'glow': 35, 'sweet': 41, 'fancies': 7, 'wander': 16, 'thee': 15, 'wafting': 0, 'music': 61, 'oer': 4, 'lea': 1714, 'swells': 2, 'message': 14, 'bliss': 21, 'unspoilt': 1, 'verse': 78, 'dance': 125, 'coughing': 4, 'musicians': 5, 'walking': 42, 'dancers': 9, 'figures': 29, 'teacher': 7, 'tuning': 1, 'conspicuous': 4, 'fan': 168, 'pose': 293, 'fanning': 2, 'crossed': 65, 'cossaise': 8, 'majority': 12, 'stretching': 15, 'replacing': 3, 'purses': 1, 'pocketbooks': 1, 'countenances': 2, 'somewhat': 15, 'ballet': 3, 'debonair': 1, 'gallantry': 1, 'clapped': 2, 'violin': 4, 'semn': 0, 'daniel': 0, 'cooper': 2, 'strictly': 6, 'anglaise': 3, 'jovial': 2, 'gentleman': 44, 'straightened': 6, 'toes': 23, 'tapped': 3, 'broadened': 1, 'onlookers': 5, 'provocatively': 2, 'resembling': 13, 'peasant': 193, 'doorways': 2, 'domestic': 22, 'serfsthe': 2, 'otherwho': 2, 'master': 147, 'eagle': 7, 'handed': 59, 'spectators': 2, 'unexpectedness': 2, 'adroit': 10, 'maneuvers': 20, 'agility': 7, 'capered': 1, 'impression': 56, 'exertionsthe': 1, 'bend': 29, 'stamp': 11, 'footwhich': 1, 'view': 180, 'size': 12, 'livelier': 6, 'evolutions': 5, 'watching': 36, 'urging': 10, 'couple': 38, 'intervals': 11, 'faster': 20, 'whirled': 4, 'executed': 36, 'pas': 738, 'backwards': 10, 'bowing': 26, 'perspiring': 15, 'sweep': 3, 'thunder': 11, 'applause': 2, 'partners': 8, 'handkerchiefs': 5, 'puffing': 8, 'sixth': 22, 'tune': 80, 'blundered': 4, 'cooks': 6, 'stroke': 20, 'pronounced': 6, 'recovery': 4, 'mute': 6, 'confession': 6, 'communion': 5, 'administered': 4, 'preparations': 18, 'sacrament': 9, 'unction': 22, 'bustle': 11, 'thrill': 5, 'suspense': 4, 'beyond': 99, 'gates': 23, 'undertakers': 1, 'expectation': 23, 'expensive': 8, 'funeral': 8, 'governor': 45, 'assiduous': 3, 'aides-de-camp': 16, 'inquire': 50, 'bid': 26, 'farewell': 9, 'magnificent': 3, 'clergy': 7, 'thinner': 8, 'paler': 5, 'escorted': 4, 'leg': 262, 'leaning': 50, 'covering': 23, 'unusually': 8, 'corridor': 23, 'dimly': 16, 'whispers': 12, 'expectancy': 2, 'creaked': 11, 'limits': 6, 'oerpassed': 1, 'priest': 40, 'administer': 6, 'priests': 17, 'clerical': 2, 'madam': 13, 'grizzled': 3, 'strands': 1, 'combed': 3, 'young-looking': 2, 'sixty': 14, 'sickroom': 1, 'catherine': 0, 'feels': 26, 'medicine': 19, 'boiled': 5, 'water': 99, 'tartar': 1, 'dere': 377, 'neffer': 1, 'gase': 1, 'dat': 74, 'liffs': 3, 'sird': 1, 'well-preserved': 1, 'vont': 1, 'according': 70, 'lorrains': 0, 'instructions': 39, 'negative': 7, 'decorous': 2, 'self-satisfaction': 10, 'patients': 4, 'tiny': 17, 'lamps': 5, 'burning': 58, 'icons': 29, 'scent': 28, 'flowers': 10, 'pastilles': 1, 'pieces': 20, 'furniture': 10, 'whatnots': 1, 'cupboards': 3, 'quilt': 17, 'screen': 20, 'bark': 9, 'extremely': 15, 'smooth': 48, 'varnish': 3, 'catiche': 0, 'seating': 3, 'wearily': 6, 'vacated': 2, 'warm': 93, 'sit': 1180, '*catherine': 0, 'stonily': 1, 'referred': 31, 'naming': 3, 'rigid': 10, 'abnormally': 1, 'directly': 32, 'emotion': 35, 'easier': 11, 'cheeks': 34, 'twitch': 35, 'impudently': 2, 'lap': 59, 'resolved': 23, 'break': 72, 'semnovna': 0, 'theme': 5, 'struggle': 38, 'testily': 2, 'weyou': 1, 'mmontov': 0, 'wifeare': 1, 'heirs': 14, 'definitely': 15, 'pray': 113, 'merciful': 6, 'peacefully': 7, 'impatiently': 11, 'property': 39, 'wills': 13, 'estate': 97, 'clutching': 11, 'legitimation': 1, 'services': 12, 'granted': 9, 'discussion': 24, 'seizing': 27, 'sighed': 55, 'petition': 29, 'legitimate': 18, 'share': 41, 'daylight': 9, 'legal': 10, 'overlooked': 2, 'sardonically': 1, 'btard*': 0, 'supposing': 16, 'translation': 1, 'effectively': 1, 'invalidity': 2, 'contention': 2, 'bastard': 2, 'consolation': 17, 'dutiful': 2, 'et': 7459, 'tout': 61, 'ce': 13112, 'sensuit*': 0, 'therefrom': 1, 'perfect': 56, 'assume': 80, 'wrangle': 1, 'kinswoman': 1, 'heiresses': 6, 'expert': 2, 'onfrich': 0, 'solicitor': 1, 'sudden': 401, 'transitions': 2, 'gratitudethis': 1, 'recognition': 11, 'sacrificed': 7, 'meanness': 3, 'deceit': 4, 'envy': 14, 'intrigue': 25, 'ingratitudethe': 1, 'blackest': 1, 'ingratitudein': 1, 'insisted': 35, 'twitching': 15, 'vile': 24, 'intriguing': 3, 'race': 143, 'casually': 8, 'rectify': 3, 'injustice': 7, 'rendering': 7, 'risen': 23, 'justice': 31, 'cunning': 20, 'reasonable': 23, 'sensibly': 3, 'destroy': 109, 'conscientiously': 2, 'intriguingi': 0, 'protg': 7, 'housemaid': 3, 'infamous': 2, 'wheedled': 1, 'disgraceful': 6, 'sophiei': 0, 'repeat': 227, 'themthat': 2, 'fortnight': 18, 'weve': 109, 'lastwhy': 1, 'inlaid': 3, 'portfolio': 10, 'keeps': 5, 'pillow': 31, 'ignoring': 1, 'shrieked': 8, 'worming': 1, 'containing': 14, 'accompany': 18, 'driving': 35, 'rolled': 41, 'windows': 23, 'comfort': 97, 'asleep': 78, 'woke': 36, 'rousing': 7, 'awaited': 35, 'tradespeople': 1, 'shadow': 29, 'pausing': 7, 'coachman': 48, 'narrow': 28, 'stone': 31, 'lagging': 5, 'judging': 16, 'haste': 62, 'knocked': 17, 'pails': 1, 'boots': 64, 'clattering': 3, 'evince': 3, 'permissible': 1, 'id': 8641, 'afternoon': 14, 'hadnt': 7, 'wrongs': 5, 'agony': 4, 'trust': 63, 'stronger': 41, 'meekly': 10, 'servant': 106, 'knitting': 8, 'stocking': 23, 'existence': 31, 'decanter': 3, 'tray': 42, 'instinctively': 12, 'slammed': 9, 'action': 375, 'composure': 10, 'depicted': 5, 'guide': 30, 'evinced': 1, 'faintly': 3, 'sumptuous': 2, 'approach': 162, 'bath': 17, 'spilled': 3, 'carpet': 25, 'deacon': 11, 'censer': 2, 'tiptoe': 24, 'bust': 24, 'whispering': 18, 'decisive': 20, 'admission': 3, 'assured': 28, 'casting': 4, 'rapid': 158, 'confessor': 2, 'glided': 5, 'amble': 9, 'exactly': 28, 'seeming': 13, 'grow': 198, 'smaller': 13, 'blessing': 14, 'cast': 61, 'upwards': 6, 'closing': 16, 'respectful': 65, 'disappeared': 33, 'monitress': 2, 'implicitly': 2, 'awe': 26, 'servility': 2, 'deference': 5, 'glove': 24, 'obliged': 19, 'rite': 144, 'bound': 68, 'symmetrically': 5, 'egyptian': 0, 'statue': 6, 'yield': 27, 'guiding': 4, 'majestically': 3, 'ascertain': 7, 'hesitated': 10, 'blow': 60, 'perplexity': 25, 'grasped': 4, 'jerked': 11, 'deacons': 2, 'servants': 62, 'discharge': 10, 'divine': 28, 'inexhaustible': 3, 'stepping': 21, 'permission': 30, 'divided': 20, 'columns': 41, 'arch': 263, 'walls': 28, 'hung': 76, 'persian': 0, 'carpets': 12, 'silk-curtained': 1, 'mahogany': 2, 'bedstead': 10, 'brightly': 23, 'illuminated': 6, 'church': 70, 'gleaming': 3, 'snowy-white': 1, 'pillows': 11, 'freshly': 11, 'sawcovered': 1, 'waist': 29, 'green': 51, 'quiltthe': 1, 'majestic': 25, 'mane': 41, 'lion': 134, 'characteristically': 3, 'ruddy': 5, 'wax': 17, 'taper': 7, 'forefinger': 2, 'thumb': 6, 'glittering': 33, 'vestments': 2, 'tapers': 2, 'conducting': 5, 'vicious': 12, 'declaring': 4, 'meek': 19, 'sorrowful': 11, 'all-forgiving': 1, 'carved': 5, 'upward': 8, 'piety': 2, 'sentiments': 4, 'menservants': 2, 'separated': 31, 'chanting': 20, 'sighs': 4, 'shuffling': 6, 'distracted': 8, 'observing': 9, 'sophie': 0, 'laughter-loving': 1, 'hidden': 21, 'awhile': 14, 'resist': 44, 'temptation': 13, 'stooping': 14, 'beckoned': 10, 'implying': 4, 'foreigner': 15, 'differences': 4, 'approved': 15, 'sick': 61, 'noiseless': 12, 'vigor': 19, 'pulse': 39, 'interval': 16, 'andwith': 2, 'intimated': 1, 'themdid': 1, 'silken': 1, 'hangings': 1, 'occurrence': 12, 'happening': 45, 'congratulating': 1, 'immovable': 1, 'surrounded': 63, 'reddish-yellow': 1, 'manewhich': 1, 'judged': 8, 'cautious': 15, 'underneath': 1, 'heavy': 51, 'bearers': 8, 'weight': 24, 'glimpse': 12, 'backs': 9, 'uncovered': 5, 'armpits': 3, 'leonine': 1, 'brow': 83, 'cheekbones': 3, 'sensual': 2, 'disfigured': 4, 'helplessly': 7, 'uneven': 7, 'gaze': 113, 'stately': 4, 'completed': 8, 'propped': 5, 'palms': 4, 'significance': 71, 'mortal': 17, 'suggestion': 14, 'boned': 5, 'fleshy': 3, 'stirred': 12, 'obediently': 4, 'symmetrical': 6, 'utmost': 12, 'lasted': 18, 'muscles': 3, 'increased': 45, 'realize': 74, 'issued': 24, 'hoarse': 25, 'fruitless': 2, 'terror': 37, 'flitted': 7, 'brain': 13, 'refractory': 1, 'terror-stricken': 1, 'feeble': 28, 'deride': 1, 'helplessness': 2, 'unexpected': 92, 'tickling': 2, 'dimmed': 3, 'dozing': 5, 'sympathetic': 7, 'squeeze': 11, 'refreshing': 2, 'sleepless': 14, 'delicious': 7, 'restrained': 9, 'sipping': 2, 'chinese': 0, 'handleless': 1, 'circular': 5, 'fortify': 5, 'mirrors': 9, 'pearls': 9, 'brilliantly': 3, 'disorder': 38, 'motley': 2, 'throng': 17, 'merrymaking': 2, 'somberly': 1, 'bedroom': 24, 'excited': 68, 'permit': 13, 'speakers': 4, 'blandly': 5, 'impressively': 2, 'preventing': 2, 'needs': 32, 'repose': 4, 'worldly': 10, 'flabby': 2, 'heavier': 6, 'violently': 9, 'pleases': 8, 'writing': 46, 'sprang': 22, 'bar': 245, 'implore': 8, 'en': 26101, 'conjure': 1, 'efforts': 45, 'flattering': 12, 'tenaciously': 2, 'honeyed': 1, 'firmness': 15, 'consultation': 13, 'permits': 3, 'threshold': 12, 'intriguer': 3, 'hissed': 3, 'viciously': 2, 'grip': 9, 'satisfy': 11, 'astonishment': 13, 'consequences': 7, 'darting': 1, 'noisily': 8, 'banged': 2, 'wringing': 1, 'recovering': 5, 'biting': 7, 'underlip': 1, 'irrepressible': 8, 'bursting': 5, 'staggered': 4, 'jaw': 17, 'ague': 36, 'sincerity': 8, 'deceive': 25, 'slow': 53, 'wetting': 1, 'weep': 44, 'loss': 75, 'imposes': 1, 'coloring': 2, 'shyly': 12, 'acquaintances': 39, 'details': 36, 'died': 68, 'edifying': 2, 'momentsthe': 1, 'pitiful': 11, 'stricken': 7, 'grief': 36, 'sadden': 2, 'uplifts': 1, 'disapprovingly': 8, 'andrevich': 0, 'daily': 6, 'routine': 8, 'paul': 8, 'exiled': 3, 'continuously': 7, 'bourienne': 0, 'reign': 142, 'capitals': 4, 'remarking': 4, 'miles': 75, 'needed': 62, 'sources': 8, 'viceidleness': 1, 'superstition': 4, 'virtuesactivity': 1, 'undertook': 3, 'develop': 13, 'cardinal': 1, 'virtues': 12, 'algebra': 1, 'geometry': 5, 'memoirs': 5, 'solving': 3, 'problems': 5, 'mathematics': 7, 'snuffboxes': 2, 'lathe': 12, 'working': 21, 'garden': 58, 'superintending': 1, 'building': 37, 'regularity': 4, 'prime': 2, 'facilitating': 1, 'activity': 113, 'exactitude': 3, 'conditions': 60, 'invariably': 3, 'exacting': 3, 'hardhearted': 2, 'aroused': 30, 'retirement': 5, 'province': 35, 'antechamber': 6, 'architect': 14, 'gardener': 6, 'punctually': 1, 'enormously': 6, 'powdered': 11, 'wig': 15, 'withered': 5, 'bushy': 6, 'shrewd': 10, 'youthfully': 1, 'trepidation': 3, 'prayer': 51, 'prayed': 24, 'manservant': 2, 'hum': 254, 'noiselessly': 8, 'books': 31, 'plans': 55, 'glass-fronted': 1, 'bookcases': 1, 'keys': 10, 'desk': 6, 'exercise': 16, 'tools': 7, 'shavings': 2, 'scattered': 17, 'aroundall': 1, 'continuous': 19, 'varied': 2, 'orderly': 53, 'shod': 5, 'boot': 89, 'lean': 153, 'sinewy': 5, 'tenacious': 4, 'endurance': 7, 'hardy': 1, 'turns': 27, 'pedal': 1, 'wiped': 15, 'chisel': 2, 'leather': 20, 'pouch': 6, 'summoned': 19, 'bristly': 1, 'cheek': 62, 'unshaven': 2, 'page': 30, 'scratch': 11, 'paragraph': 17, 'nail': 7, 'patches': 9, 'hlose': 0, 'yellowish': 4, 'letters': 61, 'abruptly': 10, 'geometrical': 2, 'acrid': 1, 'triangles': 1, 'angle': 32, 'abc': 0, 'explanations': 8, 'teachers': 3, 'fault': 44, 'pupils': 10, 'dim': 71, 'conscious': 171, 'breath': 82, 'problem': 26, 'vehement': 4, 'scolded': 1, 'flung': 14, 'sharply': 19, 'paced': 28, 'lesson': 23, 'patted': 12, 'uncut': 1, 'key': 38, 'mysteries': 3, 'religious': 8, 'anyones': 8, 'belief': 16, 'rarely': 20, 'sickly': 5, 'plainer': 3, 'miniature': 2, 'portraits': 3, 'littered': 21, 'untidy': 1, 'tidy': 4, 'seal': 19, 'name-day': 1, 'frightful': 5, 'separation': 10, 'separating': 7, 'united': 18, 'indissoluble': 3, 'bonds': 4, 'rebels': 1, 'pleasures': 13, 'distractions': 3, 'overcome': 11, 'parted': 19, 'draw': 347, 'moral': 43, 'penetrating': 8, 'ungraceful': 2, 'hopelessness': 5, 'reflection': 32, 'flatters': 1, 'flatter': 33, 'eyeslarge': 1, 'luminous': 10, 'radiated': 3, 'shafts': 4, 'lightwere': 0, 'attraction': 12, 'eyesthe': 1, 'talks': 13, 'brothers': 45, 'frontier': 22, 'intends': 5, 'expose': 28, 'chances': 14, 'corsican': 0, 'monster': 4, 'destroying': 15, 'overthrown': 2, 'angel': 43, 'almighty': 1, 'deprived': 18, 'nearest': 31, 'inactive': 6, 'departure': 49, 'noble-minded': 2, 'youthfulness': 4, 'seldom': 11, 'nowadays': 12, 'pure': 29, 'poetic': 16, 'transient': 2, 'sweetest': 1, 'comforts': 9, 'suffered': 35, 'someday': 5, 'parting': 8, 'poignant': 1, 'sorrows': 5, 'fortunate': 34, 'intimacy': 15, 'gossips': 2, 'inheritance': 6, 'inherited': 2, 'possessor': 6, 'finest': 3, 'rumored': 5, 'despicable': 2, 'crestfallen': 1, 'owner': 36, 'largest': 11, 'fortunes': 16, 'burdened': 5, 'marriageable': 3, 'chronicles': 1, 'bezkhova': 0, 'marriages': 2, 'universal': 24, 'auntie': 1, 'strict': 42, 'secrecy': 6, 'marriage': 66, 'distingue': 1, 'fallen': 55, 'scapegrace': 3, 'sheet': 31, 'mystical': 4, 'grasp': 34, 'admirable': 9, 'calms': 1, 'elevates': 1, 'respects': 6, 'compliments': 2, 'ps': 1081, 'transformed': 6, 'tread': 13, '13th': 3, 'delight': 89, 'romantic': 9, 'religion': 21, 'feelings': 68, 'approve': 27, 'condemn': 19, 'neighbor': 52, 'enemy': 264, 'worthier': 1, 'sweeter': 2, 'inspire': 22, 'loving': 38, 'representative': 16, 'century': 10, 'preserve': 17, 'misfortune': 39, 'quality': 23, 'saviours': 0, 'camel': 1, 'kingdom': 12, 'terribly': 15, 'richesto': 1, 'temptations': 7, 'exposed': 19, 'poorer': 4, 'poorest': 2, 'beggar': 6, 'thanks': 25, 'volume': 3, 'contains': 1, 'useless': 39, 'fondness': 1, 'confusing': 3, 'dwelling': 3, 'awaken': 27, 'doubts': 26, 'excite': 118, 'imagination': 37, 'exaggeration': 1, 'simplicity': 19, 'epistles': 0, 'gospels': 0, 'seek': 58, 'penetrate': 10, 'miserable': 7, 'sinners': 4, 'holy': 55, 'providence': 1, 'flesh': 27, 'forms': 56, 'impenetrable': 4, 'veil': 16, 'eternal': 20, 'confine': 17, 'studying': 7, 'sublime': 6, 'rules': 30, 'guidance': 7, 'conform': 5, 'persuaded': 9, 'rejects': 2, 'fathom': 11, 'conceal': 51, 'vouchsafe': 1, 'revelation': 3, 'suitor': 12, 'institution': 13, 'faithfully': 3, 'disquieting': 3, 'examining': 20, 'announces': 1, 'speedy': 3, 'brief': 20, 'areat': 1, 'worldis': 1, 'fieldwork': 1, 'naturewhich': 1, 'townsfolk': 2, 'characteristic': 23, 'countryrumors': 1, 'painfully': 22, 'marches': 10, 'countermarches': 1, 'witnessed': 13, 'heartrending': 1, 'convoy': 30, 'conscripts': 1, 'enrolled': 6, 'wives': 12, 'sobs': 41, 'laws': 107, 'injuriesand': 1, 'attribute': 22, 'merit': 22, 'skill': 33, 'killing': 20, 'all-powerful': 3, 'dispatched': 9, 'mellow': 1, 'guttural': 2, 'marys': 0, 'strenuous': 4, 'atmosphere': 18, 'lighthearted': 6, 'grasseyement': 1, 'scolding': 3, 'ivnovich': 0, 'humor': 26, 'morose': 19, 'practice': 10, 'mapped': 1, 'gray-haired': 4, 'valet': 47, 'drowsily': 1, 'snoring': 5, 'passagestwenty': 1, 'repeatedof': 1, 'sonata': 3, 'dussek': 0, 'hood': 80, 'alight': 7, 'tkhon': 0, 'reported': 36, 'sleeping': 20, 'unusual': 24, 'event': 298, 'habits': 17, 'stouter': 6, 'palace': 25, 'practicing': 2, 'courteous': 9, 'fair-haired': 10, 'frenchwoman': 0, 'sister-in-laws': 8, 'oft-repeated': 1, 'wedding': 14, 'whatever': 46, 'beatific': 4, 'equally': 19, 'lovers': 9, 'false': 51, 'otherwise': 23, 'dreamed': 14, 'nightyou': 0, 'crybaby': 1, 'incessantly': 19, 'nether': 1, 'accident': 16, 'spsski': 0, 'hill': 127, 'informed': 38, 'clothes': 32, 'kitty': 0, 'odntsova': 0, 'independent': 34, 'promotion': 10, 'descended': 25, 'walks': 3, 'avenues': 2, 'weaknesses': 4, 'gleefully': 3, 'delights': 1, 'old-fashioned': 6, 'antique': 4, 'dressing': 154, 'contemptuous': 31, 'leather-covered': 1, 'powdering': 1, 'entrusting': 2, 'warrior': 10, 'vanquish': 10, 'plait': 20, 'tackle': 2, 'subjects': 12, 'temper': 27, 'silverbefore': 1, 'golden': 15, 'sidelong': 4, 'topicmaking': 1, 'fun': 70, 'abstemious': 1, 'hobby': 2, 'germans': 0, 'science': 71, 'strategy': 2, 'collect': 102, 'wits': 4, 'foibles': 1, 'honoring': 1, 'settle': 87, 'pigtail': 1, 'plaited': 7, 'grasping': 8, 'nineteen': 10, 'dozen': 27, 'mikhelsons': 0, 'understandtolsty': 0, 'simultaneous': 18, 'southern': 5, 'neutral': 3, 'handing': 13, 'articles': 9, 'clothing': 6, 'sweden': 0, 'pomerania': 0, 'beganat': 1, 'unconsciously': 23, 'operation': 12, 'campaign': 116, 'ninety': 2, 'threaten': 45, 'swedish': 0, 'stralsund': 0, 'austrians': 0, 'operate': 8, 'italy': 0, 'land': 175, 'naples': 0, 'total': 12, 'explanation': 48, 'confined': 12, 'reproachfully': 15, 'interruption': 1, 'malbrook': 0, 'sen': 1464, 'va-t-en': 1, 'guerre': 2, 'sait': 4, 'quand': 3, 'reviendra': 3, 'marlborough': 0, 'meditatively': 2, 'shaven': 18, 'daughter-in-law': 6, 'caprice': 7, 'employers': 2, 'admitted': 27, 'individual': 36, 'caused': 52, 'distinctions': 5, 'officials': 15, 'selected': 12, 'illustrate': 1, 'equals': 2, 'impressed': 8, 'whit': 216, 'usually': 43, 'taciturn': 8, 'members': 55, 'footmenone': 1, 'chairstood': 1, 'scanning': 6, 'gilt': 5, 'genealogical': 2, 'tree': 193, 'painted': 8, 'artist': 8, 'ruling': 4, 'crownan': 1, 'alleged': 5, 'descendant': 3, 'rrik': 0, 'ancestor': 5, 'laughs': 2, 'original': 19, 'reverence': 2, 'achilles': 0, 'heel': 79, 'indulging': 1, 'criticism': 6, 'contrasting': 2, 'briskness': 3, 'formality': 3, 'shrill': 12, 'courtiers': 18, 'tsar': 1, 'enters': 12, 'sensation': 19, 'ho': 13280, 'rounded': 70, 'hurry': 49, 'mutual': 12, 'chattered': 5, 'various': 88, 'retelling': 2, 'sufficiently': 11, 'collected': 20, 'peg': 7, 'hang': 327, 'tactician': 2, 'statesmen': 2, 'babies': 4, 'b': 31051, 'c': 59507, 'frenchy': 0, 'successful': 22, 'potmkins': 0, 'oppose': 16, 'puppet': 3, 'pretending': 15, 'ridicule': 19, 'moreau': 0, 'frederick': 0, 'prisoner': 160, 'hofs-kriegs-wurst-schnapps-rath': 0, 'puzzled': 6, 'hofs-kriegs-wurst-raths': 0, 'chance': 69, 'pahlen': 0, 'york': 0, 'america': 0, 'alluding': 7, 'orlvs': 0, 'outlived': 2, 'hoped': 26, 'spoon': 8, 'soldiers': 357, 'attacking': 20, 'idlers': 1, 'beaten': 29, 'oneexcept': 1, 'fighting': 44, 'blunders': 4, 'campaigns': 8, 'arguments': 22, 'presented': 89, 'refraining': 3, 'involuntarily': 69, 'minutely': 6, 'acutely': 3, 'recent': 28, 'european': 0, 'events': 124, 'troubles': 12, 'admirer': 2, 'powder-monkey': 1, 'bonapartist': 0, 'quitted': 6, 'father-in-law': 7, 'retired': 29, 'traveling': 19, 'epaulettes': 3, 'packing': 16, 'inspecting': 5, 'trunks': 8, 'harnessed': 15, 'box': 86, 'canteen': 7, 'fitted': 6, 'pistols': 7, 'sabera': 1, 'siege': 4, 'ochkov': 0, 'effects': 7, 'cloth': 66, 'covers': 4, 'tapes': 3, 'journey': 54, 'mode': 51, 'reviews': 4, 'thoughtfully': 7, 'wifeperhaps': 0, 'unclasped': 1, 'cover': 208, 'tranquil': 43, 'harness': 41, 'panting': 11, 'andrsha': 0, 'andrshathe': 0, 'mischievous': 4, 'playfellow': 1, 'indulgent': 3, 'comprendre': 1, 'cest': 16, 'pardonner': 1, 'buried': 5, 'alonefor': 1, 'resources': 3, 'entertaining': 6, 'savage': 8, 'likes': 8, 'sterne': 0, 'homeless': 1, 'reads': 9, 'evenings': 6, 'aghast': 3, 'harsh': 11, 'puzzle': 7, 'test': 124, 'trend': 5, 'conversationand': 1, 'veneration': 3, 'evoke': 13, 'contented': 18, 'incredulously': 3, 'intellect': 39, 'fail': 56, 'astray': 5, 'shade': 24, 'improvement': 7, 'satire': 1, 'bitter': 24, 'monk': 12, 'wasting': 4, 'powder': 40, 'banteringly': 1, 'ami': 462, 'nopromise': 0, 'unworthy': 8, 'inside': 20, 'guessing': 9, 'grandfather': 8, 'bless': 31, 'icon': 71, 'weigh': 38, 'hundredweight': 1, 'pained': 6, 'repented': 2, 'trembling': 42, 'oval': 38, 'dark-faced': 2, 'wrought': 1, 'rays': 13, 'generous': 6, 'harshly': 2, 'complained': 6, 'msha': 1, 'blamed': 11, 'forebodings': 1, 'confinement': 4, 'dreaded': 8, 'reproached': 15, 'unaccustomed': 4, 'darkness': 53, 'orgo': 72, 'wake': 69, 'petrshka': 0, 'maybe': 3, 'wing': 699, 'artless': 6, 'secluded': 2, 'passages': 9, 'contempt': 61, 'awake': 45, 'self-restraint': 3, 'zbova': 1, 'cheat': 3, 'ha': 26419, 'reminiscences': 9, 'coach': 76, 'autumn': 29, 'pole': 590, 'lanterns': 5, 'old-age': 1, 'dilly-dallying': 1, 'apron': 13, 'strings': 7, 'quill': 25, 'squeaked': 4, 'due': 86, 'accoucheur': 1, 'million': 46, 'cases': 24, 'dream': 72, 'signed': 29, 'flourish': 22, 'briefly': 9, 'theyre': 13, 'unmarry': 1, 'keen': 20, 'fold': 63, 'throwing': 27, 'rapidity': 19, 'abrupt': 16, 'sealing': 7, 'displeased': 16, 'worry': 10, 'receives': 10, 'rightserve': 1, 'disfavor': 4, '*kutzov': 0, 'lid': 74, 'drawer': 7, 'handwriting': 3, 'lombard': 0, 'bond': 11, 'premium': 1, 'history': 152, 'academy': 0, 'jottings': 1, 'useful': 24, 'youas': 1, 'twitched': 15, 'spectacled': 3, 'wigless': 1, 'ironic': 37, 'performance': 13, 'unconscious': 44, 'cautiously': 11, 'released': 10, 'chafing': 1, 'temples': 16, 'supporting': 7, 'pistol': 43, 'shots': 23, 'frequent': 32, 'blowing': 9, 'reprovingly': 1, 'october': 0, 'villages': 29, 'towns': 15, 'archduchy': 0, 'regiments': 35, 'arriving': 14, 'fortress': 7, 'braunau': 0, 'burdening': 2, 'inhabitants': 43, 'quartered': 10, 'headquarters': 41, 'halted': 26, 'mile': 665, 'inspected': 5, 'un-russian': 0, 'locality': 10, 'surroundingsfruit': 1, 'gardens': 5, 'fences': 4, 'tiled': 1, 'roofs': 21, 'distanceand': 1, 'inspect': 23, 'regimental': 49, 'arose': 21, 'troops': 261, 'marching': 26, 'battalion': 69, 'commanders': 65, 'parade': 18, 'principle': 15, 'twenty-mile': 1, 'mending': 3, 'cleaning': 5, 'calculated': 7, 'reckoned': 6, 'regimentinstead': 1, 'straggling': 3, 'disorderly': 7, 'crowd': 293, 'beforepresented': 1, 'well-ordered': 3, 'array': 2, 'button': 34, 'strap': 10, 'cleanliness': 7, 'externally': 3, 'uniforms': 35, 'knapsack': 15, 'awl': 40, 'soap': 1, 'circumstance': 53, 'concerning': 30, 'holes': 4, 'demands': 16, 'austrian': 0, 'commissariat': 14, 'marched': 23, 'choleric': 2, 'thick-set': 1, 'whiskers': 6, 'wider': 2, 'brand-new': 2, 'creases': 15, 'folded': 27, 'stand': 702, 'lie': 887, 'massive': 4, 'happily': 14, 'performing': 8, 'arching': 49, 'admired': 12, 'rejoiced': 4, 'engrossed': 12, 'strut': 1, 'sex': 6, 'mtrich': 11, 'perceived': 3, 'field': 215, 'tsartsin': 0, 'meadow': 20, 'road': 361, 'signalers': 1, 'posted': 9, 'confirm': 45, 'worded': 3, 'namely': 16, 'greatcoats': 10, 'packs': 7, 'preparation': 29, 'hofkriegsrath': 0, 'proposals': 8, 'archduke': 2, 'ferdinand': 0, 'mack': 7, 'junction': 15, 'advisable': 1, 'resolutely': 20, 'sergeants': 4, 'major': 58, 'relating': 14, 'personage': 27, 'companies': 17, 'sway': 61, 'stretch': 70, 'knapsacks': 8, 'jerk': 23, 'straps': 3, 'unstrapping': 1, 'overcoats': 7, 'upraised': 1, 'jerky': 5, 'misrepeated': 1, 'destination': 6, 'middle-aged': 6, 'trotted': 7, 'captains': 12, 'uneasiness': 8, 'schoolboy': 8, 'spots': 4, 'intemperance': 1, 'captain': 90, 'slackening': 4, 'pace': 145, 'petticoats': 2, 'thrusting': 6, 'soldier': 547, 'greatcoat': 24, 'bluish': 6, 'contrasted': 2, 'teach': 40, 'coats': 31, 'rigidly': 1, 'salvation': 9, 'austere': 2, 'gibe': 1, 'nobody': 27, 'reduced': 12, 'marshal': 66, 'regulation': 6, 'cooling': 1, 'renewed': 9, 'decently': 4, 'directed': 51, 'wrath': 13, 'snapped': 2, 'unpolished': 1, 'h-o-o-w': 0, 'wheres': 4, 'bluish-gray': 1, 'sergeant': 40, 'ras': 191, 'insults': 1, 'tight': 22, 'signaler': 2, 'stirrup': 10, 'saddle': 55, 'righted': 2, 'awry': 4, 'shout': 414, 'fluttered': 4, 'bird': 19, 'preening': 1, 'plumage': 1, 'motionless': 33, 'att-ention': 0, 'soul-shaking': 1, 'welcome': 27, 'edged': 12, 'trees': 37, 'viennese': 0, 'calche': 32, 'creaking': 7, 'springs': 8, 'smart': 27, 'trot': 55, 'galloped': 100, 'suite': 91, 'croats': 0, 'treading': 5, 'breathlessly': 4, 'jingling': 9, 'amidst': 1, 'roared': 6, 'ex': 3105, 'len': 909, 'lency': 129, 'saluted': 3, 'devoured': 2, 'obsequiously': 2, 'subordinate': 11, 'zeal': 15, 'strictness': 2, 'assiduity': 1, 'comparison': 13, '217': 1, 'stragglers': 7, 'blaming': 4, 'miss': 189, 'chiefs': 32, 'comrade': 65, 'nesvtski': 0, 'moist': 18, 'provoked': 5, 'swarthy': 5, 'mimicked': 5, 'nudged': 3, 'wag': 77, 'sockets': 1, 'timkhin': 0, 'recognizing': 30, 'red-nosed': 4, 'reprimanded': 3, 'extent': 13, 'sustained': 2, 'flitting': 1, 'scarred': 3, 'puffy': 6, 'ismail': 0, 'brave': 31, 'latterunconscious': 1, 'glassstarted': 1, 'predilection': 1, 'bacchus': 0, 'drawn-in': 1, 'stomach': 19, 'complete': 94, 'recollect': 31, 'remind': 38, 'complaint': 7, 'shant': 15, 'tear': 189, 'convention': 6, 'separates': 2, 'deliberate': 21, 'atone': 5, 'quarters': 97, 'grudge': 14, 'prokhr': 0, 'igntych': 0, 'overtaking': 6, 'riding': 68, 'hasty': 5, 'apologize': 10, 'butt': 43, 'gun': 242, 'himhe': 7, 'pleaseive': 0, 'askhow': 1, 'punctilious': 2, 'wild': 35, 'beast': 25, 'poland': 0, 'jew': 0, 'sought': 32, 'reining': 2, 'mocking': 6, 'vodka': 24, 'praised': 12, 'rode': 240, 'subaltern': 2, 'infected': 8, 'blind': 30, 'sharper-eyed': 1, 'bands': 47, 'smeared': 8, 'chalkas': 1, 'flour': 28, 'polish': 9, 'guns': 102, 'fdeshon': 0, 'battles': 30, 'prussians': 0, 'youd': 10, 'devils': 10, 'quartermasters': 4, 'fifth': 28, 'buckwheat': 5, 'cooked': 3, 'biscuit': 16, 'halt': 53, 'eating': 125, 'wasnt': 6, 'lifts': 2, 'beggarly': 1, 'polesall': 0, 'crownbut': 1, 'singers': 16, 'drummer': 16, 'leader': 31, 'flourishing': 15, 'long-drawn-out': 1, 'commencing': 2, 'dawned': 2, 'sun': 138, 'concluding': 1, 'kmenski': 0, 'composed': 11, 'sung': 6, 'flinging': 3, 'drummera': 1, 'fortylooked': 1, 'seconds': 21, 'bower': 3, 'castanet': 2, 'player': 10, 'flourished': 5, 'castanets': 1, 'swinging': 8, 'spontaneously': 3, 'tramp': 25, 'hoofs': 23, 'singing': 48, 'smartly': 5, 'file': 16, 'flank': 116, 'blue-eyed': 2, 'attracted': 21, 'zherkv': 0, 'ranker': 2, 'cordiality': 3, 'flavor': 2, 'intentional': 9, 'coldness': 8, 'wriggled': 1, 'hawk': 7, 'fly': 108, 'arousing': 6, 'cheerfulness': 4, 'faro': 1, 'sworn': 1, 'reinstated': 2, 'engagement': 45, 'begill': 0, 'native': 9, 'pranced': 3, 'excitedly': 7, 'review': 32, 'advanced': 56, 'required': 17, 'exclamation': 11, 'elegance': 2, 'depended': 17, 'personal': 98, 'francis': 0, 'fulfilled': 13, 'honour': 2, 'supreme': 6, 'skillful': 19, 'generalof': 1, 'manyand': 1, 'grounds': 4, 'option': 1, 'excellencys': 3, 'participation': 7, 'valued': 12, 'depriving': 6, 'laurels': 2, 'win': 1058, 'prearranged': 4, 'highness': 0, 'honored': 21, 'victory': 83, 'aid': 3295, 'defeat': 38, 'confirming': 3, 'rumors': 17, 'afloat': 1, 'macks': 1, 'stated': 14, 'strategically': 1, 'favorable': 7, 'itand': 2, 'ferdinands': 0, 'seventy': 8, 'lech': 0, 'masters': 34, 'ulm': 4, 'advantage': 69, 'commanding': 23, 'danube': 0, 'communications': 1, 'recross': 2, 'river': 91, 'frustrate': 2, 'ally': 965, 'confidently': 5, 'await': 102, 'equipped': 3, 'conjunction': 4, 'deserves': 4, 'mildly': 3, 'wise': 47, 'maxim': 6, 'advising': 3, 'worst': 21, 'jests': 4, 'kozlvski': 0, 'scouts': 5, 'nostitz': 0, 'neat': 30, 'memorandum': 7, 'period': 44, 'indolence': 3, 'brighter': 13, 'overtaken': 6, 'commissions': 8, 'bids': 2, 'industry': 1, 'reputations': 1, 'minority': 3, 'acknowledged': 7, 'imitated': 1, 'disliked': 14, 'conceited': 4, 'advancing': 27, 'maria': 0, 'theresa': 0, 'bandage': 21, 'slamming': 2, 'unknown': 67, 'calmly': 21, 'notebook': 8, 'scribbled': 1, 'pencil': 5, 'tore': 52, 'leaf': 5, 'stretched': 22, 'producing': 7, 'bandaged': 17, 'strides': 7, 'voyez': 1, 'malheureux': 1, 'immobile': 1, 'wave': 52, 'report': 164, 'circulated': 3, 'surrendered': 15, 'proved': 59, 'hitherto': 9, 'disaster': 6, 'armys': 6, 'vividly': 24, 'arrogant': 2, 'encounter': 33, 'genius': 67, 'outweigh': 1, 'disgraced': 6, 'irritated': 14, 'shared': 13, 'glum': 2, 'strauch': 0, 'charge': 51, 'provisioning': 2, 'breathless': 15, 'embarrassing': 6, 'glee': 9, 'seriousness': 4, 'bruised': 4, 'gott': 51, 'wie': 11, 'naiv': 1, 'vent': 420, 'zherkvs': 0, 'untimely': 2, 'jest': 132, 'buffoon': 11, 'dare': 73, 'wide-open': 17, 'congratulated': 6, 'jesting': 11, 'nesvtskis': 0, 'rejoicing': 9, 'successes': 5, 'grieving': 2, 'misfortunes': 13, 'lackeys': 3, 'quarante': 1, 'mille': 3, 'hommes': 2, 'massacrs': 1, 'larme': 15, 'nos': 74, 'allis': 2, 'dtruite': 1, 'trouvez': 1, 'l': 95818, 'mot': 443, 'pour': 24, 'rire': 1, 'strengthening': 3, 'bien': 2, 'garon': 2, 'rien': 615, 'cet': 17, 'individu': 37, 'avez': 1, 'fait': 47, 'mais': 3, 'hobbledehoy': 1, 'amuse': 45, 'russianbut': 0, 'accenthaving': 1, 'massacred': 2, 'allies': 10, '2': 148, 'good-for-nothing': 6, 'stationed': 28, 'squadron': 69, 'salzeneck': 0, 'cavalry-captain': 1, 'densov': 0, 'throughout': 8, 'division': 64, 'vska': 0, 'astir': 2, 'camp': 308, 'proceeding': 9, 'foraging': 5, 'supple': 8, 'loathe': 1, 'bondarnko': 0, 'headlong': 9, 'brotherly': 7, 'goodhearted': 3, 'ukrainian': 0, 'reins': 22, 'snaffle': 1, 'bridle': 8, 'liberal': 8, 'landlord': 8, 'pitchfork': 1, 'clearing': 11, 'manure': 5, 'cowhouse': 1, 'schn': 1, 'gut': 11, 'morgen': 0, 'greet': 50, 'schon': 0, 'fleissig': 1, 'hoch': 2, 'oestreicher': 0, 'russen': 0, 'kaiser': 0, 'hurrah': 13, 'cowshed': 3, 'waving': 14, 'und': 3239, 'ganze': 2, 'welt': 3, 'vivat': 1, 'platoon': 5, 'hay': 28, 'wagged': 2, 'cottage': 3, 'lavrshka': 0, 'densovs': 0, 'rogue': 3, 'wins': 2, 'brag': 4, 'stays': 2, 'rage': 73, 'coffee': 11, 'tousled': 2, 'crumpled': 6, 'shako': 15, 'gloomily': 11, 'lavwska': 0, 'blockhead': 4, 'lavrshkas': 0, 'frulein': 0, 'mathilde': 0, 'weally': 1, 'bwother': 2, 'damned': 6, 'hullo': 0, 'stubby': 1, 'tangled': 12, 'wat': 246, 'rat': 1185, 'cahd': 2, 'gripped': 2, 'fist': 10, 'sparks': 6, 'singles': 2, 'collahs': 1, 'doubles': 2, 'snatches': 3, 'cheerfully': 12, 'foh': 1, 'dwink': 3, 'clinking': 3, 'quartermaster': 19, 'wetched': 1, 'wostv': 0, 'deah': 2, 'shove': 10, 'undah': 1, 'mechanically': 6, 'coins': 1, 'separate': 64, 'piles': 4, 'telynin': 0, 'dye': 8, 'plucked': 3, 'bykovs': 0, 'rats': 16, 'piping': 1, 'damp': 24, 'detested': 4, 'groundless': 3, 'antipathy': 7, 'cavalryman': 5, 'rook': 11, 'sold': 561, 'wandered': 8, 'rubbles': 1, 'begun': 81, 'lame': 118, 'foreleg': 4, 'rivet': 4, 'squatting': 5, 'reporting': 10, 'disgust': 12, 'ugh': 2872, 'regardless': 16, 'indolent': 4, 'disgusting': 2, 'carelessly': 7, 'yesterdays': 9, 'shoe': 27, 'stable': 11, 'hoof': 24, 'sausage': 7, 'scratching': 4, 'witing': 2, 'quicker': 15, 'fwiend': 4, 'childwen': 1, 'falls': 13, 'pua': 1, 'fihst': 1, 'cweation': 1, 'abashed': 15, 'puhse': 1, 'scacwow': 1, 'quahtehmasteh': 1, 'lend': 111, 'bowwowing': 1, 'growled': 3, 'offend': 39, 'miwacle': 1, 'thwow': 1, 'pockets': 7, 'bedding': 3, 'searched': 2, 'twicks': 1, 'congested': 1, 'throat': 28, 'yourselves': 5, 'alive': 48, 'purple': 15, 'flog': 10, 'avoiding': 16, 'buttoning': 7, 'buckled': 4, 'knocking': 8, 'hinted': 6, 'veins': 4, 'cords': 6, 'flay': 4, 'scoundwel': 2, 'unsteady': 6, 'dahe': 1, 'evewybody': 1, 'telynins': 0, 'cadets': 5, 'troubled': 13, 'missed': 27, 'situated': 7, 'inn': 447, 'frequented': 4, 'sausages': 1, 'munching': 7, 'lunch': 13, 'pocket': 33, 'double': 23, 'turned-up': 3, 'waiter': 3, 'coin': 27, 'inaudible': 1, 'shifting': 9, 'feed': 13, 'elses': 5, 'flash': 20, 'electric': 8, 'spark': 29, 'shot': 89, 'catching': 15, 'dragging': 20, 'ear': 3649, 'despairing': 12, 'pardon': 16, 'load': 45, 'quiver': 36, 'shifted': 4, 'ruin': 81, 'retraced': 1, 'squadrons': 6, 'grizzly-haired': 1, 'mustaches': 11, 'krsten': 0, 'regained': 4, 'commission': 34, 'liar': 135, 'lied': 337, 'rests': 71, 'arrest': 26, 'stolen': 13, 'blame': 80, 'finesse': 1, 'lyingso': 1, 'coward': 11, 'disapproving': 11, 'shake': 9, 'nasty': 11, 'bogdnich': 0, 'shuts': 2, 'untruth': 3, 'lot': 109, 'regimentall': 1, 'usyoure': 1, 'blurt': 1, 'disgrace': 19, 'scoundrel': 26, 'brick': 11, 'landed': 3, 'conceit': 5, 'prevents': 4, 'apologizing': 2, 'anyway': 4, 'offense': 10, 'disgracing': 1, 'tremble': 30, 'snap': 7, 'thieves': 3, 'willing': 23, 'prize': 8, 'stick': 39, 'twue': 1, 'jumping': 8, 'alternately': 3, 'mustnt': 13, 'clapping': 6, 'address': 165, 'imploring': 12, 'itll': 1, 'vindictive': 5, 'obstinacy': 5, 'describe': 50, 'weported': 1, 'stwuck': 1, 'list': 354, 'tomowwow': 3, 'hed': 1694, 'cwoss': 1, 'bloodthirsty': 4, 'brings': 5, 'newcomer': 16, 'stew': 46, 'confirmed': 21, 'advance': 122, 'bridges': 14, 'rivers': 18, 'traun': 0, 'linz': 0, '23': 2, 'enns': 0, 'midday': 10, 'baggage': 37, 'artillery': 67, 'defiling': 1, 'rainy': 3, 'autumnal': 1, 'expanse': 5, 'heights': 12, 'batteries': 14, 'guarding': 3, 'diaphanous': 1, 'curtain': 21, 'slanting': 8, 'rain': 270, 'sunlight': 4, 'far-distant': 1, 'objects': 4, 'varnished': 1, 'red-roofed': 1, 'houses': 72, 'cathedral': 8, 'streamed': 6, 'jostling': 2, 'masses': 30, 'vessels': 1, 'island': 12, 'castle': 11, 'park': 32, 'waters': 7, 'confluence': 2, 'rocky': 1, 'bank': 37, 'pine': 147, 'forests': 14, 'mystic': 13, 'background': 4, 'treetops': 1, 'gorges': 2, 'turrets': 2, 'convent': 8, 'virgin': 2, 'forest': 84, 'enemys': 58, 'patrols': 2, 'rearguard': 10, 'fieldglass': 1, 'trail': 5, 'flask': 4, 'pies': 23, 'doppelkmmel': 1, 'gladly': 10, 'wet': 44, 'grass': 26, 'deer': 2, 'dearly': 4, 'pie': 244, 'countrysidesee': 0, 'infantrymen': 5, 'ransack': 1, 'moist-lipped': 1, 'turreted': 1, 'nunnery': 3, 'narrowed': 2, 'gleamed': 15, 'flutter': 10, 'nuns': 2, 'bolder': 1, 'fired': 27, 'dawdling': 3, 'naked': 22, 'battery': 72, 'milk-white': 2, 'cloud': 69, 'distant': 24, 'refreshment': 5, 'ride': 107, 'detail': 62, 'inflammable': 3, 'material': 18, 'reinspected': 1, 'winding': 8, 'crew': 32, 'commanded': 21, 'campfires': 31, 'loading': 6, 'deafening': 12, 'metallic': 5, 'roar': 30, 'whistling': 26, 'grenade': 2, 'flew': 45, 'clouds': 34, 'solitary': 11, 'brilliance': 2, 'sunshine': 16, 'merged': 24, 'spirited': 8, 'flown': 2, 'alighted': 2, 'jammed': 5, 'railings': 3, 'bridles': 2, 'carts': 80, 'wagon': 49, 'convoyman': 1, 'hi': 25285, 'bayonets': 14, 'interlocking': 1, 'dense': 24, 'mass': 83, 'rails': 4, 'noisy': 6, 'waves': 11, 'rippling': 1, 'eddying': 1, 'chased': 5, 'shakos': 8, 'muskets': 21, 'sunken': 7, 'sticky': 4, 'mud': 56, 'planks': 7, 'fleck': 2, 'foam': 5, 'squeezed': 8, 'chip': 5, 'wood': 109, 'whirling': 3, 'townsman': 1, 'log': 124, 'floating': 7, 'companys': 1, 'piled': 5, 'hemmed': 4, 'dam': 131, 'hopelessly': 3, 'waggish': 1, 'torn': 22, 'wink': 31, 'begins': 10, 'popping': 2, 'dismally': 2, 'cart': 141, 'shoved': 1, 'fumbling': 6, 'ham': 147, 'learn': 106, 'bah': 1, 'scurry': 2, 'sends': 5, 'flies': 6, 'daddy': 0, 'fright': 146, 'pon': 272, 'loaded': 27, 'houseful': 1, 'brindled': 1, 'cow': 747, 'udder': 18, 'unweaned': 1, 'healthy': 12, 'beds': 17, 'fugitives': 6, 'vehicle': 29, 'unseemly': 6, 'tracks': 5, 'sell': 158, 'missis': 1, 'energetically': 8, 'downcast': 13, 'fedtov': 0, 'mate': 182, 'apple': 14, 'signifying': 2, 'stream': 27, 'restive': 3, 'shoving': 3, 'fires': 65, 'toodifferent': 1, 'exit': 28, 'splashed': 5, 'carries': 5, 'encouraging': 2, 'cannon': 102, 'harder': 13, 'numskull': 1, 'paces': 36, 'shaggy': 14, 'fiends': 1, 'coal-black': 1, 'bloodshot': 5, 'whites': 3, 'sheathed': 3, 'squadwon': 1, 'fiercely': 7, 'spurring': 2, 'thoroughbred': 5, 'arab': 12, 'snorted': 9, 'spurting': 1, 'tramping': 2, 'rider': 16, 'sheep': 14, 'hack': 6, 'actually': 13, 'scabbard': 2, 'ridden': 32, 'dwagging': 1, 'wegiment': 2, 'fwo': 7, 'dandy': 2, 'saddlecloth': 2, 'sabretache': 7, 'diffused': 4, 'perfume': 9, 'shaved': 5, 'bwushed': 1, 'imposing': 4, 'determination': 9, 'frantically': 2, 'deliver': 28, 'cleared': 23, 'stallion': 3, 'neighing': 2, 'pawing': 2, 'rejoin': 29, 'clang': 2, 'galloping': 36, 'resounded': 11, 'abreast': 5, 'emerge': 14, 'trampled': 7, 'ill-will': 5, 'estrangement': 5, 'lads': 34, 'kick': 3, 'jested': 3, 'prancing': 1, 'infantryman': 3, 'perched': 2, 'zkin': 0, 'corporal': 28, 'chaffing': 6, 'thatll': 6, 'squeezing': 2, 'funnel': 1, 'wagons': 32, 'horizon': 15, 'valley': 14, 'flowed': 19, 'wasteland': 1, 'hilltop': 1, 'appearing': 14, 'skyline': 1, 'noon': 22, 'descending': 18, 'bugle': 4, 'skirmishers': 4, 'space': 43, 'yards': 21, 'firing': 85, 'inaccessible': 4, 'intangible': 4, 'hostile': 19, 'armies': 44, 'boundary': 5, 'resembles': 3, 'dividing': 4, 'uncertainty': 6, 'therethere': 0, 'roof': 58, 'inevitably': 20, 'keenness': 1, 'aligning': 1, 'rhythmic': 12, 'whistle': 26, 'horsemen': 11, 'stirrups': 2, 'sank': 23, 'curious': 10, 'bugler': 3, 'conflict': 25, 'chin': 388, 'punish': 49, 'mirnov': 0, 'ducked': 4, 'mounted': 70, 'rooka': 0, 'leghad': 1, 'examination': 13, 'curtseying': 1, 'miwnov': 0, 'wight': 6, 'hairy': 9, 'snub-nosed': 4, 'sturdy': 5, 'stumpy': 1, 'hilt': 3, 'emptied': 10, 'mercilessly': 1, 'bedouin': 0, 'broad-backed': 1, 'mare': 6, 'seewe': 1, 'dwive': 1, 'troublesome': 3, 'retreating': 24, 'lead': 129, 'range': 370, 'cossacks': 0, 'karl': 0, 'footpace': 7, 'athletic': 1, 'nape': 4, 'himrostv': 0, 'wounded': 215, 'magnanimously': 1, 'extend': 30, 'reconciliation': 4, 'high-shouldered': 1, 'pvlograds': 0, 'dismissal': 1, 'rewards': 14, 'attaching': 3, 'bagratin': 0, 'rear': 53, 'guard': 80, 'morosely': 7, 'perspiration': 8, 'burned': 59, 'wring': 3, 'grapeshot': 12, 'unpleasantness': 4, 'contracted': 1, 'closelyto': 1, 'confirmation': 9, 'conjecture': 9, 'sabers': 14, 'dismounted': 26, 'orderlys': 3, 'thud': 10, 'stretchers': 12, 'ahead': 35, 'trodden': 13, 'stumbled': 12, 'outstripped': 2, 'boss': 2, 'zides': 1, 'triumphant': 18, 'muddy': 18, 'risks': 2, 'dismount': 35, 'bullet': 42, 'billet': 5, 'yellow': 25, 'jackets': 2, 'braided': 2, 'cord': 148, 'swarming': 3, 'sidethe': 2, 'recognizable': 4, 'wholl': 4, 'wipe': 18, 'sinking': 16, 'heartwatching': 1, 'tunics': 1, 'shouldnt': 13, 'job': 5, 'earnest': 9, 'vladmir': 0, 'medal': 5, 'peppered': 1, 'limbers': 4, 'detached': 7, 'simultaneously': 15, 'groaned': 11, 'fierce': 9, 'pain': 129, 'reloaded': 1, 'irregular': 12, 'hinder': 29, 'trained': 39, 'rounds': 9, 'misdirected': 2, 'absorbed': 32, 'hew': 41, 'rattle': 20, 'nuts': 6, 'spilt': 1, 'groan': 35, 'oooh': 0, 'christs': 0, 'stretcher': 24, 'glorious': 7, 'glitter': 56, 'fairer': 1, 'faraway': 4, 'mountains': 7, 'mysterious': 33, 'mist': 145, 'summits': 2, 'groans': 13, 'therethey': 1, 'gorge': 3, 'sickening': 2, 'lord': 33, 'thou': 2210, 'art': 1970, 'protect': 31, 'powdah': 1, 'cowardyes': 1, 'mount': 115, 'wegular': 1, 'bwicks': 1, 'attacks': 12, 'hacking': 1, 'shooting': 3, 'target': 2, 'promoted': 8, 'sublieutenancy': 1, 'triumphantly': 8, 'losses': 21, 'trifle': 21, 'phrase': 29, 'distinctness': 3, 'pursued': 15, 'encountering': 3, 'population': 7, 'unfriendly': 2, 'supplies': 18, 'foreseen': 16, 'thirty-five': 5, 'enable': 8, 'retreat': 129, 'lambach': 0, 'amstetten': 0, 'melk': 0, 'enduranceacknowledged': 1, 'enemywith': 1, 'consequence': 18, 'escaped': 13, 'capture': 79, 'strategics': 2, 'unattainable': 5, 'twenty-eighth': 6, 'main': 371, 'thirtieth': 3, 'mortiers': 0, 'trophies': 3, 'banners': 5, 'fortnights': 1, 'repulsed': 13, 'ill-clad': 1, 'abandoned': 54, 'entrusted': 27, 'humanity': 44, 'hospitals': 17, 'krems': 0, 'converted': 2, 'accommodate': 2, 'mortier': 0, 'spirits': 30, 'considerably': 2, 'erroneous': 3, 'rife': 3, 'attendance': 17, 'schmidt': 0, 'grazed': 1, 'mark': 238, 'threatened': 13, 'brnn': 5, 'build': 47, 'physical': 55, 'fatigue': 11, 'dispatches': 2, 'dokhtrov': 0, 'starry': 8, 'snow': 75, 'daythe': 1, 'reviewing': 2, 'impressions': 14, 'picturing': 6, 'pleasantly': 28, 'recalling': 15, 'send-off': 1, 'chaise': 2, 'enjoying': 9, 'attain': 52, 'long-desired': 1, 'afresh': 8, 'reassured': 6, 'dozed': 7, 'thawing': 2, 'fields': 36, 'stations': 7, 'transport': 27, 'abuse': 17, 'jolted': 9, 'stony': 3, 'bread': 32, 'languid': 7, 'envoy': 10, 'driver': 27, 'plenty': 8, 'paved': 1, 'streets': 45, 'buildings': 12, 'shops': 22, 'alert': 10, 'feverishly': 7, 'clearness': 12, 'concise': 3, 'stating': 4, 'casual': 13, 'answers': 17, 'messenger': 22, 'euer': 0, 'hochgeboren': 0, 'minister': 37, 'courtesy': 4, 'ushered': 1, 'cabinet': 5, 'elaborate': 1, 'ward': 761, 'attempt': 32, 'weakened': 6, 'disdain': 13, 'uncalled': 3, 'fertile': 2, 'despise': 21, 'victories': 11, 'heightened': 4, 'candle': 61, 'evenly': 8, 'distinctive': 1, 'artificiality': 3, 'petitioners': 3, 'calamity': 9, 'schmidts': 0, 'price': 22, 'levee': 5, 'reappeared': 9, 'afforded': 5, 'tenor': 3, 'remote': 19, 'bilbin': 0, 'diplomatic': 30, 'franz': 0, 'ushering': 1, 'washing': 6, 'diplomats': 3, 'comfortably': 8, 'refinements': 1, 'surroundings': 15, 'supposed': 30, 'previously': 45, 'copenhagen': 0, 'ambassador': 19, 'esteemed': 1, 'liking': 6, 'import': 195, 'skillfully': 6, 'pointedly': 2, 'elegantly': 5, 'bilbins': 0, 'dealing': 15, 'spheres': 3, 'sprinkled': 8, 'wittily': 1, 'sayings': 7, 'laboratory': 1, 'portable': 2, 'witticisms': 2, 'hawked': 1, 'principal': 12, 'pucker': 26, 'descend': 55, 'crease': 72, 'deep-set': 1, 'twinkled': 1, 'exploits': 9, 'mentioning': 8, 'skittles': 2, 'conclusion': 33, 'cependant': 0, 'nails': 6, 'malgr': 1, 'haute': 1, 'estime': 2, 'que': 663, 'professe': 2, 'orthodox': 0, 'javoue': 1, 'votre': 2, 'victoire': 1, 'nest': 46, 'victorieuses': 1, 'slips': 2, 'boasting': 2, 'smoothness': 1, 'impressing': 1, 'methods': 10, 'retorted': 3, 'marshals': 35, 'embassy': 6, 'thaler': 1, 'liebchen': 0, 'prater': 0, 'unwrinkled': 2, 'subtleties': 1, 'blunder': 13, 'gains': 228, 'spell': 10, 'invincibility': 2, 'greek': 0, 'archdukes': 1, 'brigade': 3, 'vex': 46, 'disgraces': 1, 'abandon': 119, 'defenseas': 1, 'conceived': 2, 'schnbrunn': 0, 'vrbna': 0, 'fatigues': 2, 'dined': 17, 'lichtenfels': 0, 'murat': 0, 'tremblement': 1, 'savior': 3, 'bridgehead': 2, 'auersperg': 0, 'defending': 9, 'usdoing': 1, 'mined': 45, 'bohemia': 0, 'quarter': 145, 'bigwigs': 3, 'darent': 2, 'skirmishing': 3, 'drrenstein': 0, 'gunpowder': 8, 'devised': 18, 'mots': 2, 'releasing': 3, 'berlin': 0, 'joins': 2, 'preliminaries': 2, 'campo': 0, 'formio': 0, 'clenching': 3, 'accentuating': 2, 'u': 64117, 'lays': 9, 'lui': 16, 'grce': 2, 'lu': 1466, 'adopt': 26, 'innovation': 4, 'joking': 16, 'retaliate': 1, 'fooled': 2, 'provinces': 17, 'pillagedthey': 1, 'loots': 1, 'terriblyher': 1, 'beaux': 1, 'yeux': 1, 'sardinian': 0, 'thereforethis': 1, 'ourselvesi': 0, 'deceived': 12, 'instinct': 29, 'negotiations': 12, 'projects': 10, 'warmed': 10, 'fragrant': 3, 'tidings': 3, 'treachery': 9, 'triumph': 37, 'tomorrows': 8, 'cannonading': 2, 'musketry': 21, 'rattling': 4, 'fill': 129, 'musketeers': 1, 'palpitating': 1, 'bullets': 26, 'tenfold': 4, 'slumber': 2, 'nights': 29, 'les': 1512, 'ntres': 5, 'consisting': 9, 'exclusively': 5, 'chancellor': 2, 'flatly': 1, 'london': 0, 'gentlemeni': 0, 'youis': 1, 'suffers': 6, 'don': 896, 'juan': 0, 'lolling': 1, 'lounge': 3, 'serpent': 1, 'atrocities': 1, 'compared': 23, 'compagne': 1, 'lhomme': 1, 'elevated': 1, 'whomhe': 1, 'admithe': 1, 'jealous': 27, 'exquisite': 4, 'discusses': 1, 'politicsyou': 1, 'wrinkling': 2, 'derogates': 1, 'intervention': 8, 'nonintervention': 1, 'finally': 25, 'impute': 2, 'nonreceipt': 1, 'november': 0, '18': 166, 'demosthenes': 0, 'pebble': 1, 'secretest': 1, 'thy': 148, 'mop': 8, 'breathed': 6, 'convulsed': 1, 'impassive': 5, 'guest': 86, 'moravian': 0, 'hole': 547, 'brnns': 0, 'attractions': 2, 'undertake': 19, 'theater': 27, 'amelie': 0, 'humane': 2, 'avail': 27, 'hospitality': 5, 'provisions': 26, 'supplied': 9, 'routes': 1, 'accompanying': 9, 'facts': 22, 'passion': 84, 'audiences': 1, 'ceremoniously': 2, 'questionsthe': 1, 'reliable': 9, 'rafts': 4, 'forage': 6, 'withdrew': 7, 'grade': 14, 'conferring': 3, 'chamberlain': 2, 'invited': 29, 'archduchess': 2, 'forecast': 2, 'thanksgiving': 4, 'awarded': 5, 'dignitaries': 2, 'luggage': 5, 'portmanteau': 7, 'bookshop': 1, 'provide': 22, 'shop': 54, 'thabor': 0, 'blown': 7, 'messieurs': 3, 'marchaux': 1, 'lannes': 0, 'belliard': 0, 'observe': 39, 'gascons': 0, 'doubly': 3, 'fortifications': 4, 'communication': 14, 'marshalls': 1, 'grieved': 12, 'destined': 14, 'toulon': 0, 'obscure': 10, 'offer': 105, 'fame': 11, 'imagining': 17, 'council': 39, 'truer': 1, 'sadder': 2, 'negotiate': 8, 'tte-de-pont': 2, 'spin': 28, 'gasconades': 1, 'crack': 36, 'jokes': 10, 'unobserved': 3, 'flings': 2, 'bags': 7, 'incendiary': 4, 'approaches': 3, 'appears': 25, 'von': 8, 'mautern': 0, 'dearest': 10, 'hostilities': 0, 'anothers': 13, 'burns': 2, 'auerspergs': 0, 'bewildered': 12, 'established': 23, 'dazzled': 4, 'murats': 0, 'ostrich': 2, 'plumes': 13, 'quil': 68, 'ny': 2073, 'voit': 1, 'du': 954, 'feu': 1, 'oublie': 1, 'celui': 2, 'devait': 1, 'lennemi': 1, 'rushes': 2, 'spikes': 1, 'subsiding': 2, 'signal': 8, 'mines': 7, 'wiser': 4, 'gascon': 1, 'world-famous': 1, 'discipline': 17, 'arrested': 19, 'stupidity': 9, 'rascality': 2, 'forgets': 8, 'wounds': 8, 'puts': 3, 'ishe': 546, 'sommes': 1, 'macked': 2, 'examine': 38, 'proof': 23, 'conclusiveness': 1, 'gallop': 175, 'heroism': 11, 'philosopher': 3, 'consistent': 9, 'olmtz': 0, 'decent': 9, 'faced': 41, 'temple': 26, 'dilemma': 1, 'insoluble': 9, 'argue': 10, 'hetzelsdorf': 0, 'obstructed': 2, 'hungry': 24, 'sinister': 3, 'cette': 4, 'arme': 80, 'russe': 15, 'lor': 178, 'langleterre': 0, 'transporte': 2, 'extrmits': 1, 'lunivers': 1, 'allons': 1, 'prouver': 1, 'mme': 382, 'sortle': 0, 'dulm': 0, 'awoke': 17, 'ends': 177, 'fatethe': 0, 'endless': 12, 'detachments': 14, 'vehicles': 19, 'whips': 7, 'swearing': 1, 'orderlies': 14, 'flayed': 1, 'broken-down': 2, 'crowds': 25, 'neighboring': 10, 'fowls': 2, 'bulging': 1, 'sacks': 99, 'ascent': 2, 'descent': 7, 'denser': 4, 'din': 1863, 'incessant': 31, 'floundering': 4, 'knee-deep': 4, 'traces': 7, 'lungs': 6, 'directing': 13, 'uproar': 2, 'despaired': 1, 'possibility': 69, 'checking': 5, 'one-horse': 1, 'rigged': 3, 'available': 7, 'materials': 1, 'cabriolet': 1, 'enveloped': 9, 'shawls': 2, 'diverted': 5, 'shrieks': 6, 'beating': 17, 'strokes': 2, 'whip': 41, 'equipage': 3, 'piercingly': 6, 'woolen': 3, 'seventh': 12, 'chasseurs': 2, 'flatten': 2, 'pancake': 3, 'slut': 1, 'replying': 26, 'push': 95, 'compressing': 2, 'snub': 6, 'senseless': 36, 'championship': 1, 'worldto': 1, 'urged': 12, 'fury': 12, 'letthempass': 1, 'deliverer': 1, 'minutest': 6, 'tormenting': 11, 'mob': 24, 'scoundrels': 7, 'chewed': 1, 'noticeable': 14, 'capitulation': 6, 'znaim': 0, 'mefit': 1, 'bohemian': 0, 'lookout': 5, 'winced': 3, 'shock': 16, 'abominable': 7, 'weyrother': 0, 'clerk': 23, 'bottom': 13, 'kozlvskis': 0, 'wornhe': 1, 'slept': 29, 'dictating': 2, 'kiev': 0, 'grenadiers': 7, 'podolian': 0, 'disrespectfully': 1, 'unfamiliar': 10, 'inattentive': 3, 'disrespectful': 3, 'disastrous': 6, 'urgent': 4, 'dispositions': 31, 'whence': 9, 'preoccupied': 23, 'anxieties': 1, 'gaunt': 3, 'envelope': 17, 'christ': 5, 'endeavor': 7, 'softened': 15, 'offering': 14, 'bagratins': 0, 'detachment': 49, 'delayed': 5, 'penetration': 1, 'seams': 2, 'scar': 95, 'pierced': 3, 'socket': 2, 'plunged': 10, 'questioned': 18, '1': 392, 'spy': 14, 'surround': 90, 'connecting': 3, 'parts': 22, 'abandoning': 25, 'buxhwden': 0, 'unite': 41, 'risked': 4, 'forestalled': 2, 'encumbered': 1, 'hem': 1794, 'sixty-six': 1, 'saving': 18, 'forestall': 6, 'exposure': 3, 'destruction': 41, 'shorter': 2, 'vanguard': 11, 'krems-znaim': 0, 'vienna-znaim': 0, 'forestalling': 1, 'stormy': 3, 'roadless': 1, 'ill-shod': 2, 'hollabrnn': 0, 'hence': 16, 'detain': 14, 'freak': 3, 'similar': 43, 'bloodshed': 1, 'posts': 26, 'emissary': 2, 'authorized': 2, 'convoys': 1, 'concealed': 18, 'stage': 28, 'hasten': 37, 'trains': 20, 'entire': 40, 'stationary': 3, 'binding': 7, 'discovered': 14, 'proposal': 25, 'detected': 4, 'ruse': 3, '25th': 1, 'displeasure': 7, 'armistice': 4, 'fruits': 1, 'ratifies': 1, 'ratify': 3, 'impostor': 3, 'powers': 22, 'tricked': 2, 'trusting': 4, 'victim': 11, 'dried': 11, 'porridge': 10, 'store': 41, 'persisted': 2, 'grunth': 0, 'disbelieved': 2, 'nearness': 10, 'trusted': 36, 'distinction': 11, 'marks': 44, 'dandies': 3, 'earn': 132, 'bearings': 3, 'execute': 49, 'rain-soaked': 2, 'dejected': 8, 'seeking': 27, 'benches': 4, 'fencing': 6, 'sutlers': 5, 'tent': 414, 'scare': 17, 'roll': 84, 'cheese': 2, 'reproachful': 20, 'keeper': 32, 'altogether': 12, 'arent': 110, 'tshin': 0, 'example': 27, 'stockinged': 1, 'jocular': 5, 'unacceptable': 1, 'unsoldierly': 1, 'comic': 4, 'entrenchments': 8, 'dug': 13, 'clay': 58, 'battalions': 25, 'swarmed': 4, 'earthworks': 1, 'ants': 357, 'spadefuls': 2, 'entrenchment': 13, 'dozens': 9, 'noses': 6, 'poisoned': 3, 'latrines': 1, 'voil': 2, 'lagrment': 1, 'camps': 10, 'depression': 12, 'apprehension': 3, 'poking': 2, 'section': 10, 'ribs': 2, 'logs': 7, 'brushwood': 1, 'shelters': 3, 'undressed': 12, 'drying': 2, 'shirts': 8, 'boilers': 1, 'cookers': 1, 'steaming': 1, 'boiler': 4, 'sample': 4, 'wooden': 15, 'bowl': 4, 'shelter': 15, 'lucky': 12, 'pockmarked': 8, 'broad-shouldered': 3, 'keg': 1, 'lids': 6, 'reverential': 1, 'mouths': 9, 'licking': 3, 'peaceful': 21, 'encampment': 3, 'chasseur': 3, 'grenadiersfine': 1, 'affairsnear': 1, 'switches': 1, 'regularly': 7, 'screams': 11, 'steal': 10, 'honest': 21, 'robs': 1, 'swishing': 1, 'flanks': 6, 'picket': 15, 'enemies': 20, 'morningdespite': 1, 'injunction': 3, 'linethe': 2, 'sight-seers': 2, 'forming': 31, 'showmen': 1, 'exhibiting': 1, 'musketeer': 3, 'grenadier': 11, 'hark': 0, 'jabbering': 2, 'sdorov': 0, 'adept': 2, 'laughers': 1, 'incited': 3, 'incomprehensible': 40, 'dispute': 27, 'maintained': 12, 'listeners': 6, 'fera': 6, 'danser': 1, 'qu': 2294, 'est-ce': 1, 'chante': 13, 'ancient': 37, 'suvara': 0, 'sacr': 111, 'nom': 52, 'swore': 5, 'shouldering': 2, 'musket': 66, 'ivn': 1, 'lukch': 0, 'winked': 8, 'jabber': 5, 'kari': 0, 'mala': 6, 'tafa': 2, 'safi': 1, 'muter': 1, 'kask': 0, 'expressive': 2, 'ouh': 2, 'peals': 3, 'good-humored': 7, 'unload': 8, 'explode': 2, 'ammunition': 14, 'loopholes': 1, 'blockhouses': 1, 'menacingly': 1, 'unlimbered': 4, 'confronted': 2, 'farthest': 9, 'sentry': 1, 'ropes': 6, 'artillerymens': 1, 'bonfires': 4, 'constructed': 13, 'wattle': 15, 'crest': 2, 'grabern': 0, 'steep': 9, 'incline': 17, 'dominated': 4, 'dragoons': 27, 'tshins': 0, 'easiest': 1, 'copse': 11, 'felling': 1, 'outflank': 11, 'dip': 69, 'sketched': 2, 'points': 7, 'concentrate': 26, 'secondly': 10, 'withdraw': 28, 'closely': 28, 'historical': 51, 'pictured': 15, 'forthcoming': 4, 'outline': 10, 'possibilities': 4, 'podlsk': 0, 'reserves': 11, 'successfully': 11, 'counterattack': 1, 'echelons': 1, 'reasoned': 3, 'anyhow': 6, 'manly': 17, 'youvodka': 1, 'snacks': 1, 'herb': 20, 'hut': 96, 'philosophizing': 2, 'conceive': 14, 'thudded': 1, 'super': 94, 'impact': 1, 'dashing': 10, 'mounting': 8, 'puff': 29, 'frenchmen': 0, 'column': 79, 'strengthen': 22, 'cannonade': 12, 'slope': 17, 'parleys': 2, 'lemarrois': 0, 'humiliated': 3, 'expiate': 2, 'wings': 10, 'hoping': 17, 'contemptible': 6, 'enjoyable': 3, 'embankments': 1, 'foremost': 10, 'lambskin': 2, 'reined': 9, 'agreement': 29, 'imply': 86, 'impress': 77, 'bobtailed': 5, 'civilianan': 1, 'accountant': 9, 'full-faced': 1, 'camlet': 1, 'pit': 441, 'purposely': 11, 'stupider': 1, 'hit': 278, 'swell': 15, 'violent': 14, 'f-f-flop': 1, 'crashed': 1, 'saddles': 8, 'struggled': 11, 'confusion': 42, 'disengaged': 4, 'recollection': 28, 'battlefield': 37, 'artilleryman': 6, 'red-haired': 9, 'freckled': 2, 'gunner': 10, 'gunners': 2, 'straining': 19, 'wheel': 56, 'cannons': 3, 'round-shouldered': 5, 'shading': 3, 'impart': 4, 'medvdev': 0, 'bashful': 3, 'salute': 11, 'benediction': 1, 'consulting': 7, 'zakharchnko': 0, 'extended': 18, 'rivulet': 1, 'soul-stirring': 1, 'crackling': 8, 'outflanking': 3, 'bounded': 7, 'adjacent': 3, 'reinforce': 9, 'ventured': 19, 'assent': 15, 'retreated': 17, 'uselessly': 8, 'sharpshooters': 10, 'paraded': 1, 'withstand': 7, 'colloquies': 1, 'owing': 397, 'valuable': 15, 'downhill': 11, 'actual': 28, 'bleeding': 14, 'dragged': 24, 'supported': 8, 'gurgle': 1, 'spitting': 2, 'sturdily': 1, 'groaning': 4, 'streaming': 4, 'unwounded': 5, 'ascending': 6, 'ordering': 6, 'crackled': 3, 'drowning': 6, 'reeked': 1, 'blackened': 5, 'ramrods': 1, 'touchpans': 1, 'charges': 7, 'pouches': 2, 'humming': 4, 'squarefor': 1, 'feeble-looking': 1, 'smilehis': 1, 'eyelids': 3, 'mild': 27, 'welcomed': 15, 'welcomes': 2, 'employing': 1, 'term': 143, 'reality': 26, 'half-hour': 3, 'certainty': 10, 'commencement': 14, 'shells': 8, 'hitting': 5, 'plunging': 2, 'hawks': 1, 'entreating': 2, 'hissing': 5, 'carpenter': 4, 'uses': 142, 'ax': 50, 'blister': 2, 'persuasiveness': 2, 'appeals': 1, 'cease': 89, 're-form': 6, 'fastened': 13, 'caps': 14, 'standard': 32, 'flapping': 3, 'clash': 2, 'dispersing': 5, 'laggards': 1, 'weighty': 3, 'expressionthe': 1, 'smallest': 8, 'unsheathed': 1, 'weapon': 17, 'flexibly': 1, 'alternate': 7, 'hundreds': 23, 'skirted': 4, 'bush': 38, 'defection': 1, 'cleaving': 1, 'measure': 29, 'jaunty': 3, 'semicircle': 6, 'trooper': 2, 'noncommissioned': 12, 'hop': 236, 'ominous': 2, 'unison': 1, 'exlen-lency': 1, 'relax': 4, 'sonorous': 3, 'gait': 8, 'bandoliers': 1, 'epaulets': 4, 'gaitered': 1, 'turned-out': 1, 'hurrahahah': 0, 'long-drawn': 9, 'racing': 16, 'disordered': 8, 'secured': 6, 'leftwhich': 1, 'consisted': 30, 'azv': 0, 'hussarswas': 1, 'outflanked': 1, 'removing': 8, 'panic': 10, 'seniority': 7, 'reviewed': 5, 'misunderstanding': 12, 'offending': 3, 'impending': 16, 'privates': 1, 'occupations': 11, 'feeding': 7, 'iss': 603, 'dan': 340, 'sount': 1, 'imperative': 1, 'thundered': 2, 'capotes': 1, 'milldam': 1, 'malevolence': 3, 'occupy': 26, 'mix': 12, 'vot': 65, 'irate': 2, 'vere': 279, 'avare': 1, 'zis': 1, 'vish': 6, 'expanded': 6, 'amongst': 1, 'sped': 18, 'bushes': 21, 'cocks': 5, 'vainly': 15, 'detect': 7, 'cowardice': 2, 'testing': 3, 'muffled': 5, 'inconvenient': 4, 'fearresembling': 1, 'deadlay': 1, 'rumor': 30, 'whizzed': 1, 'scabbards': 1, 'irresolution': 2, 'communicated': 7, 'foward': 1, 'twot': 1, 'croups': 1, 'rooks': 0, 'anticipated': 5, 'elated': 33, 'terribleand': 1, 'slash': 3, 'gripping': 2, 'hur-a-a-a-ah': 0, 'birch': 30, 'broom': 3, 'strike': 10, 'niktenko': 0, 'speed': 24, 'bondarchk': 0, 'bondarchks': 0, 'swerved': 3, 'stubble': 7, 'forelegs': 2, 'pinning': 4, 'riders': 8, 'flowing': 19, 'entangled': 9, 'disentangled': 2, 'superfluous': 9, 'benumbed': 1, 'wrist': 6, 'sunburned': 5, 'hooked': 4, 'hindmost': 2, 'believing': 8, 'proximity': 7, 'realizing': 12, 'alien': 14, 'bayonet': 20, 'hare': 87, 'fleeing': 9, 'hounds': 35, 'sentiment': 20, 'leaping': 2, 'furrows': 2, 'catchplay': 1, 'seventy-pound': 1, 'whistled': 10, 'mustered': 3, 'unawares': 4, 'outskirts': 4, 'exemplary': 4, 'responsible': 9, 'negligence': 2, 'inefficiency': 1, 'recalcitrant': 1, 'self-preservation': 1, 'crupper': 3, 'hail': 4, 'fortunately': 5, 'remedy': 11, 'twenty-two': 4, 'censured': 3, 'safely': 3, 'hesitation': 16, 'decides': 3, 'disregarding': 2, 'furious': 8, 'likeness': 4, 'self': 1933, 'disobeying': 2, 'culminating': 2, 'result': 135, 'timkhins': 0, 'lain': 304, 'ditch': 8, 'armed': 53, 'surrendering': 2, 're-formed': 4, 'units': 9, 'ekonmov': 0, 'broadcloth': 1, 'munition': 19, 'slung': 2, 'untied': 2, 'congealed': 2, 'wound': 266, 'supports': 5, 'surmise': 8, 'effrontery': 1, 'undefended': 1, 'energetic': 21, 'herein': 4, 'centerthe': 1, 'attempted': 5, 'isolated': 1, 'hillock': 3, 'scurrying': 1, 'artillerymen': 8, 'brightening': 4, 'conflagration': 8, 'fanned': 2, 'breeze': 3, 'revenge': 3, 'failure': 9, 'tearing': 8, 'munition-wagon': 1, 'drivers': 9, 'diminished': 11, 'ten-gun': 1, 'seventeen': 6, 'crews': 2, 'disabled': 1, 'refill': 3, 'scattering': 2, 'smack': 5, 'em': 6375, 'screws': 1, 'deafened': 3, 'harnessing': 1, 'pitched': 9, 'irresolute': 7, 'injured': 10, 'taller': 2, 'officerall': 1, 'theirs': 10, 'concentration': 5, 'akin': 604, 'feverish': 23, 'delirium': 6, 'drunkenness': 4, 'puffs': 5, 'fantastic': 4, 'possession': 20, 'occasional': 33, 'smoker': 2, 'borne': 12, 'streak': 3, 'matvvna': 0, 'drunkard': 3, 'diminishing': 3, 'increasing': 22, 'intently': 28, 'ebb': 2, 'flow': 87, 'matthew': 0, 'booth': 2, 'gasping': 3, 'duck': 6, 'unharnessed': 3, 'screaming': 6, 'piteously': 7, 'gushing': 1, 'withdrawn': 10, 'bodies': 21, 'removal': 6, 'skipped': 1, 'limbered': 5, 'uninjured': 3, 'shattered': 2, 'unicorn': 1, 'conflagrations': 3, 'oftener': 3, 'transmitted': 3, 'proceed': 18, 'reprimanding': 1, 'reproaching': 3, 'silentlyfearing': 1, 'whyrode': 1, 'nag': 115, 'matvvnas': 0, 'repeatedly': 13, 'hesitating': 15, 'antnov': 0, 'shivering': 7, 'stained': 26, 'sprain': 3, 'aided': 5, 'gruntersdorf': 0, 'subside': 10, 'flashes': 1, 'sheltered': 1, 'petrv': 0, 'pitch-dark': 0, 'rumble': 11, 'gloom': 58, 'melt': 23, 'station': 67, 'bonfire': 7, 'kindled': 8, 'drowsiness': 2, 'irresistibly': 10, 'mastering': 3, 'excruciating': 1, 'satisfactory': 9, 'dazzlingly': 2, 'cross-legged': 1, 'turk': 0, 'commiseration': 3, 'afar': 2, 'tremulous': 7, 'sea': 199, 'swelling': 7, 'storm': 29, 'listlessly': 1, 'squatted': 4, 'blaze': 5, 'campfire': 49, 'quarreling': 2, 'snatch': 25, 'hoarsely': 7, 'bloodstained': 11, 'torch': 3, 'countrymen': 3, 'firewell': 1, 'glowing': 10, 'snarled': 1, 'deadwhy': 1, 'aching': 116, 'greedily': 6, 'gnawing': 3, 'mutton': 8, 'bone': 14, 'blamelessly': 1, 'signet': 1, 'texture': 1, 'perplexityperhaps': 1, 'banner': 9, 'flocking': 1, 'thanking': 1, 'informing': 8, 'woodcutting': 1, 'disorganized': 8, 'battalionand': 1, 'continuedremembering': 1, 'gentleman-rankerthat': 1, 'redounded': 2, 'devoid': 2, 'foundation': 8, 'heroically': 1, 'damaged': 3, 'bivouacking': 5, 'embarrassed': 17, 'superiors': 7, 'loudest': 2, 'authorities': 21, 'guilt': 35, 'mutter': 88, 'examiner': 1, 'venture': 35, 'intervene': 3, 'thirds': 3, 'intentness': 1, 'owe': 925, 'heroic': 17, 'reluctant': 26, 'distrust': 5, 'credit': 16, 'saved': 33, 'shadows': 15, 'intense': 5, 'irresistible': 13, 'overpowered': 3, 'loneliness': 3, 'soldierswounded': 1, 'unwoundedit': 1, 'crushing': 7, 'weighing': 2, 'twisting': 6, 'sinews': 1, 'scorching': 1, 'sprained': 2, 'innumerable': 32, 'agonizingly': 1, 'breadth': 7, 'acheit': 1, 'wellif': 1, 'canopy': 3, 'yard': 101, 'charcoal': 2, 'flakes': 1, 'fluttering': 5, 'warming': 7, 'hurting': 3, 'grunt': 6, 'crippled': 1, 'todayfrightful': 1, 'snowflakes': 1, 'fluffy': 2, 'fur': 142, 'gliding': 6, 'sleigh': 50, 'renew': 18, 'remnant': 3, 'reunited': 2, 'injuring': 2, 'schemes': 4, 'devices': 1, 'accounted': 2, 'shaping': 3, 'arising': 4, 'achievement': 7, 'disintegration': 4, 'instance': 20, 'entice': 4, 'premeditation': 1, 'procured': 7, 'bedchamber': 1, 'conferred': 6, 'status': 6, 'councilor': 0, 'unhesitating': 3, 'beforehand': 8, 'unaffected': 1, 'richer': 2, 'opportune': 4, 'beset': 2, 'offices': 8, 'steward': 44, 'formerly': 35, 'chosen': 38, 'peoplebusinessmen': 1, 'alikewere': 1, 'remarkable': 13, 'depth': 30, 'plastered': 4, 'dolls': 2, 'blushes': 3, 'statuesque': 1, 'striped': 2, 'deceased': 7, 'benefit': 11, 'bonea': 1, 'bill': 6, 'rublesto': 2, 'kinder': 2, 'intoxication': 3, 'grieve': 18, 'oppressed': 10, 'pitys': 1, 'helpless': 20, 'designs': 5, 'rogues': 2, 'overwhelmed': 5, 'purely': 4, 'charity': 3, 'propose': 50, 'fingering': 5, 'notwithstanding': 1, 'cooing': 1, 'precluding': 1, 'persuasion': 2, 'recollections': 6, 'ryazn': 0, 'require': 30, 'quitrent': 6, 'peasants': 122, 'gentleness': 5, 'numerous': 8, 'bewilderment': 5, 'attained': 17, 'dinners': 15, 'tactless': 1, 'unsuitable': 5, 'stupidest': 3, 'apt': 298, 'modesty': 7, '1805-6': 1, 'link': 27, 'imposed': 4, 'supposition': 8, 'novelty': 8, 'potsdam': 0, 'pledged': 1, 'uphold': 2, 'afflicted': 1, 'pvlovnawho': 0, 'actionseeing': 1, 'charitable': 6, 'adores': 1, 'masterly': 5, 'hlnes': 0, 'desirous': 1, 'coughed': 12, 'swallowed': 3, 'halting': 11, 'aunts': 2, 'vinesse': 0, 'miniaturist': 2, 'shortsighted': 5, 'perceive': 12, 'charm': 88, 'warmth': 10, 'corset': 1, 'garments': 6, 'illusion': 8, 'belong': 75, 'anyoneto': 1, 'altar': 7, 'tuft': 11, 'steppe': 60, 'barrier': 17, 'reprehensible': 2, 'refitting': 1, 'exercising': 3, 'uniting': 8, 'colored': 10, 'absent-mindedly': 10, 'excites': 1, 'incomplete': 2, 'worthlessness': 2, 'dreaming': 5, 'visualized': 1, 'dishonorable': 8, 'hints': 10, 'lest': 43, 'image': 10, 'tour': 8, 'neglected': 3, 'undertaking': 13, 'latterly': 7, 'lover': 23, 'proposed': 35, 'obligations': 7, 'frivolity': 2, 'relishing': 1, 'llyas': 0, 'affairyes': 1, 'peoples': 61, 'conception': 84, 'remarkshowing': 1, 'heror': 1, 'palpably': 2, 'confiding': 3, 'abyss': 3, 'unacknowledged': 1, 'paralyzed': 2, 'peopleas': 1, 'saidmet': 1, 'kurgina': 0, 'guestsan': 1, 'enlivened': 2, 'toilets': 3, 'scarlet': 4, 'liveries': 1, 'plates': 4, 'assuring': 8, 'baroness': 1, 'vktorovna': 0, 'everybodys': 4, 'facetious': 1, 'wednesdays': 0, 'sergy': 0, 'kuzmch': 0, 'vyazmtinov': 0, 'rescript': 6, 'declarations': 1, 'loyalty': 5, 'etc': 146, 'kuz-m-ch': 0, 'smothered': 2, 'unkind': 3, 'variety': 12, 'sensations': 5, 'kuzmcha': 0, 'bashfulness': 1, 'joked': 3, 'avoided': 21, 'heedless': 4, 'unobservant': 1, 'topierre': 0, 'congratulation': 5, 'son-in-law': 3, 'sip': 38, 'trifling': 5, 'soared': 1, 'focused': 2, 'dazzling': 7, 'helen': 0, 'consoled': 3, 'traveled': 9, 'betrothed': 18, 'admiration': 10, 'expand': 9, 'raise': 151, 'disperse': 28, 'unwilling': 4, 'distract': 19, 'refusing': 11, 'grumbled': 4, 'soundly': 2, 'headache': 4, 'inevitable': 31, 'pleasantest': 1, 'llya': 1, 'petted': 4, 'babyhood': 1, 'acquired': 12, 'imitating': 4, 'kuzmchfrom': 0, 'unbuttoning': 1, 'discomposure': 1, 'aline': 0, 'daughtermy': 0, 'malodorous': 1, 'moistened': 1, 'stoop': 29, 'brutal': 2, 'intercepted': 1, 'unpleasantly': 14, 'aime': 109, 'remembering': 16, 'furnished': 4, 'announcing': 6, 'extra': 45, 'emulating': 1, 'suitors': 5, 'incautiously': 2, 'reigns': 21, 'contained': 8, 'discontented': 5, 'annoyed': 6, 'advised': 22, 'architects': 1, 'heelswe': 1, 'sable': 23, 'snowed': 1, 'hothouse': 5, 'swept': 7, 'shovel': 3, 'snowbanks': 1, 'bordered': 3, 'conservatories': 2, 'outbuildings': 1, 'overseer': 7, 'venerable': 4, 'avenue': 16, 'indistinctly': 4, 'rascals': 3, 'blackguards': 1, 'alptych': 0, 'temerity': 2, 'resignedly': 1, 'hardest': 4, 'occasions': 5, 'sympathize': 11, 'dumps': 1, 'dummy': 1, 'tales': 12, 'thoughtreferring': 1, 'unwell': 9, 'overpowering': 1, 'reciprocated': 1, 'criticized': 4, 'hmhis': 0, 'puppy': 1, 'pre': 2219, 'unsuccessful': 3, 'soup': 10, 'genial': 4, 'chattering': 4, 'sunk': 20, 'oppression': 1, 'merci': 11, 'shoveled': 1, 'proceeded': 6, 'coachmen': 6, 'sleighs': 11, 'lodges': 7, 'laden': 4, 'overcoat': 28, 'akimbo': 4, 'amusement': 10, 'churlish': 1, 'heiress': 16, 'amusingly': 1, 'harm': 169, 'valets': 6, 'hideous': 1, 'starts': 3, 'row': 1145, 'meantime': 2, 'maidservants': 3, 'marie': 0, 'loose': 25, 'outlines': 2, 'unobtrusive': 3, 'bouriennes': 0, 'toilet': 8, 'rendered': 26, 'smartened': 1, 'devise': 24, 'self-esteem': 3, 'betray': 24, 'decline': 14, 'offers': 7, 'prolong': 10, 'banter': 5, 'insistence': 2, 'blotches': 1, 'unattractive': 3, 'martyrlike': 1, 'submitted': 12, 'maroon': 3, 'fetched': 9, 'adornment': 1, 'changes': 11, 'pale-blue': 3, 'decidedly': 4, 'clasping': 2, 'prefer': 19, 'everyday': 7, 'katie': 0, 'foretaste': 1, 'artistic': 2, 'katies': 0, 'chirping': 2, 'silenced': 2, 'shiningly': 1, 'insist': 51, 'coiffure': 8, 'struggling': 12, 'guise': 6, 'frighten': 127, 'shaken': 3, 'lises': 2, 'dominant': 1, 'strangely': 21, 'totally': 5, 'fancied': 11, 'ownsuch': 1, 'daughterat': 1, 'appalled': 3, 'lamp': 12, 'strongest': 3, 'longing': 31, 'stifle': 13, 'renounce': 13, 'thyself': 5, 'mayest': 1, 'forbidden': 8, 'curiously': 1, 'noting': 4, 'light-brown': 3, 'smelling': 1, 'pomade': 7, 'quick-witted': 1, 'faculty': 5, 'invaluable': 2, 'imperturbable': 3, 'self-possession': 2, 'lacking': 10, 'dumb': 5, 'introduction': 1, 'betrays': 1, 'impropriety': 2, 'inspires': 3, 'lovea': 1, 'supercilious': 2, 'womeneven': 1, 'littlebut': 1, 'chatty': 1, 'assumption': 9, 'semi-private': 1, 'long-established': 2, 'existjust': 1, 'existed': 25, 'readily': 16, 'annettes': 0, 'goings': 2, 'doings': 8, 'pining': 2, 'pearl': 10, 'city': 135, 'petite': 1, 'gentille': 1, 'shallow': 3, 'braggart': 1, 'specimen': 1, 'angered': 4, 'revived': 3, 'unsettled': 2, 'justly': 4, 'clashed': 1, 'unthinkable': 6, 'andrewa': 0, 'nowadaysbut': 1, 'immediate': 135, 'proposing': 6, 'birth': 12, 'unbecoming': 2, 'anatoles': 0, 'irritably': 6, 'shameless': 2, 'ignores': 1, 'befriend': 2, 'surveyed': 2, 'eccentricities': 1, 'questioning': 19, 'interceded': 1, 'hopes': 23, 'principleseverything': 1, 'aboveboard': 1, 'frankly': 13, 'crafty': 4, 'futility': 1, 'keen-sighted': 2, 'kinsman': 3, 'reasoning': 23, 'magnanimous': 10, 'dreams': 13, 'reserved': 10, 'cordial': 16, 'devilish': 2, 'intend': 76, 'devote': 29, 'seduced': 1, 'sa': 8358, 'pauvre': 6, 'mre': 7, 'yielding': 7, 'seducer': 2, 'shaped': 12, 'calculation': 8, 'guided': 15, 'hears': 8, 'trumpet': 4, 'ulterior': 1, 'spectacle': 50, 'suddenness': 1, 'prompt': 21, 'coarsest': 1, 'intimately': 4, 'fearful': 4, 'loves': 29, 'etiquette': 2, 'amlie': 0, 'kindyes': 1, 'hethe': 236, 'deviland': 1, 'rebuking': 1, 'nightcap': 11, 'disheveled': 7, 'lumps': 1, 'snorting': 3, 'insulted': 8, 'insult': 23, 'upshe': 1, 'runs': 5, 'fr': 4315, 'bouriennei': 0, 'pacifying': 2, 'undress': 33, 'nightshirt': 1, 'dried-up': 1, 'lifeand': 2, 'unaltered': 1, 'inquisitive': 8, 'emerged': 8, 'slippers': 7, 'couch': 9, 'romance': 5, 'tkhons': 0, 'careful': 62, 'treatment': 10, 'painstaking': 8, 'clenched': 3, 'arithmetic': 1, 'pupil': 14, 'principles': 7, 'refer': 74, 'disapproval': 7, 'submit': 39, 'dowry': 8, 'bargain': 3, 'maiden': 11, 'lifes': 6, 'fog': 23, 'untrue': 6, 'horrified': 16, 'scream': 54, 'incident': 12, 'radiance': 1, 'core': 12, 'regretting': 5, 'sensibility': 5, 'snuff': 34, 'pupilsi': 0, 'sonsname': 1, 'positively': 7, 'humbug': 5, 'self-sacrifice': 19, 'amlies': 0, 'repents': 1, 'midwinter': 2, 'improved': 10, 'niklenka': 0, 'wa': 12067, 'comforted': 9, 'teatime': 2, 'adroitly': 2, 'gifted': 4, 'shades': 3, 'pricked': 3, 'meal': 6, 'sensitive': 9, 'wriggling': 2, 'honey': 16, 'upi': 204, 'slyboots': 1, 'affect': 87, 'gleeful': 7, 'crybabies': 1, 'blubberers': 1, 'niklenkas': 0, 'brutes': 2, 'thered': 59, 'heap': 20, 'goose': 4, 'rememberi': 16, 'himi': 4, 'ecstatically': 6, 'earnestly': 2, 'namesake': 2, 'nine-year-old': 1, 'brigadier': 1, 'retiring': 7, 'keyhole': 1, 'intonations': 4, 'surgeon': 3, 'admits': 3, 'press': 886, 'schelling': 0, 'schoss': 0, 'puffed': 2, 'balloon': 9, 'plumped': 2, 'reread': 4, 'proofs': 7, 'quarrels': 5, 'pear': 322, 'granny': 1, 'ages': 151, 'imperceptibly': 7, 'cradle': 2, 'manhood': 4, 'growth': 3, 'stages': 7, 'beings': 7, 'suck': 6, 'charmingly': 1, 'describes': 2, 'descriptive': 1, 'braver': 5, 'highi': 0, 'week': 68, 'drafts': 1, 'supervision': 1, 'solicitude': 4, 'commissioned': 14, 'opportunities': 5, 'duke': 23, 'constantine': 0, 'pvlovich': 0, 'presumably': 1, 'dukes': 6, 'twelfth': 4, 'emperorsthe': 0, 'ismylov': 0, 'well-provisioned': 1, 'jews': 0, 'tempting': 5, 'wares': 6, 'feast': 8, 'celebrating': 2, 'awards': 3, 'expeditions': 3, 'caroline': 0, 'restaurant': 2, 'waitresses': 1, 'cornetcy': 1, 'bought': 20, 'debt': 28, 'playmate': 2, 'shabby': 6, 'lined': 28, 'knot': 12, 'appearancethat': 1, 'trip': 31, 'parading': 2, 'conveyed': 8, 'provided': 11, 'prided': 1, 'captaincy': 2, 'promptitude': 1, 'accuracy': 5, 'satisfactorily': 2, 'recommendation': 3, 'allotted': 4, 'chess': 12, 'accurate': 8, 'pyramid': 1, 'chessmen': 3, 'bergs': 0, 'opponents': 9, 'pawn': 3, 'petisenfans': 1, 'allay': 2, 'cushay': 1, 'dormir': 1, 'omit': 12, 'replace': 24, 'dread': 72, 'insincere': 6, 'hima': 13, 'martial': 12, 'swagger': 6, 'baritone': 3, 'mud-bespattered': 2, 'landlady': 1, 'popped': 3, 'bolknskian': 0, 'cording': 75, 'tsarvich': 0, 'revels': 2, 'eying': 12, 'soften': 22, 'rudeness': 4, 'hosts': 6, 'cleanest': 2, 'speck': 2, 'pig': 11, 'gabriel': 0, 'enclosed': 2, 'dreamer': 3, 'everythings': 1, 'guardsmen': 0, 'irascibility': 1, 'relate': 41, 'gusto': 1, 'galicia': 0, 'irregularity': 2, 'arnauts': 0, 'tsarvichs': 0, 'regulations': 5, 'lords': 4, 'self-complacency': 1, 'stormed': 6, 'albanians': 0, 'siberia': 0, 'sagacious': 2, 'lighting': 13, 'truthful': 2, 'lapsed': 13, 'falsehood': 10, 'hearerswho': 1, 'storythey': 1, 'narrators': 1, 'aflame': 1, 'square': 24, 'slashed': 1, 'frenzy': 3, 'experiences': 4, 'assistance': 8, 'recounting': 3, 'allowance': 4, 'unconquerable': 1, 'condescend': 12, 'exasperation': 5, 'authority': 29, 'self-respect': 1, 'duel': 33, 'drubetsky': 0, 'displease': 19, 'friday': 0, 'omitted': 5, 'worried': 13, 'frail': 3, 'hated': 12, 'campaigning': 3, 'allied': 6, 'wheeled': 2, 'showy': 2, 'bandsmen': 1, 'roan': 41, 'brazen': 1, 'linstocks': 2, 'crawled': 5, 'waists': 1, 'necks': 9, 'stiff': 15, 'collars': 2, 'scarves': 3, 'decorations': 12, 'pomaded': 6, 'weapons': 9, 'groomed': 3, 'satin': 6, 'wetted': 1, 'smoothfelt': 1, 'insignificance': 11, 'ocean': 1, 'activities': 12, 'vast': 23, 'gust': 65, 'streamers': 2, 'lances': 23, 'unfolded': 4, 'standards': 15, 'staffs': 5, 'crowing': 3, 'sunrise': 2, 'deathlike': 2, 'stillness': 12, 'suites': 7, 'trumpets': 1, 'trumpeters': 2, 'deafeningly': 1, 'awed': 6, 'multitude': 3, 'immensity': 1, 'constituted': 9, 'self-forgetfulness': 2, 'atom': 6, 'crime': 23, 'deeds': 6, 'imminence': 1, 'fuller': 2, 'immobility': 3, 'composing': 3, 'freely': 17, 'menthe': 4, 'undivided': 2, 'tensely': 1, 'cocked': 4, 'peaks': 9, 'resonant': 1, 'ecstasy': 7, 'trait': 67, 'tsars': 0, 'longed': 57, 'earned': 65, 'georges': 0, 'injure': 12, 'rapture': 24, 'undecided': 12, 'indecision': 10, 'groin': 1, 'bay': 27, 'irregularly': 2, 'indolently': 3, 'quarrel': 31, 'affronts': 1, 'ceremonial': 3, 'purchased': 1, 'squadronthat': 1, 'horseman': 4, 'spurred': 8, 'foaming': 1, 'muzzle': 2, 'blissful': 10, 'vewy': 8, 'leap': 12, 'fare': 55, 'essen': 90, 'profit': 11, 'friendliness': 1, 'couldpreferably': 1, 'cringe': 1, 'brains': 4, 'courts': 7, 'strengthened': 8, 'guardsmans': 0, 'exalted': 5, 'personages': 13, 'medals': 3, 'immeasurably': 3, 'heartily': 5, '15': 9, 'waltz': 4, 'obsequious': 3, 'heed': 18, 'surmised': 1, 'subordination': 6, 'prescribed': 7, 'code': 10, 'tight-laced': 1, 'purple-faced': 2, 'chat': 27, 'unwritten': 4, 'law': 234, 'annihilate': 4, 'fussing': 1, 'survey': 9, 'weyrothers': 0, 'thinkingfor': 1, 'blushingof': 1, 'apology': 1, 'gentlemans': 8, 'gentlemanevidently': 1, 'subordinationlooked': 1, 'presumptuous': 1, 'regards': 7, 'dolgorkov': 0, 'centered': 10, 'attach': 34, 'obtaining': 7, 'confers': 1, 'retinues': 1, 'schwartzenberg': 0, 'triumphed': 1, 'counseled': 1, 'confuted': 1, 'conclusive': 2, 'evidence': 4, 'councilthe': 1, 'itno': 4, 'undoubtedly': 7, 'strategic': 10, 'operations': 7, 'ordained': 2, 'maneuver': 26, 'maps': 4, 'warmest': 2, 'advocates': 3, 'uppermost': 2, 'unjust': 8, 'minuteness': 2, 'foresight': 2, 'eventuality': 2, 'combination': 16, 'valorwhat': 1, 'tra-di-ri-di-ra': 0, 'consul': 29, 'bilbinhes': 0, 'suitable': 15, 'chef': 2, 'gouvernement': 1, 'franais': 3, 'dislike': 19, 'emperormore': 0, 'diplomatistyou': 1, 'adroitness': 3, 'play-acting': 1, 'markv': 0, 'talkative': 3, 'petitioner': 5, 'nuisance': 6, 'levity': 1, 'contact': 8, 'obedient': 7, 'metcoming': 1, 'entereda': 1, 'projecting': 1, 'vivacity': 2, 'shiftiness': 1, 'cool': 6, 'intensity': 3, 'animosity': 3, 'adam': 51, 'czartorski': 0, 'austerlitz': 0, 'sixteenth': 3, 'highroad': 24, 'distinguishing': 3, 'convoyed': 2, 'stnya': 1, 'wischau': 0, 'sunny': 4, 'frost': 41, 'precedes': 2, 'inactivity': 4, 'dwown': 1, 'gwief': 1, 'roadside': 4, 'captive': 7, 'dragoon': 35, 'alsatian': 0, 'corporals': 5, 'horsecloths': 4, 'excused': 3, 'soldierly': 3, 'freshness': 8, 'richest': 7, 'good-naturedly': 6, 'alley': 22, 'hats': 365, 'longed-for': 2, 'arrives': 4, 'cavalcade': 1, 'festive': 4, 'shedding': 3, 'beams': 8, 'deathly': 1, 'sire': 138, 'level': 12, 'liveliness': 3, 'fourteen-year-old': 2, 'poured': 11, 'remonstrances': 1, 'represented': 17, 'defeated': 10, 'petty': 10, 'market': 8, 'chestnut': 12, 'prone': 3, 'revolting': 2, 'shocked': 4, 'shuddered': 8, 'tapping': 4, 'spur': 35, 'well-trained': 1, 'unconcerned': 4, 'dismounting': 4, 'quelle': 1, 'yielded': 9, 'ration': 244, 'songs': 10, 'dealbut': 1, 'twenty-year-old': 1, 'uplifted': 7, 'responded': 7, 'appwove': 1, 'wandering': 6, 'dienot': 1, 'memorable': 7, 'preceding': 10, 'tenths': 4, 'villier': 0, 'physician': 3, 'indisposition': 3, 'daybreak': 5, 'seventeenth': 2, 'demanding': 6, 'outposts': 13, 'savary': 0, 'victor': 107, 'actuated': 2, 'eighteenth': 3, 'nineteenth': 8, 'interchange': 1, 'circles': 28, 'twentieth': 6, 'activitythe': 1, 'dispatching': 4, 'adjutantswas': 1, 'bivouacs': 3, 'tower': 8, 'revolve': 3, 'levers': 1, 'cogwheels': 3, 'chimes': 2, 'pop': 30, 'mechanism': 5, 'quiescent': 1, 'axles': 1, 'cogs': 1, 'engage': 84, 'revolving': 1, 'pulleys': 2, 'whirr': 4, 'lever': 63, 'catches': 5, 'obeying': 6, 'ken': 530, 'complicated': 13, '160000': 0, 'frenchall': 0, 'passions': 14, 'remorse': 14, 'humiliations': 1, 'outbursts': 2, 'enthusiasmwas': 1, 'so-called': 17, 'emperorsthat': 0, 'dial': 18, 'tolsty': 0, 'dyou': 4, 'temporize': 1, 'fears': 8, 'prizing': 1, 'method': 24, 'chagrin': 2, 'rulenot': 1, 'cunctators': 0, 'map': 21, 'eventualities': 2, 'flanking': 4, 'disadvantage': 8, 'demonstrate': 5, 'defects': 3, 'merits': 4, 'bothering': 2, 'herr': 3, 'wimpfen': 0, 'comte': 43, 'langeron': 0, 'lichtenstein': 0, 'hohenlohe': 0, 'prishprish': 0, 'names': 11, 'backbiter': 1, 'milordovich': 0, 'arakchev': 0, 'nerves': 5, 'rice': 32, 'cutlets': 2, 'shortly': 2, 'marked': 108, 'drowsy': 2, 'chairman': 3, 'president': 1, 'unrestrainable': 1, 'reconnoiter': 4, 'dictated': 3, 'bespattered': 4, 'haughty': 1, 'noblemans': 2, 'dimensions': 4, 'ostralitz': 0, 'office': 683, 'environs': 1, 'unbuttoned': 11, 'bulged': 2, 'podgy': 3, 'droop': 17, 'emitted': 4, 'elsehe': 1, 'satisfying': 4, 'heading': 2, 'kobelnitz': 0, 'sokolnitz': 0, '30': 7, 'wooded': 6, 'extends': 1, 'ponds': 4, 'whereby': 1, 'pursue': 22, 'schlappanitz': 0, 'thuerassa': 0, 'defiles': 1, 'bellowitz': 0, 'glistening': 5, 'twisted': 5, 'outwards': 2, 'stubbornly': 3, 'disagreed': 2, 'arrangements': 21, 'typically': 1, 'twirled': 4, 'longest': 1, 'rotary': 1, 'inimical': 2, 'lurking': 2, 'latters': 5, 'impressive': 3, 'twirling': 2, 'geography': 3, 'przebyszwski': 0, 'dohktrov': 0, 'mien': 1, 'outspread': 4, 'complied': 1, 'whereas': 7, 'langerons': 0, 'objections': 5, 'valid': 18, 'weyrotherwho': 0, 'school': 21, 'childrenthat': 1, 'miller': 2, 'wakes': 2, 'soporific': 1, 'drone': 7, 'sink': 24, 'virulently': 2, 'sting': 239, 'argued': 6, 'render': 57, 'worthless': 6, 'doom': 3, 'subtly': 2, 'disputing': 12, 'foi': 4, 'ridiculous': 14, 'quenched': 1, 'saves': 1, 'tomorrowor': 1, 'midnightcannot': 1, 'midnight': 13, 'vague': 29, 'righthe': 1, 'considerations': 21, 'series': 38, 'memories': 27, 'emotional': 3, 'billeted': 2, 'foggy': 3, 'moonlight': 14, 'presentiment': 8, 'presents': 20, 'expresses': 8, 'justness': 1, 'undertakes': 1, 'divisionstipulates': 1, 'arrangementsleads': 1, 'triumphs': 1, 'planned': 8, 'nominally': 0, 'betrayed': 7, 'thiswant': 1, 'esteem': 12, 'familyi': 0, 'mefather': 1, 'wifethose': 1, 'meyet': 1, 'coachmans': 7, 'teasing': 2, 'cook': 34, 'tit': 198, 'thresh': 17, 'sleepiness': 1, 'misty': 10, 'peer': 14, 'glimmer': 1, 'appearednow': 1, 'memoriesand': 1, 'unmask': 1, 'deceivers': 1, 'deceitful': 1, 'slap': 7, 'watchwordshaft': 1, 'lighter': 5, 'knoll': 38, 'glade': 3, 'moon': 33, 'unmelted': 1, 'spotune': 1, 'tache': 97, 'na': 3682, 'tasha': 1, 'sabretachekeep': 0, 'succumbing': 1, 'itthats': 1, 'tverskya': 0, 'gryevs': 0, 'gryev': 0, 'na-tsha': 0, 'flared': 10, 'ahahah': 1, 'rrrr': 1, 'fidgeting': 1, 'pawed': 1, 'frozen': 11, 'pricking': 3, 'produce': 71, 'vive': 10, 'lempereur': 1, 'looming': 1, 'elephant': 1, 'phenomenon': 11, 'kindle': 11, 'fdchenko': 0, 'mistaking': 3, 'gullies': 2, 'discovering': 2, 'mistakes': 14, 'hillside': 3, 'safer': 1, 'pickets': 3, 'whizzing': 1, 'plaintive': 5, 'pan': 324, 'repress': 23, 'induced': 5, 'occasioned': 6, 'proclamation': 21, 'wisps': 2, 'valor': 6, 'exposing': 5, 'blows': 10, 'plea': 543, 'imbued': 4, 'hirelings': 1, 'conclude': 49, 'breakfasting': 2, 'tattoo': 2, 'flames': 19, 'sheds': 5, 'guides': 2, 'heralds': 1, 'swords': 9, 'packed': 18, 'loads': 4, 'sailor': 3, 'ship': 83, 'reaches': 7, 'decks': 1, 'masts': 1, 'rigging': 1, 'jack': 25, 'latitude': 1, 'battleheaven': 1, 'whencea': 1, 'awakening': 11, 'cliffs': 1, 'slopes': 4, 'enclosures': 1, 'krskies': 0, 'exert': 9, 'cheer': 74, 'dislocation': 1, 'define': 28, 'flows': 4, 'irrepressibly': 1, 'creek': 1, 'mismanagement': 1, 'attributed': 14, 'muddle': 8, 'eaters': 8, 'blocked': 8, 'theyd': 1, 'rhyme': 1, 'muddling': 1, 'tafa-lafa': 0, 'mimicking': 1, 'shoot': 30, 'altercation': 1, 'densely': 1, 'varying': 6, 'intervalstratatatand': 0, 'goldbach': 0, 'lazily': 4, 'timely': 3, 'pratzen': 0, 'unbroken': 5, 'suns': 20, 'orb': 63, 'float': 14, 'surface': 10, 'milky': 2, 'streams': 5, 'hollows': 5, 'facewhich': 1, 'thinmoved': 1, 'predictions': 2, 'lakes': 3, 'disappearing': 1, 'indications': 5, 'anniversary': 1, 'refreshed': 6, 'succeeds': 2, 'self-complacent': 1, 'sees': 24, 'venturing': 2, 'aglow': 3, 'lightas': 1, 'actionhe': 1, 'denuded': 1, 'milordovichs': 0, 'przebyszwskis': 0, 'thereby': 20, 'controlledly': 1, 'long-awaited': 1, 'contingencies': 8, 'hoar': 32, 'dew': 22, 'valleys': 2, 'shore': 5, 'discernible': 3, 'descried': 3, 'region': 15, 'irritable': 11, 'defile': 4, 'deploying': 1, 'surly': 1, 'malevolent': 6, 'barren': 2, 'omission': 1, 'lassitude': 1, 'yawning': 3, 'butts': 1, 'left-flank': 1, 'yawn': 7, 'saluting': 1, 'affecting': 3, 'obeys': 3, 'haze': 5, 'bewitching': 6, 'prevalent': 1, 'restfully': 1, 'volknsky': 0, 'strgonov': 0, 'richly': 1, 'well-groomed': 1, 'heated': 8, 'questionmost': 0, 'grooms': 2, 'relay': 6, 'cloths': 5, 'whiff': 6, 'stuffy': 3, 'cheerless': 1, 'advent': 9, 'complaining': 4, 'resounding': 4, 'preclude': 2, 'twitchedthat': 0, 'dissatisfaction': 16, 'observantly': 2, 'unreasoning': 7, 'submissive': 15, 'nvgorod': 0, 'psheron': 8, 'red-faced': 7, 'strenuously': 1, 'ferons': 1, 'sera': 14, 'dans': 4, 'notre': 3, 'possibilit': 74, 'brisk': 24, 'cheery': 1, 'gallant': 13, 'psherons': 4, 'gallantly': 2, 'enduring': 4, 'cob': 5, 'followers': 2, 'carabineers': 1, 'roads': 44, 'barely': 3, 'alls': 121, 'oneself': 16, 'hindering': 2, 'flood': 9, 'wretches': 5, 'gasped': 3, 'volley': 3, 'despairingly': 2, 'feebleness': 2, 'choking': 10, 'leapt': 1, 'aimed': 101, 'unceasingly': 4, 'himat': 1, 'distraught': 4, 'unarmed': 3, 'stab': 67, 'remembers': 6, 'stabs': 1, 'trailing': 3, 'bludgeon': 1, 'skythe': 1, 'andrewnot': 0, 'glide': 6, 'infinite': 41, 'dolgorkovs': 0, 'commence': 21, 'avert': 5, 'expressionless': 4, 'boyish': 1, 'elasticity': 1, 'bravest': 5, 'rein': 56, 'uvrovs': 6, 'volleys': 1, 'chase': 21, 'hillsides': 1, 'caissons': 2, 'whither': 6, 'sights': 2, 'depressing': 9, 'intimidating': 1, 'stimulated': 4, 'handful': 4, 'uhlans': 0, 'width': 1, 'trotting': 2, 'jingle': 2, 'crushed': 12, 'collide': 4, 'bowled': 1, 'shied': 1, 'extending': 6, 'amazed': 16, 'youths': 3, 'thousand-ruble': 3, 'eighteen': 13, 'warlike': 7, 'describing': 12, 'discharged': 7, 'helmet': 2, 'uniformed': 2, 'familythe': 1, 'bergshave': 0, 'knights': 5, 'traversed': 2, 'charged': 12, 'hottest': 1, 'issue': 37, 'perish': 44, 'foreboding': 5, 'evil': 116, 'czech': 0, 'themthe': 2, 'traitors': 8, 'zum': 6, 'henker': 0, 'diese': 1, 'hubbub': 1, 'thronged': 5, 'calches': 3, 'droned': 1, 'jostled': 5, 'dismal': 6, 'bolted': 1, 'batman': 1, 'groom': 28, 'dangerously': 1, 'derision': 3, 'ivnych': 0, 'drives': 6, 'ballstruck': 1, 'killedwounded': 1, 'corrected': 7, 'namewell': 1, 'hosjeradek': 0, 'russiansthe': 0, 'woundedhad': 1, 'heaps': 2, 'well-kept': 1, 'plowland': 1, 'acres': 3, 'crept': 7, 'twos': 3, 'threes': 5, 'distressing': 3, 'feignedor': 1, 'afraidafraid': 1, 'unfortunates': 2, 'strewn': 4, 'corpses': 9, 'ober-hofmarschal': 0, 'thither': 4, 'horseback': 6, 'leaped': 6, 'crumbled': 2, 'hind': 365, 'deferentially': 2, 'riveted': 2, 'refusal': 16, 'lamented': 2, 'beloved': 16, 'trembles': 1, 'unnerved': 1, 'dares': 4, 'despondent': 2, 'fails': 4, 'speeches': 5, 'recall': 76, 'intrude': 3, 'risk': 39, 'sorrowfully': 3, 'toll': 2, 'chanced': 6, 'assisted': 1, 'tolls': 0, 'unique': 2, 'bandy-legged': 2, 'serf': 93, 'peaked': 3, 'sheepskin': 8, 'dokhtrovs': 0, 'dams': 1, 'banks': 9, 'augesd': 0, 'rallying': 2, 'pursuing': 8, 'dusk': 6, 'tasseled': 1, 'angling': 3, 'grandson': 4, 'handled': 2, 'silvery': 3, 'fish': 11, 'watering': 3, 'moravians': 0, 'two-horse': 1, 'wheat': 6, 'dusty': 13, 'whitening': 1, 'cartson': 1, 'splashing': 13, 'dlokhovnow': 0, 'officerwounded': 1, 'impelled': 2, 'wedged': 2, 'edge': 99, 'slippery': 3, 'millpool': 1, 'bears': 8, 'flopped': 4, 'pool': 9, 'pond': 77, 'shrank': 6, 'cries': 21, 'collapsed': 5, 'flop': 7, 'oftenest': 2, 'flagstaff': 2, 'profusely': 2, 'moan': 32, 'moaning': 13, 'unconsciousness': 3, 'lacerating': 1, 'infinity': 5, 'stiffened': 3, 'trophy': 2, 'buzzing': 8, 'everlasting': 2, 'napoleonhis': 0, 'herobut': 1, 'jolting': 5, 'probing': 2, 'regain': 9, 'transfer': 47, 'senses': 7, 'repnn': 0, 'honorably': 1, 'bestow': 6, 'sukhtlen': 0, 'meddle': 3, 'hindrance': 9, 'failing': 11, 'epithet': 1, 'paltry': 1, 'equitable': 1, 'futile': 3, 'unimportance': 3, 'bivouac': 12, 'larrey': 0, 'indefinable': 2, 'wordsthe': 1, 'nothing-': 0, 'sewn': 3, 'amulet': 1, 'all-important': 1, 'jolt': 15, 'unendurable': 1, 'feverishness': 1, 'delirious': 5, 'visions': 42, 'unsympathizing': 1, 'misery': 10, 'melted': 10, 'chaos': 1, 'unconciousness': 1, 'oblivion': 2, 'convalescence': 6, 'bilious': 2, 'recover': 38, 'fatally': 1, 'district': 20, 'vornezh': 0, 'ruts': 4, 'snow-covered': 4, 'insufferable': 1, 'bakers': 1, 'signboards': 2, 'gate': 101, 'crossroads': 4, 'cabman': 3, 'zakhr': 0, 'buy': 20, 'gingerbread': 3, 'vodkaget': 1, 'overhead': 4, 'cornice': 1, 'plaster': 10, 'warped': 1, 'cleaned': 4, 'loosely': 2, 'tallow': 4, 'prokfy': 0, 'plaiting': 3, 'selvedges': 1, 'chandelier': 1, 'tornado': 1, 'outcries': 1, 'klya': 0, 'flocked': 2, 'exclaiming': 1, 'oh-ing': 1, 'ah-ing': 1, 'clinging': 7, 'kisses': 4, 'skirt': 27, 'goat': 3, 'braiding': 3, 'unnoticed': 12, 'introducing': 7, 'springing': 3, 'blissfully': 1, 'adoring': 2, 'disputed': 7, 'insufficient': 8, 'travelers': 5, 'satchels': 1, 'sabretaches': 1, 'portmanteaus': 4, 'pairs': 5, 'jugs': 1, 'basins': 1, 'shaving': 6, 'well-brushed': 1, 'odor': 21, 'hallo': 4, 'gwskamy': 0, 'husky': 3, 'glued': 3, 'starched': 1, 'blanket': 3, 'black-mustached': 1, 'servile': 2, 'frocks': 2, 'replies': 16, 'awfully': 5, 'herthou': 1, 'ruler': 30, 'cushions': 3, 'schoolroom': 3, 'wildly': 6, 're-entered': 4, 'thatif': 1, 'promiseit': 1, 'wouldnt': 19, 'duport': 0, 'duportthe': 0, 'dancer': 18, 'curving': 1, 'skirts': 10, 'caper': 4, 'rubbish': 13, 'breakfast': 10, 'reddened': 3, 'yousnya': 0, 'intermediacy': 1, 'selecting': 1, 'strangers': 12, 'observations': 4, 'whodreading': 1, 'matchblushed': 1, 'perfumed': 5, 'matches': 2, 'remortgaged': 1, 'acquiring': 2, 'trotter': 3, 'stylish': 1, 'adapting': 2, 'matured': 2, 'scripture': 0, 'borrowing': 2, 'gavrl': 0, 'slyhe': 2, 'childishness': 2, 'laced': 90, 'bravery': 3, 'training': 23, 'boulevards': 2, 'visited': 17, 'mazurka': 11, 'cooled': 2, 'incarnate': 1, 'rejoining': 1, 'drifted': 1, 'bind': 18, 'prizes': 1, 'derogatory': 1, 'races': 14, 'sprees': 2, 'housethat': 1, 'feoktst': 0, 'clubs': 4, 'asparagus': 2, 'cucumbers': 1, 'strawberries': 2, 'veal': 28, 'committee': 18, 'founded': 8, 'arrangement': 29, 'festival': 1, 'open-handed': 1, 'hospitable': 4, 'scale': 5, 'fewer': 9, 'management': 13, 'extract': 2, 'comb': 50, 'lessyes': 1, 'mayonnaise': 1, 'sterlets': 1, 'entre': 48, 'factotum': 1, 'maksm': 0, 'hothouses': 2, 'pots': 7, 'footstep': 31, 'sleeker': 2, 'orchestra': 10, 'gypsy': 9, 'providing': 5, 'rasgulyythe': 0, 'iptka': 0, 'knowsand': 1, 'ilyshka': 0, 'businesslike': 2, 'costume': 15, 'angelic': 3, 'wh-what': 0, 'ivnovnas': 0, 'compromised': 1, 'daredevil': 3, 'clubit': 1, 'banquet': 5, 'foregathered': 1, 'december': 0, 'conspiracy': 6, 'conversationcount': 0, 'rostopchn': 0, 'yri': 30, 'valev': 0, 'vyzemskidid': 0, 'moscovites': 0, 'othersily': 0, 'themremained': 1, 'leaders': 17, 'jury': 2, 'unheard-of': 4, 'defective': 4, 'incapacity': 4, 'inexperience': 3, 'achieved': 4, 'miracles': 1, 'heroes': 18, 'conduced': 2, 'moscows': 0, 'associated': 15, 'invent': 18, 'parodying': 1, 'voltaire': 0, 'abused': 5, 'weathercock': 2, 'satyr': 1, 'modeling': 2, 'highfalutin': 1, 'logical': 22, 'anecdotes': 5, 'examples': 5, 'singlehanded': 2, 'regretted': 11, 'springtime': 2, 'hither': 22, 'kaftns': 1, 'class': 30, 'guestschiefly': 1, 'dlokhovwho': 0, 'fashionably': 2, 'elsewhere': 8, 'subservience': 2, 'lording': 1, 'narshkin': 0, 'confidentially': 4, 'uvrov': 23, 'crowed': 3, 'cock': 23, 'improper': 6, 'unimportant': 8, 'well-set-up': 1, 'igntovich': 0, 'bells': 22, 'stewards': 10, 'andlike': 2, 'rye': 24, 'shovelthe': 1, 'eve': 3640, 'virile': 2, 'comical': 2, 'bekleshv': 0, 'theodore': 0, 'parquet': 5, 'plowed': 4, 'kursk': 0, 'grabernand': 0, 'committeemen': 2, 'committeeman': 1, 'salver': 6, 'printed': 9, 'heros': 1, 'obligingly': 1, 'fixing': 7, 'titus': 0, 'shield': 4, 'rhipheus': 0, 'caesar': 0, 'een': 2269, 'herculean': 0, 'stentorian': 1, 'major-domo': 13, 'polonaise': 5, 'conquests': 4, 'waken': 30, 'valiant': 5, 'alexandersbekleshv': 0, 'narshkinwhich': 0, 'allusion': 6, 'deepest': 4, 'disjointed': 1, 'proudly': 6, 'personification': 3, 'lenten': 0, 'sterlet': 3, 'self-conscious': 3, 'corks': 1, 'toasts': 1, 'gulp': 2, 'subsided': 5, 'toast': 4, 'choir': 8, 'cantata': 2, 'barriers': 3, 'conquest': 7, 'guarantees': 1, 'foemen': 1, 'aprksin': 0, 'organizer': 1, 'blinking': 5, 'unsolved': 2, 'monstrous': 6, 'recovered': 13, 'boon': 1, 'lent': 337, 'cynically': 1, 'exerted': 2, 'befriended': 1, 'spice': 1, 'add': 491, 'deceiving': 3, 'cruelty': 15, 'challenged': 5, 'post-boys': 1, 'bully': 2, 'himand': 5, 'rake': 5, 'inimically': 1, 'wordan': 1, 'preoccupation': 5, 'submissively': 6, 'confound': 4, 'peterkinand': 0, 'distributing': 11, 'leaflets': 2, 'snatched': 10, 'mirthful': 1, 'ejaculated': 6, 'indubitably': 5, 'affirmative': 6, 'sundered': 1, 'gypsies': 7, 'soklniki': 0, 'dueling': 1, 'huntsman': 24, 'kostrom': 0, 'demain': 1, 'haggard': 1, 'distractedly': 1, 'guiltlessness': 1, 'bury': 7, 'impetuous': 8, 'horribly': 1, 'regrets': 4, 'opponent': 18, 'irreparable': 2, 'convey': 19, 'trigger': 3, 'handa': 1, 'apologies': 1, 'attempting': 2, 'melting': 6, 'antagonists': 3, 'measuring': 3, 'averted': 1, 'independently': 16, 'advesawies': 1, 'wefused': 1, 'weconciliation': 1, 'pwoceed': 1, 'thwee': 2, 'o-ne': 1, 't-wo': 0, 'combatants': 2, 'semblance': 4, 'track': 13, 'no-o-o': 0, 'staggering': 6, 'bloody': 3, 'pallid': 1, 'sucked': 2, 'glittered': 16, 'adversary': 2, 'trampling': 5, 'incoherent': 10, 'survive': 6, 'quieter': 4, 'implored': 6, 'brawler': 1, 'hunchback': 1, 'reeled': 1, 'itbecause': 0, 'honeymoon': 2, 'vivid': 34, 'unapproachability': 1, 'complacency': 3, 'depraved': 7, 'borrow': 8, 'symptoms': 9, 'coarseness': 1, 'bluntness': 2, 'vulgarity': 1, 'aristocratic': 3, 'allez-vous': 0, 'promener': 1, 'bravado': 1, 'confidant': 3, 'digested': 1, 'slur': 4, 'honorthats': 1, 'criminal': 16, 'canonized': 1, 'martyrs': 1, 'robespierre': 0, 'beheaded': 1, 'despot': 3, 'alivelive': 1, 'eternity': 8, 'calmed': 3, 'molires': 0, 'diable': 3, 'allait-il': 1, 'galre': 1, 'galley': 1, 'pack': 73, 'ottoman': 2, 'coronet': 1, 'wrathful': 4, 'wrinkle': 39, 'continues': 4, 'crouch': 5, 'stammered': 3, 'amant': 2, 'tes': 985, 'sot': 2, 'laughingstock': 3, 'cleverer': 3, 'amants': 1, 'brandishing': 2, 'slab': 2, 'swooping': 2, 'outstretched': 7, 'searches': 1, 'gazettes': 1, 'vaguely': 12, 'engagements': 3, 'withdrawal': 3, 'gazette': 2, 'befallen': 1, 'regimenthe': 1, 'fatherland': 16, 'grim': 34, 'impetus': 5, 'incomprehensiblethe': 1, 'andrewsaid': 0, 'indescribable': 1, 'joya': 4, 'worldoverflowed': 1, 'scraggy': 2, 'unbelief': 1, 'realms': 2, 'blessedness': 7, 'russias': 1, 'expectantly': 1, 'knelt': 7, 'restless': 19, 'malign': 4, 'cherish': 6, 'monument': 5, 'weaker': 19, 'manifest': 29, 'princessinfluenced': 1, 'causewas': 1, 'mornings': 9, 'fruschtique': 1, '*as': 2, 'fka': 0, 'ithas': 1, 'frhstck': 0, 'ponderous': 1, 'bogdnovna': 0, 'midwife': 5, 'assented': 11, 'pallor': 5, 'indigestion': 2, 'capriciously': 1, 'hastening': 5, 'accordance': 7, 'kneeling': 6, 'prayers': 13, 'praskvya': 0, 'svishna': 0, 'saint': 15, 'birdie': 1, 'travail': 3, 'pretend': 36, 'staid': 3, 'softening': 4, 'outlying': 1, 'torches': 1, 'newssay': 0, 'labor': 37, 'perturbed': 6, 'snuffing': 1, 'mystery': 14, 'unfathomable': 4, 'lessen': 3, 'resume': 16, 'scatters': 1, 'snows': 2, 'storms': 2, 'pools': 2, 'kerchief': 57, 'kishenv': 0, 'moldavian': 0, 'casement': 5, 'larks': 2, 'forcing': 4, 'latch': 2, 'blew': 6, 'chill': 17, 'snowy': 4, 'draft': 5, 'flapped': 1, 'banister': 1, 'guttered': 1, 'philip': 0, 'demyn': 0, 'replywhich': 1, 'speakhe': 1, 'apartment': 18, 'pains': 14, 'inflamed': 3, 'saida': 1, 'pangs': 1, 'moans': 6, 'shriekit': 1, 'thatcame': 1, 'infant': 98, 'choked': 9, 'mesaid': 0, 'squealed': 1, 'bogdnovnas': 0, 'vise': 68, 'coffin': 11, 'waxen': 2, 'baptized': 1, 'coverlet': 1, 'anointed': 1, 'soles': 2, 'battered': 1, 'tin': 3194, 'font': 3, 'godmother': 1, 'termination': 12, 'babys': 6, 'floated': 3, 'fdya': 0, 'pure-souled': 1, 'virtue': 45, 'pranks': 1, 'tricks': 3, 'scotfree': 1, 'nowthis': 1, 'reckoning': 8, 'owed': 399, 'baseness': 10, 'throttle': 2, 'friendsyou': 1, 'themand': 3, 'harmful': 20, 'high-minded': 1, 'womencountesses': 1, 'cookswho': 1, 'venal': 2, 'purity': 16, 'regenerate': 1, 'purify': 6, 'elevate': 3, 'happiest': 6, 'merriest': 4, 'childishly': 2, 'girlishly': 1, 'prevailed': 6, 'amorous': 3, 'homes': 13, 'houseseeing': 1, 'impressionable': 1, 'fitful': 1, 'bursts': 6, 'inconsequent': 1, 'prattle': 1, 'hopeexperienced': 1, 'folk': 35, 'readiness': 18, 'quarreled': 10, 'self-will': 1, 'dlokhovyou': 0, 'prediction': 4, 'iogels': 0, 'recruits': 6, 'militia': 48, 'anathematized': 1, 'furlough': 3, 'christmas': 0, 'zest': 2, 'epiphany': 0, 'holiday': 15, 'tension': 3, 'lesser': 17, 'sensitiveness': 1, 'wary': 2, 'iogel': 0, 'holidays': 6, 'dmtrich': 0, 'jocularly': 1, 'knight': 8, 'weady': 2, 'chle': 5, 'dowerless': 2, 'orphan': 2, 'nicholasdont': 0, 'angrybut': 1, 'articulating': 4, 'misleading': 2, 'maidens': 1, 'gorchakv': 0, 'dances': 7, 'absence': 48, 'tickets': 1, 'exceptions': 4, 'prettyso': 1, 'exceptionally': 2, 'prettiest': 2, 'transparently': 1, 'patronage': 6, 'isshe': 2, 'weal': 49, 'gwace': 1, 'pupilsyou': 1, 'wallflower': 1, 'wecollect': 1, 'talentoh': 1, 'mazuwka': 1, 'delightedly': 3, 'coax': 1, 'jokingly': 1, 'faiwy': 1, 'unhooked': 1, 'stature': 2, 'clanking': 3, 'spun': 4, 'click': 8, 'curtsy': 1, 'acknowledge': 13, 'mopping': 1, 'friendscome': 1, 'hotel': 2, 'pile': 12, 'chorus': 4, 'reddening': 3, 'punt': 1, 'trusts': 2, 'staked': 3, 'dealt': 15, 'muddled': 2, 'players': 5, 'stint': 1, 'scored': 2, '800': 2, 'chalk': 7, 'sunday': 0, 'economical': 2, 'duets': 1, 'piquet': 1, 'vividness': 3, 'unappreciated': 1, 'illumined': 3, 'plunge': 11, 'depths': 19, 'undefined': 4, 'reddish': 8, 'wrists': 4, 'sharper': 5, 'aah': 0, 'exceeded': 3, 'forty-three': 6, 'scrawled': 2, 'broad-boned': 3, 'ace': 2070, 'knave': 1, 'quits': 1, 'staking': 12, 'casket': 3, 'agile': 3, 'bathed': 5, 'fateful': 1, 'accents': 1, 'brainthats': 1, 'addition': 13, 'twenty-one': 2, 'unbent': 1, 'iou': 834, 'unlucky': 4, 'inflict': 8, 'mouse': 1, 'enfolded': 1, 'pervaded': 2, 'thicker': 2, 'thunderstorm': 1, 'gentlewoman': 1, 'ruffled': 1, 'chords': 3, 'enchantress': 2, 'forsaken': 3, 'lyre': 2, 'magic': 8, 'recalls': 1, 'inmost': 1, 'black-agate': 1, 'persuade': 18, 'excuses': 4, 'bacawollai': 0, 'entweat': 1, 'barcarolle': 2, 'chord': 30, 'ruined': 39, 'dishonored': 3, 'menot': 2, 'onelet': 1, 'self-reproach': 5, 'resonance': 3, 'lifelessly': 2, 'rapt': 57, 'swelled': 3, 'mainly': 1, 'connoisseurs': 2, 'untrained': 2, 'incorrect': 5, 'labored': 2, 'sounding': 7, 'virginal': 1, 'velvety': 4, 'anticipation': 2, 'beats': 3, 'mio': 5, 'crudele': 2, 'affetto': 2, 'honorits': 1, 'si': 8976, 'vibrated': 2, 'rob': 159, 'wellhad': 0, 'dealforty': 1, 'apoplectic': 1, 'flush': 83, 'kneel': 7, 'rude': 35, 'bustlingly': 1, 'furtive': 3, 'resistance': 3, 'pa-pa': 0, 'chit': 22, 'indignantly': 2, 'responsive': 1, 'accidently': 1, 'sarcastically': 5, 'indignant': 4, 'donot': 0, 'densovbut': 0, 'plight': 10, 'wong': 1, 'adore': 23, 'albums': 4, 'receipt': 8, 'overtake': 17, 'torzhk': 0, 'postmaster': 7, 'supply': 9, 'undressing': 13, 'overboots': 1, 'reflect': 76, 'pondering': 2, 'questionone': 1, 'accommodation': 2, 'selling': 8, 'agonizing': 3, 'solitude': 16, 'solve': 50, 'thread': 7, 'screw': 28, 'stripped': 6, 'traveler': 16, 'unavoidable': 8, 'thrashing': 3, 'thrashed': 1, 'himalso': 1, 'governs': 2, 'peddler': 1, 'whining': 3, 'goatskin': 1, 'stands': 18, 'prey': 3, 'deathdeath': 0, 'tomorrowat': 1, 'half-cut': 1, 'novel': 20, 'souza': 0, 'struggles': 2, 'emilie': 0, 'mansfeld': 0, 'wifeas': 1, 'wasdid': 1, 'wisdom': 13, 'repellent': 3, 'repugnance': 2, 'tantalizing': 1, 'large-boned': 1, 'yellow-faced': 1, 'overhanging': 2, 'indefinite': 18, 'grayish': 1, 'wraps': 2, 'nankeen-covered': 1, 'shriveled': 10, 'iron': 63, 'representing': 7, 'deaths': 4, 'beard': 25, 'unpacking': 1, 'boiling': 4, 'beardless': 4, 'inevitability': 48, 'upside': 4, 'unfinished': 6, 'nibbled': 2, 'sugar': 11, 'devotional': 2, 'marker': 1, 'emphasize': 2, 'sayyes': 0, 'misfortunei': 0, 'submitting': 7, 'paternal': 5, 'skulla': 1, 'masonic': 0, 'mason': 36, 'brotherhood': 7, 'freemasons': 0, 'wavering': 4, 'personality': 11, 'ridiculing': 1, 'beliefsi': 0, 'understandinghow': 1, 'iti': 1326, 'opposed': 11, 'outlook': 7, 'invariable': 3, 'ignorance': 9, 'regrettable': 2, 'delusion': 5, 'deluded': 1, 'cooperation': 2, 'generations': 4, 'forefather': 2, 'reared': 5, 'regretfully': 3, 'blasphemous': 3, 'hast': 128, 'denied': 6, 'exulting': 2, 'austerity': 1, 'invented': 12, 'didst': 2, 'attributes': 3, 'exists': 19, 'omnipotence': 1, 'vileness': 4, 'sinfulness': 1, 'dreamest': 1, 'couldst': 1, 'somber': 3, 'scornful': 4, 'unreasonable': 6, 'infinitely': 12, 'masons': 12, 'accepted': 36, 'believes': 5, 'earnestness': 1, 'tremor': 4, 'voicewhich': 1, 'brokeor': 1, 'dejection': 2, 'hopelessnessat': 0, 'regeneration': 7, 'apprehended': 1, 'reawakening': 1, 'fatherly': 1, 'purest': 2, 'liquid': 4, 'imbibe': 2, 'impure': 1, 'vessel': 5, 'purification': 5, 'retain': 20, 'sciences': 11, 'physics': 7, 'chemistry': 2, 'sciencethe': 2, 'wholethe': 1, 'creation': 7, 'implanted': 4, 'souls': 15, 'content': 44, 'relying': 1, 'gifts': 2, 'wincing': 4, 'hatest': 1, 'purified': 1, 'wilt': 1, 'orgies': 2, 'slaves': 1, 'profited': 1, 'toil': 20, 'profligate': 3, 'idleness': 9, 'sirtook': 1, 'discourse': 2, 'idle': 26, 'huskily': 1, 'exchange': 31, 'disclose': 9, 'practiced': 4, 'fastening': 1, 'gulped': 1, 'willarski': 0, 'self-examination': 1, 'joseph': 0, 'alexevich': 0, 'bazdev': 0, 'postmasters': 1, 'best-known': 1, 'martinists': 0, 'novkovs': 0, 'anew': 4, 'irreproachable': 6, 'freemasonry': 0, 'thomas': 0, 'kempis': 0, 'attaining': 4, 'ceremonious': 4, 'application': 9, 'sponsor': 3, 'sacred': 15, 'sponsorship': 1, 'sinceritynot': 1, 'renounced': 5, 'convictionsdo': 1, 'inquiries': 12, 'lodge': 35, 'well-lit': 1, 'attire': 3, 'undertone': 2, 'wardrobe': 3, 'cupboard': 6, 'shamefaced': 8, 'manfully': 1, 'affirmatively': 4, 'knock': 33, 'uncover': 6, 'numb': 100, 'complex': 18, 'actively': 4, 'knocks': 2, 'gospel': 0, 'cavities': 1, 'bones': 6, 'gospelit': 0, 'stimulate': 5, 'emotions': 5, 'associating': 2, 'leather-gloved': 1, 'outlining': 1, 'enlightenment': 8, 'boyhood': 2, 'socially': 1, 'bated': 2, 'rhetor': 0, 'seeker': 3, 'smolyannov': 0, 'acquaintancehe': 1, 'instructor': 3, 'utterance': 5, 'fraternity': 1, 'aims': 23, 'inadequacy': 1, 'atheist': 2, 'gloved': 4, 'coincides': 4, 'preservation': 4, 'posterity': 7, 'remotest': 3, 'mana': 83, 'diligent': 4, 'self-purification': 2, 'secondary': 4, 'enlighten': 11, 'tradition': 11, 'striven': 3, 'purifying': 2, 'regenerating': 2, 'thirdly': 3, 'improve': 26, 'combat': 8, 'sways': 2, 'exhortation': 3, 'oppressors': 1, 'victims': 3, 'improving': 1, 'appealed': 3, 'cured': 16, 'faults': 3, 'corresponding': 10, 'solomons': 0, 'cultivate': 2, 'discretion': 4, 'obedience': 5, '3': 60, 'morality': 2, '4': 23, '5': 54, '6': 57, 'generosity': 5, 'frees': 1, 'labors': 5, 'distressful': 1, 'recompense': 2, 'obediencewhich': 1, 'lawlessness': 1, 'indubitable': 6, 'delivers': 1, 'teaching': 11, 'chamber': 16, 'therein': 1, 'initiation': 2, 'imitates': 1, 'societies': 5, 'hieroglyphics': 1, 'hieroglyph': 3, 'emblem': 2, 'cognizable': 5, 'possesses': 7, 'symbol': 3, 'ordeal': 1, 'valuables': 3, 'rhetors': 0, 'trousers': 13, 'tuck': 31, 'trouser': 15, 'slipper': 14, 'self-derision': 2, 'candor': 1, 'reveal': 26, 'waver': 7, 'gluttony': 0, 'laziness': 0, 'irritability': 10, 'vices': 15, 'pre-eminence': 1, 'youturn': 1, 'source': 30, 'flooded': 3, 'unevenly': 2, 'slippered': 3, 'booted': 1, 'forwards': 4, 'mallets': 2, 'blindfolded': 6, 'allegories': 1, 'toils': 2, 'pilgrimage': 2, 'universe': 7, 'dangers': 4, 'wanderings': 2, 'sufferer': 0, 'postulant': 0, 'accompaniment': 2, 'knockings': 1, 'conductors': 1, 'compasses': 1, 'oath': 13, 'fidelity': 3, 'aprons': 2, 'pierce': 4, 'relit': 3, 'sic': 194, 'transit': 4, 'gloria': 1, 'mundi': 1, 'presidents': 0, 'dignitary': 3, 'swiss': 0, 'mallet': 4, 'star-shaped': 2, 'testament': 0, 'candlesticks': 1, 'churches': 20, 'angles': 4, 'bade': 4, 'prostrate': 5, 'trowel': 4, 'hush': 7, 'arouse': 41, 'prostrated': 1, 'stain': 36, 'whiteness': 6, 'symbolized': 2, 'unexplained': 3, 'cleanse': 2, 'vice': 199, 'indulgently': 1, 'meetings': 6, 'womens': 9, 'gift': 12, 'pledge': 3, 'select': 25, 'helpmeet': 1, 'masonry': 18, 'deck': 2, 'unclean': 1, 'brethren': 3, 'rug': 99, 'manuscript': 7, 'hammer': 5, 'plumb': 1, 'squared': 1, 'pillar': 4, 'password': 3, 'permitted': 5, 'statutes': 3, 'infringe': 6, 'exhort': 4, 'goeth': 1, 'falleth': 1, 'malice': 1, 'enmity': 3, 'flame': 32, 'fulfilling': 5, 'shalt': 1, 'congratulations': 4, 'rapped': 26, 'humility': 3, 'collector': 0, 'alms': 14, 'subscribe': 4, 'subscribed': 2, 'amount': 11, 'south': 13, 'attending': 10, 'becomes': 14, 'values': 3, 'disagreement': 5, 'recurred': 7, 'blinked': 1, 'lifeto': 1, 'self-assurance': 5, 'dependedwhether': 1, 'attractively': 2, 'reborn': 1, 'fatted': 1, 'calf': 6, 'sums': 5, 'odessa': 0, 'duels': 2, 'principals': 2, 'rupture': 7, 'extolled': 1, 'marriagewhen': 1, 'himespecially': 1, 'societys': 1, 'insanely': 1, 'cordially': 7, 'uncomplainingly': 1, 'openly': 6, 'touchedi': 0, 'priority': 1, 'raptures': 2, 'posed': 126, 'marat': 0, 'soirees': 5, 'foretold': 3, 'beforesuch': 1, 'arrangingat': 1, 'bloom': 3, 'essence': 27, 'selection': 2, 'thermometer': 2, 'jena': 0, 'auerstdt': 0, 'surrender': 32, 'fortresses': 4, 'diplomatists': 9, 'homme': 7, 'mrite': 1, 'noteworthy': 2, 'temperature': 2, 'mortification': 2, 'alter': 54, 'tu': 2908, 'las': 1355, 'voulu': 2, 'dandin': 0, 'self-possessed': 1, 'duly': 1, 'kurgincharming': 0, 'm': 58380, 'kronqcharg': 0, 'daffaires': 2, 'copenhagena': 0, 'shtova': 0, 'meritthis': 1, 'tastes': 6, 'peculiarities': 5, 'advantageously': 3, 'mission': 94, 'conversant': 1, 'incomparably': 2, 'perseverance': 2, 'discovery': 9, 'groat': 1, 'despised': 12, 'appraising': 1, 'establishing': 2, 'accrue': 1, 'bases': 2, 'treaty': 9, 'continuity': 5, 'danish': 0, 'charg': 56, 'lurope': 0, 'urope': 69, 'pronunciation': 1, 'ne': 14630, 'jamais': 1, 'allie': 17, 'sincre': 1, 'glogau': 0, 'deliberation': 7, 'abstaining': 2, 'narrative': 3, 'implied': 3, 'tuesday': 0, 'herplease': 1, 'roi': 60, 'prusse': 0, 'interrogatively': 2, 'impious': 1, 'circumspectly': 2, 'appreciative': 1, 'n': 180571, 'diplomatista': 1, 'precedents': 2, 'schwarzenberg': 0, 'caressing': 9, 'salon': 10, 'unsmiling': 1, 'nearing': 6, 'curses': 5, 'militiamen': 19, 'contradictory': 10, 'variously': 6, 'interpreted': 3, 'supervise': 1, 'enrollment': 4, 'decreed': 5, 'pedantic': 3, 'subordinates': 4, 'nephew': 25, 'dandling': 2, 'angelas': 1, 'nephewand': 1, 'chapel': 6, 'tomb': 4, 'angels': 6, 'sculptor': 1, 'boguchrovo': 0, 'partly': 12, 'recommenced': 4, 'recruitment': 1, 'roles': 1, 'results': 27, 'february': 0, '26': 5, '1807': 13, 'circuits': 1, 'ptrusha': 0, 'nursemaids': 1, 'drops': 21, 'wineglass': 4, 'unintentionally': 2, 'mixture': 1, 'cot': 26, 'boxes': 11, 'armchairs': 2, 'curtains': 3, 'screened': 4, 'offand': 1, 'wed': 469, 'fever': 38, 'mistrusting': 1, 'sleeplessness': 3, 'verbal': 5, 'correspondence': 6, 'ivnich': 0, 'scowled': 2, 'yougive': 1, 'abbreviations': 1, 'elongated': 1, 'newsif': 1, 'bennigsen': 0, 'eylau': 0, 'germani': 0, 'krchevoa': 0, 'khandrikvis': 0, 'additional': 6, 'preussisch-eylau': 0, 'ptenkahe': 0, 'mischief-makers': 1, 'krchevo': 0, 'sheets': 13, 'rocking': 2, 'exclusion': 2, 'idioms': 1, 'self-censure': 1, 'genuinely': 3, 'correspondent': 1, 'bile': 3, 'accumulated': 1, 'ab': 3420, 'ovo': 70, 'pays': 3, 'throws': 2, 'twists': 1, 'breaks': 3, 'smithereens': 1, 'installs': 1, 'ardently': 1, 'garrison': 3, 'frontiers': 5, 'octogenarians': 1, 'prozorvski': 0, 'preferred': 10, 'suvrov-like': 0, 'kibtka': 1, 'acclamations': 2, '4th': 2, 'mails': 1, 'waits': 8, 'grows': 10, 't': 219596, 'furies': 1, 'rages': 2, 'seizes': 4, 'opens': 5, 'consequently': 14, 'pultsk': 0, 'routed': 6, 'fuel': 51, 'frontierwhich': 1, 'sore': 6, 'journeys': 2, 'interior': 2, 'ostermann': 0, 'sedmortzki': 0, 'eaten': 84, 'ostrolenka': 0, 'humbly': 1, 'stira': 1, 'punishes': 3, 'increasingly': 2, 'civilians': 5, 'interregnum': 1, 'unfordable': 1, 'enabled': 5, 'pursues': 1, 'uswe': 1, 'scuttle': 1, 'crosses': 9, 'buxhwdens': 0, 'epileptic': 1, 'bennigsens': 0, 'critical': 6, 'vanquished': 6, 'rises': 12, 'usnamely': 1, 'biscuits': 8, 'fodder': 7, 'whatnot': 2, 'stores': 13, 'impassable': 3, 'looting': 10, 'scour': 6, 'countryside': 2, 'overflow': 14, 'famine': 1, 'marauders': 8, 'proposes': 3, 'divisions': 15, 'oblige': 26, 'perturb': 11, 'panicit': 1, 'sweat': 6, 'smacking': 2, 'perspired': 3, 'convalescent': 2, 'infants': 2, 'warning': 3, 'seclusion': 4, 'serfsand': 1, 'overburdened': 1, 'nursing': 10, 'punishments': 2, 'admonitory': 1, 'asylums': 3, 'schools': 7, 'semiliterate': 1, 'foremen': 1, 'embezzlement': 1, 'lisp': 5, 'cleverest': 2, 'budget': 1, '80000': 0, 'payments': 6, '30000': 0, 'upkeep': 1, '15000': 0, 'pensions': 1, '150000': 0, 'alimony': 1, '70000': 0, 'debts': 20, '10000': 0, '100000': 0, 'harvests': 3, 'rebuilding': 3, 'factories': 3, 'workshops': 2, 'aptitude': 3, 'inclinationpractical': 1, 'consultations': 4, 'liberate': 30, 'loans': 2, 'consequent': 19, 'crimean': 0, 'measuresthe': 1, 'injunctions': 2, 'onthat': 3, 'persistence': 2, 'proprietor': 4, 'landowner': 18, 'weaknessthe': 1, 'confessed': 7, 'lodgewere': 0, 'lunches': 2, 'precepts': 2, 'enjoined': 1, 'twomorality': 1, 'preceptsthat': 1, 'reforming': 2, 'raceand': 1, 'virtueslove': 1, 'attempts': 10, 'insaneunprofitable': 1, 'serfsmade': 1, 'concessions': 2, 'represent': 50, 'liberation': 10, 'impracticable': 1, 'erection': 3, 'buildingsschools': 1, 'asylumson': 1, 'offerings': 1, 'salt': 14, 'delude': 2, 'gladdening': 2, 'picturesque': 3, 'thriving': 1, 'touchingly': 2, 'benefits': 3, 'awakened': 11, 'chantry': 3, 'expense': 10, 'patron': 13, 'instructing': 1, 'erected': 5, 'almshouses': 1, 'manorial': 3, 'deputations': 1, 'full-skirted': 2, 'peters': 2, 'deputation': 10, 'exactions': 1, 'lessened': 1, 'obligatory': 2, 'philanthropic': 1, 'brother-instructor': 1, 'toy': 12, 'uselessness': 2, 'freeing': 1, 'measures': 10, 'sale': 10, 'gavethat': 1, 'uninteresting': 2, 'fir': 1175, 'brink': 2, 'homestead': 4, 'threshing': 4, 'outhouses': 1, 'stables': 3, 'bathhouse': 2, 'semicircular': 1, 'faade': 1, 'construction': 6, 'solid': 6, 'pumps': 1, 'paths': 5, 'handrails': 1, 'tidiness': 2, 'antn': 4, 'still-unplastered': 1, 'redolent': 1, 'sparkle': 6, 'manly-looking': 1, 'estranged': 1, 'inertia': 2, 'prolonged': 8, 'despondency': 1, 'enthusiasms': 1, 'searchingly': 3, 'travels': 1, 'improvements': 2, 'prompted': 6, 'old-time': 1, 'constrained': 5, 'constructing': 2, 'scaffolding': 1, 'nothings': 0, 'badwrong': 1, 'evils': 14, 'philosophy': 8, 'repent': 10, 'gloryand': 0, 'approvalso': 0, 'myselfthey': 1, 'prochain': 2, 'error': 48, 'prochainyour': 1, 'challenging': 4, 'littlethough': 1, 'ceremonies': 3, 'instructed': 4, 'retribution': 1, 'disease': 11, 'asylum': 9, 'palpable': 5, 'leisure': 11, 'lisping': 4, 'pastime': 5, 'argument': 37, 'veranda': 7, 'crooking': 2, 'forth': 25, 'spiritual': 35, 'lighten': 12, 'toss': 12, 'plowing': 1, 'mowing': 4, 'thingwhat': 1, 'crooked': 3, 'bleed': 17, 'drag': 87, 'cripple': 2, 'simpler': 4, 'grudged': 3, 'laborerthats': 1, 'himbut': 1, 'cure': 57, 'notion': 9, 'conclusions': 5, 'alleverything': 2, 'hateful': 1, 'wash': 26, 'cleanly': 2, 'thankful': 2, 'local': 11, 'nobility': 18, 'qualifications': 1, 'itthe': 3, 'fussy': 1, 'shallowness': 1, 'nook': 1, 'wontnot': 1, 'smolnsk': 0, 'hillseven': 0, 'unlimited': 3, 'paymasters': 1, 'ykhnovna': 0, 'hanged': 128, 'torment': 55, 'fatherthat': 1, 'flogged': 5, 'siberiaand': 0, 'stripes': 1, 'heal': 78, 'proprietors': 3, 'callous': 2, 'unjustly': 1, 'traditions': 8, 'forhuman': 1, 'foreheads': 2, 'shave': 26, 'husbandry': 1, 'immersed': 2, 'bull': 45, 'sect': 19, 'aspects': 1, 'christianity': 0, 'freed': 117, 'union': 15, 'fundamental': 4, 'convictions': 7, 'ferry': 5, 'raft': 25, 'railing': 8, 'flooding': 2, 'govern': 145, 'repetition': 3, 'denial': 1, 'atheistic': 1, 'areeternallychildren': 1, 'harmonious': 5, 'deitythe': 0, 'termis': 1, 'ladder': 3, 'plant': 17, 'vanish': 30, 'vanishes': 2, 'herders': 0, 'convince': 68, 'friendlife': 1, 'convinces': 4, 'ceases': 3, 'isgod': 0, 'reharnessed': 1, 'starring': 1, 'puddles': 3, 'ferrymen': 1, 'consists': 11, 'striving': 5, 'scrap': 13, 'slumbering': 1, 'customary': 15, 'epoch': 5, 'outwardly': 2, 'inwardly': 3, 'wallet': 4, 'long-haired': 2, 'garment': 8, 'disobeys': 1, 'pilgrims': 9, 'snug': 4, 'monks': 3, 'cassock': 2, 'hen': 2634, 'chickens': 2, 'charme': 5, 'voir': 16, 'suis': 4, 'contente': 19, 'ivnushka': 0, 'pilgrim': 18, 'sachiez': 1, 'amie': 3, 'devriez': 1, 'contraire': 1, 'mtre': 1, 'reconnaissante': 1, 'jexplique': 1, 'intimit': 1, 'avec': 3, 'jeune': 2, 'ivnushkas': 0, 'newcomers': 2, 'saucer': 2, 'womanish': 2, 'garrulously': 1, 'christmastime': 0, 'deemed': 4, 'partake': 2, 'shrine': 8, 'kolyzin': 0, 'pelagya': 0, 'ykhnovo': 0, 'relics': 6, 'barefoot': 11, 'wonder-working': 3, 'oil': 96, 'trickles': 1, 'blessed': 13, 'fraud': 8, 'jesus': 0, 'catacombs': 3, 'admonishingly': 1, 'forgo': 72, 'parole': 3, 'nai': 47, 'loffenser': 1, 'efface': 2, 'doubtfully': 2, 'penitence': 1, 'appeased': 2, 'encouraged': 2, 'amphilochus': 0, 'smelled': 6, 'incense': 1, 'ponder': 19, 'reopened': 3, 'spiritually': 1, 'visithe': 1, 'hotly': 3, 'maintaining': 6, 'chaffingly': 1, 'drain': 0, 'nonsenseold': 1, 'contingent': 2, 'dinneri': 0, 'fellowyour': 1, 'friendi': 1, 'stirs': 2, 'one-year-old': 1, 'demntyev': 0, 'unalterably': 1, 'reassigned': 1, 'parental': 2, 'turmoil': 5, 'twenty-four': 18, 'ways': 494, 'unequal': 3, 'concern': 72, 'canteenkeeper': 1, 'orderedand': 1, 'pleasanter': 4, 'officerin': 1, 'repay': 5, 'retreats': 3, 'advances': 2, 'bartenstein': 0, 'pltovs': 0, 'acting': 25, 'oudinots': 0, 'april': 0, 'immovably': 1, 'thaw': 4, 'transports': 3, 'potatoes': 9, 'fledif': 1, 'beggars': 4, 'pitiless': 1, 'rations': 82, 'hunger': 17, 'sickness': 6, 'mshkas': 0, 'root': 8, 'noxious': 1, 'fed': 32, 'doled': 1, 'pound': 12, 'sprouted': 2, 'thatched': 2, 'tufts': 7, 'felty': 1, 'destitution': 1, 'swollen': 10, 'caldrons': 3, 'steamed': 1, 'baked': 3, 'sprouting': 3, 'rotten': 3, 'legends': 1, 'alsha': 7, 'laborer': 4, 'miklka': 0, 'roofless': 1, 'half-ruined': 1, 'seniors': 1, 'quoits': 1, 'luckless': 1, 'clad': 5, 'conveyance': 4, 'lodging': 7, 'wily': 1, 'upbraid': 4, 'bweed': 1, 'wostvs': 0, 'roofed': 2, 'branches': 16, 'turf': 1, 'trench': 35, 'inches': 3, 'vestibule': 11, 'board': 34, 'bedsteads': 1, 'couches': 1, 'luxuriously': 1, 'mended': 10, 'embers': 58, 'roomas': 1, 'hutand': 1, 'underclothes': 1, 'tidied': 4, 'probability': 5, 'reconnoitering': 1, 'vibrating': 3, 'topchenko': 0, 'mshka': 0, 'woot': 1, 'stuff': 10, 'lazarchk': 0, 'bwought': 1, 'fwom': 6, 'fuss': 11, 'jobs': 1, 'downcapitally': 1, 'lavrshkathat': 0, 'densovswas': 0, 'oxen': 1, 'furiously': 3, 'leaded': 6, 'gweat': 1, 'svyka': 1, 'missiles': 1, 'skinny': 2, 'worrying': 5, 'mutinyseizing': 1, 'pestewing': 1, 'buzz': 13, 'undaunted': 1, 'mach': 34, 'astwide': 2, 'fence': 26, 'insulting': 1, 'twansports': 1, 'infantwy': 2, 'starve': 3, 'consigned': 1, 'unescorted': 1, 'proceedings': 1, 'booked': 1, 'dugout': 2, 'oaths': 4, 'threats': 3, 'twy': 5, 'wobbewy': 2, 'thwash': 1, 'scoundwels': 1, 'empewo': 0, 'widden': 1, 'chiefalso': 1, 'lecture': 3, 'wobbewywobbewy': 0, 'pwovisions': 1, 'weceipt': 2, 'commissioner': 2, 'starving': 4, 'bled': 119, 'tumblers': 3, 'pat': 440, 'stwaight': 2, 'snout': 3, 'fwashing': 1, 'court-martial': 6, 'marauding': 3, 'insubordination': 1, 'degradation': 1, 'provocation': 1, 'thief': 4, 'dislocated': 2, 'trial': 14, 'pltov': 0, 'reconnoitered': 2, 'sharpshooter': 11, 'june': 0, 'friedland': 0, 'proclaimed': 2, 'devastated': 7, 'foul': 7, 'panes': 4, 'putrefaction': 1, 'cigar': 3, 'assistant': 26, 'makr': 0, 'typhus': 1, 'pesthouse': 1, 'makev': 0, 'pounds': 3, 'lint': 17, 'fagged': 1, 'molliten': 0, 'queried': 1, 'wards': 117, 'emaciated': 6, 'crutches': 1, 'underclothing': 1, 'limped': 1, 'doorpost': 4, 'pungent': 2, 'originated': 2, 'stiffly': 4, 'straighter': 1, 'gray-bearded': 2, 'skeleton': 2, 'amputated': 3, 'awaytaken': 1, 'shrinking': 2, 'gowns': 3, 'decomposing': 1, 'healed': 2, 'rejoinders': 1, 'outsidegradually': 1, 'uhlan': 0, 'one-armed': 1, 'impotence': 5, 'wobber': 2, 'court-martialed': 2, 'bwinging': 1, 'wobbers': 1, 'afwaid': 1, 'countwy': 1, 'honowably': 1, 'degwaded': 1, 'wobbed': 1, 'tweasuwy': 0, 'auditor': 3, 'gwovel': 1, 'safest': 1, 'stubborn': 6, 'straightforward': 2, 'moodily': 1, 'inkpot': 1, 'offenses': 1, 'tilsit': 0, 'thirteenth': 4, 'include': 16, 'tested': 9, 'niemen': 0, 'monograms': 3, 'pensive': 18, 'tavern': 15, 'napoleonreaching': 0, 'firststepped': 1, 'pavilion': 2, 'fifty-three': 1, 'historic': 86, 'henceforth': 2, 'cold-shouldering': 1, 'absent': 43, 'lodged': 4, 'zhilnski': 0, 'lunching': 1, 'twenty-fourth': 14, 'profiting': 1, 'frenchwho': 0, 'foes': 4, 'friendsthat': 1, 'heat': 79, 'hostility': 9, 'intruding': 1, 'serenely': 1, 'conventionality': 1, 'zhilnskile': 0, 'nle': 58, 'capitaine': 0, 'frowningly': 1, 'constraint': 5, 'enliven': 5, 'obstinately': 4, 'aversion': 1, 'intercede': 4, 'listens': 2, 'zhilnskis': 0, 'mufti': 1, '27': 2, 'legion': 0, 'preobrazhnsk': 0, 'draped': 2, 'flags': 6, 'bunting': 1, 'displayed': 8, 'saddled': 7, 'assembling': 2, 'understands': 6, 'beseech': 1, 'entry': 30, 'alarming': 2, 'batiste': 1, 'silk-embroidered': 1, 'braces': 4, 'audacity': 4, 'cursing': 1, 'repenting': 1, 'justifying': 5, 'hayne': 0, 'regimentwhite': 1, 'chamois-leather': 1, 'bootsand': 1, 'lgion': 0, 'dhonneur': 4, 'gazers': 2, 'bearskin': 3, 'vest': 46, 'cavalrymans': 1, 'affable': 2, 'gendarmes': 3, 'precise': 14, 'undersized': 1, 'bravely': 1, 'exasperating': 1, 'whomever': 2, 'knit': 18, 'scrutiny': 2, 'lzarev': 0, 'pagethe': 1, 'borsran': 0, 'persistently': 5, 'lzarevs': 0, 'deign': 9, 'rewarded': 3, 'adhere': 6, 'officious': 0, 'remounted': 1, 'preobrazhnskis': 0, 'francs': 2, 'pension': 2, 'donning': 2, 'napolon': 0, 'bravoure': 1, 'alexandre': 0, 'russie': 0, 'grandeur': 11, 'respond': 32, 'process': 24, 'submission': 10, 'dirt': 29, 'stench': 1, 'severed': 2, 'punished': 18, 'unpardoned': 1, 'harboring': 2, 'uncalled-for': 2, 'comprehend': 12, 'godnothing': 0, 'tablevery': 1, 'relevantly': 1, 'erfurt': 0, '1809': 16, 'worlds': 10, 'arbiters': 1, 'co-operate': 5, 'policy': 5, 'keenly': 3, 'internal': 4, 'undertaken': 7, 'departments': 4, 'meanwhilereal': 1, 'poetry': 7, 'passionswent': 1, 'reconstruction': 2, 'estatesand': 1, 'accomplishedwere': 1, 'tenacity': 2, 'liberated': 6, 'agricultural': 1, 'laborersthis': 1, 'compulsory': 3, 'commuted': 1, 'cloister': 0, 'diligently': 2, 'vortex': 2, 'lagged': 8, 'himselfwho': 3, 'countryin': 1, 'guardian': 3, 'birches': 9, 'floors': 3, 'uphill': 5, 'liquefied': 1, 'strips': 5, 'lilac-colored': 1, 'blades': 2, 'evergreen': 2, 'reminder': 4, 'snort': 16, 'sweated': 1, 'visibly': 3, 'cherry': 3, 'alders': 1, 'oaks': 12, 'girth': 4, 'sprawling': 2, 'unsymmetrically': 1, 'gnarled': 3, 'dead-looking': 1, 'firs': 613, 'dotted': 2, 'cramped': 2, 'barked': 1, 'misshapen': 1, 'othersthe': 3, 'youngyield': 1, 'sequence': 25, 'mournfully': 2, 'restful': 2, 'anewbut': 1, 'desiring': 3, 'trustee': 1, 'clothed': 2, 'bathe': 7, 'otrdnoe': 0, 'slim': 10, 'chintz': 2, 'pang': 4, 'separateprobably': 1, 'foolishbut': 1, 'quitrents': 1, 'instinctive': 15, 'hunts': 40, 'entertained': 5, 'shutters': 6, 'documents': 5, 'pollard': 1, 'lush': 172, 'vegetation': 1, 'silver-lit': 1, 'stems': 1, 'leafy': 1, 'trunk': 13, 'starless': 1, 'passagethe': 1, 'stone-still': 1, 'unintentional': 4, 'sweetheart': 2, 'scuffle': 1, 'shady': 2, 'jar': 2, 'lending': 4, 'delicately': 1, 'shoots': 3, 'raindrops': 1, 'sprinkling': 2, 'sappy': 2, 'shiny': 1, 'blossom': 6, 'nightingales': 1, 'trilled': 1, 'reverberated': 4, 'transfigured': 2, 'foliage': 2, 'scars': 1, 'century-old': 2, 'twigs': 2, 'veteran': 2, 'renewal': 2, 'thrilled': 1, 'thirty-one': 1, 'decisively': 2, 'meeveryone': 2, 'harmony': 9, 're-enter': 9, 'doubted': 14, 'senselessly': 2, 'applied': 10, 'degrading': 1, 'pursuits': 4, 'curled': 7, 'grecque': 2, 'inquisitively': 2, 'irrational': 6, 'inexpressible': 1, 'smock': 3, 'designed': 3, 'logic': 28, 'punishing': 1, 'illogical': 3, 'dries': 1, 'spernski': 0, 'zenith': 1, 'reforms': 3, 'peterhof': 0, 'decrees': 5, 'societyabolishing': 1, 'examinations': 3, 'qualify': 1, 'grades': 4, 'collegiate': 0, 'assessor': 0, 'councilorand': 0, 'constitution': 8, 'existing': 8, 'administrative': 6, 'financial': 3, 'tribunals': 1, 'associates': 2, 'kochuby': 0, 'strgonovwhom': 0, 'comit': 0, 'salut': 14, 'publicwere': 1, 'antipathetic': 1, 'neglect': 10, 'sympathies': 1, 'antipathies': 1, 'arakchevs': 0, 'anterooms': 1, 'types': 2, 'mask': 4, 'sla': 112, 'uncrossing': 1, 'facesthat': 1, 'grating': 2, 'officerwith': 2, 'lipscame': 1, 'cropped': 5, 'greenish-hazel': 1, 'petitioning': 2, 'thenagain': 1, 'andrewrelapsing': 0, 'grumbling': 4, 'endorsed': 1, 'misspelled': 1, 'punctuation': 1, 'unsoundly': 0, 'imitation': 10, 'needlessly': 3, 'deviating': 2, 'salary': 4, 'announcement': 8, 'uninitiated': 1, 'initiated': 5, 'committees': 3, 'geniusspernski': 0, 'promoter': 1, 'receded': 8, 'diverse': 15, 'courted': 3, 'reputed': 1, 'liberating': 2, 'innovations': 3, 'halo': 3, 'tragic': 4, 'serenity': 2, 'kochubys': 0, 'mikhylovich': 0, 'manages': 3, 'plowmen': 1, 'extenuate': 1, 'irritate': 17, 'plow': 10, 'nowi': 86, 'countwho': 0, 'prynichnikov': 0, 'suspended': 1, 'throb': 6, 'spernskis': 0, 'calmness': 2, 'humid': 1, 'handshands': 1, 'reporter': 1, 'shift': 18, 'newespecially': 1, 'reputationexpected': 1, 'discover': 34, 'markedly': 1, 'magntski': 0, 'promoting': 3, 'divinity': 3, 'handsthose': 1, 'handsthe': 1, 'extraordinarily': 7, 'disdainful': 8, 'immeasurable': 4, 'involved': 5, 'intimating': 2, 'desirable': 3, 'imitators': 1, 'decree': 14, 'tittle-tattle': 1, 'contemporaries': 7, 're-establishes': 1, 'condemnations': 1, 'contradict': 51, 'ambition': 6, 'montesquieu': 0, 'principe': 2, 'monarchies': 2, 'lhonneur': 3, 'parat': 122, 'incontestable': 3, 'certains': 0, 'droits': 1, 'privilges': 1, 'noblesse': 1, 'paraissent': 1, 'tre': 986, 'moyens': 1, 'soutenir': 1, 'privileges': 3, 'envisagez': 1, 'sous': 1, 'vue': 1, 'slower': 3, 'upheld': 2, 'concept': 88, 'blameworthy': 3, 'emulation': 2, 'pursuit': 16, 'upholding': 1, 'helpful': 1, 'courtier': 27, 'worthily': 1, 'detailed': 8, 'franaise': 1, 'overshadowed': 1, 'jot': 2, 'appointments': 7, 'vital': 8, 'creatures': 3, 'ideal': 9, 'strove': 2, 'rational': 9, 'breeding': 1, 'unheroic': 1, 'dispassionate': 1, 'reasonableness': 4, 'flattery': 2, 'tacit': 11, 'profundity': 4, 'rooted': 2, 'wolves': 9, 'clear-thinking': 1, 'beone': 1, 'reasonably': 6, 'exposition': 2, 'independence': 8, 'mirrorlike': 3, 'possess': 64, 'excessive': 3, 'diversity': 3, 'device': 3, 'analogy': 1, 'dreamers': 1, 'satirist': 1, 'realm': 16, 'metaphysics': 3, 'resource': 6, 'metaphysical': 1, 'definitions': 2, 'deduced': 7, 'refutation': 2, 'mentality': 2, 'unshakable': 4, 'meanly': 1, 'humble': 4, 'origin': 26, 'revision': 2, 'rosenkampf': 0, 'labels': 3, 'paragraphs': 5, 'codes': 4, 'senate': 0, 'juridical': 2, 'jurisprudence': 9, 'andwhat': 1, 'expectedwas': 1, 'institutes': 0, 'justinian': 0, 'formulating': 2, 'busied': 2, 'authentic': 3, 'charters': 1, 'supplemented': 1, 'poorhouse': 1, 'infatuations': 2, 'dissipations': 2, 'immoral': 1, 'bog': 2, 'waded': 3, 'petersburghe': 0, 'd': 116280, 'mostly': 4, 'insignia': 1, 'vow': 4, 'belongings': 10, 'dwell': 8, 'categories': 3, 'threefold': 3, 'designation': 3, 'primordial': 1, 'elementssulphur': 1, 'mercury': 3, 'saltor': 1, 'solomon': 0, 'aspect': 6, 'category': 5, 'vacillating': 2, 'comprehensible': 53, 'external': 35, 'prized': 4, 'troubling': 3, 'purport': 2, 'associate': 19, 'based': 26, 'externals': 1, 'doubting': 3, 'deviated': 3, 'conduce': 3, 'ingratiate': 2, 'convened': 2, 'communicate': 10, 'stammering': 1, 'lodgewe': 1, 'actact': 1, 'drowsing': 2, 'dissemination': 2, 'prejudice': 3, 'diffuse': 5, 'wisest': 4, 'prudently': 1, 'superstitions': 2, 'infidelity': 1, 'linked': 6, 'unity': 45, 'preponderance': 1, 'lasting': 3, 'hampered': 2, 'institutions': 11, 'revolutions': 4, 'overthrow': 10, 'repel': 8, 'convictionaiming': 1, 'punishment': 10, 'unobtrusively': 2, 'protectors': 1, 'governments': 3, 'impedes': 1, 'instruction': 42, 'preaching': 2, 'endowed': 5, 'governed': 6, 'eradicate': 1, 'strive': 7, 'created': 7, 'illuminism': 0, 'developing': 1, 'accusing': 1, 'identically': 1, 'limitations': 4, 'alterations': 1, 'illuminati': 2, 'substitute': 3, 'republican': 2, 'monarchical': 1, 'reproved': 3, 'vehemence': 3, 'strife': 2, 'formalities': 3, 'delivery': 1, 'matrimonial': 1, 'fraternal': 1, 'forgiving': 3, 'penitent': 1, 'mother-in-law': 4, 'reunite': 3, 'mattered': 2, 'reunion': 2, 'diary': 14, '17th': 1, 'poorly': 1, 'bladder': 1, 'east': 204, 'jerusalem': 0, 'scottish': 0, 'encountered': 5, 'reformation': 3, 'self-reformation': 1, 'impurity': 1, 'profligacy': 1, 'doctrine': 3, 'condemned': 10, 'perfecting': 4, 'self-knowledgefor': 0, 'self-perfecting': 1, 'virtuelove': 1, 'vicissitudes': 1, 'innate': 2, 'rebirth': 1, 'whichin': 2, 'manhe': 1, 'numbers': 20, 'basis': 7, 'second-grade': 1, 'diverting': 2, 'self-knowledge': 1, '23rd': 1, 'desertion': 1, 'alexevichs': 0, 'supplicant': 1, 'everyoneespecially': 1, 'meand': 1, 'napoleonic': 0, 'caulaincourt': 0, 'notabilities': 3, 'superbe': 1, 'charmante': 3, 'aussi': 1, 'spirituelle': 1, 'belle': 1, 'ligne': 0, 'eight-page': 1, 'epigrams': 1, 'bezkhovas': 0, 'diploma': 61, 'secretaries': 1, 'confided': 3, 'conjuror': 1, 'deception': 10, 'unexposed': 1, 'emptiest': 1, 'superb': 3, 'crank': 4, 'seigneur': 7, 'tactful': 2, 'absorption': 2, 'benevolence': 2, 'artificially': 2, 'lispingly': 1, 'freaks': 1, 'subjected': 3, 'protected': 4, 'bluestocking': 2, 'hearta': 1, 'statement': 9, 'constricted': 1, 'harmed': 5, 'development': 4, 'revealing': 3, '24th': 1, 'scriptures': 0, 'alonethe': 1, 'moderately': 1, 'lust': 10, 'repulsion': 6, 'worldliness': 3, '27th': 1, 'sloth': 2, 'ursov': 0, 'vanities': 1, 'benefactors': 8, 'wordsthat': 2, 'zealous': 6, 'worker': 3, 'onlooker': 6, 'g': 50024, 'preliminary': 1, 'interpretation': 2, 'pillars': 2, 'decoration': 15, 'premises': 1, 'contributed': 2, 'magnificence': 2, 'nominated': 1, 'labyrinth': 1, 'pages': 10, 'blank': 5, 'instructive': 3, 'adonai': 0, 'creator': 1, 'elohim': 0, 'unutterable': 1, 'refresh': 14, 'teachings': 1, 'mundane': 2, 'all-embracing': 1, 'dissect': 3, 'entirety': 4, 'trinitythe': 0, 'elements': 12, 'matterare': 1, 'sulphur': 3, 'oily': 1, 'fiery': 3, 'arouses': 1, 'attracts': 2, 'holds': 7, 'produces': 12, 'fluid': 1, 'volatile': 1, '3rd': 5, 'apathetic': 1, 'meditate': 2, 'recollected': 2, 'adventures': 6, 'lenient': 1, 'nourish': 7, 'undismayed': 1, 'smallish': 1, 'thigh': 6, 'plank': 8, 'clamber': 3, 'dogsmy': 1, 'unites': 3, 'vision': 108, '7th': 3, 'sanctifying': 1, 'caress': 14, 'embraces': 1, 'text': 33, 'shineth': 1, 'comprehended': 5, 'conjugal': 2, '9th': 1, 'throbbing': 3, 'drawings': 3, 'representation': 4, 'transparent': 6, 'forsaking': 1, 'utterly': 4, 'desertest': 1, 'monetary': 1, 'comparatively': 2, 'otrdnoemtenkas': 0, 'particularwas': 1, 'lassies': 2, 'provincials': 2, 'suppers': 4, 'impoverished': 2, 'squires': 1, 'pernskaya': 0, 'narrated': 3, 'episode': 8, 'usefulness': 2, 'finnish': 0, 'insistently': 1, 'lucrative': 2, 'skeptics': 1, 'stalls': 16, 'das': 35, 'soll': 1, 'mein': 1, 'weib': 0, 'werden': 2, 'livonian': 0, 'natured': 38, 'fori': 0, 'rent': 381, 'baltic': 0, 'provincesand': 0, 'nicely': 1, 'moneyi': 0, 'dishonorablebut': 1, 'estimable': 2, 'differentan': 1, 'fiance': 12, 'doubling': 1, 'embodying': 1, 'joyousness': 1, 'resulted': 14, 'amounted': 4, 'mortgaged': 2, 'arrears': 1, 'long-foreseen': 1, 'countif': 0, 'importunity': 1, 'long-forgotten': 2, 'rapturously': 10, 'boisterous': 1, 'aback': 3, 'madcap': 1, 'childhoods': 1, 'compression': 1, 'amusements': 3, 'accidentally': 6, 'nn': 1959, 'ss': 9701, 'album': 8, 'allude': 6, 'knob': 3, 'cotton': 2, 'curlpapers': 1, 'countessher': 1, 'prayerful': 1, 'dispelledlooked': 1, 'chiding': 1, 'praying': 7, 'snuggling': 1, 'bedclothes': 1, 'kicking': 1, 'peeping': 1, 'tonightbut': 0, 'sphinxes': 1, 'profile': 4, 'knuckle': 4, 'knuckles': 1, 'contemplation': 4, 'dating': 2, 'matvich': 0, 'humored': 11, 'giggler': 1, 'tastehe': 1, 'dining-room': 1, 'knowgray': 1, 'dark-blue': 4, 'curled-up': 1, 'manthe': 3, 'menwho': 1, 'uncommonly': 1, 'agileshe': 1, 'swims': 1, 'rides': 10, 'opera': 31, 'cherubini': 0, 'dunysha': 0, 'thirty-first': 3, 'mansion': 3, 'quay': 0, 'baize': 4, 'red-liveried': 1, 'plumed': 2, 'ermine': 29, 'doffed': 5, 'discussions': 9, 'igntevna': 0, 'piloted': 1, 'provincial': 8, 'taurida': 0, 'ensuring': 3, 'allshe': 1, 'snyashould': 0, 'claret-colored': 1, 'gauze': 6, 'bodices': 2, 'befits': 4, 'openwork': 1, 'hairdressing': 1, 'bustled': 1, 'behindhand': 2, 'looking-glass': 1, 'pin': 688, 'pinned': 1, 'half-past': 2, 'petticoat': 5, 'scrutinized': 4, 'pins': 3, 'gossamer': 1, 'mvra': 0, 'thimble': 1, 'shortened': 1, 'airiness': 1, 'doorspeaking': 1, 'filmy': 1, 'pier': 42, 'crawling': 1, 'tack': 181, 'oo-oo': 1, 'rumpled': 7, 'tacking': 21, 'beautya': 1, 'flurryfor': 1, 'coiffures': 1, 'closeness': 2, 'roomswith': 1, 'indispensable': 6, 'throbbed': 1, 'blended': 4, 'procession': 8, 'curtsied': 5, 'irrecoverable': 3, 'girlhood': 2, 'dutch': 0, 'profusion': 1, 'silver-gray': 1, 'antnovna': 0, 'millionairess': 1, 'better-looking': 1, 'knowbolknski': 0, 'prsent': 1, 'pluie': 1, 'temps': 5, 'treats': 5, 'elisaveta': 0, 'ravish': 1, 'pounced': 3, 'forgetfulness': 5, 'detriment': 3, 'narshkina': 0, 'defined': 21, 'outshe': 1, 'reminiscence': 10, 'natshaas': 0, 'requesting': 2, 'enticingly': 1, 'rhythmical': 6, 'ever-quickening': 1, 'firhoff': 0, 'participating': 1, 'legislative': 2, 'protge': 3, 'elsewhereat': 1, 'dbut': 4, 'belying': 1, 'pernskayas': 0, 'exquisitely': 1, 'beautifulcompared': 1, 'undeveloped': 1, 'hardened': 2, 'restraint': 6, 'rejuvenated': 1, 'cotillions': 1, 'overheard': 7, 'shyness': 5, 'cotillion': 3, 'declining': 1, 'readjusting': 1, 'unhappiness': 3, 'furrow': 3, 'superabundance': 1, 'anotherand': 1, 'un-petersburg-like': 0, 'ill-disposed': 2, 'criticizing': 3, 'btski': 0, 'devotee': 1, 'newsmongerone': 1, 'partisans': 2, 'particulars': 1, 'constitutional': 3, 'monarchs': 10, 'fiscal': 1, 'system': 6, 'reorganized': 2, 'published': 1, 'recounted': 5, 'emphasizing': 1, 'btskis': 0, 'disinclined': 1, 'owned': 66, 'parqueted': 1, 'monastery': 5, 'long-faced': 1, 'gervais': 0, 'stolpin': 0, 'staccato': 2, 'laugha': 1, 'someoneit': 0, 'spernskiwas': 0, 'ejaculating': 1, 'ha-ha-ha': 1, 'high-pitched': 5, 'hors-doeuvres': 1, 'stock': 31, 'magntskis': 0, 'crowned': 7, 'guffaw': 1, 'munched': 2, 'chuckle': 2, 'recreation': 2, 'disillusionment': 5, 'consist': 64, 'funnier': 1, 'deaf': 22, 'stuttering': 1, 'thingsthreatening': 1, 'quizzing': 1, 'reverted': 2, 'mirthless': 2, 'grated': 3, 'damper': 1, 'cork': 10, 'portenglish': 0, 'spanish': 0, 'approving': 20, 'corked': 2, 'merriment': 7, 'recitation': 2, 'reciting': 2, 'humorous': 2, 'exertions': 2, 'solicitations': 1, 'procedure': 1, 'sedulously': 1, 'promptly': 8, 'evaded': 1, 'painstakingly': 3, 'translated': 5, 'roman': 14, 'dron': 81, 'brimful': 1, 'disconcert': 15, 'disillusionments': 1, 'illimitable': 1, 'limited': 18, 'weighed': 7, 'cheered': 7, 'switzerland': 0, 'immaculate': 1, 'unfortunately': 0, 'societythat': 1, 'rubber': 6, 'busts': 1, 'pictures': 18, 'promotions': 2, 'nobodies': 1, 'vacancy': 2, 'aquaintances': 1, 'methodical': 2, 'ein': 754, 'mann': 83, 'zu': 25, 'sein': 3, 'wrongly': 3, 'generalizing': 1, 'ascribe': 5, 'fichu': 2, 'yuspova': 0, 'claiming': 2, 'symmetry': 4, 'neatness': 1, 'generously': 1, 'eventually': 4, 'accordingly': 4, 'intrusion': 2, 'element': 22, 'peas': 199, 'unquestionably': 1, 'disconnected': 7, 'superintended': 2, 'cakes': 4, 'cake': 9, 'basket': 2, 'panins': 0, 'rubbers': 2, 'allusions': 4, 'employ': 30, 'discerning': 5, 'characters': 11, 'natalie': 0, 'attachments': 3, 'vramentioning': 0, 'appraised': 1, 'characteristics': 3, 'timesin': 1, 'stifles': 2, 'susceptible': 1, 'discomfort': 1, 'cousinage': 1, 'dangereux': 2, 'restlessness': 4, 'spain': 0, 'imitate': 5, 'timidity': 3, 'complimented': 1, 'silliness': 1, 'mummy': 0, 'widower': 1, 'resolve': 30, 'royal': 12, 'accentuated': 1, 'transaction': 2, 'cloudy': 1, 'ills': 108, 'dumped': 1, 'philosophize': 1, 'spleen': 2, 'marveled': 1, 'mastered': 3, 'halves': 4, 'reiterated': 2, 'gloomier': 3, 'inward': 10, 'diplomacy': 3, 'adopting': 3, 'stress': 49, 'entrust': 32, 'fourthly': 0, 'obstinacyas': 1, 'pleaseis': 1, 'fiances': 2, 'wishto': 1, 'postpone': 6, 'disappointment': 5, 'pitying': 2, 'intensified': 5, 'conducing': 1, 'solfeggio': 1, 'reverberating': 1, 'toe': 49, 'tap': 24, 'moodlove': 1, 'collective': 23, 'nobodys': 2, 'unbearable': 2, 'sedately': 2, 'depend': 110, 'terrifying': 3, 'butso': 1, 'dry-eyed': 3, 'dearer': 1, 'trustfulness': 1, 'oppressive': 6, 'ithe': 261, 'natshais': 0, 'delays': 1, 'postponed': 2, 'affianced': 6, 'betrothal': 4, 'reject': 13, 'rural': 3, 'economy': 2, 'fashions': 1, 'fancywork': 1, 'omens': 15, 'incidents': 4, 'betokening': 1, 'dullness': 1, 'reigned': 4, 'accompanies': 2, 'divined': 2, 'nownatsha': 0, 'ptyas': 0, 'scrutinizingly': 1, 'moods': 4, 'seriousnessi': 0, 'physiognomy': 2, 'brunt': 2, 'unprovoked': 1, 'joysher': 1, 'religionand': 1, 'superstitiousness': 1, 'petting': 1, 'himlittle': 1, 'nicholasinto': 0, 'lawthe': 1, 'lovingly': 2, 'turkey': 0, 'cani': 1, 'usbut': 2, 'lifenot': 2, 'harming': 57, 'othersare': 1, 'forgetthat': 1, 'sister-in-lawleft': 1, 'wronged': 5, 'manifestation': 11, 'angelically': 1, 'beneficent': 3, 'befalls': 1, 'noticeably': 3, 'contradiction': 25, 'negotiating': 2, 'foresees': 3, 'encounters': 5, 'derive': 7, 'disputes': 6, 'cultivated': 1, 'gentry': 17, 'incalculable': 3, 'abouti': 0, 'speaks': 7, 'successor': 1, 'stepmother': 5, 'mighty': 12, 'firmer': 1, 'spas': 5, 'reduce': 14, 'hesitations': 1, 'longi': 31, 'houselet': 1, 'repressed': 4, 'poor-spirited': 1, 'pretexts': 3, 'addedallusions': 1, 'stepmothers': 1, 'amiabilities': 2, 'reconciling': 1, 'consolations': 2, 'profoundest': 2, 'folkthe': 1, 'half-witted': 1, 'short-sightedness': 1, 'toiling': 2, 'visionary': 1, 'sinful': 4, 'objected': 3, 'wealthier': 1, 'probation': 3, 'cling': 9, 'realizes': 1, 'ill-usage': 1, 'hempen': 2, 'rags': 8, 'allfor': 1, 'theodosia': 0, 'chains': 3, 'disclosed': 5, 'aknfi': 0, 'bast': 15, 'mechanical': 8, 'theodosias': 0, 'haven': 42, 'koko': 0, 'bible': 0, 'legend': 2, 'laboridlenesswas': 1, 'curse': 9, 'primitive': 3, 'classthe': 1, 'bluff': 1, 'complaints': 4, 'gladden': 3, 'wanting': 2, 'entanglements': 2, 'whirlpool': 1, 'embarrassments': 1, 'ties': 223, 'dreadfully': 7, 'formal': 15, 'dispense': 1, 'dotard': 2, 'auction': 2, 'mtenka': 0, 'matter-of-fact': 1, 'mars': 70, 'lather': 3, 'staffand': 1, 'extremelywhether': 1, 'anne': 115, 'roans': 17, 'golukhovski': 0, 'bargaining': 1, 'betted': 1, 'przazdziecka': 0, 'rivalry': 2, 'borzozowska': 0, 'comradesnot': 1, 'brigadegave': 1, 'subscription': 3, 'choirs': 2, 'trepk': 1, 'bsov': 0, 'journeyfrom': 1, 'kremenchg': 0, 'kievall': 0, 'dozhoyvyko': 0, 'itfar': 1, 'inverse': 4, 'three-ruble': 1, 'tip': 57, 'odd': 81, 'unsatisfied': 1, 'expectationthe': 1, 'hurrynicholas': 0, 'discord': 6, 'exhaled': 1, 'unalterable': 1, 'uglier': 1, 'postponement': 1, 'proving': 36, 'even-tempered': 1, 'courtship': 2, 'skeptically': 2, 'sealed': 4, 'latent': 5, 'interfering': 4, 'mtenkas': 0, 'delegate': 6, 'roaring': 2, 'snapping': 2, 'robber': 9, 'wretch': 24, 'robbing': 6, 'scruff': 2, 'convenient': 11, 'shrubbery': 2, 'refuge': 8, 'culprits': 2, 'residents': 5, 'protective': 1, 'sisters-in-law': 2, 'patchwork': 1, '700': 1, 'forwardand': 1, 'blackguard': 4, 'mismanaged': 1, 'carryings': 1, 'stakes': 16, 'promissory': 2, 'pursuitthe': 1, 'chasefor': 1, 'establishment': 10, 'wintry': 1, 'frosts': 4, 'saturated': 2, 'rains': 28, 'verdure': 3, 'thickened': 1, 'brownish': 1, 'cattle': 14, 'pale-yellow': 1, 'ravines': 1, 'copses': 2, 'islands': 2, 'bright-red': 1, 'hares': 8, 'fox': 20, 'cubs': 6, 'scatter': 21, 'ardent': 4, 'sportsman': 6, 'jaded': 1, 'huntsmen': 14, 'september': 0, 'grove': 1, 'undisturbed': 2, 'litter': 62, 'wolf': 62, 'frosty': 6, 'overcast': 1, 'fifteenth': 8, 'unsurpassable': 1, 'dripping': 3, 'microscopic': 1, 'particles': 2, 'drizzling': 1, 'glistened': 1, 'poppy': 2, 'seed': 7, 'decaying': 1, 'mlka': 0, 'black-spotted': 3, 'broad-haunched': 2, 'bitch': 11, 'licked': 6, 'borzoi': 52, 'arched': 32, 'o-hoy': 0, 'inimitable': 2, 'huntsmans': 2, 'shrillest': 1, 'kennelman': 1, 'scorn': 7, 'circassian': 0, 'sport': 45, 'resolutions': 1, 'mistress': 17, 'proto-deacons': 1, 'hallooingand': 1, 'flashing': 2, 'uvrka': 0, 'boomed': 4, 'enclosure': 4, 'howling': 3, 'she-wolf': 1, 'ceiling': 4, 'extorted': 1, 'bars': 1, 'pathwell': 1, 'irksome': 2, 'accidental': 8, 'injury': 1, 'quarry': 1, 'donts': 0, 'leash': 14, 'borzois': 35, 'sorrel': 2, 'gelding': 3, 'viflynka': 0, 'fifty-four': 1, 'attendants': 2, 'whippers-in': 3, 'kennelmen': 1, 'covert': 5, 'whine': 2, 'hound': 39, 'fresh-looking': 2, 'relative': 13, 'grchik': 0, 'ilgins': 0, 'kornik': 0, 'whipped': 3, 'arbchik': 0, 'combine': 12, 'overriding': 1, 'trunla': 0, 'harrier': 1, 'budge': 3, 'becausethats': 1, 'onyouve': 0, 'oasis': 1, 'standa': 36, 'outwent': 1, 'ravine': 9, 'kary': 0, 'jowl': 1, 'tackled': 1, 'unaided': 1, 'ardor': 5, 'horn': 9, 'sleek': 7, 'well-fed': 5, 'simon': 0, 'chekmr': 0, 'attendant': 10, 'formidable': 4, 'wolfhounds': 1, 'unleashed': 1, 'mtka': 0, 'cupful': 1, 'mulled': 1, 'brandy': 4, 'snack': 2, 'bordeaux': 0, 'outing': 111, 'hollow-cheeked': 1, 'nastsya': 0, 'danielll': 0, 'zhrov': 0, 'marvelous': 2, 'lydov': 0, 'upland': 4, 'astounded': 3, 'picture': 45, 'zavrzinsk': 0, 'thicket': 2, 'sidrych': 0, 'uplands': 1, 'daniels': 0, 'ulyulyu': 10, 'straighten': 8, 'ulyulyuing': 2, 'fretted': 1, 'lope': 148, 'whined': 1, 'quinsy': 1, 'leaps': 2, 'swish': 2, 'helter-skelter': 1, 'hazel': 3, 'hunched': 1, 'capless': 2, 'ulyulyulyu': 1, 'lightning': 6, 'blast': 0, 'sportsmen': 3, 'scorning': 1, 'lashed': 23, 'heaving': 3, 'sweating': 2, 'simons': 0, 'conjectures': 7, 'alternated': 1, 'itin': 283, 'thereand': 1, 'aspen': 3, 'undergrowth': 1, 'gully': 8, 'water-worn': 1, 'reachedand': 1, 'belly': 4, 'fleas': 3, 'baring': 2, 'pouting': 2, 'jerking': 1, 'leashes': 2, 'hindquarters': 3, 'cocking': 1, 'matted': 2, 'wolfs': 6, 'beforehuman': 1, 'herand': 7, 'markings': 1, 'ulyulyulyulyu': 0, 'lyubm': 0, 'crouched': 3, 'gnashed': 1, 'intercept': 5, 'miscalculated': 1, 'gnashing': 1, 'yelp': 5, 'gash': 1, 'wailed': 4, 'felted': 1, 'karythe': 0, 'saddlebow': 2, 'forepaws': 1, 'clicked': 3, 'bristling': 1, 'animals': 18, 'dagger': 12, 'laboring': 1, 'flail': 1, 'panted': 2, 'hunters': 4, 'gag': 134, 'jaws': 2, 'bridled': 2, 'shying': 2, 'yelping': 2, 'booty': 8, 'broad-browed': 1, 'bitten': 4, 'glassy': 2, 'surrounding': 21, 'doffing': 2, 'crusty': 1, 'thickly': 5, 'overgrown': 5, 'fallow': 2, 'loosed': 2, 'voltrn': 0, 'ryefield': 5, 'short-legged': 1, 'brush': 22, 'dodge': 1, 'curves': 1, 'tails': 38, 'strapping': 2, 'hunted': 4, 'sympathizers': 1, 'ilgin': 0, 'woods': 9, 'moderation': 1, 'judgment': 11, 'arbitrariness': 1, 'bitterest': 1, 'beaver': 5, 'raven-black': 1, 'resembled': 6, 'diana': 0, 'iligins': 0, 'stealthily': 4, 'pure-bred': 1, 'red-spotted': 4, 'steel': 3, 'swiftness': 3, 'harvest': 14, 'swift': 23, 'erz': 17, 'boast': 5, 'finewell': 1, 'full-grown': 2, 'ruble': 86, 'skins': 5, 'a-tu': 0, 'aloft': 1, 'rugy': 0, 'pitting': 3, 'outdo': 2, 'sighted': 12, 'hareand': 1, 'nikanrovich': 0, 'rugyushka': 0, 'diminutive': 2, 'gentlefolk': 2, 'scenting': 2, 'sowing': 5, 'scut': 3, 'milshka': 0, 'pounce': 4, 'hearken': 1, 'balk': 3, 'muddying': 1, 'pad': 11, 'drip': 5, 'one-ruble': 1, 'wrathfully': 2, 'abusing': 3, 'mongrel': 1, 'tingling': 1, 'shriek': 18, 'spattered': 5, 'conqueror': 13, 'coursing': 1, 'natshaa': 0, 'horsebackraised': 1, 'prodigy': 1, 'arnka': 0, 'sits': 11, 'dangles': 1, 'knife': 9, 'boldest': 1, 'retainers': 2, 'authoritatively': 1, 'rickety': 1, 'unplastered': 2, 'overcleanit': 1, 'spotlessbut': 1, 'apples': 4, 'folding': 9, 'birchwood': 2, 'partition': 7, 'ragged': 28, 'glowed': 3, 'peal': 24, 'stem': 13, 'reappearance': 2, 'barefooted': 5, 'stoutness': 2, 'protrude': 1, 'housekeeper': 4, 'trod': 55, 'deftly': 4, 'ansya': 0, 'pickled': 2, 'mushrooms': 3, 'buttermilk': 2, 'mead': 22, 'raw': 390, 'roasted': 2, 'nut-and-honey': 1, 'chicken': 6, 'preserves': 2, 'fdorovnas': 0, 'housekeeping': 1, 'savor': 5, 'juiciness': 1, 'lady-countess': 0, 'aromatic': 2, 'jam': 7, 'honey-and-nut': 1, 'occurs': 21, 'disinterested': 4, 'cranks': 2, 'executor': 1, 'elected': 13, 'matterthats': 1, 'huntsmens': 3, 'patter': 11, 'balalyka': 6, 'superciliousness': 1, 'acme': 2, 'tuned': 4, 'thrumming': 1, 'trills': 1, 'retuned': 1, 'thrummed': 1, 'outthats': 1, 'onought': 0, 'guitar': 9, 'itcome': 3, 'errand': 3, 'fingerboard': 1, 'theatrical': 6, 'exact': 41, 'correctly': 7, 'brisker': 1, 'moves': 18, 'fetching': 3, 'preparatory': 2, 'migre': 1, 'imbibed': 1, 'effaced': 1, 'unteachable': 1, 'silks': 1, 'velvets': 1, 'ansyas': 0, 'valse': 4, 'twas': 5, 'unconsidered': 1, 'ecstasies': 1, 'traps': 5, 'ford': 17, 'darknessnot': 1, 'receptive': 2, 'assimilated': 2, 'nightthe': 1, 'fairyland': 1, 'spontaneous': 5, 'invitingly': 1, 'resigned': 3, 'suggestions': 5, 'ancestral': 1, 'dimmler': 0, 'musician': 6, 'vogel': 0, 'belva': 0, 'inmate': 3, 'preferable': 1, 'unchanged': 6, 'enlarged': 2, 'whist': 53, 'whichspreading': 1, 'themhe': 2, 'plundered': 5, 'profitable': 2, 'net': 114, 'meshes': 1, 'patiently': 15, 'disentangle': 3, 'wasthat': 1, 'remedying': 1, 'solution': 41, 'julies': 0, 'inclination': 8, 'noble-mindedness': 1, 'youeven': 1, 'doll-like': 1, 'coerce': 1, 'attachment': 4, 'portionless': 1, 'dark-eyed': 2, 'devotedly': 1, 'unchangingly': 1, 'unselfishly': 1, 'rome': 5, 'defer': 13, 'anyonewhile': 1, 'degrees': 6, 'raumur': 0, 'starlight': 1, 'celebration': 2, 'season': 3, 'inmates': 2, 'dullest': 1, 'sitting-room': 1, 'design': 20, 'outcast': 1, 'gushed': 2, 'maidservant': 8, 'playingtheres': 1, 'kondrtevna': 0, 'mavrshka': 0, 'nikta': 0, 'fowl': 3, 'misha': 0, 'oats': 53, 'butlers': 4, 'ill-tempered': 1, 'distrusted': 1, 'unconcernedly': 3, 'sulky': 1, 'crickets': 1, 'grasshoppers': 1, 'vogels': 0, 'raisins': 3, 'walnuts': 1, 'almonds': 1, 'cheaper': 3, 'madagascar': 0, 'ma-da-gas-car': 0, 'betook': 1, 'bookcase': 3, 'brooding': 2, 'twanging': 1, 'string': 17, 'water-carrier': 0, 'oldthats': 1, 'tablebut': 1, 'repressing': 4, 'comenothing': 1, 'plums': 4, 'innocentthat': 1, 'studythat': 1, 'houseand': 1, 'darkwe': 1, 'negro': 0, 'hard-boiled': 1, 'eggs': 4, 'onesthose': 1, 'realities': 1, 'blendand': 1, 'corded': 8, 'cabbage': 4, 'disbelieve': 4, 'plya': 0, 'jarring': 1, 'nocturne': 2, 'metempsychosis': 1, 'egyptians': 0, 'immortalwell': 1, 'conspirators': 1, 'quit': 387, 'learnwhat': 1, 'maternal': 2, 'mummers': 11, 'turks': 0, 'innkeepers': 3, 'ladiesfrightening': 1, 'funnybringing': 1, 'identified': 1, 'costumes': 5, 'applauding': 1, 'hooped': 1, 'skirtthis': 1, 'clown': 3, 'burnt-cork': 2, 'nonrecognition': 2, 'troyka': 18, 'melyukvs': 0, 'melyukva': 0, 'pashette': 0, 'louisa': 0, 'urgently': 3, 'consented': 3, 'runners': 5, 'squeaking': 4, 'climax': 1, 'troykas': 5, 'stud': 140, 'shaft': 11, 'belted': 2, 'metal': 11, 'disks': 1, 'freezing': 3, 'deep-toned': 1, 'clanging': 1, 'dappled': 1, 'bang': 5, 'rudely': 4, 'frost-bound': 2, 'peeped': 2, 'fursso': 1, 'distantin': 1, 'highroadpolished': 1, 'rough-shod': 1, 'moonlightthe': 1, 'tug': 8, 'canter': 4, 'gee': 1, 'darlings': 1, 'keener': 3, 'jerks': 1, 'harderever': 1, 'gallopthat': 1, 'squeals': 1, 'gallopthe': 1, 'kosy': 0, 'nothis': 1, 'dmkin': 0, 'hoarfrost': 6, 'clucked': 1, 'showered': 2, 'sleighbeside': 1, 'glimpses': 5, 'shrieking': 2, 'spangled': 1, 'melyukvka': 0, 'eyelashes': 1, 'peoplethe': 1, 'somethingprobably': 1, 'funnybut': 1, 'fairy': 7, 'yells': 3, 'danlovna': 0, 'broadly': 1, 'witches': 3, 'clowns': 1, 'throats': 1, 'clowndimmlerand': 0, 'ladynicholasstarted': 0, 'disguising': 1, 'reminds': 2, 'dimmlerisnt': 0, 'vanyaclear': 0, 'refreshments': 2, 'peering': 8, 'kazn-tartar': 0, 'jelly': 1, 'capers': 2, 'whohaving': 2, 'disguised': 1, 'themwere': 1, 'ssha': 1, 'cleverly': 2, 'contrived': 5, 'suited': 10, 'frightening': 4, 'melyukv': 0, 'officercomes': 1, 'persuading': 2, 'cockcrow': 1, 'barn': 17, 'knockingthats': 1, 'grain': 20, 'dimpled': 2, 'sparkled': 3, 'dreary': 3, 'firewood': 3, 'network': 2, 'lime': 23, 'hewn': 2, 'inhale': 4, 'gladness': 2, 'crunching': 3, 'disengaging': 2, 're-entering': 3, 'danlovnas': 0, 'all-transforming': 1, 'natshaare': 0, 'bewitchingly': 1, 'magical': 3, 'scrunching': 1, 'receding': 12, 'outlined': 3, 'blink': 7, 'open-eyed': 2, 'windowpanes': 1, 'irresolutely': 3, 'admonish': 4, 'finances': 1, 'ingratitude': 5, 'cherished': 2, 'intolerable': 2, 'molested': 1, 'exploding': 1, 'drown': 25, 'variance': 2, 'thousandth': 4, 'copies': 9, 'spelling': 2, 'trousseau': 4, 'truths': 3, 'ardorall': 1, 'loathsome': 1, 'compromising': 2, 'fading': 1, 'retinue': 3, 'iberian': 0, 'krmlin': 0, 'hovels': 1, 'svtsev': 0, 'vrazhk': 0, 'long-expected': 2, 'nicest': 1, 'kindest': 2, 'nobleman': 6, 'performances': 2, 'benevolent': 2, 'booksno': 1, 'borrowed': 4, 'protection': 12, 'margaux': 0, 'well-timed': 1, 'reconciled': 5, 'sexe': 1, 'gentlemen-in-waiting': 7, 'good-humoredly': 2, 'rut': 122, 'eternally': 3, 'predetermined': 3, 'wriggle': 4, 'republic': 4, 'strategist': 2, 'thathere': 1, 'unfaithful': 1, 'gentleman-in-waiting': 6, 'reconcile': 8, 'temporarily': 3, 'tooth': 10, 'raceby': 1, 'elemental': 3, 'powerlessto': 1, 'hypochondria': 1, 'malady': 4, 'acute': 10, 'inwards': 2, 'phenomena': 13, 'apolln': 0, 'nikolevichs': 0, 'refinement': 2, 'homage': 2, 'comedian': 2, 'illegal': 2, 'spaniards': 0, 'catholic': 0, 'fourteenth': 5, 'swear': 4, 'collections': 7, 'astraea': 0, 'manna': 0, 'seekers': 0, 'scotch': 0, 'charter': 2, 'profess': 10, 'injuries': 2, 'churchesbut': 1, 'deserter': 2, 'knouted': 2, 'accepts': 2, 'iwhat': 0, 'sphere': 26, 'allread': 1, 'carousals': 3, 'warned': 4, 'corpulence': 1, 'superficially': 1, 'skein': 2, 'chatted': 4, 'unraveled': 1, 'nowill': 0, 'entrenched': 7, 'framing': 1, 'toys': 3, 'governmental': 2, 'sameonly': 1, 'patriotic': 18, 'anti-french': 0, 'tendency': 5, 'originality': 3, 'opposition': 7, 'senility': 1, 'venerationespecially': 1, 'scathing': 1, 'criticisms': 1, 'pre-revolution': 0, 'relic': 7, 'reverently': 1, 'pleasurestalks': 1, 'hillsand': 0, 'disappointed': 1, 'corresponded': 3, 'thursdays': 0, 'juliewhose': 0, 'migr': 18, 'confide': 78, 'year-old': 18, 'consternation': 1, 'pointer': 1, 'alphabet': 2, 'childwho': 1, 'angrythat': 1, 'flustered': 2, 'despotthe': 1, 'herknew': 1, 'humiliate': 5, 'exhibited': 1, 'jestthat': 1, 'bouriennehad': 0, 'endearments': 1, 'demonstrations': 3, 'inhuman': 3, 'conscripted': 3, 'revulsion': 1, 'doctormtivierwho': 0, 'ridiculed': 2, 'mtivier': 0, '6st': 0, 'dayall': 2, 'felicitations': 1, 'forcer': 1, 'consigne': 2, 'querulousness': 1, 'culminated': 1, 'explosion': 3, 'mtiviers': 0, 'fez': 1, 'spies': 4, 'outwe': 5, 'virulence': 2, 'fists': 5, 'gueststhe': 1, 'lopukhn': 0, 'chatrv': 0, 'drubetskyawaited': 0, 'bachelors': 1, 'circlethough': 1, 'townwas': 1, 'devotions': 2, 'diffident': 1, 'presiding': 2, 'seizure': 4, 'oldenburgs': 0, 'territory': 3, 'pirate': 1, 'wonders': 3, 'long-suffering': 1, 'blindness': 1, 'popes': 1, 'scruple': 2, 'depose': 1, 'churchyet': 0, 'protested': 2, 'limit': 51, 'territories': 1, 'duchy': 3, 'oldenburg': 0, 'shifts': 1, 'protests': 2, 'composition': 4, 'substance': 8, 'forcible': 3, 'wording': 2, 'writingnot': 1, 'impudent': 2, 'hindered': 11, 'divinities': 1, 'crawl': 9, 'catholics': 0, 'indulgence': 4, 'woolwork': 2, 'sundays': 0, 'baths': 0, 'greats': 0, 'cudgel': 9, 'museum': 1, 'belabor': 2, 'jumps': 2, 'tire': 141, 'rostopchns': 0, 'faultfinding': 1, 'toyou': 1, 'courting': 2, 'raillery': 1, 'leftto': 1, 'noticeforget': 1, 'ofthat': 1, 'honestly': 3, 'herthe': 3, 'risking': 2, 'requests': 2, 'disapprove': 5, 'analyze': 3, 'yetyes': 1, 'accustom': 50, 'sentimentally': 1, 'twenty-seven': 3, 'incurring': 2, 'committing': 1, 'sexless': 1, 'kargins': 0, 'supping': 1, 'promenade': 2, 'disillusioned': 1, 'yonder': 1, 'cruelly': 4, 'tribute': 46, 'bouts': 3, 'rims': 23, 'sketches': 1, 'maxims': 1, 'rustic': 0, 'mort': 33, 'secourable': 1, 'contre': 2, 'douleurs': 1, 'dautre': 1, 'asile': 1, 'ray': 261, 'aliment': 0, 'poison': 5, 'dune': 1, 'trop': 13, 'toi': 31, 'sans': 10, 'bonheur': 1, 'serait': 1, 'tendre': 2, 'mlancholie': 1, 'viens': 1, 'consoler': 1, 'tourments': 1, 'sombre': 1, 'retraite': 1, 'mle': 31, 'douceur': 1, 'secrte': 1, 'ces': 2191, 'pleurs': 1, 'sens': 259, 'couler': 1, '*poisonous': 0, 'nourishment': 3, 'mingle': 27, 'sweetness': 1, 'doleful': 2, 'nocturnes': 1, 'liza': 16, 'pnza': 0, 'nizhegrod': 0, 'disappointments': 2, 'borsshe': 0, 'adorer': 5, 'renouncing': 6, 'expiring': 2, 'apportioned': 2, 'repulsive': 5, 'self-deception': 2, 'arduous': 2, 'revenue': 1, 'inconstancy': 1, 'galling': 1, 'effortswhich': 1, 'greedy': 1, 'occasionsthat': 1, 'konysheny': 0, 'candidly': 1, 'bluntly': 2, 'temptationthe': 1, 'jails': 1, 'prisons': 2, 'classes': 3, 'substantial': 2, 'appetizing': 2, 'newspapers': 2, 'knitted': 5, 'pulley': 4, 'plumper': 1, 'foo': 340, 'bonjour': 0, 'outdoor': 1, 'sniveling': 1, 'girlstomorrow': 1, 'super-rogues': 0, 'irna': 0, 'vaslevna': 0, 'sightlooked': 1, 'barrels': 5, 'passes': 4, 'purchaser': 4, 'fix': 116, 'chancery': 0, 'scold': 7, 'goddaughter': 1, 'suppert-roguet': 0, 'dislikes': 1, 'crotchety': 1, 'blisters': 1, 'reprimand': 7, 'quota': 1, 'himfor': 2, 'fatherand': 2, 'herfor': 1, 'sisterthat': 1, 'vozdvzhenka': 0, 'perturbation': 1, 'frivolously': 1, 'prejudiced': 1, 'insuperable': 2, 'indulge': 10, 'songstress': 1, 'ailing': 40, 'commonplace': 5, 'nervousness': 2, 'angrier': 3, 'defiant': 1, 'semnovnas': 0, 'marywho': 0, 'natshamademoiselle': 0, 'theaters': 5, 'whoshe': 1, 'thoughtwas': 1, 'offhand': 2, 'alienated': 1, 'apparition': 2, 'impolitely': 1, 'natshaits': 0, 'hurts': 5, 'expressly': 1, 'eyeshow': 1, 'flickering': 1, 'sellers': 1, 'overture': 3, 'tiers': 25, 'timethat': 1, 'necksuddenly': 1, 'disagreeably': 2, 'fullness': 1, 'combined': 6, 'alnina': 0, 'kirlovich': 0, 'mikhylovnawhat': 0, 'headdress': 3, 'julieand': 0, 'neckwhich': 1, 'neednt': 2, 'itnot': 2, 'rail': 20, 'attracting': 5, 'caucasus': 0, 'persia': 0, 'shahs': 0, 'semnova': 0, 'marvelously': 1, 'conductor': 2, 'latecomers': 1, 'gems': 2, 'boards': 12, 'cardboard': 4, 'bench': 25, 'prompters': 1, 'fingered': 4, 'stagewho': 1, 'loversbegan': 1, 'grotesque': 1, 'amazing': 5, 'queerly': 1, 'pretentiously': 1, 'actors': 13, 'seminude': 1, 'whoapparently': 1, 'unclothedsat': 1, 'strangest': 3, 'disconnectedly': 1, 'tickle': 1, 'belated': 2, 'self-assured': 7, 'epaulet': 8, 'gangway': 1, 'nudging': 2, 'fawningly': 1, 'scantily': 1, 'vie': 220, 'entracte': 2, 'scenery': 1, 'tombstones': 1, 'footlights': 1, 'horns': 2, 'contrabass': 1, 'daggers': 3, 'captivated': 2, 'boxher': 1, 'exposedbeckoned': 1, 'praises': 2, 'moscovite': 0, 'thinkespecially': 1, 'flatteringquite': 1, 'timenor': 1, 'stereotyped': 1, 'beards': 3, 'violins': 1, 'shrilly': 1, 'bravo': 3, 'cymbals': 1, 'galleries': 1, 'chromatic': 1, 'scales': 3, 'sevenths': 1, 'happinessever': 1, 'narshkins': 0, 'well-remembered': 1, 'tournament': 2, 'encourage': 9, 'sont': 2, 'jolies': 1, 'femmes': 1, 'bouquet': 1, 'recur': 10, 'bare-legged': 1, 'tinsel-decorated': 1, 'bravothere': 0, 'torturing': 3, 'soothing': 4, 'quieted': 2, 'cash': 1, 'creditors': 5, 'chiefa': 2, 'unwillingly': 1, 'slighted': 2, 'actresseswith': 1, 'carousal': 4, 'danlovs': 0, 'revelers': 1, 'outvying': 1, 'flirted': 2, 'beforea': 2, 'payment': 9, 'accused': 11, 'gratification': 2, 'entailed': 1, 'magdalenes': 0, 'innocence': 2, 'forgiven': 20, 'luxury': 5, 'gambling': 3, 'cleverness': 4, 'bait': 2, 'derived': 5, 'dominating': 1, 'connoisseur': 3, 'love-making': 1, 'outcome': 4, 'disquieted': 1, 'parish': 2, 'churchthe': 1, 'graves': 2, 'plague': 3, 'priding': 2, 'conducts': 1, 'holiness': 1, 'concerts': 2, 'self-indulgence': 1, 'scrubbed': 1, 'saturdays': 0, 'suckling': 1, 'festivity': 1, 'dressmaker': 3, 'diversion': 3, 'tacked': 33, 'anothersa': 1, 'womansthat': 1, 'recite': 4, 'therell': 4, 'girlswho': 1, 'georgei': 0, 'tver': 0, 'draping': 1, 'picturesquely': 1, 'praising': 3, 'charmer': 3, 'blossoming': 2, 'unapproachable': 1, 'yesterdaywe': 1, 'laughterhe': 1, 'madly': 5, 'fianc': 13, 'pierrethat': 0, 'pierrehave': 0, 'grande': 19, 'promisedgo': 1, 'divert': 10, 'operagratified': 1, 'worldso': 1, 'worlda': 1, 'monologue': 1, 'recitations': 1, 'entreated': 4, 'improvised': 1, 'whilst': 1, 'merrier': 3, 'grossvater': 0, 'rearrange': 8, 'laughingly': 4, 'andrewshe': 0, 'dressmakers': 1, 'nowthere': 1, 'appreciating': 1, 'wontthats': 1, 'sorting': 5, 'patterns': 1, 'himfrom': 1, 'echo': 4, 'herbut': 1, 'akhrovs': 0, 'pleading': 3, 'lengths': 3, 'deceiver': 2, 'audibly': 6, 'suspicion': 5, 'freedomif': 1, 'comprehension': 3, 'declare': 32, 'prospective': 1, 'everythingthe': 1, 'succumb': 3, 'moaned': 5, 'elope': 28, 'bolknskishe': 0, 'abduction': 3, 'safeguard': 3, 'kmenka': 0, 'unfrocked': 1, 'warsaw': 0, 'passport': 4, 'witnesses': 3, 'mock': 11, 'marriagekhvstikov': 0, 'transactions': 1, 'makrin': 0, 'unbounded': 1, 'kurginwere': 0, 'rugs': 3, 'bearskins': 1, 'abacus': 1, 'bundles': 7, 'khvstikov': 0, 'makrka': 0, 'plot': 5, 'hatched': 3, 'condescendingly': 3, 'ita': 734, 'offall': 1, 'partiality': 2, 'dull-witted': 1, 'goddess': 1, 'himevidently': 1, 'moneys': 1, 'balag': 0, 'ladykins': 1, 'cocottes': 1, 'pedestrians': 1, 'upsetting': 3, 'pedestrian': 2, 'lash': 168, 'bargained': 1, 'charging': 3, 'yearwhen': 1, 'handhe': 1, 'silk-lined': 1, 'beasts': 4, 'reinscatch': 0, 'tumbled': 14, 'sprawled': 1, 'girt': 6, 'belt': 10, 'fling': 23, 'reveled': 1, 'timenow': 1, 'igntka': 0, 'matrna': 0, 'matrvna': 0, 'elopements': 1, 'backbut': 1, 'wrap': 29, 'fox-lined': 1, 'pale-faced': 2, 'blue-black': 1, 'ittake': 1, 'regretful': 5, 'gap': 10, 'matrnas': 0, 'stshka': 0, 'niktski': 0, 'boulevard': 4, 'tproo': 0, 'arbt': 0, 'podnovnski': 0, 'intercepting': 2, 'wicket': 2, 'tearless': 1, 'locked': 19, 'abductors': 1, 'pleaded': 5, 'unlocked': 2, 'hussy': 1, 'tongues': 2, 'hussies': 1, 'convulsive': 11, 'wrenching': 2, 'challenges': 1, 'interfered': 2, 'malignantly': 1, 'wretchthats': 1, 'bewail': 2, 'disasters': 2, 'admonishing': 2, 'enjoining': 1, 'quilts': 1, 'lime-flower': 1, 'parched': 2, 'assurances': 2, 'tranquillity': 16, 'tversky': 0, 'trotting-horses': 1, 'bespattering': 1, 'dashboard': 1, 'white-plumed': 1, 'tilted': 1, 'besprinkled': 2, 'powdery': 1, 'sage': 87, 'enviously': 1, 'fifty-eight': 1, 'open-mouthed': 1, 'wifethe': 1, 'charmingshould': 1, 'sympathized': 5, 'marryhe': 1, 'himexpecting': 1, 'brother-in-law': 11, 'pierreonly': 0, 'andrewpromised': 0, 'rejected': 8, 'loathing': 2, 'komonenos': 0, 'zakhrych': 0, 'timofevich': 0, 'returnat': 1, 'everentered': 1, 'smashing': 1, 'paperweight': 2, 'ruining': 2, 'wifewith': 1, 'kidnap': 1, 'memean': 1, 'onwhich': 1, 'cringing': 1, 'revolted': 1, 'brood': 7, 'banished': 3, 'arsenic': 1, 'antidotes': 1, 'tear-stained': 2, 're-establish': 10, 'purloined': 1, 'elopement': 2, 'additions': 2, 'faithlessness': 1, 'horizontal': 1, 'meshchrski': 0, 'vigorously': 3, 'spernskithe': 0, 'deepened': 1, 'dessalles': 0, 'treason': 2, 'extraneous': 1, 'packet': 7, 'maliciously': 2, 'reminding': 3, 'insists': 1, 'friendis': 1, 'sniffed': 4, 'dismayed': 4, 'himdid': 1, 'welled': 5, 'trickle': 5, 'dearill': 0, 'someonenot': 1, 'clearer': 5, 'self-abasement': 1, 'handsomest': 1, 'fahrenheit': 0, 'ill-lit': 1, 'sordid': 1, 'prechstenka': 0, 'comet': 11, '1812the': 2, 'portend': 1, 'woes': 1, 'orbit': 1, 'inconceivable': 5, 'velocity': 3, 'suddenlylike': 1, 'arrow': 38, 'earthto': 1, 'countless': 4, 'scintillating': 2, 'arming': 73, 'concentrating': 1, 'western': 2, 'forcesmillions': 1, 'transporting': 1, 'armymoved': 1, 'west': 46, 'eastwards': 2, 'similarly': 6, 'crimes': 9, 'frauds': 1, 'treacheries': 1, 'thefts': 1, 'forgeries': 1, 'issues': 4, 'burglaries': 1, 'incendiarisms': 1, 'murders': 5, 'centuries': 7, 'recorded': 1, 'annals': 1, 'historians': 119, 'inflicted': 3, 'nonobservance': 4, 'continental': 0, 'metternich': 0, 'talleyrand': 0, 'oldenburgand': 0, 'englands': 0, 'helena': 0, 'parliament': 1, 'businessmen': 2, 'employment': 3, 'legitimists': 2, 're-establishing': 1, 'bons': 19, 'principes': 1, '178': 4, 'quantity': 10, 'depending': 1, 'magnitude': 2, 'tortured': 8, 'ambitious': 2, 'astute': 1, 'slaughter': 9, 'descendants': 2, 'research': 3, 'unclouded': 2, 'delve': 1, 'impotenceapart': 1, 'coincident': 1, 'causesto': 1, 'objection': 6, 'vistula': 0, 'autocratic': 1, 'subsequent': 12, 'dictatorship': 2, 'causesmyriads': 1, 'causescoincided': 1, 'slay': 7, 'hordes': 1, 'slaying': 2, 'voluntary': 18, 'conscription': 3, 'concurrence': 2, 'powerthe': 2, 'transported': 1, 'gunsshould': 1, 'individuals': 17, 'fatalism': 1, 'abstain': 6, 'predestined': 9, 'hive': 49, 'consciously': 27, 'coinciding': 2, 'assumes': 3, 'predestination': 1, 'kings': 37, 'historys': 6, 'tool': 15, 'purposes': 7, 'verser': 2, 'ou': 23472, 'ses': 907, 'peuples': 2, 'volition': 3, 'lifethat': 2, 'historywhatever': 1, 'coincidence': 8, 'co-ordinated': 1, 'reproaches': 8, 'prussiaundertaken': 0, 'securing': 4, 'inclinations': 2, 'allurement': 2, 'expenditure': 3, 'compensate': 1, 'intoxicating': 2, 'dresden': 0, 'self-love': 1, 'adapted': 2, 'coincided': 4, 'ripened': 2, 'stalk': 2, 'withers': 2, 'shakes': 1, 'organic': 2, 'botanist': 3, 'cellular': 1, 'tissue': 1, 'decays': 1, 'undermined': 1, 'tons': 9, 'navvy': 1, 'mattock': 1, 'twenty-ninth': 4, 'ownthat': 1, 'kingsto': 1, 'historian': 135, 'louisewho': 0, 'parisleft': 0, 'zealously': 2, 'frre': 2, 'himyet': 1, 'accelerate': 1, 'escort': 19, 'posen': 0, 'thorn': 0, 'danzig': 0, 'knigsberg': 0, 'vilkavisski': 0, 'riverbank': 2, 'cosaques': 0, 'wide-spreading': 1, 'steppes': 5, 'moscou': 0, 'ville': 7, 'sainte': 2, 'scythia': 0, 'marchednapoleon': 0, 'spyglass': 1, 'pouring': 2, 'ceaseless': 4, 'asia': 2, 'beauch': 0, 'preurif': 0, 'india': 0, 'grard': 0, 'kashmirthats': 0, 'cossacksthose': 0, 'rascalssee': 1, 'veterans': 1, 'pontoon': 1, 'kvno': 0, 'preceded': 4, 'vliya': 0, 'poles': 0, 'telescope': 3, 'swim': 6, 'excess': 5, 'mustached': 2, 'uncanny': 1, 'manes': 2, 'berthier': 0, 'muscovy': 0, 'dumfound': 1, 'impel': 4, 'insane': 11, 'self-oblivion': 1, 'clambered': 2, 'soaked': 4, 'issuing': 2, 'forged': 2, 'saxon': 0, 'quos': 0, 'vult': 1, 'perdere': 1, 'dementat': 1, 'vlna': 0, 'vacillation': 1, 'everybodytired': 1, 'waitingprepare': 1, 'fetes': 2, 'magnates': 6, 'pleasing': 6, 'regatta': 1, 'zakret': 0, 'eclipsed': 1, 'phrased': 2, 'expenses': 3, 'coolly': 1, 'balashv': 0, 'closest': 1, 'sniffing': 6, 'envied': 2, 'potocka': 0, 'affronted': 1, 'estimation': 1, 'startling': 1, 'unfulfilled': 1, 'indignation': 3, 'resentment': 2, 'shishkv': 0, 'saltykv': 0, 'inserted': 2, 'soil': 13, 'lauriston': 0, 'informs': 2, 'aggression': 2, 'kurkin': 0, 'passports': 2, 'bassano': 0, 'consents': 1, 'transmit': 4, 'insert': 3, 'injudicious': 1, 'ryknty': 0, 'sentinels': 8, 'brute': 5, 'dewy': 3, 'herd': 15, 'trilling': 1, 'bubbles': 1, 'trim': 11, 'peacetime': 2, 'enterprise': 2, 'balashvs': 0, 'tethered': 3, 'trappings': 1, 'curling': 4, 'equestrian': 1, 'bracelets': 1, 'necklaces': 1, 'theatrically': 1, 'julner': 0, 'viva': 5, 're': 35374, 'serviceand': 1, 'yourshe': 0, 'overfat': 1, 'skittish': 1, 'shaftshe': 1, 'variegated': 1, 'contentedly': 2, 'bal-machve': 0, 'overcoming': 2, 'kingly': 8, 'forsook': 1, 'royaut': 1, 'incumbent': 3, 'confer': 16, 'royalty': 1, 'aggressor': 1, 'originator': 3, 'feathers': 2, 'ornaments': 1, 'davouts': 0, 'davout': 0, 'alexanderthough': 0, 'organism': 2, 'states': 53, 'incongruous': 2, 'chivalrous': 1, 'barrel': 8, 'writinghe': 1, 'auditing': 1, 'justification': 17, 'flaunt': 1, 'persistent': 8, 'sneered': 1, 'malevolently': 2, 'surlier': 1, 'ruder': 2, 'obeyed': 4, 'dependence': 20, 'hinges': 2, 'inscription': 2, 'fitting': 5, 'castrs': 0, 'peremptorily': 3, 'requested': 2, 'ennui': 1, 'insignificanceparticularly': 1, 'movedand': 1, 'vlnanow': 0, 'frenchthrough': 0, 'turenne': 0, 'mameluke': 0, 'rustan': 0, 'pomp': 2, 'magnatesseveral': 1, 'russiawere': 0, 'duroc': 0, 'resolutethey': 1, 'rotund': 1, 'thighs': 1, 'hessian': 0, 'eau': 212, 'cologne': 0, 'corpulent': 2, 'protruding': 2, 'emphasized': 1, 'concisely': 1, 'moderate': 3, 'amicable': 1, 'flurriedcompose': 1, 'kurkins': 0, 'initiative': 2, 'retires': 1, 'rhythmically': 5, 'niemenonly': 0, 'oder': 23, 'petrified': 1, 'vibration': 2, 'baden': 0, 'expended': 5, 'rectitude': 2, 'errors': 4, 'duplicity': 1, 'demonstrating': 3, 'exalt': 8, 'alexanderjust': 0, 'eloquence': 2, 'unrestrained': 1, 'moldavia': 0, 'wallachia': 0, 'finland': 0, 'gulf': 2, 'bothnia': 0, 'compassionately': 3, 'steins': 0, 'armfeldts': 0, 'wintzingerodes': 0, 'stein': 10, 'armfeldt': 0, 'fugitive': 8, 'incompetent': 2, 'competent': 3, 'napoleonhardly': 0, 'samebut': 0, 'barclay': 0, 'pfuel': 0, 'compromise': 5, 'weighti': 0, 'swedesit': 0, 'anotherbernadotte': 0, 'madfor': 1, 'swede': 0, 'grinned': 1, 'insanity': 5, 'swedes': 0, 'practically': 2, 'demean': 3, 'alliesthe': 1, 'lions': 71, 'dvna': 0, 'dnieper': 0, 're-erect': 1, 'alienating': 1, 'derisively': 1, 'himthose': 1, 'himan': 8, 'envoyespecially': 1, 'bessires': 0, 'harmonized': 1, 'welcoming': 1, 'devout': 4, 'monasteries': 2, 'backwardness': 2, 'disagree': 22, 'defeats': 4, 'uninterested': 1, 'poltva': 0, 'charles': 0, 'badness': 1, 'toying': 2, 'svres': 0, 'motioned': 1, 'worshiper': 2, 'hearer': 6, 'deliberating': 1, 'derisive': 3, 'wrttemberg': 0, 'weimar': 0, 'forty-year-old': 2, 'himwhich': 1, 'effectsthe': 1, 'boundless': 4, 'horizons': 1, 'unrelated': 2, 'towered': 1, 'vault': 1, 'ravenous': 1, 'avenged': 2, 'rancor': 1, 'unspent': 1, 'plodding': 1, 'vainglorious': 1, 'bucharestwhere': 0, 'wallachian': 0, 'womanprince': 0, 'tolly': 0, 'encamped': 4, 'drissa': 0, 'stateliness': 2, 'joylessly': 1, 'narrowly': 2, 'preceptor': 1, 'skepticism': 1, 'rosier': 1, 'immutability': 1, 'kmenskys': 0, 'attaches': 1, 'censuring': 1, 'irritableas': 1, 'liable': 10, 'latei': 0, 'blamethe': 1, 'blameis': 1, 'judgement': 1, 'curly-headed': 3, 'bluebeard': 0, 'reverie': 5, 'reawaken': 3, 'overcame': 4, 'whatwhat': 1, 'trashcan': 1, 'malignity': 1, 'trash': 2, 'hangs': 2, 'instruments': 1, 'unexpended': 1, 'victimized': 1, 'rejoices': 2, 'coherence': 4, 'fortified': 9, 'invasion': 15, 'vicinity': 5, 'radius': 2, 'experts': 1, 'disadvantageous': 2, 'enemythat': 1, 'foreseenare': 1, 'utilizing': 1, 'tormsov': 0, 'volknski': 0, 'foreigners': 8, 'ex-minister': 0, 'paulucci': 0, 'wolzogenand': 0, 'emanated': 1, 'assistants': 4, 'custodian': 1, 'enforce': 3, 'bodyguard': 2, 'adviser': 9, 'influenced': 7, 'lastly': 3, 'efficacy': 2, 'wolzogen': 0, 'pfuels': 0, 'bookish': 2, 'theorist': 5, 'despising': 1, 'propounded': 1, 'dayespecially': 1, 'ownthere': 1, 'subdivisions': 1, 'tendencies': 3, 'adherentsmilitary': 1, 'theorists': 2, 'immutable': 3, 'lawslaws': 1, 'oblique': 2, 'outflankings': 1, 'adherents': 4, 'pseudo-theory': 1, 'barbarism': 2, 'deviation': 5, 'nobles': 9, 'representatives': 3, 'nationalism': 1, 'one-sided': 3, 'ermlov': 0, 'ermlovs': 0, 'petitioned': 1, 'discouraged': 1, 'partyin': 1, 'confidencebelonged': 1, 'compromises': 1, 'scientific': 2, 'warfare': 13, 'retention': 1, 'casque': 1, 'frankness': 8, 'vtebsk': 0, 'organized': 15, 'superseded': 2, 'bennigsenites': 0, 'twist': 14, 'justicea': 1, 'alexandergenerals': 0, 'capabilities': 2, 'diffidence': 1, 'gather': 71, 'theoreticians': 2, 'eighth': 13, 'ninety-nine': 1, 'defensive': 3, 'thingas': 1, 'conflicting': 3, 'intersecting': 1, 'eddied': 1, 'advocating': 1, 'councils': 1, 'solicit': 12, 'gratuity': 1, 'seemingly': 6, 'achieve': 15, 'long-cherished': 1, 'correctness': 2, 'falsity': 3, 'emerging': 6, 'fishing': 1, 'uncertainties': 2, 'peoplethis': 1, 'imparted': 2, 'obscurity': 5, 'swarm': 10, 'drones': 3, 'obscured': 1, 'ninth': 6, 'intricacy': 1, 'conditional': 10, 'fluctuation': 1, 'trammeled': 1, 'unoccupied': 4, 'suggestedon': 1, 'capitalthat': 1, 'countrythe': 1, 'incitement': 1, 'moscowwas': 0, 'quitting': 1, 'endanger': 1, 'armynews': 1, 'michaud': 0, 'chef-doeuvre': 1, 'tactical': 3, 'ensure': 11, 'absurdity': 4, 'quartersa': 1, 'chernshev': 0, 'marquis': 2, 'suitability': 1, 'organ': 28, 'rolled-up': 3, 'indefiniteness': 1, 'elucidate': 1, 'semicouncil': 1, 'renegade': 2, 'mainspring': 2, 'ill-made': 1, 'theorist-generals': 1, 'typical': 2, 'robust': 3, 'hips': 18, 'quaint': 98, 'restlessly': 3, 'doit': 1, 'terminated': 2, 'glancednot': 1, 'immutably': 2, 'martyrdom': 1, 'notionscience': 1, 'citizen': 10, 'best-organized': 1, 'excitable': 1, 'imagines': 3, 'truthsciencewhich': 1, 'barbarousmonstrous': 1, 'collisions': 1, 'fallibility': 1, 'deviations': 3, 'sarcasm': 2, 'theorys': 1, 'objectits': 1, 'failures': 4, 'unbrushed': 1, 'eloquently': 3, 'fatigued': 1, 'campthe': 2, 'campi': 1, 'alternative': 1, 'lunatic': 9, 'gallows': 1, 'inexplicable': 3, 'expounded': 2, 'putwhich': 1, 'answeras': 1, 'defended': 10, 'well-filled': 1, 'voluminous': 1, 'extricate': 4, 'interpreter': 13, 'attackvery': 1, 'mend': 31, 'adhered': 1, 'drumming': 1, 'efficiency': 2, 'demonstrated': 2, 'mathematician': 1, 'strikes': 1, 'supporter': 1, 'absurdly': 1, 'nursed': 4, 'invoked': 1, 'shatter': 4, 'barbarian': 2, 'grumpy': 1, 'pitiable': 2, 'verifying': 1, 'experiment': 12, 'soundness': 2, 'personalities': 2, 'polyglot': 1, 'refutations': 1, 'activitiesthe': 1, 'geniusnow': 1, 'ascertained': 1, 'foresee': 26, 'gauge': 1, 'sometimeswhen': 0, 'jolly': 3, 'hurraha': 0, 'invested': 1, 'sychophants': 1, 'attributing': 2, 'attributeslove': 1, 'philosophic': 6, 'understandable': 1, 'vista': 2, 'allured': 1, 'agriculture': 4, 'election': 5, 'remounts': 4, 'ukraine': 0, 'relinquish': 2, 'interplay': 2, 'billets': 1, 'camped': 5, 'landowners': 11, 'sventsyni': 0, 'appropriated': 2, 'beer': 1, 'thence': 4, 'torrents': 1, 'ilyn': 0, 'ravskis': 0, 'exploit': 13, 'saltnov': 0, 'trickled': 3, 'inattentively': 1, 'zdrzhinski': 0, 'grandiloquently': 1, 'thermopylae': 0, 'antiquity': 1, 'ravski': 0, 'terrific': 3, 'zdrzhinskis': 0, 'contradicting': 2, 'shanty': 2, 'relish': 2, 'hendrkhovnas': 0, 'hendrkhovna': 0, 'andnow': 2, 'itset': 1, 'lessening': 1, 'blonde': 7, 'gaping': 1, 'recess': 1, 'loan': 3, 'kits': 2, 'dilapidated': 1, 'stove': 5, 'horsecloth': 5, 'cellaret': 1, 'preside': 4, 'cutting': 15, 'overclean': 2, 'plentiful': 3, 'dissolve': 4, 'nicer': 1, 'bucket': 1, 'lots': 2, 'booby': 0, 'reheat': 1, 'scratched': 4, 'plausible': 1, 'ostrvna': 0, 'twilight': 5, 'defiled': 1, 'fours': 3, 'planted': 7, 'blue-purple': 1, 'scudding': 1, 'roadsides': 1, 'mettlesome': 1, 'dun-colored': 1, 'outgallop': 1, 'plucking': 1, 'branch': 21, 'strip': 20, 'vertically': 2, 'determine': 26, 'ostermann-tolstys': 0, 'batterywhich': 1, 'quickened': 1, 'pacerode': 1, 'wonderfully': 1, 'sunbeams': 1, 'dale': 4, 'unheard': 6, 'trap-ta-ta-tap': 0, 'detonators': 1, 'platoons': 1, 'spears': 1, 'pleasurable': 1, 'exhilarating': 1, 'viewed': 7, 'swooped': 2, 'orange-colored': 1, 'sportsmans': 1, 'sevastynych': 0, 'attackknew': 1, 'stimulatingly': 1, 'deployed': 1, 'intersect': 2, 'riderless': 1, 'crouching': 1, 'blowwhich': 1, 'elbowas': 1, 'hopping': 3, 'mud-stained': 1, 'facefair': 1, 'dimple': 7, 'eyeswas': 1, 'homelike': 1, 'remove': 43, 'ostermann-tolsty': 0, 'breach': 1, 'ostermanns': 0, 'nausea': 1, 'packhorse': 1, 'countrys': 7, 'medicines': 4, 'diseases': 1, 'medicinenot': 1, 'liver': 36, 'medical': 4, 'combinations': 6, 'maladies': 1, 'organs': 2, 'wizard': 3, 'charms': 2, 'swallow': 14, 'substances': 1, 'doses': 2, 'pseudo-healers': 1, 'homeopaths': 1, 'allopaths': 1, 'elementary': 1, 'rubs': 1, 'chemists': 1, 'pills': 4, 'kopeks': 1, 'powders': 3, 'feller': 0, 'frise': 0, 'mdrov': 0, 'diagnosed': 1, 'pneumonia': 1, 'deriving': 1, 'sacrifices': 7, 'grief-stricken': 1, 'low-spirited': 1, 'stifling': 2, 'overlaid': 1, 'pleasureballs': 1, 'promenades': 1, 'theatersbut': 1, 'blasphemy': 1, 'coquet': 10, 'sentinel': 18, 'forbade': 3, 'carefree': 2, 'herthat': 4, 'loveuttered': 1, 'instances': 3, 'agrafna': 0, 'shrines': 3, 'fasting': 3, 'vespers': 2, 'matins': 0, 'shabbiest': 1, 'interwoven': 1, 'repentance': 2, 'bricklayers': 1, 'sweeping': 1, 'correcting': 1, 'communing': 1, 'frolicking': 1, 'freshened': 1, 'spat': 41, 'eleventh': 5, 'miracle': 4, 'saturday': 0, 'print': 15, 'sultry': 1, 'hawkers': 4, 'cobblestones': 1, 'discontent': 6, 'liveried': 3, 'lilac': 7, 'walkedas': 1, 'walkwith': 1, 'againanother': 1, 'nods': 2, 'comely': 1, 'elevating': 1, 'worshipers': 1, 'sanctuary': 3, 'heave': 69, 'dalmatic': 1, 'unto': 8, 'community': 1, 'lovelet': 1, 'warriors': 4, 'dealings': 1, 'harmand': 1, 'synod': 0, 'governing': 4, 'litany': 0, 'stole': 14, 'sins': 18, 'stool': 4, 'trinity': 0, 'biretta': 1, 'synoda': 0, 'deliverance': 3, 'grandiloquent': 2, 'slav': 14, 'confounding': 1, 'waste': 16, 'lawless': 2, 'thine': 1, 'altars': 1, 'desecrate': 2, 'wield': 3, 'unlawful': 1, 'mindful': 1, 'uprightness': 1, 'meekness': 2, 'righteousness': 3, 'israel': 0, 'counsels': 2, 'undertakings': 1, 'gavest': 2, 'moses': 0, 'amalek': 0, 'gideon': 0, 'midian': 0, 'goliath': 0, 'brass': 1, 'gird': 6, 'loins': 1, 'spear': 3, 'arise': 19, 'ensnared': 1, 'plots': 1, 'prevail': 12, 'bounteous': 1, 'loving-kindness': 1, 'unworthiness': 1, 'mercies': 1, 'transgressions': 1, 'iniquities': 1, 'righteous': 4, 'heritage': 1, 'scepter': 3, 'sanctified': 1, 'confounded': 1, 'smite': 2, 'succor': 1, 'amen': 51, 'bended': 1, 'overtakes': 1, 'horizonfrom': 1, 'wherefore': 0, 'incomprehensiblebut': 1, 'vanishednot': 1, 'haunted': 1, 'guiltya': 1, 'swindled': 1, 'catastrophe': 5, 'prophecy': 2, 'john': 0, 'apocalypse': 0, 'hath': 6, 'threescore': 1, 'blasphemies': 2, 'numerical': 4, 'hebrew': 0, 'denote': 3, 'e': 311315, 'h': 163037, 'k': 19231, '8': 192, '9': 36, 'p': 39017, 'q': 2296, 'r': 145374, '40': 2, '50': 7, '60': 8, '70': 3, '80': 79, '90': 3, 'w': 56322, '100': 2, '110': 1, '120': 1, '130': 1, '140': 1, '150': 3, 'z': 2280, '160': 2, '666': 6, 'quarante-deux': 1, 'forty-two': 1, 'calculations': 4, 'besouhoff': 0, 'substituting': 1, 'article': 14, 'nationality': 2, 'besuhof': 0, '671': 1, 'elided': 1, 'empereur': 1, 'incorrectly': 1, 'lrusse': 0, 'antichrist': 0, 'besuhofall': 0, 'mature': 3, 'culminate': 2, 'spellbound': 2, 'sackful': 1, 'bulletin': 2, 'lists': 6, 'leaflet': 3, 'circulation': 2, 'membership': 1, 'abolition': 1, 'muscovites': 0, 'donned': 7, 'patriotism': 13, 'abnormal': 2, 'limb': 27, 'bulk': 2, 'solfa': 1, 'exercises': 1, 'thinkshe': 0, 'herwill': 0, 'association': 4, 'rapturouslythats': 1, 'obolnski': 0, 'kirlych': 0, 'levy': 3, 'per': 2520, 'lining': 6, 'chevalier': 3, 'georgian': 0, 'disappearance': 2, 'spyer': 1, 'spire': 29, 'reader': 6, 'borders': 3, 'despoil': 1, 'levies': 1, 'barring': 4, 'recoil': 2, 'bondage': 3, 'glorify': 1, 'vinaigrette': 1, 'begrudge': 2, 'patriot': 35, 'dononsense': 1, 'youpeter': 0, 'milk': 9, 'unwontedly': 1, 'brightens': 1, 'challengingly': 1, 'gesticulated': 1, 'emperorhe': 0, 'youthfulnessand': 1, 'sedateness': 1, 'gateway': 9, 'rumbling': 8, 'archway': 1, 'tradesmen': 5, 'lordling': 1, 'filthy': 2, 'presentable': 1, 'smarten': 2, 'everywhereon': 1, 'bared': 5, 'pinched': 1, 'tradesmans': 3, 'clinching': 1, 'ferociously': 1, 'elbowing': 1, 'ferocious': 3, 'myselfthat': 1, 'backthe': 1, 'assumptionand': 0, 'cassockprobably': 1, 'chanterwas': 1, 'warding': 1, 'ptyapale': 0, 'breathlessto': 1, 'tsar-cannon': 0, 'platform': 1, 'sheetvarious': 0, 'temporary': 7, 'assumptionit': 0, 'turksthe': 0, 'kvas': 3, 'poppyseed': 1, 'goods': 14, 'rescued': 7, 'functionary': 1, 'officiating': 1, 'bishop': 2, 'plenary': 1, 'citizens': 9, 'cracking': 2, 'elevationthe': 1, 'pedestal': 2, 'cannonstill': 1, 'embankment': 3, 'celebrate': 12, 'signing': 4, 'sashes': 1, 'himthough': 1, 'emperorfrantically': 0, 'drenched': 3, 'dinedlooking': 1, 'envying': 1, 'notables': 3, 'balcony': 9, 'mold': 5, 'largish': 1, 'parapet': 3, 'jerkin': 2, 'plateful': 1, 'groundshe': 1, 'grabbed': 4, 'waitedand': 1, 'rostvthough': 0, 'yieldedwent': 1, 'slobda': 0, 'halls': 3, 'bearded': 4, 'merchants': 12, 'noblemens': 1, 'high-backed': 1, 'strolling': 1, 'uniformsome': 1, 'dim-eyed': 1, 'toothless': 3, 'bloated': 2, 'zinada': 0, 'merchant-classles': 1, 'tats': 1, 'gnraux': 1, 'states-generalevoked': 0, 'graven': 1, 'appealthat': 1, 'peoplestrengthened': 1, 'strolled': 1, 'evoking': 3, 'districts': 2, 'sauntering': 1, 'meekest': 1, 'quietest': 2, 'slurring': 1, 'consonants': 1, 'heah': 1, 'bwing': 4, 'indicative': 1, 'offahd': 1, 'waise': 1, 'empewah': 0, 'patten': 1, 'awistocwacy': 1, 'pwovince': 1, 'sovweign': 2, 'fogotten': 1, 'waising': 1, 'yeah': 1, 'enwich': 1, 'pwiests': 1, 'wobbahs': 1, 'empia': 0, 'wuined': 1, 'farming': 6, 'bettah': 0, 'conscwiption': 1, 'wetun': 1, 'neithah': 1, 'depwavity': 1, 'gwudge': 1, 'theah': 1, 'livesevewy': 1, 'wecwuits': 1, 'fo': 7820, 'watered': 1, 'senators': 2, 'managing': 2, 'debates': 1, 'mumbling': 2, 'bestconscription': 1, 'militiawe': 1, 'outlet': 1, 'senator': 5, 'deliberations': 2, 'lapsing': 5, 'formally': 2, 'propinantmy': 0, 'owners': 19, 'canon': 3, 'ourselvesand': 1, 'co-co-counsel': 1, 'emperormost': 0, 'majestyto': 0, 'stepn': 0, 'stepnovich': 0, 'adrksin': 0, 'increases': 10, 'decreases': 3, 'cardplayer': 1, 'tombs': 2, 'smote': 2, 'raving': 1, 'animate': 64, 'tangible': 6, 'orators': 3, 'glnka': 0, 'editor': 6, 'thunderclaps': 2, 'seventy-year-old': 1, 'besashed': 1, 'buffoons': 1, 'racked': 10, 'lengthswhich': 1, 'speechesinfected': 1, 'expiation': 1, 'sash': 5, 'therehe': 2, 'hallbut': 1, 'conference': 1, 'furnish': 8, 'awe-struck': 2, 'surpassed': 1, 'exclamations': 4, 'otkupshchk': 2, 'mayor': 2, 'propertytake': 1, 'effacing': 1, 'mamnov': 0, 'furnishing': 1, 'accomplishment': 3, 'stupendous': 1, 'expectedneither': 1, 'deny': 2, 'generalcould': 1, 'inexperienced': 2, 'works': 45, 'writers': 10, 'statements': 3, 'authors': 5, 'fonder': 3, 'scythian': 0, 'lure': 16, 'himselfpointing': 1, 'falsified': 1, 'awareness': 1, 'luring': 4, 'conceptions': 8, 'inch': 15, 'contemplate': 7, 'ruinous': 4, 'fortuitously': 1, 'necessarily': 3, 'withdrawing': 3, 'anglewe': 1, 'unpopular': 3, 'bagratinbeing': 0, 'armytried': 1, 'barclays': 0, 'effecting': 2, 'junctionthough': 1, 'headquartersbecause': 1, 'inferior': 4, 'advisers': 8, 'unpopularity': 1, 'avoidance': 2, 'trebled': 1, 'obstruct': 5, 'enfeebled': 4, 'caution': 5, 'lubomrski': 0, 'bronntski': 0, 'wlocki': 0, 'contest': 7, 'bronntskis': 0, 'hating': 2, 'battleground': 1, 'frenchhaving': 0, 'nevrovskis': 0, 'misled': 1, 'kindling': 2, 'gloat': 1, 'excluded': 1, 'devoting': 2, 'plotted': 1, 'impels': 1, 'conversed': 2, 'frenchified': 0, 'detestation': 2, 'jewish': 0, 'taverns': 3, 'widows': 1, 'charpie': 1, 'unhesitatingly': 1, 'whileinstead': 1, 'bouriennea': 0, 'dutifully': 1, 'forecasts': 1, 'maryhavent': 0, 'knowunder': 1, 'himnot': 4, 'geographical': 2, 'melts': 1, 'swamps': 2, 'mentions': 1, 'peevishly': 1, 'nowmichael': 0, 'voicenow': 1, 'bureau': 3, 'dramatic': 2, 'manuscripthis': 1, 'termed': 15, 'itwhich': 1, 'ivnovichs': 0, 'notepaperdo': 1, 'quires': 4, 'gilt-edged': 1, 'bolts': 2, 'unsatisfactory': 3, 'piano': 1, 'divest': 2, 'meditating': 5, 'deferring': 1, 'twenty-thousandth': 1, 'damn': 8, 'pocketcant': 1, 'slapped': 2, 'tableon': 1, 'lemonade': 2, 'spiral': 1, 'candlemoved': 1, 'candlestick': 4, 'noonday': 1, 'reeds': 1, 'potmkin': 0, 'sallow-faced': 4, 'catafalque': 1, 'zbov': 1, 'quickerand': 1, 'hata': 1, 'princeand': 1, 'stuffed': 2, 'satellitesthe': 1, 'countinghouse': 1, 'scullery': 1, 'pageboy': 1, 'serfswere': 1, 'chintz-covered': 1, 'bundle': 9, 'ykov': 2, 'still-green': 1, 'crop': 11, 'corn': 139, 'reaped': 3, 'baited': 1, 'mown': 5, 'gchina': 0, 'suburb': 5, 'ferapntov': 0, 'alptychs': 0, 'trade': 32, 'dealers': 4, 'forties': 1, 'knobs': 1, 'folks': 5, 'cartingit': 1, 'harvesting': 2, 'booming': 4, 'cabs': 1, 'governors': 27, 'ex-captain': 2, 'undone': 2, 'hangedthe': 1, 'merchant': 22, 'asch': 0, 'general-in-chief': 0, 'instructionshere': 1, 'unlikely': 1, '22nd': 1, 'compatriots': 1, 'roaming': 1, 'utensils': 1, 'ferapntovs': 0, 'wailing': 5, 'lamenting': 2, 'watchdog': 1, 'barking': 1, 'innyard': 2, 'purchases': 2, 'yawned': 2, 'sorted': 2, 'packages': 1, 'cartload': 2, 'dorogobzh': 0, 'christians': 0, 'selivnov': 0, 'thursdaysold': 0, 'sack': 194, 'crops': 3, 'mrina': 0, 'parcels': 2, 'innkeeper': 8, 'far-off': 1, 'boom': 19, 'blending': 3, 'bombarded': 1, 'bombardment': 2, 'bombs': 1, 'projectiles': 7, 'splinters': 4, 'bucks': 1, 'intermittent': 2, 'marvels': 2, 'tucked-up': 1, 'exploded': 1, 'shrouded': 2, 'oh-h-h': 0, 'splinter': 7, 'cellar': 8, 'rocked': 4, 'shopman': 3, 'sickle': 2, 'crackle': 6, 'widespread': 1, 'confusedly': 1, 'ant-hill': 1, 'thronging': 2, 'firesthe': 2, 'twilightand': 1, 'lamentation': 1, 'sunflower': 1, 'seeds': 2, 'loot': 21, 'frieze': 10, 'blazing': 4, 'collapsing': 3, 'rafters': 1, 'hailed': 1, 'usvyzh': 0, 'vidence': 16, 'apologetically': 2, 'wreaths': 1, 'ou-rou-rou': 0, 'yelled': 5, 'echoing': 1, 'cakelike': 1, 'aroma': 3, 'raging': 10, 'drought': 1, 'fleecy': 1, 'reddish-brown': 1, 'dews': 1, 'unreaped': 1, 'scorched': 3, 'marshes': 1, 'lowed': 207, 'sun-parched': 1, 'meadows': 6, 'imperceptible': 1, 'sandy': 1, 'churned': 1, 'hubs': 1, 'ankle-deep': 1, 'kneaded': 1, 'nostrils': 3, 'wells': 3, 'abandonment': 14, 'considerate': 3, 'likepeople': 1, 'bristled': 1, 'repugnant': 3, 'unfair': 4, 'flee': 20, 'pillage': 11, 'peopled': 1, 'foment': 2, 'rinsed': 1, 'beetles': 1, 'wharf': 1, 'submerged': 1, 'keepers': 8, 'calves': 1, 'straying': 2, 'overturned': 2, 'ornamental': 2, 'plum': 60, 'magnolia': 1, 'limes': 1, 'piebald': 1, 'foal': 1, 'rosebushes': 1, 'indoors': 1, 'carted': 5, 'commandeered': 1, 'occupies': 2, 'bareheaded': 6, 'aloof': 6, 'thingto': 2, 'caughtand': 1, 'chirruping': 1, 'scampered': 1, 'intolerably': 1, 'ooze': 1, 'brick-red': 1, 'floundered': 1, 'carp': 30, 'yelling': 4, 'towel': 2, 'alxis': 0, 'andrevichhe': 0, 'wantonly': 1, 'induce': 11, 'thiswe': 1, 'execrable': 1, 'frantic': 3, 'entrusts': 1, 'rabble': 5, 'implanting': 1, 'dilatory': 1, 'bewails': 1, 'applicable': 6, 'discriminate': 1, 'prevails': 3, 'latteras': 1, 'lifewe': 2, 'allot': 5, 'salons': 3, 'constitutions': 1, 'unmade': 1, 'beenthe': 1, 'malicious': 3, 'deep-rooted': 1, 'troupe': 1, 'contradicted': 3, 'conciliation': 6, 'discountenanced': 1, 'kazn': 0, 'educational': 5, 'establishments': 3, 'bilbinwho': 0, 'visitthat': 1, 'enthusiasmnews': 1, 'returnwas': 1, 'plutarch': 0, 'ancients': 16, 'comings': 1, 'versa': 221, 'treasury': 0, 'suggest': 59, 'requirements': 6, 'assembly': 1, 'ape': 258, 'retrieved': 1, 'tribunal': 2, 'morals': 1, 'bucharest': 0, 'appoint': 87, 'decrepit': 2, 'blindmans': 4, 'buff': 15, 'director': 5, 'dissensions': 1, 'impolite': 3, 'coughthe': 1, 'dispose': 12, 'regionpowers': 1, 'autocrat': 2, 'novice': 1, 'joconde': 0, 'award': 9, 'courtly': 3, 'thiers': 1, 'retrospection': 1, 'reciprocity': 1, 'chessplayer': 1, 'manipulates': 1, 'conflicts': 4, 'vyzma': 0, 'tsrevo-zaymshche': 0, 'borodin': 0, 'capitale': 1, 'asiatique': 2, 'sacre': 19, 'dalexandre': 0, 'innombrables': 2, 'glises': 2, 'forme': 304, 'pagodes': 1, 'chinoises': 1, 'ambler': 5, 'lelorgne': 0, 'dideville': 0, 'asiatic': 0, 'pagodas': 1, 'garrulous': 2, 'dinnerless': 1, 'quest': 396, 'bare-faced': 1, 'baser': 1, 'impulses': 6, 'pettiness': 2, 'identity': 2, 'intimidate': 5, 'majors': 1, 'rods': 2, 'matterwithout': 0, 'boastful': 1, 'interlocutor': 1, 'immortally': 1, 'pyramids': 0, 'enfant': 4, 'perplex': 35, 'gratify': 2, 'loquacity': 1, 'inventing': 1, 'operating': 4, 'yankvo': 0, 'extremity': 2, 'apathy': 2, 'disobey': 6, 'harbored': 1, 'suspicions': 1, 'flower-bordered': 1, 'domestics': 1, 'lime-tree': 2, 'paralyzing': 1, 'paralysis': 1, 'certainthat': 1, 'half-crazy': 2, 'concerns': 2, 'yearsthoughts': 1, 'happinessfloated': 1, 'looted': 6, 'proclamations': 2, 'circulating': 2, 'mutterings': 1, 'surge': 4, 'knotted': 1, 'faculties': 5, 'mmmarateate': 0, 'bouriennewho': 0, 'itcoming': 1, 'excusing': 1, 'darkened': 6, 'deadits': 1, 'stiffen': 4, 'pall': 11, 'sprays': 1, 'juniper': 1, 'chanter': 5, 'psalms': 1, 'coffinthe': 1, 'womenand': 1, 'absentees': 1, 'dig': 65, 'ditches': 1, 'boorishness': 3, 'traits': 6, '1797': 1, 'fdorovichs': 0, 'notions': 2, 'crown': 13, 'resident': 8, 'landlords': 4, 'literate': 3, 'peasantry': 1, 'undercurrents': 3, 'baffling': 1, 'emigrate': 1, 'southeast': 2, 'migrate': 5, 'caravans': 1, 'forcibly': 3, 'eruption': 1, 'loyal': 7, 'karp': 0, 'commune': 7, 'vislokhovo': 0, 'drnushka': 0, 'migration': 7, 'twenty-three': 2, 'jestingly': 2, 'tasks': 1, 'cartloads': 1, 'acre': 25, 'complying': 4, 'carting': 6, 'possessing': 2, 'divining': 2, 'instincts': 1, 'drons': 9, 'furtively': 2, 'beekeeping': 1, 'sow': 9, 'wizards': 1, 'wrung': 1, 'westward': 3, 'cushion': 7, 'subjectthe': 2, 'irrevocability': 1, 'morocco': 1, 'windy': 2, 'weepers': 1, 'disharmony': 1, 'dependent': 41, 'blameless': 2, 'dangerare': 1, 'rameaus': 0, 'afford': 11, 'stifled': 5, 'rameau': 0, 'gnral': 1, 'violate': 2, 'annihilated': 1, 'inconsolable': 1, 'scourge': 1, 'diedthis': 1, 'horseswe': 1, 'distribution': 12, 'enabling': 1, 'distribute': 19, 'dunyshas': 0, 'bribe': 5, 'monthly': 1, 'housing': 1, 'pasture': 3, 'herethat': 3, 'distrustbut': 1, 'identical': 5, 'bounty': 1, 'oppress': 20, 'artful': 2, 'slavery': 1, 'pasther': 1, 'momentsrose': 1, 'images': 3, 'repelling': 1, 'crimea': 0, 'alivehe': 1, 'deadand': 1, 'dear-est': 0, 'captivity': 9, 'rideto': 1, 'princely': 1, 'farm': 14, 'raced': 48, 'ilyns': 0, 'outstripping': 1, 'grassland': 1, 'mortify': 2, 'mo-o-st': 1, 'me-r-r-y': 1, 'co-o-m-pa': 1, 'himselfand': 2, 'co-o-om-pa-ny': 0, 'peoplehe': 1, 'peasantsasks': 1, 'horseflies': 1, 'unharness': 5, 'dissuasions': 1, 'cavalrymen': 6, 'espied': 3, 'rioting': 5, 'apprehensive': 2, 'friendmy': 1, 'obdurate': 1, 'imprudent': 1, 'overresist': 2, 'meaninglessly': 1, 'unconciously': 1, 'dissension': 2, 'arisen': 3, 'amiss': 3, 'ex-elder': 0, 'fattening': 1, 'pot': 103, 'begrudged': 1, 'lump': 39, 'dronand': 0, 'vnka': 0, 'riot': 48, 'decidedtheres': 1, 'mutiny': 1, 'unmeaningly': 1, 'belts': 2, 'foolishness': 1, 'bickering': 1, 'aye': 226, 'othera': 4, 'chuck': 4, 'matting': 1, 'haythats': 1, 'ladssolid': 1, 'dictionaries': 1, 'obtrude': 1, 'permitting': 1, 'blushingly': 1, 'mutineers': 1, 'adventure': 8, 'wealthiest': 1, 'evenhe': 1, 'itensure': 1, 'plighted': 1, 'runner': 6, 'weceives': 1, 'evewyone': 1, 'weason': 1, 'pwomoted': 1, 'pwaps': 1, 'wussians': 0, 'wetweating': 2, 'dearnot': 1, 'birthmy': 1, 'pwince': 0, 'wellonly': 1, 'andwew': 0, 'impressionssuch': 1, 'concurrently': 1, 'bweak': 3, 'thwough': 1, 'hundwed': 3, 'wayguewilla': 1, 'ambled': 3, 'peak': 402, 'flaccid': 1, 'bleached': 1, 'eyeball': 1, 'limply': 1, 'whew': 4, 'relaxed': 2, 'lurching': 1, 'glumly': 1, 'bibulous': 1, 'time-worn': 1, 'expound': 4, 'wussian': 0, 'intendant': 0, 'kirl': 0, 'sewene': 0, 'konovntsyn': 0, 'reportwhich': 1, 'tsrevo-zaymshcheas': 0, 'tow': 427, 'mattersomething': 1, 'boredom': 1, 'propriety': 5, 'knowledgehe': 1, 'thesebut': 1, 'signature': 1, 'compensation': 4, 'smacked': 2, 'chopped': 1, 'chips': 1, 'dimples': 1, 'reclining': 1, 'marking': 7, 'chevaliers': 0, 'cygne': 0, 'would-be': 1, 'suffused': 5, 'vient': 2, 'attendre': 1, 'storming': 1, 'rustchuk': 0, 'horseflesh': 9, 'nentendent': 1, 'oreille': 1, 'mal': 342, 'thingothers': 1, 'doute': 4, 'abstiens-toi': 1, '*2he': 0, 'articulated': 1, 'manin': 1, 'grouping': 1, 'eventsthe': 2, 'willthe': 1, 'proverbs': 2, 'unanimity': 1, 'influences': 6, 'elation': 125, 'fervor': 2, 'contributions': 3, 'frivolous': 4, 'disregard': 4, 'broadsheets': 11, 'headed': 13, 'woodcuts': 1, 'potman': 1, 'burgher': 2, 'karpshka': 0, 'chigrin': 0, 'militiaman': 2, 'pubheard': 1, 'lvvich': 0, 'pshkins': 0, 'jeered': 1, 'choke': 10, 'dwarfs': 1, 'hayfork': 1, 'vulgar': 2, 'agents': 1, 'deported': 2, 'nzhni': 0, 'boat': 9, 'rentrez': 0, 'vous-mmes': 1, 'entrez': 3, 'barque': 4, 'nen': 74, 'faites': 1, 'charon': 0, 'witticism': 3, 'addedthat': 1, 'mamnovs': 0, 'bunch': 1, 'raveled': 12, 'beringed': 2, 'caustique': 2, 'forfeit': 5, 'fines': 6, 'gallicism': 0, 'writer': 13, 'caustiquei': 0, 'gallicisms': 0, 'galtsyn': 0, 'facility': 2, 'drags': 1, 'madness': 3, 'besidesi': 0, 'joan': 0, 'arc': 399, 'amazon': 0, 'obolnskis': 0, 'blaya': 0, 'tsrkov': 0, 'souzas': 0, 'novels': 3, 'fable': 4, 'admire': 18, 'talkhow': 1, 'vrathat': 0, 'sexcuse': 1, 'saccuse': 1, 'accuses': 2, 'petit': 31, 'amoureuse': 1, 'tradesmens': 1, 'broadsheet': 17, 'wittgenstein': 0, 'arsenal': 4, 'jocose': 1, 'stormcloud': 2, 'hundredth': 4, 'cousine': 2, 'bantering': 3, 'habitually': 1, 'barbara': 0, 'mutinousthey': 1, 'misinformed': 1, 'hypocrite': 1, 'rascal': 11, 'idiotic': 3, 'lockup': 1, 'captures': 1, 'cajolery': 1, 'vorontsvo': 0, 'leppich': 0, 'car': 903, 'descends': 1, 'boltnoe': 0, 'lbnoe': 0, 'flogging': 3, 'executioner': 3, 'frenchmans': 0, 'crowdofficials': 1, 'burghers': 1, 'shopkeepers': 3, 'pelisseswas': 1, 'full-blooded': 1, 'mounseer': 1, 'sauce': 5, 'sour': 32, 'lubynka': 0, 'coachmana': 1, 'evstfeyhis': 0, 'moscowthat': 0, 'mozhysk': 0, 'evstfeys': 0, 'perkhshkovo': 0, 'shevrdino': 0, 'hostel': 2, 'visita': 1, 'sacrificing': 8, 'happinessthe': 1, 'itselfis': 1, 'redoubt': 14, 'twenty-fifth': 10, 'twenty-sixth': 12, 'moscowwhich': 0, 'armywhich': 3, 'accepting': 4, 'mathematically': 2, 'draughts': 1, 'lengthening': 2, 'onwards': 2, 'announcements': 2, 'irrationally': 1, 'cunningly': 2, 'enslaved': 1, 'poems': 1, 'histories': 16, 'uttsa': 0, 'outpost': 14, 'mound': 3, 'hazard': 1, 'patrol': 8, 'sufficed': 2, 'infallible': 3, 'postwhereas': 1, 'flankand': 1, 'unentrenched': 3, 'kolochwhich': 0, 'angleso': 1, 'nvoe': 0, 'koloch': 0, 'vyna': 0, 'valevo': 0, 'positionat': 1, 'redoubtand': 0, 'semnovsk': 0, 'borodina': 0, 'russiaand': 0, 'redoubtour': 0, 'flankstill': 1, 'gridnva': 0, 'entrench': 21, 'commandersnot': 1, 'leftmaintained': 1, 'launched': 1, 'poniatowskis': 0, 'indecisive': 2, 'lashing': 16, 'tireless': 1, 'breech-band': 1, 'countryman': 1, 'recruit': 15, 'responding': 11, 'coxcombs': 1, 'peasantseven': 1, 'themin': 1, 'gig': 10, 'tatrinova': 0, 'digging': 3, 'hereand': 2, 'bunks': 1, 'dressers': 4, 'wellwe': 1, 'doomed': 2, 'awaits': 7, 'grki': 0, 'wheeling': 1, 'barrowloads': 1, 'collarbones': 1, 'panorama': 4, 'amphitheater': 2, 'rarefied': 1, 'bisecting': 1, 'yellowing': 1, 'belfry': 2, 'troopsours': 1, 'rightalong': 1, 'moskv': 1, 'riverswas': 1, 'hilly': 3, 'bezbova': 0, 'zakhrino': 0, 'ruins': 10, 'mounds': 1, 'descry': 1, 'teemed': 2, 'unmilitary': 1, 'brdino': 0, 'groundthats': 0, 'redoubts': 2, 'wingnow': 1, 'gabions': 0, 'reversed': 1, 'protectress': 0, 'spades': 1, 'vestmentsone': 1, 'embossed': 1, 'summit': 4, 'chanters': 2, 'censers': 1, 'decorating': 1, 'themhis': 1, 'inviolable': 1, 'bulwark': 1, 'momentarily': 1, 'scrambled': 2, 'brushing': 1, 'soiled': 1, 'kaysrov': 0, 'unembarrassed': 1, 'facesan': 1, 'wriggles': 1, 'bob': 6, 'narrowing': 1, 'highnessfor': 0, 'deaththey': 1, 'matchless': 2, 'adorers': 1, 'mrins': 0, 'gerkov': 0, 'lectures': 2, 'inditing': 1, 'recited': 1, 'rhythm': 13, 'fated': 1, 'new-mown': 2, 'riverside': 2, 'unnamed': 1, 'huts': 9, 'barns': 1, 'flches': 20, 'inadequate': 3, 'truthfully': 1, 'low-growing': 1, 'dart': 9, 'disappear': 43, 'tchkovs': 0, 'slaughtered': 3, 'gross': 15, '25': 3, 'knyazkvo': 0, 'thirty-year-old': 1, 'lopped': 5, 'shocks': 1, 'campfiresthe': 1, 'kitchens': 4, 'burdensome': 2, 'thoughtsthe': 1, 'clearest': 2, 'thoughtswould': 1, 'soulvividly': 1, 'perspective': 1, 'magic-lantern': 1, 'daubed': 1, 'lantern': 8, 'itselfhow': 1, 'crude': 3, 'dawning': 2, 'overrun': 1, 'brimming': 1, 'dove': 4, 'discharging': 1, 'stink': 2, 'paymaster': 2, 'dismiss': 11, 'tripped': 7, 'coldnessthey': 1, 'yesthat': 0, 'interrogative': 4, 'wisp': 4, 'venomous': 2, 'pillaged': 3, 'accurately': 5, 'satisfies': 1, 'mortally': 6, 'unpracticed': 1, 'skilled': 2, 'kin': 2231, 'slander': 2, 'accusations': 2, 'adversarys': 1, 'pawns': 1, 'reticent': 1, 'taciturnity': 1, 'affording': 3, 'undermine': 2, 'fights': 2, 'spares': 1, 'muddles': 3, 'clausewitz': 0, 'der': 3520, 'krieg': 9, 'muss': 1, 'raum': 0, 'verlegt': 1, 'ansicht': 0, 'kann': 2, 'ich': 3157, 'nicht': 2, 'genug': 1, 'preis': 0, 'geben': 1, 'commend': 17, 'ja': 80, 'zweck': 0, 'ist': 2197, 'nur': 97, 'den': 1457, 'feind': 0, 'schwchen': 1, 'gewiss': 1, 'verlust': 0, 'privat-personen': 0, 'achtung': 0, 'nehmen': 1, 'weaken': 11, 'youthose': 1, 'theories': 2, 'eggshell': 1, 'tomorrowthat': 1, 'absently': 6, 'chivalry': 5, 'outraged': 1, 'outraging': 1, 'criminals': 5, 'lightheartedly': 1, 'warthats': 1, 'faints': 1, 'humbugged': 2, 'plunder': 18, 'cramp': 3, 'westphalians': 0, 'hessians': 0, 'spying': 1, 'encouragement': 2, 'stealing': 1, 'provision': 32, 'craft': 9, 'kills': 2, 'maim': 3, 'exaggerate': 5, 'compassionate': 5, 'incoherently': 3, 'beekeeper': 8, 'soulthat': 1, 'fettered': 3, 'bodyit': 1, 'beausset': 0, 'prefect': 2, 'fabvier': 0, 'madrid': 0, 'compartment': 1, 'grunting': 2, 'pampered': 1, 'delivering': 2, 'aide-de-camps': 1, 'exterminate': 2, 'hunching': 1, 'beaussets': 0, 'salamanca': 0, 'thoughtto': 1, 'emperorand': 0, 'fearto': 1, 'deplorable': 1, 'fabviers': 0, 'lucid': 2, 'luckily': 1, 'sistine': 0, 'madonna': 0, 'terrestrial': 3, 'globe': 6, 'depicting': 1, 'spiking': 1, 'allegory': 1, 'himwhose': 1, 'globeto': 1, 'touchedhimself': 1, 'whythe': 1, 'paint': 11, 'corrections': 1, 'achievements': 1, 'profoundly': 2, 'flankhad': 1, 'dubiously': 2, 'communicating': 1, 'deckmhl': 0, 'campan': 0, 'elchingen': 0, 'ney': 201, 'morrow': 112, 'dictation': 1, 'opposing': 4, '1st': 1, 'pernetti': 0, 'campans': 0, 'howitzers': 3, 'dessaixs': 0, 'friants': 0, 'overwhelm': 8, 'shellfire': 1, '24': 3, '62': 2, 'fouch': 0, '8th': 2, 'bombard': 4, 'sorbier': 0, 'poniatowski': 0, 'fortification': 8, 'morands': 0, 'vice-kings': 1, 'vice-king': 1, 'gibrards': 0, 'leadership': 3, 'se': 17268, 'ordre': 5, 'mthode': 1, 'retaining': 2, 'allows': 5, 'pointsfour': 1, '102': 2, 'shower': 5, 'tchkov': 0, 'grards': 0, 'morand': 8, 'unforeseen': 1, 'commenced': 5, 'manpeter': 0, 'greatand': 0, 'mannapoleonto': 0, 'convincing': 5, 'waterproof': 1, 'deduction': 9, 'massacre': 3, 'bartholomew': 0, 'ixs': 4, 'deranged': 1, 'highdepends': 1, 'fictitious': 2, 'suppositions': 2, 'dignitywhich': 1, 'napoleondemands': 0, 'acceptance': 1, 'investigation': 3, 'abundantly': 1, 'confirms': 3, 'armyfrench': 0, 'dutchhungry': 0, 'mutilation': 1, 'conquerors': 6, 'assertion': 1, 'well-planned': 1, 'baseless': 1, 'cited': 78, 'pseudo-orders': 1, 'militarist': 1, 'criticizes': 1, 'volumes': 1, 'criticizedcriticized': 1, 'punch': 5, 'strapped': 1, 'dampness': 1, 'rapp': 31, 'courtesan': 1, 'intact': 6, 'lozenge': 2, 'sipped': 1, 'medicinewhat': 1, 'corvisart': 0, 'lozenges': 1, 'unhindered': 2, 'paralyze': 4, 'encumbering': 1, 'remedies': 2, 'watchmaker': 1, 'adjust': 18, 'blindfold': 8, 'definition': 7, 'moisture': 1, 'geniality': 1, 'prevailing': 2, 'reverberate': 5, 'pertinaciously': 1, 'dew-besprinkled': 1, 'streaks': 1, 'golden-tinted': 1, 'yellowish-green': 1, 'undulating': 1, 'silhouetted': 1, 'cornfields': 1, 'interspersed': 1, 'marshy': 1, 'translucent': 3, 'magically': 1, 'riverbanks': 1, 'chests': 1, 'ordnance': 1, 'mist-enveloped': 1, 'puffsuddenly': 0, 'compact': 3, 'violet': 1, 'puffand': 0, 'balloons': 2, 'andpuff': 1, 'pausepuff': 0, 'intervalboomboom': 1, 'cloudlets': 2, 'echoes': 1, 'trakh-ta-ta-takh': 0, 'compare': 26, 'trample': 8, 'prodded': 1, 'phase': 1, 'whys': 0, 'tolerable': 3, 'frightfully': 1, 'bearable': 3, 'athwart': 1, 'baptism': 2, 'redoute': 3, 'fatale': 1, 'centre': 1, 'trenches': 2, 'openings': 2, 'earthwork': 5, 'hauling': 3, 'enveloping': 1, 'nonmilitary': 1, 'long-legged': 1, 'college': 0, 'goats': 2, 'grin': 9, 'spluttering': 1, 'innards': 1, 'fusillade': 1, 'circleseparated': 1, 'elseformed': 1, 'hayfield': 1, 'buzzed': 1, 'bargees': 1, 'humorist': 1, 'foxes': 1, 'gruel': 1, 'crows': 6, 'thundercloud': 1, 'streamlet': 2, 'drum': 29, 'stretcher-bearers': 3, 'scrupulously': 1, 'gasp': 8, 'crumbling': 2, 'concussion': 1, 'tingle': 1, 'charred': 7, 'dangling': 1, 'fragments': 2, 'bayoneted': 1, 'shockfor': 1, 'anotherpierre': 0, 'tighter': 2, 'claimed': 91, 'feat': 82, 'woundedsome': 1, 'unknownrussians': 0, 'aimlessly': 2, 'seething': 3, 'demonstration': 6, 'collision': 7, 'crow': 320, 'blackprobably': 1, 'menand': 2, 'glint': 1, 'circlet': 2, 'themselvesin': 1, 'maddenedeven': 1, 'collided': 2, 'givenalmost': 1, 'borodinthe': 0, 'retaken': 2, 'skirmish': 8, 'recaptured': 2, 'untrustworthy': 1, 'partially': 2, 'infantryall': 1, 'manhis': 1, 'disablement': 1, 'located': 7, 'zone': 1, 'promptings': 1, 'generalsdavout': 0, 'itrepeatedly': 1, 'mobs': 2, 'decreased': 2, 'reinforcements': 7, 'adjutanta': 1, 'ownas': 1, 'chessboard': 1, 'unconnected': 2, 'berthiers': 0, 'lathering': 1, 'gosling': 1, 'clapardes': 0, 'claparde': 0, 'inconvenience': 4, 'friant': 0, 'hinders': 3, 'medicinesa': 1, 'hellish': 1, 'campstool': 3, 'fasted': 1, 'negation': 4, 'jocularity': 1, 'ever-lucky': 1, 'recklessly': 2, 'courte': 19, 'nergique': 1, 'friedlandyet': 0, 'supernaturally': 1, 'impotent': 1, 'unfailingly': 1, 'disorganization': 1, 'eagles': 1, 'lodi': 3, 'marengo': 0, 'wagram': 0, 'shunned': 1, 'eyesonly': 1, 'nowwith': 1, 'balanced': 1, 'centerdestroy': 1, 'grounda': 1, 'nightmare': 2, 'accidents': 2, 'stray': 13, 'ruffian': 2, 'raises': 3, 'limp': 21, 'rag': 238, 'slain': 5, 'area': 5, 'tableaux': 1, 'vivants': 1, 'serried': 2, 'leagues': 3, 'rug-covered': 1, 'dissented': 1, 'elsein': 2, 'departurebefore': 1, 'semnovskhis': 0, 'dukewhom': 1, 'momentto': 1, 'scherbnin': 0, 'scherbnins': 0, 'successa': 1, 'exceeding': 7, 'chewing': 3, 'nonchalantly': 1, 'half-contemptuous': 1, 'nonchalance': 1, 'idol': 1, 'alte': 86, 'dislodge': 1, 'marveling': 1, 'victors': 1, 'judiciously': 1, 'maintains': 1, 'sinew': 7, 'links': 4, 'resemble': 13, 'inspirited': 1, 'oatfield': 2, 'unlifting': 1, 'domain': 12, 'overlay': 1, 'respite': 3, 'loosened': 2, 'gathers': 2, 'buckle': 5, 'bandolier': 2, 'refolded': 1, 'baskets': 1, 'cornfield': 2, 'liveliest': 2, 'occurrences': 5, 'yelped': 1, 'border': 9, 'footprints': 1, 'mowers': 1, 'calculating': 2, 'wormwood': 6, 'ever-recurring': 1, 'tiresomely': 1, 'whizz': 4, 'hita': 1, 'whirring': 2, 'alighting': 2, 'rotating': 1, 'lifei': 1, 'suffocating': 1, 'abdomen': 4, 'welling': 11, 'godvoices': 0, 'fdor': 0, 'tents': 10, 'flaps': 1, 'movable': 2, 'troughs': 1, 'sparrows': 1, 'pecked': 1, 'grains': 1, 'cawing': 2, 'garbs': 1, 'black-haired': 1, 'kicked': 1, 'chucked': 1, 'smear': 9, 'dresser': 7, 'murmurs': 1, 'ooh': 6, 'grunted': 1, 'doctorsone': 1, 'tremblingwere': 1, 'gory': 10, 'undo': 11, 'splintered': 1, 'portions': 3, 'thighbone': 1, 'extracted': 1, 'lifeespecially': 1, 'earliest': 2, 'burying': 2, 'lifereturned': 1, 'piteouslyhe': 1, 'clotted': 1, 'rim': 144, 'compassion': 7, 'understandthat': 1, 'heaviness': 2, 'participant': 2, 'phantasm': 1, 'croaked': 1, 'againas': 1, 'treadmill': 1, 'itselfhe': 1, 'disavow': 1, 'belauded': 1, 'repudiate': 2, 'maimed': 2, 'security': 4, 'pacific': 1, 'conservative': 2, 'well-being': 1, 'prosperity': 2, 'organize': 17, 'tranquility': 2, 'congress': 0, 'navigable': 1, 'seas': 18, 'aggrandizement': 4, 'antinational': 1, 'redressing': 1, 'benefactions': 2, 'saxons': 0, 'bavarians': 0, 'wrttembergers': 0, 'mecklenburgers': 0, 'neapolitans': 0, 'belgians': 0, 'piedmontese': 0, 'genevese': 0, 'tuscans': 0, 'romans': 0, 'thirty-second': 0, 'bremen': 0, 'hamburg': 0, 'numbered': 2, 'klisch': 0, 'stagger': 11, 'postures': 1, 'davdov': 0, 'serfsthose': 1, 'pastured': 1, 'acid': 2, 'saltpeter': 2, 'bethink': 1, 'survived': 1, 'block': 31, 'flagging': 1, 'battleswhen': 1, 'fledexperienced': 1, 'sticks': 2, 'invaders': 3, 'infuriated': 2, 'onslaught': 1, 'perishing': 9, 'swerving': 3, 'invading': 1, 'downfall': 2, 'examines': 4, 'arbitrarily': 5, 'arbitrary': 6, 'discontinuous': 2, 'sophism': 1, 'tortoise': 7, 'progression': 4, 'ratio': 247, 'solutions': 2, 'conforms': 1, 'corrects': 1, 'deals': 1, 'postulates': 1, 'uninterruptedly': 2, 'commanderas': 1, 'equivalent': 2, 'unit': 130, 'exertion': 5, 'deductions': 3, 'observationas': 1, 'observes': 3, 'infinitesimally': 2, 'differential': 1, 'integrating': 1, 'infinitesimals': 2, 'intensive': 1, 'slackens': 1, 'biography': 1, 'refuses': 1, 'fallacious': 1, 'tolerated': 1, 'locomotive': 9, 'valves': 2, 'engine': 5, 'budding': 2, 'winds': 3, 'buds': 3, 'unfold': 9, 'steam': 8, 'millionth': 1, 'propounding': 1, 'neared': 1, 'hunger-stricken': 1, 'momentum': 6, 'consolidated': 1, 'recoils': 1, 'colliding': 1, 'milesto': 1, 'moscowand': 0, 'standstill': 2, 'licks': 1, 'inert': 4, 'dash': 26, 'kalga': 0, 'victoryfor': 1, 'mlo-yaroslvets': 0, 'berzina': 0, 'replenished': 1, 'moscowdespite': 0, 'ranksthe': 1, 'generalsas': 1, 'battlethe': 1, 'fil': 151, 'studies': 1, 'eventthe': 2, 'occurring': 3, 'uninterrupted': 5, 'worries': 1, 'deceptions': 2, 'tactics': 6, 'gallops': 1, 'commissary': 1, 'undermining': 3, 'diametrically': 1, 'respectable': 1, 'reconnaissance': 1, 'misunderstand': 13, 'poklnny': 0, 'dorogomlov': 0, 'crosart': 0, 'saragossa': 0, 'perceptions': 1, 'lower-grade': 1, 'claim': 105, 'resigning': 2, 'honours': 1, 'galled': 1, 'assemble': 28, 'roomier': 1, 'savostynovs': 0, 'malsha': 0, 'six-year-old': 1, 'granddaughter': 1, 'oven': 6, 'granddad': 0, 'pencils': 1, 'gesticulations': 1, 'chubby': 0, 'konovntsyns': 0, 'malshas': 0, 'grunts': 1, 'lurched': 2, 'long-coat': 0, 'sided': 10, 'comment': 5, 'rearranged': 5, 'pauses': 2, 'crockery': 3, 'circumspect': 4, 'projections': 1, 'schneider': 0, 'evacuation': 3, 'instigator': 1, 'predicted': 1, 'organically': 1, 'cowards': 2, 'countries': 2, 'momentous': 2, 'negroes': 0, 'jesters': 1, 'sartov': 0, 'taunted': 1, 'processions': 1, 'augustin': 0, 'thirty-six': 2, 'upbraiding': 2, 'orphanage': 0, 'repudiated': 1, 'aubert-chalm': 0, 'colony': 2, 'klyucharv': 0, 'affairthis': 1, 'astonish': 35, 'puny': 1, 'tide': 1, 'magnate': 10, 'problemhow': 1, 'concealment': 1, 'manselfish': 1, 'monseigneur': 4, 'relates': 2, 'jobert': 0, 'jesuit': 0, 'robe': 5, 'illuminations': 1, 'affords': 2, 'directeur': 1, 'afterward': 37, 'wafted': 1, 'long-frocked': 1, 'absolved': 1, 'pope': 1, 'document': 6, 'dove-like': 1, 'contests': 1, 'hlnehaving': 0, 'converting': 2, 'catholicism': 0, 'indicationsbefore': 0, 'proprieties': 3, 'blackish': 1, 'mastery': 1, 'confessors': 0, 'ignorant': 2, 'sacrilege': 2, 'dual': 60, 'venial': 2, 'twofold': 3, 'firstly': 1, 'espoused': 1, 'columbus': 0, 'egg': 55, 'edifice': 4, 'laboriously': 5, 'refuting': 4, 'ecclesiastical': 2, 'directors': 1, 'secular': 1, 'divorced': 2, 'desecration': 1, 'remarry': 1, 'gruff': 2, 'brothels': 1, 'unvarying': 1, 'hasmen': 1, 'loversonce': 1, 'surnames': 1, 'princehe': 1, 'manand': 1, 'msalliance': 1, 'matresse-femme': 1, 'squarely': 1, 'divorce': 5, 'justifiability': 1, 'consulted': 3, 'remarriage': 2, 'lifetime': 2, 'forbids': 1, 'unanswerable': 2, 'whosoever': 0, 'maman': 0, 'dites': 2, 'btises': 2, 'comprenez': 1, 'jai': 2, 'devoirs': 1, 'dispensations': 1, 'dites-lui': 1, 'veux': 1, 'furieuse': 1, 'parce': 4, 'manqu': 1, 'comtesse': 0, 'pch': 128, 'misricorde': 1, 'sidled': 1, 'husbandwho': 1, 'muchinforming': 1, 'bearer': 9, 'keepingyour': 0, 'greasy': 2, 'viands': 2, 'minimize': 1, 'mash': 13, 'cauldron': 2, 'spoonfuls': 1, 'kirlychisnt': 0, 'pigeons': 1, 'penthouse': 3, 'permeated': 1, 'penthouses': 1, 'shamefully': 2, 'communal': 1, 'rearranging': 1, 'unspoken': 1, 'pump': 2, 'villa': 185, 'vaslchikov': 0, 'officialsthe': 1, 'departmentsknew': 1, 'forty-eight': 0, 'villains': 4, 'three-pronged': 1, 'fork': 4, 'sheaf': 1, 'sty': 157, 'snow-white': 1, 'tradesman': 8, 'vereshchgin': 0, 'prison': 172, 'investigate': 1, 'sixty-three': 1, 'trader': 3, 'dreadfullyand': 1, 'abominably': 1, 'lady-killer': 1, 'cookshop': 2, 'painter': 1, 'prowess': 1, 'messrs': 0, 'custody': 1, 'andas': 2, 'agei': 0, 'adviceor': 1, 'anybodybut': 1, 'clutches': 2, 'tranquillize': 2, 'first-born': 1, 'showwhen': 1, 'itthen': 1, 'sixteen-year-old': 1, 'hermight': 1, 'himselfhe': 1, 'lover-like': 1, 'possessions': 2, 'straightens': 1, 'wonted': 2, 'superficial': 3, 'elicited': 1, 'comments': 4, 'retrieving': 1, 'storing': 4, 'lubricant': 1, 'freelyand': 1, 'escapinggoing': 1, 'topsy-turvy': 2, 'vinegar': 2, 'compress': 15, 'dismantled': 2, 'postilions': 1, 'scullions': 1, 'kuzmnichna': 0, 'mats': 6, 'maamselle': 0, 'reflectionas': 1, 'possiblereplied': 1, 'entrances': 1, 'hoffmans': 0, 'doze': 36, 'hereofficers': 1, 'rightive': 0, 'fatherlandsomething': 1, 'obstinate': 6, 'protector': 2, 'defender': 3, 'myasntski': 0, 'flurrying': 1, 'gobelin': 0, 'tapestries': 1, 'storeroom': 4, 'bitwell': 1, 'ware': 44, 'theseyes': 0, 'saxony': 0, 'repacking': 1, 'repacked': 1, 'ptyawhom': 0, 'packingpress': 1, 'vaslich': 0, 'countermanded': 1, 'expeditiously': 1, 'compactly': 1, 'disconsolately': 1, 'moscowthe': 0, 'commodities': 1, 'factory': 20, 'seminarists': 1, 'cookshops': 1, 'prices': 2, 'carters': 1, 'bronzes': 3, 'dissolution': 5, 'accommodated': 1, 'unloaded': 3, 'timofevna': 0, 'uncorded': 2, 'yardwe': 1, 'precursor': 1, 'detrimental': 1, 'inauguration': 1, 'dolefully': 1, 'ourall': 1, 'lopukhns': 0, 'father-in-laws': 1, 'spruce': 1, 'theywhich': 1, 'twenty-sixththere': 1, 'urge': 24, 'adequately': 2, 'conciliate': 1, 'misses': 1, 'yuspovs': 0, 'chiffonier': 3, 'pulls': 1, 'climbing': 1, 'weakening': 2, 'tempest': 1, 'shamefacedly': 1, 'tag': 120, 'storerooms': 2, 'unloading': 2, 'fasten': 15, 'footboard': 1, 'phaeton': 3, 'wasprince': 0, 'bonnet': 2, 'intuition': 1, 'oratory': 2, 'girdles': 1, 'tightened': 2, 'aggrieved': 1, 'efm': 0, 'falcon': 2, 'champing': 1, 'roadway': 1, 'kdrino': 0, 'prsnya': 0, 'podnovnsk': 0, 'sadvaya': 0, 'skharev': 0, 'alertly': 1, 'disguise': 3, 'queer-looking': 1, 'meshchnski': 0, 'pierreor': 0, 'himin': 4, 'quizzical': 2, 'kindliness': 3, 'commiserating': 1, 'expressionof': 1, 'herfilled': 1, 'enchantment': 1, 'bazdevs': 0, 'hides': 1, 'quickening': 2, 'hired': 2, 'patriarchs': 0, 'balancing': 1, 'bulky': 1, 'ramshackle': 1, 'gersim': 0, 'sophia': 0, 'mastermay': 1, 'hishas': 1, 'half-insane': 1, 'drinker': 1, 'bald-headed': 1, 'galoshes': 2, 'untouched': 1, 'manuscripts': 3, 'holies': 1, 'residence': 3, 'eveningwithout': 1, 'forhe': 1, 'ingratiatingly': 1, 'disinfected': 1, 'alleys': 4, 'fords': 3, 'ample': 41, 'shines': 1, 'spaciously': 1, 'cupolas': 3, 'architecture': 1, 'aux': 9, 'donc': 3, 'enfin': 1, 'fameuse': 1, 'tait': 1, 'long-felt': 1, 'fainthearted': 1, 'clemency': 1, 'domes': 24, 'twinkling': 2, 'monuments': 3, 'despotism': 1, 'inscribe': 2, 'krmlinyes': 0, 'yesi': 0, 'civilization': 9, 'boyars': 6, 'waged': 1, 'utilize': 4, 'quon': 0, 'mamne': 1, 'lunched': 1, 'assemblies': 1, 'burnoose': 1, 'mosque': 2, 'russiansand': 0, 'sentimental': 3, 'dedicated': 1, 'maison': 1, 'emperorwithout': 0, 'ridiculousthat': 1, 'wordle': 1, 'sublimity': 1, 'signaling': 1, 'vying': 4, 'vanishing': 4, 'kmmer-kollzski': 0, 'rampart': 4, 'fiftieth': 1, 'queenless': 3, 'hives': 3, 'smells': 1, 'beekeepers': 1, 'unanimous': 2, 'abdomens': 2, 'aerial': 1, 'spirituous': 1, 'venom': 3, 'whiffs': 1, 'emptiness': 2, 'decay': 4, 'discordant': 3, 'shiftily': 1, 'peers': 1, 'beestamed': 1, 'laborthat': 1, 'clusters': 1, 'bits': 24, 'excrement': 1, 'combs': 7, 'structures': 1, 'prowling': 2, 'creep': 3, 'robbers': 1, 'bumblebees': 1, 'wasps': 1, 'butterflies': 1, 'cells': 3, 'bee': 1524, 'bumblebee': 2, 'smother': 3, 'partitions': 1, 'guarded': 4, 'reek': 5, 'closes': 2, 'chalks': 1, 'observance': 5, 'proprietiesa': 1, 'circumspection': 1, 'informant': 1, 'coup': 41, 'thtre': 1, 'yaza': 0, 'stoppage': 1, 'congestion': 1, 'beatified': 0, 'borovtski': 0, 'cheap': 5, 'sales': 2, 'bazaar': 1, 'affability': 1, 'customers': 1, 'purchasersbut': 1, 'empty-handed': 1, 'drummers': 1, 'muster': 4, 'drums': 10, 'dark-gray': 1, 'ilynka': 0, 'outrageous': 1, 'bolt': 5, 'cordon': 1, 'arcade': 1, 'shopkeeper': 5, 'pimples': 1, 'ostentatiously': 1, 'anythingwe': 1, 'thissheer': 1, 'twaddle': 1, 'stern-looking': 1, 'vituperation': 1, 'dung': 1, 'ignt': 2, 'vaslichs': 0, 'strumming': 1, 'keyboard': 1, 'broadening': 1, 'impudence': 0, 'grinning': 1, 'mug': 1, 'monkey': 4, 'boil': 14, 'flicked': 1, 'nextto': 1, 'countcount': 0, 'well-bred': 3, 'vespertime': 1, 'annoying': 1, 'worn-out': 3, 'rogzhski': 0, 'assignat': 2, 'motherly': 2, 'varvrka': 0, 'dramshop': 2, 'discordantly': 1, 'arduously': 1, 'spree': 4, 'jerkily': 1, 'publican': 16, 'blacksmiths': 1, 'smithy': 1, 'revelry': 1, 'smiths': 2, 'workmen': 5, 'smith': 12, 'deathkilled': 1, 'robbed': 6, 'enoughtaking': 1, 'bleared': 1, 'mates': 5, 'morosyka': 0, 'bootmakers': 3, 'signboard': 4, 'gloomy-faced': 1, 'overalls': 1, 'workingman': 1, 'straggly': 1, 'workman': 6, 'whod': 2, 'china-town': 0, 'ukse': 4, '31': 1, 'sirin': 3, 'victoriously': 1, 'comprehensibleit': 1, 'emanating': 2, 'superintendents': 1, 'superintendent': 12, 'barges': 2, 'sparing': 2, 'excellence': 1, 'departing': 1, 'irrelevant': 1, 'unanimously': 1, 'expedite': 1, 'upand': 1, 'leppichs': 0, 'uprising': 1, 'insurrection': 1, 'bidding': 6, 'disturbance': 1, 'probable': 4, 'munitions': 2, 'sanguine': 2, 'administrators': 1, 'controlled': 9, 'posters': 1, 'relinquishing': 1, 'wholeheartedly': 1, 'adapt': 6, 'national': 19, 'peremptory': 2, 'ruminated': 1, 'defining': 4, 'registrars': 0, 'consistory': 0, 'foundling': 0, 'suffragan': 0, 'lunatics': 4, 'madmen': 1, 'convicts': 5, 'battalionswhich': 1, 'gotfor': 1, 'meshkv': 0, 'untroubled': 1, 'administrator': 5, 'ruler-administrator': 1, 'hook': 57, 'arises': 7, 'blood-stained': 1, 'turbulent': 1, 'excellencyi': 0, 'dregs': 1, 'murmur': 17, 'reproving': 2, 'threadbare': 1, 'fur-lined': 4, 'clumsily': 2, 'chafed': 1, 'unused': 1, 'half-shaven': 2, 'vein': 6, 'hopeful': 1, 'uncomprehended': 2, 'blunt': 7, 'fatal': 9, 'shatters': 1, 'engulfing': 1, 'throttling': 1, 'hatchet': 1, 'whatstill': 0, 'toothey': 1, 'sinning': 2, 'half-severed': 1, 'livid': 1, 'dust-stained': 1, 'trailed': 1, 'terribledisgusting': 1, 'appease': 4, 'bothvereshchgins': 0, 'goodand': 1, 'himselfnot': 1, 'vaslyevich': 0, 'flexible': 2, 'tranquillized': 1, 'hypothetical': 1, 'commits': 4, 'pacify': 4, 'unpunished': 2, 'miscreant': 1, 'foxy': 1, 'calamities': 3, 'doting': 1, 'almshouse': 2, 'agate': 2, 'saffron-yellow': 1, 'thrice': 2, 'stoned': 1, 'crucified': 1, 'fas': 117, 'fainter': 1, 'sand': 243, 'miraculous': 0, 'citadel': 3, 'kremlin': 0, 'barricaded': 1, 'ambuscade': 1, 'kutfyev': 0, 'screens': 4, 'mokhavya': 0, 'tritsa': 0, 'sanguinary': 1, 'ash': 387, 'canister': 1, 'instants': 1, 'stone-built': 1, 'circled': 1, 'znmenka': 0, 'dedicates': 1, 'sabered': 1, 'purged': 1, 'pitching': 1, 'pokrvka': 0, 'niklski': 0, 'famished': 2, 'lodgings': 2, 'nondescript': 1, 'paw': 10, 'jug': 7, 'perishes': 1, 'cellars': 3, 'unlocking': 1, 'kneading': 1, 'baking': 1, 'cooking': 2, 'housesbut': 1, 'disperses': 1, 'uncontrollably': 1, 'pastures': 1, 'soldierslike': 1, 'percolating': 1, 'sandspread': 1, 'stabling': 1, 'chalked': 1, 'coaches': 1, 'regions': 1, 'unexplored': 1, 'riches': 9, 'engulfed': 1, 'patriotisme': 2, 'froce': 2, 'rostopchne': 0, 'barbarity': 2, 'engines': 1, 'meals': 1, 'arson': 2, 'housesin': 1, 'incendiarism': 3, 'ferocity': 2, 'radiating': 1, 'starwise': 1, 'bordering': 2, 'obsessed': 1, 'intricate': 2, 'tangle': 17, 'enmeshed': 1, 'unravel': 2, 'deceaseds': 1, 'insincerity': 1, 'classed': 1, 'projected': 1, 'inaction': 1, 'cabalistic': 2, 'europewhich': 0, 'humanfor': 1, 'lifeall': 1, 'acquire': 14, 'guardif': 1, 'induces': 1, 'affirming': 1, 'nonhuman': 1, 'criterion': 1, 'cigars': 1, 'beddingall': 1, 'goodnessplease': 1, 'steer': 1, 'retirean': 1, 'officera': 3, 'limping': 5, 'compagnie': 1, 'bourgeois': 1, 'quartier': 1, 'logement': 1, 'enfants': 2, 'voyons': 0, 'fchons': 1, 'vieux': 1, 'heredont': 1, 'contorting': 1, 'gersims': 0, 'madmans': 1, 'eyed': 30, 'yell': 41, 'madman': 3, 'brigand': 9, 'imbecile': 2, 'melodramatically': 1, 'lifethe': 1, 'ramballe': 0, 'regimentwas': 0, 'disillusion': 7, 'tut': 80, 'compatriot': 2, 'loftiest': 1, 'appellations': 1, 'parlorthe': 1, 'appellation': 3, 'perceiving': 1, 'obtuseness': 1, 'incognito': 1, 'response': 2, 'ambulance': 5, 'maniacs': 1, 'baptismal': 1, 'omelet': 1, 'repeatingexcellent': 0, 'morel': 0, 'saucepan': 1, 'claret': 2, 'kvass': 2, 'beverage': 1, 'limonade': 2, 'cochon': 2, 'pigs': 1, 'votive': 1, 'maniac': 2, 'smolnskhe': 0, 'cheekand': 1, 'moskowa': 0, 'deluge': 1, 'tough': 1, 'timessure': 1, 'succession': 2, 'apropos': 0, 'paristhe': 0, 'wagered': 1, 'parisian': 0, 'talma': 0, 'duchnois': 0, 'potier': 0, 'sorbonne': 0, 'ladiesi': 0, 'nowthats': 1, 'civilized': 1, 'geniusthats': 1, 'wantedwhen': 1, 'evildoer': 1, 'vengeance': 2, 'repelled': 1, 'unterkunft': 0, 'onterkoff': 0, 'candlelight': 1, 'ancestors': 4, 'lovelove': 1, 'ramballes': 0, 'alluringly': 1, 'lamour': 3, 'clodhoppers': 1, 'simpletons': 1, 'worshiped': 1, 'principally': 1, 'unnaturalness': 1, 'incongruities': 2, 'marquise': 2, 'loverassumed': 1, 'droll': 1, 'sauerkraut': 1, 'parisienne': 1, 'cur': 411, 'assailed': 2, 'pierreas': 0, 'winefollowed': 1, 'tiens': 1, 'platnic': 0, 'concealedhis': 1, 'mansions': 1, 'glowedthe': 1, 'waning': 2, 'mutually': 5, 'languages': 2, 'dizzy': 1, 'mytshchi': 0, 'porches': 1, 'fractured': 1, 'burningset': 1, 'sushchvski': 0, 'terntich': 0, 'chilled': 2, 'stupor': 1, 'unceasing': 6, 'disbelieving': 1, 'tugging': 1, 'replaiting': 1, 'unplaited': 1, 'replaited': 1, 'snore': 2, 'cricket': 3, 'chirped': 2, 'earthen': 2, 'smoldering': 2, 'wick': 16, 'personified': 1, 'mistook': 1, 'mantimkhinwas': 0, 'valetlay': 1, 'chemise': 1, 'turn-down': 3, 'inflammation': 1, 'bowels': 1, 'fairly': 2, 'bolster': 1, 'wry': 14, 'noisome': 1, 'mortifying': 1, 'dressings': 1, 'cockroaches': 3, 'rustled': 1, 'mushroom': 5, 'normal': 8, 'semidarkness': 3, 'enjoin': 4, 'piti-piti-piti': 5, 'titi': 46, 'ti-ti': 3, 'airy': 19, 'structure': 5, 'needles': 8, 'collapse': 6, 'musicit': 1, 'stretches': 3, 'doorthe': 1, 'sphinx': 5, 'swam': 6, 'yeslove': 0, 'iwhile': 0, 'dyingfirst': 1, 'manifestations': 4, 'rejection': 1, 'shirtlike': 1, 'dimness': 1, 'ha-ve': 1, 'do-ne': 1, 'plainit': 1, 'huddled': 5, 'somnambulist': 1, 'journeyas': 1, 'happenshe': 1, 'oneleast': 1, 'andrewspoke': 0, 'reload': 2, 'jagged': 1, 'sheath': 4, 'girdle': 5, 'povarsky': 0, 'timber': 2, 'ablaze': 2, 'lanes': 1, 'caisson': 3, 'extinguish': 4, 'torturedas': 1, 'incompatibility': 2, 'naturesby': 1, 'denserhe': 1, 'footpath': 1, 'gruznskis': 0, 'featherbeds': 1, 'stupefaction': 1, 'pale-colored': 1, 'singed': 1, 'sausage-shaped': 1, 'square-set': 1, 'nikolevna': 0, 'ceasing': 7, 'alongside': 1, 'anska': 0, 'swoon': 2, 'passe': 199, 'niklins': 0, 'missy': 1, 'curve': 6, 'fox-fur': 1, 'ceilings': 1, 'hiss': 11, 'soaring': 1, 'sheaves': 2, 'creeping': 2, 'animating': 1, 'squealing': 1, 'brat': 24, 'bitim': 0, 'gravel': 6, 'graveled': 1, 'three-year-old': 2, 'fatty': 0, 'scrofulous-looking': 1, 'unattractively': 1, 'bite': 7, 'slobbering': 1, 'gruznski': 0, 'pathetically': 5, 'armenian': 0, 'cloth-covered': 1, 'exotic': 1, 'almond-shaped': 1, 'anfrovs': 0, 'nikolevnas': 0, 'ivnovs': 0, 'rope': 161, 'lank': 133, 'armenians': 0, 'marauder': 11, 'hammered': 1, 'salesman': 1, 'prisonertake': 1, 'intoxicated': 3, 'aimless': 6, 'durosnels': 0, 'incendiaries': 3, 'suspects': 2, 'seminary': 1, 'students': 1, 'looters': 2, 'suspicious': 2, 'guardhouse': 3, 'phantoms': 1, 'empresses': 0, 'elisabeth': 0, 'givewith': 1, 'lordship': 0, 'sergius': 0, 'famed': 1, 'elocution': 1, 'singsong': 3, 'alternating': 1, 'ornament': 4, 'angina': 4, 'pectoris': 2, 'esteeming': 1, 'unwary': 1, 'charlatan': 1, 'venomously': 1, 'demolished': 1, 'petropol': 0, 'utterances': 1, 'insufficiently': 2, 'convert': 6, 'declaimed': 1, 'christhe': 0, 'heras': 1, 'mists': 4, 'foreseeing': 2, 'sings': 6, 'exultation': 1, 'hosanna': 0, 'cometh': 1, 'encompass': 1, 'death-bearing': 1, 'terrors': 1, 'sling': 2, 'champion': 3, 'fervent': 1, 'mercifully': 1, 'birthday': 4, 'deposition': 1, 'completeness': 2, 'figured': 7, 'kutysov': 0, 'kutysovs': 0, 'prophets': 1, 'defeating': 1, 'extolling': 1, 'boasted': 1, 'officially': 1, 'drug': 2, 'dose': 3, 'condolence': 1, 'excusable': 1, 'unofficial': 1, 'ashes': 13, 'via': 35, 'yaroslvl': 0, 'adjutant-general': 0, 'quoique': 2, 'tranger': 50, 'dme': 7, 'gracieux': 1, 'souverain': 1, 'flammes': 1, 'clairaient': 1, 'route': 11, 'michauds': 0, 'requires': 1, 'discouragement': 1, 'relevant': 3, 'well-phrased': 1, 'agonized': 1, 'playfulness': 2, 'dynasty': 1, 'exhausting': 1, 'meanest': 1, 'michaudquoique': 0, 'dmeat': 0, 'descriptions': 3, 'transcend': 1, 'foolishlike': 1, 'condemnation': 2, 'plays': 2, 'tries': 7, 'matrshka': 0, 'vivandire': 1, 'racking': 3, 'pleasurewhich': 1, 'warrants': 1, 'itthat': 3, 'warcan': 1, 'whenfree': 0, 'camphe': 1, 'gentlemens': 1, 'grazing': 1, 'posthouses': 1, 'stationmasters': 1, 'full-dress': 2, 'brusquely': 1, 'farms': 1, 'dealer': 5, 'thursdaystoday': 0, 'informally': 1, 'fancier': 1, 'snuggery': 2, 'stallions': 1, 'samples': 1, 'nicholashaving': 0, 'friendliest': 1, 'termsgalloped': 1, 'brightest': 1, 'petrvna': 0, 'valses': 2, 'recklessness': 1, 'poundwho': 1, 'cavalier': 1, 'remount': 6, 'enhanced': 1, 'diffusing': 3, 'fragrance': 4, 'clustered': 1, 'provincethat': 1, 'intoxicatingly': 1, 'privations': 3, 'inns': 1, 'conspiratorial': 1, 'capitally': 3, 'mythological': 1, 'well-fitting': 1, 'coral': 1, 'ivory': 1, 'dianas': 0, 'igntyevna': 0, 'malvntseva': 0, 'oho': 1, 'childless': 1, 'lily': 0, 'nothe': 621, 'unsolicited': 2, 'himas': 2, 'casesthat': 1, 'bolknskayathats': 0, 'circumstancesso': 1, 'papas': 0, 'snyaif': 0, 'matchmaker': 1, 'nephews': 4, 'peacea': 2, 'feelingher': 1, 'reawoke': 1, 'auntthat': 1, 'rostvtheir': 0, 'suppositionthen': 1, 'undeservedly': 1, 'consummate': 1, 'coquette': 1, 'maneuvered': 1, 'strivings': 1, 'self-sacrificeall': 1, 'meetingnicholas': 0, 'subjectthey': 1, 'appropriately': 2, 'bishops': 1, 'basely': 1, 'importantmore': 1, 'honest-hearted': 1, 'onand': 8, 'buying': 3, 'unreasonably': 1, 'dreaminess': 1, 'spirituality': 3, 'abundance': 5, 'reveries': 0, 'hernot': 1, 'inextricable': 1, 'sugarand': 1, 'propertyand': 1, 'obstacle': 5, 'tearfully': 1, 'hysterical': 1, 'bitterness': 2, 'secretive': 1, 'superstitious': 2, 'prohibited': 1, 'affinity': 3, 'intervening': 1, 'hostelry': 1, 'prior': 4, 'dovey': 1, 'saidthat': 2, 'redbut': 1, 'strangeness': 2, 'relentless': 1, 'self-sacrificing': 2, 'deedinterrupted': 1, 'eyesshe': 1, 'beperhaps': 1, 'personand': 1, 'guardboth': 1, 'menhe': 1, 'captors': 2, '17': 8, 'meditative': 3, 'thoughtfulness': 1, 'surprisingly': 1, 'definiteness': 2, 'frailty': 1, 'trials': 1, 'essences': 1, 'judges': 4, 'civility': 1, 'inculpate': 2, 'expedient': 3, 'restoring': 1, 'protecting': 2, 'zbovski': 0, 'himentered': 1, 'squad': 71, 'virgins': 0, 'spaces': 2, 'stoves': 1, 'chimney': 2, 'stacks': 2, 'towers': 1, 'nativity': 0, 'escorting': 1, 'shcherbtovs': 0, 'eckmhl': 0, 'schoolmaster': 1, 'reverberation': 1, 'faltering': 1, 'adducing': 1, 'numbed': 2, 'stupefied': 1, 'lifehim': 1, 'aspirations': 2, 'systema': 1, 'himpierredepriving': 0, 'annihilating': 1, 'dutygermans': 0, 'wishthat': 1, 'well-nourished': 1, 'hurryingnot': 1, 'dumbly': 1, 'impeding': 1, '86th': 1, 'awayalone': 1, 'ever-growing': 1, 'slackened': 2, 'gruffly': 1, 'dazed': 2, 'deadly': 1, 'befouled': 2, 'pardoned': 2, 'battens': 1, 'wrongdoing': 1, 'ladespecially': 1, 'simplicityand': 1, 'murderers': 1, 'disquiet': 5, 'vacantly': 2, 'unwound': 6, 'coiled': 2, 'unwinding': 2, 'deft': 6, 'motions': 8, 'pegs': 2, 'well-rounded': 1, 'friendsuffer': 1, 'unwrapped': 1, 'potato': 12, 'clasp': 14, 'tss': 3, 'tt': 4441, 'platn': 0, 'surname': 2, 'karatev': 0, 'moscowshes': 0, 'maggot': 2, 'gnaws': 1, 'dies': 125, 'housewife': 1, 'counsel': 5, 'well-to-do': 2, 'earning': 14, 'wages': 1, 'whichever': 2, 'grandchildren': 1, 'wellthats': 1, 'dragnet': 1, 'bulges': 1, 'frola': 0, 'lavra': 0, 'loaf': 2, 'cracks': 1, 'foundations': 4, 'platns': 0, 'figurein': 1, 'shoeswas': 1, 'semicircles': 2, 'laughedas': 1, 'didwere': 1, 'suppleness': 1, 'directness': 1, 'appositeness': 1, 'imprisonment': 3, 'sewed': 1, 'planed': 1, 'conversationof': 1, 'fondand': 1, 'stiffness': 2, 'himeverything': 1, 'leavea': 1, 'indecent': 1, 'saws': 1, 'context': 2, 'appositely': 1, 'adorning': 1, 'endearment': 2, 'commonest': 1, 'eventssometimes': 1, 'themassumed': 1, 'karatevs': 0, 'fitness': 1, 'mannot': 1, 'platsha': 0, 'chaffed': 1, 'errands': 1, 'exhales': 1, 'dissuade': 1, 'equipages': 1, 'semiopen': 1, 'roundabout': 1, 'lpetsk': 0, 'shya': 0, 'obtainable': 2, 'daunted': 2, 'integral': 1, 'herconsiderate': 1, 'lovingnot': 1, 'preoccupations': 1, 'therenot': 1, 'eveningagain': 1, 'brnnikovs': 0, 'vlga': 0, 'seven-year-old': 1, 'clattered': 1, 'watera': 1, 'riverand': 1, 'connais': 3, 'depuis': 1, 'longtemps': 1, 'himcan': 1, 'caressed': 4, 'groove': 1, 'snyayou': 0, 'buoyant': 2, 'runningthat': 1, 'roomthat': 1, 'loveboundless': 1, 'penetrated': 4, 'gangrene': 1, 'fester': 4, 'festering': 3, 'squirrel-fur': 1, 'divan': 2, 'translucently': 1, 'correspond': 23, 'dtre': 2, 'venue': 19, 'wince': 8, 'antagonistic': 1, 'elsesomething': 1, 'understandand': 1, 'wholly': 3, 'gosp': 0, 'reap': 18, 'feedeth': 1, 'soall': 1, 'aloofness': 2, 'lightness': 3, 'inexorable': 1, 'lifewas': 1, 'deaththe': 2, 'endbut': 1, 'unfettered': 1, 'lovestands': 1, 'realization': 1, 'ultimately': 1, 'preternaturally': 1, 'screening': 2, 'soulshall': 1, 'mindabout': 1, 'particle': 4, 'one-sidedly': 1, 'brain-spun': 1, 'humandeathwas': 1, 'backto': 1, 'possiblebut': 1, 'superhuman': 2, 'diedand': 1, 'malignant': 2, 'duration': 2, 'himhis': 2, 'outward': 5, 'convulsions': 2, 'reverent': 4, 'multiplicity': 2, 'complexity': 1, 'approximation': 2, 'intelligible': 10, 'positionthe': 2, 'eventwhich': 1, 'itto': 1, 'planets': 4, 'fixity': 2, 'ryazna': 0, 'tartino': 0, 'krsnaya': 0, 'pakhr': 0, 'salutary': 1, 'resultedmoment': 1, 'eventfrom': 1, 'voted': 23, 'lansky': 0, 'stored': 13, 'ok': 3339, 'tla': 4, 'coursea': 1, 'nzhni-nvgorod': 0, 'abundant': 3, 'armywhen': 1, 'receivedassumed': 1, 'assert': 4, 'alonewho': 1, 'attackemployed': 1, 'hunter': 6, 'calamitous': 1, 'overtures': 1, 'koutouzov': 0, 'adjutants-general': 1, 'cursed': 2, 'initiator': 1, 'settlement': 1, 'pillaging': 4, 'armiesboth': 1, 'numberas': 1, 'lauristons': 0, 'scouted': 1, 'guerrilla': 13, 'chime': 12, 'chiming': 1, 'dudgeon': 1, 'bs': 480, 'ds': 2365, 'onas': 11, 'transfers': 3, 'permutations': 1, 'plottings': 1, 'crossings': 1, 'interminglings': 1, 'srpukhov': 0, 'dmtrov': 0, 'rza': 1, 'confronting': 1, 'averting': 1, 'shapovlov': 0, 'scouting': 2, 'precautions': 2, 'kutzovhaving': 0, 'wishcould': 1, 'harmfulgave': 1, 'unguarded': 1, 'rightall': 1, 'writtenthough': 1, 'admirably': 2, 'kkins': 0, 'chkino': 2, 'torban': 1, 'letashvka': 0, 'rec': 1268, 'ekhen': 0, 'brzin': 0, 'reeling': 1, 'positionmade': 1, 'self-justifications': 1, 'miscarried': 1, 'orlv-densov': 0, 'stromlova': 0, 'dmtrovsk': 0, 'volunteered': 1, 'major-general': 0, 'grkov': 0, 'deceptive': 1, 'declivity': 1, 'distrustful': 1, 'hurrah-ah-ah': 0, 'thirty-eight': 1, 'dividednot': 1, 'themselvesand': 1, 'assiduously': 1, 'bagovts': 0, 'bagovt': 0, 'placid': 1, 'temperament': 1, 'cross-purposes': 1, 'rearwhere': 1, 'nobodythere': 1, 'forewarned': 1, 'hint': 21, 'highnessthe': 0, 'awayif': 1, 'orlv-densovs': 0, 'recognitions': 1, 'battletartino': 0, 'austerlitztakes': 0, 'freer': 1, 'coincide': 19, 'meanwhat': 1, 'mechanics': 2, 'diagonal': 1, 'parallelogram': 1, 'viewto': 2, 'desiredto': 1, 'armyit': 1, 'minimum': 4, 'transition': 3, 'administration': 4, 'abounding': 1, 'clothingof': 1, 'armyand': 2, 'methodically': 1, 'geniuses': 2, 'courses': 2, 'wintering': 1, 'northerly': 1, 'southerly': 1, 'sequel': 2, 'falsely': 2, 'astounding': 1, 'egypt': 0, 'egyptwhere': 0, 'grandeurfor': 1, 'estimate': 4, 'sabastiani': 0, 'ykovlev': 0, 'tutlmin': 0, 'municipality': 4, 'disobedience': 2, 'commissaries': 3, 'denominations': 1, 'ignominious': 1, 'safeguarded': 1, 'evil-minded': 1, 'maraude': 12, 'commerce': 4, 'placarded': 1, 'artisans': 6, 'tillers': 1, 'protects': 1, 'abodes': 1, 'craftsmen': 0, 'industrious': 3, 'markets': 1, 'surplus': 1, 'products': 2, 'husbandmen': 1, 'mokhovya': 0, 'seller': 3, 'buyer': 1, 'highroads': 1, 'tuesdays': 0, 'distances': 3, 'trading': 2, 'workingmen': 1, 'philanthropy': 5, 'inscribed': 1, 'combining': 1, 'filial': 1, 'orphans': 1, 'recounts': 1, 'purchase': 9, 'nonperformance': 1, 'planswhich': 1, 'circumstancesdid': 1, 'campaignthat': 1, 'polemic': 1, 'fain': 19, 'octoberthat': 0, 'fortifying': 1, 'basil': 0, 'razed': 2, 'mining': 25, 'moscowas': 0, 'skilland': 1, 'geniusof': 1, 'envoys': 2, 'embassage': 1, 'robberies': 2, 'preserving': 1, 'padlocks': 1, 'mutilated': 1, 'disorders': 1, 'posnykovs': 0, 'valueless': 1, 'ineffectiveness': 1, 'lawful': 2, 'pillagingoctober': 0, 'forceoctober': 0, 'complains': 1, 'nuisances': 1, 'courtyards': 1, 'underfoot': 2, 'provender': 1, 'starvation': 1, 'disintegrated': 1, 'trsor': 1, 'impeded': 1, 'shudders': 1, 'finallylike': 1, 'beastran': 1, 'movementsas': 1, 'figurehead': 1, 'vesselacted': 1, 'blue-gray': 4, 'bandy': 5, 'excursions': 2, 'azor': 0, 'femglka': 0, 'breed': 3, 'furry': 1, 'disdaining': 1, 'bask': 3, 'frolic': 2, 'ankles': 1, 'solidity': 1, 'hereditary': 1, 'infested': 1, 'lice': 57, 'animatedly': 1, 'slackness': 1, 'morningswhat': 1, 'invigorating': 1, 'everythingfar': 1, 'nearlay': 1, 'bricks': 1, 'half-burned': 2, 'housewhich': 2, 'repulsively': 1, 'uglyseemed': 1, 'homely': 1, 'skullcap': 1, 'kiril': 0, 'sokolv': 0, 'permanent': 2, 'chats': 1, 'chatting': 1, 'platoche': 0, 'sew': 23, 'convenience': 5, 'soot': 12, 'rounder': 1, 'flowered': 1, 'sewing': 2, 'louse': 1, 'handiwork': 1, 'assignation': 1, 'translate': 7, 'saddened': 1, 'scraps': 1, 'squeaky': 2, 'privation': 7, 'feats': 5, 'reasoningand': 1, 'quests': 9, 'experiments': 4, 'smirched': 1, 'positive': 8, 'reservation': 5, 'needsgood': 1, 'freedomnow': 1, 'constitute': 22, 'lifenow': 1, 'restrictedseemed': 1, 'superfluity': 2, 'destroys': 2, 'occupationsuch': 1, 'lifeis': 1, 'insolubly': 1, 'daydreams': 2, 'lightpierre': 0, 'hardships': 3, 'alertness': 1, 'inhis': 1, 'simplicityhere': 1, 'responsibilities': 2, 'emaciation': 1, 'dysentery': 1, 'kit': 32, 'semidark': 4, 'menthat': 2, 'exhortations': 1, 'dram-da-da-dam': 0, 'dam-dam': 1, 'mistrustfully': 2, 'conjecturing': 1, 'identification': 2, 'blasius': 0, 'youthe': 1, 'khamvniki': 0, 'unburned': 6, 'heathens': 1, 'palings': 2, 'neskchny': 0, 'beauharnais': 0, 'neys': 3, 'debouching': 1, 'ordnka': 0, 'transmoskv': 0, 'converge': 1, 'crossway': 1, 'furs': 3, 'settings': 1, 'chaises': 1, 'snouton': 1, 'bad-looking': 1, 'wenches': 1, 'carriagessee': 1, 'rouged': 1, 'swaggeringly': 1, 'colic': 1, 'roughness': 2, 'reaction': 8, 'worsening': 1, 'immortal': 3, 'oscillating': 1, 'limitless': 2, 'lured': 3, 'boarded': 1, 'dated': 11, 'drokhovs': 0, 'broussiers': 0, 'formnsk': 0, 'broussier': 0, 'dokhtrovthat': 0, 'showering': 1, 'undiscerningbut': 1, 'russo-french': 0, 'augezd': 0, 'malkhov': 0, 'paroxysm': 1, 'townand': 1, 'undiscerning': 2, 'dokhtrovkutzov': 0, 'prose': 1, 'testimony': 1, 'workings': 1, 'cogwheel': 4, 'revolves': 1, 'aristvo': 0, 'battlesuddenly': 1, 'figner': 0, 'seslvin': 0, 'brovsk': 0, 'directionalong': 1, 'bolkhovtinov': 0, 'raining': 29, 'litashvka': 0, 'pleadingly': 1, 'alexy': 0, 'petrvich': 0, 'wakened': 12, 'shcherbnin': 0, 'shcherbnins': 0, 'tinder': 1, 'dreamy': 1, 'unexpressed': 2, 'proprietys': 1, 'milordoviches': 0, 'frownedpartly': 1, 'rescind': 1, 'premonition': 1, 'daytime': 2, 'aggressive': 1, 'champions': 2, 'ripe': 7, 'unripe': 1, 'barthlemi': 0, 'guerrillas': 3, 'ingenious': 1, 'sectionsagainst': 1, 'medn': 0, 'yukhnv': 0, 'happenedthe': 1, 'stampede': 2, 'ofthe': 1, 'extermination': 1, 'stal': 34, 'paunch': 1, 'scrutinize': 5, 'gaped': 1, 'nearernearer': 1, 'guile': 1, 'kalgaa': 0, 'germs': 1, 'themhow': 1, 'recuperate': 1, 'inhabited': 1, 'consuming': 1, 'chemical': 3, 'armynapoleon': 0, 'fledwithout': 1, 'mouton': 0, 'needful': 1, 'hourra': 1, 'prowl': 3, 'ordersas': 1, 'usto': 80, 'devises': 1, 'eclipses': 1, 'ultimate': 10, 'magnified': 1, 'goaltheir': 1, 'landwas': 1, 'scarce': 47, 'togethertheir': 1, 'atoms': 3, 'availed': 1, 'detach': 59, 'energies': 1, 'disruption': 1, 'decomposition': 2, 'solidified': 1, 'clamored': 1, 'inhumanly': 1, 'slaughtering': 1, 'slandered': 1, 'rending': 3, 'collects': 1, 'subjugates': 1, 'decrease': 7, 'nationeven': 1, 'armya': 3, 'nationshould': 1, 'conquering': 1, 'subjugated': 1, 'expulsion': 1, 'affirm': 8, 'transportthere': 1, 'vlas': 0, 'evacuated': 1, 'rapiers': 1, 'rapier': 6, 'brandish': 3, 'combatant': 3, 'fencer': 1, 'departures': 2, 'rulesas': 1, 'quarte': 147, 'tierce': 1, 'onthe': 9, 'consistently': 4, 'belabored': 1, 'notas': 1, '1813salute': 1, 'yields': 1, 'mountain': 8, 'tribes': 1, 'attacker': 1, 'infringes': 1, 'gros': 16, 'bataillons': 1, 'ont': 1967, 'toujours': 1, 'raison': 1, 'momenta': 12, 'product': 10, 'obscurely': 1, 'factor': 64, 'itnow': 1, 'geometric': 3, 'formation': 37, 'assignment': 1, 'meanings': 1, 'twoor': 1, 'three-line': 1, 'cudgels': 1, 'rifles': 15, 'multiplied': 1, 'factorthe': 1, 'armyis': 1, 'solvable': 1, 'apparentsuch': 1, 'onmistaking': 1, 'equations': 2, 'comparing': 2, 'conquerthat': 1, 'captiveall': 1, '4x': 1, '15y': 1, 'x/y': 1, '15/4': 1, 'equation': 3, 'unknowns': 1, 'periods': 3, 'proves': 5, '1812though': 1, 'themselvescongregated': 1, 'split': 4, 'needing': 1, 'compulsion': 3, 'partisan': 7, 'foragers': 1, 'dens': 37, 'regularizing': 1, 'davdovs': 0, 'progressed': 1, 'irregulars': 2, 'piecemeal': 1, 'treethe': 1, 'sizes': 1, 'sacristan': 1, 'vaslisa': 0, 'slew': 2, 'flamed': 4, 'unsaddling': 1, '22': 4, 'whichas': 1, 'prisonerswas': 1, 'sharpening': 4, 'partiesone': 1, 'germansent': 0, 'gwown': 1, 'heartfelt': 2, 'renowned': 1, 'miklino': 0, 'shmshevo': 0, 'watchmans': 8, 'avalanche': 1, 'rout': 23, 'disparity': 1, 'deter': 36, 'tonguethat': 1, 'straggler': 8, 'shcherbty': 0, 'esaul': 31, 'lovyski': 0, 'kirghz': 0, 'sodden': 4, 'cutup': 1, 'close-clinging': 1, 'strewed': 1, 'leaking': 1, 'hitched': 1, 'rumbled': 7, 'stumps': 1, 'bumped': 1, 'risky': 1, 'presupposable': 1, 'komarv': 0, 'ihe': 0, 'cossackwere': 0, 'befitted': 1, 'officerwithout': 1, 'hinting': 1, 'rehearsing': 1, 'feokltych': 0, 'hehe': 0, 'ptyais': 0, 'ptyaabashed': 0, 'trousersfurtively': 1, 'genewal': 1, 'weturn': 1, 'outturned': 2, 'roots': 1, 'shimmering': 1, 'affright': 1, 'assenting': 1, 'conveying': 1, 'cweep': 1, 'cossackshe': 0, 'villageand': 1, 'impassabletheres': 1, 'swamp': 5, 'undertones': 1, 'marsh': 69, 'wascal': 1, 'plastn': 1, 'pokrvsk': 0, 'gzhat': 0, 'shielding': 1, 'more-orderers': 2, 'flaying': 1, 'captives': 1, 'drudgery': 1, 'musketoon': 2, 'pike': 2, 'carve': 9, 'spoons': 1, 'doneto': 1, 'slink': 1, 'dayeverybody': 1, 'devilhes': 1, 'applications': 1, 'detachmentjokes': 1, 'writhing': 1, 'funniest': 1, 'overnight': 1, 'dwy': 1, 'watchhouse': 4, 'floppy': 1, 'brim': 3, 'melodious': 1, 'ass': 1224, 'likelier': 1, 'wogueits': 1, 'angrilythat': 1, 'bwute': 2, 'scowl': 9, 'esauls': 1, 'disclosing': 1, 'shcherbtythe': 0, 'gap-toothed': 1, 'himpoor': 1, 'stuffonly': 1, 'lashesthatll': 1, 'remonstrated': 1, 'wantthree': 1, 'brace': 59, 'twenty-first': 1, 'explicitly': 1, 'rubbishy': 1, 'chopping': 1, 'tabletop': 1, 'outwell': 1, 'seedless': 1, 'sutler': 7, 'coffeepot': 1, 'flints': 4, 'outthat': 2, 'areand': 2, 'baga': 1, 'pities': 1, 'vincent': 0, 'bosse': 1, 'vesnny': 0, 'vernal': 1, 'vesnya': 0, 'adaptations': 1, 'vesn': 1, 'matched': 1, 'vesnyavesnny': 0, 'voulez-vous': 0, 'manger': 1, 'nayez': 0, 'peur': 2, 'braced': 40, 'wonder-worker': 0, 'padded': 2, 'buttonhole': 1, 'nowwouldnt': 1, 'youngster': 2, 'stainingi': 0, 'bluntlystaining': 1, 'amenities': 1, 'receipts': 1, 'persuasions': 1, 'lanciers': 0, '6-me': 1, 'lancers': 0, '6th': 3, 'dordre': 4, 'ici': 379, 'officier': 1, 'ronde': 1, 'sentinelles': 1, 'demandent': 1, 'ramrod': 5, 'nut': 145, 'long-necked': 1, 'clment': 0, 'restarted': 1, 'shapes': 2, 'shanties': 1, 'karabkh': 0, 'ukranian': 0, 'likhachvisnt': 0, 'sharpen': 6, 'bl': 3617, 'sharpened': 1, 'likhachv': 0, 'rummaged': 1, 'whetstone': 2, 'arentlike': 1, 'blotch': 4, 'cavern': 1, 'vanisheddisappeared': 1, 'dissolved': 2, 'nothingness': 2, 'tops': 4, 'unveiling': 1, 'neighed': 2, 'snored': 1, 'ozheg-zheg': 0, 'hymn': 2, 'melody': 3, 'fuguethough': 1, 'fugue': 2, 'instrumentnow': 1, 'hornplayed': 1, 'ohwhy': 0, 'harmonies': 1, 'surpassing': 1, 'triumphal': 1, 'ozheg-zheg-zheg': 0, 'likhachvs': 0, 'watery': 1, 'untying': 1, 'tightening': 1, 'girths': 3, 'shivers': 1, 'pulsed': 14, 'evwything': 1, 'slack': 11, 'nip': 4, 'haunches': 1, 'sliding': 1, 'pulsation': 1, 'loosening': 1, 'lance': 270, 'gallant-looking': 1, 'pale-greenish': 1, 'thickest': 1, 'plashed': 6, 'unmistakably': 1, 'attitudevery': 1, 'twenty-second': 2, 'hardtack': 1, 'junots': 0, 'alarms': 1, 'reassembled': 1, 'causeless': 1, 'togetherthe': 2, 'trainstill': 1, 'raided': 3, 'froze': 12, 'grievous': 1, 'moroseness': 1, 'locking': 17, 'tunneled': 1, 'gray-blue': 1, 'imprisoned': 2, 'consolatory': 1, 'truththat': 2, 'petal': 1, 'soreshis': 1, 'footgear': 2, 'wifeof': 1, 'scab-covered': 1, 'nourishing': 1, 'transferring': 1, 'valve': 3, 'exceeds': 1, 'imaginings': 1, 'legged': 7, 'carrion': 1, 'animalsfrom': 1, 'horsesin': 1, 'pelt': 0, 'chilly': 2, 'uphead': 1, 'allwith': 1, 'vestment': 3, 'effective': 5, 'prick': 7, 'grumble': 5, 'half-dozen': 1, 'god-fearing': 0, 'companiona': 1, 'sinned': 1, 'vagrant': 2, 'daddyi': 0, 'chastened': 1, 'ache': 393, 'innocently': 3, 'formthe': 1, 'vos': 7, 'whipping': 1, 'smolnska': 0, 'facesone': 1, 'pierrethere': 0, 'howl': 5, 'alivea': 1, 'merges': 3, 'disappears': 1, 'sinks': 1, 'emerges': 2, 'roasting': 2, 'wagging': 2, 'plat': 32, 'fancyof': 1, 'haltand': 1, 'linking': 9, 'summertime': 1, 'bathing': 1, 'switched': 1, 'boded': 1, 'filez': 1, 'essentially': 1, 'seventy-three': 1, 'succeeding': 1, 'vlnaindependently': 0, 'diverge': 1, 'deem': 6, 'disbanded': 1, 'cartridges': 1, 'ineffectives': 1, 'sacked': 1, 'entitled': 2, 'majesties': 0, 'highnesses': 0, 'catcher': 1, 'whereabouts': 1, 'fearlessly': 1, 'clapper': 1, 'tightand': 1, 'exhaustion': 3, 'approximately': 3, 'ascertaining': 1, 'positionby': 1, 'scoutingwas': 1, 'oldthe': 1, 'worstroad': 1, 'krsnoe': 0, 'orsh': 6, 'dnieperwhich': 0, 'dothemselves': 1, 'armyfirst': 1, 'neysran': 0, 'gauntlet': 1, 'busying': 1, 'stealth': 5, 'well-supplied': 1, 'parallel': 4, 'himthis': 1, 'roadis': 2, 'assez': 1, 'neya': 1, 'ofeven': 1, 'elastic': 2, 'threads': 3, 'ratiocination': 1, 'excludes': 1, 'atrocity': 1, 'quun': 2, 'commensurable': 3, 'incommensurable': 2, 'numerically': 2, 'chichagv': 0, 'unfounded': 1, 'withstood': 1, 'borodindefeated': 0, 'capturing': 3, 'marshalsand': 1, 'frustrated': 1, 'baffledthen': 1, 'claims': 2, 'lyrical': 1, 'rhapsodies': 1, 'involves': 1, 'interference': 1, 'dukeswhose': 1, 'maistre': 0, 'becauseas': 1, 'three-mile': 1, 'plansthe': 1, 'tantamount': 1, 'diversions': 1, 'slice': 1, 'armyto': 1, 'scientists': 1, 'settles': 1, 'campaignwhen': 1, 'camping': 1, 'monthit': 1, 'discard': 2, 'imaginations': 1, 'extinction': 1, 'severance': 3, 'heals': 1, 'shrinks': 1, 'overhung': 1, 'vistas': 1, 'outrage': 4, 'infringed': 1, 'sacredness': 1, 'abstention': 1, 'subjectthis': 1, 'mentionbrought': 1, 'arbiter': 2, 'repairs': 1, 'intruder': 1, 'whichwith': 1, 'strengthher': 1, 'negligently': 1, 'goneto': 1, 'improbable': 2, 'desolation': 1, 'indignity': 1, 'twitches': 1, 'onit': 6, 'wellquite': 1, 'relived': 1, 'protracted': 1, 'stupidly': 1, 'ilnich': 0, 'themher': 1, 'snyawere': 0, 'anguish': 1, 'trustful': 5, 'persevering': 1, 'soothed': 1, 'edges': 2, 'lifelovewas': 1, 'blinds': 1, 'tiredtry': 1, 'exclusive': 7, 'passive': 6, 'thinness': 1, 'againthough': 1, 'comingcalled': 1, 'layer': 12, 'slime': 1, 'destructive': 1, 'voluntarily': 78, 'wastage': 1, 'easing': 41, 'diminution': 1, 'delaying': 1, 'zigzag': 1, 'shorten': 2, 'vlnanot': 0, 'intermittently': 1, 'knewnot': 1, 'beingwhat': 1, 'hardship': 4, 'unparalleled': 2, 'dukeit': 1, 'nowwhen': 1, 'senselesswas': 1, 'soldiersill-shod': 1, 'starvedwho': 1, 'dwindled': 1, 'eugne': 0, 'wantedthat': 1, 'reproche': 1, 'styled': 1, 'stark': 1, 'frost-bitten': 2, 'starvingand': 1, 'twenty-six': 13, 'achievementthough': 1, 'accomplishing': 1, 'vanquishing': 1, 'bribed': 2, 'acclaimed': 1, 'dissolute': 1, 'indefinitea': 1, 'blundering': 1, 'bogdnovich': 0, 'grands': 5, 'napoleonthat': 0, 'dignitynapoleon': 0, 'adulation': 2, 'kutzovthe': 0, 'happeningkutzov': 0, 'unswervingly': 1, 'consonant': 2, 'accomplish': 28, 'himwho': 2, 'happeningwhat': 1, 'manwho': 1, 'peopleuse': 1, 'inconsistent': 2, 'verbally': 1, 'aloneincurring': 1, 'displeasuresaid': 1, 'actionswithout': 1, 'deviationwere': 1, 'minimizing': 1, 'procrastinator': 1, 'motto': 1, 'investing': 1, 'unprecedented': 1, 'eventsif': 1, 'individualsfor': 1, 'discern': 14, 'occuring': 1, 'disfavorto': 1, 'herothe': 1, 'eveningafter': 1, 'counterorderswhen': 1, 'dbroe': 0, 'sores': 3, 'bestial': 1, 'fleeting': 1, 'detaching': 1, 'reluctance': 3, 'hur-r-rah': 0, 'theyyou': 1, 'cluster': 3, 'bastards': 1, 'simplehearted': 1, 'expletives': 2, 'long-sustained': 1, 'purple-black': 1, 'placea': 1, 'stacked': 2, 'many-limbed': 1, 'lair': 2, 'axes': 3, 'crashing': 1, 'thatch': 3, 'togethershove': 1, 'oo-oo-oo-oo': 0, 'haulers': 1, 'authoritative': 2, 'foul-mouthed': 1, 'hits': 1, 'moderating': 1, 'interlarding': 1, 'choppers': 1, 'plied': 326, 'accouterments': 1, 'north': 5, 'nightsome': 1, 'repairing': 1, 'stripping': 2, 'incredibly': 1, 'timelacking': 1, 'troopsthey': 0, 'sifted': 1, 'armyphysically': 1, 'mentallyremained': 1, 'blazed': 1, 'jackdaw': 0, 'herethats': 1, 'stamping': 1, 'hiccough': 1, 'spoils': 1, 'sharp-nosed': 1, 'frenchies': 0, 'make-believes': 1, 'jabbered': 2, 'lingo': 1, 'whiteas': 1, 'birchbarkand': 1, 'deadwhere': 1, 'knowwell': 1, 'rotted': 8, 'maggoty': 1, 'kerchiefs': 6, 'gobble': 1, 'poleon': 585, 'himno': 5, 'first-class': 1, 'kiselv': 0, 'flagged': 1, 'shine': 19, 'swaggerer': 1, 'firelight': 1, 'mockingly': 1, 'lout': 1, 'rebukes': 1, 'plaintively': 1, 'wagwhom': 1, 'henri': 0, 'quatre': 1, 'henry': 0, 'rowdy': 1, 'vivarika': 0, 'vif-seruvaru': 0, 'sedyablyaka': 0, 'eut': 32, 'triple': 2, 'boire': 1, 'battre': 1, 'vert': 100, 'galant': 1, 'zaletev': 0, 'ke': 5649, 'ke-e-e-e': 1, 'drawled': 1, 'le-trip-ta-la-de-bu-de-ba': 1, 'de-tra-va-ga-la': 1, 'frenchie': 0, 'undignified': 1, 'disport': 1, 'gladsome': 1, 'mathematical': 4, 'intermediate': 1, 'petersburgfar': 0, 'wara': 1, 'frenchin': 0, 'lostthan': 1, 'fallacy': 1, 'actionthe': 1, 'demandednamely': 1, 'allcarried': 1, 'vis': 456, 'inertipressed': 1, 'ice-covered': 1, 'pursuers': 1, 'necessities': 1, 'prisonerswith': 1, 'doperished': 1, 'frenchand': 0, 'servicecould': 1, 'ships': 8, 'wherein': 2, 'sanction': 1, 'mislead': 3, 'tatterdemalions': 1, 'bootswas': 1, 'admiral': 1, 'maximum': 4, 'spells': 1, 'slowness': 2, 'affairsthis': 1, 'heir-apparent': 1, 'armywho': 1, 'vlnahis': 0, 'seethed': 1, 'cutters-off': 1, 'breakers-up': 1, 'greece': 0, 'dirk': 1, 'dotage': 1, 'incidentally': 1, 'borsov': 0, 'suitecount': 0, 'foam-flecked': 1, 'porters': 1, 'waddled': 1, 'long-standing': 1, 'innermost': 1, 'conforming': 1, 'levying': 1, 'campaignto': 1, 'reconstructed': 1, 'graduallyjust': 1, 'therenow': 1, 'performer': 1, 'motives': 4, 'refixing': 1, 'orl': 189, 'procuring': 1, 'surviving': 1, 'ternty': 0, 'elts': 3, 'freedomthat': 1, 'inalienable': 1, 'moscowfilled': 0, 'findthe': 1, 'lifeno': 4, 'temporarilyhe': 1, 'faithnot': 1, 'ever-living': 1, 'ever-manifest': 1, 'inscrutable': 1, 'senselessness': 1, 'thereforeto': 1, 'contemplationhe': 1, 'ever-changing': 1, 'edifices': 1, 'orlwhere': 0, 'himfelt': 1, 'shrunk': 1, 'combative': 1, 'tooternty': 0, 'vskain': 0, 'professions': 1, 'desert': 27, 'hindrances': 1, 'condemning': 1, 'acknowledgment': 2, 'pecuniary': 1, 'impostors': 1, 'heretofore': 1, 'recourse': 4, 'insurmountably': 1, 'artifice': 1, 'rebuild': 7, 'savlich': 0, 'fourths': 1, 'stagecoach': 1, 'post-house': 1, 'overseers': 1, 'villageshad': 1, 'deplored': 1, 'deadness': 1, 'vitalitythe': 1, 'nothingand': 1, 'larvae': 1, 'jostle': 6, 'delving': 1, 'insects': 1, 'indestructible': 2, 'housesit': 1, 'householders': 1, 'plunderers': 3, 'plundering': 3, 'organizations': 1, 'craftsmanship': 1, 'bazaars': 1, 'warehouses': 1, 'granariesfor': 1, 'stocked': 1, 'goodsand': 1, 'palaces': 1, 'luxuries': 1, 'cathedrals': 1, 'reoccupation': 6, 'self-interesthouse': 1, 'peasantsstreamed': 1, 'discomfiture': 1, 'gangs': 0, 'carpenters': 3, 'repaired': 1, 'booths': 1, 'donors': 1, 'clerks': 1, 'baize-covered': 1, 'pigeonholes': 1, 'faceted': 0, 'estimates': 1, 'annex': 1, 'bubbling': 1, 'reviving': 1, 'himwhether': 1, 'triflingsuch': 1, 'parcel': 3, 'someonehe': 0, 'drubetskys': 0, 'burnedin': 1, 'damage': 7, 'imaginei': 0, 'rusty': 2, 'thinkingespecially': 1, 'clearlyclearer': 1, 'donedid': 1, 'still-deeper': 1, 'still-stronger': 1, 'unrecognizable': 2, 'standpoint': 3, 'maryreluctantly': 0, 'casesbegan': 1, 'goodso': 1, 'hadif': 1, 'anywere': 1, 'controlling': 1, 'anyoneall': 1, 'abstraction': 6, 'resolving': 1, 'abrmovna': 0, 'stepnych': 0, 'egotistic': 1, 'ascribed': 1, 'eligible': 1, 're-experiencing': 1, 'wanderedevidently': 1, 'sightchildren': 1, 'menall': 1, 'iswere': 1, 'illiterate': 1, 'manthat': 1, 'enrich': 2, 'retell': 4, 'contribute': 3, 'workshopbut': 1, 'absorb': 33, 'untold': 1, 'relive': 2, 'livenor': 1, 'freshas': 1, 'savlichs': 0, 'countthe': 1, 'hisand': 1, 'metwhom': 0, 'bribes': 2, 'picturesqueness': 1, 'tumble-down': 1, 'burned-out': 1, 'colosseum': 0, 'cabmen': 1, 'passengers': 1, 'roguish': 1, 'tomorrowbut': 0, 'lengthy': 1, 'self-control': 1, 'interpretations': 1, 'meditations': 1, 'thisand': 1, 'deluding': 1, 'worldseemed': 1, 'onlyhis': 1, 'everybodyboth': 1, 'afterlife': 1, 'insight': 2, 'bathin': 2, 'long-extinguished': 1, 'reawakened': 1, 'nocturnal': 1, 'forgave': 1, 'yetsomeday': 1, 'storm-tossed': 1, 'shores': 1, 'kingdoms': 1, 'displacement': 1, 'rotate': 1, 'treaties': 5, 'photius': 0, 'fichte': 0, 'chateaubriand': 0, 'acquitted': 1, 'culprit': 3, 'literature': 1, 'essayist': 1, 'favoring': 1, 'mysticism': 3, 'disbanding': 1, 'enumerate': 1, 'sourcesthe': 1, 'restoration': 3, '1820': 4, 'pinnacle': 1, 'blinding': 1, 'inseparable': 1, 'characterthough': 1, 'accuse': 16, 'thathad': 0, 'present-day': 1, 'professor': 1, 'lapse': 17, 'praiseworthy': 1, 'displeases': 1, 'universities': 2, 'harmonize': 2, 'contradictions': 7, 'accusers': 1, 'himof': 1, 'formulated': 1, 'governmentan': 1, 'ruled': 6, 'endsthe': 1, 'diffusion': 2, 'elsethen': 1, 'printing': 1, 'utilized': 2, 'scope': 6, 'agencies': 1, 'rams': 9, 'ram': 121, 'herdsman': 2, 'oatsthat': 1, 'sheepish': 1, 'fattened': 2, 'factsthat': 1, 'discarding': 1, 'antecedents': 1, 'customs': 2, 'inadequately': 1, 'emergesby': 1, 'chancesfrom': 1, 'colleagues': 1, 'falsehoods': 1, 'rulers': 17, 'verge': 4, 'armiesjust': 1, 'prestigedo': 1, 'impregnable': 0, 'surrenders': 1, 'fleet': 4, 'elude': 6, 'outrages': 1, 'gloryit': 1, 'grandeurwhich': 1, 'ascribing': 1, 'supernatural': 3, 'significancethat': 1, 'murdering': 1, 'imputed': 1, 'rash': 12, 'ignoble': 1, 'rle': 54, 'alonewith': 1, 'developed': 4, 'self-adulation': 1, 'lyinghe': 1, 'legislature': 1, 'pretends': 1, 'contrives': 2, 'himthereby': 1, 'directs': 3, 'europeexcept': 0, 'happendespite': 1, 'central': 1, 'ten-year': 1, 'insensate': 1, 'utilizes': 1, 'prepares': 1, 'fte': 1190, 'stepsons': 1, 'brothers-in-law': 1, 'pushes': 1, 'eastward': 6, 'goalmoscow': 0, 'occurfrom': 1, 'frostsand': 1, 'countermovement': 4, 'westsimilar': 1, '1809precede': 1, 'coalescence': 1, 'adhesion': 1, 'detest': 7, 'lateran': 1, 'outlawed': 2, 'perceives': 1, 'sail': 11, 'dominion': 1, 'channels': 1, 'abate': 2, 'eddies': 1, 'floods': 1, 'disagreements': 2, 'anticipate': 7, 'beforeparis': 0, 'backwash': 2, 'bidden': 9, 'disrobe': 1, 'drama': 3, 'overshadowing': 1, 'co-operated': 1, 'grievance': 1, 'liberalism': 1, '1815': 1, 'pacifier': 1, 'fatherlandnow': 1, 'peoplesat': 1, 'mendacious': 1, 'poweralexander': 0, 'despises': 1, 'ether': 396, 'stung': 1, 'poet': 25, 'admires': 1, 'sucking': 1, 'chalice': 1, 'pollen': 3, 'perpetuate': 1, 'pistil': 1, 'fertilizes': 1, 'helps': 1, 'processes': 1, 'accessible': 8, 'enterprising': 1, 'infectious': 1, 'propertythat': 1, 'rented': 1, 'lossesnow': 0, 'remorselessly': 1, 'contracting': 1, 'unpaid': 1, 'remainder': 4, 'abhorrence': 1, 'whims': 1, 'irredeemably': 1, 'incurred': 2, 'outhis': 1, 'deathnever': 1, 'uncomplaining': 2, 'civilities': 1, 'ill-humored': 1, 'nowbut': 2, 'fills': 1, 'misplaced': 1, 'exterior': 1, 'eyesand': 1, 'otrdnoethat': 0, 'farmer': 1, 'theoretical': 1, 'treatises': 1, 'nitrogen': 2, 'oxygen': 2, 'manures': 1, 'plows': 1, 'agent': 3, 'effectivethe': 1, 'unerringly': 1, 'bailiff': 2, 'analyzing': 2, 'properties': 1, 'debit': 1, 'divide': 21, 'lazy': 1, 'sown': 2, 'harvested': 1, 'laxity': 1, 'vexations': 1, 'thrifty': 1, 'ermshin': 0, 'thirsty': 5, 'gentian': 1, 'fathomed': 1, 'talkall': 1, 'fairness': 1, 'fruitfulprobably': 1, 'devoutly': 1, 'trifled': 1, 'eitherin': 1, 'dishonesty': 1, 'irregularities': 1, 'sentimentality': 1, 'cameo': 2, 'laocons': 0, 'todayit': 0, 'clench': 7, 'twelvemonth': 1, 'business-like': 1, 'seriousnessleaving': 1, 'readinga': 1, 'treasures': 1, 'commending': 1, 'dealthere': 1, 'lacks': 2, 'sterile': 2, 'knowlike': 1, 'strawberry': 1, 'blossoms': 1, 'rebuilt': 1, 'straitened': 1, 'sofas': 1, 'spacious': 2, 'birthdays': 1, 'breakfasts': 1, 'tunic': 3, 'elections': 1, 'bailiffs': 1, 'granaries': 2, 'farmespecially': 1, 'ill-humor': 2, 'antagonism': 1, 'pregnancies': 2, 'mesdames': 1, 'herdensovs': 0, 'crossness': 1, 'asleephe': 1, 'waked': 3, 'bashfully': 1, 'endears': 1, 'malvnas': 0, 'broader': 1, 'ever-glowing': 1, 'solitudeshe': 1, 'notbut': 1, 'confinements': 1, 'husbandas': 1, 'earnestand': 1, 'advocated': 1, 'marries': 1, 'accomplishments': 1, 'fascinate': 2, 'witchery': 1, 'powerfully': 1, 'seductive': 1, 'attitudes': 1, 'inconveniencing': 1, 'allurements': 1, 'entirelythat': 1, 'elseindefinite': 1, 'fluff': 3, 'adorn': 4, 'agreeableshe': 1, 'knowbut': 1, 'proportions': 1, 'themes': 1, 'beginnings': 1, 'digest': 5, 'resolves': 1, 'familythat': 1, 'relativescountess': 0, 'striding': 1, 'ill-chosen': 1, 'jealousyshe': 1, 'plainwere': 1, 'subjection': 6, 'businessin': 1, 'regulate': 1, 'occupiedthat': 1, 'upbringing': 1, 'essentials': 1, 'injuriousshe': 1, 'divested': 1, 'inextricably': 1, 'overlapping': 1, 'founders': 1, 'expired': 1, 'rubbishthose': 1, 'three-month-old': 1, 'snuffling': 1, 'afraidbut': 1, 'resorted': 1, 'fussed': 1, 'overfed': 1, 'nurseknowing': 1, 'mistressentered': 1, 'tortures': 1, 'torrent': 2, 'vindicating': 1, 'servantsthe': 1, 'lifewere': 1, 'instilled': 1, 'reconsider': 1, 'rememberall': 1, 'outlooks': 2, 'forgetful': 6, 'motherand': 1, 'brother-in-laws': 1, 'untidiness': 1, 'stinginess': 1, 'entailing': 1, 'affairswhich': 1, 'debtshad': 1, 'circumscribed': 1, 'unrolling': 1, 'arshin': 1, 'admiringly': 1, 'adle': 3, 'tempted': 7, 'coil': 6, 'grand-patience': 1, 'aimsonly': 1, 'functions': 2, 'morningespecially': 1, 'beforeshe': 1, 'handiest': 1, 'belvas': 0, 'deafness': 1, 'still-existing': 1, 'thinkingand': 1, 'spitefully': 1, 'vocal': 1, 'memento': 0, 'mori': 30, 'sothough': 1, 'womanyet': 0, 'workmanship': 1, 'bright-blue': 1, 'shepherdesses': 1, 'backfor': 1, 'countessnot': 1, 'inopportune': 1, 'rememberyet': 1, 'alexevna': 0, 'presided': 1, 'garnering': 1, 'malcontent': 1, 'idiocygossner': 0, 'tatwinova': 0, 'antnovnas': 0, 'sailed': 3, 'makrovna': 0, 'andrshas': 0, 'therethose': 1, 'armswell': 1, 'tante': 1, 'snyawho': 0, 'samovarand': 1, 'contemporary': 4, 'germannow': 0, 'kwdener': 0, 'wead': 3, 'eckatshausen': 0, 'bwethwen': 1, 'loosehed': 1, 'schwatz': 0, 'counteract': 1, 'tolerate': 2, 'ni': 4985, 'loi': 17, 'himpeople': 1, 'strangle': 1, 'everythingmagntski': 0, 'tutti': 1, 'quanti': 12, 'harsher': 1, 'drilling': 1, 'settlements': 0, 'overstrained': 1, 'enticed': 1, 'widen': 3, 'discontentedly': 1, 'conservativesa': 1, 'pugachv': 0, 'tugendbund': 0, 'collarwhom': 1, 'forgottengazed': 1, 'pens': 113, 'pwonounce': 1, 'agwee': 1, 'evewything': 1, 'wotten': 1, 'howwible': 1, 'bunt': 2, 'vote': 31, 'resourceful': 1, 'cornered': 3, 'prop': 216, 'allegiance': 2, 'governmentbe': 1, 'mayi': 0, 'hesitate': 11, 'inapt': 1, 'suppressing': 1, 'bestrecollections': 1, 'naughty': 3, 'ticket': 3, 'mtya': 0, 'unhappily': 1, 'develops': 1, 'pedantically': 1, 'untiring': 1, 'disputingpierre': 0, 'iand': 7, 'medensov': 0, 'repeats': 1, 'tempts': 11, 'therewhat': 1, 'corrupted': 1, 'christianityand': 0, 'fondest': 1, 'trance': 37, 'fancyas': 1, 'therewhether': 1, 'elias': 0, 'mitrofnych': 0, 'tambv': 0, 'repurchasing': 1, 'impossiblein': 1, 'surest': 4, 'argumentatively': 1, 'escapefrom': 0, 'consecutive': 3, 'knack': 1, 'mtyas': 0, 'agreeing': 1, 'amusementalmost': 1, 'boughtsismondi': 0, 'rousseau': 4, 'lisa': 3, 'bannerthat': 1, 'seemliness': 1, 'nowyou': 1, 'honeymoons': 1, 'jealo': 27, 'vindictively': 1, 'peaslike': 1, 'milks': 1, 'awaked': 1, 'helmets': 1, 'cobwebs': 1, 'fils': 1, 'virge': 0, 'slacken': 8, 'fatherprince': 0, 'andrewand': 0, 'formless': 1, 'mucius': 0, 'scaevola': 0, 'plutarchs': 0, 'elusivethe': 1, 'deity': 0, 'capacities': 1, 'journalists': 3, 'divinely': 1, 'postulated': 1, 'aimsthe': 1, 'northwesterly': 1, 'portion': 18, 'continent': 1, 'beliefs': 2, 'tending': 44, 'gibbon': 0, 'assumptions': 2, 'includes': 2, 'reformers': 3, 'philosophers': 1, 'poets': 1, '1789': 3, 'ferment': 2, 'spreads': 2, 'collides': 1, 'counter': 44, 'westparisand': 0, 'subsides': 1, 'twenty-year': 2, 'untilled': 1, 'migrated': 1, 'enriched': 1, 'professing': 1, 'mistresses': 3, 'favorites': 1, 'geniusnapoleon': 0, 'everywherethat': 1, 'africans': 0, 'disturber': 1, 'abdicate': 1, 'elba': 0, 'outlaw': 3, 'lingering': 1, 'rock': 17, 'bequeathed': 1, 'ironica': 27, 'caricature': 1, 'compilers': 1, 'questionin': 20, 'incomprehensibleis': 1, 'louis-es': 0, 'self-evident': 1, 'biographical': 1, 'inherent': 3, 'narration': 2, 'nationalities': 1, 'lanfrey': 0, 'trickery': 1, 'specialist': 4, 'resultant': 10, 'subjugation': 1, 'interaction': 3, 'gervinus': 0, 'schlosser': 0, 'analysis': 3, 'component': 6, 'composite': 1, 'components': 4, 'willsuch': 1, 'decomposes': 1, 'restbut': 1, 'interactions': 1, 'resultedthat': 1, 'athe': 825, 'deniedand': 1, 'historiansthe': 1, 'culturefollowing': 1, 'eventsagain': 1, 'culturein': 1, 'progenitors': 1, 'controls': 2, 'filledadmitting': 1, 'ideahistorys': 1, 'unanswered': 1, 'newer': 1, 'forcethe': 1, 'ideais': 1, 'causal': 1, 'nexus': 1, 'contemporaneously': 1, 'handicraft': 1, 'gardening': 1, 'traders': 2, 'agriculturists': 1, 'intrinsic': 1, 'tend': 325, 'approximate': 5, 'doctrines': 1, 'powerand': 1, 'asserts': 1, 'irrefutable': 4, 'refute': 2, 'refutes': 1, 'commensurate': 3, 'incommensurate': 1, 'luthers': 0, 'voltaires': 0, 'compelling': 1, 'professedly': 1, 'humanitys': 4, 'circulationpaper': 1, 'biographies': 2, 'circulate': 4, 'tinge': 11, 'inquires': 1, 'thisthat': 0, 'specific': 2, 'tokens': 1, 'serviceable': 1, 'evade': 2, 'counters': 6, 'currency': 1, 'readers': 1, 'onea': 3, 'domination': 1, 'predominance': 1, 'differ': 241, 'elsewherein': 1, 'wields': 1, 'firenamely': 1, 'powerexisting': 1, 'timeis': 1, 'mutations': 2, 'revolutionsin': 1, 'parttransfer': 1, 'international': 2, 'confederation': 0, 'unconditionally': 2, 'emergence': 1, 'infringement': 2, 'conditionally': 6, 'destructions': 1, 'delegated': 4, 'historiansthose': 1, 'toin': 1, 'violation': 3, 'powermere': 1, 'inconveniencein': 1, 'anotherthat': 1, 'legitimist': 2, 'directory': 0, 'infringers': 1, 'violations': 1, 'delegation': 2, 'programor': 1, 'existsthe': 1, 'tranquilly': 1, 'xivs': 0, 'reacted': 1, 'react': 11, 'xvwhy': 0, 'reactions': 1, 'philippe': 0, 'delegations': 1, 'historycivil': 1, 'conquestsare': 1, 'transferences': 1, 'ill-directed': 1, 'usurpations': 1, 'cotyledons': 1, 'represents': 1, 'impalpable': 1, 'conceivable': 8, 'generalizations': 1, 'postulating': 0, 'generalization': 3, 'enlighteners': 1, 'diderot': 0, 'beaumarchais': 0, 'krbski': 0, 'crusades': 0, 'godfreys': 0, 'vagrants': 1, 'hermit': 0, 'cessation': 1, 'crusadethe': 0, 'jerusalemhad': 0, 'minnesingers': 0, 'reformer': 4, 'luther': 0, 'guillotined': 1, 'newest': 1, 'transference': 6, 'hypothesis': 1, 'unconfirmed': 1, 'occurthat': 1, 'beginsthat': 1, 'verified': 1, 'pasturage': 1, 'vested': 4, 'saythose': 1, 'unconditional': 3, 'observer': 1, 'prefers': 1, 'paraphrasea': 1, 'restatement': 1, 'verifies': 1, 'mexico': 0, 'bismarck': 0, 'willhis': 1, 'wordsare': 1, 'forcea': 2, 'miracleone': 1, 'relationship': 1, 'reinstating': 0, 'refers': 2, 'onmillions': 1, 'expressedthis': 0, 'participated': 1, 'obstacles': 3, 'unexecuted': 4, 'generalized': 2, 'invade': 5, 'invaded': 1, 'indefinitely': 1, 'outnot': 1, 'stencil': 2, 'reinstate': 3, 'servicethe': 1, 'fileof': 1, 'rankcorporals': 1, 'still-higher': 1, 'organization': 4, 'cone': 4, 'diameter': 1, 'apex': 1, 'stabbing': 1, 'objective': 1, 'activityin': 1, 'contiguous': 1, 'sections': 2, 'participate': 3, 'haul': 6, 'primary': 1, 'concourse': 2, 'justifications': 6, 'centralization': 1, 'crimesmake': 1, 'parliaments': 1, 'cuts': 2, 'occursthe': 1, 'anticipating': 1, 'foams': 1, 'occursbe': 1, 'maythen': 1, 'wielder': 1, 'inapplicable': 1, 'infinitythat': 1, 'electricity': 5, 'applies': 1, 'suffice': 3, 'obscurities': 1, 'viewtheological': 1, 'ethical': 1, 'philosophicwe': 1, 'self-cognition': 1, 'willwhich': 1, 'lifeman': 1, 'never-varying': 1, 'limitation': 8, 'self-consciousness': 1, 'submits': 2, 'resists': 1, 'impermeability': 1, 'incontestably': 1, 'repletion': 1, 'uncontrolled': 1, 'thinkers': 2, 'all-good': 1, 'all-seeing': 1, 'theology': 4, 'statistics': 2, 'ethics': 2, 'regardedas': 1, 'popularization': 1, 'knowledgethanks': 1, 'matterhas': 1, 'peoplethat': 1, 'ignoramuseshave': 1, 'naturalists': 2, 'conditioned': 4, 'apes': 20, 'suspecting': 1, 'physiology': 2, 'comparative': 5, 'zoology': 3, 'religions': 1, 'illumination': 2, 'secretions': 1, 'theoriesthat': 1, 'frog': 1, 'rabbit': 1, 'plasterers': 2, 'access': 21, 'woodwork': 1, 'unbuttressed': 1, 'experimental': 2, 'presentation': 7, 'surveys': 1, 'ranging': 21, 'deduce': 8, 'cognizant': 1, 'incursions': 1, 'barbarians': 1, 'varies': 1, 'drowns': 1, 'steals': 1, 'defenseless': 1, 'manseem': 1, 'peaceably': 1, 'harmlessly': 1, 'correspondingly': 1, 'coexisting': 1, 'populated': 1, 'whateverwith': 1, 'breathes': 1, 'himwe': 1, 'diminishes': 2, 'production': 2, 'itgood': 1, 'essentialwould': 1, 'participants': 1, 'austro-prussian': 0, 'questionably': 2, 'chroniclers': 1, 'renovation': 1, 'attilas': 0, 'apprehend': 2, 'causation': 2, 'physiological': 2, 'psychological': 2, 'nonmoral': 1, 'individuality': 1, 'insistent': 2, 'malefactors': 1, 'mitigates': 1, 'gratuitous': 1, 'deserving': 1, 'founder': 2, 'inventor': 1, 'impresses': 1, 'correlation': 1, 'connect': 89, 'dishonest': 3, 'misconduct': 1, 'drunkards': 1, 'relapse': 2, 'simpletonthen': 1, 'prompting': 2, 'foretell': 1, 'irresponsibility': 1, 'extenuating': 1, 'remoteness': 1, 'casehowever': 1, 'becan': 1, 'exempt': 4, 'surrounds': 2, 'obstruction': 1, 'fewest': 1, 'irrevocably': 1, 'abstained': 2, 'futurethat': 1, 'ifimagining': 1, 'unevoked': 1, 'causewe': 1, 'equaled': 1, 'zero': 2, 'uninfluenced': 1, 'influencing': 2, 'finite': 115, 'caseas': 1, 'unborn': 1, 'babe': 1, 'idiotcomplete': 1, 'unconditioned': 2, 'fundamentals': 1, 'constructedthe': 1, 'visibility': 1, 'cognition': 13, 'concepts': 1, 'gravitation': 5, 'newtons': 0, 'economic': 5, 'differs': 3, 'undefinable': 3, 'astronomy': 8, 'botany': 1, 'defines': 1, 'kepler': 0, 'newton': 0, 'negatived': 1, 'enunciation': 1, 'restricted': 2, 'reducing': 1, 'infinitesimal': 6, 'inaccessibility': 1, 'self-destruction': 1, 'dissecting': 2, 'phenomenathe': 1, 'abandons': 1, 'integration': 5, 'quantities': 1, 'enunciated': 1, 'episodes': 1, 'inseparably': 1, 'interconnected': 1, 'copernicus': 0, 'cosmography': 1, 'disproving': 2, 'ptolemaic': 0, 'births': 1, 'migrations': 3, 'geographic': 3, 'ethnographic': 1, 'philology': 1, 'geology': 1, 'violating': 1, 'subverting': 1, 'provokes': 1, 'firmament': 1, 'joshua': 0, 'nun': 8, 'defenders': 2, 'uninvited': 1, 'strengthens': 1, 'immovability': 1, 'personalityfree': 1, 'earths': 1, 'unreal': 1, '*****': 2, '2600-0txt': 0, '2600-0zip': 0, 'files': 3, 'formats': 2, 'http//wwwgutenbergorg/2/6/0/2600/': 0, 'editions': 7, 'one--the': 1, 'renamed': 1, 'creating': 3, 'owns': 41, 'copyright': 13, 'royalties': 2, 'gutenberg-tm': 0, 'electronic': 29, 'trademark': 10, 'registered': 2, 'ebooks': 0, 'derivative': 3, 'modified': 1, 'away--you': 1, 'redistribution': 1, 'http//gutenbergorg/license': 0, 'redistributing': 1, '1a': 0, 'trademark/copyright': 1, 'abide': 1, 'fee': 728, 'refund': 8, 'entity': 5, '1e8': 0, '1b': 0, '1c': 0, '1e': 0, 'literary': 0, 'archive': 0, 'pglaf': 7, 'compilation': 1, 'references': 2, 'compliance': 4, 'format': 43, '1d': 0, 'downloading': 1, 'representations': 1, '1e1': 0, 'prominently': 2, 'accessed': 1, '1e2': 0, 'holder': 5, 'fees': 5, '1e7': 0, '1e9': 0, '1e3': 0, '1e4': 0, 'unlink': 1, '1e5': 0, 'redistribute': 1, '1e6': 0, 'binary': 1, 'nonproprietary': 1, 'proprietary': 2, 'processing': 1, 'hypertext': 1, 'vanilla': 0, 'ascii': 0, 'version': 5, 'web': 4, 'site': 83, 'user': 19, 'exporting': 1, 'specified': 2, 'viewing': 4, '20%': 1, 'profits': 1, 'calculate': 8, 'taxes': 1, 'donate': 4, 'legally': 1, 'periodic': 1, 'tax': 7, 'donations': 12, 'notifies': 1, 'e-mail': 1, 's/he': 1, 'discontinue': 1, '1f3': 0, 'replacement': 3, 'hart': 2, '1f': 0, '1f1': 0, 'volunteers': 5, 'employees': 2, 'expend': 9, 'identify': 1, 'transcribe': 1, 'proofread': 1, 'inaccurate': 1, 'corrupt': 2, 'data': 1, 'transcription': 1, 'disk': 2, 'computer': 4, 'virus': 1, '1f2': 0, 'warranty': 0, 'disclaimer': 3, 'damages': 2, 'disclaim': 4, 'liability': 2, 'costs': 2, 'contract': 2, 'f3': 0, 'distributor': 0, 'indirect': 1, 'consequential': 0, 'punitive': 0, 'incidental': 1, 'elect': 67, 'lieu': 22, 'electronically': 2, '1f4': 0, 'as-is': 0, 'warranties': 1, 'merchantibility': 0, '1f5': 0, 'disclaimers': 1, 'violates': 1, 'unenforceability': 1, 'void': 104, '1f6': 0, 'indemnity': 0, 'indemnify': 1, 'employee': 3, 'harmless': 2, 'indirectly': 1, 'alteration': 2, 'modification': 1, 'deletions': 1, 'synonymous': 1, 'readable': 2, 'widest': 2, 'computers': 2, 'obsolete': 1, 'gutenberg-tms': 0, 'goals': 1, '2001': 1, 'http//wwwpglaforg': 0, '501c3': 0, 'corporation': 1, 'mississippi': 0, 'federal': 2, '64-6221541': 1, 'http//pglaforg/fundraising': 0, 'deductible': 1, '4557': 1, 'melan': 28, 'fairbanks': 0, 'ak': 2528, '99712': 1, 'locations': 2, '809': 17, '1500': 1, 'lake': 3, 'ut': 10941, '84116': 1, '801': 1, '596-1887': 1, 'email': 2, 'business@pglaforg': 0, 'http//pglaforg': 0, 'gregory': 0, 'newby': 1, 'executive': 0, 'gbnewby@pglaforg': 0, 'licensed': 1, 'outdated': 1, '$1': 1, '$5000': 0, 'irs': 873, 'regulating': 1, 'charities': 1, 'paperwork': 1, 'solicitation': 2, 'prohibition': 1, 'donation': 13, 'addresses': 1, 'checks': 1, 'http//pglaforg/donate': 0, 'edition': 22, 'pg': 7, 'http//wwwgutenbergorg': 0, 'newsletter': 1}\n"
     ]
    }
   ],
   "source": []
  },
  {
   "cell_type": "code",
   "execution_count": null,
   "metadata": {},
   "outputs": [],
   "source": []
  }
 ],
 "metadata": {
  "kernelspec": {
   "display_name": "Python 3",
   "language": "python",
   "name": "python3"
  },
  "language_info": {
   "codemirror_mode": {
    "name": "ipython",
    "version": 3
   },
   "file_extension": ".py",
   "mimetype": "text/x-python",
   "name": "python",
   "nbconvert_exporter": "python",
   "pygments_lexer": "ipython3",
   "version": "3.7.6"
  }
 },
 "nbformat": 4,
 "nbformat_minor": 2
}
