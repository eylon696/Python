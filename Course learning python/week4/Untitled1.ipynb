{
 "cells": [
  {
   "cell_type": "code",
   "execution_count": 1,
   "metadata": {},
   "outputs": [
    {
     "name": "stdout",
     "output_type": "stream",
     "text": [
      "  26 -> z\n",
      "  25 -> y\n",
      "  24 -> x\n",
      "  23 -> w\n",
      "  22 -> v\n",
      "  21 -> u\n",
      "  20 -> t\n",
      "  19 -> s\n",
      "  18 -> r\n",
      "  17 -> q\n",
      "  16 -> p\n",
      "  15 -> o\n",
      "  14 -> n\n",
      "  13 -> m\n",
      "  12 -> l\n",
      "  11 -> k\n",
      "  10 -> j\n",
      "   9 -> i\n",
      "   8 -> h\n",
      "   7 -> g\n",
      "   6 -> f\n",
      "   5 -> e\n",
      "   4 -> d\n",
      "   3 -> c\n",
      "   2 -> b\n",
      "   1 -> a\n"
     ]
    }
   ],
   "source": [
    "# Upload 65\n",
    "for num, val in enumerate(range(ord('z'), ord('a') - 1, - 1), 26):\n",
    "    print(f'{52-num:>4} -> {chr(val)}')   "
   ]
  },
  {
   "cell_type": "code",
   "execution_count": null,
   "metadata": {},
   "outputs": [],
   "source": []
  }
 ],
 "metadata": {
  "kernelspec": {
   "display_name": "Python 3",
   "language": "python",
   "name": "python3"
  },
  "language_info": {
   "codemirror_mode": {
    "name": "ipython",
    "version": 3
   },
   "file_extension": ".py",
   "mimetype": "text/x-python",
   "name": "python",
   "nbconvert_exporter": "python",
   "pygments_lexer": "ipython3",
   "version": "3.7.6"
  }
 },
 "nbformat": 4,
 "nbformat_minor": 4
}
