{
 "cells": [
  {
   "cell_type": "markdown",
   "metadata": {},
   "source": [
    "<img src=\"images/logo.jpg\" style=\"display: block; margin-left: auto; margin-right: auto;\" alt=\"לוגו של מיזם לימוד הפייתון. נחש מצויר בצבעי צהוב וכחול, הנע בין האותיות של שם הקורס: לומדים פייתון. הסלוגן המופיע מעל לשם הקורס הוא מיזם חינמי ללימוד תכנות בעברית.\">"
   ]
  },
  {
   "cell_type": "markdown",
   "metadata": {},
   "source": [
    "# <span style=\"text-align: right; direction: rtl; float: right; clear: both;\">תרגילים</span>"
   ]
  },
  {
   "cell_type": "markdown",
   "metadata": {},
   "source": [
    "## <span style=\"text-align: right; direction: rtl; float: right; clear: both;\">הגדרה</span>"
   ]
  },
  {
   "cell_type": "markdown",
   "metadata": {},
   "source": [
    "<p style=\"text-align: right; direction: rtl; float: right; clear: both;\">\n",
    "    פונקציית גיבוב היא פונקציה המקבלת קלט כלשהו ומחזירה ערך באורך קבוע.<br>\n",
    "    קיימות פונקציות גיבוב רבות, ולהן שימושים מגוונים.\n",
    "</p>\n",
    "\n",
    "<p style=\"text-align: right; direction: rtl; float: right; clear: both;\">\n",
    "    נמנה כמה תכונות נפוצות של פונקציות גיבוב:\n",
    "</p>\n",
    "    \n",
    "<ul style=\"text-align: right; direction: rtl; float: right; clear: both;\">\n",
    "   <li>דטרמיניזם – עבור קלט מסוים, הערך המוחזר יהיה תמיד זהה.</li>\n",
    "   <li>אחידות – כיוון שהערך המוחזר הוא בגודל קבוע, יש קלטים שעבורם הערך המוחזר זהה. פונקציית גיבוב טובה תנסה למזער את כמות הערכים המוחזרים הזהים.</li>\n",
    "   <li>חד־כיווניות – עבור ערך מסוים שהפונקציה החזירה, קשה למצוא מה הקלט שיצר אותו.</li>\n",
    "</ul>\n",
    "\n"
   ]
  },
  {
   "cell_type": "markdown",
   "metadata": {},
   "source": [
    "## <span style=\"text-align: right; direction: rtl; float: right; clear: both;\">מימוש בסיסי</span>"
   ]
  },
  {
   "cell_type": "markdown",
   "metadata": {},
   "source": [
    "<p style=\"text-align: right; direction: rtl; float: right; clear: both;\">\n",
    "    בתרגיל זה נממש גרסה פשוטה של פונקציית גיבוב (hash function).<br>\n",
    "    פונקציית הגיבוב שלנו תקבל מחרוזת ותחזיר תמיד פלט באורך זהה.\n",
    "</p>\n",
    "<p style=\"text-align: right; direction: rtl; float: right; clear: both;\">\n",
    "    תחילה נכיר את הפונקציה <code dir=\"ltr\" style=\"direction: ltr\">ord(תו)</code>.<br>\n",
    "    פונקציה זו מקבלת תו, ומחזירה ערך מספרי המייצג אותו:<br>\n",
    "</p>"
   ]
  },
  {
   "cell_type": "code",
   "execution_count": 1,
   "metadata": {},
   "outputs": [
    {
     "data": {
      "text/plain": [
       "97"
      ]
     },
     "execution_count": 1,
     "metadata": {},
     "output_type": "execute_result"
    }
   ],
   "source": [
    "ord('a')"
   ]
  },
  {
   "cell_type": "markdown",
   "metadata": {},
   "source": [
    "<p style=\"text-align: right; direction: rtl; float: right; clear: both;\">\n",
    "פונקציית הגיבוב שלנו תעבוד כך:<br>\n",
    "</p>\n",
    "<ol style=\"text-align: right; direction: rtl; float: right; clear: both;\">\n",
    "    <li>נאתחל משתנה עזר בשם <var>hash</var> כך שערכו יהיה 1.</li>\n",
    "    <li>עבור כל אות במחרוזת:</li>\n",
    "    <ol>\n",
    "        <li>נחשב את <code dir=\"ltr\" style=\"direction: ltr;\">ord(letter)</code> ונכפיל במשתנה העזר <var>hash</var>.</li>\n",
    "        <li>נכפיל את הערך שקיבלנו במיקום של האות הבאה במחרוזת.\n",
    "        <li>לתוצאה הזו נבצע מודולו 397,643, ונשמור על <var>hash</var>.</li>\n",
    "    </ol>\n",
    "    <li>כדי שהפלט תמיד יהיה באורך זהה, נשתמש במודולו 100,297 על התוצאה (חשבו: איך מודולו גורם לזה לקרות?)</li>\n",
    "</ol>\n",
    "<p style=\"text-align: right; direction: rtl; float: right; clear: both;\">\n",
    "פונקציית הגיבוב שיצרנו מחזירה תמיד ערכים באורך קבוע (בין 0 ל־100,297), כפי שפונקציית גיבוב צריכה להחזיר (לאו דווקא באורך זה, אבל הפלט חייב להיות באורך קבוע).\n",
    "</p>"
   ]
  },
  {
   "cell_type": "markdown",
   "metadata": {},
   "source": [
    "<p style=\"text-align: right; direction: rtl; float: right; clear: both;\">\n",
    "    דוגמה:<br>\n",
    "</p>\n",
    "\n",
    "<code style=\"text-align: left; direction: ltr; float: left; clear: both;\">myhash('aba')</code><br>\n",
    "<samp style=\"text-align: left; direction: ltr; float: left; clear: both;\">62242</samp><br>\n",
    "\n",
    "<p style=\"text-align: right; direction: rtl; float: right; clear: both;\">\n",
    "    החישוב התבצע כך:<br>\n",
    "</p>\n",
    "\n",
    "<code style=\"text-align: left; direction: ltr; float: left; clear: both;\">temp_hash = 1</code><br>\n",
    "<code style=\"text-align: left; direction: ltr; float: left; clear: both;\">temp_hash = (temp_hash * ord('a') * 1) % 397643</code>\n",
    "<samp style=\"text-align: left; direction: ltr; float: left; clear: both;\"># temp_hash = (1 * 97 * 1) % 397643 = 97</samp><br>\n",
    "\n",
    "<p style=\"text-align: right; direction: rtl; float: right; clear: both;\">\n",
    "    שימו לב שכאן הכפלנו ב־1, כיוון שמיקום האות הוא 0 ואנו מכפילים\n",
    "    <em>באינדקס האות הבאה.</em>\n",
    "</p>\n",
    "\n",
    "<code style=\"text-align: left; direction: ltr; float: left; clear: both;\">temp_hash = (temp_hash * ord('b') * 2) % 397643</code>\n",
    "<samp style=\"text-align: left; direction: ltr; float: left; clear: both;\"># temp_hash = (97 * 98 * 2) % 397643 = 19012</samp>\n",
    "<code style=\"text-align: left; direction: ltr; float: left; clear: both;\">temp_hash = (temp_hash * ord('a') * 3) % 397643</code>\n",
    "<samp style=\"text-align: left; direction: ltr; float: left; clear: both;\"># temp_hash = (19012 * 97 * 3) % 397643 = 363133</samp>\n",
    "<code style=\"text-align: left; direction: ltr; float: left; clear: both;\">return temp_hash % 100297</code>\n",
    "<samp style=\"text-align: left; direction: ltr; float: left; clear: both;\"># temp_hash = 363133 % 100297 = <b>62242</b></samp>"
   ]
  },
  {
   "cell_type": "markdown",
   "metadata": {},
   "source": [
    "<p style=\"text-align: right; direction: rtl; float: right; clear: both;\">\n",
    "    ממשו את פונקציית הגיבוב.<br>\n",
    "    כדי לבדוק את עצמכם ודאו שקיבלתם את הערכים הבאים עבור המחרוזות הבאות:<br>\n",
    "</p>\n",
    "\n",
    "<ul style=\"text-align: left; direction: ltr; float: left; clear: both;\">\n",
    "    <li>\n",
    "        <code>myhash('python course')</code><br>\n",
    "        <samp>75273</samp>\n",
    "    </li>\n",
    "    <li>\n",
    "        <code>myhash('hashing is sababa')</code><br>\n",
    "        <samp>38166</samp>\n",
    "    </li>\n",
    "    <li>\n",
    "        <code>myhash('i calculate hashes for fun')</code><br>\n",
    "        <samp>68720</samp>\n",
    "    </li>\n",
    "</ul>"
   ]
  },
  {
   "cell_type": "markdown",
   "metadata": {},
   "source": [
    "<p style=\"text-align: right; direction: rtl; float: right; clear: both;\">\n",
    "    שימו לב שזוהי פונקציית גיבוב מומצאת.<br>\n",
    "    לעולם לא נשתמש בפונקציות גיבוב שהמצאנו בסביבות אמיתיות שאנחנו מתכנתים(!), משום שדבר כזה יסכן בוודאות את המשתמשים במערכת.<br>\n",
    "    זה עולם שלם שנחקר רבות, ואנחנו תמיד נשתמש רק בפונקציות גיבוב שנחקרו במוסדות הרלוונטיים ופורסמו מטעמם.\n",
    "</p>"
   ]
  },
  {
   "cell_type": "code",
   "execution_count": 2,
   "metadata": {},
   "outputs": [
    {
     "data": {
      "text/plain": [
       "68720"
      ]
     },
     "execution_count": 2,
     "metadata": {},
     "output_type": "execute_result"
    }
   ],
   "source": [
    "# Upload 49\n",
    "VAR = 397643\n",
    "NUM = 100297\n",
    "\n",
    "\n",
    "def myhash(string_hash):\n",
    "    length_string_hash = len(string_hash)\n",
    "    temp_hash = 1\n",
    "    i = 0\n",
    "    j = 1\n",
    "    while length_string_hash:\n",
    "        temp_hash = (temp_hash * ord(string_hash[i]) * j) % VAR\n",
    "        length_string_hash = length_string_hash - 1\n",
    "        i = i + 1\n",
    "        j = j + 1\n",
    "    return temp_hash % NUM\n",
    "\n",
    "# myhash('aba')\n",
    "# myhash('python course')\n",
    "# myhash('hashing is sababa')\n",
    "# myhash('i calculate hashes for fun')\n",
    "# myhash('ILoveQueen')"
   ]
  },
  {
   "cell_type": "markdown",
   "metadata": {},
   "source": [
    "## <span style=\"text-align: right; direction: rtl; float: right; clear: both;\">איקס־עיגול</span>"
   ]
  },
  {
   "cell_type": "markdown",
   "metadata": {},
   "source": [
    "<p style=\"text-align: right; direction: rtl; float: right; clear: both;\">\n",
    "    נזכיר את החוקים של המשחק המוכר איקס־עיגול:<br>\n",
    "</p>\n",
    "\n",
    "<ul style=\"text-align: right; direction: rtl; float: right; clear: both;\">\n",
    "    <li>המשחק מתרחש על לוח בגודל 3 על 3.</li>\n",
    "    <li>\n",
    "        במשחק משתתפים שני שחקנים: שחקן שמשתמש באות <em>X</em> \n",
    "        ושחקן שמשתמש באות <em>O</em>.\n",
    "    </li>\n",
    "    <li>\n",
    "        השחקן שמשתמש באות <em>O</em> תמיד מתחיל.\n",
    "    </li>\n",
    "    <li>המשחק נמשך כל עוד יש מקום פנוי בלוח, או עד שהוכרז מנצח.</li>\n",
    "    <li>מנצח הוא מי שהציב את האות השייכת לו בכל התאים הנמצאים באלכסון, בשורה או בטור על הלוח.</li>\n",
    "</ul>"
   ]
  },
  {
   "cell_type": "markdown",
   "metadata": {},
   "source": [
    "### <span style=\"text-align: right; direction: rtl; float: right; clear: both;\">מימוש המשחק</p>"
   ]
  },
  {
   "cell_type": "markdown",
   "metadata": {},
   "source": [
    "#### <span style=\"text-align: right; direction: rtl; float: right; clear: both;\">ייצוג הלוח</span>"
   ]
  },
  {
   "cell_type": "markdown",
   "metadata": {},
   "source": [
    "<p style=\"text-align: right; direction: rtl; float: right; clear: both;\">\n",
    "    את הלוח נייצג באמצעות רשימה של רשימות.<br>\n",
    "    כל רשימה תייצג שורה בלוח שלנו: הרשימה במיקום 0 תייצג את השורה הראשונה בלוח, הרשימה בשורה 1 את השורה השנייה וכך הלאה.<br>\n",
    "    הרשימות המייצגות את השורות יהיו רשימות של תווים, כאשר בכל תא יהיה אחד מבין התווים האפשריים – '<i>O</i>', '<i>X</i>' או '<i>-</i>'\n",
    "</p>"
   ]
  },
  {
   "cell_type": "markdown",
   "metadata": {},
   "source": [
    "<p style=\"text-align: right; direction: rtl; float: right; clear: both;\">\n",
    "    לדוגמה, כך נראה לוח ריק:\n",
    "</p>\n",
    "    \n",
    "<samp style=\"float: left; clear: both;\">[['-', '-', '-'], ['-', '-', '-'], ['-', '-', '-']]</samp>\n",
    "    \n",
    "<p style=\"text-align: right; direction: rtl; float: right; clear: both;\">\n",
    "    נוח לדמיין את הרשימה הזו כתובה במאונך:\n",
    "</p>\n",
    "\n",
    "<samp style=\"float: left; clear: both;\">\n",
    "[\n",
    "    ['-', '-', '-'],\n",
    "    ['-', '-', '-'],\n",
    "    ['-', '-', '-']\n",
    "]\n",
    "</samp>\n",
    "    \n",
    "<p style=\"text-align: right; direction: rtl; float: right; clear: both;\">\n",
    "    כעת נראה איך נראה הלוח כאשר יש <samp>'X'</samp>־ים באלכסון:\n",
    "</p>\n",
    "\n",
    "<samp style=\"float: left; clear: both;\">\n",
    "[\n",
    "    ['X', '-', '-'],\n",
    "    ['-', 'X', '-'],\n",
    "    ['-', '-', 'X']\n",
    "]</samp>\n",
    "\n",
    "<p style=\"text-align: right; direction: rtl; float: right; clear: both;\">\n",
    "    וללא ההדפסה לאורך:\n",
    "</p>\n",
    "\n",
    "<samp style=\"float: left; clear: both;\">[['X', '-', '-'], ['-', 'X', '-'], ['-', '-', 'X']]</samp>\n"
   ]
  },
  {
   "cell_type": "markdown",
   "metadata": {},
   "source": [
    "<p style=\"text-align: right; direction: rtl; float: right; clear: both;\">\n",
    "    תחילה נממש פונקציה המקבלת את הלוח ובודקת אם יש מנצח כלשהו \n",
    "    (<em>X</em> או <em>O</em>),\n",
    "    ומחזירה את האות של המנצח\n",
    "    (<samp>'X'</samp> או <samp>'O'</samp>)\n",
    "    אם יש מנצח, או <samp>''</samp> (מחרוזת ריקה) אחרת.\n",
    "</p>\n",
    "<p style=\"text-align: right; direction: rtl; float: right; clear: both;\">\n",
    "חִשבו אילו בדיקות נידרש לבצע כדי למצוא אם יש בלוח מצב של ניצחון. ממשו את הפונקציה <code>check_board(board)</code> כך שתשתמש בכמה שיותר פונקציות עזר.\n",
    "</p>"
   ]
  },
  {
   "cell_type": "code",
   "execution_count": 72,
   "metadata": {},
   "outputs": [
    {
     "name": "stdout",
     "output_type": "stream",
     "text": [
      "kepp play\n"
     ]
    },
    {
     "data": {
      "text/plain": [
       "True"
      ]
     },
     "execution_count": 72,
     "metadata": {},
     "output_type": "execute_result"
    }
   ],
   "source": [
    "def check_board(board):\n",
    "    tie = ''\n",
    "    if is_winner_in_row(board) == 'X':\n",
    "        print('row')\n",
    "        return 'X'\n",
    "    elif is_winner_in_row(board) == 'O':\n",
    "        print('row')\n",
    "        return 'O'\n",
    "    elif is_winner_in_coulmn(board) == 'X':\n",
    "        print('coulmn')\n",
    "        return 'X'\n",
    "    elif is_winner_in_coulmn(board) == 'O':\n",
    "        print('coulmn')\n",
    "        return 'O'    \n",
    "    elif is_winner_in_main_diagonal(board) == 'X':\n",
    "        print('main diagonal')\n",
    "        return 'X'\n",
    "    elif is_winner_in_main_diagonal(board) == 'O':\n",
    "        print('main diagonal')\n",
    "        return 'O'\n",
    "    elif is_winner_in_secondary_diagonal(board) == 'X':\n",
    "        print('secondary diagonal')\n",
    "        return 'X'\n",
    "    elif is_winner_in_secondary_diagonal(board) == 'O':\n",
    "        print('secondary diagonal')\n",
    "        return 'O'  \n",
    "    elif board_not_full_and_not_winner(board):\n",
    "        print('kepp play')\n",
    "        return True\n",
    "    else:\n",
    "        print(\"it's a tie\")\n",
    "        return tie\n",
    "\n",
    "\n",
    "def is_winner_in_row(board):\n",
    "    i = 0\n",
    "    j = 0\n",
    "    counter_x = 0\n",
    "    counter_o = 0\n",
    "    length_board = len(board)\n",
    "    while length_board:\n",
    "        row = board[i]\n",
    "        length_row = len(row)\n",
    "        while length_row:\n",
    "            if 'X' in row[j]:\n",
    "                counter_x = counter_x + 1\n",
    "            elif 'O' in row[j]:\n",
    "                counter_o = counter_o + 1\n",
    "            j = j + 1\n",
    "            length_row = length_row - 1\n",
    "        i = i + 1\n",
    "        j = 0\n",
    "        length_board = length_board - 1\n",
    "        if (counter_x == 3):\n",
    "            return 'X'\n",
    "        elif (counter_o == 3):\n",
    "            return 'O'\n",
    "        else:\n",
    "            counter_x = 0\n",
    "            counter_o = 0\n",
    "    return False\n",
    "\n",
    "\n",
    "def is_winner_in_coulmn(board):\n",
    "    i = 0\n",
    "    j = 0\n",
    "    counter_x = 0\n",
    "    counter_o = 0\n",
    "    length_board = len(board)\n",
    "    while length_board:\n",
    "        temp = len(board)\n",
    "        while temp:\n",
    "            coulmn = board[i][j]\n",
    "            if 'X' == coulmn:\n",
    "                counter_x = counter_x + 1\n",
    "            if 'O' == coulmn:\n",
    "                counter_o = counter_o + 1\n",
    "            i = i + 1\n",
    "            temp = temp - 1\n",
    "        i = 0\n",
    "        j = j + 1\n",
    "        length_board = length_board - 1\n",
    "        if (counter_x == 3):\n",
    "            return 'X'\n",
    "        elif (counter_o == 3):\n",
    "            return 'O'\n",
    "        else:\n",
    "            counter_x = 0\n",
    "            counter_o = 0\n",
    "    return False\n",
    "\n",
    "\n",
    "def is_winner_in_main_diagonal(board):\n",
    "    i = 0\n",
    "    j = 0\n",
    "    counter_x = 0\n",
    "    counter_o = 0\n",
    "    length_board = len(board)\n",
    "    while length_board:\n",
    "        main_diagonal = board[i][j]\n",
    "        if 'X' == main_diagonal:\n",
    "            counter_x = counter_x + 1\n",
    "        if 'O' == main_diagonal:\n",
    "            counter_o = counter_o + 1\n",
    "        i = i + 1\n",
    "        j = j + 1\n",
    "        length_board = length_board - 1\n",
    "        if (counter_x == 3):\n",
    "            return 'X'\n",
    "        elif(counter_o == 3):\n",
    "            return 'O'\n",
    "    return False\n",
    "\n",
    "\n",
    "def is_winner_in_secondary_diagonal(board):\n",
    "    i = 0\n",
    "    j = 2\n",
    "    counter_x = 0\n",
    "    counter_o = 0\n",
    "    length_board = len(board)\n",
    "    while length_board:\n",
    "        secondary_diagonal = board[i][j]\n",
    "        if 'X' == secondary_diagonal:\n",
    "            counter_x = counter_x + 1\n",
    "        if 'O' == secondary_diagonal:\n",
    "            counter_o = counter_o + 1\n",
    "        i = i + 1\n",
    "        j = j - 1\n",
    "        length_board = length_board - 1\n",
    "        if (counter_x == 3):\n",
    "            return 'X'\n",
    "        elif(counter_o == 3):\n",
    "            return 'O'\n",
    "    return False\n",
    "\n",
    "\n",
    "def board_not_full_and_not_winner(board):\n",
    "    length_board = len(board)\n",
    "    i = 0\n",
    "    j = 0\n",
    "    while length_board:\n",
    "        temp = len(board)\n",
    "        while temp:\n",
    "            if board[i][j] == '-':\n",
    "                return True\n",
    "            j = j + 1\n",
    "            temp = temp -1\n",
    "        j = 0\n",
    "        i = i + 1\n",
    "        length_board = length_board - 1\n",
    "    return False\n",
    "\n",
    "\n",
    "check_board([['X', 'O', 'O'],\n",
    "             ['-', '-', 'O'],\n",
    "             ['O', 'X', 'X']])\n"
   ]
  },
  {
   "cell_type": "markdown",
   "metadata": {},
   "source": [
    "<p style=\"text-align: right; direction: rtl; float: right; clear: both;\">\n",
    "     לפני שתמשיכו הלאה, חשוב לוודא שהפונקציה שכתבתם עובדת, לכן נכתוב עבורה סדרה של בדיקות.<br>\n",
    "    כתבו בדיקות עבור המקרים הבאים:\n",
    "</p>\n",
    "\n",
    "<ul style=\"text-align: right; direction: rtl; float: right; clear: both;\">\n",
    "    <li>ניצחון באלכסון הראשי (שמאל למעלה–ימין למטה).</li>\n",
    "    <li>ניצחון באלכסון המשני (ימין למעלה–שמאל למטה).</li>\n",
    "    <li>ניצחון בכל אחד מהטורים.</li>\n",
    "    <li>ניצחון בכל אחת מהשורות.</li>\n",
    "    <li>לוח מלא ללא ניצחון.</li>\n",
    "    <li>לוח לא מלא ללא ניצחון (במקומות לא מסומנים יופיע הסימן <samp>'-'</samp>).</li>\n",
    "</ul>\n",
    "\n",
    "<p style=\"text-align: right; direction: rtl; float: right; clear: both;\">\n",
    "    בסך הכול תצטרכו לכתוב 10 בדיקות. בכל בדיקה הפעילו את הפונקציה שלכם <code>check_board(board)</code> על לוח כפי שמתואר ובדקו אם הפלט שמוחזר תואם לפלט שציפיתם לקבל.\n",
    "</p>\n"
   ]
  },
  {
   "cell_type": "code",
   "execution_count": 73,
   "metadata": {},
   "outputs": [
    {
     "name": "stdout",
     "output_type": "stream",
     "text": [
      "main diagonal\n"
     ]
    },
    {
     "data": {
      "text/plain": [
       "'X'"
      ]
     },
     "execution_count": 73,
     "metadata": {},
     "output_type": "execute_result"
    }
   ],
   "source": [
    "#בדיקה עבור אלכסון ראשי\n",
    "check_board([['X', 'O', 'O'],\n",
    "             ['-', 'X', 'O'],\n",
    "             ['O', 'X', 'X']])\n"
   ]
  },
  {
   "cell_type": "code",
   "execution_count": 74,
   "metadata": {},
   "outputs": [
    {
     "name": "stdout",
     "output_type": "stream",
     "text": [
      "secondary diagonal\n"
     ]
    },
    {
     "data": {
      "text/plain": [
       "'O'"
      ]
     },
     "execution_count": 74,
     "metadata": {},
     "output_type": "execute_result"
    }
   ],
   "source": [
    "\n",
    "# בדיקה עבור אלכסון משני\n",
    "check_board([['X', 'O', 'O'],\n",
    "             ['-', 'O', 'O'],\n",
    "             ['O', 'X', 'X']])"
   ]
  },
  {
   "cell_type": "code",
   "execution_count": 75,
   "metadata": {},
   "outputs": [
    {
     "name": "stdout",
     "output_type": "stream",
     "text": [
      "coulmn\n"
     ]
    },
    {
     "data": {
      "text/plain": [
       "'X'"
      ]
     },
     "execution_count": 75,
     "metadata": {},
     "output_type": "execute_result"
    }
   ],
   "source": [
    "# בדיקה עבור טור שמאלי\n",
    "check_board([['X', 'O', 'O'],\n",
    "             ['X', 'O', 'O'],\n",
    "             ['X', '-', 'X']])"
   ]
  },
  {
   "cell_type": "code",
   "execution_count": 76,
   "metadata": {},
   "outputs": [
    {
     "name": "stdout",
     "output_type": "stream",
     "text": [
      "coulmn\n"
     ]
    },
    {
     "data": {
      "text/plain": [
       "'O'"
      ]
     },
     "execution_count": 76,
     "metadata": {},
     "output_type": "execute_result"
    }
   ],
   "source": [
    "# בדיקה עבור טור אמצעי\n",
    "check_board([['X', 'O', 'O'],\n",
    "             ['X', 'O', 'O'],\n",
    "             ['-', 'O', 'X']])\n"
   ]
  },
  {
   "cell_type": "code",
   "execution_count": 77,
   "metadata": {},
   "outputs": [
    {
     "name": "stdout",
     "output_type": "stream",
     "text": [
      "coulmn\n"
     ]
    },
    {
     "data": {
      "text/plain": [
       "'X'"
      ]
     },
     "execution_count": 77,
     "metadata": {},
     "output_type": "execute_result"
    }
   ],
   "source": [
    "# בדיקה עבור טור ימני\n",
    "check_board([['X', 'O', 'X'],\n",
    "             ['X', '-', 'X'],\n",
    "             ['-', 'O', 'X']])"
   ]
  },
  {
   "cell_type": "code",
   "execution_count": 81,
   "metadata": {},
   "outputs": [
    {
     "name": "stdout",
     "output_type": "stream",
     "text": [
      "row\n"
     ]
    },
    {
     "data": {
      "text/plain": [
       "'X'"
      ]
     },
     "execution_count": 81,
     "metadata": {},
     "output_type": "execute_result"
    }
   ],
   "source": [
    "# בדיקה עבור שורה עליונה\n",
    "check_board([['X', 'X', 'X'],\n",
    "             ['X', '-', 'X'],\n",
    "             ['-', 'O', '-']])"
   ]
  },
  {
   "cell_type": "code",
   "execution_count": 82,
   "metadata": {},
   "outputs": [
    {
     "name": "stdout",
     "output_type": "stream",
     "text": [
      "row\n"
     ]
    },
    {
     "data": {
      "text/plain": [
       "'O'"
      ]
     },
     "execution_count": 82,
     "metadata": {},
     "output_type": "execute_result"
    }
   ],
   "source": [
    "# בדיקה עבור שורה אמצעית\n",
    "check_board([['X', '-', 'X'],\n",
    "             ['O', 'O', 'O'],\n",
    "             ['-', 'O', '-']])"
   ]
  },
  {
   "cell_type": "code",
   "execution_count": 83,
   "metadata": {},
   "outputs": [
    {
     "name": "stdout",
     "output_type": "stream",
     "text": [
      "row\n"
     ]
    },
    {
     "data": {
      "text/plain": [
       "'X'"
      ]
     },
     "execution_count": 83,
     "metadata": {},
     "output_type": "execute_result"
    }
   ],
   "source": [
    "# בדיקה עבור שורה תחתונה\n",
    "check_board([['X', '-', 'X'],\n",
    "             ['O', '-', 'O'],\n",
    "             ['X', 'X', 'X']])"
   ]
  },
  {
   "cell_type": "code",
   "execution_count": 84,
   "metadata": {},
   "outputs": [
    {
     "name": "stdout",
     "output_type": "stream",
     "text": [
      "it's a tie\n"
     ]
    },
    {
     "data": {
      "text/plain": [
       "''"
      ]
     },
     "execution_count": 84,
     "metadata": {},
     "output_type": "execute_result"
    }
   ],
   "source": [
    "# בדיקה עבור לוח מלא ללא ניצחון\n",
    "check_board([['X', 'O', 'O'],\n",
    "             ['O', 'O', 'X'],\n",
    "             ['X', 'X', 'O']])"
   ]
  },
  {
   "cell_type": "code",
   "execution_count": 85,
   "metadata": {},
   "outputs": [
    {
     "name": "stdout",
     "output_type": "stream",
     "text": [
      "kepp play\n"
     ]
    },
    {
     "data": {
      "text/plain": [
       "True"
      ]
     },
     "execution_count": 85,
     "metadata": {},
     "output_type": "execute_result"
    }
   ],
   "source": [
    "# בדיקה עבור לוח לא מלא ללא ניצחון\n",
    "check_board([['X', '-', 'O'],\n",
    "             ['O', '-', 'X'],\n",
    "             ['X', 'X', 'O']])"
   ]
  },
  {
   "cell_type": "markdown",
   "metadata": {},
   "source": [
    "#### <span style=\"text-align: right; direction: rtl; float: right; clear: both;\">פונקציות לבדיקת תקינות קלט</p>"
   ]
  },
  {
   "cell_type": "markdown",
   "metadata": {},
   "source": [
    "<p style=\"text-align: right; direction: rtl; float: right; clear: both;\">\n",
    "    במהלך המשחק אנו נקלוט מהשחקנים במשחק (המשתמשים) את המקומות בלוח, שבהם הם ירצו למקם את האות שלהם.<br>\n",
    "    מקומות אלו יהיו שני מספרים בתחום 0–2 המציינים את השורה והעמודה שבה יש למקם את האות.<br>\n",
    "    לדוגמה, עבור:\n",
    "</p>\n",
    "\n",
    "<samp style=\"float: left; clear: both;\">1 2</samp>\n",
    "\n",
    "<p style=\"text-align: right; direction: rtl; float: right; clear: both;\">\n",
    "    נמקם את האות המתאימה לשחקן, נניח <em>X</em>, בשורה 1 ובעמודה 2, כך:\n",
    "</p>\n",
    "\n",
    "<samp style=\"float: left; clear: both;\">[['-', '-', '-'], ['-', '-', 'X'], ['-', '-', '-']]</samp>\n",
    "\n",
    "<p style=\"text-align: right; direction: rtl; float: right; clear: both;\">\n",
    "    זכרו כי הספירה מתחילה מ־0, ולכן מדובר בשורה האמצעית ובעמודה הימנית.\n",
    "</p>"
   ]
  },
  {
   "cell_type": "markdown",
   "metadata": {},
   "source": [
    "<p style=\"text-align: right; direction: rtl; float: right; clear: both;\">\n",
    "    כעת כתבו פונקציה המקבלת את הלוח ואת האות שמייצגת את השחקן (<em>'X'</em> או <em>'O'</em>). כמו כן, הפונקציה תקלוט מהמשתמש שני מספרים.<br>\n",
    "    הפונקציה תבדוק אם התנאים הבאים מתקיימים, ואם הם מתקיימים היא תמקם את האות הנתונה במיקום המבוקש, ותעדכן את הלוח:<br>\n",
    "</p>\n",
    "\n",
    "<ul style=\"text-align: right; direction: rtl; float: right; clear: both;\">\n",
    "    <li>מספר השורה הוא בין 0 ל־2.</li>\n",
    "    <li>מספר העמודה הוא בין 0 ל־2.</li>\n",
    "    <li>המקום המבוקש לא תפוס על ידי אות כלשהי (כלומר יש בו <samp>'-'</samp>).</li>\n",
    "</ul>\n",
    "\n",
    "<p style=\"text-align: right; direction: rtl; float: right; clear: both;\">\n",
    "    שימו לב, <b>עליכם לחייב את המשתמש להכניס ערכים חוקיים</b>. כלומר, המשחק לא ימשיך עד שיתקבל קלט תקין (חשבו על דרך שבה התוכנית תמשיך לבקש מהמשתמש ערכים עד שיוכנסו ערכים חוקיים).<br>\n",
    "    כאשר נגלה בשלב מוקדם יותר שהלוח לא ניתן יותר למילוי – המשחק יסתיים.\n",
    "</p>\n",
    "\n",
    "<p style=\"text-align: right; direction: rtl; float: right; clear: both;\">\n",
    "    רמז: <span style=\"direction: rtl; background: #000; text: #000\">השתמשו בלולאת while</span>\n",
    "</p>\n"
   ]
  },
  {
   "cell_type": "markdown",
   "metadata": {},
   "source": [
    "<p style=\"text-align: right; direction: rtl; float: right; clear: both;\">\n",
    "לוח לדוגמה:\n",
    "</p>\n",
    "\n",
    "<samp style=\"float: left; clear: both;\">\n",
    "board = [['-', '-', '-'], ['-', 'O', 'X'], ['-', '-', '-']]\n",
    "</samp>\n",
    "\n",
    "<p style=\"text-align: right; direction: rtl; float: right; clear: both;\">\n",
    "    הזנה חוקית:\n",
    "</p>\n",
    "\n",
    "<code style=\"float: left; clear: both;\">make_turn('X', board)</code>\n",
    "\n",
    "<br style=\"clear: both;\">\n",
    "\n",
    "<samp style=\"float: left; clear: both;\">Player 'X' Please choose cell:\n",
    "0 2\n",
    "</samp>\n",
    "<samp style=\"float: left; clear: both;\">[['-', '-', 'X'], ['-', 'O', 'X'], ['-', '-', '-']]</samp>\n",
    "\n",
    "<p style=\"text-align: right; direction: rtl; float: right; clear: both;\">\n",
    "    הזנה לא חוקית:\n",
    "</p>\n",
    "\n",
    "<br style=\"clear: both;\">\n",
    "\n",
    "<samp style=\"float: left; clear: both;\">Player 'X' Please choose cell:\n",
    "5 -2\n",
    "Invalid line chosen (5)\n",
    "Invalid column chosen (-2)\n",
    "[['-', '-', '-'], ['-', 'O', 'X'], ['-', '-', '-']]\n",
    "</samp>\n",
    "\n",
    "<br style=\"clear: both;\">\n",
    "\n",
    "<samp style=\"float: left; clear: both; padding-bottom: 5px;\">Player 'X' Please choose cell:\n",
    "1 2\n",
    "Cell (1,2) is taken, use other.\n",
    "[['-', '-', '-'], ['-', 'O', 'X'], ['-', '-', '-']]\n",
    "</samp>\n",
    "\n",
    "<br style=\"clear: both;\">\n",
    "\n",
    "<samp style=\"float: left; clear: both;\">Player 'X' Please choose cell:\n",
    "2 -2\n",
    "Invalid column chosen (-2)\n",
    "[['-', '-', '-'], ['-', 'O', 'X'], ['-', '-', '-']]\n",
    "</samp>\n",
    "\n",
    "<br style=\"clear: both;\">\n",
    "\n",
    "<samp style=\"float: left; clear: both;\">Player 'X' Please choose cell:\n",
    "1 1\n",
    "Cell (1,1) is taken, use other.\n",
    "[['-', '-', '-'], ['-', 'O', 'X'], ['-', '-', '-']]\n",
    "</samp>\n",
    "\n",
    "<br style=\"clear: both;\">\n",
    "\n",
    "<p style=\"text-align: right; direction: rtl; float: right; clear: both;\">\n",
    "    שימו לב שלאחר כל פעולה אנו מדפיסים את הלוח, בין אם הצליחה ובין אם לאו.\n",
    "</p>"
   ]
  },
  {
   "cell_type": "code",
   "execution_count": 18,
   "metadata": {},
   "outputs": [
    {
     "name": "stdout",
     "output_type": "stream",
     "text": [
      "Player X Please choose cell\n",
      "0\n",
      "2\n",
      "[\n",
      "    ['-', '-', 'X'],\n",
      "    ['-', 'O', 'X'],\n",
      "    ['-', '-', '-']\n",
      "]\n"
     ]
    }
   ],
   "source": [
    "# make_turn(player_char,board) כתבו את הפונקציה שלכם כאן\n",
    "def print_board(board):\n",
    "    i = 0\n",
    "    length_board = len(board)\n",
    "    print(\"[\")\n",
    "    while length_board:\n",
    "        if i == 2:\n",
    "            print('    ' + str(board[i]))\n",
    "        else:\n",
    "            print('    ' + str(board[i]) + ',')\n",
    "        i = i + 1\n",
    "        length_board = length_board - 1\n",
    "    print(\"]\")\n",
    "\n",
    "\n",
    "def make_turn(player_char, board):\n",
    "    flag = True\n",
    "    while flag:\n",
    "        print(\"Player \" + player_char + \" Please choose cell\")\n",
    "        row = int(input())\n",
    "        column = int(input())\n",
    "        if (row > 2) or (row < 0):\n",
    "            print(\"Invalid line chosen \" + \"(\" + str(row) + \")\")\n",
    "            if (column > 2) or (column < 0):\n",
    "                print(\"Invalid column chosen \" + \"(\" + str(column) + \")\")\n",
    "        elif (column > 2) or (column < 0):\n",
    "            print(\"Invalid column chosen \" + \"(\" + str(column) + \")\")\n",
    "        elif (board[row][column] == 'X') or (board[row][column] == 'O'):\n",
    "            print(\"Cell \" + \"(\" + str(row) + \",\" + str(column) + \") is taken, use other.\")\n",
    "        elif board[row][column] == '-':\n",
    "            board[row][column] = player_char\n",
    "            flag = False\n",
    "        print_board(board)\n",
    "\n",
    "\n",
    "board = [['-', '-', '-'], ['-', 'O', 'X'], ['-', '-', '-']]\n",
    "make_turn('X', board)       \n"
   ]
  },
  {
   "cell_type": "markdown",
   "metadata": {},
   "source": [
    "<p style=\"text-align: right; direction: rtl; float: right; clear: both;\">\n",
    "    <b>בונוס</b>: ממשו פונקציה שמדפיסה את הלוח לאורך.\n",
    "</p>\n",
    "\n",
    "<code style=\"float: left; clear: both;\">print_board(board)</code>\n",
    "\n",
    "<br>\n",
    "\n",
    "<samp style=\"float: left; clear: both;\">\n",
    "[\n",
    "    ['-', '-', '-'],\n",
    "    ['-', '-', '-'],\n",
    "    ['-', '-', '-']\n",
    "]\n",
    "</samp>"
   ]
  },
  {
   "cell_type": "markdown",
   "metadata": {},
   "source": [
    "#### <span style=\"text-align: right; direction: rtl; float: right; clear: both;\">מימוש המשחק</span>"
   ]
  },
  {
   "cell_type": "markdown",
   "metadata": {},
   "source": [
    "<p style=\"text-align: right; direction: rtl; float: right; clear: both;\">\n",
    "    כאמור המשחק ממשיך כל עוד אין מנצח ונותר מקום פנוי בלוח.<br>\n",
    "    נשים לב כי מספר המהלכים החוקיים יכול להיות לכל היותר כגודל הלוח.<br>\n",
    "    כלומר – אם לא הוכרז מנצח במהלך המשחק, המשחק ייגמר לאחר 9 מהלכים עבור לוח בגודל $3\\times3$.<br>\n",
    "    נספור כמה מהלכים חוקיים יש במשחק. עבור מספרי מהלך זוגיים (0, 2, 4, ...) ישחק השחקן <em>O</em>, ועבור מספרי מהלך אי־זוגיים ישחק השחקן <em>X</em>.<br>\n",
    "    נתאר את מהלך המשחק בפסאודו־קוד:<br>\n",
    "</p>\n",
    "<ol style=\"text-align: right; direction: rtl; float: right; clear: both;\">\n",
    "    <li>אתחל את מונה המהלכים ל־0.</li>\n",
    "    <li>כל עוד אין מנצח וגם הלוח לא מלא:\n",
    "        <ul>\n",
    "            <li>אם מספר המהלך זוגי – בצע מהלך שחקן <em>O</em>.</li>\n",
    "            <li>אם מספר המהלך אי־זוגי – בצע מהלך שחקן <em>X</em>.</li>\n",
    "        </ul>\n",
    "    </li>\n",
    "    <li>הגדל את מונה המהלכים ב־1. </li>\n",
    "    <li>אם יש ניצחון – הכרז על המנצח, אחרת הכרז תיקו.</li>\n",
    "</ol>\n",
    "<p style=\"text-align: right; direction: rtl; float: right; clear: both;\">\n",
    "    ממשו את המשחק על פי הפונקציות שיצרתם ועל פי תיאור מהלך המשחק.\n",
    "</p>"
   ]
  },
  {
   "cell_type": "code",
   "execution_count": 1,
   "metadata": {},
   "outputs": [
    {
     "name": "stdout",
     "output_type": "stream",
     "text": [
      "Player O Please choose cell\n",
      "1\n",
      "1\n",
      "[\n",
      "    ['-', '-', '-'],\n",
      "    ['-', 'O', '-'],\n",
      "    ['-', '-', '-']\n",
      "]\n",
      "Player X Please choose cell\n",
      "2\n",
      "2\n",
      "[\n",
      "    ['-', '-', '-'],\n",
      "    ['-', 'O', '-'],\n",
      "    ['-', '-', 'X']\n",
      "]\n",
      "Player O Please choose cell\n",
      "0\n",
      "0\n",
      "[\n",
      "    ['O', '-', '-'],\n",
      "    ['-', 'O', '-'],\n",
      "    ['-', '-', 'X']\n",
      "]\n",
      "Player X Please choose cell\n",
      "0\n",
      "2\n",
      "[\n",
      "    ['O', '-', 'X'],\n",
      "    ['-', 'O', '-'],\n",
      "    ['-', '-', 'X']\n",
      "]\n",
      "Player O Please choose cell\n",
      "1\n",
      "2\n",
      "[\n",
      "    ['O', '-', 'X'],\n",
      "    ['-', 'O', 'O'],\n",
      "    ['-', '-', 'X']\n",
      "]\n",
      "Player X Please choose cell\n",
      "2\n",
      "0\n",
      "[\n",
      "    ['O', '-', 'X'],\n",
      "    ['-', 'O', 'O'],\n",
      "    ['X', '-', 'X']\n",
      "]\n",
      "Player O Please choose cell\n",
      "1\n",
      "0\n",
      "[\n",
      "    ['O', '-', 'X'],\n",
      "    ['O', 'O', 'O'],\n",
      "    ['X', '-', 'X']\n",
      "]\n",
      "The winner is O\n"
     ]
    }
   ],
   "source": [
    "# Upload 50\n",
    "# tic_tac_toe()\n",
    "def check_board(board):\n",
    "    tie = ''\n",
    "    if is_winner_in_row(board) == 'X':\n",
    "        return 'X'\n",
    "    elif is_winner_in_row(board) == 'O':\n",
    "        return 'O'\n",
    "    elif is_winner_in_coulmn(board) == 'X':\n",
    "        return 'X'\n",
    "    elif is_winner_in_coulmn(board) == 'O':\n",
    "        return 'O'\n",
    "    elif is_winner_in_main_diagonal(board) == 'X':\n",
    "        return 'X'\n",
    "    elif is_winner_in_main_diagonal(board) == 'O':\n",
    "        return 'O'\n",
    "    elif is_winner_in_secondary_diagonal(board) == 'X':\n",
    "        return 'X'\n",
    "    elif is_winner_in_secondary_diagonal(board) == 'O':\n",
    "        return 'O'\n",
    "    elif board_not_full_and_not_winner(board):\n",
    "        return True\n",
    "    else:\n",
    "        return tie\n",
    "\n",
    "\n",
    "def is_winner_in_row(board):\n",
    "    i = 0\n",
    "    j = 0\n",
    "    counter_x = 0\n",
    "    counter_o = 0\n",
    "    length_board = len(board)\n",
    "    while length_board:\n",
    "        row = board[i]\n",
    "        length_row = len(row)\n",
    "        while length_row:\n",
    "            if 'X' in row[j]:\n",
    "                counter_x = counter_x + 1\n",
    "            elif 'O' in row[j]:\n",
    "                counter_o = counter_o + 1\n",
    "            j = j + 1\n",
    "            length_row = length_row - 1\n",
    "        i = i + 1\n",
    "        j = 0\n",
    "        length_board = length_board - 1\n",
    "        if (counter_x == 3):\n",
    "            return 'X'\n",
    "        elif (counter_o == 3):\n",
    "            return 'O'\n",
    "        else:\n",
    "            counter_x = 0\n",
    "            counter_o = 0\n",
    "    return False\n",
    "\n",
    "\n",
    "def is_winner_in_coulmn(board):\n",
    "    i = 0\n",
    "    j = 0\n",
    "    counter_x = 0\n",
    "    counter_o = 0\n",
    "    length_board = len(board)\n",
    "    while length_board:\n",
    "        temp = len(board)\n",
    "        while temp:\n",
    "            coulmn = board[i][j]\n",
    "            if 'X' == coulmn:\n",
    "                counter_x = counter_x + 1\n",
    "            if 'O' == coulmn:\n",
    "                counter_o = counter_o + 1\n",
    "            i = i + 1\n",
    "            temp = temp - 1\n",
    "        i = 0\n",
    "        j = j + 1\n",
    "        length_board = length_board - 1\n",
    "        if (counter_x == 3):\n",
    "            return 'X'\n",
    "        elif (counter_o == 3):\n",
    "            return 'O'\n",
    "        else:\n",
    "            counter_x = 0\n",
    "            counter_o = 0\n",
    "    return False\n",
    "\n",
    "\n",
    "def is_winner_in_main_diagonal(board):\n",
    "    i = 0\n",
    "    j = 0\n",
    "    counter_x = 0\n",
    "    counter_o = 0\n",
    "    length_board = len(board)\n",
    "    while length_board:\n",
    "        main_diagonal = board[i][j]\n",
    "        if 'X' == main_diagonal:\n",
    "            counter_x = counter_x + 1\n",
    "        if 'O' == main_diagonal:\n",
    "            counter_o = counter_o + 1\n",
    "        i = i + 1\n",
    "        j = j + 1\n",
    "        length_board = length_board - 1\n",
    "        if (counter_x == 3):\n",
    "            return 'X'\n",
    "        elif(counter_o == 3):\n",
    "            return 'O'\n",
    "    return False\n",
    "\n",
    "\n",
    "def is_winner_in_secondary_diagonal(board):\n",
    "    i = 0\n",
    "    j = 2\n",
    "    counter_x = 0\n",
    "    counter_o = 0\n",
    "    length_board = len(board)\n",
    "    while length_board:\n",
    "        secondary_diagonal = board[i][j]\n",
    "        if 'X' == secondary_diagonal:\n",
    "            counter_x = counter_x + 1\n",
    "        if 'O' == secondary_diagonal:\n",
    "            counter_o = counter_o + 1\n",
    "        i = i + 1\n",
    "        j = j - 1\n",
    "        length_board = length_board - 1\n",
    "        if (counter_x == 3):\n",
    "            return 'X'\n",
    "        elif(counter_o == 3):\n",
    "            return 'O'\n",
    "    return False\n",
    "\n",
    "\n",
    "def board_not_full_and_not_winner(board):\n",
    "    length_board = len(board)\n",
    "    i = 0\n",
    "    j = 0\n",
    "    while length_board:\n",
    "        temp = len(board)\n",
    "        while temp:\n",
    "            if board[i][j] == '-':\n",
    "                return True\n",
    "            j = j + 1\n",
    "            temp = temp - 1\n",
    "        j = 0\n",
    "        i = i + 1\n",
    "        length_board = length_board - 1\n",
    "    return False\n",
    "\n",
    "\n",
    "def board_full_and_not_winner(board):\n",
    "    length_board = len(board)\n",
    "    i = 0\n",
    "    j = 0\n",
    "    while length_board:\n",
    "        temp = len(board)\n",
    "        while temp:\n",
    "            if board[i][j] == '-':\n",
    "                return False\n",
    "            j = j + 1\n",
    "            temp = temp - 1\n",
    "        j = 0\n",
    "        i = i + 1\n",
    "        length_board = length_board - 1\n",
    "    return True\n",
    "\n",
    "\n",
    "def print_board(board):\n",
    "    i = 0\n",
    "    length_board = len(board)\n",
    "    print(\"[\")\n",
    "    while length_board:\n",
    "        if i == 2:\n",
    "            print('    ' + str(board[i]))\n",
    "        else:\n",
    "            print('    ' + str(board[i]) + ',')\n",
    "        i = i + 1\n",
    "        length_board = length_board - 1\n",
    "    print(\"]\")\n",
    "\n",
    "\n",
    "def make_turn(player_char, board):\n",
    "    flag = True\n",
    "    while flag:\n",
    "        print(\"Player \" + player_char + \" Please choose cell\")\n",
    "        row = int(input())\n",
    "        column = int(input())\n",
    "        if (row > 2) or (row < 0):\n",
    "            print(\"Invalid line chosen \" + \"(\" + str(row) + \")\")\n",
    "            if (column > 2) or (column < 0):\n",
    "                print(\"Invalid column chosen \" + \"(\" + str(column) + \")\")\n",
    "        elif (column > 2) or (column < 0):\n",
    "            print(\"Invalid column chosen \" + \"(\" + str(column) + \")\")\n",
    "        elif (board[row][column] == 'X') or (board[row][column] == 'O'):\n",
    "            print(\"Cell \" + \"(\" + str(row) + \",\" + str(column) + \") is taken, use other.\")\n",
    "        elif board[row][column] == '-':\n",
    "            board[row][column] = player_char\n",
    "            flag = False\n",
    "        print_board(board)\n",
    "\n",
    "\n",
    "def tic_tac_toe(board):\n",
    "    counter_moves = 0\n",
    "    while (check_board(board)) != 'X'and (check_board(board)) != 'O' and (counter_moves != 9):\n",
    "        if counter_moves % 2 == 0:\n",
    "            make_turn('O', board)\n",
    "        else:\n",
    "            make_turn('X', board)\n",
    "        if check_board(board) == 'X':\n",
    "            print(\"The winner is X\")\n",
    "        elif check_board(board) == 'O':\n",
    "            print(\"The winner is O\")\n",
    "        counter_moves = counter_moves + 1\n",
    "    if board_full_and_not_winner(board):\n",
    "        print(\"It's a tie\")\n",
    "\n",
    "\n",
    "tic_tac_toe([['-', '-', '-'], ['-', '-', '-'], ['-', '-', '-']])"
   ]
  },
  {
   "cell_type": "markdown",
   "metadata": {},
   "source": [
    "<p style=\"text-align: right; direction: rtl; float: right; clear: both;\">\n",
    "    כעת שחקו עם בני משפחה וחברים ;)\n",
    "</p>"
   ]
  },
  {
   "cell_type": "markdown",
   "metadata": {},
   "source": [
    "## <span style=\"text-align: right; direction: rtl; float: right; clear: both;\">בנק 2.0</span>"
   ]
  },
  {
   "cell_type": "markdown",
   "metadata": {},
   "source": [
    "<p style=\"text-align: right; direction: rtl; float: right; clear: both;\">\n",
    "    מנהלי הבנק היו מרוצים מאוד מהתוכנה הקודמת לניהול בנק שכתבתם וכעת הם מעוניינים לשפר אותה.<br>\n",
    "    תחילה הם הביעו דאגה מחוזק הסיסמאות. מנגנון הסיסמאות הקודם היה חלש ומנהלי הבנק מפחדים שייעשה בו שימוש לרעה.<br>\n",
    "    שמועות מתפשטות מהר מאוד ומנהלי הבנק שמעו שמימשתם גרסה לפונקציית גיבוב. הם מעוניינים להשתמש בה במנגנון הסיסמאות החדש.\n",
    "</p>\n",
    "\n",
    "<p style=\"text-align: right; direction: rtl; float: right; clear: both;\">\n",
    "    מנגנון הסיסמאות ינוהל כך:\n",
    "</p>\n",
    "\n",
    "<ol style=\"text-align: right; direction: rtl; float: right; clear: both;\">\n",
    "    <li>הבנק ינהל קובץ סיסמאות שייקרא bank_passwd.txt.</li>\n",
    "    <li>כאשר משתמש יפתח חשבון בנק, הוא יכניס את הסיסמה שהוא מעוניין שתשמש אותו בהתחברות הבאה.</li>\n",
    "    <li>נחשב את ה־hash של הסיסמה הזו באמצעות פונקציית ה־hash שכתבנו בתחילת מחברת זו.</li>\n",
    "    <li>הבנק ישמור את שם המשתמש ותוצאת ה־hash בקובץ הסיסמאות בצורה קבועה מראש.</li>\n",
    "</ol>\n",
    "\n",
    "<p style=\"text-align: right; direction: rtl; float: right; clear: both;\">\n",
    "    כל סיסמה של משתמש תישמר בקובץ בצורה: <samp>username:62242</samp>,<br>\n",
    "    כאשר <samp>username</samp> הוא שם המשתמש שנרשם בפתיחת החשבון, ו־<samp>62242</samp> הוא תוצאת ה־hash עבור הסיסמה שבחר.\n",
    "</p>"
   ]
  },
  {
   "cell_type": "markdown",
   "metadata": {},
   "source": [
    "### <span style=\"text-align: right; direction: rtl; float: right; clear: both;\">פתיחת חשבון בנק</span>"
   ]
  },
  {
   "cell_type": "markdown",
   "metadata": {},
   "source": [
    "<p style=\"text-align:right;direction:rtl;\">בסעיף זה נממש את פונקציית פתיחת חשבון הבנק.<br>\n",
    "    הפונקציה תקבל שם משתמש וסיסמה, ותיצור רשומה חדשה בקובץ הסיסמאות עבור המשתמש שביקש להצטרף לבנק.<br>\n",
    "    כיוון שהבנק שלנו לא עבר לעבוד עם מספרי חשבון, עלינו לוודא ששם המשתמש שנבחר לא קיים כבר בבנק. אם קיים כזה, נדפיס שגיאה ולא נבצע דבר.<br>\n",
    "    אם לא קיים שם משתמש כזה, נחשב את ה־hash של הסיסמה שהזין, ונוסיף לסוף הקובץ רשומה חדשה בייצוג שצוין בתחילת השאלה.\n",
    "</p>"
   ]
  },
  {
   "cell_type": "markdown",
   "metadata": {},
   "source": [
    "#### <span style=\"text-align: right; direction: rtl; float: right; clear: both;\">דוגמאות</span>"
   ]
  },
  {
   "cell_type": "markdown",
   "metadata": {},
   "source": [
    "<p style=\"text-align: right; direction: rtl; float: right; clear: both;\">\n",
    "תוכן קובץ הסיסמאות (לצורך הדוגמה):\n",
    "</p>\n",
    "\n",
    "<samp>FreddieMercury:56443</samp><br>\n",
    "<samp>BBKing:33471</samp><br>\n",
    "<samp>DonaldDuck:17743</samp><br><br>\n",
    "<code>register_to_bank('FreddieMercury', 'ILoveQueen')</code><br>\n",
    "<samp>An account with name \"FreddieMercury\" already exists.<br>Account was not created.</samp><br><br>\n",
    "<code>register_to_bank('Simba', 'ILoveNala')</code><br>\n",
    "<samp>Account with name \"Simba\" was created and added to the bank.</samp><br><br>\n",
    "\n",
    "<p style=\"text-align: right; direction: rtl; float: right; clear: both;\">\n",
    "    תוכן קובץ הסיסמאות כעת:\n",
    "</p>\n",
    "\n",
    "<samp>FreddieMercury:56443</samp><br>\n",
    "<samp>BBKing:19463</samp><br>\n",
    "<samp>DonaldDuck:17743</samp><br>\n",
    "<samp>Simba:6362</samp><br>"
   ]
  },
  {
   "cell_type": "markdown",
   "metadata": {},
   "source": [
    "#### <span style=\"text-align: right; direction: rtl; float: right; clear: both;\">תרגיל</span>"
   ]
  },
  {
   "cell_type": "markdown",
   "metadata": {},
   "source": [
    "<p style=\"text-align: right; direction: rtl; float: right; clear: both;\">ממשו את פונקציית הרישום.</p>\n",
    "<p style=\"text-align: right; direction: rtl; float: right; clear: both;\">רמזים:</p>\n",
    "\n",
    "<ul style=\"text-align: right; direction: rtl; float: right; clear: both;\">\n",
    "    <li style=\"direction: rtl; background: #000; text: #000\">קראו את המידע מהקובץ לתוך רשימה, זכרו שכל שורה היא מחרוזת וניתן להפעיל עליה פעולות של מחרוזות כדי לחלץ את שם המשתמש.</li>\n",
    "    <li style=\"direction: rtl; background: #000; text: #000\">כאשר פותחים קובץ במצב הוספה, ניתן להוסיף אליו נתונים מבלי למחוק את הקיימים. קראו על פונקציית open וחפשו כיצד עושים זאת.</li>\n",
    "</ul>"
   ]
  },
  {
   "cell_type": "code",
   "execution_count": 7,
   "metadata": {},
   "outputs": [
    {
     "name": "stdout",
     "output_type": "stream",
     "text": [
      "Account with name Simba was created and added to the bank.\n"
     ]
    }
   ],
   "source": [
    "VAR = 397643\n",
    "NUM = 100297\n",
    "def myhash(string_hash):\n",
    "    length_string_hash = len(string_hash)\n",
    "    temp_hash = 1\n",
    "    i = 0\n",
    "    j = 1\n",
    "    while length_string_hash:\n",
    "        temp_hash = (temp_hash * ord(string_hash[i]) * j) % VAR\n",
    "        length_string_hash = length_string_hash - 1\n",
    "        i = i + 1\n",
    "        j = j + 1\n",
    "    return temp_hash % NUM\n",
    "\n",
    "\n",
    "# ממשו את פונקציית הרישום כאן register_to_bank(username,password)\n",
    "def register_to_bank(username, password):\n",
    "    flag = 1\n",
    "    bank_passwd_file = open('resources/bank_passwd.txt', 'r')\n",
    "    bank_passwd_file_one = open('resources/bank_passwd.txt', 'a+')\n",
    "    temp = bank_passwd_file.readlines()\n",
    "    lengt_bank_passwd_file = len(temp)\n",
    "    i = 0\n",
    "    while lengt_bank_passwd_file:\n",
    "        new_line = temp[i]\n",
    "        if username in new_line:\n",
    "            print(\"An account with name \" + username + \" already exists.\\nAccount was not created.\")\n",
    "            flag = 0\n",
    "        i = i + 1\n",
    "        lengt_bank_passwd_file = lengt_bank_passwd_file - 1\n",
    "    if flag:\n",
    "        hash_password = myhash(password)\n",
    "        bank_passwd_file_one.write('\\n')\n",
    "        bank_passwd_file_one.write(username + \":\" + str(hash_password) + '\\n')\n",
    "        print(\"Account with name \" + username + \" was created and added to the bank.\")\n",
    "    bank_passwd_file.close()\n",
    "\n",
    "\n",
    "#register_to_bank('FreddieMercury', 'ILoveQueen')\n",
    "# register_to_bank('FreddieMercury', 'ILoveQueen')\n",
    "register_to_bank('Simba', 'ILoveNala')\n",
    "# register_to_bank('FreddieMercury', 'ILoveQueen')"
   ]
  },
  {
   "cell_type": "code",
   "execution_count": 8,
   "metadata": {},
   "outputs": [
    {
     "name": "stdout",
     "output_type": "stream",
     "text": [
      "\n",
      "Account with name FreddieMercury was created and added to the bank.\n"
     ]
    }
   ],
   "source": []
  },
  {
   "cell_type": "markdown",
   "metadata": {},
   "source": [
    "### <span style=\"text-align: right; direction: rtl; float: right; clear: both;\">מערכת הזדהות</span>"
   ]
  },
  {
   "cell_type": "markdown",
   "metadata": {},
   "source": [
    "<p style=\"text-align: right; direction: rtl; float: right; clear: both;\">\n",
    "    בעקבות השיפור במנגנון חוזק הסיסמאות, הצטרפו לקוחות רבים לבנק.<br>\n",
    "    המנהלים מרוצים וכעת רוצים שתממשו עבורם מערכת הזדהות שעובדת עם קובץ הסיסמאות.\n",
    "</p>\n",
    "\n",
    "<p style=\"text-align: right; direction: rtl; float: right; clear: both;\">\n",
    "    מערכת ההזדהות תעבוד כך:\n",
    "</p>\n",
    "\n",
    "<ul style=\"text-align: right; direction: rtl; float: right; clear: both;\">\n",
    "    <li>הלקוח יזין שם משתמש וסיסמה.\n",
    "        <ul>\n",
    "            <li>אם המשתמש לא קיים, נדפיס <samp>Account not registered</samp>, ונסיים.</li>\n",
    "            <li>אם הלקוח קיים, אך הסיסמה שהזין שגויה – יש ללקוח עוד 2 נסיונות להזין סיסמה נכונה.</li>\n",
    "        </ul>\n",
    "    </li>\n",
    "    <li>למשתמש ינתנו 3 ניסיונות בסך הכול להכניס סיסמה נכונה.\n",
    "        <ul>\n",
    "            <li>אם הזין סיסמה שגויה בשלושתם – הרשומה שלו תימחק מקובץ הסיסמאות, ויהיה עליו להירשם מחדש בעתיד.</li>\n",
    "            <li>אחרת, הזיהוי הצליח.</li>\n",
    "        </ul>\n",
    "    </li>\n",
    "</ul>\n",
    "\n",
    "<p style=\"text-align: right; direction: rtl; float: right; clear: both;\">\n",
    "    מערכת ההזדהות הינה פונקציה המקבלת שם משתמש וסיסמה.<br>\n",
    "    היא מחזירה <samp>True</samp> אם הזיהוי הצליח, ו־<samp>False</samp> אחרת.\n",
    "</p>"
   ]
  },
  {
   "cell_type": "markdown",
   "metadata": {},
   "source": [
    "#### <span style=\"text-align: right; direction: rtl; float: right; clear: both;\">דוגמאות</span>"
   ]
  },
  {
   "cell_type": "markdown",
   "metadata": {},
   "source": [
    "<p style=\"text-align: right; direction: rtl; float: right; clear: both;\">\n",
    "    תוכן קובץ הסיסמאות (לצורך הדוגמה):\n",
    "</p>\n",
    "\n",
    "<br>\n",
    "\n",
    "<samp>FreddieMercury:61875</samp><br>\n",
    "<samp>BBKing:33471</samp><br>\n",
    "<samp>DonaldDuck:17743</samp><br>\n",
    "<samp>Simba:6362</samp><br><br>\n",
    "<code>authenticate('FreddieMercury', 'ILoveQueen')</code><br>\n",
    "<samp>Wrong password (1/3).  # myhash('ILoveQueen') = 99597 != 61875 (in password file)</samp><br><br>\n",
    "<code>authenticate('FreddieMercury', 'LetItBe')</code><br>\n",
    "<samp>Wrong password (2/3).  # myhash('LetItBe') = 58060 != 61875 (in password file)</samp><br><br>\n",
    "<code>authenticate('FreddieMercury', 'HeyJude')</code><br>\n",
    "<samp>Wrong password (3/3). 'FreddieMercury' was removed.  # myhash('HeyJude') = 8309 != 61875 (in password file)</samp><br><br>\n",
    "<code>authenticate('FreddieMercury', 'IHatePasswords!')</code><br>\n",
    "<samp>Account not registered.  # FreddieMercury was removed in the previous example</samp><br><br>\n",
    "\n",
    "<code>authenticate('Simba', 'ILoveNala')</code><br>\n",
    "<samp>Welcome 'Simba'.  # myhash('ILoveNala') = 6362 == 6362 (in password file)</samp><br><br>\n",
    "\n",
    "<p style=\"text-align: right; direction: rtl; float: right; clear: both;\">\n",
    "    תוכן קובץ הסיסמאות כעת:\n",
    "</p>\n",
    "\n",
    "<br>\n",
    "\n",
    "<samp>BBKing:19463</samp><br>\n",
    "<samp>DonaldDuck:17743</samp><br>\n",
    "<samp>Simba:6362</samp><br>"
   ]
  },
  {
   "cell_type": "markdown",
   "metadata": {},
   "source": [
    "#### <span style=\"text-align: right; direction: rtl; float: right; clear: both;\">תרגול</span>"
   ]
  },
  {
   "cell_type": "markdown",
   "metadata": {},
   "source": [
    "<p style=\"text-align: right; direction: rtl; float: right; clear: both;\">\n",
    "    ממשו את מערכת ההזדהות.\n",
    "</p>"
   ]
  },
  {
   "cell_type": "code",
   "execution_count": 10,
   "metadata": {},
   "outputs": [
    {
     "name": "stdout",
     "output_type": "stream",
     "text": [
      "welcome Simba. # myhash(ILoveNala) = 6362 == 6362 (in password file)\n"
     ]
    },
    {
     "data": {
      "text/plain": [
       "True"
      ]
     },
     "execution_count": 10,
     "metadata": {},
     "output_type": "execute_result"
    }
   ],
   "source": [
    "# Upload 51\n",
    "VAR = 397643\n",
    "NUM = 100297\n",
    "\n",
    "\n",
    "def myhash(string_hash):\n",
    "    length_string_hash = len(string_hash)\n",
    "    temp_hash = 1\n",
    "    i = 0\n",
    "    j = 1\n",
    "    while length_string_hash:\n",
    "        temp_hash = (temp_hash * ord(string_hash[i]) * j) % VAR\n",
    "        length_string_hash = length_string_hash - 1\n",
    "        i = i + 1\n",
    "        j = j + 1\n",
    "    return temp_hash % NUM\n",
    "\n",
    "\n",
    "# ממשו את פונקציית הרישום כאן register_to_bank(username,password)\n",
    "def register_to_bank(username, password):\n",
    "    flag = 1\n",
    "    bank_passwd_file = open('resources/bank_passwd.txt', 'r')\n",
    "    bank_passwd_file_one = open('resources/bank_passwd.txt', 'a+')\n",
    "    temp = bank_passwd_file.readlines()\n",
    "    lengt_bank_passwd_file = len(temp)\n",
    "    i = 0\n",
    "    while lengt_bank_passwd_file:\n",
    "        new_line = temp[i]\n",
    "        if username in new_line:\n",
    "            print(\"An account with name \" + username + \" already exists.\\nAccount was not created.\")\n",
    "            flag = 0\n",
    "        i = i + 1\n",
    "        lengt_bank_passwd_file = lengt_bank_passwd_file - 1\n",
    "    if flag:\n",
    "        hash_password = myhash(password)\n",
    "        bank_passwd_file_one.write('\\n')\n",
    "        bank_passwd_file_one.write(username + \":\" + str(hash_password) + '\\n')\n",
    "        print(\"Account with name \" + username + \" was created and added to the bank.\")\n",
    "    bank_passwd_file.close()\n",
    "#########################################################################################################\n",
    "# authenticate(username,password)\n",
    "#########################################################################################################\n",
    "\n",
    "\n",
    "def authenticate(username, password):\n",
    "    bank_passwd_file = open('resources/bank_passwd.txt', 'r')\n",
    "    temp = bank_passwd_file.read()\n",
    "    bank_passwd_file.seek(0)\n",
    "    temp_lines = bank_passwd_file.readlines()\n",
    "    length_bank_passwd_file = len(temp_lines)\n",
    "    temp_new_lines = temp_lines\n",
    "    length_bank_passwd_file_new = length_bank_passwd_file\n",
    "    i = 0\n",
    "    string_new = username + ':' + str(myhash(password))\n",
    "    if username not in temp:\n",
    "        print('Account not registered')\n",
    "        bank_passwd_file.close()\n",
    "        return False\n",
    "    elif string_new in temp:\n",
    "        print('welcome ' + username + '. # myhash(' + password + ') = ' + str(myhash(password)) + ' == ' + str(myhash(password)) + ' (in password file)')\n",
    "        bank_passwd_file.close()\n",
    "        return True\n",
    "    else:\n",
    "        while length_bank_passwd_file:\n",
    "            line = temp_lines[i]\n",
    "            line = line.split(':')\n",
    "            if username in line[0]:\n",
    "                line[1] = line[1].strip()\n",
    "                if password not in line[1]:\n",
    "                    print('wrong password (1/3). # myhash(' + password + ') = ' + str(myhash(password)) + ' != ' + line[1] + ' (in password file)')\n",
    "                    password = input('plese enter password: ')\n",
    "                    if str(myhash(password)) not in line[1]:\n",
    "                        print('wrong password (2/3). # myhash(' + password + ') = ' + str(myhash(password)) + ' != ' + line[1] + ' (in password file)')\n",
    "                        password = input('plese enter password: ')\n",
    "                        if str(myhash(password)) not in line[1]:\n",
    "                            print('wrong password (3/3). #' + username + ' was removed # myhash(' + password + ') = ' + str(myhash(password)) + ' != ' + line[1] + ' (in password file)')\n",
    "                            bank_passwd_file_new = open('resources/bank_passwd.txt', 'w')\n",
    "                            j = 0\n",
    "                            while length_bank_passwd_file_new:\n",
    "                                line_new = temp_new_lines[j]\n",
    "                                line = line_new.split(':')\n",
    "                                if username not in line[0]:\n",
    "                                    bank_passwd_file_new.write(line_new)\n",
    "                                j = j + 1\n",
    "                                length_bank_passwd_file_new = length_bank_passwd_file_new - 1\n",
    "                            bank_passwd_file.close()\n",
    "                            bank_passwd_file_new.close()\n",
    "                            return False\n",
    "                        else:\n",
    "                            print('welcome ' + username + '. # myhash(' + password + ') = ' + str(myhash(password)) + ' == ' + str(myhash(password)) + ' (in password file)')\n",
    "                            bank_passwd_file.close()\n",
    "                            return True\n",
    "                    else:\n",
    "                        print('welcome ' + username + '. # myhash(' + password + ') = ' + str(myhash(password)) + ' == ' + str(myhash(password)) + ' (in password file)')\n",
    "                        bank_passwd_file.close()\n",
    "                        return True\n",
    "                else:\n",
    "                    print('welcome ' + username + '. # myhash(' + password + ') = ' + str(myhash(password)) + ' == ' + str(myhash(password)) + ' (in password file)')\n",
    "                    bank_passwd_file.close()\n",
    "                    return True\n",
    "            length_bank_passwd_file = length_bank_passwd_file - 1\n",
    "            i = i + 1\n",
    "\n",
    "\n",
    "def attempts_func():\n",
    "    username = input(\"Please enter your username: \")\n",
    "    password = input(\"Please enter your password: \")\n",
    "    res = authenticate(username, password)\n",
    "    if res:\n",
    "        return True\n",
    "    else:\n",
    "        return False\n",
    "\n",
    "\n",
    "attempts_func()\n"
   ]
  },
  {
   "cell_type": "code",
   "execution_count": 14,
   "metadata": {},
   "outputs": [
    {
     "name": "stdout",
     "output_type": "stream",
     "text": [
      "Please enter your username: Simba\n",
      "Please enter your password: ILoveNal\n",
      "wrong password (1/3). # myhash(ILoveNal) = 76896 != 6362 (in password file)\n",
      "plese enter password: ILoveNal\n",
      "wrong password (2/3). # myhash(ILoveNal) = 76896 != 6362 (in password file)\n",
      "plese enter password: ILoveNal\n",
      "wrong password (3/3). #Simba was removed # myhash(ILoveNal) = 76896 != 6362 (in password file)\n"
     ]
    },
    {
     "data": {
      "text/plain": [
       "False"
      ]
     },
     "execution_count": 14,
     "metadata": {},
     "output_type": "execute_result"
    }
   ],
   "source": [
    "def attempts_func():\n",
    "    username = input(\"Please enter your username: \")\n",
    "    password = input(\"Please enter your password: \")\n",
    "    res = authenticate(username,password)\n",
    "    if res:\n",
    "        return True\n",
    "    else:\n",
    "        return False\n",
    "attempts_func()"
   ]
  },
  {
   "cell_type": "code",
   "execution_count": null,
   "metadata": {},
   "outputs": [],
   "source": [
    "ILoveNala"
   ]
  }
 ],
 "metadata": {
  "kernelspec": {
   "display_name": "Python 3",
   "language": "python",
   "name": "python3"
  },
  "language_info": {
   "codemirror_mode": {
    "name": "ipython",
    "version": 3
   },
   "file_extension": ".py",
   "mimetype": "text/x-python",
   "name": "python",
   "nbconvert_exporter": "python",
   "pygments_lexer": "ipython3",
   "version": "3.7.6"
  }
 },
 "nbformat": 4,
 "nbformat_minor": 2
}
