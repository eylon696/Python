{
 "cells": [
  {
   "cell_type": "code",
   "execution_count": null,
   "metadata": {},
   "outputs": [],
   "source": [
    "def the_decoder_of_the_code(num):\n",
    "    if (val==4) or (val==8) or (val==1) or (val==2):\n",
    "        print(num)\n",
    "    else:\n",
    "        print(\"try again\")\n",
    "\n",
    "\n",
    "num = int(input(\"Please number: \"))\n",
    "the_decoder_of_the_code(num) \n",
    "  "
   ]
  }
 ],
 "metadata": {
  "kernelspec": {
   "display_name": "Python 3",
   "language": "python",
   "name": "python3"
  },
  "language_info": {
   "codemirror_mode": {
    "name": "ipython",
    "version": 3
   },
   "file_extension": ".py",
   "mimetype": "text/x-python",
   "name": "python",
   "nbconvert_exporter": "python",
   "pygments_lexer": "ipython3",
   "version": "3.7.6"
  }
 },
 "nbformat": 4,
 "nbformat_minor": 4
}
