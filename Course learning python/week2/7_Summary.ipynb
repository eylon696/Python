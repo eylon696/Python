{
 "cells": [
  {
   "cell_type": "markdown",
   "metadata": {},
   "source": [
    "<img src=\"images/logo.jpg\" style=\"display: block; margin-left: auto; margin-right: auto;\" alt=\"לוגו של מיזם לימוד הפייתון. נחש מצויר בצבעי צהוב וכחול, הנע בין האותיות של שם הקורס: לומדים פייתון. הסלוגן המופיע מעל לשם הקורס הוא מיזם חינמי ללימוד תכנות בעברית.\">"
   ]
  },
  {
   "cell_type": "markdown",
   "metadata": {},
   "source": [
    "# <p style=\"text-align:right;direction:rtl\">תרגילים</p>"
   ]
  },
  {
   "cell_type": "markdown",
   "metadata": {},
   "source": [
    "## <p style=\"text-align:right;direction:rtl;\">מערכת בנק</p>"
   ]
  },
  {
   "cell_type": "markdown",
   "metadata": {},
   "source": [
    "<p style=\"text-align:right; direction:rtl;\">\n",
    "בתרגיל הזה נכתוב מערכת מעט חכמה יותר לבנק.<br>\n",
    "    נבנה אותה בשלבים באמצעות חלוקה לפונקציות.<br>\n",
    "בשלב הראשון נבנה פונקציה למחולל סיסמאות, שמקבלת שם משתמש ומחזירה סיסמה.<br>\n",
    "הסיסמה תורכב כך עבור שם משתמש נתון:<br>\n",
    "\n",
    "<ul style=\"text-align:right; direction:rtl;\"><li>שם המשתמש באותיות קטנות ומייד אחריו שם המשתמש באותיות גדולות.\n",
    "    </li><li>הוספת האות <em>\"X\"</em> מימין לשם המשתמש, כמספר האותיות בשם המשתמש.</li></ul>\n",
    "</p>\n",
    "<p style=\"text-align:right;direction:rtl;\">שימו לב כי שם המשתמש יכול לכלול ספרות וסימנים, נוסף על אותיות.<br>\n",
    "    כמו כן, לא נאפשר שם משתמש שהוא מחרוזת ריקה. במקרה זה החזירו מחרוזת ריקה.<br>\n",
    "    <br> לדוגמה, עבור שם המשתמש <em>'stam'</em> המחולל יחזיר את הסיסמה: <samp>'stamSTAMXXXX'</samp><br>הריצו את הפונקציה על 4 דוגמאות נוספות לפחות, באורכים שונים, ובדקו שקיבלתם פלט כמצופה.</p>"
   ]
  },
  {
   "cell_type": "code",
   "execution_count": 2,
   "metadata": {},
   "outputs": [
    {
     "data": {
      "text/plain": [
       "'stamSTAMXXXX'"
      ]
     },
     "execution_count": 2,
     "metadata": {},
     "output_type": "execute_result"
    }
   ],
   "source": [
    "# כתבו את הפונקציה שלכם כאן\n",
    "def password_generator(user_name):\n",
    "    password = user_name.lower()\n",
    "    password = password + password.upper()\n",
    "    password = password + 'X'*len(user_name)\n",
    "    return password\n",
    "\n",
    "password_generator('stam')   "
   ]
  },
  {
   "cell_type": "markdown",
   "metadata": {},
   "source": [
    "<p style=\"text-align:right;direction:rtl;\">הריצו את הפונקציה כך: <code>password_generator('stam')</code>"
   ]
  },
  {
   "cell_type": "markdown",
   "metadata": {},
   "source": [
    "<p style=\"text-align:right;direction:rtl;\">כעת נקבל שם משתמש וסיסמה, ונבדוק אם השילוב הוא נכון. בדקו באמצעות מחולל הסיסמאות מהסעיף הקודם אם הסיסמה של המשתמש תואמת את הסיסמה שיוצר המחולל. הדפיסו \"ברוך הבא\" אם הסיסמה נכונה, אחרת הדפיסו \"סיסמה שגויה\".</p>\n",
    "<code>login('stam', 'stamSTAMXXXX')</code><br><samp>Welcome stam!</samp><br><br><code>login('stam', 'mats')</code><br><samp>Wrong Password!</samp>"
   ]
  },
  {
   "cell_type": "code",
   "execution_count": 3,
   "metadata": {},
   "outputs": [
    {
     "name": "stdout",
     "output_type": "stream",
     "text": [
      "Welcome stam!\n",
      "Wrong Password!\n"
     ]
    }
   ],
   "source": [
    "# כתבו את הפונקציה שלכם כאן\n",
    "def login(user_name,password):\n",
    "    if password_generator(user_name)==password:\n",
    "        print(\"Welcome stam!\")\n",
    "    else:\n",
    "        print(\"Wrong Password!\")\n",
    "    \n",
    "    \n",
    "login('stam', 'stamSTAMXXXX')\n",
    "login('stam', 'mats')"
   ]
  },
  {
   "cell_type": "markdown",
   "metadata": {},
   "source": [
    "<p style=\"text-align:right;direction:rtl;\">כתבו פונקציה שמחזירה <code>True</code>\n",
    "    אם בוצע חיבור מוצלח, אחרת החזירו <code>False</code>.<br>\n",
    "פונקציה זו דומה מאוד לפונקציה הקודמת שכתבתם, רק שהיא אינה מדפיסה דבר.<br> במקום ההדפסה יוחזר ערך בוליאני מתאים.<br>לדוגמה:<br></p><br><code>login('stam', stamSTAMXXXX')</code><br><samp>True</samp><br><code>login('stam', 'mats')</code><br><samp>False</samp><br>"
   ]
  },
  {
   "cell_type": "code",
   "execution_count": 4,
   "metadata": {},
   "outputs": [
    {
     "name": "stdout",
     "output_type": "stream",
     "text": [
      "True\n",
      "False\n"
     ]
    }
   ],
   "source": [
    "# כתבו את הפונקציה שלכם כאן\n",
    "def login_connection(user_name,password):\n",
    "    if password_generator(user_name)==password:\n",
    "        return True\n",
    "    else:\n",
    "        return False\n",
    "    \n",
    "    \n",
    "print(login_connection('stam', 'stamSTAMXXXX'))\n",
    "print(login_connection('stam', 'mats'))"
   ]
  },
  {
   "cell_type": "markdown",
   "metadata": {},
   "source": [
    "<p style=\"text-align:right;direction:rtl;\">\n",
    " כעת ענו על השאלה הקודמת באמצעות הפונקציה שכתבתם בסעיף זה, כלומר כתבו פונקציה שמשתמשת בפונקציה המחזירה ערך בוליאני ומדפיסה בהתאם להוראת מהסעיף הקודם.<br>רמז: <span style=\"direction: rtl; background: #000; text: #000\">השתמשו בערך ההחזרה של הפונקציה מהסעיף הקודם, בתוך if.</span></p>\n"
   ]
  },
  {
   "cell_type": "code",
   "execution_count": 5,
   "metadata": {},
   "outputs": [
    {
     "name": "stdout",
     "output_type": "stream",
     "text": [
      "Login succeeded. How much you'd like to withdraw?\n",
      "Login failed.\n"
     ]
    }
   ],
   "source": [
    "# כתבו את הפונקציה שלכם כאן\n",
    "def print_the_answer(user_name,password):\n",
    "    if login_connection(user_name,password):\n",
    "        print(\"Login succeeded. How much you'd like to withdraw?\")\n",
    "    else:\n",
    "        print(\"Login failed.\")\n",
    "\n",
    "        \n",
    "print_the_answer('stam', 'stamSTAMXXXX')\n",
    "print_the_answer('stam', 'mats')"
   ]
  },
  {
   "cell_type": "markdown",
   "metadata": {},
   "source": [
    "<p style=\"text-align:right;direction:rtl;\">כעת נרחיב את מערכת הבנק שלנו.<br>\n",
    "    נניח כי לכל לקוח יש בחשבון הבנק 500 ש\"ח.<br>\n",
    "    באמצעות הפוקנציות הקודמות שכתבנו נממש את התוכנית הבאה:<br>\n",
    "<ul style=\"text-align:right; direction:rtl;\">\n",
    "    <li>נבקש מהמשתמש שם משתמש וסיסמה.</li>\n",
    "    <li>נאמת את שם המשתמש והסיסמה בעזרת מחולל הסיסמאות. אם האימות הצליח נדפיס: \n",
    "        <samp> ?Login succeeded. How much you'd like to withdraw </samp><br>\n",
    "        אחרת נדפיס: <samp>.Login failed</samp></li>\n",
    "    <li>כיון שלמשתמש יש 500 ש\"ח בחשבון, עלינו לוודא שסכום המשיכה אינו גבוה מ־500 ש\"ח. אם הסכום אכן גבוה מ־500 ש\"ח נדפיס: \n",
    "        <samp>.Withdrawal denied</samp></li>\n",
    "    <li>כמו כן, עלינו לוודא כי הסכום אינו שלילי או 0. במקרה זה נדפיס: \n",
    "        <samp>.Invalid amount</samp></li>\n",
    "    <li>אם הסכום חוקי, נדפיס: \n",
    "        <samp>.(Please take your money (amount asked). Your balance is: (amount left in balance</samp></li>\n",
    "</ul>\n",
    "</p>"
   ]
  },
  {
   "cell_type": "markdown",
   "metadata": {},
   "source": [
    "<p style=\"text-align:right;direction:rtl\">ציירו תחילה על דף תרשים זרימה של הקוד – תרשים מעויינים ללא קוד.\n",
    "זה יעזור לכם במימוש.</p"
   ]
  },
  {
   "cell_type": "code",
   "execution_count": 48,
   "metadata": {},
   "outputs": [],
   "source": [
    "YOUR_MONEY = 500\n",
    "def check_if_the_Withdrawal_is_correct(Withdrawal):\n",
    "    if Withdrawal>500:\n",
    "        print(\"Withdrawal denied.\")\n",
    "    elif Withdrawal<=0:\n",
    "        print(\"Invalid amount.\")\n",
    "    else:\n",
    "        print(\"Please take your money (\" + str(Withdrawal) + \"NIS). Your balance is: \" + str((YOUR_MONEY-Withdrawal)) + \"NIS.\" )\n"
   ]
  },
  {
   "cell_type": "code",
   "execution_count": 49,
   "metadata": {},
   "outputs": [
    {
     "name": "stdout",
     "output_type": "stream",
     "text": [
      "Insert username: stam\n",
      "Insert password: stamSTAMXXXX\n",
      "Login succeeded. How much you'd like to withdraw?\n",
      "200\n",
      "Please take your money (200NIS). Your balance is: 300NIS.\n"
     ]
    }
   ],
   "source": [
    "user_name = input(\"Insert username: \")\n",
    "password = input(\"Insert password: \")\n",
    "print_the_answer(user_name,password)\n",
    "if login_connection(user_name,password):\n",
    "    Withdrawal = int(input(\"\"))\n",
    "    check_if_the_Withdrawal_is_correct(Withdrawal)"
   ]
  },
  {
   "cell_type": "markdown",
   "metadata": {},
   "source": [
    "### <p style=\"text-align: right; direction: rtl; float: right; clear: both;\">דוגמאות:</p>"
   ]
  },
  {
   "cell_type": "markdown",
   "metadata": {},
   "source": [
    "<p style=\"text-align: left; direction: ltr; float: left; clear: both;\">\n",
    "    Insert username: <samp>stam</samp><br>\n",
    "    Insert password: <samp>stamSTAMXXXX</samp><br>\n",
    "    Login succeeded. How much you'd like to withdraw? <samp>200</samp><br>\n",
    "    Please take your money (200NIS). Your balance is: 300NIS.\n",
    "</p>"
   ]
  },
  {
   "cell_type": "markdown",
   "metadata": {},
   "source": [
    "<p style=\"text-align: right; direction: rtl; float: right; clear: both;\">\n",
    "    דוגמה לסיסמה שגויה:\n",
    "</p>\n",
    "<p style=\"text-align: left; direction: ltr; float: left; clear: both;\">\n",
    "    Insert username: <samp>stam</samp><br>\n",
    "    Insert password: <samp>mats</samp><br>\n",
    "    Login failed.\n",
    "</p>"
   ]
  },
  {
   "cell_type": "markdown",
   "metadata": {},
   "source": [
    "<p style=\"text-align: right; direction: rtl; float: right; clear: both;\">\n",
    "    דוגמה למשיכה לא חוקית:\n",
    "</p>\n",
    "\n",
    "<p style=\"text-align: left; direction: ltr; float: left; clear: both;\">\n",
    "    Insert username: <samp>stam</samp><br>\n",
    "    Insert password: <samp>stamSTAMXXXX</samp><br>\n",
    "    Login succeeded. How much you'd like to withdraw? <samp>600</samp><br>\n",
    "    Withdrawal denied.\n",
    "</p>"
   ]
  },
  {
   "cell_type": "markdown",
   "metadata": {},
   "source": [
    "<p style=\"text-align:right;direction:rtl;\">דוגמה למשיכה של 0 ש\"ח:</p>\n",
    "\n",
    "<p style=\"text-align: left; direction: ltr; float: left; clear: both;\">\n",
    "    Insert username: <samp>stam</samp><br>\n",
    "    Insert password: <samp>stamSTAMXXXX</samp><br>\n",
    "    Login succeeded. How much you'd like to withdraw? <samp>0</samp><br>\n",
    "    Invalid amount.\n",
    "</p>"
   ]
  },
  {
   "cell_type": "code",
   "execution_count": 5,
   "metadata": {},
   "outputs": [
    {
     "name": "stdout",
     "output_type": "stream",
     "text": [
      "Insert username: stam\n",
      "Insert password: mast\n",
      "['stam', 'mast']\n",
      "You are not a customer of the bank\n"
     ]
    }
   ],
   "source": [
    "YOUR_MONEY = 500\n",
    "\n",
    "def password_generator(user_name):\n",
    "    password = user_name.lower()\n",
    "    password = password + password.upper()\n",
    "    password = password + 'X'*len(user_name)\n",
    "    return password\n",
    "\n",
    "def login_connection(user_name,password):\n",
    "    if password_generator(user_name)==password:\n",
    "        return True\n",
    "    else:\n",
    "        return False\n",
    "    \n",
    "def print_the_answer(user_name,password):\n",
    "    if login_connection(user_name,password):\n",
    "        print(\"Login succeeded. How much you'd like to withdraw?\")\n",
    "    else:\n",
    "        print(\"Login failed.\")\n",
    "        \n",
    "def check_if_the_Withdrawal_is_correct(Withdrawal):\n",
    "    if Withdrawal>500:\n",
    "        print(\"Withdrawal denied.\")\n",
    "    elif Withdrawal<=0:\n",
    "        print(\"Invalid amount.\")\n",
    "    else:\n",
    "        print(\"Please take your money (\" + str(Withdrawal) + \"NIS). Your balance is: \" + str((YOUR_MONEY-Withdrawal)) + \"NIS.\" )\n",
    "\n",
    "def just_this_pepole_authorized(user_pass,list_of_authorized_people):\n",
    "    if (user_pass in list_of_authorized_people):\n",
    "        return True\n",
    "    return False\n",
    "\n",
    "\n",
    "list_of_authorized_people=[['stam','stamSTAMXXXX'],['eylon','eylonEYLONXXXXX']]\n",
    "user_name = input(\"Insert username: \")\n",
    "password = input(\"Insert password: \")\n",
    "user_pass = []\n",
    "user_pass.append(user_name)\n",
    "user_pass.append(password)\n",
    "if just_this_pepole_authorized(user_pass,list_of_authorized_people):\n",
    "    print(\"You are in the list of the bank\")\n",
    "    print_the_answer(user_name,password)\n",
    "    Withdrawal = int(input(\"\"))\n",
    "    check_if_the_Withdrawal_is_correct(Withdrawal)\n",
    "else:\n",
    "    print(\"You are not a customer of the bank\")"
   ]
  },
  {
   "cell_type": "code",
   "execution_count": 3,
   "metadata": {},
   "outputs": [
    {
     "name": "stdout",
     "output_type": "stream",
     "text": [
      "Insert username: d\n",
      "Insert password: d\n",
      "You are not a customer of the bank\n"
     ]
    }
   ],
   "source": [
    "\n",
    "\n",
    "YOUR_MONEY = 500\n",
    "\n",
    "def password_generator(user_name):\n",
    "    password = user_name.lower()\n",
    "    password = password + password.upper()\n",
    "    password = password + 'X'*len(user_name)\n",
    "    return password\n",
    "\n",
    "def login_connection(user_name,password):\n",
    "    if password_generator(user_name)==password:\n",
    "        return True\n",
    "    else:\n",
    "        return False\n",
    "    \n",
    "def print_the_answer(user_name,password):\n",
    "    if login_connection(user_name,password):\n",
    "        print(\"Login succeeded. How much you'd like to withdraw?\")\n",
    "    else:\n",
    "        print(\"Login failed.\")\n",
    "        \n",
    "def check_if_the_Withdrawal_is_correct(Withdrawal):\n",
    "    if Withdrawal>500:\n",
    "        print(\"Withdrawal denied.\")\n",
    "    elif Withdrawal<=0:\n",
    "        print(\"Invalid amount.\")\n",
    "    else:\n",
    "        print(\"Please take your money (\" + str(Withdrawal) + \"NIS). Your balance is: \" + str((YOUR_MONEY-Withdrawal)) + \"NIS.\" )\n",
    "\n",
    "def just_this_pepole_authorized(user,passw,list_of_authorized_people):\n",
    "    if ((user in list_of_authorized_people[0]) and (passw in list_of_authorized_people[0])) or ((user in list_of_authorized_people[1]) and (passw in list_of_authorized_people[1])):\n",
    "        return True\n",
    "    return False\n",
    "\n",
    "\n",
    "list_of_authorized_people = [['stam','stamSTAMXXXX'],['eylon','eylonEYLONXXXXX']]\n",
    "user_name = input(\"Insert username: \")\n",
    "password = input(\"Insert password: \")\n",
    "#user_pass = \"['\" + user_name + \"', \" + \"'\"+password+\"']\"\n",
    "if just_this_pepole_authorized(user_name,password,list_of_authorized_people):\n",
    "    print(\"You are in the list of the bank\")\n",
    "    print_the_answer(user_name,password)\n",
    "    Withdrawal = int(input(\"\"))\n",
    "    check_if_the_Withdrawal_is_correct(Withdrawal)\n",
    "else:\n",
    "    print(\"You are not a customer of the bank\")\n"
   ]
  },
  {
   "cell_type": "markdown",
   "metadata": {},
   "source": [
    "<p style=\"text-align: right; direction: rtl; float: right; clear: both;\">\n",
    "    לאחרונה עלתה דרישה לשכלל את הבנק שלנו, כך שרק מספר מצומצם של לקוחות יוכלו לגשת לבנק.<br>\n",
    "    הגדירו רשימה של שמות של לקוחות שעבורם יתאפשר החיבור.<br>\n",
    "    עבור לקוחות שאינם ברשימה יכתוב הבנק <samp>You are not a customer of the bank</samp>.\n",
    "</p>"
   ]
  },
  {
   "cell_type": "code",
   "execution_count": 9,
   "metadata": {},
   "outputs": [
    {
     "name": "stdout",
     "output_type": "stream",
     "text": [
      "Insert username: stam\n",
      "Insert password: mast\n",
      "You are not a customer of the bank\n"
     ]
    }
   ],
   "source": [
    "# Upload 32\n",
    "YOUR_MONEY = 500\n",
    "\n",
    "\n",
    "def password_generator(user_name):\n",
    "    password = user_name.lower()\n",
    "    password = password + password.upper()\n",
    "    password = password + ('X' * len(user_name))\n",
    "    return password\n",
    "\n",
    "\n",
    "def login_connection(user_name, password):\n",
    "    if password_generator(user_name) == password:\n",
    "        return True\n",
    "    else:\n",
    "        return False\n",
    "\n",
    "\n",
    "def print_the_answer(user_name, password):\n",
    "    if login_connection(user_name, password):\n",
    "        print(\"Login succeeded. How much you'd like to withdraw?\")\n",
    "    else:\n",
    "        print(\"Login failed.\")\n",
    "\n",
    "\n",
    "def check_if_the_Withdrawal_is_correct(Withdrawal):\n",
    "    if Withdrawal > 500:\n",
    "        print(\"Withdrawal denied.\")\n",
    "    elif Withdrawal <= 0:\n",
    "        print(\"Invalid amount.\")\n",
    "    else:\n",
    "        print(\"Please take your money (\" + str(Withdrawal) + \"NIS). Your balance is: \" + str((YOUR_MONEY - Withdrawal)) + \"NIS.\")\n",
    "\n",
    "\n",
    "def just_this_pepole_authorized(user_pass, list_of_authorized_people):\n",
    "    if (user_pass in list_of_authorized_people):\n",
    "        return True\n",
    "    return False\n",
    "\n",
    "\n",
    "list_of_authorized_people = [['stam', 'stamSTAMXXXX'], ['eylon', 'eylonEYLONXXXXX']]\n",
    "user_name = input(\"Insert username: \")\n",
    "password = input(\"Insert password: \")\n",
    "user_pass = []\n",
    "user_pass.append(user_name)\n",
    "user_pass.append(password)\n",
    "if just_this_pepole_authorized(user_pass, list_of_authorized_people):\n",
    "    print_the_answer(user_name, password)\n",
    "    Withdrawal = int(input(\"\"))\n",
    "    check_if_the_Withdrawal_is_correct(Withdrawal)\n",
    "else:\n",
    "    print(\"You are not a customer of the bank\")\n"
   ]
  },
  {
   "cell_type": "markdown",
   "metadata": {},
   "source": [
    "## <p style=\"text-align:right;direction:rtl;\">מתודות של מחרוזות</p>"
   ]
  },
  {
   "cell_type": "markdown",
   "metadata": {},
   "source": [
    "<p style=\"text-align:right;direction:rtl;\"> ניזכר בכמה פעולות של מחרוזות:<br>לכל אחד מהתרגילים הבאים הריצו את הדוגמה וכתבו בעצמכם 3 דוגמאות נוספות. הסבירו לעצמכם מה עושה כל מתודה למחרוזת שהיא מקבלת.<br>\n",
    "אם תרצו להיזכר מה עושה מתודה מסוימת תוכלו להריץ אותה כך:<br></p>\n",
    "<code>str.method-name?</code>\n",
    "<p style=\"text-align:right;direction:rtl;\"> לדוגמה:<br></p>\n",
    "<code>str.split?</code><br>\n",
    "<p style=\"text-align:right;direction:rtl;\"> הריצו את התא הבא לקבלת מידע על המתודה <em>split</em>:<br></p>\n"
   ]
  },
  {
   "cell_type": "code",
   "execution_count": 13,
   "metadata": {},
   "outputs": [],
   "source": [
    "str.split?"
   ]
  },
  {
   "cell_type": "code",
   "execution_count": 24,
   "metadata": {},
   "outputs": [
    {
     "data": {
      "text/plain": [
       "['abcdef', 'ghijk', 'xyz']"
      ]
     },
     "execution_count": 24,
     "metadata": {},
     "output_type": "execute_result"
    }
   ],
   "source": [
    "\"abcdef:ghijk:xyz\".split(\":\")"
   ]
  },
  {
   "cell_type": "code",
   "execution_count": 10,
   "metadata": {},
   "outputs": [
    {
     "data": {
      "text/plain": [
       "['eylon', 'is', 'the', 'best']"
      ]
     },
     "execution_count": 10,
     "metadata": {},
     "output_type": "execute_result"
    }
   ],
   "source": [
    "# כתבו דוגמה למתודה זו\n",
    "temp = \"eylon_is_the_best\"\n",
    "temp.split(\"_\")"
   ]
  },
  {
   "cell_type": "code",
   "execution_count": 11,
   "metadata": {},
   "outputs": [
    {
     "data": {
      "text/plain": [
       "['my', 'name', 'is', 'eylon']"
      ]
     },
     "execution_count": 11,
     "metadata": {},
     "output_type": "execute_result"
    }
   ],
   "source": [
    "temp = \"my5name5is5eylon\"\n",
    "temp.split(\"5\")"
   ]
  },
  {
   "cell_type": "code",
   "execution_count": 12,
   "metadata": {},
   "outputs": [
    {
     "data": {
      "text/plain": [
       "['18', '54']"
      ]
     },
     "execution_count": 12,
     "metadata": {},
     "output_type": "execute_result"
    }
   ],
   "source": [
    "temp = \"18:54\"\n",
    "temp.split(\":\")"
   ]
  },
  {
   "cell_type": "code",
   "execution_count": 15,
   "metadata": {},
   "outputs": [
    {
     "data": {
      "text/plain": [
       "'0543'"
      ]
     },
     "execution_count": 15,
     "metadata": {},
     "output_type": "execute_result"
    }
   ],
   "source": [
    "\"543\".zfill(4)"
   ]
  },
  {
   "cell_type": "code",
   "execution_count": 17,
   "metadata": {},
   "outputs": [
    {
     "name": "stdout",
     "output_type": "stream",
     "text": [
      "01:30\n"
     ]
    }
   ],
   "source": [
    "# כתבו דוגמה למתודה זו\n",
    "temp = \"1:30\"\n",
    "temp = temp.split(\":\")\n",
    "print(temp[0].zfill(2) + \":\" + temp[1])"
   ]
  },
  {
   "cell_type": "code",
   "execution_count": 20,
   "metadata": {},
   "outputs": [
    {
     "data": {
      "text/plain": [
       "'00000'"
      ]
     },
     "execution_count": 20,
     "metadata": {},
     "output_type": "execute_result"
    }
   ],
   "source": [
    "# כתבו דוגמה למתודה זו\n",
    "temp = \"\"\n",
    "temp.zfill(5)"
   ]
  },
  {
   "cell_type": "code",
   "execution_count": 23,
   "metadata": {},
   "outputs": [
    {
     "name": "stdout",
     "output_type": "stream",
     "text": [
      "my code is contain 4 digit0123\n"
     ]
    }
   ],
   "source": [
    "temp = \"my code is contain 4 digit\"\n",
    "code = \"123\"\n",
    "print(temp + code.zfill(4))"
   ]
  },
  {
   "cell_type": "code",
   "execution_count": 16,
   "metadata": {},
   "outputs": [
    {
     "data": {
      "text/plain": [
       "'NOW I AM A LOWERCASE STRING, ONE DAY I WILL BE UPPER'"
      ]
     },
     "execution_count": 16,
     "metadata": {},
     "output_type": "execute_result"
    }
   ],
   "source": [
    "\"now i am a lowercase string, one day i will be upper\".upper()"
   ]
  },
  {
   "cell_type": "code",
   "execution_count": 26,
   "metadata": {},
   "outputs": [
    {
     "name": "stdout",
     "output_type": "stream",
     "text": [
      "enter your string: d\n"
     ]
    },
    {
     "data": {
      "text/plain": [
       "'D'"
      ]
     },
     "execution_count": 26,
     "metadata": {},
     "output_type": "execute_result"
    }
   ],
   "source": [
    "temp = input(\"enter your string: \")\n",
    "temp.upper()"
   ]
  },
  {
   "cell_type": "code",
   "execution_count": null,
   "metadata": {},
   "outputs": [],
   "source": []
  },
  {
   "cell_type": "code",
   "execution_count": null,
   "metadata": {},
   "outputs": [],
   "source": []
  },
  {
   "cell_type": "code",
   "execution_count": 17,
   "metadata": {},
   "outputs": [
    {
     "data": {
      "text/plain": [
       "'i am an uppercase string. i am afraid to be lowered!'"
      ]
     },
     "execution_count": 17,
     "metadata": {},
     "output_type": "execute_result"
    }
   ],
   "source": [
    "\"I AM AN UPPERCASE STRING. I AM AFRAID TO BE LOWERED!\".lower()"
   ]
  },
  {
   "cell_type": "code",
   "execution_count": 27,
   "metadata": {},
   "outputs": [
    {
     "name": "stdout",
     "output_type": "stream",
     "text": [
      "enter your string: D\n"
     ]
    },
    {
     "data": {
      "text/plain": [
       "'d'"
      ]
     },
     "execution_count": 27,
     "metadata": {},
     "output_type": "execute_result"
    }
   ],
   "source": [
    "temp = input(\"enter your string: \")\n",
    "temp.lower()"
   ]
  },
  {
   "cell_type": "code",
   "execution_count": null,
   "metadata": {},
   "outputs": [],
   "source": [
    "# כתבו דוגמה למתודה זו"
   ]
  },
  {
   "cell_type": "code",
   "execution_count": null,
   "metadata": {},
   "outputs": [],
   "source": [
    "# כתבו דוגמה למתודה זו"
   ]
  },
  {
   "cell_type": "code",
   "execution_count": 18,
   "metadata": {},
   "outputs": [
    {
     "data": {
      "text/plain": [
       "'wow! I am using underscore as space!'"
      ]
     },
     "execution_count": 18,
     "metadata": {},
     "output_type": "execute_result"
    }
   ],
   "source": [
    "\"wow!_I_am_using_underscore_as_space!\".replace(\"_\", \" \")"
   ]
  },
  {
   "cell_type": "code",
   "execution_count": 30,
   "metadata": {},
   "outputs": [
    {
     "name": "stdout",
     "output_type": "stream",
     "text": [
      "you are number one and me number two\n"
     ]
    }
   ],
   "source": [
    "temp = \"you are number 1 and me number 2\"\n",
    "temp = temp.replace(\"1\", \"one\")\n",
    "temp = temp.replace(\"2\", \"two\")\n",
    "print(temp)"
   ]
  },
  {
   "cell_type": "code",
   "execution_count": null,
   "metadata": {},
   "outputs": [],
   "source": []
  },
  {
   "cell_type": "code",
   "execution_count": null,
   "metadata": {},
   "outputs": [],
   "source": []
  },
  {
   "cell_type": "code",
   "execution_count": 19,
   "metadata": {},
   "outputs": [
    {
     "data": {
      "text/plain": [
       "'i need some spaceeeeeeee'"
      ]
     },
     "execution_count": 19,
     "metadata": {},
     "output_type": "execute_result"
    }
   ],
   "source": [
    "\"                    i need some spaceeeeeeee                            \".strip()"
   ]
  },
  {
   "cell_type": "code",
   "execution_count": 35,
   "metadata": {},
   "outputs": [
    {
     "data": {
      "text/plain": [
       "'i have a lot of space here'"
      ]
     },
     "execution_count": 35,
     "metadata": {},
     "output_type": "execute_result"
    }
   ],
   "source": [
    "temp = \"     i have a lot of space here       \"\n",
    "temp=temp.strip()\n",
    "temp"
   ]
  },
  {
   "cell_type": "code",
   "execution_count": null,
   "metadata": {},
   "outputs": [],
   "source": [
    "# כתבו דוגמה למתודה זו"
   ]
  },
  {
   "cell_type": "code",
   "execution_count": null,
   "metadata": {},
   "outputs": [],
   "source": [
    "# כתבו דוגמה למתודה זו"
   ]
  },
  {
   "cell_type": "code",
   "execution_count": 20,
   "metadata": {},
   "outputs": [
    {
     "data": {
      "text/plain": [
       "False"
      ]
     },
     "execution_count": 20,
     "metadata": {},
     "output_type": "execute_result"
    }
   ],
   "source": [
    "\"i^wonder&if@all##characters$in%%%this string are alpha-numeric???\".isalnum()"
   ]
  },
  {
   "cell_type": "code",
   "execution_count": 21,
   "metadata": {},
   "outputs": [
    {
     "data": {
      "text/plain": [
       "True"
      ]
     },
     "execution_count": 21,
     "metadata": {},
     "output_type": "execute_result"
    }
   ],
   "source": [
    "\"onlylettersandnumbers2342343\".isalnum()"
   ]
  },
  {
   "cell_type": "code",
   "execution_count": 39,
   "metadata": {},
   "outputs": [
    {
     "name": "stdout",
     "output_type": "stream",
     "text": [
      "True\n",
      "True\n",
      "True\n",
      "False\n"
     ]
    }
   ],
   "source": [
    "print(\"123\".isalnum())\n",
    "print(\"abc\".isalnum())\n",
    "print(\"123abc\".isalnum())\n",
    "print(\"123abc!\".isalnum())"
   ]
  },
  {
   "cell_type": "code",
   "execution_count": null,
   "metadata": {},
   "outputs": [],
   "source": [
    "# כתבו דוגמה למתודה זו"
   ]
  },
  {
   "cell_type": "code",
   "execution_count": null,
   "metadata": {},
   "outputs": [],
   "source": [
    "# כתבו דוגמה למתודה זו"
   ]
  },
  {
   "cell_type": "code",
   "execution_count": 22,
   "metadata": {},
   "outputs": [
    {
     "data": {
      "text/plain": [
       "True"
      ]
     },
     "execution_count": 22,
     "metadata": {},
     "output_type": "execute_result"
    }
   ],
   "source": [
    "\"lettersonly\".isalpha()"
   ]
  },
  {
   "cell_type": "code",
   "execution_count": 40,
   "metadata": {},
   "outputs": [
    {
     "name": "stdout",
     "output_type": "stream",
     "text": [
      "False\n",
      "True\n",
      "False\n",
      "False\n"
     ]
    }
   ],
   "source": [
    "print(\"123\".isalpha())\n",
    "print(\"abc\".isalpha())\n",
    "print(\"123abc\".isalpha())\n",
    "print(\"123abc!\".isalpha())"
   ]
  },
  {
   "cell_type": "code",
   "execution_count": null,
   "metadata": {},
   "outputs": [],
   "source": [
    "# כתבו דוגמה למתודה זו"
   ]
  },
  {
   "cell_type": "code",
   "execution_count": null,
   "metadata": {},
   "outputs": [],
   "source": [
    "# כתבו דוגמה למתודה זו"
   ]
  },
  {
   "cell_type": "code",
   "execution_count": 23,
   "metadata": {},
   "outputs": [
    {
     "data": {
      "text/plain": [
       "True"
      ]
     },
     "execution_count": 23,
     "metadata": {},
     "output_type": "execute_result"
    }
   ],
   "source": [
    "\"4535354353\".isdecimal()"
   ]
  },
  {
   "cell_type": "code",
   "execution_count": 41,
   "metadata": {},
   "outputs": [
    {
     "name": "stdout",
     "output_type": "stream",
     "text": [
      "True\n",
      "False\n",
      "False\n",
      "False\n"
     ]
    }
   ],
   "source": [
    "print(\"123\".isdecimal())\n",
    "print(\"abc\".isdecimal())\n",
    "print(\"123abc\".isdecimal())\n",
    "print(\"123abc!\".isdecimal())"
   ]
  },
  {
   "cell_type": "code",
   "execution_count": null,
   "metadata": {},
   "outputs": [],
   "source": [
    "# כתבו דוגמה למתודה זו"
   ]
  },
  {
   "cell_type": "code",
   "execution_count": null,
   "metadata": {},
   "outputs": [],
   "source": [
    "# כתבו דוגמה למתודה זו"
   ]
  },
  {
   "cell_type": "code",
   "execution_count": null,
   "metadata": {},
   "outputs": [],
   "source": [
    "# Upload 33\n",
    "# All The Answers\n",
    "\n",
    "\n",
    "temp = \"eylon_is_the_best\"\n",
    "temp.split(\"_\")\n",
    "temp = \"my5name5is5eylon\"\n",
    "temp.split(\"5\")\n",
    "temp = \"18:54\"\n",
    "temp.split(\":\")\n",
    "temp = \"1:30\"\n",
    "temp = temp.split(\":\")\n",
    "print(temp[0].zfill(2) + \":\" + temp[1])\n",
    "temp = \"\"\n",
    "temp.zfill(5)\n",
    "temp = \"my code is contain 4 digit\"\n",
    "code = \"123\"\n",
    "print(temp + code.zfill(4))\n",
    "temp = input(\"enter your string: \")\n",
    "temp.upper()\n",
    "temp = input(\"enter your string: \")\n",
    "temp.lower()\n",
    "temp = \"you are number 1 and me number 2\"\n",
    "temp = temp.replace(\"1\", \"one\")\n",
    "temp = temp.replace(\"2\", \"two\")\n",
    "print(temp)\n",
    "temp = \"     i have a lot of space here       \"\n",
    "temp=temp.strip()\n",
    "temp\n",
    "print(\"123\".isalnum())\n",
    "print(\"abc\".isalnum())\n",
    "print(\"123abc\".isalnum())\n",
    "print(\"123abc!\".isalnum())\n",
    "print(\"123\".isalpha())\n",
    "print(\"abc\".isalpha())\n",
    "print(\"123abc\".isalpha())\n",
    "print(\"123abc!\".isalpha())\n",
    "print(\"123\".isdecimal())\n",
    "print(\"abc\".isdecimal())\n",
    "print(\"123abc\".isdecimal())\n",
    "print(\"123abc!\".isdecimal())"
   ]
  },
  {
   "cell_type": "markdown",
   "metadata": {},
   "source": [
    "## <p style=\"text-align:right;direction:rtl;\">שעון עולמי</p>"
   ]
  },
  {
   "cell_type": "markdown",
   "metadata": {},
   "source": [
    "<p style=\"text-align:right;direction:rtl;\">בשאלה זו נכתוב גרסה של שעון עולמי התומך ב־4 אזורי זמן:<br>\n",
    "\n",
    "<ul style=\"text-align: right; direction: rtl; float: right; clear: both;\">\n",
    "    <li>תל אביב – TLV</li>\n",
    "    <li>לונדון – LDN</li>\n",
    "    <li>ניו יורק – NYC</li>\n",
    "    <li>טוקיו – TYO</li>\n",
    "</ul>\n",
    "\n",
    "<p style=\"text-align: right; direction: rtl; float: right; clear: both;\">\n",
    "אם נקבל תל אביב, נחזיר את השעה בתוספת 3 שעות.<br>\n",
    "אם נקבל ניו יורק נחזיר את השעה פחות 4.<br>\n",
    "אם נקבל טוקיו נחזיר את השעה ועוד 9.<br>\n",
    "בכל מקרה אחר נחזיר את השעה כמו שקיבלנו אותה.\n",
    "</p>\n"
   ]
  },
  {
   "cell_type": "markdown",
   "metadata": {},
   "source": [
    "<p style=\"text-align:right;direction:rtl;\">השעון שלנו בתרגיל זה הוא שעון 24 שעות בפורמט HH:MM.</p>\n",
    "<p style=\"text-align:right;direction:rtl;\">תחילה, כתבו פונקציה המקבלת את השעה בפורמט HH:MM, ומקבלת את מספר השעות שיש להוסיף או להוריד מהשעה הנתונה, ומחזירה את השעה המעודכנת.</p><br>\n",
    "<code>time_shift(\"08:44\", 1)</code><br>\n",
    "<samp style=\"text-align:left;direction:ltr;\">\"09:44\"</samp><br>\n",
    "<code>time_shift(\"07:31\", -2)</code><br>\n",
    "<samp>\"05:31\"</samp>\n",
    "<p style=\"text-align:right;direction:rtl;\">כמו כן עליכם לוודא שמוכנסת שעה חוקית, ולהדפיס שגיאה אם לא:</p><br>\n",
    "<code>time_shift(\"32:12\", 4)</code><br>\n",
    "<samp>\"Invalid time inserted\"</samp>\n",
    "<p style=\"text-align:right;direction:rtl;\">נוסף לכך, עליכם לתמוך במעברים בין יממות. כלומר עליכם לבצע נכון פעולות מסוג זה:</p><br>\n",
    "<code>time_shift(\"23:30\", 2)</code><br>\n",
    "<samp>\"01:30\"</samp><br>\n",
    "<code>time_shift(\"04:13\", -5)</code><br>\n",
    "<samp>\"23:13\"</samp>"
   ]
  },
  {
   "cell_type": "code",
   "execution_count": 1,
   "metadata": {},
   "outputs": [
    {
     "name": "stdout",
     "output_type": "stream",
     "text": [
      "08:44\n",
      "07:31\n",
      "Invalid time inserted\n",
      "23:59\n",
      "01:30\n",
      "23:13\n"
     ]
    }
   ],
   "source": [
    "\n",
    "def time_shift__split_func(time):\n",
    "    hour = time.split(\":\")\n",
    "    return hour\n",
    "\n",
    "def time_shift__check_the_hour_func(time):\n",
    "    hour = time_shift__split_func(time)\n",
    "    if hour[0].isdigit() and hour[1].isdigit():\n",
    "         hour[0] = int(hour[0])\n",
    "         hour[1] = int(hour[1])\n",
    "         if (hour[0]>23) or (hour[0]<0) or (hour[1]<0) or (hour[1]>59):\n",
    "                return False\n",
    "    else:\n",
    "        return False\n",
    "   \n",
    "    return True\n",
    "    \n",
    "def time_shift__add_sub_func(time, hours_shift):\n",
    "    hour = time_shift__split_func(time)\n",
    "    if time_shift__check_the_hour_func(time):\n",
    "        new_hour = int(hour[0]) + hours_shift\n",
    "        if (new_hour<24) and (new_hour>0):\n",
    "            hour[0] = str(hour[0])\n",
    "            hour[0] = hour[0].zfill(2)\n",
    "            print(hour[0] + \":\" + hour[1])\n",
    "        elif new_hour>24:\n",
    "            temp = 24-int(hour[0])\n",
    "            hours_shift = hours_shift - temp\n",
    "            hour[0] = 0 + hours_shift\n",
    "            hour[0] = str(hour[0])\n",
    "            hour[0] = hour[0].zfill(2)\n",
    "            print(hour[0] + \":\" + hour[1])\n",
    "        else:\n",
    "            temp =  int(hour[0]) + hours_shift\n",
    "            hour[0] = 24 + temp\n",
    "            hour[0] = str(hour[0])\n",
    "            hour[0] = hour[0].zfill(2)\n",
    "            print(hour[0] + \":\" + hour[1])\n",
    "            \n",
    "    else:\n",
    "        print(\"Invalid time inserted\")\n",
    "\n",
    "time_shift__add_sub_func(\"08:44\", 1)\n",
    "time_shift__add_sub_func(\"07:31\", -2)\n",
    "time_shift__add_sub_func(\"32:12\", 4)\n",
    "time_shift__add_sub_func(\"23:59\", 0)\n",
    "time_shift__add_sub_func(\"23:30\", 2)\n",
    "time_shift__add_sub_func(\"04:13\", -5)"
   ]
  },
  {
   "cell_type": "code",
   "execution_count": null,
   "metadata": {},
   "outputs": [],
   "source": []
  },
  {
   "cell_type": "markdown",
   "metadata": {},
   "source": [
    "## <p style=\"text-align:right;direction:right;\">רמזים</p>"
   ]
  },
  {
   "cell_type": "markdown",
   "metadata": {},
   "source": [
    "<p style=\"text-align:right;direction:rtl;\">פונקציות שימושיות:\n",
    "    <span style=\"direction: rtl; background: #000; text: #000\"><br><em>split</em> – מתודה של <em>string</em>.<br>\n",
    "        האופרטור % (מודולו) – חשבו עם איזה מספר צריך לעשות מודולו.<br>\n",
    "        <em>zfill</em> – השתמשו בה במקרה שהשעה חד־ספרתית (לדוגמה 1:05 תהפוך ל־01:05) </span>\n",
    "   \n",
    "<p style=\"text-align:right;direction:rtl;\">רמזים נוספים:<br>\n",
    "    <span style=\"direction: rtl; background: #000; text: #000\">מומלץ להמיר את השעה מ־<em>string</em> ל־<em>int</em> ואז לבצע את פעולות החשבון, ולבסוף להמיר חזרה ל־<em>string</em>\n",
    "    </span>\n",
    "</p>"
   ]
  },
  {
   "cell_type": "markdown",
   "metadata": {},
   "source": [
    "<p style=\"text-align:right;direction:rtl;\"> כעת כתבו פונקציה המקבלת שני פרמטרים – שעה ואזור זמן ובאמצעות הפונקציה מהתרגיל הקודם מחזירה את השעה באזור הזמן המבוקש.\n",
    "<br>\n",
    "    לדוגמה:\n",
    "</p>\n",
    "<p style=\"text-align:left;direction:ltr;\">\n",
    "    <code>convert_to_timezone(\"10:34\", \"TLV\")</code>\n",
    "    <br>\n",
    "    <samp>\"13:34\"</samp>\n",
    "</p>"
   ]
  },
  {
   "cell_type": "raw",
   "metadata": {},
   "source": []
  },
  {
   "cell_type": "code",
   "execution_count": 2,
   "metadata": {},
   "outputs": [
    {
     "name": "stdout",
     "output_type": "stream",
     "text": [
      "13:34\n",
      "23:13\n",
      "03:00\n",
      "10:34\n",
      "Invalid time inserted\n"
     ]
    }
   ],
   "source": [
    "# Upload 34\n",
    "\n",
    "def time_shift__split_func(time):\n",
    "    hour = time.split(\":\")\n",
    "    return hour\n",
    "\n",
    "\n",
    "def time_shift__check_the_hour_func(time):\n",
    "    if time[0].isdigit() and time[1].isdigit():\n",
    "        time[0] = int(time[0])\n",
    "        time[1] = int(time[1])\n",
    "        if (time[0] > 23) or (time[0] < 0) or (time[1] < 0) or (time[1] > 59):\n",
    "            return False\n",
    "    else:\n",
    "        return False\n",
    "    return True\n",
    "\n",
    "\n",
    "def time_shift__add_sub_func(time, hours_shift):\n",
    "    hour = time_shift__split_func(time)\n",
    "    if time_shift__check_the_hour_func(hour):\n",
    "        new_hour = int(hour[0]) + hours_shift\n",
    "        if (new_hour < 24) and (new_hour > 0):\n",
    "            hour[0] = new_hour\n",
    "            hour[0] = str(hour[0])\n",
    "            hour[1] = str(hour[1])\n",
    "            hour[0] = hour[0].zfill(2)\n",
    "            hour[1] = hour[1].zfill(2)\n",
    "            print(str(hour[0]) + \":\" + str(hour[1]))\n",
    "        elif new_hour > 24:\n",
    "            temp = 24 - int(hour[0])\n",
    "            hours_shift = hours_shift - temp\n",
    "            hour[0] = 0 + hours_shift\n",
    "            hour[0] = str(hour[0])\n",
    "            hour[1] = str(hour[1])\n",
    "            hour[0] = hour[0].zfill(2)\n",
    "            hour[1] = hour[1].zfill(2)\n",
    "            print(str(hour[0]) + \":\" + str(hour[1]))\n",
    "        elif new_hour == 24:\n",
    "            hour[0] = '0'\n",
    "            hour[0] = str(hour[0])\n",
    "            hour[1] = str(hour[1])\n",
    "            hour[0] = hour[0].zfill(2)\n",
    "            hour[1] = hour[1].zfill(2)\n",
    "            print(str(hour[0]) + \":\" + str(hour[1]))\n",
    "        else:\n",
    "            temp = int(hour[0]) + hours_shift\n",
    "            hour[0] = 24 + temp\n",
    "            hour[0] = str(hour[0])\n",
    "            hour[1] = str(hour[1])\n",
    "            hour[0] = hour[0].zfill(2)\n",
    "            hour[1] = hour[1].zfill(2)\n",
    "            print(str(hour[0]) + \":\" + str(hour[1]))\n",
    "    else:\n",
    "        print(\"Invalid time inserted\")\n",
    "\n",
    "\n",
    "def convert_to_timezone_func(time, time_zone):\n",
    "    if time_zone == 'TLV':\n",
    "        time_shift__add_sub_func(time, 3)\n",
    "    elif time_zone == 'NYC':\n",
    "        time_shift__add_sub_func(time, -4)\n",
    "    elif time_zone == 'TKO':\n",
    "        time_shift__add_sub_func(time, 9)\n",
    "    else:\n",
    "        time_shift__add_sub_func(time, 0)\n",
    "\n",
    "\n",
    "convert_to_timezone_func(\"10:34\", \"TLV\")\n",
    "convert_to_timezone_func(\"03:13\", \"NYC\")\n",
    "convert_to_timezone_func(\"18:00\", \"TKO\")\n",
    "convert_to_timezone_func(\"10:34\", \"LDN\")\n",
    "convert_to_timezone_func(\"35:34\", \"MLT\")"
   ]
  },
  {
   "cell_type": "markdown",
   "metadata": {},
   "source": [
    "## <span style=\"text-align: right; direction:rtl; float: right; clear: both;\">אורכי רשימות</span>"
   ]
  },
  {
   "cell_type": "markdown",
   "metadata": {},
   "source": [
    "<p style=\"text-align: right; direction: rtl; float: right; clear: both;\">\n",
    "    כתבו תוכנית שמקבלת 2 רשימות שונות, ומדפיסה:\n",
    "</p>\n",
    "\n",
    "<ul style=\"text-align: right; direction: rtl; float: right; clear: both;\">\n",
    " <li>\"<samp>Same length</samp>\" אם הן באותו אורך.</li>\n",
    " <li>\"<samp>Not same length</samp>\" אם הן באורך שונה.</li>\n",
    " <li>\"<samp>Got empty list</samp>\" אם רשימה שקיבלנו היא באורך 0.</li>\n",
    "</ul>\n",
    "\n",
    "<p style=\"text-align: right; direction: rtl; float: right; clear: both;\">\n",
    "    לדוגמה – אם קיבלנו 2 רשימות ריקות, נדפיס:<br>\n",
    "    <samp style=\"text-align: left; direction: ltr; float: left; clear: both;\">\n",
    "        \"Got empty list\"\n",
    "        \"Got empty list\"\n",
    "        \"Same length\"\n",
    "    </samp>\n",
    "</p>"
   ]
  },
  {
   "cell_type": "code",
   "execution_count": 9,
   "metadata": {},
   "outputs": [
    {
     "name": "stdout",
     "output_type": "stream",
     "text": [
      "Got empty list\n",
      "Got empty list\n",
      "Same length\n"
     ]
    }
   ],
   "source": [
    "# Upload 35\n",
    "\n",
    "def check_lists(list_one, list_two):\n",
    "    if list_one == []:\n",
    "        print(\"Got empty list\")\n",
    "    if list_two == []:\n",
    "        print(\"Got empty list\")\n",
    "    if len(list_one) == len(list_two):\n",
    "        print(\"Same length\")\n",
    "    else:\n",
    "        print(\"Not same length\")\n",
    "\n",
    "\n",
    "check_lists([], [])"
   ]
  },
  {
   "cell_type": "markdown",
   "metadata": {},
   "source": [
    "## <span style=\"text-align: right; direction:rtl; float: right; clear: both;\">מיקומים</span>"
   ]
  },
  {
   "cell_type": "markdown",
   "metadata": {},
   "source": [
    "<p style=\"text-align: right; direction: rtl; float: right; clear: both;\">\n",
    "כתבו פונקציה שמקבלת רשימה של רשימות.<br>\n",
    "אם הרשימה החיצונית לא באורך 6, הפונקציה תדפיס <samp>Only lists of length 6 are allowed</samp>.<br>\n",
    "הפונקציה תדפיס \"<samp dir=\"ltr\">Yes!</samp>\" אם אחד מהבאים מתקיים:\n",
    "</p>\n",
    "\n",
    "<ul style=\"text-align: right; direction: rtl; float: right; clear: both;\">\n",
    "    <li>אורך הרשימה במקום ה־0 שווה לאורך הרשימה במקום ה־4</li>\n",
    "    <li>אורך הרשימה במקום ה־3 שווה לאורך הרשימה במקום ה־2 וה־1</li>\n",
    "    <li>אורך הרשימה במקום ה־5 שווה שווה לאורך הרשימה במקום ה־3</li>\n",
    "</ul>\n",
    "   \n",
    "<p style=\"text-align: right; direction: rtl; float: right; clear: both;\">\n",
    "הפונקציה תדפיס \"<samp dir=\"ltr\">Yes!</samp>\" עבור כל תנאי שמתקיים, גם אם קיים יותר מאחד כזה.<br>\n",
    "לדוגמה, עבור:<br>\n",
    "<code dir=\"ltr\" style=\"direction: ltr;\">multi = [[0], [1], [2], [3], [4], [5]]</code><br>\n",
    "כל התנאים מתקיימים, ולכן נדפיס \"<samp dir=\"ltr\">Yes!</samp>\" 3 פעמים.\n",
    "</p>\n",
    "\n",
    "<p style=\"text-align: right; direction: rtl; float: right; clear: both;\">\n",
    "כתבו לפחות 3 דוגמאות שונות שמדגימות:\n",
    "</p>\n",
    "\n",
    "<ul style=\"text-align: right; direction: rtl; float: right; clear: both;\">\n",
    "    <li>אפס הדפסות</li>\n",
    "    <li>הדפסה אחת</li>\n",
    "    <li>שתי הדפסות</li>\n",
    "    <li>שלוש הדפסות</li>\n",
    "</ul>"
   ]
  },
  {
   "cell_type": "code",
   "execution_count": 8,
   "metadata": {},
   "outputs": [
    {
     "name": "stdout",
     "output_type": "stream",
     "text": [
      "Yes!\n",
      "Yes!\n",
      "Yes!\n"
     ]
    }
   ],
   "source": [
    "# Upload 36\n",
    "\n",
    "def check_if_the_list_is_in_6_length(list_of_lists):\n",
    "    if len(list_of_lists) < 6:\n",
    "        print(\"Only lists of length 6 are allowed\")\n",
    "    else:\n",
    "        if len(list_of_lists[0]) == len(list_of_lists[4]):\n",
    "            print(\"Yes!\")\n",
    "        if len(list_of_lists[3]) == len(list_of_lists[1]) == len(list_of_lists[2]):\n",
    "            print(\"Yes!\")\n",
    "        if len(list_of_lists[5]) == len(list_of_lists[3]):\n",
    "            print(\"Yes!\")\n",
    "# check_if_the_list_is_in_6_length([[0,1],[1,2,3], [2,4,5,6], [1,3,4,5,6,7], [1,3,4,5,6,7,8], [1,3,4,5,6,7,8,9]])\n",
    "# check_if_the_list_is_in_6_length([[0,1], [1,2], [2], [3], [4], [5]])\n",
    "# check_if_the_list_is_in_6_length([[0,1], [1], [2], [3], [4], [5]])\n",
    "# check_if_the_list_is_in_6_length([[0], [1], [2], [3], [4], [5]])"
   ]
  }
 ],
 "metadata": {
  "kernelspec": {
   "display_name": "Python 3",
   "language": "python",
   "name": "python3"
  },
  "language_info": {
   "codemirror_mode": {
    "name": "ipython",
    "version": 3
   },
   "file_extension": ".py",
   "mimetype": "text/x-python",
   "name": "python",
   "nbconvert_exporter": "python",
   "pygments_lexer": "ipython3",
   "version": "3.7.6"
  }
 },
 "nbformat": 4,
 "nbformat_minor": 2
}
