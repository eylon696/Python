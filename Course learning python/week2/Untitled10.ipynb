{
 "cells": [
  {
   "cell_type": "code",
   "execution_count": 11,
   "metadata": {},
   "outputs": [
    {
     "name": "stdout",
     "output_type": "stream",
     "text": [
      "Insert username: eylon\n",
      "Insert password: eylonEYLONXXXXX\n",
      "You are in the list of the bank\n",
      "Login succeeded. How much you'd like to withdraw?\n",
      "0\n",
      "Invalid amount.\n"
     ]
    }
   ],
   "source": [
    "YOUR_MONEY = 500\n",
    "\n",
    "def password_generator(user_name):\n",
    "    password = user_name.lower()\n",
    "    password = password + password.upper()\n",
    "    password = password + 'X'*len(user_name)\n",
    "    return password\n",
    "\n",
    "def login_connection(user_name,password):\n",
    "    if password_generator(user_name)==password:\n",
    "        return True\n",
    "    else:\n",
    "        return False\n",
    "    \n",
    "def print_the_answer(user_name,password):\n",
    "    if login_connection(user_name,password):\n",
    "        print(\"Login succeeded. How much you'd like to withdraw?\")\n",
    "    else:\n",
    "        print(\"Login failed.\")\n",
    "        \n",
    "def check_if_the_Withdrawal_is_correct(Withdrawal):\n",
    "    if Withdrawal>500:\n",
    "        print(\"Withdrawal denied.\")\n",
    "    elif Withdrawal<=0:\n",
    "        print(\"Invalid amount.\")\n",
    "    else:\n",
    "        print(\"Please take your money (\" + str(Withdrawal) + \"NIS). Your balance is: \" + str((YOUR_MONEY-Withdrawal)) + \"NIS.\" )\n",
    "\n",
    "def just_this_pepole_authorized(user,passw,list_of_authorized_people):\n",
    "    if ((user in list_of_authorized_people[0]) and (passw in list_of_authorized_people[0])) or ((user in list_of_authorized_people[1]) and (passw in list_of_authorized_people[1])):\n",
    "        return True\n",
    "    return False\n",
    "\n",
    "\n",
    "list_of_authorized_people=[['stam','stamSTAMXXXX'],['eylon','eylonEYLONXXXXX']]\n",
    "user_name = input(\"Insert username: \")\n",
    "password = input(\"Insert password: \")\n",
    "#user_pass = \"['\" + user_name + \"', \" + \"'\"+password+\"']\"\n",
    "if just_this_pepole_authorized(user_name,password,list_of_authorized_people):\n",
    "    print(\"You are in the list of the bank\")\n",
    "    print_the_answer(user_name,password)\n",
    "    Withdrawal = int(input(\"\"))\n",
    "    check_if_the_Withdrawal_is_correct(Withdrawal)\n",
    "else:\n",
    "    print(\"You are not a customer of the bank\")"
   ]
  }
 ],
 "metadata": {
  "kernelspec": {
   "display_name": "Python 3",
   "language": "python",
   "name": "python3"
  },
  "language_info": {
   "codemirror_mode": {
    "name": "ipython",
    "version": 3
   },
   "file_extension": ".py",
   "mimetype": "text/x-python",
   "name": "python",
   "nbconvert_exporter": "python",
   "pygments_lexer": "ipython3",
   "version": "3.7.6"
  }
 },
 "nbformat": 4,
 "nbformat_minor": 4
}
