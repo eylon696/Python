{
 "cells": [
  {
   "cell_type": "code",
   "execution_count": null,
   "metadata": {},
   "outputs": [
    {
     "name": "stdout",
     "output_type": "stream",
     "text": [
      "Please insert the name of the book: 700\n"
     ]
    }
   ],
   "source": [
    "def check_if_the_category_is_correct(category):\n",
    "    if((category.isdigit()==True) and not(category.isdigit()==-1)):\n",
    "        print(\"User input is Number\")\n",
    "        return True\n",
    "    else:\n",
    "        print(\"Wrong Category\")\n",
    "        return False\n",
    " \n",
    "\n",
    "name_of_book = input(\"Please insert the name of the book: \")\n",
    "category = input(\"Please insert the code of the book: \")\n",
    "if check_if_the_category_is_correct(category):\n",
    "    category = category.zfill(3)\n",
    "    print(category)\n",
    "else:\n",
    "    print(\"Try again\")\n"
   ]
  }
 ],
 "metadata": {
  "kernelspec": {
   "display_name": "Python 3",
   "language": "python",
   "name": "python3"
  },
  "language_info": {
   "codemirror_mode": {
    "name": "ipython",
    "version": 3
   },
   "file_extension": ".py",
   "mimetype": "text/x-python",
   "name": "python",
   "nbconvert_exporter": "python",
   "pygments_lexer": "ipython3",
   "version": "3.7.6"
  }
 },
 "nbformat": 4,
 "nbformat_minor": 4
}
