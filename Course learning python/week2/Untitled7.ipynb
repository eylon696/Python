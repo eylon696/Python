{
 "cells": [
  {
   "cell_type": "code",
   "execution_count": 2,
   "metadata": {},
   "outputs": [
    {
     "name": "stdout",
     "output_type": "stream",
     "text": [
      "Does the user live in Python Street?... True\n",
      "Does the user live in Scotland?... False\n"
     ]
    }
   ],
   "source": [
    "address = \"Python Street 5, Hadera, Israel\"\n",
    "print(\"Does the user live in Python Street?... \" + str(address.startswith('Python Street')))\n",
    "print(\"Does the user live in Scotland?... \" + str(address.endswith('Scotland')))"
   ]
  },
  {
   "cell_type": "code",
   "execution_count": 6,
   "metadata": {},
   "outputs": [
    {
     "name": "stdout",
     "output_type": "stream",
     "text": [
      "test5.isalnum(): True\n",
      "test5.isalpha(): False\n",
      "test5.isdecimal(): False\n"
     ]
    }
   ],
   "source": [
    "test5 = \"ABC123\"\n",
    "print(\"test5.isalnum(): \" + str(test5.isalnum()))\n",
    "print(\"test5.isalpha(): \" + str(test5.isalpha()))\n",
    "print(\"test5.isdecimal(): \" + str(test5.isdecimal()))"
   ]
  }
 ],
 "metadata": {
  "kernelspec": {
   "display_name": "Python 3",
   "language": "python",
   "name": "python3"
  },
  "language_info": {
   "codemirror_mode": {
    "name": "ipython",
    "version": 3
   },
   "file_extension": ".py",
   "mimetype": "text/x-python",
   "name": "python",
   "nbconvert_exporter": "python",
   "pygments_lexer": "ipython3",
   "version": "3.7.6"
  }
 },
 "nbformat": 4,
 "nbformat_minor": 4
}
