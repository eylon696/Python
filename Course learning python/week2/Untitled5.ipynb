{
 "cells": [
  {
   "cell_type": "code",
   "execution_count": 33,
   "metadata": {},
   "outputs": [
    {
     "name": "stdout",
     "output_type": "stream",
     "text": [
      "Please enter a number with 4 digit for open the safe: 1234\n",
      "just 3 digits are correct\n",
      "Try again\n",
      "Please enter a number with 4 digit for open the safe: 4812\n",
      "Success\n"
     ]
    }
   ],
   "source": [
    "def the_decoder_of_the_code(num):\n",
    "    counter = 0\n",
    "    val = num%10\n",
    "    temp = num\n",
    "    temp = temp//10\n",
    "    if (val==4) or (val==8) or (val==1) or (val==2):\n",
    "        counter = counter+1\n",
    "    val = temp%10\n",
    "    temp=temp//10\n",
    "    if (val==4) or (val==8) or (val==1) or (val==2):\n",
    "        counter = counter+1\n",
    "    val = temp%10\n",
    "    temp = temp//10\n",
    "    if (val==4) or (val==8) or (val==1) or (val==2):\n",
    "        counter = counter+1\n",
    "    val = temp\n",
    "    if (val==4) or (val==8) or (val==1) or (val==2):\n",
    "        counter = counter+1\n",
    "    print(\"just \" + str(counter) + \" digits are correct\")\n",
    "    \n",
    "    \n",
    "def the_decoder_of_the_code_check_number(num):\n",
    "    if num==4812:\n",
    "        return True\n",
    "    return False\n",
    "\n",
    "\n",
    "num = int(input(\"Please enter a number with 4 digit for open the safe: \"))\n",
    "\n",
    "if the_decoder_of_the_code_check_number(num)==False:\n",
    "    the_decoder_of_the_code(num)\n",
    "    print(\"Try again\")\n",
    "    num = int(input(\"Please enter a number with 4 digit for open the safe: \"))\n",
    "    if the_decoder_of_the_code_check_number(num)==False:\n",
    "        the_decoder_of_the_code(num)\n",
    "        print(\"Try again\")\n",
    "        num = int(input(\"Please enter a number with 4 digit for open the safe: \"))\n",
    "        if the_decoder_of_the_code_check_number(num)==False:\n",
    "            the_decoder_of_the_code(num)\n",
    "            print(\"Try again later\")\n",
    "        else:\n",
    "            print(\"Success\")\n",
    "    else:\n",
    "        print(\"Success\")\n",
    "else:\n",
    "    print(\"Success\")"
   ]
  }
 ],
 "metadata": {
  "kernelspec": {
   "display_name": "Python 3",
   "language": "python",
   "name": "python3"
  },
  "language_info": {
   "codemirror_mode": {
    "name": "ipython",
    "version": 3
   },
   "file_extension": ".py",
   "mimetype": "text/x-python",
   "name": "python",
   "nbconvert_exporter": "python",
   "pygments_lexer": "ipython3",
   "version": "3.7.6"
  }
 },
 "nbformat": 4,
 "nbformat_minor": 4
}
